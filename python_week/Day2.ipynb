{
 "cells": [
  {
   "cell_type": "markdown",
   "metadata": {
    "jp-MarkdownHeadingCollapsed": true
   },
   "source": [
    "# Shallow copy and Deep copy"
   ]
  },
  {
   "cell_type": "code",
   "execution_count": null,
   "metadata": {},
   "outputs": [],
   "source": [
    "a = 10\n",
    "b = a\n",
    "id(a), id(b)"
   ]
  },
  {
   "cell_type": "code",
   "execution_count": null,
   "metadata": {},
   "outputs": [],
   "source": [
    "b = b+1\n",
    "a,b\n",
    "id(a), id(b)"
   ]
  },
  {
   "cell_type": "code",
   "execution_count": null,
   "metadata": {},
   "outputs": [],
   "source": [
    "a = [1,2,3,4,5]\n",
    "b = a\n",
    "a, b"
   ]
  },
  {
   "cell_type": "code",
   "execution_count": null,
   "metadata": {},
   "outputs": [],
   "source": [
    "b[0] = 100\n",
    "a,b"
   ]
  },
  {
   "cell_type": "code",
   "execution_count": null,
   "metadata": {},
   "outputs": [],
   "source": [
    "id(a),id(b)"
   ]
  },
  {
   "cell_type": "code",
   "execution_count": null,
   "metadata": {},
   "outputs": [],
   "source": [
    "a = [1,2,3,4,5]\n",
    "b = a.copy()\n",
    "a, b"
   ]
  },
  {
   "cell_type": "code",
   "execution_count": null,
   "metadata": {},
   "outputs": [],
   "source": [
    "b[0] = 100\n",
    "a,b"
   ]
  },
  {
   "cell_type": "code",
   "execution_count": null,
   "metadata": {},
   "outputs": [],
   "source": [
    "id(a), id(b)"
   ]
  },
  {
   "cell_type": "markdown",
   "metadata": {
    "jp-MarkdownHeadingCollapsed": true
   },
   "source": [
    "# Conditional Branching\n",
    "- if elif else\n"
   ]
  },
  {
   "cell_type": "markdown",
   "metadata": {},
   "source": [
    "## if-elif-else\n",
    "\n",
    "**Syntax:**\n",
    "```\n",
    "if condition:\n",
    "  ......\n",
    "  ......\n",
    "elif condition:\n",
    "  .......\n",
    "  ......\n",
    "else:\n",
    "  .....\n",
    "  .....\n",
    "\n",
    "```\n",
    "*elif and else are optional*"
   ]
  },
  {
   "cell_type": "code",
   "execution_count": 5,
   "metadata": {},
   "outputs": [
    {
     "name": "stdin",
     "output_type": "stream",
     "text": [
      "Enter the number:  0\n"
     ]
    },
    {
     "name": "stdout",
     "output_type": "stream",
     "text": [
      "Enter nonzero number\n"
     ]
    }
   ],
   "source": [
    "# WAP to print if a given number is even or odd\n",
    "\n",
    "num = int(input(\"Enter the number: \"))\n",
    "if num == 0:\n",
    "    print(\"Enter nonzero number\")\n",
    "elif num%2 == 0:\n",
    "    print(f\"{num} is even\")\n",
    "else:\n",
    "    print(f\"{num} is odd\")"
   ]
  },
  {
   "cell_type": "code",
   "execution_count": 9,
   "metadata": {},
   "outputs": [
    {
     "name": "stdin",
     "output_type": "stream",
     "text": [
      "Enter the temperature ex. 15 C or 30 F: 15 f\n"
     ]
    },
    {
     "name": "stdout",
     "output_type": "stream",
     "text": [
      "15.0 faranhiet = -9.44 celcius\n"
     ]
    }
   ],
   "source": [
    "# Write a Python program to convert temperatures to and from celsius, fahrenheit and vice versa.\n",
    "# [ Formula : c/5 = (f-32)/9 [ where c = temperature in celsius and f = temperature in fahrenheit ]\n",
    "\n",
    "templist = input(\"Enter the temperature ex. 15 C or 30 F:\").split()\n",
    "temp = float(templist[0])\n",
    "tempunit = templist[-1]\n",
    "if tempunit.lower() == 'c':\n",
    "    temp_in_faran = round(((9/5)*temp) + 32, 2)\n",
    "    print(f\"{temp} celcius = {temp_in_faran} faranhiet\")\n",
    "elif tempunit.lower() == 'f':\n",
    "    temp_in_celcius = round((5/9) * (temp -32),2)\n",
    "    print(f\"{temp} faranhiet = {temp_in_celcius} celcius\")\n",
    "else:\n",
    "    print(\"Enter valid temperature\")"
   ]
  },
  {
   "cell_type": "markdown",
   "metadata": {
    "jp-MarkdownHeadingCollapsed": true
   },
   "source": [
    "# Looping\n",
    "- while\n",
    "- for\n"
   ]
  },
  {
   "cell_type": "markdown",
   "metadata": {},
   "source": [
    "## while\n",
    "**Syntax**\n",
    "```\n",
    "while cond:\n",
    "  .....\n",
    "  .....\n",
    "\n",
    "used when you want to do a process repeatatively until a goal is achieved\n",
    "```"
   ]
  },
  {
   "cell_type": "markdown",
   "metadata": {
    "jp-MarkdownHeadingCollapsed": true
   },
   "source": [
    "## for\n",
    "**Syntax**\n",
    "```\n",
    "for par in iterable:\n",
    "  .....\n",
    "  .....\n",
    "\n",
    "used when you want to do a process repeatatively for a specific number of times\n",
    "```"
   ]
  },
  {
   "cell_type": "code",
   "execution_count": 13,
   "metadata": {},
   "outputs": [
    {
     "data": {
      "text/plain": [
       "[0, 1, 2, 3, 4]"
      ]
     },
     "execution_count": 13,
     "metadata": {},
     "output_type": "execute_result"
    }
   ],
   "source": [
    "list(range(5))"
   ]
  },
  {
   "cell_type": "code",
   "execution_count": 16,
   "metadata": {},
   "outputs": [
    {
     "data": {
      "text/plain": [
       "[3, 4, 5, 6, 7, 8, 9]"
      ]
     },
     "execution_count": 16,
     "metadata": {},
     "output_type": "execute_result"
    }
   ],
   "source": [
    "list(range(3,10))"
   ]
  },
  {
   "cell_type": "code",
   "execution_count": 17,
   "metadata": {},
   "outputs": [
    {
     "data": {
      "text/plain": [
       "[3, 5, 7, 9]"
      ]
     },
     "execution_count": 17,
     "metadata": {},
     "output_type": "execute_result"
    }
   ],
   "source": [
    "list(range(3,10, 2))"
   ]
  },
  {
   "cell_type": "code",
   "execution_count": 18,
   "metadata": {},
   "outputs": [
    {
     "data": {
      "text/plain": [
       "[]"
      ]
     },
     "execution_count": 18,
     "metadata": {},
     "output_type": "execute_result"
    }
   ],
   "source": [
    "list(range(3,10,-2))"
   ]
  },
  {
   "cell_type": "code",
   "execution_count": 19,
   "metadata": {},
   "outputs": [
    {
     "data": {
      "text/plain": [
       "[10, 8, 6, 4]"
      ]
     },
     "execution_count": 19,
     "metadata": {},
     "output_type": "execute_result"
    }
   ],
   "source": [
    "list(range(10,3,-2))"
   ]
  },
  {
   "cell_type": "code",
   "execution_count": 20,
   "metadata": {},
   "outputs": [
    {
     "data": {
      "text/plain": [
       "[]"
      ]
     },
     "execution_count": 20,
     "metadata": {},
     "output_type": "execute_result"
    }
   ],
   "source": [
    "list(range(10,3))"
   ]
  },
  {
   "cell_type": "code",
   "execution_count": 21,
   "metadata": {},
   "outputs": [
    {
     "data": {
      "text/plain": [
       "['__bool__',\n",
       " '__class__',\n",
       " '__contains__',\n",
       " '__delattr__',\n",
       " '__dir__',\n",
       " '__doc__',\n",
       " '__eq__',\n",
       " '__format__',\n",
       " '__ge__',\n",
       " '__getattribute__',\n",
       " '__getitem__',\n",
       " '__getstate__',\n",
       " '__gt__',\n",
       " '__hash__',\n",
       " '__init__',\n",
       " '__init_subclass__',\n",
       " '__iter__',\n",
       " '__le__',\n",
       " '__len__',\n",
       " '__lt__',\n",
       " '__ne__',\n",
       " '__new__',\n",
       " '__reduce__',\n",
       " '__reduce_ex__',\n",
       " '__repr__',\n",
       " '__reversed__',\n",
       " '__setattr__',\n",
       " '__sizeof__',\n",
       " '__str__',\n",
       " '__subclasshook__',\n",
       " 'count',\n",
       " 'index',\n",
       " 'start',\n",
       " 'step',\n",
       " 'stop']"
      ]
     },
     "execution_count": 21,
     "metadata": {},
     "output_type": "execute_result"
    }
   ],
   "source": [
    "dir(range)"
   ]
  },
  {
   "cell_type": "code",
   "execution_count": 28,
   "metadata": {},
   "outputs": [
    {
     "name": "stdout",
     "output_type": "stream",
     "text": [
      "0\n",
      "1\n",
      "2\n",
      "3\n",
      "4\n"
     ]
    }
   ],
   "source": [
    "for i in range(5):\n",
    "    print(i)"
   ]
  },
  {
   "cell_type": "code",
   "execution_count": 24,
   "metadata": {},
   "outputs": [
    {
     "name": "stdout",
     "output_type": "stream",
     "text": [
      "hello\n",
      "Hi Bye\n"
     ]
    }
   ],
   "source": [
    "print(\"hello\")\n",
    "print(\"Hi\",end = \" \")\n",
    "print(\"Bye\")"
   ]
  },
  {
   "cell_type": "code",
   "execution_count": 26,
   "metadata": {},
   "outputs": [
    {
     "name": "stdout",
     "output_type": "stream",
     "text": [
      "10:20:30\n"
     ]
    }
   ],
   "source": [
    "print(10,20,30, sep = \":\")"
   ]
  },
  {
   "cell_type": "code",
   "execution_count": 29,
   "metadata": {},
   "outputs": [
    {
     "name": "stdout",
     "output_type": "stream",
     "text": [
      "C\n",
      "Python\n",
      "Java\n"
     ]
    }
   ],
   "source": [
    "courses = ['C','Python','Java']\n",
    "for course in courses:\n",
    "    print(course)"
   ]
  },
  {
   "cell_type": "code",
   "execution_count": 30,
   "metadata": {},
   "outputs": [
    {
     "name": "stdout",
     "output_type": "stream",
     "text": [
      "('a', 1)\n",
      "('b', 2)\n"
     ]
    }
   ],
   "source": [
    "d = {'a': 1,'b':2}\n",
    "for val in d.items():\n",
    "    print(val)"
   ]
  },
  {
   "cell_type": "code",
   "execution_count": 31,
   "metadata": {},
   "outputs": [
    {
     "name": "stdout",
     "output_type": "stream",
     "text": [
      "a\n",
      "b\n"
     ]
    }
   ],
   "source": [
    "d = {'a': 1,'b':2}\n",
    "for val in d.keys():\n",
    "    print(val)"
   ]
  },
  {
   "cell_type": "code",
   "execution_count": 32,
   "metadata": {},
   "outputs": [
    {
     "name": "stdout",
     "output_type": "stream",
     "text": [
      "1\n",
      "2\n"
     ]
    }
   ],
   "source": [
    "d = {'a': 1,'b':2}\n",
    "for val in d.values():\n",
    "    print(val)"
   ]
  },
  {
   "cell_type": "code",
   "execution_count": 33,
   "metadata": {},
   "outputs": [
    {
     "name": "stdout",
     "output_type": "stream",
     "text": [
      "a\n",
      "b\n"
     ]
    }
   ],
   "source": [
    "d = {'a': 1,'b':2}\n",
    "for val in d:\n",
    "    print(val)"
   ]
  },
  {
   "cell_type": "code",
   "execution_count": 34,
   "metadata": {},
   "outputs": [
    {
     "name": "stdout",
     "output_type": "stream",
     "text": [
      "0\n",
      "1\n",
      "2\n",
      "3\n",
      "4\n",
      "Done\n"
     ]
    }
   ],
   "source": [
    "for i in range(5):\n",
    "    print(i)\n",
    "else:\n",
    "    print(\"Done\")"
   ]
  },
  {
   "cell_type": "code",
   "execution_count": 35,
   "metadata": {},
   "outputs": [
    {
     "name": "stdout",
     "output_type": "stream",
     "text": [
      "0\n",
      "1\n",
      "2\n",
      "3\n"
     ]
    }
   ],
   "source": [
    "for i in range(5):\n",
    "    print(i)\n",
    "    if i ==3:\n",
    "        break\n",
    "else:\n",
    "    print(\"Done\")"
   ]
  },
  {
   "cell_type": "code",
   "execution_count": 36,
   "metadata": {},
   "outputs": [
    {
     "name": "stdout",
     "output_type": "stream",
     "text": [
      "0\n",
      "1\n",
      "2\n",
      "4\n",
      "Done\n"
     ]
    }
   ],
   "source": [
    "for i in range(5):\n",
    "    if i ==3:\n",
    "        continue\n",
    "    print(i)\n",
    "else:\n",
    "    print(\"Done\")"
   ]
  },
  {
   "cell_type": "code",
   "execution_count": 37,
   "metadata": {},
   "outputs": [
    {
     "name": "stdout",
     "output_type": "stream",
     "text": [
      "0\n",
      "1\n",
      "2\n",
      "3\n",
      "4\n",
      "Done\n"
     ]
    }
   ],
   "source": [
    "i = 0\n",
    "while i<5:\n",
    "    print(i)\n",
    "    i += 1\n",
    "else:\n",
    "    print(\"Done\")"
   ]
  },
  {
   "cell_type": "code",
   "execution_count": 38,
   "metadata": {},
   "outputs": [
    {
     "name": "stdout",
     "output_type": "stream",
     "text": [
      "0\n",
      "1\n",
      "2\n",
      "3\n"
     ]
    }
   ],
   "source": [
    "i = 0\n",
    "while i<5:\n",
    "    print(i)\n",
    "    if i == 3:\n",
    "        break\n",
    "    i += 1\n",
    "else:\n",
    "    print(\"Done\")"
   ]
  },
  {
   "cell_type": "markdown",
   "metadata": {
    "jp-MarkdownHeadingCollapsed": true
   },
   "source": [
    "## else with for/while:\n",
    "\n",
    "**Syntax**\n",
    "```\n",
    "for expression:\n",
    "  .....\n",
    "  .....\n",
    "  .....\n",
    "else:\n",
    "  .....\n",
    "\n",
    "```\n",
    "\n",
    "If loops runs successfully through all elements without encountering break/error then it will go in else"
   ]
  },
  {
   "cell_type": "markdown",
   "metadata": {},
   "source": [
    "## break\n",
    "\n",
    "Throws you out of the nearest loop"
   ]
  },
  {
   "cell_type": "code",
   "execution_count": null,
   "metadata": {},
   "outputs": [],
   "source": [
    "students = ['John','Rose','Josh','Mary','Steve']\n",
    "for student in students:\n",
    "  if student != 'Josh':\n",
    "    print(f\"Hi {student}\")\n",
    "print(\"Meeting over\")"
   ]
  },
  {
   "cell_type": "code",
   "execution_count": 39,
   "metadata": {},
   "outputs": [
    {
     "name": "stdout",
     "output_type": "stream",
     "text": [
      "Hi John\n",
      "Hi Rose\n",
      "Meeting over\n"
     ]
    }
   ],
   "source": [
    "students = ['John','Rose','Josh','Mary','Steve']\n",
    "for student in students:\n",
    "  if student != 'Josh':\n",
    "    print(f\"Hi {student}\")\n",
    "  else:\n",
    "    break\n",
    "print(\"Meeting over\")"
   ]
  },
  {
   "cell_type": "markdown",
   "metadata": {},
   "source": [
    "## continue\n",
    "\n",
    "bypasses the current iteration"
   ]
  },
  {
   "cell_type": "code",
   "execution_count": null,
   "metadata": {},
   "outputs": [],
   "source": [
    "students = ['John','Rose','Josh','Mary','Steve']\n",
    "for student in students:\n",
    "  print(f\"Hi {student}\", end = \" \")\n",
    "  if student != 'Josh':\n",
    "    continue\n",
    "  print(\".\")\n",
    "print(\"Meeting over\")"
   ]
  },
  {
   "cell_type": "code",
   "execution_count": 40,
   "metadata": {},
   "outputs": [
    {
     "name": "stdout",
     "output_type": "stream",
     "text": [
      "Hi John\n",
      "Hi Rose\n",
      "Hi Mary\n",
      "Hi Steve\n",
      "Meeting over\n"
     ]
    }
   ],
   "source": [
    "students = ['John','Rose','Josh','Mary','Steve']\n",
    "for student in students:\n",
    "  if student != 'Josh':\n",
    "    print(f\"Hi {student}\")\n",
    "  else:\n",
    "    continue\n",
    "print(\"Meeting over\")"
   ]
  },
  {
   "cell_type": "markdown",
   "metadata": {},
   "source": [
    "# Functions\n",
    "\n",
    "```\n",
    "A function is a group of statements that together perform a task.\n",
    "Declare once.\n",
    "Call as many times as you want\n",
    "```\n",
    "\n",
    "**Types of Functions**\n",
    "- built in\n",
    "- user defined"
   ]
  },
  {
   "cell_type": "markdown",
   "metadata": {},
   "source": [
    "## Built in function"
   ]
  },
  {
   "cell_type": "code",
   "execution_count": 2,
   "metadata": {},
   "outputs": [
    {
     "data": {
      "text/plain": [
       "['ArithmeticError',\n",
       " 'AssertionError',\n",
       " 'AttributeError',\n",
       " 'BaseException',\n",
       " 'BaseExceptionGroup',\n",
       " 'BlockingIOError',\n",
       " 'BrokenPipeError',\n",
       " 'BufferError',\n",
       " 'BytesWarning',\n",
       " 'ChildProcessError',\n",
       " 'ConnectionAbortedError',\n",
       " 'ConnectionError',\n",
       " 'ConnectionRefusedError',\n",
       " 'ConnectionResetError',\n",
       " 'DeprecationWarning',\n",
       " 'EOFError',\n",
       " 'Ellipsis',\n",
       " 'EncodingWarning',\n",
       " 'EnvironmentError',\n",
       " 'Exception',\n",
       " 'ExceptionGroup',\n",
       " 'False',\n",
       " 'FileExistsError',\n",
       " 'FileNotFoundError',\n",
       " 'FloatingPointError',\n",
       " 'FutureWarning',\n",
       " 'GeneratorExit',\n",
       " 'IOError',\n",
       " 'ImportError',\n",
       " 'ImportWarning',\n",
       " 'IndentationError',\n",
       " 'IndexError',\n",
       " 'InterruptedError',\n",
       " 'IsADirectoryError',\n",
       " 'KeyError',\n",
       " 'KeyboardInterrupt',\n",
       " 'LookupError',\n",
       " 'MemoryError',\n",
       " 'ModuleNotFoundError',\n",
       " 'NameError',\n",
       " 'None',\n",
       " 'NotADirectoryError',\n",
       " 'NotImplemented',\n",
       " 'NotImplementedError',\n",
       " 'OSError',\n",
       " 'OverflowError',\n",
       " 'PendingDeprecationWarning',\n",
       " 'PermissionError',\n",
       " 'ProcessLookupError',\n",
       " 'RecursionError',\n",
       " 'ReferenceError',\n",
       " 'ResourceWarning',\n",
       " 'RuntimeError',\n",
       " 'RuntimeWarning',\n",
       " 'StopAsyncIteration',\n",
       " 'StopIteration',\n",
       " 'SyntaxError',\n",
       " 'SyntaxWarning',\n",
       " 'SystemError',\n",
       " 'SystemExit',\n",
       " 'TabError',\n",
       " 'TimeoutError',\n",
       " 'True',\n",
       " 'TypeError',\n",
       " 'UnboundLocalError',\n",
       " 'UnicodeDecodeError',\n",
       " 'UnicodeEncodeError',\n",
       " 'UnicodeError',\n",
       " 'UnicodeTranslateError',\n",
       " 'UnicodeWarning',\n",
       " 'UserWarning',\n",
       " 'ValueError',\n",
       " 'Warning',\n",
       " 'WindowsError',\n",
       " 'ZeroDivisionError',\n",
       " '__IPYTHON__',\n",
       " '__build_class__',\n",
       " '__debug__',\n",
       " '__doc__',\n",
       " '__import__',\n",
       " '__loader__',\n",
       " '__name__',\n",
       " '__package__',\n",
       " '__spec__',\n",
       " 'abs',\n",
       " 'aiter',\n",
       " 'all',\n",
       " 'anext',\n",
       " 'any',\n",
       " 'ascii',\n",
       " 'bin',\n",
       " 'bool',\n",
       " 'breakpoint',\n",
       " 'bytearray',\n",
       " 'bytes',\n",
       " 'callable',\n",
       " 'chr',\n",
       " 'classmethod',\n",
       " 'compile',\n",
       " 'complex',\n",
       " 'copyright',\n",
       " 'credits',\n",
       " 'delattr',\n",
       " 'dict',\n",
       " 'dir',\n",
       " 'display',\n",
       " 'divmod',\n",
       " 'enumerate',\n",
       " 'eval',\n",
       " 'exec',\n",
       " 'execfile',\n",
       " 'filter',\n",
       " 'float',\n",
       " 'format',\n",
       " 'frozenset',\n",
       " 'get_ipython',\n",
       " 'getattr',\n",
       " 'globals',\n",
       " 'hasattr',\n",
       " 'hash',\n",
       " 'help',\n",
       " 'hex',\n",
       " 'id',\n",
       " 'input',\n",
       " 'int',\n",
       " 'isinstance',\n",
       " 'issubclass',\n",
       " 'iter',\n",
       " 'len',\n",
       " 'license',\n",
       " 'list',\n",
       " 'locals',\n",
       " 'map',\n",
       " 'max',\n",
       " 'memoryview',\n",
       " 'min',\n",
       " 'next',\n",
       " 'object',\n",
       " 'oct',\n",
       " 'open',\n",
       " 'ord',\n",
       " 'pow',\n",
       " 'print',\n",
       " 'property',\n",
       " 'range',\n",
       " 'repr',\n",
       " 'reversed',\n",
       " 'round',\n",
       " 'runfile',\n",
       " 'set',\n",
       " 'setattr',\n",
       " 'slice',\n",
       " 'sorted',\n",
       " 'staticmethod',\n",
       " 'str',\n",
       " 'sum',\n",
       " 'super',\n",
       " 'tuple',\n",
       " 'type',\n",
       " 'vars',\n",
       " 'zip']"
      ]
     },
     "execution_count": 2,
     "metadata": {},
     "output_type": "execute_result"
    }
   ],
   "source": [
    "# list of builtin functions\n",
    "dir(__builtins__)"
   ]
  },
  {
   "cell_type": "code",
   "execution_count": 79,
   "metadata": {},
   "outputs": [
    {
     "data": {
      "text/plain": [
       "True"
      ]
     },
     "execution_count": 79,
     "metadata": {},
     "output_type": "execute_result"
    }
   ],
   "source": [
    "any([0,0, 0, 80])"
   ]
  },
  {
   "cell_type": "code",
   "execution_count": 81,
   "metadata": {},
   "outputs": [
    {
     "data": {
      "text/plain": [
       "False"
      ]
     },
     "execution_count": 81,
     "metadata": {},
     "output_type": "execute_result"
    }
   ],
   "source": [
    "all([5,1,4,6,0])"
   ]
  },
  {
   "cell_type": "code",
   "execution_count": null,
   "metadata": {},
   "outputs": [],
   "source": [
    "chr(65), ord('A')\n",
    "\n",
    "# A\n",
    "# BB\n",
    "# CCC\n",
    "# DDDD\n",
    "\n",
    "n = 4\n",
    "for i in range(n):\n",
    "  for j in range(i+1):\n",
    "    print(chr(65+i), end = \"\")\n",
    "  print()"
   ]
  },
  {
   "cell_type": "markdown",
   "metadata": {},
   "source": [
    "## User defined Functions\n",
    "```\n",
    "Syntax:\n",
    "\n",
    "def name_of_function(argument):\n",
    "  ......\n",
    "  ......\n",
    "  ......\n",
    "  return something\n",
    "\n"
   ]
  },
  {
   "cell_type": "markdown",
   "metadata": {},
   "source": [
    "### Types of user defined functions\n",
    "\n",
    "1. Functions with no input argument and no return\n",
    "2. Functions with input argument and no return\n",
    "3. Functions with input argument and return\n",
    "4. Functions with variable length arguments (*args)\n",
    "5. Functions with keyworded variable length arguments (**kwargs)"
   ]
  },
  {
   "cell_type": "markdown",
   "metadata": {},
   "source": [
    "#### **1. Functions with no input argument and no return**"
   ]
  },
  {
   "cell_type": "code",
   "execution_count": 86,
   "metadata": {},
   "outputs": [
    {
     "name": "stdout",
     "output_type": "stream",
     "text": [
      "hello.....\n",
      "hello.....\n",
      "hello.....\n",
      "hello.....\n",
      "hello.....\n",
      "hello.....\n",
      "hello.....\n",
      "hello.....\n",
      "hello.....\n",
      "hello.....\n"
     ]
    }
   ],
   "source": [
    "def greet():\n",
    "    print(\"hello.....\")\n",
    "\n",
    "for i in range(10):\n",
    "    greet()"
   ]
  },
  {
   "cell_type": "markdown",
   "metadata": {},
   "source": [
    "#### **2. Functions with input argument and no return**"
   ]
  },
  {
   "cell_type": "code",
   "execution_count": 87,
   "metadata": {},
   "outputs": [
    {
     "name": "stdout",
     "output_type": "stream",
     "text": [
      "Hello Nazira.....\n"
     ]
    }
   ],
   "source": [
    "def greet(name):\n",
    "    print(f\"Hello {name}.....\")\n",
    "\n",
    "greet(\"Nazira\")"
   ]
  },
  {
   "cell_type": "markdown",
   "metadata": {},
   "source": [
    "#### **3. Functions input argument and return**"
   ]
  },
  {
   "cell_type": "code",
   "execution_count": 89,
   "metadata": {},
   "outputs": [],
   "source": [
    "def greet(name):\n",
    "    return f\"Hello {name}.....\"\n",
    "\n",
    "msg = greet(\"Nazira\")"
   ]
  },
  {
   "cell_type": "code",
   "execution_count": 91,
   "metadata": {},
   "outputs": [
    {
     "name": "stdout",
     "output_type": "stream",
     "text": [
      "Hello Nazira.....\n",
      "None\n"
     ]
    }
   ],
   "source": [
    "def greet(name):\n",
    "    print(f\"Hello {name}.....\")\n",
    "\n",
    "msg = greet(\"Nazira\")\n",
    "print(msg)"
   ]
  },
  {
   "cell_type": "code",
   "execution_count": 95,
   "metadata": {},
   "outputs": [
    {
     "name": "stdout",
     "output_type": "stream",
     "text": [
      "None\n"
     ]
    }
   ],
   "source": [
    "a = {1,2,3}\n",
    "b = {2,3}\n",
    "c = a.intersection_update(b)\n",
    "print(c)"
   ]
  },
  {
   "cell_type": "code",
   "execution_count": 93,
   "metadata": {},
   "outputs": [
    {
     "data": {
      "text/plain": [
       "{2, 3}"
      ]
     },
     "execution_count": 93,
     "metadata": {},
     "output_type": "execute_result"
    }
   ],
   "source": [
    "a"
   ]
  },
  {
   "cell_type": "code",
   "execution_count": null,
   "metadata": {},
   "outputs": [],
   "source": []
  },
  {
   "cell_type": "markdown",
   "metadata": {},
   "source": [
    "#### **4. Functions with variable length argument**"
   ]
  },
  {
   "cell_type": "code",
   "execution_count": 96,
   "metadata": {},
   "outputs": [
    {
     "data": {
      "text/plain": [
       "30"
      ]
     },
     "execution_count": 96,
     "metadata": {},
     "output_type": "execute_result"
    }
   ],
   "source": [
    "def add(a,b):\n",
    "    return a+b\n",
    "\n",
    "add(10,20)"
   ]
  },
  {
   "cell_type": "code",
   "execution_count": 97,
   "metadata": {},
   "outputs": [
    {
     "ename": "TypeError",
     "evalue": "add() takes 2 positional arguments but 3 were given",
     "output_type": "error",
     "traceback": [
      "\u001b[1;31m---------------------------------------------------------------------------\u001b[0m",
      "\u001b[1;31mTypeError\u001b[0m                                 Traceback (most recent call last)",
      "Cell \u001b[1;32mIn[97], line 1\u001b[0m\n\u001b[1;32m----> 1\u001b[0m \u001b[43madd\u001b[49m\u001b[43m(\u001b[49m\u001b[38;5;241;43m10\u001b[39;49m\u001b[43m,\u001b[49m\u001b[38;5;241;43m20\u001b[39;49m\u001b[43m,\u001b[49m\u001b[38;5;241;43m30\u001b[39;49m\u001b[43m)\u001b[49m\n",
      "\u001b[1;31mTypeError\u001b[0m: add() takes 2 positional arguments but 3 were given"
     ]
    }
   ],
   "source": [
    "add(10,20,30)"
   ]
  },
  {
   "cell_type": "code",
   "execution_count": 103,
   "metadata": {},
   "outputs": [],
   "source": [
    "def add_vla(*args):\n",
    "    total = 0\n",
    "    for val in args:\n",
    "        total += val\n",
    "    return total"
   ]
  },
  {
   "cell_type": "code",
   "execution_count": 104,
   "metadata": {},
   "outputs": [
    {
     "data": {
      "text/plain": [
       "30"
      ]
     },
     "execution_count": 104,
     "metadata": {},
     "output_type": "execute_result"
    }
   ],
   "source": [
    "add_vla(10,20)"
   ]
  },
  {
   "cell_type": "code",
   "execution_count": 105,
   "metadata": {},
   "outputs": [
    {
     "data": {
      "text/plain": [
       "60"
      ]
     },
     "execution_count": 105,
     "metadata": {},
     "output_type": "execute_result"
    }
   ],
   "source": [
    "add_vla(10,20,30)"
   ]
  },
  {
   "cell_type": "code",
   "execution_count": 106,
   "metadata": {},
   "outputs": [
    {
     "data": {
      "text/plain": [
       "10"
      ]
     },
     "execution_count": 106,
     "metadata": {},
     "output_type": "execute_result"
    }
   ],
   "source": [
    "add_vla(10)"
   ]
  },
  {
   "cell_type": "code",
   "execution_count": 107,
   "metadata": {},
   "outputs": [
    {
     "data": {
      "text/plain": [
       "0"
      ]
     },
     "execution_count": 107,
     "metadata": {},
     "output_type": "execute_result"
    }
   ],
   "source": [
    "add_vla()"
   ]
  },
  {
   "cell_type": "code",
   "execution_count": 108,
   "metadata": {},
   "outputs": [
    {
     "ename": "SyntaxError",
     "evalue": "* argument may appear only once (1107636790.py, line 1)",
     "output_type": "error",
     "traceback": [
      "\u001b[1;36m  Cell \u001b[1;32mIn[108], line 1\u001b[1;36m\u001b[0m\n\u001b[1;33m    def vla(*a,*b):\u001b[0m\n\u001b[1;37m               ^\u001b[0m\n\u001b[1;31mSyntaxError\u001b[0m\u001b[1;31m:\u001b[0m * argument may appear only once\n"
     ]
    }
   ],
   "source": [
    "def vla(*a,*b):\n",
    "    pass\n",
    "\n",
    "vla(10,20,30)"
   ]
  },
  {
   "cell_type": "code",
   "execution_count": 111,
   "metadata": {},
   "outputs": [
    {
     "ename": "TypeError",
     "evalue": "vla() missing 1 required positional argument: 'a'",
     "output_type": "error",
     "traceback": [
      "\u001b[1;31m---------------------------------------------------------------------------\u001b[0m",
      "\u001b[1;31mTypeError\u001b[0m                                 Traceback (most recent call last)",
      "Cell \u001b[1;32mIn[111], line 5\u001b[0m\n\u001b[0;32m      2\u001b[0m     \u001b[38;5;28mprint\u001b[39m(a)\n\u001b[0;32m      3\u001b[0m     \u001b[38;5;28mprint\u001b[39m(b)\n\u001b[1;32m----> 5\u001b[0m \u001b[43mvla\u001b[49m\u001b[43m(\u001b[49m\u001b[43m)\u001b[49m\n",
      "\u001b[1;31mTypeError\u001b[0m: vla() missing 1 required positional argument: 'a'"
     ]
    }
   ],
   "source": [
    "def vla(a,*b):\n",
    "    print(a)\n",
    "    print(b)\n",
    "\n",
    "vla()"
   ]
  },
  {
   "cell_type": "code",
   "execution_count": 113,
   "metadata": {},
   "outputs": [
    {
     "name": "stdout",
     "output_type": "stream",
     "text": [
      "(10, 20)\n",
      "30\n"
     ]
    }
   ],
   "source": [
    "def vla(*a,b):\n",
    "    print(a)\n",
    "    print(b)\n",
    "\n",
    "vla(10,20,b = 30)"
   ]
  },
  {
   "cell_type": "markdown",
   "metadata": {},
   "source": [
    "#### **5. Functions with keyworded variable length argument**"
   ]
  },
  {
   "cell_type": "code",
   "execution_count": 114,
   "metadata": {},
   "outputs": [],
   "source": [
    "def detail_survey(name, age, *args):\n",
    "    print(name)\n",
    "    print(age)\n",
    "    print(args)"
   ]
  },
  {
   "cell_type": "code",
   "execution_count": 115,
   "metadata": {},
   "outputs": [
    {
     "name": "stdout",
     "output_type": "stream",
     "text": [
      "Nazira\n",
      "40\n",
      "()\n"
     ]
    }
   ],
   "source": [
    "detail_survey('Nazira', 40)"
   ]
  },
  {
   "cell_type": "code",
   "execution_count": 116,
   "metadata": {},
   "outputs": [
    {
     "name": "stdout",
     "output_type": "stream",
     "text": [
      "Sara\n",
      "42\n",
      "(700, 100)\n"
     ]
    }
   ],
   "source": [
    "detail_survey('Sara', 42,700,100)"
   ]
  },
  {
   "cell_type": "code",
   "execution_count": 119,
   "metadata": {},
   "outputs": [],
   "source": [
    "def detail_survey(name, age, **kwargs):\n",
    "    print(name)\n",
    "    print(age)\n",
    "    print(kwargs)"
   ]
  },
  {
   "cell_type": "code",
   "execution_count": 120,
   "metadata": {},
   "outputs": [
    {
     "name": "stdout",
     "output_type": "stream",
     "text": [
      "Nazira\n",
      "40\n",
      "{}\n"
     ]
    }
   ],
   "source": [
    "detail_survey('Nazira', 40)"
   ]
  },
  {
   "cell_type": "code",
   "execution_count": 122,
   "metadata": {},
   "outputs": [
    {
     "name": "stdout",
     "output_type": "stream",
     "text": [
      "Sara\n",
      "42\n",
      "{'limit': 700, 'salary': 100}\n"
     ]
    }
   ],
   "source": [
    "detail_survey('Sara', 42,limit = 700,salary = 100)"
   ]
  },
  {
   "cell_type": "code",
   "execution_count": 124,
   "metadata": {},
   "outputs": [],
   "source": [
    "def func(*args,**kwargs):\n",
    "    pass"
   ]
  },
  {
   "cell_type": "code",
   "execution_count": 125,
   "metadata": {},
   "outputs": [
    {
     "ename": "SyntaxError",
     "evalue": "arguments cannot follow var-keyword argument (558615893.py, line 1)",
     "output_type": "error",
     "traceback": [
      "\u001b[1;36m  Cell \u001b[1;32mIn[125], line 1\u001b[1;36m\u001b[0m\n\u001b[1;33m    def func(**kwargs,*args):\u001b[0m\n\u001b[1;37m                      ^\u001b[0m\n\u001b[1;31mSyntaxError\u001b[0m\u001b[1;31m:\u001b[0m arguments cannot follow var-keyword argument\n"
     ]
    }
   ],
   "source": [
    "def func(**kwargs,*args):\n",
    "    pass"
   ]
  },
  {
   "cell_type": "markdown",
   "metadata": {},
   "source": [
    "#### Argument matching:\n",
    "1. Positional matching\n",
    "2. Keyworded matching"
   ]
  },
  {
   "cell_type": "code",
   "execution_count": null,
   "metadata": {},
   "outputs": [],
   "source": []
  },
  {
   "cell_type": "code",
   "execution_count": null,
   "metadata": {},
   "outputs": [],
   "source": []
  },
  {
   "cell_type": "markdown",
   "metadata": {},
   "source": [
    "Priority:\n",
    "1. Keyword match\n",
    "2. postional match\n",
    "Note: In python poistional arguments folllowed by keyworded arguments are not allowed, viceversa is true allowed"
   ]
  },
  {
   "cell_type": "code",
   "execution_count": 126,
   "metadata": {},
   "outputs": [
    {
     "ename": "TypeError",
     "evalue": "func() takes 0 positional arguments but 2 were given",
     "output_type": "error",
     "traceback": [
      "\u001b[1;31m---------------------------------------------------------------------------\u001b[0m",
      "\u001b[1;31mTypeError\u001b[0m                                 Traceback (most recent call last)",
      "Cell \u001b[1;32mIn[126], line 4\u001b[0m\n\u001b[0;32m      1\u001b[0m \u001b[38;5;28;01mdef\u001b[39;00m \u001b[38;5;21mfunc\u001b[39m(\u001b[38;5;241m*\u001b[39m,a,b):\n\u001b[0;32m      2\u001b[0m     \u001b[38;5;28;01mpass\u001b[39;00m\n\u001b[1;32m----> 4\u001b[0m \u001b[43mfunc\u001b[49m\u001b[43m(\u001b[49m\u001b[38;5;241;43m10\u001b[39;49m\u001b[43m,\u001b[49m\u001b[38;5;241;43m20\u001b[39;49m\u001b[43m)\u001b[49m\n",
      "\u001b[1;31mTypeError\u001b[0m: func() takes 0 positional arguments but 2 were given"
     ]
    }
   ],
   "source": [
    "def func(*,a,b):\n",
    "    pass\n",
    "\n",
    "func(10,20)"
   ]
  },
  {
   "cell_type": "code",
   "execution_count": null,
   "metadata": {},
   "outputs": [],
   "source": [
    "func(a = 10,b = 20)"
   ]
  },
  {
   "cell_type": "code",
   "execution_count": 127,
   "metadata": {},
   "outputs": [],
   "source": [
    "def func(a,b,/):\n",
    "    pass\n",
    "\n",
    "func(10,20)"
   ]
  },
  {
   "cell_type": "code",
   "execution_count": 128,
   "metadata": {},
   "outputs": [
    {
     "ename": "TypeError",
     "evalue": "func() got some positional-only arguments passed as keyword arguments: 'a, b'",
     "output_type": "error",
     "traceback": [
      "\u001b[1;31m---------------------------------------------------------------------------\u001b[0m",
      "\u001b[1;31mTypeError\u001b[0m                                 Traceback (most recent call last)",
      "Cell \u001b[1;32mIn[128], line 1\u001b[0m\n\u001b[1;32m----> 1\u001b[0m \u001b[43mfunc\u001b[49m\u001b[43m(\u001b[49m\u001b[43ma\u001b[49m\u001b[43m \u001b[49m\u001b[38;5;241;43m=\u001b[39;49m\u001b[43m \u001b[49m\u001b[38;5;241;43m10\u001b[39;49m\u001b[43m,\u001b[49m\u001b[43mb\u001b[49m\u001b[43m \u001b[49m\u001b[38;5;241;43m=\u001b[39;49m\u001b[43m \u001b[49m\u001b[38;5;241;43m20\u001b[39;49m\u001b[43m)\u001b[49m\n",
      "\u001b[1;31mTypeError\u001b[0m: func() got some positional-only arguments passed as keyword arguments: 'a, b'"
     ]
    }
   ],
   "source": [
    "func(a = 10,b = 20)"
   ]
  },
  {
   "cell_type": "markdown",
   "metadata": {},
   "source": [
    "##### Quick Questions"
   ]
  },
  {
   "cell_type": "code",
   "execution_count": 129,
   "metadata": {},
   "outputs": [
    {
     "name": "stdout",
     "output_type": "stream",
     "text": [
      "a : 10\n",
      "b : 20\n",
      "c : 30\n",
      "d : 40\n"
     ]
    }
   ],
   "source": [
    "# guess the ouput\n",
    "def func(a,b,/,*,c,d):\n",
    "    print(f'a : {a}')\n",
    "    print(f'b : {b}')\n",
    "    print(f'c : {c}')\n",
    "    print(f'd : {d}')\n",
    "func(10,20,c = 30,d = 40)"
   ]
  },
  {
   "cell_type": "code",
   "execution_count": 130,
   "metadata": {},
   "outputs": [
    {
     "ename": "SyntaxError",
     "evalue": "/ must be ahead of * (1162099909.py, line 1)",
     "output_type": "error",
     "traceback": [
      "\u001b[1;36m  Cell \u001b[1;32mIn[130], line 1\u001b[1;36m\u001b[0m\n\u001b[1;33m    def func(*,a,b,c,d,/):\u001b[0m\n\u001b[1;37m                       ^\u001b[0m\n\u001b[1;31mSyntaxError\u001b[0m\u001b[1;31m:\u001b[0m / must be ahead of *\n"
     ]
    }
   ],
   "source": [
    "def func(*,a,b,c,d,/):\n",
    "    print(f'a : {a}')\n",
    "    print(f'b : {b}')\n",
    "    print(f'c : {c}')\n",
    "    print(f'd : {d}')\n",
    "func(a = 10,b = 20,30,40)"
   ]
  },
  {
   "cell_type": "markdown",
   "metadata": {},
   "source": [
    "# pass\n",
    "\n",
    "- occupies a space\n",
    "- does nothing"
   ]
  },
  {
   "cell_type": "markdown",
   "metadata": {},
   "source": [
    "# Docstring:\n",
    "The string statement followed by the function name is called the docstring\n",
    "(shortform for documentation string). It provides a convenient way of associating documentation with Python modules, functions, classes.\n",
    "It is specified in the source code that is used like a comment, in order to document a specific segment of code."
   ]
  },
  {
   "cell_type": "markdown",
   "metadata": {},
   "source": [
    "# Practice programs"
   ]
  },
  {
   "cell_type": "code",
   "execution_count": 44,
   "metadata": {},
   "outputs": [
    {
     "name": "stdin",
     "output_type": "stream",
     "text": [
      "Enter the string:  121\n"
     ]
    },
    {
     "name": "stdout",
     "output_type": "stream",
     "text": [
      "pallindrome\n"
     ]
    }
   ],
   "source": [
    "# 1.WAF that checks whether a passed string is palindrome or not.\n",
    "\n",
    "data = input(\"Enter the string: \")\n",
    "if data.lower() == data[::-1].lower():\n",
    "    print(\"pallindrome\")\n",
    "else:\n",
    "    print(\"Not a pallindrome\")"
   ]
  },
  {
   "cell_type": "code",
   "execution_count": 45,
   "metadata": {},
   "outputs": [
    {
     "data": {
      "text/plain": [
       "[1, 2, 3, 4, 5, 6]"
      ]
     },
     "execution_count": 45,
     "metadata": {},
     "output_type": "execute_result"
    }
   ],
   "source": [
    "# 2.Write a Python function that takes a list and returns a new list with\n",
    "# unique elements of the first list.\n",
    "\n",
    "numbers = [1,2,6,4,1,3,5,6,1,4]\n",
    "list(set(numbers))"
   ]
  },
  {
   "cell_type": "code",
   "execution_count": 47,
   "metadata": {},
   "outputs": [
    {
     "data": {
      "text/plain": [
       "{'a': 1, 'b': 3, 'c': 4}"
      ]
     },
     "execution_count": 47,
     "metadata": {},
     "output_type": "execute_result"
    }
   ],
   "source": [
    "# 3.Write a Python script to merge two Python dictionaries\n",
    "\n",
    "d1 = {'a': 1,'b':2}\n",
    "d2 = {'b':3,'c':4}\n",
    "d1.update(d2)\n",
    "d1"
   ]
  },
  {
   "cell_type": "code",
   "execution_count": 48,
   "metadata": {},
   "outputs": [
    {
     "data": {
      "text/plain": [
       "{'a': 1, 'b': 3, 'c': 4}"
      ]
     },
     "execution_count": 48,
     "metadata": {},
     "output_type": "execute_result"
    }
   ],
   "source": [
    "d1 = {'a': 1,'b':2}\n",
    "d2 = {'b':3,'c':4}\n",
    "d1 | d2"
   ]
  },
  {
   "cell_type": "code",
   "execution_count": 49,
   "metadata": {},
   "outputs": [
    {
     "data": {
      "text/plain": [
       "{'a': 1, 'c': 4}"
      ]
     },
     "execution_count": 49,
     "metadata": {},
     "output_type": "execute_result"
    }
   ],
   "source": [
    "# 4. Write a Python program to remove a key from a dictionary.\n",
    "data = {'a': 1, 'b': 3, 'c': 4}\n",
    "data.pop('b')\n",
    "data"
   ]
  },
  {
   "cell_type": "code",
   "execution_count": 50,
   "metadata": {},
   "outputs": [
    {
     "data": {
      "text/plain": [
       "{'c': 4}"
      ]
     },
     "execution_count": 50,
     "metadata": {},
     "output_type": "execute_result"
    }
   ],
   "source": [
    "del data['a']\n",
    "data"
   ]
  },
  {
   "cell_type": "code",
   "execution_count": 53,
   "metadata": {},
   "outputs": [
    {
     "name": "stdout",
     "output_type": "stream",
     "text": [
      "val1 expected as int! Got a <class 'str'>\n"
     ]
    }
   ],
   "source": [
    "# 5. Write a Python program to add two objects if both objects are an integer type.\n",
    "val1 = '10'\n",
    "val2 = 1\n",
    "if type(val1) == type(val2) == int:\n",
    "    print(val1+val2)\n",
    "elif type(val1) != int:\n",
    "    print(f\"val1 expected as int! Got a {type(val1)}\")\n",
    "elif type(val2) != int:\n",
    "    print(f\"val2 expected as int! Got a {type(val2)}\")"
   ]
  },
  {
   "cell_type": "code",
   "execution_count": 57,
   "metadata": {},
   "outputs": [
    {
     "name": "stdin",
     "output_type": "stream",
     "text": [
      "How many lines pattern:  10\n"
     ]
    },
    {
     "name": "stdout",
     "output_type": "stream",
     "text": [
      "*\n",
      "**\n",
      "***\n",
      "****\n",
      "*****\n",
      "******\n",
      "*******\n",
      "********\n",
      "*********\n",
      "**********\n"
     ]
    }
   ],
   "source": [
    "#6.\n",
    "# *\n",
    "# **\n",
    "# ***\n",
    "# ****\n",
    "# *****\n",
    "\n",
    "n = int(input(\"How many lines pattern: \"))\n",
    "for i in range(1,n+1):\n",
    "    for j in range(1,i+1):\n",
    "        print(\"*\" , end = \"\")\n",
    "    print()"
   ]
  },
  {
   "cell_type": "code",
   "execution_count": null,
   "metadata": {},
   "outputs": [],
   "source": [
    "# 1\n",
    "# 22\n",
    "# 333\n",
    "# 4444\n",
    "# 55555"
   ]
  },
  {
   "cell_type": "code",
   "execution_count": 59,
   "metadata": {},
   "outputs": [
    {
     "data": {
      "text/plain": [
       "2"
      ]
     },
     "execution_count": 59,
     "metadata": {},
     "output_type": "execute_result"
    }
   ],
   "source": [
    "import math as m\n",
    "m.ceil(1.3)"
   ]
  },
  {
   "cell_type": "code",
   "execution_count": 60,
   "metadata": {},
   "outputs": [
    {
     "data": {
      "text/plain": [
       "1"
      ]
     },
     "execution_count": 60,
     "metadata": {},
     "output_type": "execute_result"
    }
   ],
   "source": [
    "m.floor(1.3)"
   ]
  },
  {
   "cell_type": "code",
   "execution_count": null,
   "metadata": {},
   "outputs": [],
   "source": [
    "   #   *\n",
    "   #  ***\n",
    "   # *****\n",
    "   #  ***\n",
    "   #   *"
   ]
  },
  {
   "cell_type": "code",
   "execution_count": 63,
   "metadata": {},
   "outputs": [
    {
     "name": "stdin",
     "output_type": "stream",
     "text": [
      " o\n"
     ]
    },
    {
     "name": "stdout",
     "output_type": "stream",
     "text": [
      "Vowel\n"
     ]
    }
   ],
   "source": [
    "# Write a Python program to test whether a passed letter is a vowel or not.\n",
    "letter = input()\n",
    "if letter.lower() in \"aeiou\":\n",
    "    print(\"Vowel\")\n",
    "else:\n",
    "    print(\"Consonant\")"
   ]
  },
  {
   "cell_type": "code",
   "execution_count": 66,
   "metadata": {},
   "outputs": [
    {
     "data": {
      "text/plain": [
       "1"
      ]
     },
     "execution_count": 66,
     "metadata": {},
     "output_type": "execute_result"
    }
   ],
   "source": [
    "# Write a Python program to count occurrences of a substring in a string\n",
    "string = \"Hello how are you. Hope you are fine\"\n",
    "substring = \"HELLO\"\n",
    "string.lower().count(substring.lower())"
   ]
  },
  {
   "cell_type": "code",
   "execution_count": 75,
   "metadata": {},
   "outputs": [
    {
     "data": {
      "text/plain": [
       "{'colab': 2,\n",
       " 'amazing': 1,\n",
       " 'is': 2,\n",
       " 'using': 1,\n",
       " 'offers': 1,\n",
       " 'free.': 1,\n",
       " 'for': 1,\n",
       " 'me': 1,\n",
       " 'great.': 1,\n",
       " 'It': 1,\n",
       " 'Google': 1}"
      ]
     },
     "execution_count": 75,
     "metadata": {},
     "output_type": "execute_result"
    }
   ],
   "source": [
    "# Write a program to get all unique words in a given text with its occurences\n",
    "\n",
    "text = \"\"\"Google is great.\n",
    "    It offers me colab for free.\n",
    "    using colab is amazing\"\"\"\n",
    "\n",
    "words_dict = dict()\n",
    "for word in set(text.split()):\n",
    "    # print(word)\n",
    "    temp = {word: text.lower().count(word.lower())}\n",
    "    words_dict.update(temp)\n",
    "    # print(words_dict)\n",
    "    # print(\"_\"*100)\n",
    "\n",
    "words_dict"
   ]
  },
  {
   "cell_type": "code",
   "execution_count": 77,
   "metadata": {},
   "outputs": [
    {
     "data": {
      "text/plain": [
       "('A', 65)"
      ]
     },
     "execution_count": 77,
     "metadata": {},
     "output_type": "execute_result"
    }
   ],
   "source": [
    "chr(65),ord('A')"
   ]
  },
  {
   "cell_type": "code",
   "execution_count": null,
   "metadata": {},
   "outputs": [],
   "source": [
    "# Write a Python program to check the validity of password input by users.\n",
    "# Validation :\n",
    "\n",
    "# At least 1 letter between [a-z] and 1 letter between [A-Z].\n",
    "# At least 1 number between [0-9].\n",
    "# At least 1 character from [$#@].\n",
    "# Minimum length 6 characters.\n",
    "# Maximum length 16 characters."
   ]
  },
  {
   "cell_type": "markdown",
   "metadata": {
    "jp-MarkdownHeadingCollapsed": true
   },
   "source": [
    "# Lambda Functions/ Anonymous function\n",
    "\n",
    "One line function:\n",
    "- n no. of arguments\n",
    "- one expression\n",
    "\n",
    "**Syntax:**\n",
    "```\n",
    "  lambda arguments: expression\n",
    "```"
   ]
  },
  {
   "cell_type": "code",
   "execution_count": 44,
   "metadata": {},
   "outputs": [],
   "source": [
    "# Write a function to find cube of a number"
   ]
  },
  {
   "cell_type": "code",
   "execution_count": null,
   "metadata": {},
   "outputs": [],
   "source": [
    "# WAP to sort the given list by 2nd elements of the tuple\n",
    "data = [(10,20),(3,5)]"
   ]
  },
  {
   "cell_type": "code",
   "execution_count": null,
   "metadata": {},
   "outputs": [],
   "source": [
    "# l = [('a',10,20),('b',50,60),('e',2,5),('d',56,1)]\n",
    "# Sort this list based on 3rd element"
   ]
  },
  {
   "cell_type": "code",
   "execution_count": null,
   "metadata": {},
   "outputs": [],
   "source": [
    "# Write a Python program to sort a list of dictionaries based on marks\n",
    "subject_marks = [{'Subject':'English','Marks':80},\n",
    "                 {'Subject':'Maths','Marks':60},\n",
    "                 {'Subject':'Science','Marks':70}]"
   ]
  },
  {
   "cell_type": "markdown",
   "metadata": {},
   "source": [
    "## filter()"
   ]
  },
  {
   "cell_type": "code",
   "execution_count": 45,
   "metadata": {},
   "outputs": [],
   "source": [
    "# WAF to get all even numbers between 0 to 20"
   ]
  },
  {
   "cell_type": "code",
   "execution_count": null,
   "metadata": {},
   "outputs": [],
   "source": [
    "# WAP to get all numbers that are divisible by 3 between 0 to 30"
   ]
  },
  {
   "cell_type": "code",
   "execution_count": null,
   "metadata": {},
   "outputs": [],
   "source": [
    "# From the given students_list get all students whose name startswith s\n",
    "students_list = ['Sam','sarah','Joel']"
   ]
  },
  {
   "cell_type": "markdown",
   "metadata": {},
   "source": [
    "## map()"
   ]
  },
  {
   "cell_type": "markdown",
   "metadata": {},
   "source": [
    "![image.png](data:image/png;base64,iVBORw0KGgoAAAANSUhEUgAAAhsAAAGBCAYAAADPMnMFAAAgAElEQVR4nO3dP2gj6374/4+/v1PMwoVoO7kbdb5NrgyBo4XAyhC42jRHLsLKxeXY1UoQiF2tXUmCgO3KPkWQDinkrbynkm5lncrayk4RpAMBOxBY3yJYgQQrEJCKwPwKR3NmRpItyXo088y8XyCQ5D96JM2fz3ye5/k8K5ZlWQIAAKDI//O7AQAAINwINgAAgFIEGwAAQCmCDQAAoBTBBgAAUIpgAwAAKEWwAQAAlCLYAAAAShFsAAAApQg2AACAUgQbAABAKYINAAvTbDYlkUjIysqKfUskEnJ2duZ30wD4aIWF2AAsyurqqnS73ZHnDcOQfr/vQ4sABAHBBoCFWVlZmfgzDjVAdNGNAmBhDMMYex9AtBFsAFiYYrFo39/e3vaxJQCChG4UAMo4u1U41ADRRWYDAAAoRbABAACUCk2wcXZ25prfz9x+AACCIRRjNkqlkpTL5ZHnmdsP+IsxGwBEQpDZqFarYwMNEZHBYLDk1ujFW+0xkUjI3t7e2KJMAADMS+vMRrfblUQiYQcVmUxG6vW6vHr1yv4djd+ecolEQu7u7kaeNwxDstmsvH37VtLptKytrfnQOoQBmQ0AIppnNo6Pj+1AI5lMSr1ep5DQDD58+DD2+cFgIJ8/f5ZCoSC//e1vZXV1VT5//rzk1gEAwkLbzIY3q1Gv1yWbzYoIV1PzajQaUi6XpdPpjP15u92WZDK55FZBV81mU969e2c/Zl8EokvbYGNvb09OT09F5DGr0W637Z8RbLxMp9ORVqslX758kVarJb1eT0REstms1Ot1n1sHXXgXZWNfBKJLy2DjqayGCMHGInU6HVlfX7cf39/fSzwe97FFCLperyflctm+GBARyefzUqlUfGwVAD9pOWbDO1bDGWhgsZLJpGQyGftxo9HwsTUIukajIYlEwhVo5HK5FwUazWZTNjY2qJsDaEzLYMM5WNG58BPUeP/+vX3/p59+8rElCLpCoWB3u4k8zhCr1WpT/W2v15NSqeSajr2ysiLv3r2TVqslhUJBVbMDx1ukcNyNwoXQiXbdKN1uV1ZXV+3H45q/qG6UZrMpx8fH8v3330d6BcteryevX7+2H2u2yWCJnPueClHY9iYVKRyHwoXQxTd+N2BWx8fH9n3VMyN2dnak2+3K9fV1pIONWCzmdxOgCcMwlBXTy+fzSv5vEDSbTSkUCmPr3jyFwoXQhVbdKN1uV6rVqv14XBdKq9Wy75um+eLXE2GHFhFX/ZJJU2OBl3ZrmqYptVpNLMsauYV5gOnOzs5IoJHJZKTf74/9LADdaBVsTDMw1DmmIJfLLa1tYef8rKdN8WJ2T/XVJxIJOTg4CHTwu7+/P/bkOO3t69evkcwiepcIyOVyFClEqGg1ZsM5b9873XXc71xdXUkqlZr79ZhC+yvvFFgKfC1etVqdahDk2tqa1Gq1F23bCJZZjzUcm6AbrTIbzuh/XKDRarXs3zFNk4PxAnkzSWQ3Fs85Hukpt7e38ubNGzk6OlLaHufsEGY+AHgJbYIN5ziBSQMWP336ZN+nC2XxnP3xKutteFejXdQt6CfM77//XkQeA+lxffW1Ws217R8cHLjGMC2KM8gol8tyd3cnd3d3kZp6CmDBLE2cnJxYImKJiJXNZkd+XqlU7J+LiHV1dfXi13T+PzxaxmdimqbrdRZ5MwxDWbsX4f7+/tmfp9Np1/tZxLZuWZb18PBgFYtFKxaLjf3s8vn8Ql4Ho2bdr7y/X6vVLNM0LdM0rd3d3We3I2DZtDmLZrNZe+c6OTkZ+Xk8Hrd/nslkFvKaBBujlvGZHB4eKgs2wnDC7Pf7ViqVst9TPB5/8cmlUqmMDTJM07RqtdqCWo5JXhJsTLqZpmlVKhXFLQemo81Z1HkgbLfbrp/V63XXTtbv9xfymgQbo/hMguHr16+uADuVSs293ReLRYIMnxmGMdV+ValUZs78keVAEGgzZsNZAtk5C6Lb7crW1pbrd6MyXWw4TTKRSCjpu0dwmaYp5+fn9rZ+fX0915gKb7XKYZ2LME5BDfIaK8PxUE8VLiuVSk8W/srlcnJ+fj4yS4z1jBAIfkc705IJV9T5fF5ZmnzSa/pl2Kc+6cpmGYL2mUSdcyyTyON4poeHh6n+1pvRyGQyC8sKBtEwExT0cTvjjMs+PbUf1mo1++fpdHrJrQVG+XrGuLi4GDlxetO3435n0q1ery+0fUE5sbbbbWt3d3fiwL3hiWIZgvKZ4FfegHttbc26ubkZ+7vDgYTjtp8wBxqWpe+26x38nslknn0vDw8P2r5fhJOvW+EiZx2oONn6ubM+l8WYFJypxgEsmLxXvrFYbCT4nnR1HIVAw7L03Hbv7+9d4zmG39U078X5d8VicYmtBkb5utctatZBLpdTcrCc9eA0bRbmuQDh8PDwySyGyOMMBD8G8Ol4wI6Ker0+st0cHh5aljU50FC17wSRjtvu7u6u3eZkMmn1+/2psxbOvyXggN8CtdfNE3yo7H+d9eA0S6ZmXLu/fv3qmtLoDCy8zy26y2haOh6wo+Tm5sZaW1tzfU/ff/99JDMZXs4rfV1maDj3/Xq9bl1cXIwElJP0+/2RLpdh8AksmzZnjEknbZV1E2Y9sc4aLA0zE5OKKa2trdm/4z1Z+IVgI/geHh5chb8INB45T7y61J9wfnfeLpVpjgXegEPHwbEIB23OGMs+yd3f3yt5TefBwjCMscWUDMMYuQIJykk+KO3A0yadmKIaaFiWnjM0nN+fs1tklm7Uacd4ACppU2dj2ZyLYi1ydVPn+iKDwUAKhYKrhkgqlZJ2uy37+/sLe01ER6PRkEQiIaurqyNL0f/1X/+1tjVonlovJ5FISKFQkFar9eT/cC4k+NzvBtHp6al9v1KpTF0HRdfvHOGizRLzy15SeZrl7OflfC9DpmlKsViceAAJypLSQWkHRnW7XUkkEiNBxpBhGHJxcSHpdHrJLXu5RCIxsZjVoj23Ly7Tq1evxn6fs+577LfwG5mNCZ5bzn5e46r5ZTIZubm5CcTBDfo6Pj4eOTH9zd/8jfz5n/+5iDxm0jY3N5d20l6kDx8+LO21grTCrTMTOvRUlVEgsHzswpmJLLnPUdXreWeWpNPpqfrRl/3+g9KOi4sLK51Os07HBJOKdDlnK3nXUVlbW5u6yqgOhkXvFlm3JwwL9jk5x+8wIwV+INhY8ut5D2rTDlSLarAxbtrvIm86LzjmLVX+1HdzdXU1tjhU1Dg/A++CjmHmHFzKjBT4IRDBxiwlyZd1MllWsDHt/49qsOGdUaHipuPBt91uT/xsJl2Vn5+fu34vm81al5eXS265v3K5nOv9RwUzUuC3QGx1qgKNl5xMCDbcxgWEy7CoKrNP3XRLmff7fSuZTNrtn2V5+f39/ZH3H4/HrZOTE8WtDoZ2u+37vuSXqL5vBEMgtjrVJ5R5TiYEG7+q1WojtUByudzS24HHgl3OhdcMw5i46Nok29vbY7fDqJSzjupJN6rvG8GgzVa37B0lyMHG8GaaprW7u6u09LJ3xclhoBHF/n4/TRoIOu9gv0mDKqMQcET1pBvV941g0GarC0uw4e1nnzZD8NTYBcMwlAUd3pORbl0OYTAu4BNZTNn6cetn7O7uhjqYjOpJN6rvG8GgzVYXlmDD2WU0S4Zgmq4mFUHHcLXQbDYb6hNQkHln5Cx6Bs24gGNtbc26urpa2GsEiR8n3SBM4SbYgJ+02er8DDZUHOAXoV6vuwYKPnV7Sft1WSEzrJxZLVUBX7/ft7LZ7Mh2s7+/H7og04/VX1VP4Z71BiybFhVEm83m0l/Tu55AkKoKDmWzWWm321Kv159dv+Ul7Y/H43P9HRZjWEUyn88rW+fCMAyp1+tSq9UkFovZzx8dHcnGxoaWVUcncZZrH1fRVwXn+kd+y+VyfjcBUeR3tDONoEy5DPp4hecyHUFvP4Lh/v5+pFslFou5qpLqzI/VX5cxhXuaG4O74RctFmI7OjqSg4MDEXm8uqtUKj63CAi/09NT2dvbcz1XLBalVCr51KLF6PV68vr1a/uxBodAQHtaBBsA/HF9fS2bm5uuhQkPDw9lf3/fx1a9HKugAsulxZgNAP5IpVJyc3PjGudQLpd9bNFiOMe+HB0d+dgSIBpeFGw0m01JJBKysrLiuiUSCTk7O1tUGwH4KBaLycXFhX2C9i5jryPnMu1hCJ6AoHtRsFEoFMaOUg/izA0A8zMMwzUrRmfNZtM1CyUMwRMQdC8as+EcuDkOfaEAgiaRSIxcJHGsAtR6UWZjf39frMfCYPYNAILsw4cPrse6Z2oAHSx8NgqjvAEAgBOzUQAAgFIEGwAAQCmCDQAAoBTBBgAAUErbYKPX60mpVBpbVCwKt0QiQeVDAL5ptVqysbFBAUdMRbvZKL1eT05PT+WHH34I1LLNfmm3288uLw8Ai9TtdiWRSNgF0Zh5iOd8o/KfOwMPqFEul6Ver/vdDAARUi6X7UCDix1MY+HdKM4FjlQzTVNqtdpIYbGw35wajYbdrVKtVpf22QOIhnFd1s5jzbCMPfCUhXejPFfCfBFM05RisSjb29tKXyeInssWFYtFKZVKS2oNgLDodDry6dMnaTQaY9e8GieTycjFxYXiliEMFh5sQL2VlRXp9/tSKBTGDs4i4ADwlMFgINfX13J9fS2//PKLXF9fTx1gDOVyOanVakvNZkNfBBshMBgMZHNzU5rNpv0cA0cBeFWrVfnhhx/k9vZ2pr+LcjYZi0GwERKDwUDevXsnrVZLRETS6bScn59LPB73uWUAlqnb7Uqz2ZQvX75Iq9WaOmMRj8clm83K+/fvJZ1OK24looZgI0Q6nY6sr6/bjw3DkGKxKPv7+z62CoBqw/EWzWZz6qxFKpWSZDIpv/vd7ySZTEoqlVLcSkQZwUbIFAqFkVkpfo/hGNZG+fTp08z9wggm0zTFNE1JpVLyZ3/2Z5JKpSQej8va2prfTYuMeQZ0ijDWAv4g2AihRqMh5XJZOp2O/dwyAo6zszMpl8sEFBFnGIZdg8FpGJz8/ve/l0wmQxffnKrVqhwfH0/czwzDkHQ6LW/fvpV0Ok3GAoFAsBFS4waNqgw4SqWSlMtlJf8b4ZRMJiWTych3333HCXGCabMXjLdA0BFshNgyAo5psxmMZg+X29tb6Xa7cn19Lf/93/8t19fX0u12Z57lgPkRYEAnBBshNy7gME1TDg8PJZfLzf1/e72elMtlOT09dT2fyWSkXq/TH4wR19fX8sc//lGazaariw+zY9wFdEOwEQHjAg4RkcvLy7muiBqNhuzs7IwshMcBENMaTs/8+eefpdlssqjiBGQvEBYEGxExGAxGKo6apik3NzczBQfjAg2yGQCApxBsREy325Xf/va3drCQz+elUqlM/bfOZaVFRGq1GuMwAABPWviqrwi2eDwuJycn9uNqtSpHR0dT/e3x8bEr0Mjn8wQaAIBnkdmIqM3NTWk0Gvbj+/v7J+seeLMa9Xpdstms8nYCAPRHZiOizs/PXbUNnIHHOOVy2Q40kskkgQYAYGoEGxFlGIZ8+PDBfvzTTz9N/N1qteoqgV4sFpW2DQAQLnSjRFiv15PXr1/bj8dtCt7uk0wmIxcXF0trIwBAf2Q2IiwWi7mmq44rtOQcFJpMJqVery+tfQCAcCDYiDjn2Avv2ibdbnek+4RaGgCAWRFsRNzHjx/t+41Gw7VuCoNCAQCLwJgNyM7OjquyaLFYlHg8LoVCwX6Oqa4AgHkRbGDs2imGYTAoFACwEAQbEJHJi7WJiPT7fcZqAADmRrAB26SAg00EAPASDBCFzTAMqdfrrvVO8vm8jy0CAIQBmQ0AAKAUmQ0AAKAUwQYAAFCKYAMAAChFsAEAAJQi2AAAAEoRbAAAAKUINgAAgFIEGwAAQCmCDQAAoBTBBgAAUIpgAwAAKEWwAQAAlCLYAAAAShFsAAAApQg2AACAUgQbAABAKYINAACgFMEGAABQimADAAAoRbABAACUItgAAABKEWwAAAClCDYAAIBSBBsAAEApgg0AAKAUwQYAAFCKYAMAAChFsAEAAJQi2AAAAEoRbAAAAKUINgAAgFIEGwAAQCmCDQAAoBTBBgAAUIpgAwAAKEWwAQAAlCLYAAAAShFsAAAApQg2AACAUgQbAABAKYINAACgFMEGAABQimADAAAoRbABAACUItgAAABKEWwAAAClCDYAAIBSBBsAAEApgg0AAKAUwQYAAFCKYAMAAChFsAEAAJQi2AAAPOvs7Ew2Njbk7OzM76ZAQyuWZVl+NwIAEFylUknK5bKIiBiGIQ8PD2IYhs+tgk7IbAAAJqpWq3agISKSzWYJNDAzMhsAgLG63a4kEgkZDAYiIpLJZKRerxNsYGZkNgAAY5XLZTvQSCaTBBqYG8EGAGBEqVSSarVqPy4WixMDjbu7Ozk7O5OdnR1JJBKysrLyolsikZC9vT3pdrvLertQjG4UAIBLtVqVQqFgP85kMnJxcWE/bjQasre3J3d3d8rbYpqmZDIZef/+vaTTaeWvBzUINgAAtufGaXh/vkzxeFw+fvwou7u7S39tvAzdKAAA2/Hx8cRxGs1mU968eTMSaBiGIZlMRg4PD+Xq6kosy3rRrV6vSzKZHGlbt9uVvb09SSQSri4eBB+ZDQCAiIhcX1/LxsaGHUzU63XJZrP2zxOJhKvrxPtzFTqdjnz69EkajcZIt83h4aHs7+8rfX0sBsEGAEB6vZ6sr6/bJ/RkMintdtv1O0dHR3JwcCAio+M4VBsMBlIoFJ6sYGqapnz8+FHy+fzS2oXpEGwAAGRzc1MajYaIPHaLtNttWVtb87lVowaDgbx+/frJMSPb29vy/fffM6A0QBizAQARVyqV7EBDRKRSqQQy0BB5DISKxeKTvzNcx2V1dVVOT0+X1DI8hcwGAESYc90TkcesQK1W87FF8xkMBrK1teUKmoboXvEfwQYARJQ30EilUnJ5eal1ldDhgNJqtTrS1VIsFqVUKvnUsmijGwVQ7OzszK6qyJQ9BIU30MhkMtoHGiKPA1tPTk7GdrWUy2X2QZ+Q2QAU8lZiHGLKHvw0rkJoWNc9GQwGsrm5Kc1m0/V8Pp+XYrEo8Xjcp5ZFC8EGoMjZ2Zns7e1Jr9cb+ZlhGNLv931oFaIuiiu5Tpo2OxxsSuCvHt0ogAKlUkl2dnZcgcbDw4N9349Sz4DI0xVCw8owDKnVatLv911FyAaDgRwcHEihUGDRN8UINoAFq1arrr5wkceUbSwW86lFwKPBYCCfP3+2Hz+1kmsYGYYh9Xp9pBx6tVqVRCIhR0dHPrYu3OhGmVOz2ZRCobCQVQ9N05RsNisfP36k/zAEVldX7askb4p6ZWXF/j12PSzb58+fZWtrS0Qejztfv371uUX+GTdVlu5NdchszGlRgYaIyN3dnZyensrq6qqsrKzYt0QiIXt7e6T3NOP8vqKQooY+fvzxR/v+hw8ffGyJ/5xZjuE+OhzbwTF38Qg25rSMHdUZhJDi0xOBBoLi9vZWWq2WiDxul9vb2z63KBiy2ayr2BddKmrQjRIAjUZDyuWydDqdZ3+33W6PXXoZwfFUVwndKPBLoVCw60tks1mp1+s+tyg4JnWpXFxcsL7KgpDZCIBsNivtdlssy3LdvIOYRETW19cpDgVgJqVSyXW8iHoXitekLpWNjQ37eEum44UsKPXw8GAVi0XLNE1LRCzTNK1arTbT/2i325aIjL2ZpmlVKhVFrcc8nN+PU6VSmfgzQBXvdpfJZPxuUqDt7+9PPN62222/m6ctjngKVSoVKxaLjWywhmHM/L/y+fzEHUBErGKxqOAdYB7jAor7+3vLMAz7+Vwu52MLESXxeNwVaPT7fb+bFHjtdtva3d21LxKHt2w263fTtEWwoUixWJwYGOTz+Rf9736/b21vbxNwBNS4YGN3d9d+LplMcsDH0ji3R7a72Xkzy2Q35sOYDQVOT09dRZ1M05RarWaPxahUKi/6/85qeJlMxn6+XC4zbSugolxICcHBdje7ZDLpqjrqLdiH6TAbZcE6nY68efNmaesOjFtkiHr//ho344RZKPCDd2VXtr35dDodWV9ftx/zOc6OzMYCDQYD2dnZsQONVCqlvKjTcBT1uHr/pVJJ2esCCDZv2fxcLudja/SWTCZdx3GOrbMj2FiQTqcjOzs7dq2MYVfHMtKWk+r9l8tldooAYIoy/OAMNDKZjNRqNR9boz9n4S+OrXPwb7hIOFQqlZERyyJiHR4e+tKefr9vZTIZBo76yPnZPzw8uGYDMAsFyyIMDF0ojq0vQ7DxApNmnPg9PYqdwl/Oz9079VnFQb9Wq7kC3nlquah2cXExEpRTI0ad+/t7arooMO7Y6teFpW7YCud0cnLi2uDi8biVz+ety8tLv5tmWRYBh18eHh4mTnlWUUxpUsA7Ty0XlcZl/9gu1fFOtcbijDu23t/f+92swCPYmMPV1ZWrQFNQC+UQcKg17mp93E1VpsFbGdJ5e2ktl0U7PDx88jOidsHieAvI1et1v5sUOv1+30qlUvZnTIbueQQbM3p4eHCdYFKpVCADjaFxAQcH9sVwjsWYdFPZnaFzZch+v2+l0+nAdD2GCVmN5ajVavbnnE6n/W5O4BFszCibzbpS1Tc3N3436Vkc2NV4LtBQ3Veu+wBAb2VGxnAshjMIJauhjrfLlLEbT6Oo1wxOT09lb2/Pflyr1WR7e9vHFk3PW5Tm8vKSpZNfaFKhrmUV8ApDobCdnR05OztzPVcsFplWOKdutyurq6v2Y123C128evXKrqskItJut0dW6sYj6mxM6fr6Wg4ODuzH29vb2gQaIo9FaZxFfZzFxzAfSj+/XKVSGdmPyuWyXa8Gszk+Prbvc9JTr1gsuh5TyvwJfqZVdOEdp7G2tqZl2vr+/t6VYg3aIELdDAc9ej9H8aEbRXferj7TNElLz4EulOXzdgcyCH88ulGmsLm5KY1GQ0Qer2bb7basra353Kr5NBoN2dzctB+T9ls8ulHm4+3qE2H7nFXYtgldeLsD6QocRTfKM0qlkh1oiDymfXUNNEREstmsax2Vzc1NymkjEJLJpKsktAhp6Vk4j1NB1Ww2ZWNjY2Scju4qlcrICtx0BbqR2XiCd8XE7e3tUKwvMO4K8v7+XuLxuE8tChcyGy/j3T7JbkxndXVVut2u/TiI28SwjYZhSL/f97s5CzUYDOTdu3fSarVE5PHCrl6v+9yq4CCzMYE30EilUlKpVHxs0eKMu4LU4aoI6nz+/FkSiYSsrKzYt0Qi4csVaDKZdGXfyG48r9VquQIN7/4dFMM2hnFwumEYcnJyYj9uNBp0pTj5NVgkyLwloHUrmDQtZ1GaZDJJyd0FEQ0HiE6qhPpU2fNKpWKl02klAzm9g+7wtHw+b39W+/v7fjdnoih8p9vb29TfGCO83/icohJoWNbjLBtnWWPDMAK3gJffpi1JPuttESXMF3ngdlad9N7Gce4nqtZhcW6bBMKTecuTX11d+d2ksaKyOJy3anPQ1inyS3i/8TlEKdAYGreQF+XMf6Ui0FjUQWiRB+5+v2/lcjlLREauzLzGrcmigvOATWXRyXQpT65LOxeh3+9HIrCaBZ/C//Gu4hqFQGOoXq9ba2tr9nunnPmvnltA7CW3l9Y5UXEwG2YQJv3vh4eHsWvCqMDaE8/TadG1qNUAIdhw41OwRnfYKAUaQ94+8nw+T+p6Tss6yKh8Hef/rtfrT2Z4VF2lerv5KJY0SqdsQdROvs73S2aOYMOyLPfiaslkMnKBxpA3fW4YBoOb5hC2YOO51W1VXqU6Bz6KMNjOS6dsQdSCDWegLCLW169f/W6SryJfZ6PZbMq7d+/sx1dXV5JKpXxskX8Gg4FsbW25psGGcT68amGos+H830/JZDJycXGx0Nd2GgwGsrm5Kc1mU0TYHr10qrWiU1sX4ejoyLWelk4Ld6oQ6Tobg8HAtYrr9vZ2ZAMNkccDeb1edxWiCeN8eDzNWa/BaX9/X3Z3d+3HyWRSedGi4TY5XPRuMBjI0dGR0tcEFmF/f9+1UNuXL198bI3/Ih1snJ6eyu3trYiIxGIxOTw89LlFweAsqIToca4c6vTtt9+6StsXi8WlrHxrGIarSBVFvqCLdDpt3x9WFo2qyAYbrVbLddAqFouU63ZwnkSo8R9MKr6jbrc7dq2cbDYrX758sTNd3iqfqjkvBMi2QRepVMreT+/u7iIdcEQy2Li7u5PNzU37oJVKpVzpYQjlojXgXVBvEaXFj4+PXSdz0zSlVqtJvV6Xz58/288708PLsIwMCrBohmG49tOdnZ3oBst+jk71w8PDg6umRDwej/wo4XG8U2GZdjg9WdKoe+939NIiYc9NAV/W+5rE79cPIl0+k8vLS7udpmn63Zylur+/d80aeml9HV1FLrOxtbVlj9MYDj4zTdPnVgVPMpl0jZwul8ssKhQw3gX1Xjp4slwuu666nAMzgZf49OmTfT+Xy/nYkuWLx+OuRTyr1Wo0u6b9jnaWybv+w/n5ud9NCjRvjX+hzsFUZMlXm87t2jCMuerEeEuQj6vYuez3FbTXDxpnZisWi/ndnIm821ZQ125RzVnPKYpVmiOz13o3+CCvjBgk4wIOKos+bdknRe+6JrPydp8YhmHd3NyM/J7fJ3u/Xz9onEssBPnk5exCyGQyfjfHN1FfyTgS79i5xkJQd8yLiwsrnU4HctXVfr9vpVIpSu9Oya8DyrxBoDfjNyl75feB0u/XD5J6ve46iZ+cnPjdpImc31tUqzMPRXkbDv07Pj8/d33BQS1HPjxwBHU5YhbFmp5uBxRvOfJJnL8zzc00zYUGz7p9rqp4M1EiwV2p2ZtRXpQgX5w9JcrbcOjfsfNAmkwmrYeHB7+bNFbQN8KHh4fAt3EZpjnI6fY5Oduby+Um/p73BDfNbZHBs5sS9FAAABpfSURBVG6fqyreTNRT35nfnMffRbYz6Bdnkzj3oaAGiKqEeq91TreKxWKBDTQsS48DqQ5tVG2ag5xun5PzAPhU1u/w8HDmYGOR0/x0+1xV0GlJectS14Wi67YwHFslEszufJVCPfXVWa0tm81KLBbzsTX6c06DjOo02OG6IWEqzDMs0JXP55+c6rq/vy/W4wXK1DfnlL+XiOr25uUsurbsKq4vxTRqkY8fP9r3G43GxHWIwijUwcYf//hH+/7bt299bEk4eNenYEGscBgGEYsKDBatWq26qthGrU6Dk59VXINiuAKwjpLJpGQyGfuxc4XtsAvtEvPdbldWV1ftxw8PD4HObOiw/DLLfU/3PenwXepkdXXVvgLMZDKRLjam27alor3O7WGR/3dZzs7OZGdnR0QeF2q7vLz0uUXLEdrMhjP6TaVSgQ40dDFuue8opQGxHM1mUxKJhKysrMjKyoprG4tyoBF1nU5HdnZ2tD/mZLNZextutVqRqSYa2mDj559/tu///ve/97El4WIYhmvZ5CilAbEchUJB7u7uRp7P5XIEGhHT6/WkVCpJIpGQ9fX1hSw26LdYLObqSonKQpehDDYGg4Ers+H8YvFy79+/t+//9NNPPrYEYfThw4eR53K5nNRqNR9aAz84g4xyuTw2+NSZc7xNo9GIRHYjlGM2ms2mvHv3TkQeF8G5v7/3uUXP06kvttfryerqqj0qvt1uSzKZ9LlVy/Hc9+QdKxT07xJ60ek4IeJu70vF43HJZrPy/v172djYsJ/X4XMYZ3Nz084MZ7NZqdfrPrdIrVBmNpxX2zpNDdNFVNOAIs9P/z0+PrbvRyUAw3I4r351GYO2iG4v0zSlVqvJ/f29VCoVVzeuzrzZjbBlb7xCGWw4xxE4U/5YnCimAUVGp/8OBzEOb6enp/bPozo1EWo46wbpcsJ9yT4wDDK+fv0q29vbC2xVMCSTSdf36Px+wyh0wUar1ZJerycijxurLjulbrwFhaKS3Tg8PJx6DBBZNSzSly9f7Pu61A2apxDc8BbWIMPJ+T06v98wCl2w4exCiXLxn2XwZjd0n5I2jeH03+cOgs4MCLAIOmY28LQoZTZCNUC01WrJu3fv7IGLV1dXkkqlfG7VdHQb+DX07t07e+ZPpVLhJAsoousxQoWwfBaDwUBevXplP9b5vTwnNJmNu7s72drasgONVCqlTaChM6bBAsB8olQ3JhSZjcFgIBsbG3J9fS0ij1Ok2u22xONxn1s2PV0j9V6vJ69fv7Yf69R2QCe6HiNUCNNnEab38pRQZDYKhYIdaAz71HUKNHSmyxQ8AIB/tA82qtWqq4TtyckJ3ScAAASI9t0ozhUA8/l8YJfJfo7OqTSd2w7ogv3sV2H6LML0Xp6idWaj1WrZgYZpmnJycuJziwBEyd///d/Lq1evRoq7JRIJqVarfjcPCAytgw1vTY0ojewF4L9yuWzPgHO6u7uTQqEwtqQ9Xo5jvX60DjacZcm/++47H1sCIIq+/fbbJ39eLpdlb29vbECC+Q0LClLXRx/ajtlotVr2yn+macrXr199btHL6Nxvp3PbgZcYDAayublpF7YTEfmnf/onKRaLrufW1takVqu9aPA6+1k4vXr1yg5G7+/vQzuTUtvMBmXJAfhtONXeWXb648ePUq1WXWvj3N7eyps3b+To6MiPZiLAnNuOM1sfNtoGG3ShAAgCwzBcg9NbrZasra3Jd999J7VazVWL5uDgIDIrJGM6UanCrG03SthSijq/H53bDixKoVAYmYEyrGS8ublpFx4cMk1TisXi1Cubsp+FU1SqMBNsBITO70fntgOL1Gg05ODgQG5vb0VEJJvNSr1el06nI+vr6yO/bxiG5PN5+fjx47N99exn4RWF71bbYMM5qEbTt+Ci88amc9uBRfMGFsN9YlzmY8gwDCkWi7K/vz/x/7KfhVcUvlstx2x0u1070GBtDgBBkkwmxz5fqVTEsiyxLEsODw9dPxsMBnJwcEBdDoSWlsGGs+9z0o4NAH5xFp0aNyB0f39fLMuSer3uOoaVy2UCjgh6bnsJAy2DDeeXEcZgw7mwHAD9OKe9lsvlJ3/v6upKMpmM6/eZIhst024vOtNyzMbm5qY99fX8/DwUdTacY1AMw5B+v+9zi6YXhf5GYBbecRvPFWvyFgcbdwxgPwuvSeN8wkS7zEan03FV5gtLZmNYfldEpp4KByCYksmkK1vxXLGmYXGwYTp9MBhEJrvRbDYlkUiMLGY37y2RSGiXHQ7LeewpWmU2BoOBvHnzxu5GSaVScnV15XOrwBUXMOrs7Ex2dnZE5LFK5OXl5bN/s7e3J6enpyIymt0I6362urpqr969KLplh0XC+/0OaZXZODo6sgMNwzCkVqv53CI8Z5qrlkQiIXt7ews/4AB+cvbDt1qtqa62nbNUorJ4W6/XW/j/jMpnpxOtMhvOCPjw8PDJOelYnqci8kQiIXd3d8tuEqZkmqaYpikiIm/fvhWRx0XD4vG4xGKxSKR3VZpnLNak/SmsV75HR0dycHAg+XxeKpXKi/6Xzp+Rzm2fhlbBRti/DF099b0MDyTQWyqVck3P87q7u1t4UGmapiSTSfnd734n6XRaksmkdnV1vNt/u91+NoCLWrCxSDp/Rjq3fRoEG3ixl34vjUZDyuVyaOeXY3F0DEC2trbk8+fPIjLdeiiT9idnloTM7ng6nyN0bvs0CDbwYnwv+nJmJFqtloiI/OlPfxp5DovzXHfKpP3pqcGjeKTzsUjntk9Dm2DDOQ85FovJw8ODzy3CUNh3Evij0+lIp9ORX375RTqdTqgCn6f2k0n702AwkFevXk31P6JK52ORzm2fxjd+N2BazgNNOp32sSUAliGZTI6MbwhDAJLP5+f6u6fGzABBp02w8eXLF/v+cNQ8gGgZF4CEyXPTvw3DsMdtdDqdUH8WCBdt6myQ2QAQds51McYFElFYQ+MlyP4ElzZjNsLen6Uzvhvg5UqlkiuAqNfrruBCJBpraMyr2+3K6uqqiOg5ri/sx1FtMhsAEFanp6euQCOTyYwEGiLRWENjXtfX1/Z9PqfgIdgAAB91Oh1X4a9MJiP1en3i7zu7CqhN8yvnZ0GwETxaBBusmQEgjAaDgezs7NiDPlOplGv113EYtzHeL7/8Yt//9ttvfWwJxtEi2Dg+PrbvE7ECCAtn5dzh4pLPDXL8+PGjff+5peujxDmJgPNE8GgRbAxL/YqIFItFH1sCAItRKpXk6OjIflwsFmVtbe3Zv+NEOqrT6dirx8Zisak+RyyXFsGGsxtl3KAp3Uxadj2RSEi1WvW7eQAU8848yWQyM6114sx+hKmbudlsysbGhpydnc30d7OURuj1elIqlSSRSEgikZj5tTAnSwMiYt/CIB6Pu96T93Z4eOh3E2cStu8HUKlYLLr2mUwmY/X7/Zn+RyaTsf++UqkoaunyDY+NhmHM9HfZbNb+PE5OTsb+Tq1Ws0zTHDnezvpaqoT9OKpFZiMshhmN565EGPQFhNO4jMZzA0LHef/+vX3/xx9/DE12Y/g+hgNmp/VcZqNUKsnOzo69wKDTUyvwYnG0KOoVlmIniUTCtbHncjk5Pz8XEb0XWQrL9wOo0uv1pFwu26u2iswfaAz/3+rqqn1SNgxDKpWK9ifOV69ezRxozMM0TSkWi4H6vMJ+HCWzsUQfPnyw7+dyOanVavZjyuwC4VStViWRSCws0BB5HATpnJUynEKre4Zj3kXqppXJZKTf78vXr18DFWhEAZmNANH1ferabkC1arUqhULB9dxLAw2nRqMhe3t7dsa0UqkoP2GrNBgMpFAoKBm0ObzAC+qFXdiPowQbAaLr+9S13YBqq6urdrZBVer+7OxMdnZ2ROSxKNjl5WVgT6iqhOEYFIb38BS6UQKg0WhIIpHwuxlzcQ7MMk3Tx5YAwVKtVl3dGjc3N0pS99ls1g4urq+vZX193bVOCBAEBBsBUCgURgaO6uKnn36y7+vUbkA156yTXC6nLNsQi8VcXSe3t7fy5s0b1xiRMHOuiRKLxXxsCZ5CsOGzVqvluvrxDhwNOme55O+++87HlgDBUSqVXPu16n365OREarWa62S7t7en/YDRacxS0CvIwt71RbDhA2cF0Y2NDdfPPn/+LK9evRqpLjrLbZlV8ZwHs1QqtZTXBIKsWq0uLavhtL29LTc3N65y5lFYO+XLly/2/bdv3/rYkvl1u117ym9YszMEGz7wdpss2t3d3cgIeADL4S3atcxMZTwel7/7u7+zHzu7OcMqDJkN5xibsK59Q7DhA2e9DVWYQw4s17gKwYua4joL54DRVqvlGtMQNt4F2HQ9UTu/I13fw3MINnywv78vlmUpvVUqFb/fJhAp4wZ6+9EPH4vFJJPJ2I/DvPxBGLIaIiK//PKLff/bb7/1sSXqEGwAwAI8VSF42YrFon2/0WiENrsRhvEaIu6gKayZDYp6YW46r+cChN3m5qY9QDSbzUq9Xve5RYv3+vVruxul3W5re6KOwjmOYANz+/z5s2xtbYnIY0Gvr1+/+twiAEOdTkfW19ftx1+/fg1d4b2wnBvC8j6eQjcK5vbjjz/a95cx6BXA9JLJpGscgzNVDywbwQbmcnt7ax+8DMNg9gsQQM5xDM7xDcCyEWxgLs6sRjablXg87mNrAIxDZgNBQbCBuXz+/Nm+TxcKEEypVMqefnt3dyelUsnnFiGqCDYwM+d6LqZpaj2/HQgzwzBci7SVy2U5OjrysUWLFfb1RMKEYAMzY6VXQB+Hh4euIl8HBwdKl0tYpmE9EWdApaMoBE1MfcVMOp2OvHnzxl406OrqigXYgIAbDAby5s0bu7hXrVZjUHdAdLtdWV1dFZHH6q8PDw8+t0gNMhuY2mAwkJ2dHTvQSKVSBBqABgzDkO+++85+zMyU4IjCImwiBBuYwdHRkX1lZBiGr+WYAcyGmSnBFIVF2EQINjAD53TXYrEoa2trPrYGwCy8M1POzs58bhFEorEImwhjNjAlb+ljvgdAP1tbW/a0dcMwpN1uc9HgM+f6Ljc3N6H9PshsKNRsNiWRSMjKyspct0QiEYirj+FYjSGmugJ6qlQq9voog8FANjc37TFY8Mcw0BCR0AYaImQ2lEokEi+eYmYYhvT7/QW1aD6lUknK5bLdHq6GAH1dX1/LxsaGHWRsb28z/spHup7fZkVmQ6FFVNb0+6rj9vZWjo+P7ceM1QD0lkql5PDw0H58dnbmGqSI5RkWR4wCMhsBFZT3/ObNG3tqVjKZlHa77VtbACzOu3fvpNlsisjj+kb1et3nFkXP5uamNBoNEQn/8ZXMBiY6OjqyAw2mugLh4sxuNBoNshtL1mw27UBD5HE8TZhpEWw4S7lGYX54EFJr19fX9jgNEZGPHz+Geg44EDXJZFKy2az92Lm/Q63BYCB7e3v24+3t7dAXSNQi2HDuEM4KlmHl3On9OMH3ej3Z2tqyP+dkMin7+/tLbwcAtYZri4g8ZjeCMPttEcbNBAzK7D4RkdPTU7m9vRWRxxLlzixTaFkauL+/t2KxmCUilohY+Xze7yYpUa/XLdM07fcpIla9Xl96O7LZrP36hmFYNzc3S28DgOXI5XKh29+9x1Hn+wuCeDxut+nk5MTv5iyFFsGGZVlWrVZzbTT39/d+N2mh7u/vLcMwXO8xk8ksvR2VSsXVhlqttvQ2AFieh4cH18l5bW3N6vf7fjfrRQ4PD8cGG0G4vm6323ZbYrGY381ZGi26UUQe+7ScxaScA2t0c3Z2NpLiW11ddXUP5XI5X0aHO7twtre3WRkSCLlYLCbn5+f22Ljb21spFAo+t2q8ZrMpGxsbz3aH7O/vi/V4MR24GYzOcYeRKpDoc7AzE2d2I51O+92cuXgzB+NuhmH4krnxRty6X90AmN7JyYnrOHRxceF3k0YMux9m7Q6RAGU2nN3UUelCsSyNMhsijwNFh9F3q9XScqrWDz/88OzvDAYDSSQScnR0tIQW/cobcTtnAQEIt93d3ZHB+M5S2kEwnKmn8ySBqGY2tAo2YrGYZDIZ+7GOU7XGbVzxeFzy+bzkcjn7ucFgsPT39/PPP9v33759u9TXBuC/SqUi8XhcRB5P7M7pmXi5TqdjB3CxWCxS5QS0CjZERqdqTZvdmLavT7VKpeLqS7QsS+7v76VSqcj5+blrnMYyo/dSqWRXExSJVsQN4FE8HpeTkxP78dnZmdbj44ImqlkNEQ2DjXkL0ezs7Eir1QrswKch53tbFudCayIimUwmUhE3gF/lcjlXlnVnZ8euCYGX+fLli30/atljLdZG8ep0OrK+vm4/brfbz54cg7LWyDSW2dZxgUa9Xme8BhBhvV5P1tfX7VWr19bWpN1u+35cmPfYGITjf7fblUQiYWespzlvhYl2mQ0RyuwuSrVaJdAAMEKn6bC6OD4+dlVljlKgIaJpZkNk9uxGECLbaS2jrd4om0ADgNfp6alrkGixWJRSqeRbe3TNbHiPt/V63Zcucz9pmdkQIbvxUt4om0ADgJd3Omy5XPY12NCV93gbtUBDRONgQ2R0Zgo7wXS63a5Uq1X7cbFYJNAAMNb5+flIyYEgTIn1e2bhtMYdb6NI62AjmUy6ymmXy+WlF8KaRq/Xk1KpNFKifNJNNaJsANMyDEPq9bor4Dg9PZWNjY2lF/1yXhTpMoaE4+3/WX7R0sXq9/tWJpN5dpE27yJnpmlau7u7SsqC12q1iasOznLL5XILb1u73XZ9Fn6sKgtAP/1+31VqW/5v0bZlrhLrXWDtOeOOxcvmXOE1ysdb7YMNy3rcCVKplP2FViqVkd/Z3d198cl/mbdcLrfwtUn6/b6VTCbt10ilUgv9/wDCr1gsuo5VsVhsqSfRaQMHbzv9CDYuLy9dF7hRFopgw7Lci7Qlk8mRjEW/37e2t7d9Cx5M0/R9uXbnzmcYxlKvSACER71et2KxmOsYd3h4uJTXfi5weCqznM/nl9LGoXw+b7/2/v7+Ul87aEITbDw8PLi6BwzDeHLjr9frrqt8HTITL+HtPlnWgQFAON3c3Fhra2uu416xWFT+uk8FG+OyGZlMxpdj8f39veuYe3V1tfQ2BElogg3LGt3QZl2GOKzoPgGgwsPDw8iYOdUBh/ME7lSpVBZ20XdxcWGl0+kXZaOdWY1kMjn3/wmLUAUblvWYsfCrfy6o9vf36T4BoMS4QfoqA47hIFFvl4hzIOZLsxnD/zXvBav3wjfKA0OHQnk2Jtj4lXejp/sEwKKNCzjy+byS2X7jjMtqLOo2K+8xN5PJKHjH+gnl2diZZltGH2JQnZycsNEDWIpxAYdhGMpKDDh5x44scuzdLMYFGkEau+enUAYb3mmu7Xbb7yYtnXdwEhs9ANXG1eIYBh0qs6rO8RGLDDRmOWYSaDwtlMFGv9+30um0/aVns1m/m7R0zh0+mUyy0QNYmkmz/cKaaSbQeF4ogw3LepzqGYWNfJyLiwvXe4/6lCsA/hgXdITtWDyuu5pAY9T/Vwrp6mXxeFz+9Kc/SafTERGRL1++iGEY8pd/+Zc+t0ytwWAgm5ub8p//+Z8iIrK9vS1/+7d/63OrAETR2tqabG9vyz//8z/Lv/3bv4nI47H4P/7jP+Qv/uIv5De/+Y3PLXyZ6+tr+cMf/iD/+7//KyIimUyGFbQnWLEsy/K7EaoMT7zNZlNEHhfx6ff7PrdKraOjIzk4OBARkVgsJjc3NxKPx31uFYAo8x6LRR6Px9vb2/L+/XtJp9M+tm4+vV5P1tfX5e7uTkREUqmUXF5eEmhMEOpgQ+RxI3/9+rW96l6xWAztUvTdblcSiYT9Xk9OTmR3d9fnVgHA47F4a2tLGo3GyM/i8bjkcjn5+PGjNhdHm5ub9nsxDEPa7basra353KrgCm03ytA333wj//Vf/yXX19ci8pjCExEtI+nn/OEPf5B/+Zd/EZHHpYzPzs58bhEAPPrmm28kl8tJMpmUf/3Xf5Vut2v/7H/+53/k+vpa/uEf/kH+/d//XX7zm9+IaZo+tnayXq8nBwcHruPrP/7jP8pf/dVf+diq4At9ZkNkfApvyDRNyeVyUiwWtU5/NZtNeffunf346upKUqmUjy0CgMk6nY58+vRJGo2G3RUxC9M0JZVKydu3byWdTivPKvR6PTk9PZUffvhBer2e/fz29rbUajWlrx0GkQg2RJ4OOEQeBzLVajUtT9CDwUDW19fl9vZWRNj4Aeil0WhIuVy2B/TrgnEa0/t/fjdgWQzDkHq9Ltvb22N/fnt7K2/evJGjo6Mlt+xlOp2O7Ozs2IFGLBaTw8NDn1sFANPLZrPSbrel3W7L7u5uYLtQhkzTlFqtJldXVwQaU4pMZmOSs7Mz2dvbG0mLff/994Ee11GtVuX4+Hgk/cigUABR0Ol0pNVqyZcvX6TVarmO4aqYpinFYnHiRSsmi3ywIfI4i2Nra0tarZbr+aCOkC6VSlIul0eez2azUq/XfWgRAACTEWz8n6emZRmGIfl8PhBBx8HBgaurJx6PSzab1XauOgAg/Ag2PJ4aIe1nEZrb21vZ2dmxp/CKUK0OAKAHgo0nBHmENIEGAEAXkZmNMo/hCOl6vS7JZNLv5ojIY3bl8PBQLi4uCDQAAFogszGDlxahealUKiW1Wo2SuAAArRBsAAAApehGAQAAShFsAAAApQg2AACAUgQbAABAKYINAACgFMEGAABQimADAAAoRbABAACUItgAAABKEWwAAAClCDYAAIBSBBsAAEApgg0AAKAUwQYAAFCKYAMAAChFsAEAAJQi2AAAAEoRbAAAAKUINgAAgFIEGwAAQCmCDQAAoBTBBgAAUIpgAwAAKEWwAQAAlCLYAAAAShFsAAAApQg2AACAUgQbAABAKYINAACgFMEGAABQimADAAAoRbABAACUItgAAABKEWwAAAClCDYAAIBSBBsAAEApgg0AAKAUwQYAAFCKYAMAAChFsAEAAJQi2AAAAEoRbAAAAKX+fxQraS2pwCHjAAAAAElFTkSuQmCC)"
   ]
  },
  {
   "cell_type": "code",
   "execution_count": null,
   "metadata": {},
   "outputs": [],
   "source": [
    "# WAF that maps [0,1,2,3,4] to a new list: \n",
    "# the mapping relation is f(x) = x^2+2x+6\n"
   ]
  },
  {
   "cell_type": "code",
   "execution_count": null,
   "metadata": {},
   "outputs": [],
   "source": [
    "# WAF to find squares of the numbers till 10"
   ]
  },
  {
   "cell_type": "code",
   "execution_count": null,
   "metadata": {},
   "outputs": [],
   "source": [
    "# WAP to accepts list of numbers from the user separated by commas and get sum of them "
   ]
  },
  {
   "cell_type": "markdown",
   "metadata": {},
   "source": [
    "## reduce()"
   ]
  },
  {
   "cell_type": "code",
   "execution_count": null,
   "metadata": {},
   "outputs": [],
   "source": [
    "from functools import reduce\n",
    "\n",
    "help(reduce)"
   ]
  },
  {
   "cell_type": "code",
   "execution_count": null,
   "metadata": {},
   "outputs": [],
   "source": [
    "reduce(lambda x,y:x+y,range(4))"
   ]
  },
  {
   "cell_type": "code",
   "execution_count": null,
   "metadata": {},
   "outputs": [],
   "source": [
    "reduce(lambda x,y:x/y,range(8,1,-2))"
   ]
  },
  {
   "cell_type": "code",
   "execution_count": null,
   "metadata": {},
   "outputs": [],
   "source": [
    "reduce(lambda x, y: x*y, [1, 2, 3])"
   ]
  },
  {
   "cell_type": "code",
   "execution_count": null,
   "metadata": {},
   "outputs": [],
   "source": [
    "reduce(lambda x, y: x*y, [1, 2, 3], 10)  # reduce with initial value"
   ]
  },
  {
   "cell_type": "markdown",
   "metadata": {
    "id": "gWC71jTQgvTI",
    "jp-MarkdownHeadingCollapsed": true
   },
   "source": [
    "# List Comprehension:\n",
    "List comprehension offers a shorter syntax when you want to create a new list based on the values of an existing iterable.\n",
    "```\n",
    "Syntax\n",
    "\n",
    "[expresssion for item in iterable]\n",
    "\n",
    "[expression for item in iterable if condition == True]\n",
    "\n",
    "[expression if cond else exp2 for item in iterable]\n",
    "```"
   ]
  },
  {
   "cell_type": "code",
   "execution_count": 8,
   "metadata": {},
   "outputs": [],
   "source": [
    "# WAP using list comprehension which adds Mr. at the start of every name in the students list\n",
    "student_list = ['Sudarshan', 'sam', 'Joel', 'Sarah']"
   ]
  },
  {
   "cell_type": "code",
   "execution_count": null,
   "metadata": {},
   "outputs": [],
   "source": [
    "# make every name in list as upper case\n",
    "name_list = ['Jane','Sam','Tom','Danny','Guido','Sara']"
   ]
  },
  {
   "cell_type": "code",
   "execution_count": 9,
   "metadata": {
    "colab": {
     "base_uri": "https://localhost:8080/"
    },
    "executionInfo": {
     "elapsed": 601,
     "status": "ok",
     "timestamp": 1685423764515,
     "user": {
      "displayName": "naz nazira",
      "userId": "06694449877078577923"
     },
     "user_tz": -330
    },
    "id": "lgpQBHo2FI-F",
    "outputId": "c95a6a5c-ef37-4de6-c055-261005dd6890"
   },
   "outputs": [],
   "source": [
    "# using comprehension get all even numbers from a given list\n",
    "numbers = [5,9,7,6,1,4,8,3,2,0]"
   ]
  },
  {
   "cell_type": "code",
   "execution_count": 12,
   "metadata": {},
   "outputs": [],
   "source": [
    "# get list of all odd numbers between 1 to 20"
   ]
  },
  {
   "cell_type": "code",
   "execution_count": 10,
   "metadata": {
    "colab": {
     "base_uri": "https://localhost:8080/"
    },
    "executionInfo": {
     "elapsed": 17,
     "status": "ok",
     "timestamp": 1685424193057,
     "user": {
      "displayName": "naz nazira",
      "userId": "06694449877078577923"
     },
     "user_tz": -330
    },
    "id": "2lqhyzvyF-_c",
    "outputId": "001cd572-633d-499d-9005-00f6d99374ac"
   },
   "outputs": [],
   "source": [
    "# WAP which multiplies every even element by 10, and odd elements by 5\n",
    "\n",
    "numbers = [10,21,36,57,45]\n",
    "# output = [100 21 360 57 45]"
   ]
  },
  {
   "cell_type": "code",
   "execution_count": null,
   "metadata": {
    "colab": {
     "base_uri": "https://localhost:8080/"
    },
    "executionInfo": {
     "elapsed": 405,
     "status": "ok",
     "timestamp": 1685424861845,
     "user": {
      "displayName": "naz nazira",
      "userId": "06694449877078577923"
     },
     "user_tz": -330
    },
    "id": "G__wp9dNG5h6",
    "outputId": "e540f87d-741e-4688-ed1c-0c6a3c2a10e8"
   },
   "outputs": [],
   "source": [
    "# WAP to get a list of all students whose name starts with 's'\n",
    "student_list = ['Sudarshan', 'sam', 'Joel', 'Sarah']"
   ]
  },
  {
   "cell_type": "code",
   "execution_count": 11,
   "metadata": {
    "colab": {
     "base_uri": "https://localhost:8080/"
    },
    "executionInfo": {
     "elapsed": 851,
     "status": "ok",
     "timestamp": 1685426735670,
     "user": {
      "displayName": "naz nazira",
      "userId": "06694449877078577923"
     },
     "user_tz": -330
    },
    "id": "hCBmIVP_fT-4",
    "outputId": "04e5c8d1-1a18-40c2-c892-5306ba865565"
   },
   "outputs": [],
   "source": [
    "# WAP to get status list from scores_list, if score >= 80 then good,else bad\n",
    "scores = [80,65,72,56,23,98,62]"
   ]
  },
  {
   "cell_type": "code",
   "execution_count": null,
   "metadata": {
    "colab": {
     "base_uri": "https://localhost:8080/"
    },
    "executionInfo": {
     "elapsed": 892,
     "status": "ok",
     "timestamp": 1685427402006,
     "user": {
      "displayName": "naz nazira",
      "userId": "06694449877078577923"
     },
     "user_tz": -330
    },
    "id": "ElXIVh1hsDHk",
    "outputId": "a84422f9-85f7-4f2c-fd5f-294ff7125f50"
   },
   "outputs": [],
   "source": [
    "# Add 5 for every even index and add 10 for every odd index\n",
    "numbers = [10,20,30,40,50]\n",
    "# output = [15,30,35,50,55]\n"
   ]
  },
  {
   "cell_type": "code",
   "execution_count": null,
   "metadata": {
    "colab": {
     "base_uri": "https://localhost:8080/"
    },
    "executionInfo": {
     "elapsed": 815,
     "status": "ok",
     "timestamp": 1685427572345,
     "user": {
      "displayName": "naz nazira",
      "userId": "06694449877078577923"
     },
     "user_tz": -330
    },
    "id": "nr2R-bSkgySL",
    "outputId": "1f127c17-5eac-4464-e860-d3f676f82450"
   },
   "outputs": [],
   "source": [
    "# Display the sum of digits of all the odd elements in a list.\n",
    "\n",
    "number_list = [1,10,3,20,5,50]\n"
   ]
  },
  {
   "cell_type": "code",
   "execution_count": 13,
   "metadata": {
    "colab": {
     "base_uri": "https://localhost:8080/"
    },
    "executionInfo": {
     "elapsed": 346,
     "status": "ok",
     "timestamp": 1672999674969,
     "user": {
      "displayName": "naz nazira",
      "userId": "06694449877078577923"
     },
     "user_tz": -330
    },
    "id": "IGZkXMzgizTt",
    "outputId": "97072fad-b090-4782-ca89-d591b5163e3a"
   },
   "outputs": [
    {
     "data": {
      "text/plain": [
       "[(0, 0),\n",
       " (0, 1),\n",
       " (0, 2),\n",
       " (0, 3),\n",
       " (0, 4),\n",
       " (1, 0),\n",
       " (1, 1),\n",
       " (1, 2),\n",
       " (1, 3),\n",
       " (1, 4),\n",
       " (2, 0),\n",
       " (2, 1),\n",
       " (2, 2),\n",
       " (2, 3),\n",
       " (2, 4)]"
      ]
     },
     "execution_count": 13,
     "metadata": {},
     "output_type": "execute_result"
    }
   ],
   "source": [
    "# nested loops in comprehension\n",
    "[(i,j) for i in range(3) for j in range(5)]"
   ]
  },
  {
   "cell_type": "code",
   "execution_count": 16,
   "metadata": {
    "colab": {
     "base_uri": "https://localhost:8080/"
    },
    "executionInfo": {
     "elapsed": 5,
     "status": "ok",
     "timestamp": 1673234276134,
     "user": {
      "displayName": "naz nazira",
      "userId": "06694449877078577923"
     },
     "user_tz": -330
    },
    "id": "b0HZELakgruY",
    "outputId": "c37a0991-1e39-45d9-bdac-af861f9a16e0"
   },
   "outputs": [],
   "source": [
    "# Get all students details whose name starts with s\n",
    "d = {'ID1': 'sara','ID2' : 'Dan', 'ID3' :'Swaroop','ID4': 'Sai'}\n",
    "# expected_output : {'ID1': 'sara', 'ID3': 'Swaroop', 'ID4': 'Sai'}\n"
   ]
  },
  {
   "cell_type": "markdown",
   "metadata": {
    "id": "2Soj3LzCb6Q5",
    "jp-MarkdownHeadingCollapsed": true
   },
   "source": [
    "# Scope\n",
    "**Q) Suppose you refer to the name x in your code, and x exists in several scope. How does Python know which one you mean?**\n",
    "\n",
    "Python searches for x in the following namespaces in the order shown\n",
    "1. Local: If you refer to x inside a function, then the interpreter first searches for it in the innermost scope that’s local to that function.\n",
    "2. Enclosing: If x isn’t in the local scope but appears in a function that resides inside another function, then the interpreter searches in the enclosing function’s scope.\n",
    "3. Global: If neither of the above searches is fruitful, then the interpreter looks in the global scope next.\n",
    "4. Built-in: If it can’t find x anywhere else, then the interpreter tries the built-in scope.\n",
    "\n",
    "LEGB rule (Local,enclosing,global,builtins)\n",
    "\n",
    "![image.png](data:image/png;base64,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)"
   ]
  },
  {
   "cell_type": "code",
   "execution_count": null,
   "metadata": {
    "colab": {
     "base_uri": "https://localhost:8080/"
    },
    "executionInfo": {
     "elapsed": 5,
     "status": "ok",
     "timestamp": 1687580199712,
     "user": {
      "displayName": "naz nazira",
      "userId": "06694449877078577923"
     },
     "user_tz": -330
    },
    "id": "buMeJK1SnTSw",
    "outputId": "6a7808d4-e3dc-4085-9600-f9751bccb446"
   },
   "outputs": [],
   "source": [
    "# Local\n",
    "def outer():\n",
    "  x = 10\n",
    "  def inner():\n",
    "    x = 50\n",
    "    print(\"inner: \",x)\n",
    "  inner()\n",
    "  print(\"outer x: \",x)\n",
    "\n",
    "outer()"
   ]
  },
  {
   "cell_type": "code",
   "execution_count": 18,
   "metadata": {
    "colab": {
     "base_uri": "https://localhost:8080/"
    },
    "executionInfo": {
     "elapsed": 4,
     "status": "ok",
     "timestamp": 1687580066538,
     "user": {
      "displayName": "naz nazira",
      "userId": "06694449877078577923"
     },
     "user_tz": -330
    },
    "id": "VCx6ExTVb6RN",
    "outputId": "0263f8ff-b2f6-40ff-d316-f45964f97c24"
   },
   "outputs": [
    {
     "name": "stdout",
     "output_type": "stream",
     "text": [
      "inner:  10\n",
      "outer:  10\n"
     ]
    }
   ],
   "source": [
    "# Enclosing\n",
    "def outer():\n",
    "  x = 10\n",
    "  def inner():\n",
    "    print(\"inner: \",x)\n",
    "  inner()\n",
    "  print(\"outer: \",x)\n",
    "\n",
    "outer()"
   ]
  },
  {
   "cell_type": "code",
   "execution_count": 19,
   "metadata": {
    "colab": {
     "base_uri": "https://localhost:8080/"
    },
    "executionInfo": {
     "elapsed": 484,
     "status": "ok",
     "timestamp": 1687580662304,
     "user": {
      "displayName": "naz nazira",
      "userId": "06694449877078577923"
     },
     "user_tz": -330
    },
    "id": "oqo_SbTqo3Ki",
    "outputId": "5c60f6e1-e668-4f67-a478-5bcdda0f0f13"
   },
   "outputs": [
    {
     "name": "stdout",
     "output_type": "stream",
     "text": [
      "50\n"
     ]
    }
   ],
   "source": [
    "# Global\n",
    "x = 50\n",
    "\n",
    "def outer():\n",
    "  def inner():\n",
    "    print(x)\n",
    "  inner()\n",
    "\n",
    "outer()"
   ]
  },
  {
   "cell_type": "code",
   "execution_count": 20,
   "metadata": {
    "colab": {
     "base_uri": "https://localhost:8080/"
    },
    "executionInfo": {
     "elapsed": 5,
     "status": "ok",
     "timestamp": 1687581106705,
     "user": {
      "displayName": "naz nazira",
      "userId": "06694449877078577923"
     },
     "user_tz": -330
    },
    "id": "_FQhXUotp3U_",
    "outputId": "bb5731e7-9f3a-4f65-c46d-b0efd7828b70"
   },
   "outputs": [
    {
     "name": "stdout",
     "output_type": "stream",
     "text": [
      "80\n"
     ]
    }
   ],
   "source": [
    "# Builtins\n",
    "def outer(x):\n",
    "  def inner(x):\n",
    "    print(max(x))\n",
    "  inner(x)\n",
    "\n",
    "outer([50,80,40])"
   ]
  },
  {
   "cell_type": "code",
   "execution_count": 21,
   "metadata": {},
   "outputs": [
    {
     "ename": "NameError",
     "evalue": "name 'my_max' is not defined",
     "output_type": "error",
     "traceback": [
      "\u001b[1;31m---------------------------------------------------------------------------\u001b[0m",
      "\u001b[1;31mNameError\u001b[0m                                 Traceback (most recent call last)",
      "Cell \u001b[1;32mIn[21], line 6\u001b[0m\n\u001b[0;32m      3\u001b[0m     \u001b[38;5;28mprint\u001b[39m(my_max(x))\n\u001b[0;32m      4\u001b[0m   inner(x)\n\u001b[1;32m----> 6\u001b[0m \u001b[43mouter\u001b[49m\u001b[43m(\u001b[49m\u001b[43m[\u001b[49m\u001b[38;5;241;43m50\u001b[39;49m\u001b[43m,\u001b[49m\u001b[38;5;241;43m80\u001b[39;49m\u001b[43m,\u001b[49m\u001b[38;5;241;43m40\u001b[39;49m\u001b[43m]\u001b[49m\u001b[43m)\u001b[49m\n",
      "Cell \u001b[1;32mIn[21], line 4\u001b[0m, in \u001b[0;36mouter\u001b[1;34m(x)\u001b[0m\n\u001b[0;32m      2\u001b[0m \u001b[38;5;28;01mdef\u001b[39;00m \u001b[38;5;21minner\u001b[39m(x):\n\u001b[0;32m      3\u001b[0m   \u001b[38;5;28mprint\u001b[39m(my_max(x))\n\u001b[1;32m----> 4\u001b[0m \u001b[43minner\u001b[49m\u001b[43m(\u001b[49m\u001b[43mx\u001b[49m\u001b[43m)\u001b[49m\n",
      "Cell \u001b[1;32mIn[21], line 3\u001b[0m, in \u001b[0;36mouter.<locals>.inner\u001b[1;34m(x)\u001b[0m\n\u001b[0;32m      2\u001b[0m \u001b[38;5;28;01mdef\u001b[39;00m \u001b[38;5;21minner\u001b[39m(x):\n\u001b[1;32m----> 3\u001b[0m   \u001b[38;5;28mprint\u001b[39m(\u001b[43mmy_max\u001b[49m(x))\n",
      "\u001b[1;31mNameError\u001b[0m: name 'my_max' is not defined"
     ]
    }
   ],
   "source": [
    "\n",
    "def outer(x):\n",
    "  def inner(x):\n",
    "    print(my_max(x))\n",
    "  inner(x)\n",
    "\n",
    "outer([50,80,40])"
   ]
  },
  {
   "cell_type": "code",
   "execution_count": 25,
   "metadata": {
    "colab": {
     "base_uri": "https://localhost:8080/"
    },
    "executionInfo": {
     "elapsed": 433,
     "status": "ok",
     "timestamp": 1687581565800,
     "user": {
      "displayName": "naz nazira",
      "userId": "06694449877078577923"
     },
     "user_tz": -330
    },
    "id": "57bwtiVDrhKM",
    "outputId": "02b4018e-d254-451d-af7c-f025ecfe2d19"
   },
   "outputs": [
    {
     "name": "stdout",
     "output_type": "stream",
     "text": [
      "inner:  10\n",
      "outer:  20\n"
     ]
    }
   ],
   "source": [
    "# Accesing a global variable in local scope\n",
    "\n",
    "x = 10\n",
    "def outer():\n",
    "  x = 20\n",
    "  def inner():\n",
    "    global x\n",
    "    print(\"inner: \",x)\n",
    "  inner()\n",
    "  print(\"outer: \",x)\n",
    "\n",
    "outer()"
   ]
  },
  {
   "cell_type": "code",
   "execution_count": 28,
   "metadata": {
    "colab": {
     "base_uri": "https://localhost:8080/"
    },
    "executionInfo": {
     "elapsed": 445,
     "status": "ok",
     "timestamp": 1687581738689,
     "user": {
      "displayName": "naz nazira",
      "userId": "06694449877078577923"
     },
     "user_tz": -330
    },
    "id": "kBFXVTlCrzBS",
    "outputId": "0f369d8f-30b2-4860-bda6-24545b47a650"
   },
   "outputs": [
    {
     "name": "stdout",
     "output_type": "stream",
     "text": [
      "inner:  1010\n",
      "outer:  20\n"
     ]
    },
    {
     "data": {
      "text/plain": [
       "1010"
      ]
     },
     "execution_count": 28,
     "metadata": {},
     "output_type": "execute_result"
    }
   ],
   "source": [
    "# Modifying a global variable in local scope\n",
    "\n",
    "x = 10\n",
    "def outer():\n",
    "  x = 20\n",
    "  def inner():\n",
    "    global x\n",
    "    x += 1000\n",
    "    print(\"inner: \",x)\n",
    "  inner()\n",
    "  print(\"outer: \",x)\n",
    "\n",
    "outer()\n",
    "x"
   ]
  },
  {
   "cell_type": "code",
   "execution_count": 30,
   "metadata": {},
   "outputs": [
    {
     "name": "stdout",
     "output_type": "stream",
     "text": [
      "inner:  20\n",
      "outer:  20\n"
     ]
    },
    {
     "data": {
      "text/plain": [
       "1010"
      ]
     },
     "execution_count": 30,
     "metadata": {},
     "output_type": "execute_result"
    }
   ],
   "source": [
    "# Modifying a global variable in local scope\n",
    "\n",
    "x = 10\n",
    "def outer():\n",
    "  x = 20\n",
    "  def inner():\n",
    "    globals()['x'] += 1000   # Note\n",
    "    print(\"inner: \",x)\n",
    "  inner()\n",
    "  print(\"outer: \",x)\n",
    "\n",
    "outer()\n",
    "x"
   ]
  },
  {
   "cell_type": "code",
   "execution_count": 35,
   "metadata": {
    "id": "4rXmim8Krzyl"
   },
   "outputs": [
    {
     "name": "stdout",
     "output_type": "stream",
     "text": [
      "inner:  1020\n",
      "outer:  1020\n"
     ]
    },
    {
     "data": {
      "text/plain": [
       "10"
      ]
     },
     "execution_count": 35,
     "metadata": {},
     "output_type": "execute_result"
    }
   ],
   "source": [
    "# Accesing a global variable in local scope\n",
    "\n",
    "x = 10\n",
    "def outer():\n",
    "  x = 20\n",
    "  def inner():\n",
    "    nonlocal x\n",
    "    x += 1000\n",
    "    print(\"inner: \",x)\n",
    "  inner()\n",
    "  print(\"outer: \",x)\n",
    "\n",
    "outer()\n",
    "x"
   ]
  },
  {
   "cell_type": "code",
   "execution_count": 36,
   "metadata": {
    "colab": {
     "base_uri": "https://localhost:8080/"
    },
    "executionInfo": {
     "elapsed": 440,
     "status": "ok",
     "timestamp": 1687582438815,
     "user": {
      "displayName": "naz nazira",
      "userId": "06694449877078577923"
     },
     "user_tz": -330
    },
    "id": "sTKM1-QCIVd1",
    "outputId": "6cd06c2a-deeb-4332-d333-2cff596842c6"
   },
   "outputs": [
    {
     "name": "stdout",
     "output_type": "stream",
     "text": [
      "598\n"
     ]
    },
    {
     "data": {
      "text/plain": [
       "666"
      ]
     },
     "execution_count": 36,
     "metadata": {},
     "output_type": "execute_result"
    }
   ],
   "source": [
    "x = 666\n",
    "def f():\n",
    "  x = 588\n",
    "  def g():\n",
    "    nonlocal x\n",
    "    x += 10\n",
    "\n",
    "  g()\n",
    "  print(x)\n",
    "\n",
    "f()\n",
    "x"
   ]
  },
  {
   "cell_type": "markdown",
   "metadata": {
    "jp-MarkdownHeadingCollapsed": true
   },
   "source": [
    "# Exceptions/Errors"
   ]
  },
  {
   "cell_type": "markdown",
   "metadata": {},
   "source": [
    "## Reading Exceptions"
   ]
  },
  {
   "cell_type": "code",
   "execution_count": null,
   "metadata": {},
   "outputs": [],
   "source": [
    "print(my_variable)"
   ]
  },
  {
   "cell_type": "code",
   "execution_count": null,
   "metadata": {},
   "outputs": [],
   "source": [
    "def add(*numbers):\n",
    "  for num in numbers:\n",
    "    sum += num\n",
    "\n",
    "  return sum\n",
    "\n",
    "add(1,10,50)"
   ]
  },
  {
   "cell_type": "code",
   "execution_count": null,
   "metadata": {},
   "outputs": [],
   "source": [
    "def Password_Checker(password):\n",
    " val=password\n",
    " a=b=c=\"\"\n",
    " val_list=list(val)\n",
    " if ((len(val) >= 6 & len(val) <= 16) & ((\"$\" in val) | (\"#\" in val) | (\"@\" in val))):\n",
    "    for i in val_list:\n",
    "        if ord(i) in int_ascii:\n",
    "            a=\"X\"\n",
    "        elif ord(i) in A_Z_ascii:\n",
    "            b=\"X\"\n",
    "        elif ord(i) in a_z_ascii:\n",
    "            c=\"X\"\n",
    "\n",
    "    if (a == b == c):\n",
    "        return \"Successfull\"\n",
    "    else:\n",
    "        return \"Failure\"\n",
    "\n",
    " else:\n",
    "        return \"password does not match requirements!\"\n",
    "\n",
    "\n",
    "password=input(\"Please enter new password :\")\n",
    "print(Password_Checker(password))\n"
   ]
  },
  {
   "cell_type": "code",
   "execution_count": null,
   "metadata": {},
   "outputs": [],
   "source": [
    "import sys\n",
    "\n",
    "def linecount(f):\n",
    "    \"\"\"Returns number of lines a file.\n",
    "    \"\"\"\n",
    "    # read lines and count them\n",
    "    return len(open(f).readlines())\n",
    "\n",
    "def wordcount(f):\n",
    "    \"\"\"Returns the number of words in a file.\"\"\"\n",
    "    # Get the words by doing split() on the contents\n",
    "    return len(open(f).read().split())\n",
    "\n",
    "def charcount(f):\n",
    "    \"\"\"Returns the number of charaters in a file.\n",
    "    \"\"\"\n",
    "    # The number of characters in a file is same as the length\n",
    "    # of its contents.\n",
    "    return len(open(f).read())\n",
    "\n",
    "def main():\n",
    "    f = sys.path[-1]\n",
    "    print(linecount(f), wordcount(f), charcount(f), f)\n",
    "\n",
    "if __name__ == \"__main__\":\n",
    "    main()"
   ]
  },
  {
   "cell_type": "code",
   "execution_count": null,
   "metadata": {},
   "outputs": [],
   "source": [
    "import sys\n",
    "sys.path.append('/content/abc.txt')\n",
    "sys.path"
   ]
  },
  {
   "cell_type": "markdown",
   "metadata": {},
   "source": [
    "## Handling Exception"
   ]
  },
  {
   "cell_type": "markdown",
   "metadata": {},
   "source": [
    "### Syntax\n",
    "\n",
    "```\n",
    "try:\n",
    "  .....\n",
    "except:\n",
    "  .....\n",
    "\n",
    "\n",
    "try:\n",
    "  .....\n",
    "except:\n",
    "  .....\n",
    "else:\n",
    "  .....\n",
    "\n",
    "try:\n",
    "  .....\n",
    "except:\n",
    "  .....\n",
    "else:\n",
    "  .....\n",
    "finally:\n",
    "  .....\n",
    "```"
   ]
  },
  {
   "cell_type": "markdown",
   "metadata": {},
   "source": [
    "### Why to handle exception"
   ]
  },
  {
   "cell_type": "code",
   "execution_count": null,
   "metadata": {},
   "outputs": [],
   "source": [
    "a = int(input(\"Enter first number : \"))\n",
    "b = int(input(\"Enter second number : \"))\n",
    "print(a/b)"
   ]
  },
  {
   "cell_type": "code",
   "execution_count": null,
   "metadata": {},
   "outputs": [],
   "source": [
    "try:\n",
    "  a = int(input(\"Enter first number : \"))\n",
    "  b = int(input(\"Enter second number : \"))\n",
    "  print(a/b)\n",
    "except:\n",
    "  print(\"Something went wrong\")"
   ]
  },
  {
   "cell_type": "code",
   "execution_count": null,
   "metadata": {},
   "outputs": [],
   "source": [
    "try:\n",
    "  a = int(input(\"Enter first number : \"))\n",
    "  b = int(input(\"Enter second number : \"))\n",
    "  print(a/b)\n",
    "except ValueError:\n",
    "  print(\"Sensor is not working\")\n",
    "except ZeroDivisionError:\n",
    "  print(\"Zero Division error occured\")\n"
   ]
  },
  {
   "cell_type": "code",
   "execution_count": null,
   "metadata": {},
   "outputs": [],
   "source": [
    "a = int(input(\"Enter first number : \"))\n",
    "b = int(input(\"Enter second number : \"))\n",
    "print(a/b)"
   ]
  },
  {
   "cell_type": "markdown",
   "metadata": {},
   "source": [
    "### try-except"
   ]
  },
  {
   "cell_type": "code",
   "execution_count": null,
   "metadata": {},
   "outputs": [],
   "source": [
    "try:\n",
    "  a = int(input(\"Enter first number : \"))\n",
    "  b = int(input(\"Enter second number : \"))\n",
    "  print(a/b)\n",
    "except:                                  # This will catch all the exceptions\n",
    "  print(\"Something wrong happened\")"
   ]
  },
  {
   "cell_type": "code",
   "execution_count": null,
   "metadata": {},
   "outputs": [],
   "source": [
    "try:\n",
    "  a = int(input(\"Enter first number : \"))\n",
    "  b = int(input(\"Enter second number : \"))\n",
    "  print(a/b)\n",
    "except ZeroDivisionError:                        # This will catch ZeroDivisionError only\n",
    "  print(\"ZeroDivisionError happened\")"
   ]
  },
  {
   "cell_type": "markdown",
   "metadata": {},
   "source": [
    "### Handling multiple exceptions"
   ]
  },
  {
   "cell_type": "code",
   "execution_count": null,
   "metadata": {},
   "outputs": [],
   "source": [
    "try:\n",
    "  a = int(input(\"Enter first number : \"))\n",
    "  b = int(input(\"Enter second number : \"))\n",
    "  print(a/b)\n",
    "except ZeroDivisionError:\n",
    "  print(\"Enter nonzero b\")\n",
    "except ValueError:\n",
    "  print(\"Enter valid numbers\")"
   ]
  },
  {
   "cell_type": "code",
   "execution_count": null,
   "metadata": {},
   "outputs": [],
   "source": [
    "try:\n",
    "  a = int(input(\"Enter first number : \"))\n",
    "  b = int(input(\"Enter second number : \"))\n",
    "  print(a/b)\n",
    "except ZeroDivisionError:\n",
    "  print(\"Enter nonzero b\")\n",
    "except ValueError:\n",
    "  print(\"Enter valid numbers\")"
   ]
  },
  {
   "cell_type": "markdown",
   "metadata": {},
   "source": [
    "### raising an exception"
   ]
  },
  {
   "cell_type": "code",
   "execution_count": null,
   "metadata": {},
   "outputs": [],
   "source": [
    "raise ZeroDivisionError(\"Give non-zero divisor\")"
   ]
  },
  {
   "cell_type": "code",
   "execution_count": null,
   "metadata": {},
   "outputs": [],
   "source": [
    "for i in range(10):\n",
    "  try:\n",
    "    if i == 3:\n",
    "      i/0\n",
    "    else:\n",
    "      i/1\n",
    "    raise\n",
    "  except ZeroDivisionError:\n",
    "    print(\"Message plant cordinator\")\n",
    "  except:\n",
    "    continue"
   ]
  },
  {
   "cell_type": "code",
   "execution_count": null,
   "metadata": {},
   "outputs": [],
   "source": [
    "# raise will raise the last generated exception\n",
    "try:\n",
    "  a = int(input(\"Enter first number : \"))\n",
    "  b = int(input(\"Enter second number : \"))\n",
    "  print(a/b)\n",
    "except:\n",
    "  print(\"Something went wrong\")\n",
    "  raise"
   ]
  },
  {
   "cell_type": "code",
   "execution_count": null,
   "metadata": {},
   "outputs": [],
   "source": [
    "# raise doesnt work in try block\n",
    "try:\n",
    "  a = int(input(\"Enter first number : \"))\n",
    "  b = int(input(\"Enter second number : \"))\n",
    "  print(a/b)\n",
    "  raise\n",
    "except:\n",
    "  print(\"Something went wrong\")"
   ]
  },
  {
   "cell_type": "code",
   "execution_count": null,
   "metadata": {},
   "outputs": [],
   "source": [
    "# raise doesnt work in try block\n",
    "try:\n",
    "  a = int(input(\"Enter first number : \"))\n",
    "  b = int(input(\"Enter second number : \"))\n",
    "  print(a/b)\n",
    "  raise\n",
    "except:\n",
    "  raise"
   ]
  },
  {
   "cell_type": "markdown",
   "metadata": {},
   "source": [
    "### Raising an exception explicitly"
   ]
  },
  {
   "cell_type": "code",
   "execution_count": null,
   "metadata": {},
   "outputs": [],
   "source": [
    "raise RuntimeError"
   ]
  },
  {
   "cell_type": "code",
   "execution_count": null,
   "metadata": {},
   "outputs": [],
   "source": [
    "raise RuntimeError(\"Some wrong input you provided\")"
   ]
  },
  {
   "cell_type": "code",
   "execution_count": null,
   "metadata": {},
   "outputs": [],
   "source": [
    "for i in ['a','b','c']:\n",
    "  if i == 'c':\n",
    "    continue\n",
    "  print(i)\n",
    "else:\n",
    "  print(\"Done\")"
   ]
  },
  {
   "cell_type": "markdown",
   "metadata": {},
   "source": [
    "### try-except-else"
   ]
  },
  {
   "cell_type": "code",
   "execution_count": null,
   "metadata": {},
   "outputs": [],
   "source": [
    "# else would be executed when there is no exception from try\n",
    "\n",
    "try:\n",
    "  a = int(input(\"Enter first number : \"))\n",
    "  b = int(input(\"Enter second number : \"))\n",
    "  res = a/b\n",
    "except:\n",
    "  print(\"Something wrong happened\")\n",
    "else:\n",
    "    print(res)\n",
    "\n"
   ]
  },
  {
   "cell_type": "markdown",
   "metadata": {},
   "source": [
    "### try-except-else-finally"
   ]
  },
  {
   "cell_type": "code",
   "execution_count": null,
   "metadata": {},
   "outputs": [],
   "source": [
    "# finally is executed irrespective of anything\n",
    "try:\n",
    "  a = int(input(\"Enter first number : \"))\n",
    "  b = int(input(\"Enter second number : \"))\n",
    "  res = a/b\n",
    "except:\n",
    "  print(\"Enter nonzero b\")\n",
    "else:\n",
    "    print(res)\n",
    "finally:\n",
    "  print(\"I am in finally\")\n",
    "\n"
   ]
  },
  {
   "cell_type": "code",
   "execution_count": null,
   "metadata": {},
   "outputs": [],
   "source": [
    "try:\n",
    "    div=5/aa\n",
    "    print(div)\n",
    "except (ZeroDivisionError,TypeError) as e:\n",
    "    print(e)\n",
    "except Exception as e:\n",
    "    print(e)"
   ]
  },
  {
   "cell_type": "code",
   "execution_count": null,
   "metadata": {},
   "outputs": [],
   "source": [
    "try:\n",
    "  n=1\n",
    "  assert n>0\n",
    "  raise\n",
    "except:\n",
    "  # raise\n",
    "  print(\"Exception\")"
   ]
  },
  {
   "cell_type": "markdown",
   "metadata": {},
   "source": [
    "## Types of Exceptions:\n",
    "1. BuiltIn Exceptions\n",
    "2. Custom Exceptions"
   ]
  },
  {
   "cell_type": "markdown",
   "metadata": {},
   "source": [
    "### BuiltIn exceptions:\n"
   ]
  },
  {
   "cell_type": "markdown",
   "metadata": {},
   "source": [
    "### Custom Exceptions\n",
    "- Python has numerous built-in exceptions that force your program to output an error when something in the program goes wrong. However, sometimes you may need to create your own custom exceptions that serve your purpose.\n",
    "- Creating Custom Exceptions\n",
    "> In Python, users can define custom exceptions by creating a new class. This exception class has to be derived, either directly or indirectly, from the built-in Exception class. Most of the built-in exceptions are also derived from this class.\n",
    "\n"
   ]
  },
  {
   "cell_type": "code",
   "execution_count": null,
   "metadata": {},
   "outputs": [],
   "source": [
    "# user-defined exception called CustomError which inherits from the Exception class\n",
    "class My_CustomError(Exception):\n",
    "  pass\n",
    "\n",
    "# can be raised using the raise statement\n",
    "raise My_CustomError"
   ]
  },
  {
   "cell_type": "code",
   "execution_count": null,
   "metadata": {},
   "outputs": [],
   "source": [
    "# can be raised using the raise statement with an optional error message\n",
    "raise CustomError(\"An error occurred\")"
   ]
  },
  {
   "cell_type": "code",
   "execution_count": null,
   "metadata": {},
   "outputs": [],
   "source": [
    "# define Python user-defined exceptions\n",
    "class Error(Exception):\n",
    "    \"\"\"Base class for other exceptions\"\"\"\n",
    "    pass\n",
    "\n",
    "class ValueTooSmallError(Error):\n",
    "    \"\"\"Raised when the input value is too small\"\"\"\n",
    "    pass\n",
    "\n",
    "class ValueTooLargeError(Error):\n",
    "    \"\"\"Raised when the input value is too large\"\"\"\n",
    "    pass\n",
    "\n",
    "# you need to guess this number\n",
    "number = 10\n",
    "\n",
    "# user guesses a number until he/she gets it right\n",
    "while True:\n",
    "    try:\n",
    "        i_num = int(input(\"Enter a number: \"))\n",
    "        if i_num < number:\n",
    "            raise ValueTooSmallError\n",
    "        elif i_num > number:\n",
    "            raise ValueTooLargeError\n",
    "        break\n",
    "    except ValueTooSmallError:\n",
    "        print(\"This value is too small, try again!\")\n",
    "        print()\n",
    "    except ValueTooLargeError:\n",
    "        print(\"This value is too large, try again!\")\n",
    "        print()\n",
    "    except:\n",
    "        continue\n",
    "\n",
    "print(\"Congratulations! You guessed it correctly.\")\n"
   ]
  },
  {
   "cell_type": "markdown",
   "metadata": {
    "jp-MarkdownHeadingCollapsed": true
   },
   "source": [
    "# Assertion\n",
    "\n",
    "- The assert keyword is used when debugging code.\n",
    "\n",
    "- The assert keyword lets you test if a condition in your code returns True, if not, the program will raise an AssertionError."
   ]
  },
  {
   "cell_type": "code",
   "execution_count": null,
   "metadata": {},
   "outputs": [],
   "source": [
    "x = \"hello\"\n",
    "\n",
    "#if condition returns True, then nothing happens:\n",
    "assert x == \"hello\"\n",
    "print(\"Done\")"
   ]
  },
  {
   "cell_type": "code",
   "execution_count": null,
   "metadata": {},
   "outputs": [],
   "source": [
    "#if condition returns False, AssertionError is raised:\n",
    "assert x == \"goodbye\""
   ]
  },
  {
   "cell_type": "code",
   "execution_count": null,
   "metadata": {},
   "outputs": [],
   "source": [
    "x = \"hello\"\n",
    "\n",
    "#AssertionError with message:\n",
    "assert x == \"goodbye\", \"x should be 'hello'\""
   ]
  },
  {
   "cell_type": "code",
   "execution_count": null,
   "metadata": {},
   "outputs": [],
   "source": [
    "d = {'a':10,'b':12}\n",
    "del d['b']\n",
    "d"
   ]
  },
  {
   "cell_type": "code",
   "execution_count": null,
   "metadata": {},
   "outputs": [],
   "source": [
    "# WAP to merge two dictionaries\n",
    "l1 = {'s1':10,'s2':60}\n",
    "l2 = {'s3':15,'s2':40}\n",
    "l1.update(l2)\n",
    "l1\n",
    "\n",
    "# WAP to delete a global variable from the environment\n",
    "aaa = 23\n",
    "del globals()['aaa']"
   ]
  }
 ],
 "metadata": {
  "colab": {
   "collapsed_sections": [
    "BgH0UIIGFYdz",
    "Y870IYV5CLrY",
    "NzJ1XgJJq898",
    "U-gQvJgBxox6",
    "6UAnxgNfSq_8",
    "rSbSQJHwSwE1",
    "k8vzVPClQlW0",
    "3rbSJNDRekAI",
    "jvitpdZGELcS",
    "8nAsEjgeS0E3",
    "l-O80MYZSmv9",
    "LbFg8_mPwaWF",
    "3bxcCfGJzlaH",
    "iMp3uyR0OzEl",
    "BR4gQCvPfYTe",
    "C-H7FDoIZxIA",
    "2t8QJ0BHZ5R-",
    "PMSBdeh-GwPs",
    "lQx0bB5oV_h6",
    "lgYlQP5GP4la",
    "BRhV_mMF2908",
    "Zq1H1SRz5KJZ",
    "h6f_bk0BdaSc"
   ],
   "provenance": [],
   "toc_visible": true
  },
  "kernelspec": {
   "display_name": "Python 3 (ipykernel)",
   "language": "python",
   "name": "python3"
  },
  "language_info": {
   "codemirror_mode": {
    "name": "ipython",
    "version": 3
   },
   "file_extension": ".py",
   "mimetype": "text/x-python",
   "name": "python",
   "nbconvert_exporter": "python",
   "pygments_lexer": "ipython3",
   "version": "3.12.0"
  }
 },
 "nbformat": 4,
 "nbformat_minor": 4
}
