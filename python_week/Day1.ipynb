{
 "cells": [
  {
   "cell_type": "markdown",
   "metadata": {
    "id": "9SqRHY5yHTcS",
    "jp-MarkdownHeadingCollapsed": true
   },
   "source": [
    "# Python\n",
    "\n",
    "[Interpreted](https://discuss.codecademy.com/t/what-is-an-interpreted-language/297323), Object-oriented, General Purpose Programming Language build by **Guido Van Rossum** in late 90's\n",
    "\n",
    "**NOTE: PYTHON IS CASE SENSITIVE**\n"
   ]
  },
  {
   "cell_type": "markdown",
   "metadata": {
    "id": "wfcInw9ZHxwZ",
    "jp-MarkdownHeadingCollapsed": true
   },
   "source": [
    "# Integral Datatypes\n",
    "- int\n",
    "- float\n",
    "- bool\n",
    "- complex\n",
    "- None\n",
    "- String"
   ]
  },
  {
   "cell_type": "code",
   "execution_count": null,
   "metadata": {},
   "outputs": [],
   "source": [
    "a = 1.79e308"
   ]
  },
  {
   "cell_type": "code",
   "execution_count": null,
   "metadata": {},
   "outputs": [],
   "source": [
    "a, type(a)"
   ]
  },
  {
   "cell_type": "code",
   "execution_count": null,
   "metadata": {},
   "outputs": [],
   "source": [
    "a = False"
   ]
  },
  {
   "cell_type": "code",
   "execution_count": null,
   "metadata": {},
   "outputs": [],
   "source": [
    "a, type(a)"
   ]
  },
  {
   "cell_type": "code",
   "execution_count": null,
   "metadata": {},
   "outputs": [],
   "source": [
    "a = 2+3j"
   ]
  },
  {
   "cell_type": "code",
   "execution_count": null,
   "metadata": {},
   "outputs": [],
   "source": [
    "a, type(a)"
   ]
  },
  {
   "cell_type": "code",
   "execution_count": null,
   "metadata": {},
   "outputs": [],
   "source": [
    "a = None"
   ]
  },
  {
   "cell_type": "code",
   "execution_count": null,
   "metadata": {},
   "outputs": [],
   "source": [
    "a, type(a)"
   ]
  },
  {
   "cell_type": "code",
   "execution_count": null,
   "metadata": {},
   "outputs": [],
   "source": [
    "a = \"Good Morning\""
   ]
  },
  {
   "cell_type": "code",
   "execution_count": null,
   "metadata": {},
   "outputs": [],
   "source": [
    "a, type(a)"
   ]
  },
  {
   "cell_type": "code",
   "execution_count": null,
   "metadata": {},
   "outputs": [],
   "source": [
    "a = 'Good Morning'"
   ]
  },
  {
   "cell_type": "code",
   "execution_count": null,
   "metadata": {},
   "outputs": [],
   "source": [
    "a, type(a)"
   ]
  },
  {
   "cell_type": "code",
   "execution_count": null,
   "metadata": {},
   "outputs": [],
   "source": [
    "a = 'Good Morning\"'"
   ]
  },
  {
   "cell_type": "code",
   "execution_count": null,
   "metadata": {},
   "outputs": [],
   "source": [
    "a"
   ]
  },
  {
   "cell_type": "markdown",
   "metadata": {
    "id": "3x5ielysL9Me",
    "jp-MarkdownHeadingCollapsed": true
   },
   "source": [
    "# Typecasting\n",
    "Python understands the datatype of objects on its own.\n",
    "When we explicitly change the datatype of the object is known as **typecasting**\n",
    "```\n",
    "int()\n",
    "float()\n",
    "bool()\n",
    "complex()\n",
    "str()\n",
    "```"
   ]
  },
  {
   "cell_type": "code",
   "execution_count": null,
   "metadata": {},
   "outputs": [],
   "source": [
    "a = '10'"
   ]
  },
  {
   "cell_type": "code",
   "execution_count": null,
   "metadata": {},
   "outputs": [],
   "source": [
    "type(a)"
   ]
  },
  {
   "cell_type": "code",
   "execution_count": null,
   "metadata": {},
   "outputs": [],
   "source": [
    "a = int(a)\n",
    "type(a)"
   ]
  },
  {
   "cell_type": "code",
   "execution_count": null,
   "metadata": {},
   "outputs": [],
   "source": [
    "a = 'Z'\n",
    "int(a)"
   ]
  },
  {
   "cell_type": "code",
   "execution_count": null,
   "metadata": {},
   "outputs": [],
   "source": [
    "a = '10.23'\n",
    "int(float(a))"
   ]
  },
  {
   "cell_type": "code",
   "execution_count": null,
   "metadata": {},
   "outputs": [],
   "source": [
    "a = \"\"\n",
    "bool(a)"
   ]
  },
  {
   "cell_type": "code",
   "execution_count": null,
   "metadata": {},
   "outputs": [],
   "source": []
  },
  {
   "cell_type": "code",
   "execution_count": null,
   "metadata": {},
   "outputs": [],
   "source": [
    "a = \"...\"\n",
    "bool(a)"
   ]
  },
  {
   "cell_type": "code",
   "execution_count": null,
   "metadata": {},
   "outputs": [],
   "source": [
    "a = \"\"\n",
    "bool(a)"
   ]
  },
  {
   "cell_type": "code",
   "execution_count": null,
   "metadata": {},
   "outputs": [],
   "source": [
    "a = \"    \"\n",
    "bool(a)"
   ]
  },
  {
   "cell_type": "code",
   "execution_count": null,
   "metadata": {},
   "outputs": [],
   "source": [
    "a = 0.000001\n",
    "bool(a)"
   ]
  },
  {
   "cell_type": "code",
   "execution_count": null,
   "metadata": {},
   "outputs": [],
   "source": [
    "a = 0.0000000\n",
    "bool(a)"
   ]
  },
  {
   "cell_type": "code",
   "execution_count": null,
   "metadata": {},
   "outputs": [],
   "source": [
    "a = -0.0001\n",
    "bool(a)"
   ]
  },
  {
   "cell_type": "code",
   "execution_count": null,
   "metadata": {},
   "outputs": [],
   "source": [
    "a = None\n",
    "bool(a)"
   ]
  },
  {
   "cell_type": "markdown",
   "metadata": {},
   "source": [
    "```\n",
    "Note:\n",
    "        int: 0 is False, anything other than zero is True\n",
    "        str: \"\" is False, any other non empty string is True\n",
    "        float: 0.0 is False, any other non zero floating point number is True\n",
    "```"
   ]
  },
  {
   "cell_type": "markdown",
   "metadata": {
    "id": "YDrb5VIRoNXq",
    "jp-MarkdownHeadingCollapsed": true
   },
   "source": [
    "# Keywords\n",
    "Keywords are Predefined words"
   ]
  },
  {
   "cell_type": "code",
   "execution_count": null,
   "metadata": {},
   "outputs": [],
   "source": [
    "!python --version"
   ]
  },
  {
   "cell_type": "code",
   "execution_count": null,
   "metadata": {},
   "outputs": [],
   "source": [
    "import keyword\n",
    "kwlist = keyword.kwlist\n",
    "len(kwlist)"
   ]
  },
  {
   "cell_type": "code",
   "execution_count": null,
   "metadata": {},
   "outputs": [],
   "source": [
    "kwlist"
   ]
  },
  {
   "cell_type": "markdown",
   "metadata": {
    "id": "WsySoYuLK3lX",
    "jp-MarkdownHeadingCollapsed": true
   },
   "source": [
    "# Identifiers\n",
    "\n",
    "An identifier is a name given to entities like class, functions, variables, etc\n",
    "\n",
    "Rules for naming an Identifier\n",
    "\n",
    "- a-z\n",
    "- A-Z\n",
    "- 0-9 , should not start with a number\n",
    "- Except '_' no other special characters are allowed, preferrably dont start with _\n",
    "- Cannot use keywords"
   ]
  },
  {
   "cell_type": "markdown",
   "metadata": {},
   "source": [
    "## Quick Question"
   ]
  },
  {
   "cell_type": "code",
   "execution_count": null,
   "metadata": {
    "id": "kMwIYvSJdUE3"
   },
   "outputs": [],
   "source": [
    "this_is_a_variable = \"var\""
   ]
  },
  {
   "cell_type": "code",
   "execution_count": null,
   "metadata": {
    "id": "HN8pO1Xjdhtk"
   },
   "outputs": [],
   "source": [
    "THIS_IS_A_VAR = 'VAR'"
   ]
  },
  {
   "cell_type": "code",
   "execution_count": null,
   "metadata": {
    "id": "ZyPR0Vmjdlqg"
   },
   "outputs": [],
   "source": [
    "var_of_number_9 = 9"
   ]
  },
  {
   "cell_type": "code",
   "execution_count": null,
   "metadata": {
    "id": "j6F1kY87drCm"
   },
   "outputs": [],
   "source": [
    "var_of_0_holding_it = 0"
   ]
  },
  {
   "cell_type": "code",
   "execution_count": null,
   "metadata": {
    "id": "m0SPA1a8dwRu"
   },
   "outputs": [],
   "source": [
    "014_var = 45"
   ]
  },
  {
   "cell_type": "code",
   "execution_count": null,
   "metadata": {
    "id": "3FMdGWoAd3BA"
   },
   "outputs": [],
   "source": [
    "abc@c = 10"
   ]
  },
  {
   "cell_type": "code",
   "execution_count": null,
   "metadata": {
    "id": "SFoqmmCzd-2P"
   },
   "outputs": [],
   "source": [
    "ab bc = 10"
   ]
  },
  {
   "cell_type": "code",
   "execution_count": null,
   "metadata": {
    "colab": {
     "base_uri": "https://localhost:8080/",
     "height": 133
    },
    "executionInfo": {
     "elapsed": 415,
     "status": "error",
     "timestamp": 1687757204488,
     "user": {
      "displayName": "naz nazira",
      "userId": "06694449877078577923"
     },
     "user_tz": -330
    },
    "id": "y9-q2rXPUAOe",
    "outputId": "d4a22e26-0c1c-4440-c7f5-6d45ce6381e9"
   },
   "outputs": [],
   "source": [
    "global = 10"
   ]
  },
  {
   "cell_type": "markdown",
   "metadata": {
    "id": "WvLM26mGKqcd",
    "jp-MarkdownHeadingCollapsed": true
   },
   "source": [
    "# Object References\n",
    "![image.png](data:image/png;base64,iVBORw0KGgoAAAANSUhEUgAAA8oAAAIYCAYAAAC17hWkAAAgAElEQVR4nOy915cbSZan+V0zdwChg0EtUlV3T0/3POzT/v8Pe/Zhz9nZ3amenqrKrExqMrSAhrub3X0wc8ABBpnV3ZNV5PB+eUCIcGFuLtJ+dpWoqmIYhmEYhmEYhmEYBgDub90AwzAMwzAMwzAMw/icMKFsGIZhGIZhGIZhGB1MKBuGYRiGYRiGYRhGBxPKhmEYhmEYhmEYhtHBhLJhGIZhGIZhGIZhdDChbBiGYRiGYRiGYRgdTCgbhmEYhmEYhmEYRgcTyoZhGIZhGIZhGIbRwYSyYRiGYRiGYRiGYXQwoWwYhmEYhmEYhmEYHUwoG4ZhGIZhGIZhGEYHE8qGYRiGYRiGYRiG0cGEsmEYhmEYhmEYhmF0MKFsGIZhGIZhGIZhGB1MKBuGYRiGYRiGYRhGBxPKhmEYhmEYhmEYhtHBhLJhGIZhGIZhGIZhdDChbBiGYRiGYRiGYRgdTCgbhmEYhmEYhmEYRgcTyoZhGIZhGIZhGIbRwYSyYRiGYRiGYRiGYXQwoWwYhmEYhmEYhmEYHUwoG4ZhGIZhGIZhGEYHE8qGYRiGYRiGYRiG0cGEsmEYhmEYhmEYhmF0MKFsGIZhGIZhGIZhGB1MKBuGYRiGYRiGYRhGh+Jv3QDDMAzjb4l+5Hf5D25LO9uQzl907V2W/35qf7qx7dV213bzm6Eb720bbtvxbf0pq583VtGPrpOOWdeOve0zoZ3nlmU75JO7v73/DONL46MX+G++3489Kds22F1lGP/rYULZMAzjq0WBeMvvsvH+l25r8yUobrmdlSiMrCtHQTrL3d7GbjsF1IHK2k+/LZtt8J/Y6Uafaj62ziFr/qzS7a/lCkAkElAigqKdPnN4BI8qCB4nRbuxD3WEkHeW2yT/nnNrGJ8TG8+CtfffAl3+dztJJKuJZcP4Xw4TyoZhGF8lSXwpgU3RmgZ+/t+0raX41ZAGlKKouvSbpG1qXi7tM+Q9CqIOoQB8WrxtCiASgSZtXzU31eddulWzP6Vb/8PkdmtApDVh55fKuswVRZZ9sTp8jQ4NID41MsSO1pcGlYiiFLh8ZmpqnaE0eIFITSSAQiF9vPaoqkjh+gzKHUQ9REndKp12u3QuYmhAQLxDxMFHJyYM43OlO2nW3oebE3F5yfyl+yxhbcnufbz6ac13ozOJFW+d0Opu1ednWWc/HW8X2VxXfs2LxjCMzwETyoZhGF85inZcoP99W1i+L0eIupTGaNfY2Q52Q/622ufa3vMgUzUi0grr7uDWrTbcbcJvOPYUQhqBi6M76O0OgSVbnmTNgqtpvSir5itohOiS5ViIIEpDzWwxZTi94np0xnwxRLWmiTXiYNDvc7Bzl4Ptu/T8DiJFmngQB6rEEHHOZcOxQkxiWSTbxWKE5d8N40uivdNaobx+H97KB6EOuhYI8muxG6tn1mYYxGoHslxWl9+XW9WNrbeCWx12ExrG548JZcMwjK+UlbtgK5P/fVaO7hqroSIrS3JrWSW5GkvH5VtwydKp+sG2VgPjgNJka21rhu1Yk/8q3sSbbuX5V+kYujetR1kXE2PqZXFrVitQVJVIwGUX61mYcD464c3xC16/+4Wr6xMWzZQmVJTec+fwiGePv+ObR7/j0eG39MstIg0ej6KEJiKlIE7QmKzJoiAuNS7GTaFgGF8OrVj9wEK7we0aNE1YKYrImpzNK602ueZKLSspvJLOwgf5AUjPA+k064NmKB2xfNsChmF8TphQNgzD+CpJYjON05JlRtYU5+2DUM0DPJHucitXRlkWU1CSi7SD2A448+/SHeQmd22hAO22oetm2VqgFZWYjbStv7VL1tTffMAp/04LUKukO6alpTd6mgSAQEPFohrz8+ufeHv8guPz11xcHjOrxrgS6noOqkwWI8aTMWfnFzx7eMGzhz/w6N539B0IBcFFvHfgClJ8eMxWeUH11xISGcaXgXZupuS94T4RIdxag2PH01pZmxhcf1sh7XNSu0+sZYBKZ8Hl2iK3PY42bn79zR9YhmH8T8CEsmEYxldLig/OHzdYWX3Xf1utuxHRxwcxfzhk6XOdxaLrmJeXC37Mytl1s2w/S3qXAC6s9rsZjPib0J1I+Av3pbBuUl9tQtp4ZonM6zHnN+/55c2feHP8C1ejE6azESoNg7JHpXNCE6hnFZPZhMuba6azOUGV3mCLw+0H9P0OWgrqFHVpRzGmAX6BdJzhbZBufMnc5kLyqSmg7jNkczsfj9n4MCikOwm4lMUfrCvdD8tdbsYo/0qTDcP4LDChbBiG8bWioCrc5oX44eCyzbzM0sqyouOCqO37anWJG9t02tlOttS2LonaNcesuzqnJnYszdLNXNW25zcUga0VSNoEQn/Jvj7hhymaxLIERtNr3p6+5NXxT5xcvmbejFAJ9PoeP/A4iQQJNLpgMp1wdXNNXdcUZY+dnX3KxwOKnT6u18s9pOAgqmZLcpvAa93d3jC+LNZjLeQvEMu68Ry5bYnltmXjp+Vzsbun2yzJHxfc6WddTZjdthnDMD5LTCgbhmF8zbTjN+gkYm0VbjuoSwJX1kaPylrm5DZIt1uiaG182nG5Xgb0brw23BFX4s6hOa215v3KmlD/rbmlrZ9w81xaydu+6Ga4zS7XK1fQQNSGy+szXr35meHsjNqNcVs1TaipVImLZE1WgcKXuL7ivCMWNZfjU35+9Sf6g218UbLbP2pTg4E4YnZTj8sphn9bPnPD+Jzo1hBvf/nQsty6SevG759mqYm7enbN8pvCPUQ2F/jEPjY1tWEYXxQmlA3DML5mPjZ+FOnE1d7mht3+3sbgdgXz5nazSJbuNj4tPHX5mwf80tlRcuyzLsXyv8EN+j9EO0D/ddflVYvaGYhOHeV2TkBDFsmBOsy4ujnj3clLxotLGjfF9yKxqogx0jQg4nHOE6VBSgEXCbLgenxOVQWO7t1nZ2efQX+PiOSITVkGTMZsLRNxyykPG7cbXxZd661ufIfuJNW/1a/5o0t/cKPI+sK3hqx8couGYXxBmFA2DMMwgI4ulo541dj5rhvWFfJvn5Bc0rpaZ7drieuDy+zGre2AVJdbJQlTD5T5c8zu3wWCSxZnTRZn+auUWvl1i/JKILcH0nXnVHDtQaZjibFiOh9xPTzj/PqYqRvBYIErhNhUhKgInkGvT+EK6kWdXKedMG+mzOY1N6MZD8/ecHBwnzuHDygk9VCBA+ezOE7TDM47E8jGF4psvHdJz5f1Ek6r6bWVN8qH635SJP9qW7pZtLsrfmrlv9bknmEY/1FMKBuGYXzF3Kovl67RrcW2TaJ1WzIc4cPyKd2NRrStgywR7botdoysKuurLsOBcaT/VaU6wenntkRU5/Wbjzu7xykf/GmFbnzsxiRKnldIkwdKoApzrkeXjGc3NHGB6ylSSJofEKEoC7YGuxzsHyA4zo5PUzc5iLEmakQjnF8fc3b5jscPvmG753C+JBLxeJyARsXJX9cGbxi/CbeGA6cHiHzwh9VDJfmjbH7uphFcbfhjt/QtO17leLjNmi2bq3/YQsMwPl9MKBuGYXytdBXT5mCwFaLSNfV+xEpyS53Rdl0lxeCqxOx6vfp73AwElA+FePrPI5otoSrr1aVuO5bfjI5QXin5NdvSJslK3x2K5/8kEmmowpyb0QWzagw+4AqgyIN+5+mX2xwd3efB3QdoUC7PbtBQ40SSdV0EcYHrm3POr04YzW4o/IDSb+E04nMd5VRTGcRbGi/jC2Yz7Di5wHxk4XyfdnMEtJOAeb1V5oVVbLPrrP6rZZyWz4Hb3b5XnzrbUW6xQhuG8TliQtkwDONr5lfHaq0o1CT6lhbfbJvZSPi1HDBKypIdCERpiMQNIdkOUpNLdYqcTfHI2Ul4rYGSTTNtmPMH+XR+06Bb2fgst46f3cYyH4zqHcQYiTneW4nUYc54ek2IC3qDgqkoMUTUC9732d894pvHP/D00TOaRc2bl8eMdQQx9a33gi8ck+mQ65sLJtMhu4NDYtkQtVj2uURN4cqd/GuG8SWylnzwo/f9aiILXaWvk6VA7krauCGWk7hehVHIpwXzWhv0lofTLRNshmF8EZhQNgzD+CppR5u6HHlqTsolsm6FUQWNQojgPTgPSSy29tGAakOkoa0LLEuZ3FCxoIo1VbNgMp1RVTVNHZgvKjQK3vfol30GvW12dvbY6u/QL7Zo6zC76ChdjkvujkNbj3Ah6evfXCzfblHvDrLXvUFz7PRGu1K5poASaELF9fCC6WycLMRtX1eCp0ev2ONg9yF3th8Sy8jje99you8YjW4QXfU/EpjMxrx6+4Ld/hGH2/dzQi+WLuvt57+Oq7ph/GVoW8JMV/eXc7fnHdDV4wrI0Qy57FJ6frUzaQ6R9g4QNCoxgvOSJovo2pAhaiAScaJEVSQq3nmcuFxCz4MKqhBCmhT0hVtO4K0SPPwldMM4DMP4nDGhbBiG8dUSQQNL20qqKYS2lt3WeqwQIjQhmZTzmHE50IzaELQiagUuoLFBtaEOCxZxzlQnTJsp4/mYs7NLxqMJ83nF6GZMCEq/t8X2YJuDvQPu33/Ig8NHHO7cxfsST4mPJYXbAoQYwbeD0zaJ9m8ukm9BO7K5a03qul62Jty4sVx2SYdAaBbcjK6YzEbE0CCFg+iJAbyUFLrDTv+IbX8HJ/D04ffMpwsmN2OCNqgqQRp6RZ9FNeXlq+d8+/AfkPvgxKVk4yjOZYv3UmWYWDY+D1qRHGNENbkktyK5fU/LgGaxCnmOLM+cqcb0iulmcy7Xh3dJFccIodEkkrUtlaZ5f0qjDVEbvBOIDRoCzvVRdYQoeAdIQVRoQtqPc2450Sid2+qjx7n8u4U/GMaXggllwzCMrxJFYyCGBeIE5zxSOFQdKIQYQR2I4ASKIlljgiqLJluVXSBSo9KABLwqUQKzasTV8JSTy2POrk+4ml8wqadMFzNGwylNExFxLGY1GqAoSlCl8J7t/g7fPP6e757+jkf3nnC084D9/h2QhhAiISjiSrxkIZ+TWcnKZvo37dMPk/lITnydB/ySJxeSPZmGJluzkkVL1OHF48RD08PHATu9O/T9Pk7gzs5DdvvHFFLSaAVEnERUG5qwYFHNqZo5IVaI28pVqHMSr7ZpVkjZ+AzoWpJFBO/ThdkVyV0RHYLinEtl0mKy7CoB7xTnBO/dUhinTPqCBs2iWdIzSySJ3ag0oSZKQLym5xgBhySvGSeIBOpQM1/UDPo7lF5w3lMUnhgcdRPxXih8ayHeLKG3OXsnrNeANgzjc8eEsmEYxldLx385l2lahv2JLC0g2n3FJPSCBJQGpSKwoKomzGZDhuMLroZnnF2/53J4xsX4nMvJKfOwoIoNdRXxrqAs+9RNg0YocITQQFRG04ImjJhXV4Q4ofcQDgY72cXYEduUzyIr5edglaH7t+QWV9C1T7dnGdsU8a0lPhAIWtNolazDRFDBaYG4Php6FGyz2z9i4PdxTri7/5C9rUNK16PSKTGfuqiBpqlYVDMW9YwqLNgWbcsod3INaSpR9beeUzCMTGtB/nRyq+QyLe21m501hDZKpBNtvDFxFtr0CXn7kWRhTo+9/AyUgFITci4Fh6J4AqvEe5EGJw7nk0dLXTdpQqto66t36T4PbjsuuwEN40vAhLJhGMZXiki2nCSfXNpENCKCd4Jqsr5EcqqubI0UiQQqIjVRKyqdcDE95t3xS168/JHj0zcMx5dQBBpZcD2/oJEA3lEUPVxvgO8VBNdAjHjv8BqQqDgNXI5eMZmeU5aRw+0dHh09QOkhUiDOgy9ycGJIx+Hcr2X2+Z/VY2vfFLK1WD+y104Sn40lIkrUSKM1TVwQtckBmIJQUOiAEPuU7LDXv8vA7+MR7u4r+1t36LkeM031kZ0TmqahCgukmjKvplT1Ai3SvpeOnhrzSTSrlvG3pyuMu5+7scqtgHZuNa3XzpUlT4kkUlVDniwKy7AFX5Q452jqtJLLnhTtfeu9z2XaIqoB1QWLMEdjuhd7RQ/vSop+j0hDow2l9FJbvBIXkahuPX1BW+fuU4+hTsZ8wzA+b0woG4ZhfK2IIK4gxSq3cbPtIE9REdp0Uel7SjsdtWGhM4aTSy5uTjk5f83J+TvOLt4zmV0zW4ypdE6oFkRX0d8qKfBEFBGHxkg1nzOfz4mxofBK6YXCO8Q51EXqEDg7e837wwc8uPuQvcE9tvweZa9MViBt0st78O6vOuhUIMpttuPOe1teK7YiuRWrq0Q+QZNrZ91UhFiDJHd3iUkgFPTouW0GbodSBngE5yNb5Ta9sp8mMwBxyeqlMW1rXs1Z1AviIOS61bnVt+ciM4y/GV336q4bdjc2ubMwrVwOGlANEJs0USXgnVAUAt7nDPqSwzJAfPLKVgHVtD5EmjBjPLvkanTC1c0p18MLClG2twbs7x5y9+Ah9w+f5mdgcvVW8YgTyn6ZyrTFVuhvulnDBw8my3ptGF8UJpQNwzC+WgRVl3Vbm7s5J8VpS6i0tZBzDuuqmTNbTLgcX3By8ZZ3p685OXvL1fCcyWxI0Byz7ALqAuKEwhcQQ/aBzNvViLRe0xpRIjFntBafLJ7XozMur4+5mVwwKHcZFDupDnDObqvEbC3tZPf5jfm41tSNJshKLH9kGyFG6tBQhzpZlIkIDolpYqLnewz8gEL6eEoKBO8GDIoB/bKHd46I4jxISIP/JjZUTUXV1ERdDe+dtjrDBurG58NtGa83/758F4iSnkRpcq9BaVg+u9ThxCPikSySlRSjnIP1VwkIJQAN82rM6dVb3p085/3pK87O3lMWjsP9PQ7379E8bTjcv4t3oFIQCCkLNh5f+JQDMSYR/qHnuIlkw/jSMaFsGIbxVZKEnAbA+SRAUWJsCLEiSFKtTtoyTzU1FdfzC47P3/Pz8x959e4FJxfviDTgFVdCE6oUy+dha2tA6R2L2YxYBZo6uSh77yjKksFggEgg6oKoU6IuqJqGQTmgVzjm0zGj6ZDJbELYa4BVRShIxlqH5sy3v32PfVok3xafDOvWZPIERLLUpwRFgSY0yUImeXoiKmigX5YMev3sYFrgEJSGsigZ9PsUhSMo4CJ4zduPNNpQx4YIBE3940RaP3HD+CzYtCS3JaG61uQ2E3bUVHYuSkOUQOkc3qfkWUKqTx5ijUqy8joE1QIlxxRn5w7V1nVbCVIzXtzw5v0LXr75kbfHv3B5eUpZOvZ299jfOcUVwpNnT9kt71H6Ho3WSHQ4HKXIcnu0LRHHeh3l/LtauINhfImYUDYMw/hKUXUovpP4JuZ4QEGWArliNL3ienLB5eicN8evOT5/x2h6zXgxRP2cRqs0kA3ZAp1dHKfzOV4dPngG7LE7GLC9vcfW9g5b21v0Bo66mXIzOmM8PWc2T7WFNSgNgRjdsrYzeKIKdVTEuVTjtHDLsjGf7TB0OZJu4xJXrtdRAyE2aYCvMcWMt5m8Q0OvLOiVvdW4W5IQdk4oCo/zqT4sBHAghSKRVL06NMvY8tb27oROjWzD+NvSul13k3ltJvRyLt3jLpczS/bjhkWoEQIiSukKnKQSTjE2NDEiGklJsHvLHHZtvgUBCic0EqjqCZfXJwynFzQ6ZXvPp+konXIzCbw/e8Pz1z/z7SPPnb0tRHqQay0HlWWyvDVSNkQ+HpxhGMaXggllwzCMr5J2hOdRJIkx0aWQ09hQhynTZsjJ5Svenb/m3elr3hy/4vLmDCkgughlBK2zuzYpZliESLJWe0oOto/YHxyyu3XA4eE9dnf32NrZouzDcHLBaxWaxYyFTimIaIAmBtAUa6j5FdVDFKI4vCtSIp7Yxld/hsPQVPh13ZKbu1ghDbZjQ4hh6SLqcj5s1UBROMrC0+bqTfbmLKgd+fgDUWvU+XT+nGQX7JCFQYo8T0Y1q99qfF5siuNNN+z276qRECNNXDBvRkwWQ5p6ARrZ7m2x1Rsw6A1QPKgHdSjl0rrb1l9WVp4ySk3VTLkenTGdXRGZ0d/O+QOahnnVcHFzyos3v7C7c8T21h0GxRapDnoqMVUgy4pUq2dQNl3bzWYYXzwmlA3DML5ShGQ9RkmWSSeoCFGVWTPhenzM6eUbXr3/M2+On/P+4i1VnBLdgkW9SO7ZhaPs9+iVJeIK6iYSEbwr2C73uL/ziH98/E882HvMnZ177O3dpd/r45ygsuDdxQuuzq+41HNcM8T7grqqCTWUfoDIgKglSi+9tIdSpGyzSopHdHxgifrr0Zp7Y+dzS3Zv3/xJW6EcCarEHJMsrt1OEsoiinMpV5kScmmsTlIhDYRYU8cFuH5KciYQiNQaWUVxfzwvt2H8LdkUySEEmqbBOYf3HuccIQTqpmI2HzGcnXM9OeH86oTx6JpqNudgf5+7R/d4/OAJ+7uHbPX3EUpUIcQG58rlc66tX64sqOOceT1mPLliMrumCiOkKCgKj+85IjBbjHn97hX37j5lb/s+g4PD1GYVQkz3Z9HOfPHb5903DOOviwllwzCML4pPpS6+JRVz50+bpBJFbVbriKAETRab48s3vDn+My9e/4mz67fcTM9pmIGvcQQK1zprK6FJcYS+cOz099jdPeTwzj3u7jzk0e4Tvtn/joPBETu9fYrednahrEF6lH4H1ZKmEepGKZzDuQIpHKXrIeoJtUJ0OCkQV4Km2NzQKEUhnYGqLuupfvSg8++/lgD6tjW7zpQ5inItPrFN5yWdpZWYUu7SyeUjeXlNrtNxzSKeM1jTAAEh4hGISfg611qiNVmONdDEiHOKzwN4jUD8UBqrfGog/7EY69t6pG3p6l86n2Vt+b+xbPj3Zvr+DzX7w53+2kRF97r6ePq327e9eW5uvQN080snG/ra0u6jHsPaWU9vWX+97bJ6fSyJlabJojWrsqTwDZyiEggERvMbrobnnF28593pc84u36T6482Cpq54dy7sHO/x9vQh3z79gUcPvuHO3kO8bAFCiA0iHuc8TpVIJGrACZTeUfYcvkxJDRsqmpAmr5zrM48TmuEJ78/fcnjwkMO9R/R9D5HkOZMmvFahH9Im8BMHqmvPjPSkTcdppcwN48vAhLJhGMYXw68kjdLkYpjc/vLgU1fujOI7iXJQgkYqbUCSFZNYM62vuRqf8Pz4J56//AO/vPwD0+oaiprdg0Ea3EUoKHARQnRoKCjcNlvFPvcPn/Do4TOePPmeR/tPuLf1gF3dp6cDvPRoECpqgkbAUweYLioWTUMdU3Zm5zxeivzyeHU4hAKHcyWiEILShIhzbjVK1TYqlxwjuDkUlbVh/b9HLK+fi+6SjnXxkUtrScjS2bFyd8/7j7nJSwXbipBkC0ZjSsSVN6kKkutbN1FpFEKOvRRNVmMXwGtK/dUWyXFosjazsm6vaablBENrFV8dw/rxdY++nQjoXo+xs6brxL7/ZahudNFHlvmU84C2x8NqyoLVTx/ng1mFdHTdxFIfeC1szDokl+H1+zPdgh9G0C+9DGR9jc6Vsjo37UvaFTfdel1nj8u11/az3F57A7el4JYvR0o49eE50yxokYiI5umfNvv0alrEoaklKjnzdOsGverD5AWy+h6zVVZcjp0XwAvqIw0pseDx8CWv3/3Cm/e/8Or1T5ydv+Xgzh5lryDGwGg8QdTz+vSA4WJIRUNvMGC7JzggxoCXHuJcbmOa4CvF03MlvV6Psl9S4Wikpg5zQtPQ76d7cFbVvL98zcHhfR7c/5b9fknfeXAexSWvDc3XWxtmoe1zKF0EKqkP4/KaEguFMIwvABPKhmEYnyvtGFbIcXGxI0yyu24e2EprnWwidR0oipKiKEGhqRuqqmKwPcCXHlVoaFjEBbMwwRUADcP5BS/e/MhPz/+Vs6s3jKeXxEGDFICDxgU0QhMddR0QLen5He7eecyj+9/x5NHveHT0DYe7D9nuH9D3A/qhR6/xuOhRcVA4nBNKgbHMuFqMeHt+zCTMoS9EH9AAGhSnNdu9Ho/v3mOn109px9q6qE6QwqdYwxiRXBcV4nJwmjJcpf5pjVqrrNNdQbBhic9ibF1yrHSLwjL20WUhpEiWQy63IVnFRNp2eSTHTIpEHEIMmjOBO5y4LBQjiENEKYqCwqdERYUrc1NrFCGqENWj5N+1gMahFewWOxxu7dETT6kgqniXS2kpSCuIuiJZA+SyO+11try2xLMaLmQrGitPBF2q+OzsreClBDzLiYuP2Uo7ujzqSistT2F7pee2LoWfyHJiQSQXCcvCS2M6ST5nUUZZ/nari75svLTNohzwhUMchBCzVdIt9WqauFiuQl1XRA1479JEB1D4Mnd1dwfkuHTw3qdez/e5z01ygGhEY0g9Lq1QDmkBv5wdIi7jb117cyzPdTr2bMHMDU1u+xXOhTyBornedz5nCt24+qiReTMHH0mPlECjNQudo20SLoVSlELTZVTIgNJvZZVdQHTEOkLUVFYpt8fjIEp+JkWiCOIdlUyYhRvGi3P+28v/gx9/+T3z+oY5I9z+nLilLMRRNQ3NoEHVca0NPx7/Dypfs3d3nyMJbPl9erKFiEPU4zVd114KGlLOg2reUNdJ9uMF8SBFpGYCrkb6O5wO3+DfDuhv7/J3j/8LDw++QVwPRw/UpdOynL9ImQY0BqR0UKTJr0WsqGJDr+hRSoGjYGM6xzCMzwwTyoZhGJ8jXTPT0trYESZZqKQh8cpiJSI4cckFMK4sy955Qghp/OuEKBGVgPoF43rM9eSC529+5NW7nzk+eUUVJtRxRhPnqEvic1EFNCqinu3+Hvs7dznaf8Tje9/x+N53PLz7HQfbD9gu9vE6wMUkbH2ThoO6dJFOo+RFWDBajLmaXBOlgVIImmSnE0+/7LEz2GJnsEXpPL41prXenF6WHaW0ZaKy4uhYaFdd2lrTWXvfNA3Krb9mPdndmnSXkM6/SSxLntxY4RFZyXSNqQarkNOEt0IqJ1RzLqFIPaMAACAASURBVL1UY8qGjdAQqUOkCoGQs4GLKKJFEgLRM/B9tosBpbic07yVvHHZB2smzM71pctc2bpqz2qhDXtppy87Ful2S/JBD36atUkJbUXxKrPwbfuFmGO8YSXsO0vHbMmMH6yYLpM26ZLrCBZt31ZHK5LPtybX9xg11c/1ghPJcfIuW+9XZYMUXSW6I5c/wiW3e5ZTO0mnsrIorw5048jbyZQYV6cG0JzwatXjq8K+y0eBriYfpPUiIaQLMSfAStv2a+2P+dgbrZhXM8bTayaLEdN6Sh0Dznn2dnbYLgu2ioK+7yMOCko0KhoiEovc9nwyY75nvcv9GZMlWSK11iyYcTU95cXxH3h1/kdOxr+gMkdJE3fBCQGYa0Us032AUy5nZ8hpwdGr+/ynZ46nRzvLew4UicmiLN6zaAJ1XafJlXwOlJA25SGEGtThfGDajDgfHvPy+GcO9+9xeHCXnghRHVFTATdpPUOWnU4aZScjO4oSsju5J02myAfTcYZhfE6YUDYMw/hc+YjOaOMD14VeGqiL9/REkk9uUCigKAt84VlUFaGu8L2UMdpJRKi5mh7z07s/8l//v/+Lm+EF4iNb28kSNpvPKQpwCHUdIQqDss+9O0/47snf893jv+fB0TccbD1guzjE6xZO+7imxMVU4nepV0VRTUmoojbMFzMmizGzZkrRDxTeEZo0Qnfi2d3ZY3trm8J7vMiqstJysM/SwivLH5bRghsvNj6vkPaf3E7XES0fXVY2z8HaEqsNSteiGtaWWxl0c7vVZRfU1AhxSYApIQtYSZa8UDGvakI2aTopklUaT+EKeq5H6UockuKbEdC4vG4+dmEthaF0RGenz1rhinStYO2Af/3E/FvdrpFVv6e6uatZiTRhkCdbyGWm86SIEmlinaeLHIUvc6tdEmNR0aCpLzfa02ZXVtU8CZLKoiXvA8W5dP5EBO+ToEkJp1JcfoyKVw8evAhFUZAmLiIhSnJXBnTpcqugPl/HsrKUt9qxc16Sh3XXfb2dBGq32XS6uxXE2d0fhVx3GxHUJTd/idlS7VKfppVislK3jWlfUZJbP4q6SFEKi3rO1eSE1ycvuLg5ZTqfMJ4uKMqSp08ec7izxf72Fnf37qbwidjLSfcKnCrelzhxyWgd86Rb4Zb1xH1ZECWwaGbMZML58IQ//Px7zoZvqd0IqNK1po469miILOIcKQp80UMKZTGZcT484b//+C8cDu7xzd0f8sSha+cZc385FlXFrJqnfnfp+JsYcD7lWwiaMuqLU5pQM1kMeX/2mmdPf+BReEbhSlQdIULheulcNcubibZO3vIce8GryzkIumEOhmF8rphQNgzD+KLZEIN5UBY1EkPE+wJJfpyoNKgozjsq5lzPznh58kdenv7Mm5MXhLhACcynM6KW9HoFB3t3mc9mxBDoFT3u33/Ig3uPeXj3CY/vfcOjo2fs944Y+F08PZw4HMsqUatyog7UK7VWBK2JWnF5fcLVzVmyEiWZguDTANqVHBzcY2/vEF/0WFqJXSvYsmUZSa6P2Yq3tGIuFW3uFl19by3B69bilclxJXU7ZldZ9XMnye3yDKxpz5Vyh1xrdbnubeds43wmK5NLbr6S6i2nCQalambM52Nm80nKjO1IsZcqeOfolz16vTKJNmm3lzL0tmWlYqcVS0+FtUmGLi53em6Xrtrd/qtLO2jXs8Fv9nCnc1pbZXsuaPX5qruTokntd361tyyokz20QUnCJsZIow2hqfEuxbZrK5QhiRqUUIfkku0c4lem6tjadlsLsyi4Nit5iptvS3SJh8Il8SUixKhUi1Tmyzmh3ytXsdLa9k4nJjWbL1WVGGKqf+1ijjR2ybqbr3dVQaStP9TK4EgUJdKg2mThla7ciEfVEaNDpMBR4l0Ph4Ps3i+d86Xqc7RCQZ6VSedGckyyi6hUjKsr3l+84Pnbn3j57heGk2vwwngyRxUur47Z3eqzv7vNo3uPeXD0hPsHT9gu9xkUu5RSoLEiahatRbasozifwigawvJ8nh6/5+XLXzg5fs9oPqTRQL/fxxXJPXw+0+VEUdFLkw91vUCcQ0PD5cU5Z5dnXI1vuL+9hxNHCHlSKnvZjCdjhqObVMc8T5CEGCAohSvwOIJ6mjo9G0KoGY6ueP3mObvFPv/56YCidClbfU7Yl66dfK+4VM5NW3dvHEVebnUODMP4nDGhbBiG8bmyVA6blodWfbaysLUadoSJyxooi2Qk4IqUhEelYTi95P35S3568a+8u3jJ5fCMJtT4AnpapFjkHD/b83sMtrY42D/k26c/8PThN+zv3uVw94j9rTv02U4iWR1OBC8kaxwCmiJexQnqlRAqAgvqOOPs8h1X1ycURRJMaUCZBuve9TnYv8vuziFFzjL7QZ6cLJRjO/hf6mNZ66mPdmvbgwqtpU6W/b1pfXWAX1qSVwZoXTs9a+VTO6JyJYxX4vt2e2srxlMst7hcV5lA0MBsMWE6HzOvpkTC0pM19ZljUPbplz0KX6xtv02ahLh1j4SOOk325+7gvXtdrd6XUQBLqdxaPFe9t7wmP2pUTrKua8VOCbNy2S+X/VVzvHYrGlO3JutqEytUGwrvUAk0saFpAj3fp1/00+SJS9uts1iRnLNKsqdx2xY0ZNfllaV6lcyrtWTHpaXbS4nzZTry1k1cZflq+1GWLvjrXeFagS4g+fwKEZcq8+bLSpbvkgVY6jWWQrnWObNqzHQ2YTqdEVQoigGDwQ6DwR79codCI6WkGP/V1dtObKQ66kiB5Phkde0JblBXU4UR787+zPO3P/L87Y+8P33LrJrR2+pT15GmUYaTK3qlY3trwNXoiqvRDcN7Ix7cecrR3n38wKXJE/VIFJxLgjeGgOSEfE1TUWmqp/7++DVv3r5kPBlSNRXRg5c+3g3A9fEo6hrwFeoDQRvqpqbvt/EiLKZzbkZDroY3HPSfpGskktzk83U6mg65Hl9RhTlRapCYY9kdhIJYNyTX6yJZhmNg3kw4Pn7Nlt/m/u493AHslPtEaoQktp0rltMiy3CT7CXjyd4Sn7o1DMP4bDChbBiG8dlym0DuCq9WLAvJn1FpDXHOp8RZSSgn+1vRS3F9NXNOL97y88s/8OMv/8J4cUWtc8AxGGxxsL/HZDxjOllwczHkm2ff882z7/n26fd88+g7Htx5iKePlx6egqgFAckZmlPM5tI1WVN2bSculXzRhkZmzOI1Jxcvub45ZmvbUTfJuuZznmbvtjjYu8vOziHe91dWtrxNBXyO82ytyd1earktAlDWll1ZONf7e+N7Tlb1Yf+3r2zRXgqbVlS2IvL207seRi2rJFFkK3ae5EACIdRM5yOm8zGLaoaWIW8mrVQ4x/Zgi36vR+H9sm1Kjl9dCs24PDJZO57uBMN67PunuiZvlHb03zGgr9Od+NHkB5tiZXMcryrJddkt+687dRHbrO4C+EjVzIlUONcnUFNrxbxaQD9QOo9zKS5WY2ReLfCk/klCOOTSRKsT0V4LkSS8mtDQc32c8ygNjVY0sUYj+fet1F7nKcqSbgJ237bfAbe42YoH79M5To71DaA4HE7SJEEbv7zsCVnFNGvOPt00Cy6Gx7x6+4LXb9/QBDg4OOLZs+95eP8pUqZjLZzg1CdP6+W1lsW8OKRNviaQUs9HUnqtKaPpKX/85f/l+Zs/cX59zHBykyzO5Q5lfwcK4eryOiUyGzuuxlecX51zfnHKD99NCDT0ByV9t43XkkahzO75jYZkmUdYNDOmzYhJfc2bt885OXkLLuTEep5CejgGCNvs7O1R9APRTbmZnlPN5zTVgu29HQauR1175os5V9dDntwJ9F22zntyvrLIcDrkenTJrB5Tuwp1MXkaiEOjp5pWuKJgd7BNXSuxUSBwfnmMBOHh0V36RcHunR2CVukcqqMkeSwgKwt2ugtTeASakvktJ7kMw/hsMaFsGIbxWdJRI7LxfU3cdEq65FF6iHHpZotEGq1pdAESGc1ueHfxlj89/z0v3/9EFYaom4NWhAYWC81Zp4WdwT53dnf4u+//md998w88vfcd+zuHDGQHT4nH4/DJSqOpIFDSQMmKltLa5ozcLrlzFk4ZLkYcD19yefOO2eKGcluom0CMAYen9Ftsbx2yt3uPrf4+jhInfik6U+kkIEfgAssKS8DaAPTDHmudVFuxBh0TaQf5yOd2uW6Sro0/tQ0iWURTp3SFZLa3tr7pnfbGSE4OlGJcNVskIdCEOaPJFbP5mBDrfH6T27HESNEv2N/bY9DrJ6EW6WzbdZq5Esq6FMStFXN1xLemGdo0tt/23q6cf5LuyVj29S2vViyLy+7WeaIlNMSYhI7zRd5exBWR2XzE2fVLzi7Ouby8YnQzZtDb5vDgiMcPn3B05x77uwdQZIt8jLnfc1uyYNc2U3luqBLBKQtCtoAKKg24gMtxvwGIwRFDAaFHWRRJILWXlUvnTTW5iGtOvgYFQrGynhNxBETa5E6R5BadN9VawSVJ1yrOmdfXvD99wZvjn3l/9pKbyRXzxYwQ4Xz4jlfHf+bhg2c8efgd3zz+O+7vPMX3fHYhb63VSTW2Mbvprmj/rQlMOb95y4t3f+Dluz9yOXoHZUV/JyWUWzRjXOHxvsfu/haBkO5zp9zMr1mczFmEBZPpDdPZkKd3v+Nw5z7e96ljnbJC+wJ1yXpflML45po/Pv89Fzcn1HEGPlD2ClSgqiJFKNjrH/GPf//PlFuBm8lbpi+GaAj0ex5iQx3mNM0gJekSISJEJ+Ad0UWQhsCM0fya4fSSeTOlLhaojzjv8ZS40MMplNJnUG4R6hkh5gBkJ8yqa356/q8Myj77e7vs+AMK6aPeEaiTBZlkWW4vb0/yuAmEpSu+SWXD+LwxoWwYhvHZcpuAa22ZXYtbHmyJoJItuMulGyIVNQvqZs7p9Tv+9Py/8/zNnzi7eU1wE5AFIg3eezQG6qpiq3fA0cEjHj/4nu+//U88ffAD93cf4aSHZIHs1WcL8sruJ1nsiGjyL3UeKRzBNQRq1DWMZ5e8OfmZ4eSMOowp6CfX1whRHYP+Lgd799ndOaLf28VRsnQL1phdHKU15K5Z2uj0iINVlRtd5bxeieTct2v+0u0WOu+aP3cmLFZJkz4y0F2us7mtXE6n/a9NfCXdRFWplSGGPDiPRGoWYcLN6JLZYpzik7NVMatrekXJwf4Bg34/WfA7xXpbUd7aTFv3a8EvP63avXEIa0K4+6UzO7GW8Ze1y/LDftnYUaeHWvfnVkQoSohNPhS3nFiI1MwWQ06v3/Dy7Z959/6Yi7MrJuMphe9zsH+Haf2PaBHY2usvHS5qrZaut1EjIdY0TU3dLGiaOony0BBjzNmQU7955yi8UhSOQdmjX27T99uolkAfKIiqy9xtLl8ryW2+RrVJJaByGuRUDqw9RzEn1suTIjmZWfLilhwirgQNLOKc4eyKk8vn/PLqf/DizR85u3hDpML3UrbqqmqYz2ouR6fcjC+pmgXyxNG/M6DvtvPkjaDkeOE2vlZTeyEQqWl0ysXNW16++xPnN2+Y1tf0dzzeRUITaapIE+d4cRRlKp2lPl1di8Wc6XhEHebMqynz+ZTCF/R6A3aKMsV+q1L6EpVI0AZ8ZDi+5Kfnf+BmfEGkQlygKDwRqOeRrd42dw+f8MOz/4zrLXhzvqBX9JITeeHSuWsWoH2ippCDZIFP1uQogSbOmDbXDGeXjObXVGFO8HU6D87jYo9Ctjnc2095AqLrTNI1iEhyRz99wZ3DA+7dO+LJvme7cAhlumc1ubVLTkKY3PGzd0kOA+iGiBiG8XliQtkwDOOzIw2el9JvzSzHSkR0SgqtJFseZMeYyjoRiNKgWnE9PeP16S/88Zffcz0+YR6G+P4clWSd3NraJdSeUBXcu3uff/jhn/nf/ul/Z1Ac0Pf7iAxWojX6Tnu6RsRcN1hjEk8uidBAoNIZjUy5HJ/w/M2PzOshSE21CGh0eAokeva2jnhw9yl7W0f0/HayvtEmONI8+FxZYuUWjQZt9eLWvJcz2K6ZTXVdr7Ux3uI2ZFwriVsX2pXQTL+3CXpWm102brmhdL7UrQS2iOSEXdLZU3al1yQQQ6hIVa8js2bE5c0p0/kIXGCZfVpBcPTLPkeHdxj0+reUDfMdXausMnC7Dx0WOp2oax3RdZduf3KdY/0LB/7L63mVPEoQcEIM4RYxneJYvU+TMlEaGp3x5vQ5f3rx3/jxl//BZDKlqVPyunk1YX41Yeu0x+7RNveeHNFzvez2qqgoUQOV1kzmYyaTETc3lwxH1wxHN0ymY2azOVVV0+9vURYl4oTt7YL9vW3uH93l3uED7uw9YNvfofDbSFnS1ClhVNE6EkiyzKpUIIE2a7e2dXZz9mwvim/1aidhl+LQnHCsITAPc4bzK14fP+f/+f3/ycXNG8azcxZhDK7B5VMaRKEMDOfnVO8WnF+e42PBwfYh5aDASz9fZz6f/2y91jYpmBK0ZhHHnA/f8+78JY2bQa+mZpFrPgtFWVLXNYvFFLSAnsP1Pb1+ARqJoWY8H9Kc1kxvRuzvHLIzOKB/Zw9cL7t8O6IGmrigYcbN5Jx3xy8JfoKUMeVVSPNjhCjcuXOfv/vhH3m4/4xZOMdTUBY9yrKH+IaqqtHK0xOfk981Kft4LnEVWDCurjkfveVqcsakGhKkIkjMz7AC0R49t8v3z35gvpjz4vXPgFCIS5M2pAmteR14d/qC7cEWu/+4y2B/QOnKNKkRA8SAd1ksL50mJLmau7/wXjEM42+KCWXDMIzPkeU4qlUtuvHHViDL+uIiyQIjKXEXElL90zDm9PIt789fcTU+JcgM10uWI5EkuuaLKXvb97n/+Bm/++afePboe7YG2wxkh0IHaZAnLsURa6qRLNAt2ZoVAqCRJjTEABQ9gtQswoyLyXuOL99wfvmOJk5xriE0EccWzhU4HXDn4D6PH3zD9uAA7/rLAb0qaAhIm1JbdbnjtjCOdPppvYd05WornR6TztI5WZLKmoM2bcVbyQJTsqvuKtvzyml1M+Z4zVKb48dFsuNljsVtrcrJMzmvI466qaibRbLuhcB4ds3l9SnzxRhpu4A0ceKdZ6u/zdHhXQa9rVTXFQFNx+Scy3GtMbeq7bdV2aRNg/EyeRpk9R8QAiqhc2mmPpDWN1gl6WUnKx283ANZTLfZs3XZf6vzs7Hz7AKdXPkjDXNG02vOb97z+vjPvDt/weX4GFXwZYnrCfW8pqpnXIzec3K1z93rQ/Z3DhAck8mE2WzCaDLiZnjDcHzDZDJkvphS1wua3Od101DXDUXRBxxNU1GWyvZWydHBAffuPOTBnac8uvsDR7vfsDcYpGPONZUDDU09ZTo7ow4TolZ4X+DLAWW5S997vPOpDrMmqyV5sqC1RJPDFRppmCzGXI7POb54xevjP3M5PmVaD6mZo0VAfKSdSxIfcS6gMqdGmFaO85v3nF2/Zfv+Nt45HL3VJEh2SkhG+1TLuApzrsYXXA5PGU7PkbKG0DBv5hA9pd9md2uP0u9D7DNfBObNgrpqCCQPh8I5pFAIDePxkNHomvF0SH1Q0/N9nPhcfxtUlYvrU66G5wSdL63J4rNHAcLu/j5PHj/ju2c/MNgacH254Pr6Go1K4TxNU6XpIe8ppEh5GpwSyN4sCpP6ivObt7w6/omr0TFVM8EVpBJaCDE4+sUe9/ee8g/f/BfGkxHXl9fMqhGLMEUkEGJNrQ2D0nEzOef525+4f/QQ50vu7DymYAsnniAhT0P51SUeNeVw+NChwjCMzxATyoZhGJ8tt9lJoSuUu8RsyXSFBwIhu1JWYcZwfsX789ecXLxhWl1TbimuTGK21baLxYK7hyWPHj3i22++5e7+fZzmOGRNrqLJ/iRLXUNHd2oWga11McZIkwNlAw2LsOD95RuOz18zGl8i/QXiAto0CFsUUlL6Le7s3+fhvWds9fbSgD461CWzUggB713WydoZb8alxbcVyEl6rCYSZE2Mtb92ejrHM7YieZlMSVrBHRCaJBaXIg/amFL5wKKaTYsxLl2TRVPMdmtNc0uxnJZPpYCSyG1CndxCtaIKc8bzay5vzplVU5yns06Kqxz0tznaP2LQ20rb7rhDi5MslLuVpmWztSux3B3Lt/V7pUFpoBXKoqsa0DjIYk8lH/fSKp3PRGtpb1+t+7t2f2q9KVYCuo31jQRm9ZSz67f8+dUfeHn8E2c3b5nHG8qyT1ECPYeGiqZpuJme8v5iwNbbHkdHd1GEq6srbm6uuLq64vz8nPH4htk8CaCiaF2I0zRIExQXC0JQ5vMZIhXlSDm/7nN68Y7TOycsmgakz1b/KNW+zmK3qhaMJlecnr9iPDunbqb0+n12dg7Y27/PwU7Bds9TFD1c45BYZAcSl70wIioBFaiZMarOOb56yS+v/8jb0+dM65skkn1I58cBPl/fbQFzaiJCowXX4xNOL9/y8M4j+uUA0ZKYV2tPRZuELhJZNDMubk64HJ4ynl9TbDWoa5IY1T59X7Czvcf9O9/SLw8YjuecX51zM7oiVs2yNnW/SPWFQx1p6uTmHnPdbSfJpbqd9Lq4OuM613EXH8GF5JYdG1zR487REY8ePOLh/YcIwnQ25erikqau010YIk56KUt1FHxRUPYL1DUE5kQi48U5ZzevefX+T1yNTqjiFN8XcD5NgTWe7d1Dntz/nu8e/gOT2ZDzy1PenbygmczBCU3IGdJdj8n8hqqqefHuz/T62/QGu+w4n8phiaBLt3ZSXXtlZU3efKwbhvHZYULZMAzjs2bpJ/zJJZQUj4fmjLsCKpGaBaP5DScX73j1/gUnl+9pdA6qFER8v0Bjig/u9weowmg0YjIZc7gV2O8PUjyiNmwV28n6pdl4lhMrx5j2rarJPdYBrqBwAtRMSVbR0FS8e/+Ks8v3RBY4bRDRVPc2FhTSZ6vY4XD3iKP9+/T9NqIFMWZrr0KjEZfjjVO95dQ1TtOgeiWUpSPJNkVap+/y17RmXNYYbqVwXErmgKNGCLhlMqwk5lxba0hcx3K6cY5U86udUcgW345FuxXQOUsXITY0oSJQsQgzposxo9kNVZhDqURJbpwOT+F6DIotdrf3spuxy8micibtdjYjK3/Xli9qa+d25w9aS3ArliWi1LB8hdVVJ7CMH3e5Nm+2zi97P4t/cntTzab2752O0lZUg+KXExKBFKcdYsPl8IQXb37iX/7wf3M+f8M0XCG9gPqaWpSmrogOXB9mYcTrk1+4GJ6ytb2DiGM+n1HXNVVdU1cLAhXSa1IZLqcEl1yXo6ZJHuf6iPeUhVAWBYVrqKsJF8OKyWRCr9xhUN7hcO8p/ULoOU9EGE5uePP+BX/683/l5PwV48kl2zvb3HvwiCdPfse3z+D+obDXu4MoeC0612Zb8zwSaajikOH8lPcXz/nlzR84OX9N2VfwNbgsEjUSmpDDLdqrORDi/8/eezVJkmRZet9VVSPOg/NkxWu6d7b3YVcGT/jR+AEQvAACiOzu7Mx0F0mewTlxZkQJHtTcwzOrarrmYbDZAr8lWeHh4cRcVc1cz73nnuOxznM7POPm7oTCfU2HPoqMMGsxmAFlIfa2C5R1wcX1Gdd3l4wmQ1LlkcST5jk6tMjSNtq0eHHwDQc7X1HUjldvX/Hm3Uuuby6YjCtqW9Pu5mRJhhLDoNOnl/fIJENQuDCz34pU5fuHO0bTIaIDaW5w2lLUEzyeVp6ysbVGp9cGPAqFrUuGo3smkwm1tYgYlE4JVjOeFiRZwur6CmIclimEmlF5zc3wmNPLNwwnsXqdJi0kGIJV1LVh0Nni+cE3tPMVOu0e//k//QP/x//5wM39BZIo0sTggmVajlAkgOLN0WuSpEO/v4FuZSiTIo1mRKRcz/rXwyzz9nsu7ctYxjL+J8cSKC9jGctYxmcbMwj8aTU5/pRP7lENBvONL2toqnD3w1veHb7lbnRD5ad4bQkqerGGGecyRPrsdFpydXXFy/CS8kH4Yjelk6+TmBbBWwSDQhNc3PCpOe1aGipwiJUqFQnKFo+j5nZ0xfHFG84ujxmN76MAl43VMMGgSehmPfY2n7G5skPbdKM3M/rx9ZXCNMrCAguV2ICeCVvxCJJn4JMQq+2Px9kQtZsKq8Pjgovj0fzncNgQlZKtrfCuwjTvo0XIkhSlEiTeO6c6h6ZqrEQxFw2TBiyKNOJCsZRnTOyvDAGca/qeteBDwNkKL5FSK3iuby44vTykdlNEBbSJ3dchKCRoep1V+t01Mt3CkCBBEZpiIzRJlBntOygkeGZCUo/0dR4ru8w6ZS0+VPhQohqbqkCNb3rR5zC3qSzPEgFGJajGm1dmwkY0isKiP6rqh8CCbZFBVMNCCBYXHELAi6Woh7x6/wNvj35iVN7ipQBjYw9wEud0PHnA6JQ0z/HOUThLNZ1yX9zE8XKusZnyhOBiEsBEES0vsXo9ZysIBC0EiSJRTjtEWZzU2FDhq8DJ+Xv63R2e7H2PVhlGReB0fXfB4clbTq+OuH04p6jumZJSXhaM7RSvE4Ioso0cIUOCQbyAipVkR4UNFZWfcnj+M29OX3J0/pphcU4dRgQn5FmCSVKm0wmiBJOkkWocampXNTT7gNGa4eSGq7sTCjvChRIvNlpCBcE6HskP4rHUTKoRZ1enjIohKlXROkmiF7K3ina+wlcvvmdn8xkb/X1C0CSuzSBd5ejkLReXR9zfX9BJcvqdPiu9NXY39lnprJJKRgi6KbCGOZOgKIuYyHA1SkL0um7mShmh1++Q5QbnCu7GQ24eLpkWE5xzzVIWnIs2TK12m3a3Td5OQNeM6wnj8Q2vD/+Zd0c/cDc6I0iJSaCqKkS1SXWHTqfHzuoT9tafk5kuWjt2Vg/48uk3VPWYo4u3KC2I1vjg8MFR+5Lb4RVH5x/odddInrZIhLFCrQAAIABJREFUezmKgMfEqrISvPMEFz/Lb7moL2MZy/i8YgmUl7GMZSzjs4wZSP61PzWbLIlAaAaGlIpgwYYIkINEMHA/vOXD0Vsm5QiMg+BAx55Vax0zf8/gApNJgZ1ec3c+ZXxraScrPN/ukaYK56p5ZdK5WEBUShCJlV0RwfkGgApY76mxWGpOb4754f0/c3FzSllN0VpT1REhGaUwOqHfXuWrZ9+wubKDIUNhUKJQMxavKJI0nQ+DUopH/9tmQOa84Ud67xyIiUQKMrOu4wiU6xCFxnxw2GCxvqb2JaUvqWzBtJhQlyWZKBLRJErT7/TJ0zZaZxglGGmks3xjlWXmvOOGhtwIF/moqBxCwJiENMkAosqyeESBdY6yqkE8ogM+1JxfHnF08g5HiUoEdKzIhSAoDKuDDdYGGxjSKLgWFME1lkcCzgeUijZH4qXRXFsAynqBKt0kETwOGwqsL3ChQIvHU1G5KTZUuBAptj44vA/RfzbEqnEr6ZCZFkZiNTEeUwJKIfOtR4QLkZHQDJXRSNNPbZ3DhhqtA9aX3E+u+fnNv3B88Q6VWdJEcEGoiopEG5BAacegPVmaEGoPEnt3i2qC9x4tTa+2eEJ4FGeLImXMbdVi37giqBrvoQ4l3sf+W1EeZRKCrbm4OWN95ZRpOSRPeyRkBODm/pyTiw8Mp3d4VWLa4HXJfXHFw+kQlbVI8w6bazvokDR9ygLBxxp6KKnCiFF1y8v3/8jPhz9wO7zCSUnWBusqTJKRpRmT8ZTE5PQ6XTyWoppQ1pHirBVoA5PpkJvhBdPqntpPSXQXrXJC1JxCaaBRn65CwagccnF9TlEXpK2MYBrqvlf4WtFprfJ33/yJlXSXVLok0qa3vcreyj6b/Q0Ou6ucn75HCKytrPJk/xkHW09Z6aySqATnNaFpz4j2zRFIWueorcV4IpNDNR7pOmBSjTKeyo04u37P5d0pZVUQJKqIWxdwzpMYxcrqKt1eF5MobIgiYcfnr/jhzX/j9Pw1pb0na6eIEsaTkjTt0Gl32egdsLv2lM3ebmxLoaajhK+ff4cNUy6uj2M7iYDRBusCtatw9ZiL61O0ythY2aHXHpAJOFI8Bq0NvvbRAm/BE34Zy1jG5x1LoLyMZSxjGZ97yMc3fw0+ywLI8cFHkIOlqKcU1ZTSFtSuxIUadIjepQrQuqn6afCK4CNA8a6mripsXYK3iHiUCNZWWO9ITR6rxs4zmU5QRtNut1AafAjU3oJ4vLc8FDccnr3h1bufKMoxSiuSJAVvCR5S3SbXHXqtAXtb+/Q7fZpO6F9uJxcsj2ZK1rFkPHuwzKmOIXhE6divq2f2S4GyjtXaoAJKC05qHDUPxR23wyuub865ebjifnTDuBhRVxXBOZJgUBYkKNZW11hf22JzfZfN1QNWelu0TA9tDCpEAP+JZHQzTzKvMMfjilVyrU3sSfVRUVprjccyrh44HR5xM75kXDxQ2jKmApTGOo8mp5V2WR1sMuitY0gbf+tIgW7axRfWzaynOAouRZ20AOKw3uGCnQP2WAizGBXpo3eTa67uzhpWwAPTYkxVl1R1hXUOkxiyJKeVtlkbrLPW32C1v8Fab4tOPoj9r8FSB4W3CiMKrRRFGb2N81xwAZwHpeIaqnyB1o6z22Nev/+B+8k1hRsR6iKCeKkQLVhnybKMp8+fUFU14/GU2lqUMogJBKkjlXnBQ3meMpEmk9KozPsZTR6BoHEerK9QBlKjMCZBuQSqR6A0rSZ0XYmjxhOoQ0Udyri2pMJRUtsKnaTkueF2cs7FwxH31VcoydGSkaSKyldU5RjSmvvpJe8uf+L9+U9c3R3ilUU0pFpIfYYta3wFa/1N9vf32d3b4fjsKM7PZIzWYIygE02oPZWfcnl7Sr+1SdYbIKGOc5AY6jrgnMMnJcPJA/fDu+Z64XASq7RRZd/Qbq3Sba2Tqj6JdNC0UGQInjwJPN16wWZvleLFtygCWZrRafVo5wNS1UFI5mJbXgWslASBXq/PymCNh6JPFYYUk5KJn5J3YjLp6OQD/XSDdKPF7fic4fiG0k4xSUw6aZNSV4o0yWi1WrTSDCPwML7i1bs/8+cf/ytFfU3WFrRPqeoaV0GqW6SqRSsZcLD9BWuDbRQpqTIEFE4cedpla22PP3z7H3l7+DNXd+fozKB1TApK0NSu5Prugvcnr8lMi2dbX2FD2VjoCSoRRBa8lZdYeRnL+OxjCZSXsYxlLOOzDXksF/NLkDwHkosc7DCrlUZ11mkxZtIAGmsrfHAoHV83QPQ5xsQePVH4IOACwcXqh3cuevbi0GLwEhoV4qZPtaFsojxe6tgrSawE1r7ibnLN65Mf+XDyhtuHSzqdKOJTFgUSkujF7DK2t/Z5tveC1e46WdJirsY8+8BzfDwbhYWd5qzBcu5a1FSUQ5SuCo1itm+EioIIXiK1dzIdMi7ueZjccvlwyvXdKdd3ZzxMbhlP76JnsfeooNE+IZQBXwWu71e4HV4zmo6wDkQMySBrqtyxUqbCozTYYkNiVLiOVTCjDGmSYrTBhQqUQgXQRqhdxd3whvenb7m6u2BSjrChjhY2TfXW6Ix23mdtsEW/u4aSBPEzunPTFzwbN4kgMIp8Ldg6qRDtpqgJvo4VTR+9hUfTB+5Ht9w9XHM3veZ6eMnV9XmsWlYFdV1QlFOqusIkhnbWptPqcnHdZaW7zsbqNk+2X7C9fsCgs4GWhBAcLvjYUyoK0TJ3i/Iu2puBJ6hYrS7qEWfXR7w9esm4vsepMla5XY3XARFNmmb0+yvs7e1xdX3FeDzGB0u02RJQ0Xc6tmiHeZuozM+vWOWfexg3Nk1KxSSLOB8ry9bjg8d4jQ4KY1KMTpo2gFl1OpCkmqyVIKOGxC6Oui5jIstk3E8vubg74uLhmFZnQCddiUr1Eprz9o7T6w+8OvwXru6OGJe3KBN1BIxKcTYgTpNlbQ62nvPlwVfsbO9QjC339w8YuYnVe4kCeCJgfcn17Tlbgzs2elHxPohBiYn9+SHS6Yeje27vrqlsBMpR9EsTfZdTer0NBt0tsgYoG1rokEKIKs9pK2HQ6gM1gm8EAFVkFLiZCl3TniBgG4ZMp92n3eoCmuBiGkMrg6Co65qrq3OO8reEOnB2dcxwcoPH4kKAoFHKYLTG6ASlhWk54vzqiMPTd7w7/Jnr21NEj1GmwhiFdwacEFxCpz1gs7/P0+2vWOttNWyWmTxgTSvpsbmyCy8c49GIh4chwTu8+KjXoAQbKoaTWw7P3tHKuqz11+mlKxitcaLRqlHi/vhysIxlLOMzjiVQXsYylrGMzzJ+rZ4q8/Jg7H/9pNTcRCDSSp2zTCZjJpMxVVVgbUXQHp2oSD2F6K+Lif8kakW7EJCmUiuNKFAQj1YBkxkIGl/XIAplNK1uQpQdKqmxTW+pZVQ9cHzznv/+L/8Ph+dvcL6k01mjnDrub8f02z2MzvFO88WTb/jDt/+RdtppKqIyYw0vuDrJwmdt7gyNCtUMKHtANKIjAJuBw9qFiA2VYNIUwVLXFRd35xyev+b47A2nVx+4H11SuRE6tYiOfr3aGLTKoM6wladyDjeusdRU3iKSYnROtztAKY0E8M6hCY2g2aOf8axHGkCLItEJeZpjjKGy0domCpR5yrrg+vYSH0ours+ZVuM4/Toq+yqnSJMO3fYKq4Mtep1VhAQadsDcb7vZyMcZDY9jORMOUwHEonSN1hHcTMshN+NL3h2/49W7l7x88yNObOxZFkeSGrQRXKiZ+gllPUUHwUmJVQUXlyckkrPS22Q4GlE7S+dpF5NkTWUXnCiMhqwd6bUugKehoBMTOgKMxvec3RxzeP4WG6YEY/F+1t8eae393io727vs7z2hrh2np2dNK4LHugrdMAps87x4DslCriXMyAjz/4UQSJKYlMDXeFtTlBZfeVIltE2bbhITA600xygzn+lOt83K6oCLO40SIShFcA4r0Yt4WhQk98ecXLxn6+AZ0oaq8mAE0YHL6zPenr7k5bu/8DC9wfoJrnSkWQJANa1pZx3W+1t89fQ7nm99waA14DA9oWV6pKqNVyXOF5E+TYYLNdd3F4wnw3hehziXoUmWCLEveDi+5+r2kqIusd43gu0GgkHIGPS2WBnskJk+RjrokKF9FLQTNFp5RLLI+MBGXr31eNfkrmatGrF1fZ7o6ra7pKZFMbaERJFkOWluqENFMZlQqZL3h6+4vbxh/DBiOhmidIg2dD6QJAnSJDa8t1zcnHB1d8YPP/wTZTUkzQLj6RCpa9qdnDxt48Uwegj0Wxs83fqC51tfsdbZImoxqCalVdNO+iQDTb/f5fz8jMurK+4ndwg1SocIlK2lrCpOzg/Jkza727skg4SWaeGwCIKed4cseuotYxnL+FxjCZSXsYxlLONzjrAIDuWvbK4ewe1M5KqqS+q6imJRjcqsMQbra9ycbuoAhSiDqCialeqUPG+Rt3ISYxYq103VTPk5bvfU1D4KCCmlcKHioXzg5fsf+fn9X7i8PSaokqylubm5QgVY6W2SSkq/vcLm6h47q0/opQOMpA1M/jhV8PixF+vq4fFXD/gGlM6ksGmo6BLw2lEHi/UW52tOLo/5cBLB8fXDKfejSx4mV1R2iOgqjmGoqOox2imCqcgUmFaCaAN4pnbIxbUjOAMhYWWwhu4bktTMQd7c23kRnBH7X0UUWmvSNMfohFA39eZmmq2rGE0qrJtS1VN08igK5hwEL7RbPbY3D+i31shVB4WJNk2zsWjGYS60RiAomSuVaxzSCHRVYczUDhlNH7i4PePo/JBXH15xc3+DZFHEjBCFrWpfYx0o5TGZRiUpM3XsonboLEUITOoHji8/kOctnuw9RSUJIh6MwXlPUVkSk4IobHCgo/d3LSWOKePygbfHrzi+OORheo9KLUE50IJSKUorlDY82X3BwcE+1lpcHdAqIUsFa2tqW6NVrDLq2XjwEVkDCTPPbBWtjBvQXBcWEUVm2uhECNYxsQU6tDG06bfX6HfXabd6JDptKO+O9dU19nb2+HD6A+X0gSAGbRIcjkk5xqOZVg98OHvNi7W/Y3fwtFHcnnBf3vDq8GcOz94xLkfoRMh1jvMObwMuBPKkw9PdL/jmxR94sf0tg/aAoAIrvXVW2hucyRm197HVImiQSB8fTh+YVhM8LlabvacONvZlNx7Ok8mQh+EtztvIPBGJauReAQmDXqTTp7QxIUV7jXJNO4GK/urBz643OibjRBATa8s0StGz01SjSXXKoLvKam+dbmuFifN470nEUNsa5wNJrhiO7hjePhBcFF7TqcaWNdZblLdNr3LFeHLHZDKkqmsm0wdE1fggseUDha81lQ1kps2z3T2+//JPfPvij+RZN44XqlkPGiOtmVQfHsv+9heMJ1N+evNnHqb3WFvHarrSZK2Uyk25vD3hx1f/TP51Tr/VRxHFy7zzGJ0tMfIylvE3EkugvIxlLGMZn23Myw+wsMH/tPP1cc8VEWOklkbQbG2NdXVU+QWUCFopbIg06fi0CIB0VNVBaUXW9Pl12p1ILX2s58b3UbEiFVzAqRpHhQsVpbU8TO44uTnm1eGfeXf8E+PqBpV4Eg3DcUGmc/rdFTKVs7m6z/df/pGNwS6ptKIq8ty86K818i2MTWi8dxuBLx/8XCjIiceJZVIOGRYPPEzvefPhJW/e/8TNwwWT8p7aj6ncGFSFUa5xaJpZQ0EIlpoigrzUEDzUdc1kUhB8Qivvcz+8o98a0E7baKWQhsIrC97NEQRHEKtEobUhT3O0iq8ZvG98iD3BO2pncdMC0UQmgI+q2MEFtE7p9dbZ2X5KN1/BSI6QIF4RfAQtjzTPRqArNMCnsUECh1DjwpT76SXXwzMubk44vTzh+OKY4/MTKleT5Dkohfce14AYQsCYpjCtY9+zdxbrfEyYeKGuHe72jHarze3kEpUYcuNROiegsDbOnSA48SiJ1kiOKYUbcTe54sPpWy5vzyl9QUKYJ3MkJKS6Ra/bZ3ftGZu9bV5/eMl0VCPekChNUFDXtqHlh8bQq0mizCj7M+bC/P+PP6MyuyJJMrRoAoE0GDLVY5BvsrV2wMZgJ1YcJZ0D7l67z8bqFr3OgEl1R1VPUMpgg6O2JcqkFHbM2fUhN6Mzxu6WROU8FNec3Hzgw9kbru6ucI3YmjYpmTbYCWgyNlb2+GL/a74++J6t/j7KaAo3Yb2/xUrnDOWTWAEWE4EZHutrRpMho2JIYafkKo/Qz1sSoxHx1L5kMn1gPH2I1HVpFi0KgkFJSr+zSr+9SiIZxjUg2TNfbyGohtXQnJ5qJmY3u46p+WkrTfLIqIRea8Dmyg772885vnIMqxpfOYJrbNecj9ZepUVQpKlB6yQyIpDmvHdYWzItR1RlTVVVKBO79a2t0SpFSAh1IKHDSnubb7/4e746+J7d1SeIz1Ch8TcP8VydwfsQPNrXbK8+wVaO65tbKucpp3d4or97kiqqacX9+Jp3Ry/ZWdtlvb/BSq7n539QHlGLLJNlLGMZn2ssgfIylrGMZXzOIY8g+Vf/vPAzEEGZhHlnblTRbf6JRIChmj7f0PgH+YUqpxaFUkKW57TbXTrdHolJmYn5zICeiFDXJZUtIXGgA9oELh/OeH/2mh9e/ZmTy0OGxTUmj+rNwUel2ERlaGkx6GzydPtr/v7r/4yWDGeFJGn6VucfKszKoTyyzWdVUuGjrIGSuJ8PDhdqKl9H+q0KeGrup+ccXnzg7dFrTi+PuL49Y1qPCFKjjSdNBCUGrRVax821JB20jhv98XSKDwVKJU3PpsaJYlwNGU7uGZdDSlvgqdGk8xbgxcmKcyNN0kJhtCFLc4w2BO+pbU1QAiqCUBXiBj1JYlWuLGusE0RS2u0u66vbHOw+J0/7QIIKCYsoZEa19rELNQ6jigfjEILy+FBQ+AdObt/z9vBH3h6+5Pr+ilExip7CWphaj1IGH4Ta+ZiYULH/VpSN1G1x8X4JVHZKcDXBacqi5PLunJPrQ0yakPQiRVlpE4GsLxo26ky/3BGoGJXXnD8ccnj2nrvJDSSBYJrKpGikSmmZAXubz9lqPyGrcy5P7rm/HuNKSFKDwWPE4ms/G/xPzp6GFjFjboRZJT4+MJEUrTRSG5wTfAXGJay0t9nf+JIXe9+zv/6crunhQ/QzDgEyldPPB6ytbHE7vOR2eEVINIgiNImm2k+5G55xOTzkdvKMze4uF9cf+Mvr/8HZ1QmFLTBZznRakxhDt7XBcDKhnQz49tkf+Wr/e/ZWn5GpFjbEBMvWyi6nnRNsEVMgkhjyVoJzBZWzDKdD7se33E/vyFp9tKKx+gIXSib2nmk1pKymMBN1kzg+sbqa0WkN6LS6sUXCR5Cs/GMXBAKiDUoncYgb4kpomBVCWCA7xHNYoWmnffa2n/FHXzL5xxHD0zsmdYGkgkk0dVmhjaHVyamqKvpEh7hutNIYo6lrR+0KkGhPl6RCv9+nmI65u53Qbeex6lx7+oMdnu19x5/+8A+stZ+Q08Y6QSkVz3mIzBIgkCA+tl+s5bvozYTzvSsmVcnDZISzNco4RAfEOMpqxNlVyeH5a9YGa3S2O01bhY5JMPEI+jev68tYxjI+j1gC5WUsYxnL+CzjU/Ixn9wmbvwXgWLjgzQrJAoBrTRaooCMaqyRvA/RV5fYK4iPgj0ejTSVZ2MMWZaRZ220NjzubGc/Ba01iWiccgyn91zdn/Hq+Efenbzi6Pw9dShQWUUdCsQKWhK67S6Z9MhUh72t5+xtvaCVDlDBIF41LPDQVIl8LFcu2mHNKeifDIvWjQCTjcJU4lEhUKspo/KBq4cL3p+95cPpW47OPzApH6h1gdIWiD2xzW4ebxXiQIkmlTy+lQp0uklDMY8VSq0VaZqinQITq3GlKyhcEX1tRTV05d+aYYWWhCzLMMZAU4GGpnUYmfc7Wx9J3M45lMppt/sc7D9jb+spg3QdFVKcjT3m0WaIeUUvgmXfiEqBpUl2aEMtE4bFHWfXb3hz9BPvjn/m7PaIaTXGYtEmQek0Vnydx7kolp2mOWlqMAacL3B2CsRKslIagsFZwVWgE43OhFqm1GHCqLrm+uKWYlLhrKeqakxi6HS7KA1Jpml1M85ujjm5+MCkHuKVj+rNJrqEewdt02Z9sMvXT/9It7vGZDxkfF9Sjhy+jqkibTLaqaYox3jvIuht1tCssi9BzcFygIa63syQKMRFr2EdDJlq0V9Z42D7C17sf8uTnS9Y629jyBq1eY9uAH+ettnfecrV7SknF4egVVS9TlTTBlCiCNyMTjm+eYX1Ez5cvuTw/A1TO8IFB87jvEJqTTmBXmuD/bVnPD/4jvX+XlSRDhpDtOfSIrSTHt2sx9h5Kjy2qmKCJATKuuTm7pazi1P6e5tkeRejo+hXXReMxneU1YQQbOMpHSnVAYUSgzEZrbRNavKYSArEVuQAook9x01yL4RZhZm5ALwAoprkl4S5VVpsOTB0Wysc7Dzn5tkFJgncTs4YTi+Y2nqe5BAV2RUSIg3dB0e0xbOxuUAEH8oIloMwHN7jrCcxOYQI9Fc3N3hx8B3P979hkG9iQkZwQioJWswjNTqA9wJoFBmZ6YGytFuO50++YViOuB/fcV94nK8pqyL2z6s4ZsfnH2inPVZ7m2x0EloqxdMI/S20iCxjGcv4PGMJlJexjGUs47OL2eZJ/Sr7WJrO18dodqEhlnWUPLIejdZopaDpT0YkWhDNxLokENRM5Teq30KIINikpEmOkthTCBo/s56dec0qKMoJ59fH/PThX3hz9BPnN0cMyzvStkKZgKsnUehHIEtzBtkqq+1dnux8yfb6ASrkmEZl1nnXbKoXpWF/x3Dp+Lm8r0E7gliCVIyrG87vj3h9/JL3J685vTrkbnyNF4dOhCQ14AOusig0SjSahFSntNI2/e4AbQRLydBdM6xuqYsS7xwKTWI0VID2eIlq39ZbnHLoph710UyFGXBt+sWVIc/yRohI5gSC6OMbEx8eS3CCb5IcaWLotHvsbu+zubpNrrr4WuG9ECSCPPlEWTeKVQUCirrpYdcijKoJ5/cXvPzwkg9nrzm7OWRc3eEkAhPRAaUVImkDhjSpThgMVuj3OmSZopwOGY9vKcsHvK+apRvF1IJyaKMwmSDGUzPhflrx6sOP3N3cUZWWuq5J04R+f4BKhLybs765ysnFCScXHyjtBLRHjMQKtwOx0OmvsLX2hKfbX4Ny3NzeU008rhTwhqBU9LjOEuqiInjQjYftXFWdmT1abD8IM8Acoh92nAdBoenkfVa6G+xuPuPJzpc82f6StX60BcPqSKWXSJW2eNK0xe7mAe+PXqNIoxK6EnRiqKqH6KmrFPfjc44uXzKp7ji6fsXV/SlebGwZsB5IwGfUhWJ3a5ene9+wv/mCfmsDTRaPXQJaYqKrk3bZXN1GxoH7omZaFYiJa8o6x93DHadnJ2z3ntI2fdpJRlTJr5gWQ2o7JdD4eM9ydUGhlCFNcjKTk6rk8fSblZKF2JIhvhlH1YxlsyQaGndo0HUE77G1IYJxIU3arA+2+fLpt6SZcHyV8v50wrS4Q2cGAjgfhd5C0/Pr8EjwiKvm8+WpYm90UBRFiVYped6jnXTYWjvgyyff8eXT79hc2ceENrgkJhz0x4wW7yWuN3Rk2mhNTUFiOuxvPeN2eM3V7Tn1TcmouqOuy3j9VAZt4Or2HEPO0/0vaZkeebvXeI4vpa+XsYy/hVgC5WUsYxnL+BwjzMrCvwIWQ0NfZNbvCjN+46yntoFjGGOaCl+sYBIE70IDnInq11GKNvbfyoymHStIESRHmrFgqKsa5z1ppnHiGJdj3p284S9v/pF//vm/UjHCm5LeakrhxpSuxKRCsIFgo93U5vo2f/ruH9hf+4JBtg4uiRVuAa3TWOWeA+Xw6UefR9Np2vziCeIaFd+aWiZM/ZDTmze8Pv6RH978E5f3p4zKe1QasL6kqC29tEfwiqq25EmPLO3Qz1ZZ62+zt/mEr55/SzvLGE6u+d///L9xd32FpYw2RoBWGeINHotKwCSRAho32x+D5Ef7qpnIV6SMZlkWK9Nax0qUig92wRJCHStUAYIoREfPZZOktDs90qxN7PCNXthhESR7Hq2XIvGVAJGmS7T4Or+94PXRa356/xP34xNKPybtKhyK2tWUboJ4j1YKrdp08h797jpPDp6ws7VFp5vycH/F5fkhJydvubm54GE0xKQ5Pmiq2gGCF0feTrFhyv3dkMOzV1xfXmHLCqUjeA0nATEqAuWrVW6Gd1w/3FC5Aq8ipbl0luAUxqVsrO2zv/UFK8kWw+oeX2qUz0mkHXtAXU1wCuU1WtK4UlxcRE3LcrP2o/2Xaqqm0vhQi4rAM0tz1gYbHGy/4GDnBXubzxm0t2jrFfAGWwh1XZO1EnRiiPJUnky3WO1vMOiu0876TIHgK0JwsaWegElgNL3i+MJxcf2Bm/tbnBQEHdkDde3J0i6pdNC2xd72V7w4+J5BtkkmbXRImgqub1470Ov0+PqLrwkfHJNqxKgArQRloiL0eDLm9PSYrd4RLd2lvd4BmrUWaryvcL7CK/8IegkYbcizjFQlGDQqBCQ0YoAikQqNow4e7zX4BBUUWglG8djyQVMF9j6KscUuZWrvCCJolXKw9Zw81QQpubo+5A5NK8uZ2CnToiBr501CsKkiAz5UGB3nL7gapcAkhtR0SHSHVjZgb+sZX+5/x/fP/p52MkCHjHoaaKUJmUmJjmIxiTW/1MydBppuZWdQIaWj++ys7vP8yRcUYYS9KxgW09j+ohUmhcl4ytXtBW/evaSfrLHa3mraNv66AsMylrGM//nxNwqUF7Nw/5aM3IJS6r9GZ/x3i99THfmtYwm/4zF/C/F75+u3xurf+tl/W/bo3/+9f897/LX5Dr+4Z/asxYqifLY9PxrwAAAgAElEQVRr4tfG8nM91s8s5JcgsfnDwu1frpO5ZHLTa6lVgpKEEDSxa08RfLTVERHwj3ZBSmYyWjKvPtM8y+FR0ohj+Zqr4Q0X18ecXLzl+OotZ7cfqPwUjAPlqOwUwZGIRodoLZOnA7579ge+efpH9jef0k0HsV/ZG7yv43HphU+4+PE+PWVCFKeKzsge65pStw5YSu5Gl5zevOf10Q98OHvFze0xlRuhVBWreiGAUhhJCKJwYthY2WFv8xkHG88ZtDdY7W6wsbbNcHjL9e09o/E0CkNBIyYVK7xRgjqQpSmpSTBimAFTmfFFZxTU5r+GJI0RQ2ZapLqFlgyPiyAiePAeCaC1buZDo0KCt4FiNGF488C0M4FWBDEJBokC5r/IMUiQWPmT6O08rSc8FDe8PXnJ28NXnF+fEvQElcR+Zus8tfMolZGlXTqtddZWd1kf7LLR32WwMiDNNcX0gdFwyN3dHdOiwANpmoEYtEpIE4MKsSabmITxaMT55RlFMaayEypbYDCIiv293gbKkWLibpnWJUVdETQoZVBG4Wy06uq0VjnYfsLuxh5GZxhJG8X0hERSlARKa7FV9E8WFL3egK3NjaYSGQgOglfgI4vAqIxE56Q6w+iYuGjlGZ1Wh15nwFp/m7X+Dv3OOrnqYUI+F1t3Tboi+Ahw0U2iiYQsadNu9ajLktJVuKIGoqieUoFxcUdVTtAqZVpWWCoUCSIaoxJMyOhmK2yu77G/+YKNwR6ZjiA50sbjiRFXlKbb6vFk9xnvTw8J1pCZNp4pBIsxmqqecnlzxvuTV7TznMGgQ6IFrwqCqalCQVkXhNTNE2xCPJbM5BgxqPm3zuNCC8E3tOMIikU9fjN5IuFFmqry7PriZ7ZcQtNDH9AovNG44Hh4uMdZh1EG7wIKTaozNAbvPKHypCYn0SaKETZz632g2x6w0l+j016l31lj0N1ko7/Lem+PLOlidCuqdieC8hpXRuAuzQHHBFXsWQaauQ2IignEypd0Oyvsbz/j/O6YYXFL5SZRLZzopa6NwjrLu8N3bK8+Y3fzOW2jUZj5FWL5jbiMZXy+8TcMlBcaSIDfD4BmvMHF3r9/nz6R8IvfHssJv3w3eXzY7PZHrW1h9lXUfGn9f39p/a30xF+7Pfv9l6/yW28ya3r69OGzr2X5ZGx/PWT+c0ZL/Y1HfXQof43u+evHHRZu/ObMfLT7/5VxmC/rhXIQsbcwivLIR8+aCTDFPfHiGm6AT1NpnGXHZeG5vzz6f4/19HuA3jL+9fh0nSxet8L8//MRnanTQlSexWBMTmJytKSx7hJs42UqSFCxqhNhDBJMQ5eMfaaiFR6HxeJRSHBUvmRY3HNyecjPb/7Mq7d/ZlheE0xJ2tagNaULlEVBliZkOkf7nEx3We/v8Z++/S882f6WTrKBClEkzGiDdTau9Zl6dYC5yNLiMppTPCEKkXm8t5SujiJcEphWQ86vj/n59b/w9vhHru5PKPwQncbeax88QkoiCW3dR+mcrkl4tvsNXz37ni8PviWTNuIVZV1zeHrEn1//wM3tLbVzaGPmoBUnaDSJSWilGZlOMVFRbGFOPk1uxHNbAhgxtNMeme6iyAh+ilfRyInQgGltUI3NjvaGqnBM7Yj7iyumgwfUhifVmgQdW7tn/9zju6ogzef2iFgm5TUfLn7m7fFPHJ2/YzR9IGtHOx5nLbUVvE/o9AasruywsXbAk4Mv2Fk/YK21ydROuX244vj0mOOjD1xcHlPbMSKQt9q4WqNVRitr450nT1qkOmU4uefm+hbnXWw/V56gLaIFo6H2NaWvGT5UjcOVRpHEqqROcE5oZz12VnY52DpgY2UThSLVCXkSQVysKjoKC846vMTX73X7PHv+JYmKNFusIliFOI2WjEy3yZMuuemQmAxjNCurAzrtDlobNC00OSokce0GjYk4G2Wi8dRMFVyJxL55LxiT0c57jOp7fA21tehMo3S8kk+rIRMXSEyGc9Iks1QE/SYnDRmr7XW+efY9+xtPGbTWolicVzR6fE2CTCFiaGU9tjaETjYgkRyv2pS+xmNJUo21JffTSz6c/0y7a1jdbLHS6eGkwKclVgpqXzSFYo2IQbwmIZ7PiSRzXfrFS1IgUrBjZV6aCrJE/QMX16QI0TpNNILggo1K7ERRsRA8zjuG5R2Xd2ecnB5RlFOU1ti6QicJ7SSPiTEb0CFjvbtOO+9iSKgri62jr/Lm+ja7W3usrW2xvrrNWn+LXPUQl1JbyCSqbZs8o55YXOXRLd0kPAK+9lEozMTrkQsBWwd0ZhDlqWtPnnXZXt9jc22H++kNRT2iqku899jaYUyLYOHs4pyz6zNuJzeYbo42KYqw/DZcxjI+8/gbAsqLm+5F0srsPv8rz5GFxwRCI/TQfKvMKy7x90eBmo/3pmHhZlh45cXN2ycwsPnVz++eeZU+7mAev1tiH1R88uze5l/z/g1cgoZepJvHzp7/eLyND+Qi5l44sL8GLj/19Qsfjfmc6Bn1g2ZY/pPbs8OZPXp2+9NXeeygnH+KZmhm8piPPZSP46GiSEfzxRv30c04LRxEnNXHnwulHAhR3GPxQ0vzGo/0xDD/9IufXz6dn4Vxms2q8IjxPx5cmk3CQrJmlhTgsY9LVDNGIVblYt9YHT+3mn0qmY8gQcW+tHiE0RHXeYIPJCb2XtbWkyY6blpCiJl+obFGiccTrSo+3dA/xlzN9F+JOZT7Bdj/lYH46BnL+GXMxu7RviksyPXOt1fzNTtT04mr3gWPQyMqp9/bYmWwQ6+3wbC+pvZl7B1thKMUmtS00KQUE0uoHaICWbtN0k4pKFA4QphQu5qf3/zIm/cvGU5uuR9dMeQam0ZRLC+RimnE0Eq6qFqT2i4b7X2ebn/F8/3veDb4nr5ZR5HhPQieoGu0icfjsVHYS6IfcIjlOqRxm3EetAEa4S4vNU4cJAGHpbQF70/e8vr9z3w4fMtwdEuoa1JtSIgVuLK0iDMkustm9pyd7WfsbD9la3WHQXeFTLUoq4KHYezlfPn+LxyfvaFwU0RplMoITqNcgnjD5some+s7tExOIhrTeCSrmfdsPLER7RHvYmWemX+tZmOwTy97i1Q5XpWgBK0V1stjj+SsV9YpUqfJ0GQu0PLQQdDBosSC0REgNyA5NEvD6Gj/Q6ip5Z7b4Wtevvm/uL47wocJnXaGCxXVxBLISJMuWbvNxuoOTw++4qvn39PKu4BwObzk3dFbDo/fcn5+RFkNCRSoBIL3FFVFQhexhqoMHOwf8GL/OZ10lUlak6cDvL0ieIM2GdZXoBxaQRVqrNQE42JyQCmM1pigkApkCqu9Vb5//ndsdTZokRCCJzcJvaxNu5UzKiRaWmWxKumkRhSUtubm5o5nT16wu7ZPj1UIBu812mXkqksr6aF8RrBgrY1zqmL1T4KJySQfe1/neV2aNSlAA+i9sgSJIDlJsuiTbQPiIUtSTBLwUlEUI3yIvcpBO7RKEKeoC4uWQCvJ6eerPNt4yp+++hOD1ioGjSx+b2iJPeEIwdcoycm15qun3zOdTvnvf/m/8SagWzHZpYzHB8vl6A3h8IGpOuObr7+mP+hS6gekZTEtTW0tBkMiOXWl0MaQS05Cgg4mUv1ReBX7d7WKSu5RlC6uBRGFEWEm8BwQQjyl43e5KGyoog+ygtKOeSiu+fnNP/Hq/Z85uT7EyRhUQGlNqnOUpNwPx/RaKxzsP+W7r//I1voeubSx1sceYKVpJ23ytIVONEmSRPYKsXddmYAKgeAdiMMkCpSgYmmbaFllZlnp+f5HGWkI5gGd5IgEctXjmy//gKXi5uaagKb2NVVtsd6hgyfJUu4m97w/+0D2tIsxKeZvaQu+jGX8/zT+Rs7SXwPJi3/7NBYrLougaGHzGWb2D4uAW375nF+8z6fSLL/+0Dn2/cWx+0/qoQ1Yf3zC490LhzIDYxHwL2QhF5H5zEblXzn63x+LZQmZ3/MxDP711/61vz0C54/H79OReMxrNHP1i6TF48AsjupHuIGPXugRdDfVqShCO09TzDGr943/7Ef9kQvvGw0QPz1iHkGNNFW8j+dyPiXyScJEiK8Xooqs9xEKqUboJKrw1iAVrjHwcLOhAUJTB7TEDYs0m/Mwo7ThIp1NPJX1aBGU6EiLW5yD8Jjk+JUZ+agn9KP4lVPl4+X3K2P4W09cxifxaaJhVkJdjNk5MEulxQRJTLgoFClaFF4LSdImSzoMy7tIdTRNwoRYkYo9gx5fO4ykdDotBis9so5h4oY8PIy4u7vj5v6a49NDzq9PmZZDynqMo4iCT+JwdfT+FQSjW3SyPlvdPb7f/xMHW1+xtRYVmo3PHq8EEj9DkCaJGZrrxCwx5YXQVKMeE1ox0WNDTVB2/tyHyT1Xt6e8PvyZw9O33D1c4alJEo2IavyFNcan9FtrrAx2ONj6gv3dF+zvPqeddVACZTXm/OqEk/MPfDh6zfn1EZPyFtGBRMVxra1HXEKmWmyt7rC/ecAgH0SRo9Awf2ZqyrNErISmwByvQBpFqjJ6+RrdbI086TF1Ezx1rGTpSL9VQLDgrKC8kISETtJm0OrRSbMmeeoJIdK2IQqniX68zkU2foBQMirOuXl4z+XtGybTe3woSbOEutZYC0pp+t1V1te3Odh/xu72AYP+Cvf3Q65vrzm7OuX88oTr2wum5SgKJykX7cZCTP6FWjA6Z9BZ4/nuN3yx+wW9dI26I2ysFpyfXlEUNcELlbU4axFxBBVAN4nJhgkjQQg2/uwkXTZ6WxxsPKGX9TBB40JARNPOW+xsbjEqbni4vUFlgkJhfaSRjycTLq+uWOmvs9rZYq2bkSc9EmmjXU4SWiS0wKYggtMuJhgQXOP1HJPr6uOr2UKu24dA7W2TAFKxIq4TjMlIkwwrORgBLN7VMSdqFMpE9oYKGhUMqTJop5Fa2N3b5cnOE1Y7K6SqhW6A8vzSPEsYS/Q6FgKJMmys7rC39ZTDk3eMrWDVA95V0fc6BWunXE9KquMHfGvM2mSFgGdY3OGoo1e2JyZ9vDRWUAHna1yom7aFgFd+PleqSbhGQNz0I/t4ffKzfYwSvBCtybBNu0HFuBhyfnvMh9OXvD/6mYvrQ5wUUcVexUp9ZS0aQz9ZZW/1GV8f/B0vdv6OzZVdUulEKj0K1bRGEAKhWZuhuZAIgVQpdAgINs6n0oSgIt3ah+ZcjWswzNSp1Wyf4kHcPCmsRFjtrbI22KDf7TMc0dDEFxLi4hmOH7i4OeNg9ymDMIjn4/L7cBnL+KzjbwAo/16Q/HuqVIvgr3n0QoFrsdAYZt87CxWwuS3J4gM+fetfARUfQ49PP8OnD1YLWPDxDX7/5fTfdtH9DVwd/8YvYVPgl+P0q7d/cVSzDdvHj/no9T96w2aTLLMXbp4vsaKtBGb1YvnoGbP3ad6xqZpJCPPXE1ELAkhxwx18BAqBgBGZj4t8tGbUfCP/C5AsrgGbjT/GTPwjzB7ZPGYOlB9H1DfZd+8boCAh2mdgCaEiSIUNsbetDg7nm0qgGIQoHBO33Cb21kmK0emcsapMoC5r6iBkSdaAaolWQQFmSq9xeX+yWueofJZg+PWY7dM+uZd5On65Gfg3xsK6m61F//H5F//6eG4EAtZFxehUpWhlCMFQ1iUhGIzOwUeLHzEelUYVa2traleCt3gPWSdhda3PYK2DyQPD8ppXh6949eYVb9+9IeskJLlm5B6woSBgSbTGeo+rLLasSVXKSq/Hxsoe3xz8B/6X//C/0su3weex98/GlKFKpElMRXsqQrSwmm1wF/MFPsTTy0ThW1zw1L5G4aPidLBc3h/z47t/5s3hX7i9PaVyY1q5QpsUHzxVYfEukCZtdjaf8Pzp92yu77O2uvP/svdeT5IkSZrfz4iToMl5FutqNjO7K3sAXvD/4wEvwMnJ3u3ODqmu7mJZlZUkqDMjeFD3iMis7JmevQXQI5KaEhVRER4e7ubmZvapfvopo/4OKirKasb14jOv3v6BVz/+nvcXP+BigbKB1IqQlsbQuAobU4a9Mcd7Z5wePmGnt4dVmTi9Osda55Rtx7fNOtRWJSvH3SDfZtTbYba8xrdqy4lNhHodNHXd4GuJambZgK3+Lvvbhwz6YwIyxoXQOSqiRPY2yrSKD88TYsnV9B2fJ29YllfUbiGiZNYgOe0am6Ts7e7x/Mkzvnr2LXmvz7Ka8vrtH3n9+jXv3r8DE7AJDEc5jYtUdU3tagyGzGTEQtPPRjw7/ZpvnvyOJ0dPCXjUKMcfaj68u6RpAsvqlsJVOFfjvSPrG4y1xNA6NyVVWyjGGLZ3DjjcOWFvdECW9EUYKQSCDuRZztMnz7icXPD2449kqaVjwTeuwXuP91G+F1Lsec7hMCVPx6Q2g0ZTVQ3aCSU3TdpxdDUfxzVjZjUFbDhtFTjnWZYFaW6xRkZ81bZpng8JTYMDmsYRIhislDoykbpxBOdJIvTTPqGwxDLw9Pgp5yfnxBjQUWGUXQ8Eqjs2cZ6Kk0TqVA/zMYd7J7x8/i3vrxVXs5rClZgEbKoh0dRuycXVLY2aM74ckec5nyefqJoCgiUETyCIgjQB72pKt6DyS2ySEnSU8nLBiDNWy/GoVV7vGuD61nmr7Zp27igJ0eFcwcXtj/z763/hv//r/01RT4i6Ih8YfFQ0TcA5R7FwpEHx9bOv+Pr8e16e/Zbd/jG52kKTY3SGbpe2TahwsUa3LJsmNKA8VmmsTtE6oHAInDdtGEPEyRRB7iFlQFsB0kqtStAFanwscbHEUUL09JKE7Z0tmqakqUuwUmedEAmhZrG85Wb6mapZEqJrneePtZQf7dF+zfZ3AJQ37ZcstNcLxy8sagE+qzy+TYjVeYjXK/6H99KFCe9Shx88kgexu7r7usvB2wSG9zbrjjbwwK89pIjbfutnf/avvi2r03hnL3G11zWR+v5+7u/toe3W22wQSzFs+gbatohtxH+V49fVukSCxLTxaSU1R1dAuwXHMQS0XqtXrms5rusXdotWrWURJkvWcOds7pzVKrzaLuKVB2qITbsQ1tCqpnaLY0VoUU4b+QJUW2pHDr4Fyiq29WM94CibGUV9Q1FPuJ5f8nn6iflyxrJYUhQVoRWi0cjCedgfs797xN7OIbvjA/JsKDQ1ElBOIlx3U5mJUbXUTDkOtUpwbDfouPUb7fWQPQySu2e5juv+9Jfvm0f720xtvDLGtNd13d6Z7bG3tc+T86csmiuK2yuq0pFqcaJE7TFa1JeTxKCtY1nf8OPb3/Px8i0hKC4/f+Z2coNOxWnj6kDjS6KKGKtJshQVNcFGdM8wHmxxfvyE705+y4uDl2AVLpZYpcGkKKzUdlaqzekEASGqvXdkQapa1jJGwBLQDgOdwjdE5an9ko+L97z6+D/447v/xvXsgirMUdZRRIVyUUR4lKE3GHB8dMrz5y948eQ5vXRMmhrqOOfy6oK3F6959dPvuZleMC+usf2a4Gq89yiV0JSeuqjJbZ/DvVNePvuOp6fP2RntinAaIp4mOd+GNQul9TS191In6hWiwntQypIkmSj5+gZX1gKSSVDKkqYjBsMxhzun7I6OONg55enpd2yNjon0UDolKkMwqp0vIuKAcBJlVhHHkllzy5uLH/n4+QOBRpTCo6d2kRgVxhryviXrOTALPk9+YPpmzo9vfmI+X7JcLjGqIIaAqz111dD4Gu9rjI1kNmFghxyef8Xzw9/w3ct/Ym/7CBX7qODJTcbRTo///X8Z8v7yJ95cvOLtpx+4nl+wqCcYo2Uc6jJwgqitEy3KZGxtHbK7dcIw3cPqHqgEaxSemjwdcHJ4zuHeT/z07keasGxL+2h6eY9AoCiXvL94S1WUzKZTnh7fcH7wgoPhMbkZovOU6B0NBtdSv2Nb0kitRrD1X+zmrKgIKhIt5L0UZcDj8IRVVLmuI/N5ReEKdBLQqcXYAbFpaGpH00RSZTAmJTrN1miXo60nnO2fs93fEecX4EPAPDCECmbuVEwivV6fg/1DvuU7Fs0Vl7fvsCYnhIaqdLh23jI6pShrnJ+g9JSyKrFZQmpyVNAEXxO1pfYL5uUV14sLdssdeklGbOsFRxRBpRiViGNDql1L09iIMeLajirgVY1TDS5W1KHg7fsfePX6j3y4esNscY1KKqzyNL5msSiJSvqv0ZbeYMR2fsw3z3/D87Nv2N8+Ik+G7f2m2/QNyX8PylG7gunkikU5pXRzUJ4sswwHfXr5gMxmQoHWBpTUZpYzCngVCIBD4V2kCYHKeypXUrklRTOjdgsqN2W6uOLq9gOz2Ueq5paoKqwVAUXvPb5pqApDNb/FxiCkgr8UNHm0R3u0X4X9nQFl+OVg+aF3u0V7t8067/b+9zbijdyNaHfP6oHXrKJud49gM1QqYL0DlneBwwNwY7UzhfrZQfX+++qL9/42WLJulfsRZQGSa7Dcvf5y/w8d610FTPHbxi/O/i7o3vi0cyjE9dXrtmp1fe7g2NX3FXf31dV17ILEsIrwrK53jHdIA7LPewwG1Z2JR9G073X1altBItbbdF5qAe1m5bCJKhK1LGyVCjgcjVsIOJ685Wb6gU+3b7m8ec+imFGWJVVVS+5mlJIwadKj3xuzd3PE/s4RB3vHHB+csz08YJCO0SaisGjt7va5NkQZ2/NTXfiuu14tTpZzutezV06Nn7M1SF47X74omPNov9TuN9v9S4HCKC3gK4i6NVqR6ISd8Q7Pzp9zM/9AFW6YlgWKugVQAYxHGWFaBFVR1Ld8/NxANNSVo6hKfPDYzOBiQ+MblO2oiVA1NanNyHoD9rYPON4749nRc053nzIe7kKkBWVNG7kRFoNWmtiWSpH7MLb3Zxsvb51Hop4bhEqiQcrBBJSGOtZMimteffg9P1z8novb17hQQhKwVtMEJ/3XGIb9EQe7xzx/9hUnpyeMtod4H5kW19zOJvz04TVvP/zAuw8/ULsZQZUkqUcnQYTNfCA2BhMy9reOeX76Nd89/y2Huyf0s1HL1hBFXBUtK1GyzfEsyjUihjZNwqBVQj8fsD3e5nOdUdUapwE5dIJW9HtDdndOePnid+yPT9geHDAeHmBsn4AhKImGuVATfBDlbBxKtyBFKUo/Z1Ld8PH6gpvpdTv2SBS68b51HFqiNtR+ymT+gevJO66vbnn39oKORt6NlcoHgmtQUdTNe0nKsLfFdv+Ib06/56uT3/H06CVGiyNFIynUmR0x7u3S749Iez3yQY+3lxnvPv2AMhKtUxhiDG0ObivoZTL6vTG9fExi+qiYoGIiKSVAYgLjwS7H+2ecHT3h4votrmxQaBJjpc61a1iWc7xrKKqSRbFkMr/laOuUrd4u/XRMmvSwVvKKdZuLu553uhFUqL1xNae0o2eU6HdwjqgDKo0MB0OOj06YlRMKv6CYFQLKEGeu8xBDxMQcozJMFAXvg50jfvPyd+zuHJAlPSkF5duopmldYffGBY3CK5mXU5syHm6h7DmfJ8+ZlzdczT6wKGc45zFJJk4JE6grR10LcI4xCnXZKqLz+MaBSqnCgmlxxaebt2yNRwzyDGMytE5QpG2/MDK/x0hEAK5SktbkQkXtCopmSenmLKopt7PP/PTuB358+4rr20+4UJFmBoxDaXH0RDxGGVKbcTg65unBd7w4+4aj3VP66QijcnS0xGiEHYZHK6hdye38mlc//oGb6SVFMyPqhqxnGY37jPojellPVLyVxSiL0QoVPYQaHx0uBGofaXygcS1QbkrKZklZzwUoNzNmi2uKakZZLyjLJcEHrM4wyqCNQQcweHRs0Ag1/68yDB/t0R7t/3f7OwTK/xHrgEGnprpe8KtNb/+GxdW/m8jr/oD2JYxcvVLd6w5UboL0e9htEwR2n8TNHXUyTQ9Hc7+0/7yBd7NV1gHydVuojU/UnW3W31kD3/XW8pCyLhuyZKLYymbkEVZ09E2QrFnRpzfxbaf+qQ2sQJqKxDYfU6HphHVjezDrSPbds1ZfFmyVF2rz7Dbbo5P11Ny9Bh34dO3xixiZoPR2UdEGy4OKNL5iWl3z7vOPvH73b7z79GeuJh+YLq+I2mG0JrEpSZqhlSUGRdGULG5vubr9yOs3PbaGe/zTb/8Lz598g9k7JbV9EqWBRhZ6URbsqqVcx7hxdTqWQnctItxVKPsyV/bnLK5Awheo7tF+iW201Z0epR5wj0W5J2IE52Kb/ybKs9vDbUz2kmnxCWzBx5vAtPjI0pVyf0RPiBGFJ3iHayrKaknwkaZ2oBQ2TUh7fVxVE6np9/u4ECmKmtmsYJCPGB3t8PKbb/n67HsO8xN88Mz9ksQOkfrMjibWOBdw3pAmGdZYbNKmEbTlZVTs5JqDdDejRT/ACMMk4gChUE6rJReTd/zbn/4brz/9kVlzQ6+XkSYJ2mjqwqPQ5Fmf47MzvnryLd+f/44sG1DFgmkx5+37t7x69WcuLt+zKCYo4/C6woWCqiwZDkb0ewOmn2psyNkbH/D1s+/57sVveXn6LUZl6Jjig5KFserUw+9dKAWhBVRyaTVaJWSpZmd7j5PTYz67LdxyQk3EVRAbQwyaNOmzs3PIi2ffsds7JFF9qhAooydVARBBpKIuKMsltasIsaE/yBn2c7IW6Eyqa65m18yKBTpT4qRTvnVOeKKvKSrHzU3DbPaZq6trmloW/aJcLFF/q9taw8qidUqaWMbDMXtbhxzuPuG3L/+B052vyfUYSXXVaGNXYz94dsbHJIOUw9M9Rj/1mJfXLJsJlStRMa5ySo2R0kSJTTDGgtJ4Ok0I09b6FhdMoiOnh08omyXFf19S1ksaV0PQ2ERJv3WOxtVc3nzk5vaaVz/+iVFvm73tQw73TjjcO27LCg2xiZSJWoNk1Y6brWp8lJJQMQhods5TFBUuOmxiOdjd5+TwkOEoQ+cR04vE9+IMCKohUENwmKGjuI4AACAASURBVKjIshwdDNqnZOmA04Mn/OP3/4xVORGFVSk+QIgeo1bykXe888KWCq3j1ZAnPYzd4zff/SP5KOH//K//B4tFRWgcW+MxygbKZsGydgQCWWqJeEIMNL7GNR7vAokKlMHjljXvPv9APkjojRIGvTG9ZEzPbBFJRBvjjoO0PVdq5u6WyeKa69tPTObXXF594M8//DtNV2tdFzTNkuWkoj/MSVNDr5fhvENFQz8d8uzsK/7pm/+VJ7tfkSdjvDcoI0AXLE1oxAGoFYvlnA8f3/Jf//v/xcert1RuhlcVNoN+P6M/6JNnOWmSkpqU1CQkSYJzBVU1x/uGxnmaJtKEiPMRHyIueFyoqV2JD/JANaAcEPC1OGeidWTJgCRNUSajn/UY9DI6psfPMwIf7dEe7ddiv0Kg/JfA6H37W1fcHUhexS+4G3H8uT3/lcHsITR55+O/EAq6s5B64FjUvW/EzoP8AGSO/5kY5MuTUnc+jT/z+u4rde/dTYtRokJd6aMAqxzku+BKbXyHu5etw9LBE7wnhoDRoLQCIwIsIQSi0iKKo9rf0Gojf5iVdhi0373fFPdx7x1Ph4bYFX/dVE/v+tqmiFf31Cp3xyiiJm1Eu4kNk3LCm4vXvHr/R3788Ec+Xf9EHZboTEpqoBRBBapQSnTKI4u0qNE4XFMT5o4//fhv1K6kqhcS2evt4GKDUgGtoiwytUGJV6GNGG84htadjrtMjE3QrO497tumK+URI/9n2ZfDjLRs8IEYwJpE7isFVVMSdKRnezw/e0E+gP3bHv/2qmb5eQJWaKU+BlRsaZtaYVSUfGGlccHjY8myqPFIbl1Zi+PRWM3W9oDE5NRNxasfXjG7KTgYf2R7tM3OcITpeYIN5BoiSkSOlCUotRaoi7S1fjsgEll5tVCS/q9l5Is0BBo8NZfXH/nx3Q98nl1ShhJSRYMnRo1F47RBYwgmAWuplefj4hI/vWS2WPL+wwc+XX7i+uYKHxqwEpHCKJROMCjqOuLLmoQBT4+/5vuX/8Szkxfsbx9CSLBGIoFKG3AG30g6SHf7q41hQev1iBBiaCGNx6SWrNejLJfMZzOircBbVMxkixhogqehoVaOECum1ZL5omA5K2iamqIqWBZz5osZVV0SVWB/f5fDw332d/e4mX/m9ftXTIsZlXeopqHxAirSzBKjIvia2XxCXS/J0owYa1GdNhFtNlSfPQI+MQzyITvbO5yennKy/4STnaccDg9JSQhNg25z5hWaEKHxgaIuCMbTS3NMvsVWb0ieGxZ1hXNLtA2o4IhBo3QN0RJjzXI5ZVnOcbFpqx90yuIGRYJWke3BPs+OGq5vrjBWcT37yPX8M25ZkQ8SKV2UWmzLvqjjgklVU98umFZXvL95TZpkaGVIrMFo0470DwDlALFTZ48aHyRPGaXIe33Oz844Pjpmazzi9OyApb9huvzMzeQzdVWBihJ5tIZUp8SgSG2Pp6dfcbx/TqZ7cl4YFAZjFTGY9Tx0L52mo17HlWNdY1TCuLfHk6Ovqf/R8eObV3z4+IaiXuDqkqgslhxPjXNeHFcKnGuIRExqSBNLdNDUBR+ufsKFimU1ZdjfYtzfYTw4xDJC0UNhiAR8aGjckqqeU1ZT5sUNs+UN8+UNZTVnUUyZl59ARbyxoBtsgvQzFHUdqOuaXq/P/u4RXz/9DV+f/ANH2+fkyRgdU4JH6lVr6b/WWHwEH2uubz/z7sNbynoB2mEyiDoSTMPCl1TLGaYS4S+rLVaJencIFc6XBO8EGHslLJhObVzJOBS0qO4rHTBt3WwIaJsQXMBVHh8cxkQya9ke7nC8d8Qg7ZO05bEe7dEe7ddtvzKg/LfQUH5uYf7ALrvNV1HbTaRz1xv713f0Cw7ri00fQr+/4NgfAMl/8Vge/O3/GftLHoD4M+/f++4m7fChU27ph12O0xqSP9xGq0h/RHLGogC8LsLURW1pow0xBrxw91agXbX56LqLSLOBabvw8opmvBly/rnraJBbqVuxdEq3XZT5flN1qxtZNEbVkcgFKE/LW3768ANvP77m4+07puUNJoU8yUCZVu03EoIntmUslDYt69vjfWDZeN5+/AEfGrSCcW9IP88R6RgtbYOWxfxquv65a/xXPEFftMmj/X9l93tlDFGAshWVZx8lGhR1xGYJBztHpP1AbxR4c/FnFKYVrIkbt6wIzAWkvrIxbTmX6HGuBitgz/sKlOReJjZFRyirgvcf3nFzPePT+JbD7QMOt3aZjgbs9LYZZ7vk6R6J3ZI8TGgXtREVZBSwWq0dZp2KcgRlDFELnTPgaEJF6eZcfH7Pm/c/Ma/meB1Q1tA4L/VotYjpxKipfWBRllzdXjNbLKmqmul0xqePn5jPZ9RNRZalaAMxBET/IEHrFOU1ie6zv3vOy6e/4R++/md2RwckJqNxHq1TrMpQyuJCxLuItqyGj9X1UrRtHVYgWSJwniSz9Ac9ob97R8C1tZNlD3VTMVtM+HhzQVHU4BMm8ym30wmT2wnLYsGyWFCUC5bLJXVTgYb9+R639Smlecpkds37y/cs6xIXAziPj1Fy1BPbihpC4ypidBCD9BEtasdG6RawiRq3tRmDfMTB3hHHR6ecnZxzuHPM7uCQVI1QQcu1jW3ZnaiEnOJFFRgFFhFrMkS0Cnhf4kJBpjXKeMQVWxGiwceExXJCUczbdgM6+jMGpRIMkX42hK0jnp2/xGaa/lXG4tWcuihRPQ0mrvp8xOGDUNabqmTeTGBqJHe+cSRGY7VqR/fOwSogWbViYwKURbgtdhUItKXXHzCvPhN1SW/wkp3xiMO9PS4+bTGZXuGbgE0sRiXYaAi1IlEZ48Eez85ecrB7DMGgtQjIQVe5QBP9PXd+W75AZrguyza2/0vI7ZDdEZjnll42pJcOePPhNZP5Nc5FTJviEHAtm6ots6Qkb92kWnJ2XcPN/DNlvWRRzejnA4b9bbbHh1g1klx0JCrtQ01VzyjKKcvilqKYUNVzar8gxIYQJNoM0DhNjCLm1zGlFIbcphzsnPLs/Cu+efGPnG59xTjdJ4k90eiIEUWrBeAj2mjQGh8iy2LO7eSGuinBBLRF8tlVwMVKnEQikNBWAVAQAkpJecYQvLAhggElJevknhSXiahfh3YO7hx9msQmon7uSlQ0JCZlkI052D3i9PCcQTYUIT8eU5Ee7dF+7fYrAsp/C0j+j/6Caj2u3U9tALgvMMF/9Hg2qav3Qp9fJL2ywukPH+3dyLMEkuNqd/85tgm+/1JUcCOSGH+mbe4fWGQD3LNaNK70y+ggWmz939IYsVtQ3b8mSq5diBEfpGCSUhFjFFoHtO6EstpSOVHCOgYtQlnI4p8YWsqcFfVstYmDO3DcfaDXB36/yQABvB1IbuXWVjKpnfxaB5bXIQCtLAHTgvmuMRQ+OObLKW8vfuLy9oLKz8mHlqig9mEV7RbxbYUyIsJkrZWohzf4JuIrx2Rxhdaaft7n/PSMre0tUt0nKt/WFJfFlFJ6Iy2565D3+0F34zxkXX/4Mo1h5ZbqmuTR/kP2UNOtMFfXyKu1/8YNFhUqqBaQBhISeqbHoCdCb4ZEHE2q7VtRS/3YJtA4EZMy2qCtJjGpCM9p2d6YiA8B7xqWlUNRYemRWEVZLrisPnB1ccGftWarn3GwfcDR3jnHh9+wv/OUnWEPTUL0GuckephoSK1dn4N3EDrRPnFgCVCuKZv5St34w6d3kAeS1BKjp6wqlI9onUBUNN5TljNieM/11Q11XdPUFd57sizFpoCGxi2hAastPigiFp0kbA/3Od4+45vj3/Hi+Bv2t05IdQ+ClJPRMUHRRlo79kh7uyu1vr20kvQKjycoRyTQ5Srmecr29pj9/V0WfptlM2kjhxoVYVnN+fDxjeyHhKb2LItC1PKB6XxC3ZSSmxxbZ4eLfLwuqWJB0jOUdcGiXApIVnL/S336gF+BopQs67f11oVeHZyiqRxequpio2WYj9ndOuDJ6XOePfmKs+Nz+skQFQ1NHbEWrNYkSUpowDcSZY2AVoZxf0SjFpTxlsnyhpv5NUW5oG4KQqhQ2mKMiJ2FUBGcIgTNYjGjLIu277eK4pH2WGVG8aFBGcOTk6eMtwfsH+yxXC75cPkWYyOVW1JWBXWoxeFqwKYJ0QSCanC+wsfuGgn7R8cNZlUE3TIfCEoi2kGqDygsRqegEsrK8+ZtQd5PGG0PONo+ZCsbsTPe5oMR4at+OiD6SFM45tMFJ4dbnB485dnxS7ZHe9TO07dW6it3Oe9h7d5cDRDtGKt4IPcfRYwNmoRxb58XZxk7o12GvTE/vPkDP757hUosSWpJeoZlMaV2NdpajDEYrXHeSe6ygbpxLOo5YeLhWmFUSpb+hNEDFDm0ZZZCrMXx4Zd4XxCpUcqhjUdrMFqT5RbnHHVdA5JmEB0oZRmPdnhy8oyvvvqO89PnbPf3GZgdLDlEi4oaq0B3Il4uCFvAKrTRMidqaJqa2tdo60CHtqy5DJrSRu36IEZCbESgMJG+L7R6I7oirYp9iMIGiV5KT8YQqIOD4NER+mmCDgkmKPJ8zPbwgIPdM54cv+Ds8Dn9ZAtNypfz7KM92qP92uxXBJQ7+2vh3b9xYHlg8w6YfPHRz4Khh+3hzVu6ILACDvcBI18ufAWbrOKl3JUZ28gjvQO2f3b5/PMf39/0zon+DFCO66Nag8gH9nUnYsoabG7up92um7y16khiGrVa5jxw7EoiyIFAUJ4QGjwOpbpcLE8MUpfSO3k471A2xaQ52mYYlWFVsgK/oQOtXX9QGz8GyAIsbLy1gag3rkOIRhaccQ32N/OW1yJyXa51q4wdxTMdN/enwAfHYjnHuRJtIkmWEJTChW6CjsQopaS0UnglETAXInhHcBIVwigaX3E7u+by+pLxYIfD7V7nRqBbJKzo/92x3Wn8jdcPIt0ODWxe4LvXbRMsP9rfbg/e5T9zbystpcliG63TSpHZDKcla9HHiG8CTeGJTqFCgo4K5x3eBVTQqCCsA2U0Go1tOcTBe5q6RidS3iVGJ9wMjdzH0UiJIldRx4COArQdkbJwLJYTbmYTPk/mHO7ecLR3y974hGFvm8RkKC35qF5oEpIe0DlolCEi/T6oQO0rJotrfnr/A5fXFyzKKdE0+OhFiVtJBE4rgzEintX4gKtLClcTgiNGj1YRV5VCV1WazArYDU6TqJw8G7K/f8z54VOeHLzgydZztrJdYp3glMJoS2ZziYB5TfQyBhirQKuV3ykGL8fuZfzy2hHafMbYUq9RTUtvFoeACw3eeVQMWA3ON4TScXkN3geqqsY5J/pmFpbVQgTXEgFVVllC0NT1gulUsVzMCQqMSaBzkmmDISXiqCqPNQqjE7IsAR+ILhIcqJCQ6Yzcjhjlu+yOjzjeP+N474yDnWO2RjsMklHreNGyHwTIKKR/xK5v6g1/XIyE6HG+oa5Llos54AUgh2bdp4OXNgySXgMy9un2b+MOAAzeKYJTDNItMpPST/osXs7Jsx4Xl29lajIarROCCiIYhyiwuyh0W60VWZKuf1sFOq1ycejSjtviUFBa3tQoiUhGhXeBpmloqhLvGlSELMnZHu2yPdyjKQKhjlhStO5B1uNk7xnPz75he3BAbkfEoNpSgBJR9j5CCBgt/9+cd9dj7Jp83a0hEnKMtqACaZaRbWeYF5bRcMzuzj4Xn99xM7tkcTMjKo3VOfi2RBKKqpHrYZQhTTVaG2yS4mpH7WqaYoLWJUqlbduIgCXKoYzHWLda18S2lFnwnuil1GGeZARnUCbFJj0O9k45PXrGs/OvOdg7YTzYJdN9EjVExQxCGztvo7vrqhZyvhrN1niLk6MTLm/f4RcVjoBrapzyOAJKS7mvTQe0VpbgoQ7Sjl1qlWgoSP6HllprwrQASQsJXqT5PSQqI0tztns5x/vnnBw84eTgKUd7Z4zyA6JPhEVh22v4aI/2aL9a+xUB5bjxgL8c2fzP+8UvFu9x48XPIulNga6NfcG9aGsXYeyikl+CiG7LrvB8B5UjtP7gNdhe6V63/3ypyty1z4PegTu/u9r+TgN8+d2uju4KoN9ZoMd7L9WXj5/ze8R2cd3+R7cgWd/feAM3y3LSEWgI2hFp8LHB+5q6WVJVS8piQV0W1FVF4xpM2iPtD+kPthjkY4bJGKtTUXYF8bq3dYXv9IfVtWppqauIqr5zUMK868S5NqJ80misiokoz7oBhQoqk7yRUhqKNmom7eCaGogkVosKp7ZEbQmuBQs4lJbc0qAkwh5DBCfUW6U0WZoTdGC6mPDx8iPbw30Otk5WDge1Ohe1Et1SSm/0D7iTW73uFA9eozuN8jj3/0/aX27An/tUa6GAxo6urJXQonWkUQ4XNN5FqSfcKMk3bfPcvXfoaElUSmqylqQvUboQHM7XxLrdb+x+r2V0GNlP8ArnGoKTRbJNElCRZTmncgWzYs7V7YzLqxsur694fv4tp/vn7I33hTLZsio0mqjaOula9AVClFI7QQWqpuR2ds1P715xO73EhYronOQW60iiJadTB4lqKqMwSZRtvMcmWrQMiJTLghDB2owsSVEqxQdLr7fD3s4pz55+y9OTrzjbfcK22UHXmqZyoDQ6MRibi/pxkMW/1hLNkgsljRVjg4+u1WVw+OAIuqYJDY2rqJqCxi+YLK8oq6WIKHmH86AIKKWE0k3NvAw0jUTElUIU7V3AUaOMxiQZWqUoMqzJKZ0juBqFIrMp/d4QoxPk7DXGJISgqCtHtAplLWmatWW7pE/k6YBhvsM43+Ng+5Tzo694cvKcw50TemZIDB2AU2htSWzCWrI7tLoQph2bZEp0Qcb0GCOucVRVRVkUmBSUMXhXgVYtUOvGVmE4GGXX9Nd2npFRuh2jg0Z5Q0JKlmTkNufbZ78lSVJ846l8QekKlvWCypc0QRTgfWgIQfapjSFNEnxTbwx5MhPd0eUQn4jMaWHtFvXeE3xEa0OiE1KbibhW2md/fMTZwRzVJFxf35CZHlneJ93q8eL8W54cv6SfbpGoHIxCr1hLunUWxLakIavhWUErWknbEopNGrbkxGZAEGG0LKF3PGBna4/jg1N+/6d/4c8/apazEptajIr4WLd5u5qyceJQSlNMokVgzSYQNDE6vHNSZVA3K9V6rQLaiNJ553CLIeIajffCeGhiJE9T8myEMjm9bMx4sM9Xz77nydlLTg6ekugemhQTLTZKeTk57ZYRBeKoVhsLBmB7vMPTs2dcTz9ibxSz6pp5GST3Osq4QOvgEKeuzIrOBRonYmiibWKgLdOmlAjLWZ2IEKHWbZ8Up6JVFoOlnw3YHu5ydvyMs6OnHO2ekdsBKiRUlSd0JSQfJ8tHe7Rftf0KgPImsPx//7eiakFf906Hf744JvlwHentHmpji2471c7VXQmdjYjPQ6Hj1dwug3Mgrv66jWRKWatdd4uBL7Dqar8bIPd+JPc+Wo2r3W28fihXZh0CXrfb5hGoewejNp7VepOumbj7VUmPVRvf2DiCzcNVEJWAwzoUoDxaByINpZsxW15z8ek9nz594POnC5aLOVVVEkNEJRn5YMTR0TnnJ884O37Kdm+X3A4wSqOC0KI7sHzXNifd9pw2OksXiA0KXOcTaPvTKlu5xYzrKt2yYYgiMCa/3UaJdcQoQ6JTEpOSaIsLmnK5JJoEbI+mcaJOrCKJsdjESL6ocwTnZaGCwaqERCXEJjAr5lx8/sju1hFfP5X8Kx0DduWY0KtaoPeuLqsI852F4n3gzN0u9gtqjD/aL7Ff2H6dYyYii8UgtNo77IwouaWZzslMj1SLYjpBt/TBth636cnnpgeNIjQiEAYWExNylRK95AgbbYXZENa+QBXAIDmCGiVRJRVJM8lzBce8uGZZVHy+vmK5nFIsb/DnX7E72mKY9UFbIlbE5qReEVFrGhfxKhB1oGwKJrMbLj69oWrmZJmiUR2AURiTElykXlRgA4kxpNpQNhXB16Q6BS8pCIMsEaDnoFlU9NIe+9snPHv6PecnX3O495xBvkWmBoRGFsnD/gCiOMiaymGtgAmjdXs/C0AQkBwI2gEO3eVYx4oqLLiZXnF5fcGHDxLNmxSXfF6+o3YNxiRtm+n2FmxEOEoZTOJRJpAkIpoUvCNJ29xYIsViQfQ1g17CIOuzNT7g7OAJJk3I0pzLq3fMCwFzJjEYI1HoGCJNDXhhF1g1YHfngMOdE472nnCwfcLB+JS94Qm9dEiie4QgTonU6BYhRkIZUYlGVLS9qJVDq5rdPrTkFBMM83nBfLbENYG8nxMNlMtCjsskWJ2BzrGqR56OSG0fopHyWrTuvM6fqSFPe6TWSL1e53Axsjs8pP9iwPnxE25mV3y6vuDH96/5dPWR2+UNUUsdcmNyXPDEJlC6iG5HSqLUBe5E5tYgtVXejhqiRZFidEZdNwRv2NreZX/rhIOtE1Kbk1pD72CbrXyf490PvPrTDygM4+E2z5+84Gj/hJ3xrpTUwmAw0KZPoBTGWommrugK6ylqlUIU105ukLzfzvmrlMGsRhjNVqbp7w7Iv8852D3k1U9HfPj0lunylkGm6Y962MyS6Gsa16CVRJfrOlDFtiwiBmMtWguNXfbdTfxO6m170RtQiDK8VZk4mkjRMYGmx+nxC56efc3zp98y6u3Rz7ZIGJDEDI3UZw5RE1TrWu8wcpDIsEnEaxGjJ/hAL+1zenhO0tNcXL/l/eVPvL/8iZvZZ2Gh0Ej5qcbTRd+11qjQue5FwX710AlaJ+J8SXPyrEeWpGRpSj/vsb21w/7OHonJ6Ns+o3SLNO2TpQMyM4BgicGQpa02xB02xKM92qP9Gu1XAJR/if3lBWO8g8Dab2wCrbgRp41S51CpLtJ3L/oVO2rVRhTxi6hoV0tYjm2db7v6eB2J3QSvXYCZNQCXP6F7RYJQcYPkmFllxDupOnrOffDL+v07DoANANt52ltva5crKnVWpVYibc1FH7w4DnQHoBQx+DZXbV1rd7Wv7jDUxtmvfAzSdu06V/KKfRuHV2C6iEu3uAcRELnXmF30U/5t8KomqBrnSybzKz5cvuXdx9dMptdMJzdMpjeUxRLXNBKxNglJ0WfZzFlWM5blTCILY5nNtUpa0reWXMjYnmuQBa7SogC8Pr24am8fI7VvcAqCaaNfK4Ex0AQ0fvWs8NKuyhBiG0ZWpr0WAqatsox7I56fPuenixmfp1O0ElGWoBoUbpWX7YMDr0itxYcK5x2JSdBKC201+JVa7mQ+4XY+oY4e2+ZVBzQ+6lVfVoiwUmijPma16FKENmQuFFVa6lynirwBr+/dJ5s9dW2PAPqv2884bX7O1j4tue/aMSCu+qIitmI0BE1Team8pITOb5SwG3Q09LMR+1tH7I+OSHRGXXsZN4PHR0ftC2pf0ISSypXUrqB2tVCDvSN4IRPH0I4zMWASud+9byibGqM8Wkc+Xf+AdzNubt/xzbOvOT86Z9zbQpERSTAqFeSjRBwpRo8Ljqvbay6vP1LUMzwlWnuMEl1aAgTfQGi1gr3CRE2SJASs5GoHg0KU33UQumVuM8Zb++zvPuHs5FtODl6yt/2Efr6HJkMHu4oYWS0RLRVa3YNuHmmBcWyFuiAQlcerUvJiiyXzxQ2T+TXXiytupp+5nlxyc3PFopqy9DOKcAOJw2YJVSWCRxK1Fw9ciEIbR/l2HJHf65SYNYrMZGjTo58M2N0+4fTwOU92n9JET7MsSbVFxYD3NdGkaK0wxhJ8xNqU3a199saH7I4OGA922RkcsDM6YKu/xyjfZZBsY0jQ0bSgoqVAR1bnTxBxKLTUeu/GfikVpUDrllad4JwIJhnbI/iaSILVQ4y2GDKiy1A+x5oh+zvn7IyPkOhoK1jVzmHdXaK1ERG2IOO3jgZjoJ8OGQ922BkcsDs4YntwxNXhJbeLG8qmoHQVZVOyLAuquqRu6tbpLQ4OKVsm11UjjlCturO37SNBq5T+OKWfjzk5Oud0/yWD9FDq9GJRmSazO/TNAWN7DDHSy3scHBwxyAcSfUa3jI5u/m/lxLoQ9sbAuqayb77XxZTbOGmErmpGl/ZklCXqlCzN0duGPOkz7u1wfviMWTEREck8wyaG28UNk9mEyfSWq5tblsslzjlhfGiFjq0uiJeUqFXer4PgFcEbcQTblDzpkyW5jDXbR+TJkCwZcrz/lKP9Jxzun2FVLtc4Wky0bRvHtejWfcY9HfW8ZeQpg9YZ1mpMckYv7zEebnO4d8xkccOymtG4EtfUeFcLpT92UWSL0qKkrXWCNSnWJhiTYnVKauWR2JTEWqy1ZEnGaDBiPNrC6oRUZ2S6R5e3rrF0wnMiCPY4Dz7ao/092N8BUP75yFTcAGWxzSUVYLbOs4wtsBNw10YAo9BOhdKnV6h65YBtJ3vUWhmZyMp73R3PJsnpznEh4g4dZWy1gA20hYK73LuukrDHxQqPxyiDDw7vPanJUFoWsTHGNlCnuJuguBGHVWod5lw92skqClULpVb5QT56rJI8skig8QLWNQajBU754EUQayNHMAapa7kut6XW59h5uGNsKU13wblvQbY2SsRRYuu56Gb5bjXVhmRjjPjoRIFSN0TVUPo5k/KK1xd/4g9/+lf+/U//irERraWRnaqJNpAYK4vJ4Ph4UzBfTplObznY3WM8GpIosG1uIjG0oh2imhlDIDiJtgjmUHQMg6gjMUITAkVT4Q2gdQvoW6QZAyp6dHQtQBbAbBDaYMRitEzmMUgeswmiqLnd3+a3X/+Our5iOrlAK0+Dp4kO3QIMYzVFtcSFSJL2adySpqlJkqGA+CCOD2ICOmFZLZkVcwpfkRlIlCVEvbpem6WhXWh7uBXQT0BolS1IVkYTYsB7cex8mdvN6v5b3xHr3voIlP8WUz/z/MBmXSpFXINkaG8npQCDw+B9ZFlUBC8qxgEBjStmzAAAIABJREFUNAoDDfTTAWeHT/nn7/43toZ7FJU4ZLz3NK5hWYrDaVlPmS0mzJc3zIsZRbWgqouWFtyIYJarWtVjuT+8d/joSBJL1g8syk/Mphe8+gFCmJIkNenBc7AjLH2USjBtyoM2CSpIOaPLq098/HxB0DXQgKoxeKFAA3UtwkVZ0gOvMMGQxATICUqTBHEMqJjgnCPPemyP9vnq2W959uQ7zs++I1d7WMYEMoKXqGJmRfOZNopvDG0ONMQu31i16SEIoA2hofBzbudXfL79yPuLH/nw6S2fLj+wKKdUbimCasbjjaN0BVYbMpPjXInznlwbtDWoyCq/WqJmYFS78A5Kztn22RqNydMtcj3i2enXvHjyPWfjc6bFjIn5TIpGxUD0NcELtVdrGQ/ytM/pyVO+f/EPfHX2HYZcRNroYciw5EQSIJGIZwfa2ppXogDcUQwUyhih3LRlsoIH5yMmUQIgVCoPnZMkQ+pmQnCGLN8RaOQNvkkwoU+abHN68JKD3ScYciIar+KK+qzaeVVuCY3VKZYEhafLBbfkZL0hO70jzg+/ovAFi3rG7fyWm+ktN7c33E5vmS1mLIsS50X9OcYgUWWpx4cmYlTEaOlLRlmhhGMhWKnJvH/C6fE5uzuH5OxgEdW4iNCRhzuHnO18TUTm3s4JvwbJrXZHFxHeVMK87ytXG0EDJUDZsOlkV10mgByDMkRt2/5qGFhDvtXnYOsQ/8LhqaljLUehFIs448PlB17/+Bod3nEbb6mquuWdB0Ks8LGQdmrJBSJCmmC09NEs6dHLhoz6Y3rZiN2tQ7558T27WwcMsi16yZhE99FkiIK4ROlXZ7EaBiOoVc7SHcq1LCGUKE+3SUY9MyQdZeyODmjOXlIHcfBVVUFdlbimWuVLR8CYDJtkaJNgbUKS5CSJAGOrU0x7bdZrQegy5td6K2bjWdZL3TmEIJUDHrHyoz3ar9/+DoDyw7YWblhHuuS5oz/Lo/MwriZPJTSk2IqIhOBRuqXBtMBSQLX+i4OYzMvtb34Rce4OcuPNNlKt2i+oVjk24GioKfySJjakSYoxGqsNtj2GEKVMhYoaa+xqLfzlET1wEG2kw6DwIRBdkFIP2kCILKsFgYi2GmukHeS4GmJURBVovG+jleaucyG2v9tei+hjG/xRbRRSahgbI159mxg0kRADdVOSGINt6wITIfqwqukruFSEb9ABrxo8DeD4ePmWP7z5V95+/JHPNxeo1LVqpXLtbaIhKFzTgPIoHDHUlF6zqHrczD+zW+yx3U+IWNblneQ6eSc5dSazECPOe5q6IckSlFY03tF4L5GpRKN0Q82SIixZFHNm0znFckG1XFIXC4KvUdFjFWSplFPZ2z1ia3TAcLCLTTK8g8V8Qd4zDLIhz45e4OopiQn88cf/wSLMMQmUoSREh4qBRIsYSGoTfJrQqec6V+HqAhUsOmZCj1QNRT3n4+d3hG3YyiO5Gbf3im+FzdZOFxcCdeWEVKjavtGWSOkWIja5T1dv+8Sdesyw9qDAWizscYXw16290R90RHRvbSDiv7DZg/tFFrgxupa6KBxqgaWGhIxcDzGJQicSDfHes9VrcKGWmqu+xPmSxpeUbknRLJhOb5lMbri9uWG2mDBd3jIpbsBAYlNMPyF4z2T6mUQbUpMy6OW8fvtvlMUE99uK8/2v2e7nTJcTEhPI84SgpCyaC57ZfMZsMcFTE5WDKNG+GIQlcrgj9Y3LZSNlZqJB1QlUEZxGB0uaGnp5xt7pHkeHp5wenbM3PmU02CdXY5RPCVGjVEKiBCwI3bpFhW05njUO6YS5GgE+qmFWTriZXfLh4xvefXzD+09vWBYTKrck0KCyhiSJOF/jY4MLjjzP0KnBecjSHklH8Wh9cIKnNFpbelnO1miLnfE2iU7pZ23EdHTAqLdLyohBvkW/t02qc8Y5nOweM0h7JChqI6JpxNjW6RKqfVM7qqah9DWpFmeFRpS9IwpPIIZW9Kot/aTREmE17f2uV15TXJTRSUWDix4XpXBRxKMVpL0cnViWywqdaFSSEpyiqh2xjqRqwM7WIU+Ov+Hk4Jzt4R6pygFxUIgPeZ05vHZltwi6rcsdY6tirCIKi1UJPZVi0z698Ta7/Yp6r6Z2NbV3OB+EZRNbXZLo5dGqlZsWpAusFZpul/efpwN66YB+PiRNelI+DN2lbRPjelRURqNVd3HXULkDXZtz7YP3+T1feQeKVwSttsuqjeoGQgQyrKLObekvjxHHbkwIwa5YYblSHG5Zei+3eXLyLWVZUlUVs8WC+XzKbH5N42dECrSFxFgBliYlTXpktke/N2bYGzMebNO3I3I7JM1y8nRAbgekqi9UbAxx5RhY32KxnV+i6rQzIqy0TtZtIB2j0/wwoh6vRG09wWJURmr79JUjpqIdoO84EXSbGtUK3hnJU9bKsAbCd9dcAoi7eVTf2U7du3abjunHqfDRHu3XbX+3QFmsA7/daBPad8MqkiqDaktwDl78tdrQRbkiGzq/3Zwq5Jg7v/HlaNZNwRve3S7yuHLvbg6kMlPF1agvyq2zcsLl5JJpMaXxNXkvp58NGOZDtvvbaNtvKW3tYqaNKD9I24kPvNVNmprWCRCEeq6RvDEdhMqnINIqSHYTROvJDiG0kVbVgvcuZ649O8V6Uu6wkqKlh3UlmdrroBBqOY6Oaa269uoozu2MGFchConSVG7J9fyCNxev+eHNH/l4/Z7KL1CJJ+qwiliZ1nPrtW+p9Y4QFJVXzKuM6+knDuaHbPd3YRVp6K5L63VXAu47CmE3OQcQ1VpqmijlIKbFFdfLCybVDTfTG26ubimXFXVZ4uqS6B0qegyRLMkZ9EbsXh+xv3vC4e4Z+9tnZLa/AiqJtoz72zw//pqkrc34/vYtt9U13ntcRGqaRhErik1ARSm1oTUCenRAqSARaOXwvuB28Yk/vP4Xrrc+szs6Zrt3yCAf00sHJGkP0+atBt1SvX1oF1SRoNeMDFEbVWv6/WZnu8N2iBvPXd7yJmh+XCH8cvuFbdU1cfcMa0fWg7sQxXjaRbqSYmpt1qUhVRnG2JYGaYlGqPyRQDStoq1yxLauceUL5ltTZjsTpru3zIoJ19NPvLl8zaKcUruSqKOIKdUFtpeCEVfNzXRCXS/J8wy8RR3lGPqo6KhchbKKoMQhtijmzBYTHP8Pe2/+HEmO5Xd+HgB3j5v3kWfd3dUz0mi00sp2Zbb/vsxW0o6st0fdVV1XnmTyDDJuPwDsD4B7eJDM7OresbEqUyItkmSEhwMOhz+87zu+Lwflwrq3ghZDNxvy1bPfInQ4OxsHZuEyfOa0Q4tiNOizNRqwtTVif3efg71D9nYPSHUfJR28TcB3wIf827DigwwI5dXqOWvvMSF327qC0uVULuf0+jUv3vwQPMiXJ1yOz3BSorTFZCrIpkhMKDiMCF4UtgrllAJZUCzvZV1gCMaglaGbdTk+fMTh3hF72/t0kh6DbMRWd5et/g69dERCNwI3jViD0cJeb4fdwRbDXo9yMUGcQ5TF6ATrwduK25sx796dYFRKv7PDdu+A3V4aPKgSCsvp6KH1dWJsvRWKb+aqXn9Oh/rC7fmz4vGSY1mhU49JNTrRiDEx/9YjzmB0xt7okGePPuXzp1+xt3VAN+nGbOx6X4WNdKgGJEsLkfrI6h6N4OJj+HSGEUeWOgZpZAyRtaSqUC1KQwc+sJWr+KpTG9bANoSaKzGoOPehxq9aj8rXUxN+URHUta/lHhi7u7/fV0nuvbFBOtYWw7DOcxZCrnjdp4S8d0WCSNqAUk0Hkw4YpHvYLU9lK8qyZLaYM5tPmM1vsXaOJ1RrMLG+ujEZqemQJb0AiLMBvWxAproYUsrKoiUhUWlgTY9El429VYhpWTFVrWbDp/7MBRKzxqi4nrNgx9Ix7FlHp0E4R6iBbBHfUMCFChjR4OKQJoqwTtWLq6g13aq1m63JMR+8f7Tsng/oah/bx/ax/TLbrxgo1x7jKJgaBd2FvC3qcOwInsWT2xUeSFTWeEWdr/ObpAnbC2HD3PPkSGMBjsDuQeW1fv9uXE0Yb5235nAsyilvL17z+29+z83kiqIq6PV67O3uc3z4iC+efRFIaDCBndGrkDjakrQNDK8VgXsJ0+vulQhoKF2BEMIGs06CBkqfk9sF2MCMGvIDk0D4E0Gok5jXLC3PRmsqgqc+4nkFWglaKUoXPFCVLWMpGQk5izVTs5iY56TjNPlAMKQD2BMJCtl8NeG7V9/w09vvOL8+ZTy7BGPpZikinqoqWOarUDoDTZqlhFN6nPUUDuarCZfjM453H+MPP22B5KieKIlhqhJD5cNYVZpQybp2sxiPrXIm+RU/vftnfjz9A1eTc66vrxlfTUIYntIYrUhUyK3yVYkWE9bfy5S9rcc8f/wl//B3/4lHB88ZDvuh9qRziDccjJ6w099iZ3uf33////D7P/83SsqQd2eJpVtKcrfCUgUlQAk6NYFcSEKEgDhHsZhzMX7J7eSSYW+X3eEhR7tPONp/xMHeMXs7x3TSLVQMd1U6jL3e6kMuJCGHu7aSu2jbaJSTh3Z/33p9BMZ/W/u5ILn2Lm/OdXNXakWTOh0lGKGUsaBCORuxBiGQvUWKIhQJRjpoUpAQbWBjDq4oh2iL4MiUpa8cuzsOt1NRUVKxYjw755uXf+CHl9/y9t1LHDasYyBJNaiKyWKC8gq3rPjDt/+E84YkG/DJ4e/QSrEo56QqwyuHGGGRB+XcpTlJ5jBK4a2QmcAo/I+/+U8YM+C77itmNwXFIoCuVGcM+kMeHT3i8fERB/t7mGha86gQKVKFuqlGdyKhUmB0ts6jUguqDBE3DUirE2hKSh9zkcvw+v7tt/zhf/4T83xKXs2p1AqVBEKy0ldYW+AIOchp1kHrlNvpklVusV7RzRRpkpAkCdbmYD1J0iVLe+yM9vjdl/+e4/0nDDrbdJM+PT2kLwM0ScNaLgS5WtkKtDBIehzt7nMx22aeX1CWIXKk1+tRKkdZlLw7fcNiuuDy/JL9nUc8ffw56fMOqYovydAqDTmcQL2nuRjVIr6RrMHYpkNIcvC6hSifEE21IpcJXq/IusLW9oBVOaeyOThPJ+0y7O7y+fOv+OLZ13zy6AtG6TCmDFSsTXV1vFZt0qDZ09uoVzxozIZICnc+AvsYISDU3B1QIQRoDGARqaFzXQN7/bTVnmAloeaxJ5SIciExG61UyDdv9Iu2ZbllaG9d2V27Yjul4oPiYOMAuS+Km5dq9vHGAyseLSmp1He2zsUP53La47THp57dvscfWKACSoQSqKs81LWlI1ht8rjXazOJkUkKacBxCNZYg+Emrt/ZcAlt4Co1Z4zc4WlZz6Op18Qda6F414DwxqMsMS5a1RUvWMvM+HsTwdistbVGtnaybNzFdcS88JHv8mP72H5F7RcAlNcb3d/WWuHVjRK49kSuuwgspEHgl9T5I2EztBET6YhvJZJxRftvy0u2sXnJ+0avooytN6f4qQoh15aKwq64ujnj5PwlJ2c/cTu/pbAl6TRlurxllS8YdvpkBxmdfieQSwC+sohp0AlNDd7N0d0brK9D0r2LZFgFVVlQuoLb+Zjz63fcTMY4Z+l3B+xtHbAzOmDU3ybRKcaYAFgleOVddMGrepNl7fR2UVEKxDYWS46XCm1cjASPm48yeG/AVi3ALdFi7IIHVyyWktwuuZld8d2P33I5OUMZR6+fYilCTeXIqNlJs5hfrUI+tUSaVe0jEVDOZHbDdDENY5V1iZK6/zqP23sX3wvncRSxPJXldnHD2fiUn978iZPxn7mc/cSqmpPbHJ1VJEZCbqWvsDFctHIrEp3gyMEnXE4sq3KBx7P6dMHXn//bkL/sDVXlsKJQ0uVw+JR/+6Wws7vH24uXXN6cczu7YTK/YVXM8VWF0iFE3ZWe0oYa0iFcOpa2MBoRR+ksi8JibxdM5xecXnzPaLDNwd5TRoND+r19jg+eMepto0gpbIUHUpURSmopbGVjKQxzZ8kJTc46vvlsbX9ve5M/tp/VauKaqHQ/fAxrGVP/HV/17fCEtR5E0jqaxhP05MAnQDQ4RvnpXXgOrG+UV1zMtPM1y68HayLICIR1wVOXkNBBkTHK4LPHXzMabPH4+Cnf//Bnrt15GKIPILs36FGuClxVYDG8PXuBUV06nRF7W89I0xGiHIUrWJXzUNNWB4Ix7z2iNEaHfFdnDcp32Orv8enzDHncQbkOmi4KQ2oy+t0e3U4nEEm5CE8kGMmUCUZJERNlAYgG0Q4nOY6cEF7tsFgsFct8zmw5ZTy54mp8zvXNJbezay6vz7ianSPaQWIxmQTI4UMOMzoo3aHkVY6qYHf7kCTpoyRlNp9SVWUgJvIWZy1iNFXuWc0ttkpI1RZb6TGJ6pFEAiRbgXVhlzMqEEIaZZp88SdHT5mVF8wWY66urymWJYUqCaVwhMIWTCZj8lXJdDLl4vKC77//M91sQL8zZNgbMegO6Xd6dLKULElIE0NqVDCwxagt6zyVdXgH1jmqyjJbhrmaL6fM81tmq1subt9xM7uk8qvAvVCWpDrFGE0363F88Jij7SO20hGJ0qhYU09q3g02fXdNuOvd9oAIagK0vW48lY3ZXcK9N0oiUFYISYTOdS9to3V4yAKhWfQrigpEbDqCwbbSEA3ctavxZ3E4vM8+37qeB4+pQ+faQLk1Lxse0TgkX/O54EOIfmMUdc0eGW6BQUmG8wWOUNowRBwFgCwEEjOavF1pyOfaoclBhwj7sSLoS+GiYoSZcrWi0Bp6e9baN3cNZlX0/K5T9uKUOE2IXIge69rTryTIxCCkqPVMYQ3Sw1Q0wf2sNZv1ffQb767HF9SMj0j5Y/vYfg3tFwCUYRNutk2df6m1lHIiuGqBZInKuifkI3sV8korV6Ia4g0dgR0QiZ0EgqfTE6yKDzrDZOP9Oghsbe2t84rWgl7iT09F5VZc355zfnXCzeySWT6nciUra6hcgYjn6dET9kZ72N5OyOX163Gtw8reA5I3ptbjfBX6lhAuuapmTBZjbmZXvLs44e27V9xMx1hr6Xf7HO8/5dH+M44PnrAz2mfYHeGpmgwqj9DUZmjdvjDXrsl9DSQlJV6V1KGK9T9FFmZOfGTHVegkCYaKVg535UtmywlXNxdcXL1jXtyiOjbmIitKW2ErS5Zm7G7v0ev0cdZzdXVJ4ZY4sYgOG7CLitpiuajhQMMlFsKtaXneglmFGFLpKFhWc6aLCW/P3/Dq5Ed+fPNHbpevWfoLnBRYR2B5NSaSdrhADEaJ0wVOO5zxQMm8LJiP5yhRdJIOT46fMsi2SVSGkyQo617TTzKe7nXZ2t5nZ3jExfU7rm8vubw9Zzy7ZL66pfQrKh/qsXpnwSu8Dkq59RalTLh/zpO7irKYM10IV7eK9KrD1fSU0eCIYf+Y3M452DlmkA6jZzkliWHxHhW9RgYvMX/u3nPhozKzaWD66FP+W9oHZGGLi8FHtvW162zza2unWtsP6mOgZ+1/owUU7kCGOrfRBwOglvCNRrEUBzEgF7+G9IKhZxRHW4qtwTZ7owN8oUlNh8vxCatqgnN54DHQQYp6sYwnFzhr2No+wEvCo/0eHqFyOctihpfAtVDaOEovWBeeF2s1lYM07XG0OyLRI7T0UL6D+ODJMgFhNVwVYWXH0jBx2l0jv4icEiWFn1FWc4pqwapYsSqWLMsF08WE2+mY69s2UL6hrJY4qUgTjTYSjFmR0MxTobRCKYVznrIKOa9720fs7zym2xny+u1LrsaXFEUemJslqP1V6VjOc26uZ6y2HOlWID9TPsW6wD8RUoQF0JFzQ/BoNAmH24+Y52Oubq4oF55xfkO5sIFgSykSrXHOssqnlGXO+OYKwdDJ+vS7Q4b9EYNen163RzfL6KShRE6WaNIksABD4MUoygprQ1pMURXM5lOm8wmzxYTZasI8r/PNS5KuoaoKrPWoJBBNKkwA5p0BmU5DmHKzNOuiPg3Euw+S26LoAUG0BribBzfaSHxElLSP3tRT1qOot31P7WsMa6oGwi2ktvFTEWqsvQfkvu9a3nfM+95/H0VEc22tEOaWUSF43GmFNwcpIr5JekbX0UZi4nyoxmssPgBm3zpn4z9QLdDbNh60PPzUwe/3xKE0dyCeYf1D2vdH1vN2x6ZY56/X/DThPtC6zni337tmNsfSpJPFzqQ9kY0+GGa1fbaP7WP72H6Z7RcClOvWBn1/WXg459F1QcBmA3KIWgcweQJrcuULSgpKX1JUJYnOSFRGKp3GMlpnoilUE769pl9+z1Drvu/91gwAXwvLxqtrsW7F7fSS29klXpckncBAKwKWnEUxYVHMyMsllS/RkgQw7kG84n4+6P0W0m1CbnZp8+DVUA7RjryccX79hm9++ANvTl9yNT7DadtYga/Hl1xdXTKbT/jik9/Q73aoySo8CqdU2DRVqy9FzIFe53CJhFA1KKjI8TEnGB+8N0ZCPlq+Kijyip4eYEyoHxpIX0pKn3M1Puf84gSocL6izIuQm+w8VKC8Znuwy28//zv2d49ZLVf8t//+f1OuijA2E0Cd90JeFKyKIgCFCJJ9HaYlgncR6BuofI5zJWiPZcVkfsmfX37Dtz/8iTfvXrCsxlh1C2aBp8Q6wdqEEo3TkRVah/xu0QpjBKM9JJ4qr6iWjsvJCa/Pd3h9/gnPD75kZ3BIlnawpcVWFb70JCZhNxnSP97j08MVlct5d/OWt5evePn2B64mZ9wsLikLT6YTdEYgQfMhesC6MgB2b9HaonSCF8uqqFjmUN0uuJlfkZpTLienHOw+4vjgEUd7j9kbHgJZXFUm1kSVQIwTN/zNp7Ve+G2l767P52P7a1uj48sat24E/q3RA2vPfvsEaxBcS7e6bJtE45tyMZhU6hx0FRmx1+KmNgiKD3bEICIVMYC18doEe4mgldBXmkx69LZGbP37ff402ue//f6/UM0si7xkuVqSdTRpJwEnFKsVFzen/Nf/8V+wVrG/f4Amxboli2IGygUyOa/x3lOVnnyekyUdhgPF3OaU3jMwQ7xkWCesiiVCgibBqIRE68BYHbkUbPznvcW7EBocSvZJJFoqWfgbJqtLxrcXnF+cc3l9ydXNBfPFLLB+25zKlVhXUkmJdDyJUTGaKRj9SpfjnQ2s90qhdIhsEgtGddjbfswXz37H0d5jDCm2cJzcvkaJwqQaEShtySyf8uP3P7DVOeDZo98EQ69TuELoaENiQrCrWHDWx2hSRaoztmSf4+1PmT5dUi4U1eol1zeXqMSTdVO2hkOU0VTWsVgsKascQbGsVhTzWyYrg1yp6BUMINIowURSSKMMIsEAUFRlXHWBPLNyOZUrcD544y0VToU807IqQXnSLKHf7VMuIV+W2KLCOovzlkSihzDGL3vqAGia/buByvVDE9J/12Cx9ai0H4/wncb6fYdgusWbEQ2obQtSM4LI9L0GxfUxNMfWlRGoAShJ/Eiap3rN8MzD7a8VpcFmcr/dA95r6Om9XoPE2v5Jna8PPkZ1OOdw3qNVSqoy6qNqIrJAYCahdJzzDYu4EiFraqzX2DboSaGrCJipSVrr+amDtR/SFv29udngO5TWD1lfE06CZ5kYXbZBGN42KK5Bb1N61EusuiFxntodtsFy/aoH+BEsf2wf2y+9/cKA8l/T/IYw8nEj9tT1+4InLc9XzFczpqsJV/NrluUSJ57t4Q7bwz22+3sYlSLooCBJyMyTDatga7e8C07vYVVp3m6so64GydCEhCtHXi5ZlXMKu6CkxIkL+U2+onIdvAqheQ1jt5IQ7njHtCkb49scXMgsqrC+RHmPdyXT1Zi35z/x/Yv/yevTH7iZXWLNEpOGsk3eKabLC/yFJU0M29tb7O7u0El6xDjN4G+S2o++DtWSmNoDHkdBWS0YTy+4mV1yO79GlEUbTTfrMsoOGHUOGPZ2wqaUEEi5Yri0FRvvqeXy+pzTd28DSzngrcW6EsSTqITdnQM+efopXzz9DVu9Xa6vb8h0H/xtKKESk2m9CKW1gdHUBw9O43iJcygqXpeEe2V9QV4uuLg95eXpj3zz4z9zcv6ayfKKpBMIs4LRxqB1CrqDqDSU3/ASPCTO4qUKgZq+xBY2ENWkXfAVeTXj/PqE3dERw/4uYgO5izFR6Yh2kRSDVh2cLjneMvTSIbvDA26Wl5zdvOW7l99wO79ktZoHlnDlEK1j3r2gUoNXgZAslH8KK2RlZ+S2Qq3mLKspk/kFF9evuT56zpPDT3h28BmDbJtM9XBeEaJTzXrd3VW2NkBy/cFHZeCva/c15bZD6b7u1wLLUclfe3zXHmQXPSfOR3OWD6WPxMeHUEx4oVpd1+Cgnc8Yugp8d5EEqSkXF1mixeC94HwwsyGafpby6eOvUST8/tv/yquz71ktC5xTWA9VVYT+VcXt4pKf3n5Lfzjk2ZNPyLoZg34Hk0jInXQO5wRlAhGUE89kMeWbH79lmVue7H/CoL9LlgwwJm0IlxCPVTUgUUgEPrap1V5S2py8WDBbzJjNb0L949UVs9Ut8+WE6XTCbDFjsZpTugLrqsDjoFwAfjFNo3I+QLcY4q4TjfcKnKO0LnwugjEdMjNkMa2oFpqtRwc83n/G7c2Yk9cvEe1CEKyzpKkGo5jNx1xcnnJ2fsLh9nO6SYYyGusUlRW0ivwC1gbvnxBImnyXQeeQT45Bqi79bIdXb39kurghrxYsF4uQ4qN8kCM6EBI4KXEoKq+DkTKCHmKaihaJpILBm+g8VFUZQo8lMKw7H6oRhNTpkAGrTBLKf6GRAvAGZw1GpXTTEb1si1R1wYYNRnzgSPCxhm8D7uSBoOs2WL770Pjagenj75F4snWMqis91J5sqT9vgrY3nlXvpUkJCGWkWmOrBXnNCF4bEFuVAnxEyU1gzgPPu2/NA5/PAAAgAElEQVS/cVfUbhzV9mDebe+Rx63LuUsa6l2MzquvX4Xgaq1iGoaAuJbRQtagX1Ss515zk1KD8Lozv3Etvhniegw17ZY0KLZ1nU2Cc310lFfxpM2M39XZIrdDDWY9Ptb4Xsu/huyzGVj93fW9XZ9uMxi/NoZsjPXeiT62j+1j+6W2XzFQbregxHls3LBDSF1lS6azW65uLjkfn/H68g2zfIZKNMcHjygPKxKd0c9GpBFMuEhSg9SkDHdNk/Wm9r5Ww/SNvS+eJVC+eLEhV9lHdlQKrJRBZfASglulRBmP0muFlGit/kDXLdlb28Dr2p4WL46iWnB5c8Krk+/54eWfGE/OqdSKtC+oxAfLrlPkq5LJ3HF53ePq5ojDxSFqoFAxpC6QcqjAHulp8ooQhxKPdSWLfMrN/II3737i3cVrLq/foYwjzRKG/S12R0843C4AQ5p2UGnIEQ/APsyT9ZaiyrkeX3J+eR68NPHynPVorehmXZ4/+oQvnv2GJ/vPSemR33pSeigfFHXf0FJBZR1lZSmdJWly3NYbc5PBGUO/inzJeH7OT2++44fX3/L69AfmxS3O5Kg0lM0RG9g6teqidR+VdNEmQ5uEVbkgL2fk1S2lW1EUBd5aEpVhTIp4S8mK2/k1ebUMdaOtkKgMrdMYbh+s3VIr3aIYprv0OgP2dg6ZVtcMr7a4uBozWywp8wWlB50oMm1wBMI7kxicqyhdUOBEmxhG67FuhbU55XLBYjXmanzCdHbNbHaDsyVHO8/Y6R+EEE+loxFD37XNrJWbxi3Splr92P669uF5a6JV2q/aAyKEfLp4K2opWSdAOCTmZaahJ9F4yfCSgiQEJBPDoRugDG0NvVbYQ06mizIgeNOCJzqWw7HRUKM04jR7o6cMB7tMFjMWxYpVscL7iqoqKG2FFoU2Dmdz3l29ovqjQ1LH08dPGXS7ZJ0Uk2j8cp0GolKDs55ZPuWH19+xKJbMyxn7O0eMOjt0pI9RKUoS1jwEnkRiFQRfkbsFpV1RuhVVtWKxnHF9cxVyjcfnTJc3rMoFhS2wtgwGMFzNWRSMbKpO26iwNnhRcSGtR6PQOjwzzlqqMlQUMFqR6RQtXZYTSzGHjgw52n7E9e4Z3axD6WY4l+OwGNNDK89qPuFqfMqbk5/oJiOyrT6JzvAu1EM30WgZAHJU4r0Gn9FNdjnKhqQyot/ZIUt7vDn7iYvxCatihqsCQPaawPEgLq6nGCYs4NUaKIea96GPYOhLQm6ytxgk7AsUIBZRDmUE6yzWOYwK9ZhFkgBQbIr3Gf1sm53RMcPePpkeolyK1AzGlgbAqpbMeXCLrI1GEvko4ns10K0/o17H9Rr3gCTrLb+1F6/5A2Sjo7r8Uw2+Q+mq+D1di8f192oqqvU41iC5+bnxzG/+rGXuHUjL3W/5Db3lrl5Tz8Xd1vqOi/u8i8zcSkJItaqvw1OTZbWNFbVDo/HS4jdH5t3arnpHt2pXFfENQWqoSXx/qL79RTZovus93oe8c6jtJsFYrCInyjonmug0aekDNe8Kdf513dae883SH+vP6/G0oPPHHfFj+9h+Je0XBJQ/4HFqb1Kt44Olt5VP2mJ8db6iKFaMb6548/YVL97+xNvrE6bFHJVoZrM5eV6idcLRrpD0wwbtnKNyFYlK17WVHxxr+6/oV20xKraHHCyTDh8BpJMKiSHi2kCahX4q6hwZj+hQp1brKM69CwqXJ5ZPkChsPyRuIzOnCspgRcEsv+HF6+/48cW3nLx7gek6kg7oDFblDFtYtKToZIjSntnylovrU3YvdummXRKTxhn20TsTeLytqyiKnCTRaA2LfMrp2Wt+fP0tL958x8X4hPlyjDbBo5ImXfa3rhnvL8gLy9HBE7a39nASNuLSFmgNRVlwMxlze3vLfDZF0qC8hZrPIS9uu7/Dp08+5/nRZ/RkRFWALQTju4hLcXGkHgEnOAlguShLOmmtbEXFz3usDeVSRHmcL7mdXfPjyz/zp+9/z9vLlxR+QW8rQSWa1XJGogwd3WU1L7E+QyV9tkbHHD56xKOnT1lVc26m55yc/8C7sxfc3l4w6HUwyuCtDR5nCiRxMXzLY71F+8DWXeUuepxUYJpFsC5s5EoCEbqRHoYevjSIzUJepuqgE0gShc0XiHiytMd8MSNfLcGHus6dLMOkGmtLymKJUhbskjJfcXK+YHx9yeX5Ob/97B/46pO/59HOc0QyiionMybU3kbWOs6DYHntcfnY/qXaHYDcGCRaL6HJT15/w0fCPPAYRHrx0zqsI8P7BIcOIa0+lgHyZVD8XWS/Nyqy1Yec5Yicmo6CUi04J1SlYJIEEcNyZXEaTDbk3/3u/6Db67EsV0wWZ+RVgSgTlHptGY4GLGZT/vzTPzPc6pEa4avnX7G7vc3u7h7TxVVQXgWcChwK+JJJfkF5NuN69oZu2iU1GZqEXrdPt9MjMSm2ctjKkhgN3lFWBbP5hPlyyqqYESooVJRVzipfkJcrGo5rH6sAaB/ryoQHUQScBK+9wyJJSC8praVyFltZlPaxHqsJuc/eU1mgdOjCojpdjPRAEra7+zzefcInT5/w5ux7bmcTUBalS5SUiILJ/JQfX/0zo8GIbtpht9/Bm1AGyYmgjQq5x4RSf7ZSeLpo3yNVghkM6JoRg/4Ww9EW/dM+p1evmK3GFG4e+B2oQrUEHbyrShlUEnKfGytBXcIn1nnG1znGkCSCaBvQO2FPFA1V4Sgqh6sc2nm0EpTqkagBWbrDwe4nPHv8W7Z7j+maHbRPEKdqFsYGhcoGMNn8vV7ziMc7S2UrREJurKqNOrr+Wm0UIoIeFSun1Wi09jJa6pxiv9FpAE1Gt2Re21hee5RjCtbauBQBZbQCr8H+JhVUPaz7kHcNPmt4t9kiJ7mvQ71bUFY2g5jr92tOj40JlehhVy3vuPdYaynLAmNSjAlpYo1FOx5T62eBPbpFtCrB8OubK1lPm/NtHSyOT9ZjrEccFp3E+9S69mgEdtFg4aQ2TNTSMpafbCIRw/msd8FgTV3+KRKR+rXRqT52XSJlfc/rS1+Pe9NosTaWfGwf28f2S2+/IKD8t7XaAru2iK6FfFWVzGYzLi7OePP2JblZ4chZrnJOLkLJoiQ1JElCt9cnlWDpr2LN21oEhhO2O40/7xtlaWyFPm5x4uPeuq6FaZXD1ezK+BiyZ0FiSQUfcrGcc4Ep1Dl0JMiqWab9vY2Q+3tjM54Qznw9ueL1uxe8OX/F7fIan1SojiCJxyuLlwDiwWGSDmILZqtrLq5P2LoYcXz4iD6DoOBJbZ4IpWIsFWJCmanZcsa7y1f89Ppbfnj5DZc3pyyLCV7leHFUFlblgrKE+bJgspjyVbXkq66mm/QRUVgpQWCZTzk5f8NseQNiMUaF0OXSkiQp/c6IrcEe2719+uk2hgyjNF3Vx5CGMMMYphXSxcJcuKqiKkowDqVqcpi4VSqPlYrSLrianPDq3Y/89OY7rm7PWBQTvKmQKhT/8C6UcTGSsDXcZWfnEYeHz9ka7TPYGtHZ7nF68YrVqqBYlXgvGJNE67aPcRAOlWgGowGSKKxYMCau6xAOjwNXeiQRRBk04CSUqFE4xCd4qylzsJVGfBp1uVDqJlGG0WjAp598wmw6YXJ7y2w6w5YWX1rKssLh8RIIwESBTg2lrVgWU84u39JNeyQ6RXvD7uiIfrYNjVdZ3h9ssaHE3tVoP7b3tzsKlmyKnrvq111lrf1WzSS/ZrT2Yb17FVNEJBiUvMZ5hYt/e1ERHETELT6UJ4MALpRruguRGwEsB0VQ11gdU3MaWCHVHSpV4V3FoLfL4+PP+De//fd8//L3nF0VOFZ4b3G2YrWaYb2gE+Ht2U/0BxkHBzvs7u3wdPGcdxcnlHYVmOW9DXJRCZAzywtmqzGdNMNEUsYs64S/dRJy9qugADtvA9lUuaIoc0qbR+XbNUbYwPmgG7beEFFDXPQK76TxGikB8YZut0evPwjAuXJUZUWxKilLi6tcQyymRKPJ6KohT/c/4WD7GO0TtM7YGe7y+fPPmczPmM7OSDoJHktZzfA6YVHccHrxgq03u6Es0SNNLx2R6W70wtVLIbCDK18bNBRiQxpFL/Mc7gpGG3a2dngyfcr19IzxLHjR56spy9UiyIgIGp1tYEoMX48gIa4rcSaEmMdH3ttgwBQViM20aIxPML4kpU9mRvQ6O+yOHrHVP2LY2ed46ymPt5/STbdQkkV+DmpS9o2orXuPzL39OdxDFYkJA/Kpvcdx926xTQUD6t0OCOu7BQJDl7L2JjYPXfymX/cPbShak0Z5In33Pe/xh0Tl+z66761cX5t7QEnYhJzSxsTByN8+thEv7XkJkWjamLiX1h7YO8fV7NFrc936PrRGUjPMNEwzdXjzHSC6Kena83/n2tvXI5uf1Ttw2Ed9c1+8EPWBuj+91uc29rBa+NX9r7ttf9yMT+pkeR4wIt9t71nIf1Nrn+tf8rwf279eu+eJiO1D9/FBUPD/o++f2+9D3//1rrdfB1B+z/x6LzGkKeQFrcOlffR8ePI8ZzK95WJ8xvajHp3UsZzNuJnNKeyStJMwGI0Ybe8ySg3aZ3gUlW8J44c2Y2I30tgHgyz0RAUrfDFYiaPg9yqQPaFwWoMEOF5WJU5X0TshMe/OBVBd1yz1PjCeKokhVHc379arJbMD0YmnouTs+pQf3nzPu/EJBUs6WymSVHgTyM7QocZxILOqcH7Foii5uk0YXg5YFr/D+T10DEmu88sqSrwExtR5Medy/o4fTr7hp7ff8Ob8R0q/RCWWrBuUNmsteZ5zuzxnOp9xOT5HJY6t3T6H28ekWQerLV488/yGk/MXzFe3qMRhUkOZe6rSkiUJvc4Wu1vH9JJtEnoIhsx06CUDEpWiJYTpNRy+3iK+AlviyhxxlpqPqGH61Y7CrZgU17w4+4Hv33zLq/OfmBUTvK7wUrLKS6RwGG0Qb9C6x6Pjz/ji89/x+ZdfI5VhWa64yi+5uDzn9OQNt9NrnLVkSUYgdPMoB0Y0WafD9s4uOjNU4kjMmkROJwpXeFwVQvGDRT+J9SM9YPFOYSuhLD2uEvAavAk6pRg6nR7Hu8/4h9/8R1bzJTfXY87fnTO+GjO5uWGyGFOpEskM1oe6rkmSIA6cCKtixtnlWxQ6lG3RhkFvRJ1DLnHRfTgz4dctLP912yYM9s3/jVreOlJYJ2DW7Lk1uK2/HzgcagKimoRGCOKq/su5kE/svKKuEhsiYgJ7rfdhDTZesTqg2xG/F7x7wetYA2pBo6ksWAudrBMq6FqHiGFndMA//u4/UORTVssp0+UV1q+wtmSaL8nSHoOtEVc3J7w81Rw/O2B/+4CnT57x/YsfGE+vA+mhsw1HgldgbUmRr3AUaCW4qmKRK3Rkmpbo5bJVFZivJXg06wATFz1+IsQqCUkAfy7WXa7LyXjwBO+60hqtTQgxV5rt0S77ewcoZbCVpVgV3IwnzGexlJwyJCYhMSnGZ2xl+3z55Cse7z7GWIPXCcPuiE+efM6rt99xdX1K1tEs8gVFmaONoijnrHLHj2++wTkQJTzZ/4RksI9XabwnwROnCLJDRWOIt4AyaOkwyHbpH/Z5dPiYlZtwOTnl3eUbTs5fc31zwXR+S2kryqqkKMtQczrWB67TlBow4zXeqSZfFQugobAoAwZDN+nSNUIfT5YNGfb32B4d8tnzrznef0Yv3WEr2WNgRiivwanWel5j2A1v8gdETMAlgtamgWo1m7Inej2j7iB13HM8nzTkeDXI1vUo4ltrwNOUIGr/JKoBfq1YiFIxb9lvgCxpjXX97G+2Ri9pv9G60AaUN0DMx/tT/2x7ZWsv7b3JirnldycypKjVxjYRiSRxen1jGpC8rr28zkWue13LnbstRIZEfe7u2B645PU7at1nRMZCMFy5BnrXPbdY/73Hid/wxous1/QawodrWs+qNLO6MS5hff/j30Itj1Vr0f6l/fBfAtSuaxjcX1Ef9+NfTHvfg14/S81+W3/w0M+7J/xrgPKHjr27Duu1/IB8+OA4fp3r7dcBlNutNk62LXlSk0aoqLR7UBqdJHR7PbJuitKOklvQBWYwx+eKAs/J9U+krztYJXz6+Lfsdg/p6RE2JNYRqCpaa7SWbZF42jlPVZOkRMKSMBJoWC2bnVGjkx6uLvUkXZBQn1ZUqEPqfC2aFSIJSpIQbismegJczBVbI2Lxsg5Dq/dcJTgVlF0rnoKKi+klb8ZvmfkFvickOmG+XODKAmM8ogxKBwXAUYYxZY5FNeZq8o7paszKHqFMNxCwxLJJVioqKaj8gtvygvP5S366+COn05cs9TVJV+GlYlKuMCYQpVntUDrMTG4Lfjz9AwUL/vN/+L/YTw+ovEXhmJVXXN68ZlFcU/oF1cqjdUK/P8SWik66zSdPvmbUOSJhEObOBw9nYhK0NoEAhhDWrBNP4iqUz3HFHOUqdNzRrAssrE5yxssL3l79yB9f/b+8Of+R22qMVTlEplqxgjhFojOOjp7z/MnXfPLkS7a3d3G+5LuXf+TFmx94/e4FRTXD+hVGl1hbUVlLvzegWjlWy4r9vV32dx+zPTogTfrRUBOMLHUdW63AZIKzBMCcxvxPgQpH6S0WjzKxdrI1pGmKdRXlomCvN2K/e8hB9og0TZAB2CPH+HrM2fkZL09/4mx2wlVxxjyfUCkbcz7Dok87CatizvnlW/qdPlvDEUcHR5Eaqba8KyQyYa+VuCjgG/fPA7llH9uDbR2KGP7VQYC+9YnydxWumL/XkMwEweV9gfUrRFy8HQ4NGBGsuMj8HHIrRTwmDcRYlXg0CicK6xXeucCe3CRdxvseZbAQvdQEYi4It11rglx0Qb5pCTm5lXi06tPrHvP1879H+Yo//vl/sPLgjAJn8a4gz2+xOK5vz/inP/x3/uHf/G9sbe/zj//xP/Onb//Ei5c/YJ0nTRRpZlgulwiGwWAHEY+1oZ65iEJLICOsvMVVISpDYs1Up+oSUWEtB7IqcE4h3pD4LuISxKowV4CgydIu3azP1mib3Z19drZ3GQyGjPrbjHpbIbTUg7eeVb5iuVwwn80pixLnHIlJ6CY9Rp1tnh5+Rj8ZIBaUyvB6yKh7yJPD3zBf5lxOzsLjpDWVF3Sq6XQM17NTFj/MOD19xf/+D/8nX3/29+z1D/He4HxI23DW48sKSVK00sG0IgYjoXSUJyWhS6aGdPu7HKSf8dX+gmU+Y15MWawWzOczptMZs8WcxXJJkReURUFZBABdlRVVZVESmK+VKLQXtBHUQOh0Mnq9LqPRiMFgyKA/pN8bMehuM+hs0+2M6KR9jMowkkU2DGkIoSTuv2JYMxPX7QG9sYaDqgkw9tQQpwZW61Dh9jlkDdb8nRNGA/3Gm7L+mqwxdktHbMOr+sP4HMnmuR66pLqpBz+Q9f9y70NANaXF7vZQ6xsb7SH9u3UdUseqc2fo9RvNhT+kSHsah8ZGh6r5LVzCAxwx7xuetCa/mdO7Z2978sPYQmKApvYUr2exjil86E7UO95m+Poa1KwP3xy93PvgLmFbfDeG49cgvjYyfABYN5Yjmrlf7xY0+ekhPbA+7v751oaE9/fT2EDq7/wcvP+xxbZmSgfWz51vPm7mN+DQWL9bapb92sTXAiK1ZhBzMqT+Xg0IPjCWjb/urJ/mV4BoUqplYc06D9JadrLx3c014e/8rA/4dSycXzBQfp955aG/pSHwwgfSEZFAmpJ1O3T7XTq9BC9zKj/D6RWqk4HXzKsxJ5cvcaIxSQd1kNAZ9vHWIWhQ+m4ViKBQ+sACGtb5moFViycYYT0h9jWAAx8VWFEJgsP7BE+CFxPKXNSkO25d0zmAZR1ezQPlWT8srXXZflEv+uD1rXxF7pdMi1tul2Pm5RSnc0RKClcGxVglpCYB7yiKFRUlgiXrGbAVq3LGxfiMrcER3Z1twFHYnKKcMZmNuZ1fM1leMFlccHn7lnc3L5kUF5SyQFQC4qikDB4aBCceVIGIw4vmdnmGf+d5+e4YSSq2hzvMixnj2TlXk3fkdoboCusdRiWRBCuh19lmZ+uYLBmi6cStK/RhlI51sVUULQ6tPKr2Klcl4ipUna0Uc5UqCsbzC16e/cDryxdczc9wkocST4R7pFBkacL+3hFPnjzj6PEjCm95ffaayXzMm9MXnF29ZXx7jlIWrR1ah1qTkLCaViifMMxGPDr4hEd7zxh0djAqC3md0cKtkVDuLIZ7iqs9EmtFwOMx2tDNeuxs7bHKV0znt2Ez9xotCbu9A/b7x2zpXTqqg0kSTNewmxyx33nETv+AN9NXvJ6/4PXlS+arWwCcLxCiF9FXrIoZp+evOD58ROWWGEnxkuACXc+DT+mDC/Rj+2B7eLY257Gt6rY3zYYZJ+YGBnrgUBNY4aJqGAwcSghEfxDNe1FuUTNkhw2wDkz07Y29ZeFuK3JeVAzDpsEAQUzWZV8CZDFiwFdoMpQ2HO88pSjmzCa3nF294nZ+iUaHNBRboJSQF3NOz96wu3+ASjMOjx6RlxZlEs4uXlNVKxCHs6tg/FISyi95AIe3gQsiiFuFjjIvhFe7CIp99CAG13JQDhKUS3BlSkqXzHTp9Hp0Oz263T797ojhYIut4TbbW7tsDbfp9wb0sj4d06UOCxXAupDPmS9X5EWOtRajNFnaoZv26JoBSgwuGjUSugyTXZ4ef8mqLJmtSqbzglWxIu1miNKBrZuK+cqymMx5dHDA3miLne6QRHURb8D5sBTaKr7UypqAV3iCrIYuWTJkkDjoOSpfUtjVGuQv5ixXS/I8pypLqqqiKkvKsqSsAomZUuv6zUqFl9aaJE3Jsoxer8egN6DfH9DNemRpj0x3qI09Elcp/k65pzYguWt3e4/etZ79+u8PQdH2Rw8oc22U5t/fodw9/oP9/XyF8S8f+T5web/q/V/V8wbw/MBEbziPHjrObxz+/pF8eGT3p1Va1on7370vLzezoh+CjO/rdX3971kbHxr1z9oCN3eA5rJ+Vifr/aHWAu/Qp7XA+fpmrY0EHzgtNEag9tu/Drjzy2t1lYiHovDWc1obTOpa4msD9Z2HrTlamp8/Dyj7jb8f0tPisxK5ADaiI+q+153eGcVmX5sH37/aX2L7hQLlDynULXEhd99vS/IQDpR1MnqDHoNRj5lcUVZLSlmSZglaC1VVcjU9Y5lbOtmAbjJgt7+LlgQkDWQr0ZDThEI5j3MOMYLSGqOE0jkKW6J0XfKgFk5rN7SXWDoCjUMHhbIZ8x1h7eNfrbwnL+1jWwtxfcjmHErIO7ZuxaKasLJzVtWc+WpKxRJ0sABkSUKa9OllXWxRsixyLBUmUWwN+vgywfqKk/O37AyOOd55Dr4iL3MuJ1e8ePU9r09+5PTiJbP8itxNsGpB5ZdU5Igt0VqjEhVBYBifpcRLhUkzXLViurrmu1d/JE0V+6MdZosbLifvuJleImIxqcLbmoUXet0h/f42nXSIUhlCgkGDL6JSIDF8SkWgEMnNsAiWqBWDD+VZtFI4PAUl4+klL09/4Gp6xqKakHUVokMosq0ciQj93oBPPvmUo0ePSbspf/r2G168+ol352/IMsgyxc5ujyJfUOQlxaoiMx2MZJyeX7HV3+fTTz/l08e/4fH+p/TNCGzSENVItNOYRIX09SpGLWgPKkYWxBXUMR12+js8PXqGLStc6ViuFqQk9Hp9DrefcDB8TE+2YhgjeGsYZF2GR3scHB5zXDxmb3oA38Lbs5cUqzmeHHxgqTWpgspyefmO8c1FSF3Q/WCtlhpcvO+x/QiQ/5a2uQ3Wz71bP+q1su5DeHQ7pXLNVr02qoQwYtBKR/kZievE46LS773FOkttjGtyj2nlZtYhpC11rD3qe2VlmvdrC3mQbeKCN0ehGXb3eHzwaWCTrgrG4ytEm8ho7NBK8FQsl1Nev32BMhm/+3qfr776iqPjQ37/B83F+SnT6Q3iFWVZUhVLOp0ORoeIHOcKXBVCtDtZQpYGFvjKBqBnrQ1eV+dDiSOVYnSK0R0UGdZ60mTITn+fo6NHHO4fcbh/xGiwQ687JEs6JDrDSBI8qZJgSHDxxkjcRyQFr11gzfYOJSFsW5TB5xZQGJNgvUNJSs9s8fTwcyo8b8/PeXd+yey24KC/DXgWqyVbvS3EGBb5iovLU95tveHL4y/QWTeUUCodQoJOkmbzXO83QiiLGMNnpV3712EEOsYz1Bbbddht29xPpeqw7lo2R2bgDeXNRzZoR0iVIkYhhPxsJTUxWAuA+FbR34f0rId+/1ntrwNkHzzkX0S/+9dQEv8iDPqX7uoDvf2tUP/n9v3+bz8MzN9nWPh5Z/mr2we//oDuK5u7wL1v1NipjVQ2jBqtMzdh7O1+2kH4P2/8Evv92P76FrI6pNlGqcFya4/efIbqmuvNjszd+9zAzjtysbFnw0ak34O/ywOL5oG9fePk9aEPEdOtF+ad77Y7+XWYWX6hQPlva+sbFh54rTW9XgiH297eI59fkds5SRKOsbbCueABye0tb86+J1EKbMWnB5/T6e3hCaF5iAoekBZYDqF0LrCdwjptT0L+20aCCrTWSa00xZyXaCmS2jvTYmDcQME1YUQT9lh3GJVWFfoULKgKLwWwoiiuubp+xWJ2ifIFvczgVRfRwTPazXqM+lvsjvYo8oJ8CrmbIsriJaFynrJYcXV9yezwFnzFeHbN2dUFb07f8ObkBZfjUxbFDaWb4SWn0zE46VLZqLy74CHodYbghdl0iohFK0ErQwUUZc6781N2d/b49IvPuJpeMr4dk5cr0syQGB0oNaLuv7O9w87WDlmnE+o/t5QzgVB3WoggwK5zCmvDQ/x7TSriKcuCd+O3nJ6/YXxzgagSkzisLRDxaDQ6USgX7tAyX/Ljy2+5Xay4mUyY5beotKDC4UtPaYa2/TgAACAASURBVAEXPFk4Q5kL2huOd57z/NEX/O7Lf8eXx3/HweAxPUaERzLkPUuhQx6l+LDGjBBqogTlmphz6qxHK8NWtsUXj79kmA053nnMYrHAaMNoOOLpo2cc7h6hpNsQEykTIhrCnJV0VI8DvcsXnz/HqznffXuB4EgShVZQrHLsypNKH1dZ5rMZ3cEOaSSru5fn1m5/sazax/Zwu4sI7lhhH9jH1gqMQCQkqvNTPSHaxpgA5FQE3i4kkYYQYVdSlavAst/qORgACeF7QlMfPlh11iY/RYVHtQx7IKgon+pxRnDvg3/bA6nus907RD2Gm9trbqc3TFZXlDYY3Jb5EpQm6w64unhHmZfYsuTx46eMRlv8/Vdfcb2/w+XVBdPpjJvxLbfjG4yK0Q7a41wCvgryIq9YLErqlADxHTKlUYnB6JQ06ZGlXTpZn9R06XeGPNp7ylZ/m27ap98d0suC1zgxHbROAxt0HQEU6ioFye5dEy2kdWQN1qH+bF2uSCQayJRp7q1zEmoFY8h0n73BEV999jUOR3rSpbIFRZnjC43qZihvEOcocyhyF1iDJcgTG6oeoqXeQ37Gkqtvlw8RUwFAe7TEPMvWqRw1o3FYlK7Og48h+UpCebC2klVvk5WzKAm16O+N46PY+Nj+V27+/vN6F6TWgQ0h/PX+A9MmkJN7m8YDEPkhbH73efzl45tfXFvDghY4bnER+PqgFiBep4UEY/V6/tXG2qhpFYjf2vD2shlV0HbL1SqxbNxgv3Fk05pDom7xl1Lp7qasPPzHL7796oFyEx9fL7iWkqhE0+32GAyGDAdbXOc9lM9CbpcNbNMeQk1YWXE9eRsKoviKQZrQTTQm3Q5WONE4iV4YDeKD99E5F70nPjC7EtldJVI8+PVCrH9EmBZeNVhurPDtz9sXGnORa7KKRmn2QXlREgC3d0AJESTDCmcX5KtbqnwOVYHB471CeSHRGcNsm73hIU8OnrOYLzh9c4XD4iTHOqG0DluVTOcTpstbFuUNp1eveXXymtevX3J9e8FidYPTOV7lobyQkpATJQm2AjBoUva3n6BVQpW/xrFCSdWEaVpnmS2mXN5c8PbyDRfXZ0znExy1NS0o8i7Ow87WLttb22QmZTOoLMy/ivlxSghKW0OyVgNl1sJDQgmuvFhycvaK84u3zBc36MxhPORljlgQlZLoBBFF5RzXN2OmyznXk5sYqurQxgZGXefwlY8lUhISErRkdJIhTw4+5fNnv+WLJ7/jaPSUQbqN8il1qRVBxdvZMoIojyewkjeEbg6wghZDohOOdx4zSEccjo5Z5TlGG3r9HlujHbpZl6C4h2u2oqK4tpTiyMsVi+UE53KQKoS7AqBwrsJWFmdBpyEPuhaCrUyt9zykbePOx/bXtPuz1prtltGnbo2BGlrK1VqqCIGcy5g05Bl7Hw1zFRDyVZ0vqarA+vyQbiQbfUM7B31Tr5LmWaufz3CEo97EA0FYkNtaOnQSj04Uzx59yWI158Xb77iZnVMWJcqbsOSrkrxYMq5KBMdqNeFg75Bu0sF42BlucbB9QL6Xc3s9oaosVVVRloEjAO8wRmOrkqosYkiwIdEGk6SkSUaadEMocNajk/VITYd+Z8jTR88YdAcYCUSBmgRNQk12Rszar3/Wvz+o8Eh9L0NUy1o8RfOFdUEZkUCiJj6hl4349NGXiNJ0On3enLzitrwFCqRKUd6QaqGXjeh2BiCGkPZj4k17f97nX1p567sqwUPdGGpbcrRucSE2/oKYWKxibdqQKhUOc/6hmrIPKFgfxcfH9r9k29xhG/n+ITDben43w8TvhljfMbzCJrh5/5CasXzI5vax3W9NuPXmZkpDKFinTNUYYOOetvTcCFbfJx6bikDxqx7ZWCv3fRcPAeX3tBgR9tcJ51/vQvlVA+XaOrMRMSBrX6xSik7Wodsd0O0MMKaDshkoQ1GuqKoqhLamDqMdi9mYs+uCqlixPezT6Rh6u1nMKxacqwKpllKYVFNZS2UtFotSisQk0cEbF1FjGVovqBB6twbHddafrYFzuLIHrjY8JNIwfDezwJpZ0hO8jAEoewqgRCtLlii0d7i8wLoiMEAqg8k02bDP7v/H3ns+SW5k2Z6/6+4QoVKLktQ93dPzZm3Xntn+/9/XbOWIN+xmkywWS6cMDcDd98N1IBCZWcXiTI8Nq19eMisjIhEIBOBwv+eKc8anPD75kuurKRnfUqGaoevaU/tACJHKr5lWl7xePOf7F//Gjz/+wKs3LxHTIK7Bugpntbd2vVpirCHPCqJYjJTkdsTTR99QFkOWs4b56ozKT2l8rckpKxgL19NL/u3bf2WxmLFczckyBybpt0anbOdY9vb22R3vkpHpeekyw1pyvaX32OpV9hYdlUPaTFMh1sxX1zz/+Qfenb/ExxVFoed7UVd6msWQG+1vX61rfv75BetmxTooA611lsxadXCDEv4QLY6CMlO90sOdU/7XP/7vPDn5iv3xCQM7wcYCCY6OsVj9Y73uhiTDowzTEJOjqcETGwwmGpzN2MlzxtkOYVd1PqMoNznJQQ1ERCxRoI51YlT3eLPg5eUL/un7/4s3Fz9ycfkGI0Hlr2ph3QRMtOSZSusURcl4PMHZrDunn+40+Nu07pa+dWJb2Zr+lj33pxcvFOjppipIMmLJXE7LYk0nkaJzE1G1vYlhA6sSqNkQ7reOmGzwVyq1aoOAsT3W9NmRlktiwyZrxKlz4APROqIUWAJPHn6NKxzXsxlX11esFpeMdyZ40YBdORhgTODd2585f/da9+Mtp8enfPHZl3z9d19zuHNMFnIuZldcXV9xdX1NUzcIUOR5Kq3WvtncZeRZTpbl5FlJ5gY4VygbtS0SKDbad5v6Z1VSi0RsqJka5afQDLCIbWmoFCDabnrqTON3oatQEgFjjeqn1w2utESjhH3rpoFoebj3OZPJHoeHJ9BYTHjBYr5AakHImAzGPHrwlAcnT5QdP5Xlu8xu9IfvwstbMZdtB0g5P24SMLUBXuiYJGXj3IWQ2IGlLStsSWD0sb5+V9/s/Uxyb/8zW0p+AB2gav9yl2t4a43Y3Lt3E3PdfB5vgJ5fsC1/++Pecm8ba9tOVIe8JdxK+jTStgfq9eiIUiO0uu2b8oHNNesC5G3gMkiSOIvddnfFVbYVze6+mNuv/s9JxvpJA+X2Jm0rGbYSyilDa0WlPLTvzOK9xVcqJG+cBQlUzZyqWWqpoBWqcMl3P/0TJgYGuUp2DOyOZhF9AG/IsgxjDVbQ8uuIMij2MtpdBG/Lp904kq2bBb57rO/Y3Dz6Ve6exLZfbQFzvPX3GEV5xbzRjIMZ0fHorgxxZbG+ZCi7eOsozIh5fYWP2hNrnTqJTah4c/6Sf/vun3nx9ieul28JZo6xnmgafFjRlnHWTYWjINgCkzIhB7sPebT/NcNywuXpkp9eNcwvr6l9o6DdGcQK8+WUH3/6HpFIVS8Rq2XSTZMYxcVS5gN2JnsMB6OtbxtiSCRFFmNtIpQhlSrH5LAnkvBetj+gGdX5csp8ecW6muH9knXV4M0KlyVirRhYVSsKM8CKo65rjDiGmYY7JLRURSpnErwhMyXjwT4Pjj/j0fHnPD76ggeHTxmXe2QyRGJJDAr2QwOxabTSIBHhQEiERoFotILBYiF6DI7cao+fjVad0xiUIT0RxFkDTWxoEqu3EaPBDNZcXF9wdvGW8+lLXp79medv/8z51QuaZkmeZZhoVTc3CIglMxn7ewfsTfYp3AAjGRuvexMMure/prV3eVtN8p4TfDO6ny7JRhRFgzDGOIp8gDUOgrYyaHQ5ap9+jFR1DSHNaWK66ajPJdd9QKs3mwJS7eKvUFpRWWyDNTF9h5hqFUSdhoAhhCwFriK52eVg/JDfffkPVPWa+XxGqLXNZVQOKcsCRAi+IYZayRcbx/xyxitewlr4/Mmar7/4HYejI/byQ+odnzSASXO3ZjhFBGuskv8ZhzGZ/ohKPEnXnrD5t2VMbn9rf28iDoyiwDd4rJDKjTcg+QYEBbGt5HS3bxHBWJccKpMYykut1DGWodnldAf+4e9qTg4ecXF5SbOusWQMiwnffPYHHh49pXAqmRejZoHbYzPIzQXkg35ybCWBbgy4FgBvyxCp2bZipe+MBSWIa0lhkA1gbku0bx/YHcd2P8fc29+E3RkJRXqhxl+7t80+0mtxmy/gtvXA161FZPsY3n9E94j542xDiBliG6BWApqYEiEt4W1bkWTINBAM21ig5RRp/+0IfKPyIdFuGnvb3Y0ltkfIh6/lL17p+L6t5JMdJp80UL5tkiYYurJaEdFsaF3jPQRvaABxFmPQMsOwVokOm4E11NHy4u0KC+zt7PLZUcROMgqjWrXBC9ZpdsFa1Ubu8XJuz31t9rd7bRM9uvkT2x7l2JZlb7tmHRDpPuM9o67rHdAyXqIlNha8w4QCl6kzHAKExkCT4RhQyBjvDKNyj6v6jOAV5IvVG7ZpKs6v3uL9muvpJet6gWRrMEoaRlQSsBBjm8AkeDDBMsh2OD18ytHOY8aDXZ4+mHN5/ZY3Zz/jQ8RZzexEAsv1nOv5FVkKZMQePogRClcwGk7YGe1S5gNiRB3eqGzRIiDGYK3DGtmcsJaAqNVPDa10ggLlVbVktrhmuZpRN0tiXFPXS2LWkLmkMd3Ael3hsiL1FxqcGDKB4BtdZzC4lJXK8hGT4T6Hew/47NHv+Ozh1zw4fErGCIIjegGybvKMwW/Aro1JN7vRHsHUU21EWdTbXhdnbdffqJo8mvmJQfWNtUxaM+brsKaq1yzrJdfrK16+fsmLVz/x7vIF1/OXzFdvWKymWBNxRZkkyVKG3maMigmPHjzmYO8IK9mmH3MrSHRzPH5EKc+9/YL1J5EPn8u2V6nFLpsZRK+TNRllNsCZTFtI2ugzWpYdQ6CqKkLQnUjcRKR7Qet0LC34TX/dYp7tg+VNFFy6PtZeCEBE56mY+CUIDLN9Pn/0O+bzGVeXF1zNXtOESFlmSNTWGRODZm6NQcThlxXn63OWl2tKGfLN579nmE/I8hIZtqXRCtCMGCymmxbaT1bSsnYObRm/YTN3p+xvAsX6tazKSYnRAFyMEDSB26+A7xhjpZcdEqPfX4AoRK8n0Di7uZa4xF5tEAIOwyS3fP244Gj3AZeXV1SrNRbHqNzh8ckT9ieHGDIIOk91hU6w3fb4i85LIulqI9K9t22WoU2muL/dVqVJWpOJd+yrx5r+gcPo9vMRt8G93dsnYneD5dv2/vvjdrawnbF6VT/v3Wfc3sGW/0o34f/CqvPBv95b36Tjcgh4IjVRaiJVAs0aXNa53uHEoKHSzfu3h0y7Mns6hoiusvbmiLj7Om2HZW5gjRu27QPcvbdf9/pv336jQHk75v6xW2/eERMQVFmbpmlYzFfUdSDGVO6Xej0R3UZsBGloWLKsPdLkvDn/if/3Xx3m7y15UeCKjGjVgfKxgeR82pbpmi6okw7mdpS9X3q9ySq3GeX2zWGLQfjm/dBlNGLv9Z6Tp5u1fawgsSCGEhMHGAbQxDaSgJOMMhsxLMZkJqfI4ejomKv4mtnsgiZqn6o1QhDPfHXFen1NCI0yIbuIDxVIQ1E46jrQNKoTHL2jXkWaOpLZAQ+OnjIsdhgWuzx9+BXPX39H/mpA8LWy0lrDarUkEjBOqHySkzKQW+2/87VQlkMOdg8Y5mOcyRXItUGSoP3aIqL7NJoF3mRzEkj2nto3+JgEboJnuV4yX0xZVXN8XCPW40OFRI9zDgG8115mHyNNEAQHTSDUEbxLoNIyzHY43H3A44ef8+jBF5wcPGGnPCZzQ4g5SIbgtP/dSIcvIhGcxjrEJLkqX4EYxDpChBBNAsuJpMlYgved5rGxghio6jpljyLGBKKvWTXX/PT6Gc9e/shPL5/x7uIts+U1LguIWWEsHOwf6CjygapqiA04sYzKMcdHj/j73/83Tg8f0/gU4OgyhTcm0I7dLv7SzHpvN+xDOOB2dqDnQG3/2n6X6IxjjaPMBziTyq+DEE0qi01VM+vVShmZiR1Y6zMjwAYgaTBuM3d1GWbYOFltAIsWoaVMdtrMtBVdYpBYUPmKECz7o1N+9/nfY23g//mn/4OLq9e4KFxenLOuFphMGA5GlFmJkQJfCWHtWVUr/DIysGOs5MQg1HVQiSRUY7wto+7zLkoCyQaXwLJNpeL63aJ4re6IQcvFo0JnK4I1eu+5Vu7PdqT66RwkAN1dktiVJbcJnQj4oGzS1qbqlwBNjFij2sd1XBNCTQyOneyA8d4ex5MaIlgczuRY67qSa6LocbQjpQsefqxpUEFMLyCSLn0HjtN/IQUhYysjInREcqlg63YL5FYm+Vcd1qfse93bvSX7mEDyB0By7+WW56aFyL/4sd2+ezvbAsstKGuP8a69Cn11l3t7v7VrgCqFpOorSWC5/RGVphVJpI54AhoQ7k29W/vc+Fgtjmir/N53ve5+dSP+dBNgt09ks1f5n8et+40C5b7djpX90vaRNBijThu+8azX60S8pcC2oVG9TAPWOcRafK0kNrWvGTjLspny7OV37O3uqWN1LJRuB+cGBGokgiHrSsZCuHmUySu4MZra/Ez704Fjej2B7evxjgkqtqA4bj5j63wlLdPEoJzn+xwffsHJ8QWX1yuuphc09ZpIZGf3gMPjE45OjnFlRmY8R6cHvFwNkBVUzRpnLGIzokm9yiEQY4NJzm+QGsTjo+CDnlcQQhB8DeKFwg442DmmzEYUdsjB6IST/YccHT7g7DrgQ00IDSE2iIWsyFmva6L3ybmGVk96PNzh8OCUQTbEpbJCZfBtCXK0bNk5dXbVSd9oB/rgqb1Xcp8Q0jgJVHXFcjWnqpfEWGNdgCydagkE74lYXJYTotCESCYFGYY8GobFgPFwzGSyx9HhKUdHDzg6fMjO5JDhcI/MjIAMoqMOGgHEGO0OTVqu2IZoGqAmigZQxApOBjgpEqpPBEiSoowi+ODxocFljmCCRihtzapaMJtd8+7qDe+uXvN2+lrZxKfnXC8uWfgF3qwI0WO8x+BpompQO8mJtbYajCd7fPb4a776/A+c7D9hUu5hGWjGCnv77rwV7Yw3nt8vqB9r8p7HmxfvQh8397HJKLtUep25AmMyiIYY29pfg/ee5XpFFSoaahxZKitu5xW6zGi/9LhzlLa4GVIwUNq+q/Z49WHHM6EfnYixRQNglKyrikm5x++e/JHYeJ69+I5Xb36isCNsnpEXTrWRm0guBkn9+oN8RJmNcBSqry4OZw0x6dI7SW0F3OiRlVTyFkUzxG0ALkIUk0qWk0uh4tAaYGiJqkLKKAedK40xWCub79pzPDclx0AK4IUOseucF4JWvoQQcQmsZgAYgnjtmxYwNsfZDCt6Haqqpmo8g3yzr7bKoCO9/sVbsOcsxSTtxGYebau3uuNtz5ZsaCk3MmG9LIVsAgYxxq4cXkR5RX7R7qeOe/ubMPVLbr7W2jYJV3rUn165Pe23wfZNPlE6vHvHR7zvsG6A5Q9vdm+/3pTYMRCkoQ4L1s2UVX1N49eE2JC5ktwNKLIRiODEaVZZTG/tbfcFetXbbHT7muket2v1LZLgrX30ZumPBMC/GN7pD76PHixb2ZaPfdN/qn0CQBk+Fix3rngX1UbLcUPUUkKtW+1CJ9qlqyXYxgZ80yQZoYBYT90smV5P+fHFn8izjKIoONl5wqR0hNA6e4JJJYwda2n/oG7MdS1I3hxxO6m1/cp9wpT3RfF6kf22nm7rPCSWU8mIOPLccXw44MmjOYuVx77+idlySsTz4OFjHj56zNHxUcJdgYOTXQZnBZx5al+BOJwI0WjUSkIg+BotWNZMc4wNoYk0IRAx1I0nNpYYLZnklPmI3bH2tWamwJmMk4OHPDx9wrKaMl1cUjdrkIhxBpsn7eDYnpN0rrGMhzscHZxQZgMsNlHpWO3blbasvZXA0Syz2Kh6rFHwIdA0NVVT44PvZE1qX7GuVnhfaSDARMQJKjvs8d4TA7gsp1kLeBjnI8b5kB0ZcTDZ5+TwlNOThxyfPGBn94BBOSZiCThi6l2OWOrYqONtDLWvaEJNEyqQCh9WrOsZPqwxAuNiwtgdMZQRMZW6Rtpy2ZimyAYvNdYIdViyrKc0zZqL6TtevvuJH19+z4u3P/H67Ge8acAFJAdTRIqyoV6vCU0Eb6gqiMbgiozMGMpiyMPjz/jmy7/nmy/+yE5+QG5GCkDIFGr0k1TbIUi2+2o/Jnp+b33bTCH9CPGNaHE/KdDPkPZKWlUMymJNpkDZlhhRpvWYgkxRDLXXjGwVVqqDjtuAuug24KcHcrUEW1BJpD67fBsEbDav9w64O9YUEG8rkDOTIRTM60jmhjzYH5PljuFgRL1uGA12tdrDwGw6Y7VYg3U4MlxecnTwgP3JMTYWmJhjyXFOSfiIbbuAbKSu+mFy2B6uvSPWfmHBSFTuhBYQkvp/YyT4gPcB7yNZhrauSG/kt85DD7SGBJK1bUXvp7bcObbUE1EwURByxFiV70rvMQFthTBaaRIarSaJGV0/sspDxV+ZUW6vU0wB0J4OdrtF+nJbr0vflety2d2+oCfP17aUmI9C7/d2b3/j9mGg0E5Vd4PkzePO17yVR5Ht5+87hG4zubVhC8j7cP7ePsLazLyJRAk0Yc18fc3V/DUX169YrK9pQs1osMN4uMvO8JDdgTDKSujJxkp/d8ImQx19G46EW9cnppxd3Jq/+/u7+fiOL7DZW7/q9VY0ZusPv8Ju+oe/jdH1iQBluJmJ6hysrWBFKjfpSp43JcohBkQiITSs1nNcpizV2EC1XtIs1mSZY1COcNaxmq+hrimGA86uXiHPhMzl2M8Ng3KAk5QriYJ572m8cdFlIxwOpF7kfsn1RwCIbW+LHm3z5qlASAQ5EaeZSjIeP/ycyd4Os9Xvma+uqZsVe3u77I4nlC5n3kxZy4qdgzE2F5pQIcbjMofLDevlCokR5ySV84JxQlMngByCMsRmOb4Ch2M83GNgD9gZ71EWIzJbYBJQ3Nvd5+HJY56//AFfn7OuKspRhnWi5cZGS7AlCN4rA7ONBYNyzO7kgMzlGuho2WXFbLIVopIv0oZgW+CAjoXGe6qmoYla1hLFKGiOnjxz2EYBgwk6qRGistPGiLWWOqiUzsHBMV8cfs7TvcccTY7YG+8xGe/gsgxxrpvWWqivgNYrq3Uq+1z5a6brK64XV6yrKdezM16/+5mqnpNnjs8efsUXR3/g6d4EY0p1fFNgJYp2uUSnwQovgbfXL3n28jt+fv2M86s3zJYXrP2CRT0juBVYTzSeuk5l9c5gTMBYh405zuZELyynni8+/5qvPv+GL59+w9HOKeN8jxhzmiCotnjqzr9z+PbH9YbF897+vSZsCL3a5/3f3J5KWpkJ0fEmtFJipZboSoa2AXiUH11bKdbNnDouaFikdyUuhSSDJFhaIqbNvdXOu2ZzLEDL4Bqj9tprdUdUcvc2Oi5J4Q5d/EPQBX9vuEflFyzXM0blHr//8h95cvIFF9fveHf5hrfvXrEYLFkt1symS4bFiMP9E7756g989vgrchmxXFTUNIwGIyQqs3zszaFbI7LN1Gw5AZI4F9J360hT2tcknQt97pwyRLeAMIRNabnpE5b3Plh5FfR8tNVJdR0wRvcnkmlWN7V+GDFY4zZQ1Oi8FhrdeZkPtOQ5zYmpvyQF2H69cysiONeuc3evVZt+beizo25Kz8PmfLYZaPlYuap7u7e/ZbvrnpIbP5tNZPtpAs79tTb29ngjqEVyEjtehDsOpf+4u5/DjQ3uZlK+tw+YCMZpiqkJa2arC16+fcazl3/ix5+/5fzqNavVgr29Iw72Tjnef8gfv/zvDB/sErAYtCJqsz/o+1hthUJLCNZflVN4Mr22FQnRXcXN/oSYWLO3y7DbMbAZIu3nyS2wfBOMf8r2CQDlD4PH/rVpG+QRsGIREzVDLJHMWYwHggIKSPqSXog+EV25HIJVnd5oQCJRauqwYDo/49mLP1HkBc46DiePKd0OglVK95Tlaw/qFvtsO0xjIMSUud54Zdpbi/YmaLle0mwm6fF28hs3UhP9mSodtifiY8BHD9KCqQZTGEpb4LOC2jiqhed89pazq5eE2rNo5jRS4wrDxfStEnSJBxMQEyFJEyEqWRKI1I06X2JdutEcRIcS4mRYyRiWY0aDMYXLEzGBZjnGgwmHO8dMhjtcTc+pmxVCJARPE+qU/VDnkBixqHboeLjDeLhDZgqsZAhWr3eCkIiy12Z5oWA5gjVKguN9QMQRidRNRQhBebp9jTFCnuUKvKN0ZZwhGoiBGDRYsruzz6PTQ/aGpzw++JzHO494MD5lUkwo85I8yxP3dyBQE6jxEZomsPaeVV0zXy1Yrdes1muuVpdMl5dMl9es6xnz5RWX03c0YUXmHLPlNVI7dt0hk+IAYwsgEqWhSWR0F7MzLqdnLBbXvD5/wc9vf+LN+Qvmqysav8RkgHgkb0A8IdZ4vyICJqrGtSXHyZC98RHj4S6DcsSXT7/i6aPPOTl4SGmHGApisBhyhEwzdHcuky37ce/3/XL6q+z9Z6t1cG4vdu37YgoYRQ9iU+Y0KjAxYrG4pBM8YFbrhGWsIaJBnCAVF/PXXC4OOBie4FmyaoRq2RDWAYKhyAYMyxHDcqjzljgERyKYxwh4DxGDdYkZms3CKyg47DLJ6at0BWNiEFOk8eNxmTAqdtgbnbA7PmZ/5yFHO0+p65q6qlnM5xRZye5kn9PTJ+xNDhHJcTZlkdO8dOuc3Ux89l67dXb70nztHNxzNnX+2TgN29n9ze9uVZNtyN05KqloqAXQIib1V0NMHAWmXzQubEnkSZLG676UaMb23+u8yK0Frecq3dCs6YjkoBeQuHlyb5Zl39u93dvGbgQ/b1g75DjXnAAAIABJREFU9asaiO+kNXXzoEEpSa0cMXGZSFtVlBr+AurrpGCVtkG0gaxfOKZbr8sH/n5vsAldhMR1sV7N+eGn73j26ltevv2eNxfPuZqdsVrPWYc1y/WS6fSa3I4Qco4PnjLIbJJU7K1DbTa5S7ptOHu2gCvtXN3OxZs5uYMom2fbwfa4PQzjHS0DbQvSv28cfESS8L/QftNAOXZ1fbfp7e/qs4pBgbIYldYwEda+AonkZY6sAoJKdiAxSUZFJOZkJtd+19qzbiqczcEFmromyxxNXPLy7Q9JSzJgP3ccjC3WFh2IDVHZW7cDK3HzOCoI9HhCbOhrqMWwkXYy1mKdxRgF1t43qe80lUz47m0bX81ANFGBcvBUsaaOa0QUrK3jnHl1xXR9weX0HRdXb7m4fMv55TuuZxfMFlMCAWzE5rAO046ufqOz6tN51xnZh0jtAy63er6iEDw0XshMgYSM4IUiGzAoBmTG0hY9ZmIYZUN2h/vsTQ64mp7TNEuasKQJKzw1eeE0EBGUhM26jMloh8lol1E5VqBMlrJc/ckhYq0jL0ol9BIBa4lez2VmcqKJVPWaEFQypm60v3c4HCrbYNRibpM+nxCRYCmyAceHJ3zz1X/j6YNvGMs+YxkzYIDDEoClXyX274ZAQx09a18xXy1ZrJZM5zPenL3h/OqCy+tLruZXzNdz1s0SHysNUJgmlYsrcdEgjnk4ekJxmJENVKu6CiuWzZxZdc0Pr/7MD8+/4+fXP3I5P2e5nlHHNVFqxDTYaHBGsJngfZMkqIKWtxPIs4zMjijMHg+OvuCzJ1/z5WdfsjvcZ5iP9DyTqVSByQDXgeTYDvOtoE2KbKcJfMN8/D61vnu70z50sm6mFXpmDDRe5zhndPEKAaw1SLRIDAwGI4bDMWdXiVDOQgxeyQ1dzdvLZ+xMSopMS4OXizUXb69ZTleEStgZ7/Pg6DGn2SOcKXEiWLE0QUGbWAXKmlHV+WwTttax0LE9d183VaqIoNzXntwV5E4rY/QHdocjdocPeXLSnoBApE57NmhLQA44ymKA6h5vmNnbLPbWXN2bs7ccxa3zG9OU3l94ti/Szcth3oPNY7d1AsrpeEIb7DV997M9V0q4dlcCykjvDd3QkG7fxiU2/M6Z+o/Yh98db41J6QUK7meAe7s32A4ybW6Lm45t9w+IJL4A9flCCNR1pYkCm9Qt8PjYYARC9HjfqMynWPVxESUF9QFnMyRJPLYcCfa9VR7tcd2UibsHyR9rmiiriLFmsZzyb3/+Z3568y3T1TsamWNyjzURLyumy3NmsxkxZNQ1/G+DEbktyWyxWbh6hKktEBdUHnXDG8JmDMW0ZS/ILrf8iF4kOKKJvPa9UVKZ9/taeHrVBneUTt099d9dofRbst80UL5taVB0gts3/65Zw62TrgwhIFDVK+q4wg0MeVZiyFgtK0w0WMkY5UOEQN2sCKHGSMQNhNnVNYt6yWQw4c35zzS1Zzmr+eazf+SrJ0poFKP2gOUuU4kVIj7UxNAocDcOIwZnHZGMOtiurEEZn3Oi8XgvBO9p6prGe3VpbJs5SAM3xERQlZzbpJPrY4MPPnlcFYEF7y5fc3b5ineXr7manXE1O+dqdsZyPafySyIJuNuks9s0NE2FdTrROhFMVKkh7xtiOl5rVac4pBKP4DWaFIM6uJJIqwRDkZcUWZmAp/JyR5ShtbAD9saHvBu84nL6Vv8uECSk8hGjOs7ekdmc0WBCmY+wooy9cuO/Lj8jSevaWAUI0XQ9hAj40LBYL6hDAwayPFPgMBhjJCN6zSTHtSEYo0WL0SLBEhqYTxe8sW94W1+wk++ym+8QPfimoqpXrKoFq2rOulqyrpYsqyXz5YLFasFytWRZr6ibmiZ4qlDhY4WPqwSSAy4ziNXePV8tmC/PuJq+5GT/gFKEmpqfXv/A89fPeHH2nHdXb7ian7Ns5qxYULklxiqjuzE2lbMGfOUhgCWjLEqKvKDMB5RuwoPDL/n84R/Zm5yyOz5kd7RHZnOIDp/uEdCFtd/jubW+t+P01s+9/XWsn85sU5ObibDNYHbK1h35ZVdvoWRWRCajCXs7+5xVI2b1iqpaIlHJvoIIF9ev+POzNT+//I7VfM1itmI+XWKCIzMlZTbh4uGXrKs5D48/Z1gafIg0jei9krQftfcUNuV7CSZ2YewudN19wzb4aBBiK3NHKze12XLThuC18kNi+pwUzOHuLPKtZObWsdyK+txx/m8+vmG3/Ny7HOLNd77rPGwep4oA2sN6T7bpFrhvv8t2Pvejjv/e7u3efnOmfmbAe49Nsnh5UYBRubyqXmOskFnlijDqjtFQ0YRIIxZHhjEO6wQfKpq6wojDisNat1lWuBFI7Mwgvbnqfhb5WIsow3XDfH3F+fwNs9UVq3pBHVd4qfC20RZRU9NEJUacrS55d/mKt+9eUpgh2aTQ9RUtoTZpveqvjSFVH3VVRr11o8s0d4HX2C0QG1/uVmoy/Z+ufQvQ7wLKbTA6tsteUhv6D1Q0/VfbJwaU4cYtfIdtshV6YRMJjRHEgQlgnO7HN4HQCKNywt7kiJOjY4ie2fyay6t3VNUcQoNCO0/t11xen2nP2zqSuQHD4Q57w4cUbgdj8uSyqT6niJZYKEBLvWFGS+ZMIpRpua/FWMQI3kdCCAkkp+x4anBrqyY6DUwJCnNjg6fGU9PEmuV6ztXigvP5G95cvODN+Qvenb1ivrxmuZ6xqhb4qDT0xhmwSgwVIvheutogZMZhxWgpctv7HTXrrQdlCCERpyXtUS1xTL2AGAblkEE5IHHGIroVFsfAjTjaO+HN2XNei9VzkQi5YvRETMrSC87m7Iz2GBVjnOSdhq/E1IcXW7F1EGPI8xJrsi4gIS25kOiiMl/OqJo1USLOOAblkPFol8lwl+liQvBr8LrS5BbqkNGsAhfvLqH5mcuzBTEYBm5AmQ2I3uN9RV2vEkheUFUL6ka1i9frFVWlABmj4wFQzRSJ5FnoJiAxSioXg/bVi6yJZsHF7Gcu5y+4Wlzy7OWPvHj7nNeXr5lXU6qwAhepqWikUrmaXk+SREGCU3K1rGQynLC/oxn9neKAB0df8uTB78mzCZkdkEmWNGHT+3EJJNtNKe8H79G+838fdf7r2fvBWmjLpGKa93pbtXwNgvbX74z32Nvdx53bxNJcY0RJoqq64eziZ6bTt0iEetlQrTxN5clMiZOSUBl8s6LIHXu7+5TlQD/PaBCwJWZvl+fNHAFtFnjz+CZY7mc+pfsdkcT6uem2QpTOTr9fChT2QHJsgzp3ncI7AfKN4E53zL033Yz9yPbDu0NDKYe8hVq3v3f77/Z1a79pT/Kjrd/ue0c3AbiyWW7tuX+wt+u07u3e7u2/zn75bmyzdP1An3WGQKNzuHiIQu0bZvNrVvWcOqzARlzmGBQlpRuS2xJjnBIIpn0ZEaIxOs+0wOq989r93PHrTdVVIjXTxTnvLl4wW16ybuY0cY2nIqZKQr2eYDDM19ecXb7m1bvn7Iz22R3vYSTDpAqpDR9l6tdJag0bot/elYvbLS/qLtxeCTa8Ets+XF89ZpOZjr04cN/Dl81H/6rB8qvf8J9unyBQ/mXbdoiU0MQ6y2BYUIeM2qxYLRc0S0uoHY8OD/m7L/7I1199g29qXr1+yZ///C+8XjxnPp+RFwPKomS9XFKtpyziiuANWT4kGsfXnwVO9oSd/EDp3YNgbJayeSbJaqigZpR2WCbN4yg0PmKdDuAYo0YMtVlE+5VTaTGkm8K1E1igrpes/YKYNUTjaeKSny+/4y/Pv+W7H/8Hi/U189U1s8UF1oDNDPnAgNHym8bX1D5Qh4jYDJc5sjwnNEuCb8hMRmYUlDqbpTJkUpZeXdcYvZadY1IW2bHRHzWMhiNGg2F766QoGDgyBm7M6f4jfh79gBOHT513IjHJMan8SYxKQrQ72Wc0mJBJgcWqhEtMd2NUQptoVJalLAY4p2VFfdIYY4TG10xnV6wbzao7cZh8yO54j6ODhyxWF4RZhReL2IjNHbNFzWJacXX2nNfFJXk5oshLat9QNRUiXn9oNBARa4hNmlxCElVVMJzZjBigaTw2OvKioChLBP3e63pF4xtiE3HBMhoaJvuWF+++5eXLl/z4/Hvm1YxVWOFdoKKiMTWRSCMNXhqaJvbKyDMyySlsySifsDfa53j/hCcPnvL09DNOd54wyPYR0X6YmATuQ7reVhxWrAZNoGPj7QKT3Q3XRhr7lR3tzCp33KD39iF7/6m6+1x2DMItPJUWTGrQRAsqVPt6f2ef/d19QhMITQ14jBNCaFhWNevVNVYMzlpyl+NcRpFlmFjhVxUXlzOswO5kwtdffA2yr8GrTANYpk3wdgGVliV6A0qlT3l9A6BK96+koFuaB6P0/t6+o/3GLfeD7f1It530dgntrhS0S6c9fxNUbvrrt47pAxeq/3TjbPT2G/ufvQ2r5dY5SA9iq1G9CQRv9aq9125+RqRVTvjrgOXNHt6nq/kL6mW/yt6XRL+3e/u07ZdHc0iSnHmeqWZ5S9wVPYgnzy2Nr5ktp3z/83e8u3zJtLpiZ2fE/u4ehwdHTEa7BDsmo8DaDGtdNxt4fPK/zO3qFdrZ8OZ8dW8fZxHwRGm4mp3x+uxnJVptFjS2IkqFOK+Z/qZJCZ+GxWrK2dVrXr79iZPDhzw8eYRCAKcZ41TV1wWhxdApO4h57/VpOZ1iiJrtTUyTrWpQN74SFhGRTkEB0TbSiFefu02oIB0PijG287vffxTvO0/wWxpZv1GgfNN5al/78ImT1nHoL9yiKX9rDCE0NL4m4DEmJ88LxJTsjg842n3AYXGKGRoGdozxhsxk/PnHJbnJEeNZS0VWOJzNkSzy7vIVq1WlUiBPK4pHVqWiyBIU1MlLfRlDlKDMpPhE5qWAw/tA9NqbpxLECuxaqY+GGkLKikhMJdAe4yLGNYjUXC7f8fPbH3n26i+8vnzO5fwt8+UFy/UUH9eUQ9EMbYw0teaLEYMxjtzmOCM0UQhVZLWuUJp5SaU4FnGWzGg/tiQJlHaa1vNselIx6pAT9PVhOWJQDGijkMqSbIgCmRmwPzpiZ7BLbgtqrxFNZwxN6g0GIQawJlOgXEywZHpOetniIAnEYzAmoxwOyYsB1uRsyZUY8LFhsdTS6MY3RKvs5aNyl9999feIrfHPKs6uaqr1CleCY8goN+RWwChJWN1UNNIQXQNWr7dIxCbAov6ssvyaNisbIXg9GmcsVhzSQL2oaKoqyZQFhsMBk70JO+Nditzyw8/fcnl+xbvzd1wsXtPg8UavaUjyO9ZYYlC2c5elnuJgGeZjdkf7nOw94PTgIcc7p+wPDpkMdxkNJuR2RAyqD22MTnQiQiagErsKtCS2IDmmnte+o30TIMMmuti++j7yr3v7j1obHY69jKMuYCF1oCRJIfR6jocTDnePONw9IpglK28xFtUztzXe1wgR7fzw2vPcVJRujLFZwmypqoWaQIUhx8hGxiK0cZM+qu1f/i2AfFcFgo4f1Y+UDbMym6i3gl+9f6O0jJ4tG/vdmWRdKtrP01762D7ujmI7HL7FFNpPr3xwON8Bkrf+1s6Km9e2s8pbdxed3EuX8dlKKfRPCOm03PrM92DZe7u3e/tETGcU5WwIUclaI9oGd3V5wbMXP/Cn7/+Fs+krVnFGVliKPKPIBowGE3aG+xzuHnOwe8zezhGjckJuSyzZJtAoae69AXOk7VPtHcv9iv4x1nrMDbPFJWdXb6jCimgDWAhWSRw1WO2J0WNtJJiGtV9ydvWGq9kZ63qOyQxWJPEFxSSImtJQUSVRt6OTsVsnO5hEf7VpCeDo1pfNereRo42ia06MIfmc6ZhTUix5imwILdP+Ox/gl0ZKvOP3f/3o+o0CZbjbcfqlk3Y7ui6QWKRV/qdpagINTkoyl+PMgHE5YVLuMnQ7FEWhPbAxg0a4vp5S+wXrZk6MTjOuWU6Inunigun1lLzIyTJhMMo5GJ7gsl11t6JHwbIWGrdubEtJo99OB3ZIGbrYRmRSubUnUMemixC5xEgbQkXtK2arKy6m73h+/gPfv/wTP7z4E7P1JU1cILamCgvEBFxeEnwk1EFBWqrfttaCyUEcJkATtCzZiEFoEK9ayXjta9VS8kDwyukcJCLGYkTSd05XL6pmmzGGQTGgKMruikiafEnan6Nil3GxQ5kNWHqrLq6xKaKl+zRYMluwM95jWIz1+vT6vFNIrRst1lrKckhZDMhcnjK80sVRQvCsmwXrakXdVEQTETEU+YjHD76kqhYs5jNWqzXX8wvqhcdmGc7lZIX2cPqkvRytR7IAxid9l9BhxhgltXIowYIVgwmGxmuWylir8mLREOtIIQ5XWgaDAZPJiNF4RFmU1HXFjy/+wmw+ZTqbsmimGOdARMdSaBQexJwMhzOGUTFhUIwo3ZiD8RHHe6ecHjzi5OAhB+NjhmacSLpURze2GrNRAzUWk9iT05XrzV0bkNLek32QHPszY++e3Sy8v4XJ72/T+g6MLmgx3SPGWJ11ooKrMhuyPznk8clnRFNxPo00zZoQLRiHT5rIBiCojq5vwEvEYSjKIaPRmOFwmBizN7ObwdOyXH/8tb4dYNn+aVkINlt0j6OAaWtW2gzwB7KlomM3doRzLUi+eQx9oHrHPt+XQt36TndvI7cebe6l92YB2n9l8+3vdEDk5kPZ+oTbAPw/1/rUIv+RD7wH+ff2t2XynsfJbgz49q7XeT15kpIAMx584N35G777/luev/iRy9VbKjNFnIIgCYbCDRkPdjncPeH44AHHBw85OXjA4c4xu6MDoFUeML3PNdvH0d7PbR/J/XL+i6broydQMV9ecTU7o4mVAmWnBK2YiLG6FUA0AaxKSSnH0BmL1RW5zclcai1K2aqApZP/ogXBm/Ymdfmli7G2ryMRHz0hhETQJUkxoW8tYmlBsxL86uZa9amuRfrMaDr4vlmrPt1B8hsGyv8+a/MJ0Abd9aJba/EhUNXKROxMxFlHbgtym2PFqXsVMwYm5+H+AEeBGMf/96//J+cX10RTaARHDFW11hJH63lz8QOYmsqv+F+++u+UhwWRTPubY8QYh4hLPYOJ9CqVQYLB2lwnvOD1GxijRFlEmuCpfY1BQVYU/cxGVlyvz/j22b/yP77/F358+ReW4RryGjfUbHDdNBRZhkRl7zbR4CRDrANviMESveqoGlOQuRzJHcYaoCKEtfbZrlfUoSLPHcZaohF80hTGBJWFMaJxAVLZRtDMsxElm8izPGWWlHWXaJNfaslcSenGDIsx12unpcLWpvIPg/EGK44iKxkNdiiyoYLLAIS291uvvU4Eeg6LoqQsB2R5ThMWSWZrc5M3vmZdr1jXa0IWQCxiMiaDIx4ef0XdNMQoPH/5I6/PXtNUEVfAcFwimaGJNfVqrQGRGJIcj+rREkOnvRwCmJjkc0yGEUeOYI3DmowYNItuMsPp8QkPTk95/OghEc9sPuX5i+ecnV9wMTujatZUTY03DTbTaxWbQGyEGAQjGc4U5G7I0fiUB0ePeHTylEeHn7M/OqI0Q6zNMWggKKa+Y2cyLZOxooEd0aUxdFnJHiiRJDUDSgRBy9je/5EbEU1JL9+D5L+m3ZTmkZacQ//alWLHNrsqbXmV4CRnb3DI333xD/hQs5guOJ++BYQsL8htBqg+ug8eE3XM+rVWBezvHPPw9CmPTp8yyicp4APBNwiCc0nzsaeHdKtSeKscv12E7wDJ/e16SLmPU1MjCBuAm0DtDeyruLKV03gfSN68IdAnC2zLx9ux/8sZ2vcTmNz1+s009e1t4q0vdXu79z3rWni6dXLzr/CBwMIHTG5TXL9nu/bBr/+U3oi+udf72eTePmF7D1DeGuabJzp9hxRoV91ck1qKvW9YrOe8fP2cv3z/J1ZhRsWCZbjWULhR/yD4muXVnNdvX+H4lslgj2+++D3/8Lt/ZPK7SedDx0S+2j6XG8fTVpd9ovxM/wWmjOR1WLJYX7NYXhOkUelVo2X1UbNl1GnVcUSMA/GBxWrK9VTB8rAYk9sCI5rk2FTSJt/NQnvFQs8va3lx+u09gUBVr2l8BVaTdMaYHl5JklZt0X0qarKmXWOD9rqHpusuRIwSxFmnia9P3O/7NIFy5yi8/8T3F1QRg3GOvCzIQsYyrKnqGhPXiCiALF1JJgVOCgSLswUHk4d885llNl3gQ+Rs+obgV1ShIRKVlVgqls0l764CPlQM3YCm9hzsnDLMCnLrkp+oklBaGmiwPTZWY5yWPYeofb2p9Lp1gq1RqSIrEGg4n73izcVP/PTmLzx79QMvzn5m6a9YxyW+WhObBoxH8FhjwAvNKpBJRmlLhtmY0XiH0XCPyeiAwXCHcjBBbAZi8DGwXF1xPT/n7OIN785ecz29AGcRCwZPMArqtZDT02r1RRGNcMagjIx5TpblWJtBW54RlapbgsXEDAFG5Yj93X3O5xnrOibcpf0T3ntKm2l2NB+opAEmlTb33DuRblIHDQoU+YBBOWI5vySkMu4QAz42iHjW6yWr1ZI4jCkiZjBk7I6P+OIRFFnB3u4Rey9/4nJ6zWK9ItSB6OtUEh+xxib9baPXL3okRMAhMceKJTOO3BQUrlS5G1swHu6wM9lnOBiR5wXOWnYnO+yMJ+zsjLm8vmB6VTG9rriaLZitlwTjCTaCWLDagxmDYKNj4EpODx5zvP+Ao/0HHOwcszc+ZDLaZ1LuU9ghNmaY4BJoT72kiVqtA8OxzQ1Kd45ToLHXj9ypMfZAcntLyo2Fvi2R7za4t7+C3QTJQJKU2zzfdmLaao6QWPMNw3zC44MvWS1X+AYKM2E+v6byK5pVRYyNBkZEsDajyEqGu7vsjPbZ3z3m8YPPefzgCwbFTqfFrZldu8lhxoCSam0fy1YgZTvMDYnD4dZ46U/73eN2DPbG2BZL9NaHbI7pFlhuj2HjdLS/49br23j9r2ftvrfvn9j+Tbo7butv23nv/t7e53hvfVxvk/45/O3ZfdH4vf1t2a+fRTbgZbOL2M5hoioXITZKGioryBqyAqJriCaqKkrMMDZgTIZfL5kuAs9f/oAzFt8EvnjyNXuTAwS2SnrbuUGETUXZPUr+VRZ8w7Kaq1ZyswQbiAaCqABraH3eqIS2TWzITQYO6vWa2fKay+tzjnZPiMWYSJH8Xqs+IUbbO6O24m2qj9pfLXgO+KhEwCGo7Kt1qaTeeII0tF5gmwvXd8tmDMaNDFWbPAESGDeJ5Zo0Rm+3En1K9mkC5Z63tLlht29g3UovjkkZ2iwvcHUOa8H7QO1rXKyQgJJWkeGSXixERoUjL4ZMP5sTotD8BNfzd1R+inUGpCZS00TPdLVitZpRmhG+gvgUzO4R+WAMolmZEBvtbRVlfDa0vcg2JSDbQa1fRqWXFIg5jJYLVwuev/me757/M9+/+JaL2Rnzeo7JFYxXvqapKkQizhmiN9hoycyAUT5mt9zjYHzM4d4pR3snHB4+ZGfngOFoBzFKEFH5mqvpO95evORZ/gP1yjOfLjQj1R2TOo96G6lsFNLvawlYaynKktzlyj6N7UAyUckiDEAMDAcjDvcP+OlNhlQk7WSdNEITyAclo+GYIis1+xkk+ceyGRKQwDqQwhFlPmQ4HHM+VyfTmnYi8Rg8q/VKgXI69y1z4KDYYVAMGA7H7O4esr93zMs3r3h38Y7L+SXrZoFEJUdrUWRo+zxixFrR/mNryW1B6UoG+ZAyG1JmIwb5kN29Aw4Pjtnb22dQllhryYxGcX1suPQrFnO4ulozW1ZUEjqpMK02MOQmp8xzBsMRe6NDvnj8DU8efsGj46fsFHtkdoDEjBhU2kpCivRJhjVuyy0OpIgmKWiQCL1Sjr4HlFvws9H+7k/IXdquY0n/tKOJv0W7CyTDbcflJuzRQJJJVRCGzA7YH57y9LjBmJJJdsi7i7dcTS9YLGfE6HHO4pwjz0sGgxGH+ycc7Z9ysHvM4d4J+5NDLDkm5ljJ0Z62tqd4I2V3O/XQOoo3oV4/o9z/0jce3CAA2yrzvnV62pR2O2Y19C3Skn/1P3sbJGtrwjaU/pB7+x8b6f0AwuZ7bTLAt4Fy5NaZ6u3tZtBq886tcuh/t/17wOuHg9x3bX0Pku/t3tLs1KoZSMr1xUbLriXirKEocwbDkrqaIdZji4C3uk1oADzGQp7neIn4ZcXF9VsMQmgih/uH7Ex2E0A27eoPvZ//nEDh37ppW+NiOWO5VjUUsQpGfYwdDaWEmBJO0ESPk4A1ykOzWM24nl5QN6sOxLakXaR1KkRoQgM0GgzuEXG1c2mIDVWoqH1N42tNxGG3ALRP4yqQKl1FsCi5sMXixJFLTmYyrMmU18a0KjTpByC29G/2ln/yqdgnCpTfZ226ayOQ3WYZjRiVgwqQZyW5HeDqAllDaDyhUXp9iYZMsgSxHQ3CF4/+QFEMqU3gxdu/cDl9hZc5Vb1iXc8pciBa6rrh+cvvaBaCiRk88RgbKfNhcnYsbXdyIGKs00wrEIOW+JmkuhRi7NjkLIZAYL6c8ubdT/zLn/5vfnj5L6zilFVYUMUVvvaYzFIMBrhYEhqPrz0+ZIyHe3x++gWn+w853XvIw8PHTIo9Bm6McwXGZERJvbJG8BIY7Iwp3RjvhevLa64uLoimJoY1IQZwASMRI9obEyNaQiKSbtqIy7TXNnOF0tmTadk1BrwSAIhEfBRGgxEnh8eUeYkstIdYm7bV6R4NRuxOdsmMZvy1xGTb9+4Wj6iFIggUZcl4vIM9Vx1rax3RK2OfIbJaL1guF+o/W4uGMByIFr8M8gmnh5a9nQOePPmSi+k5b85fczV/y3w9JRKpKk+9VuBhjSNzjkFZMhgMGZYjhuWYUTlhPJwwzMcUdoQ1mTJOugzrVBpMj9/ThDXzasrVzHNxVXEewYvgAAAgAElEQVQ9r6mixY4n2AKqdcVitqQRTzkZ8fmjr/nq8Tc8Pf6co+EpZTYisyVFHGCbHEIq/cds+jijaOl160cbNCJtdCrtAhC9E9yWmhKD9kRHj1i5Mfl1Cr5sSmY3Tv6nOU3+V1r4wN9uZkHTs8SeL6C9RqleKoaQSrPb4AX4YKhqw+7wIePBEZ+d/B3T+RVX0ysWqxlIZDAoMcbiXN5VaAzzEaUdkbsSR473kYjRqhTaMaZzayRind0cdX8QxLbcupervUHIuPV9O0b1NgvsN+cg9rPQ22Bzcy7besHYPd86nO5INiXfLQ9gKq5IMO/miN5A6T4M7LcCsZ0LuhvMdzdj+33vOA23PnHDRLtxY+/YuH9wv7BfPrjJjbz2L/Zp37S+m/3+g7l3xO/tb99+oerjrndIxGBAAj5Eal+rrJDxFNbx4PiEb373Fd+/qni7umTh54hTEtvGB/BrqljhbUBiBtYRJSdIQ6BSaSJUcUQSSNoOHqbKk/tF/VdaVEbyxTXraqGZXIQQtSdZk02GaBIOSMovIakxGAuNXzNfTmliDRJoM/xEQ4jKm9NWu6oX3PRIK1OOOGrbYVWvqRoFy7PpjNlsTpMIj2tfUTeV9i5HZZ41xpBZq5WatmRS7DLKxgyKIcNiRFEMtDLSFZikjqIl2ZGm8TiLytF+gvYbB8p3ZSBuvn47zh97i2/bEywYfB0ITSQrMjLrsNHgFzVNU9E0NRC7MtSgcnRYkzMoDCf7j/jDl/9IkWc8eym8u3pODAusZEiKBUUaFusp7y5fkj8r8X7Bqp5yevyIUblPbi3KERuoWSEuYjOboi8KVG0qhw1RM95NWFPHFavK8/r8Bd9+90+8evec68U5lSyoFXHinCOKwTdCCIbMjtjbnXC4c8zDg0d8dvIFB6Mj9keH7A0PKMwAhzq1Wq4BKlcVidQ4W1AUAwbDMWU5xGUFDYE6BOqmRmggC0pI27sM3ZURcM5RFCXWpmhT1P7uriIEPcfBR8psxP7khNJNcGGI9+o0WjJEhuwOD9mfHOFM3jmCt4NTycnu6KaVsGgy2CWXEV7WOKP92ngH0VKtGlarKgEL7aWIISDY1O+rICHPSwblhPFwl53xLtPVMat6ppmexkKtTroR+/+z995bkhxXmufvmpmLiEgtSqEAkqDq5vTMOXN23mAffF9g5uxyunsoAEKwtMpKEcrdTewfZubuEZVZKIDNZoHMWycrMyJcmFuYuN8V38UoTVXVVEVNVdbRMFPUVMUkAgup8DmPQyk8JCtel3xHikIHCrNDoXdQMgW7xDVrQFBeMzEVpwd3+ezeT/mnn/4XPjl+yPHuKRPZwVChKFBWI6lcV67BGvyo09K+JwxlJ3rQK4xK9+SZlkAGiRikr9N73Y45tkBvztbbffVD5XrN6SZvMgwgeRjPcV0MyfDW5x6JgGhUCBipUVqhtDCp95nVRxzsrmi7BlFQFAXeB5RoqnKKUhqFplQVSkxkvBQfPRBBpRrbcazEe123OY4B5rYn+H1ILm/622HTWZHLf49H2nZ/bfuHx23azose2jVKtX7nittXGe50QwGm677CsN3u7ZeBd/96vwTYLB4BQ9TVd0zEv9pcvV0A/kayHTnxl5z/l1znP0I+5Fm+b3uvm91bOudNE0+2P7xpfflQ2TJEjZbJ4APOd7HihMTINYfHe48XODo84Ve/+GekdtQXwutG0YQr1s0S59YoX1CoikpP8FZwPbGroaqqRCSbcqDTz5j5uFcabnyum1bJm875a4+hj0fr8N7StCs61+CxCKbngVHagMSoR8QTrMc523t3ldFYOtbdAhtaLB2KJn4zEnAk3hy3omkuae2S1q5pmoa2bWjbCH4729J2bQTKXQTK6/Wapl3He3mHdRbnbazOk8rZSKoeZMRQSMlE7VCbKZNiFh1CkxnTyQ67O3vMpntMJztUKVVSKRUdaT3RJtf8zn//pevUf7x8xEBZbh7fN9RjHWLqh2vEHMwI0rwNBDeEMosEGtfRuQbnu3iGCBJUIn6KJaIsMJ3s8atPf4MWwdqW+dUcFzq8UgS/jDVzRQjiWDTnfPv0C1btW+bNWzCOO4ee3YnglcLiaFgjpccUueyTRqsILoOLYdatXdP4JW2YczE/5/GLP/HFN//G3L7BSsu6WxG0QpclZVFhvdC0AaFgb3aHz+5/zs9/+is+Pf2Mo+kptUwoqGJ4uVf45K1VojASLVtd6OjwWGVx4tCVQlcGVRpcF+h8DO9W2qFD6EtYxSjcWBc6eoEFrTSFKdBiUAwgOTm4esdJ8FCaGfvTu+zXdzkvzmlZxCllSrTZ4c7+J5zs36PQFT0D41g3zteUoSSMoJiWM/Ynx8z0AQGHChZvG7AaLTWhU/huFNiXiMiUirWD88QWFFrXlJNYXqH1p9jQIiKUMqWSWaobHfc1JSYxh+tU0iZ5pyQydTvrImmbMggBH8C7DqUVWiqmhWFvesLh7j32Z3dZX3Qslx4dNJOyYrY345c/+TW//OzX/PLhP1HrCToUiNWRmE3VyV6gkBSmEAKELjYwRsnLgAdc6Md/PrifSxtKdgI/qY52T7kosJFTeqNX8Fb+4+Xdfu6/p5zX6n3PahlZ4tMMkSKVO4tj1wSDKkomxU6yRMfjm7YFhNpMsM6nNJECyWXEVMxJjgQvIZV1C5EYUKkN+Hp9u7+P4vQhCthNytvwqo+s6A8dvNFyXSTEyLP8vjtvvnf9dwNsOWLH7d5Sske66ZDr9Z7tsf9v62ph2Do/ZGrezt6/RwmjX9uA57vO+1iA8k2GrpuOyXIz2I2qQ45EjHtazyC8ZTC70Uo2TkO6NmJiy2h8rcEzzdjx4jDU3QRixJy1FhGD1grRFZ2DLhlD93ePmU13MaVi7+2MF/N9LhavOb98y0VzSawgUlOZGY3taIKlUDWzepfDveNIvIqMVsOcZLe1NvWEtOMnGxsy37dOb6djvWtQf0eSsXL7TttXCKnPxnwq193jQ+SmJwjp/+Hb3baiXmdQ8DhvWbVLOt/ilSNz7YSgUFphtKYsC5zrsL6Noc/eYUNLaWqstCzdgrVfsfJzGm9RocAHRRcCTReJwi6Xr1iurliuFsznV8zn0WO8Xi9Ztw1t09LaBms7rO9SeqqA8r1DxPdM16M+lhQJ6jViDYaKUkeH0LTaiSUnD085Pr7D6ck9Tg7vcLBzSFHURKpNtzGyRle+4e+PQz5SoJyG3rXx7MPg6xWOpMWExDysVA5zju8rMRS6oDIVRWcItsFLhwSPF4ujxYYOh8Mm2n2lI3lWSIuEpiSg+fT455R6wk5xxJ8ff8Gzl1+z6s5QpqOuDRaP6xoW3ZpnlwuWnDP35zy49xn37jzk8OAEVRoaGtS0Q9eedbsGgcJEBu7WdnTtmtX6nK69wPtLvn70r3z1+EsW9g1rP8eJp6onOA++U6waT1XucGfniIf3f8an93/Gp/c+Z39yzE65RyWTGPqMxnnp00u1zjXPYr5LzntpZEVrlhT7gtkXmHjW3QprHEVdg1iUCRgD62aNtY5CKfAK8dHAgId23cV8YiJJmPexxnBRJPIyhKIoKdQOUt7jf/zm/+bBya94dfaCtm0xpuJw/5TPP/0VD45/wtTsoIkEaT3fTx4yyXtlVGTa82iOJnf47PDnvNx7xZO54fLsLcpNKM2EvekBdw8+42T/HkZpvOsIvqPQugcYIgUa04PGGGA6oVAzQnCQiNlUiKAhgtMQQ7lJ5bdGYczBx3z1QoGIR3w3eP2IDNaiBKNr7uzdR31q0L7gT9/u8+TF1xzO9jg5Oebe6X0e3H3InaO77KiDlFuvI2shJrajiPkieb5ISH2Wa9wNzYqL5MZadT0Hbh9+nZHDhrdw66L5rc19/lY+WHJ/bm9W250o73yute4/EgRldEp1GH9HaYwq0+/zIiSu0/g9Z2VkaiLTtRKdxjQpBymv1SN1UCXgPUJy26RiQ1uvf4Yb+yPnPfVWMhiUknHpsZv6KEFkGXtI6M/pc/G2czrGz3JNe69778ajvjNPS955KVufXXenEIbniTaweJTPRhJSLfRs5PruO7+nfaNx+Rflnd187qbqJFuz4LvOvpVNSeAlGzYRBu6I94CUHrC9D/hkhUzexQYf0rL34al3bjUGYnAz/0VgKPuWf6U8Tjdy0Kq4ykXDnwM6Otv0Rv7YXTG6DAAv0A0bWgippI4GVFKqRiEcYQQ5QxgsVRn7irq+X9+xoWXDRiJhLIvs+QWFp1AKTU0Gb954fnLyG073HrCw/xXnW1brBeeX55ydveHt23MuL65YsGJSwd3TB/zyZ//Eb375G3anuxgKYoHIzHuduJND3vMThJZxexOgHhMl9uWCUmRNn5o3itpJOkQeBxvwLO1RePDOoXUsRRoEnI+5vSDRACyJoTmVgS1NEb2zvXdm00g87usheC70LQgwpNqkc/p2JawReXYk6tFpEw3ODfcbrbUWx6pb8fbqDY1bI0V8fu+F4DWFMRzMDrj34JTnL55wsT5DULhgASjKkkY1XLgLXrbPWV6uWV6tWS7XrFZL1usF55dvWayucH6N9S3OWjrrsJ3DWtdXwUCBLzxBe0JweMVQ2rTf50b7Y6A/N/pUNKoyeNa0Yc7SCxfrAtOUPLv8hp2X+xzt3+G//ct/p5r9ihAchZTEwpIpwjEM/drfZmsqXBuM9jeQjxQowwdv2f1hgfHskqxIhZDq1xYY0WgE5wOolDovMVndBttPDx+gUDmXL/L+KTGAYb8+xhxVKFdifIVyBa/OH7Fsz2iXS5QRxHg6u8K7FrdoaZ6vuWje8mb5gs9/+gsODo4wpkQXFl2C0kTPDArbWbxzKK1omksae4H1l7xdPOVs8ZR1uMSywkmXFl6NEs2k3uH48D6f3P0JP/3kV9w//ozj/XsYqki0k4FUnuwSCBLw4tP+FnChow0r1uGKt+uXvFk/5c3iOa8vnrH2C6SI1iQvHucCysXcQyF6T+NmEssgaTQ46NouhnBs5QOq9PXE8FCNUFLqfT6980/sT+9z7+CMpmnQ2rC3e8jJ0Sl79T6RTVddjyEk/qeSAi8IO+Uep7sP+PTkF+i24q0+Q0RRV1P2Zvs8OP0Jh3vHFJJqzG6sozls/7qtrGJIXoxRCHny+3Hoq1eE5F0TJYiPdbPjoZ7gkmcZKJSKodFBYSjZqTTqwCBWMTMTHhzeZ39/xuHBIcdHJ+zu7DGtdyil6ttKD16up+S/aVa9WzdvY3JtXWHcG3kxldHn15xyK3+BfP8OlC2gNygI7z92s15mBsuSNqwRUnyHNGz0h8CGp1auOe6md77zUTNAvm7yj2648fF2A8ag+TrPzzXNGT369YDtBwzy951yrRPkPXfZiqeWrWceOBD6b/Q7m/Dd8p87sW+XkR8qaZz3hpSkKW+s26NDGd4OG29uj/zRbMjRVBsX+rBv7INx8ggkb1DbvdOsm8B9TksZJnOu9BCjbRwiLgJmSVRJIkgIOE+MVHMqGv5VWmN83MdjKksG52Oo12s8QzNys/q3PqAHRnkfMVJoIEYKqMgXMzpcA3t1xU61jwv3EQKda5nvXfJ254zz/XMu55esVmt8gKODEx7e/5STg/tRZw5Jj9ogFszlgSRpygNLcwgBowU12OWTfuo2vqsQSMS2yVAjKhJAJV0l7ziDN3Mw/EWyXo9Ld+hHgcjGsf0J27JRDqL/b/PzMADF8eKf2xVXzmFW9If4HuWPtpUw3DNtL9Z1XC0vadyaoNKzJXOEoqBUFdNyRqlKjNIEpfEm1apQjkU3x52/4Isnf6QwFZcXc9brJW27wtkVV4tL1s2CEOywzudqMwiRUCsZzBNXh/cObSSWBsX1Dsf8O7ZR+vOCCAFHJ10qBxXHiqbASE3TLFi2c+arKx58cpe7d07RU+mnzMB/Hdtz09ckeXn5CBb+jxgof6hsDn5Jlro+3JVICKXIbMsymmakUIMY3hASO1tWmVSI19EpXDbkBaoo+OS4oKCkLqaYbw2PnnU8e/2Kg9MaXSqCdmAUVhrOrla8uXrF09ePkdrx8+KX3Nu/jyiHKgJ1XRJCLIO0WCwxWlNXBU03Z9We04RLmnBJyxUtc7xyON+xahqM1OxMJty7d5fPP/0Fn3/6T9zdfcisOIghGQSc2JECLGmPzEXqk0UJR+tWrOychb3g2Ztv+ebF7/ni0e+4nJ/T2Y7ZbErnAovliqZdY7RQmAlaFRiJYcSZJVZ8DF93tqMNDZaWUurUqWADGCVoCX1ZLKFibzJhf3qXh6cBa23cwEQwxqTlZEuunUTZTCLUesLh9ISf3v8l+5NjlstlssiWzCYzTk5O2N89iIsS2Ys8vqzqr9eXnNnSu7NFsq8rmMspxX0C7+KCo7WK9Z5VtIA673HOxfxPHYkScvkwEY1SGl1pzLHmwfFdiiJGAMRoh4GVt1cAMlgmg58fusJ813lyw9+38mOWd6HTXwCm/qrD4gPH9g1rw3cc8MMu+x8t77nJ9kdjZvHrvNXZ8zQ+Frj22Fv5R5DsPrsGoN1kCXrn/NHYuZY6/VpLz/XywWRwyeD8jnH25mN7wr5UbjPqeMmQriK+8T6GLBs8SgVKpZJu1ILoSA7qLMppVIhOF8aG5QyW1ea9B4PUKPIl9dW7mkx+nqHf3jGLyQjkp2PeMZ5tqMOx/KYJUyBg6DDllP17d5AHoLSi8xbrLCFAoUoUVYqUS9fPxpUNW3hcQ1wIWBt1GOcc07pEqRSNl5QiHxxKZCgd5Dyus3Qu6UpaoY1BaYNSuYpK0skTow84tAilKfAu6YtKIVKglCH6sQMuOCTdq1R16uOQHBnjZ3jHuzLqvxFXTYoqjAGYoTcVxLrAUdNSIsTU2+w9T+tqBCH080zFY0MILNZzGtvgxUftTSm0REeLd55u3SIBCm0QHBnT2s4yX6x43Z6ztg0hCIvFEqUcpoCyFKAjFB1tG9MCtdKRkRoDogheRX0/hD66MXgX0yONjtFHtou50c72XmSjDCaRD4uO/d3ahs47vIdK15RlybSscCuHX3fMF285v3zN5dUbptWEQhWEFJ0ZnTrvzuPvCJb7m8nfAVAeRKAvqB3IykMcuEonawjDD3lCBHDebTggejuKQHYxhsQopwQm5ZSTw1NU4fGyQHSDlzUdc7p2jdE1EgRn4xwSpeg6x5dffcX5+RUnhycUk5KAZbG6Qhsd6yWXoBV4Wl6+forSjsX6nMcvvmW+PI+ecOkI0qFKh9EeUzuCXnHVvObp2VdcLd5SFzsUUqNVSWFqqnISwb7zWGfpupaua2jaVf+zWM5ZrC9ZNJdctmecL1/z9uIV1nWghNViARLDfOqdndgt3uGsBQ9aBbAC1hGCwpgG261p2yXWrqjMBCO5BnLsZEcMqRkrevlHa/2OkvdDlDujNSdHR+zuzLDWpWsbSlNSVxPKokwGwUAOOb7J43Kdih4NLgykB7Gx0WCKxHDlEAjK96bRIALKxPJSeZylmtBD+YcIjCd1BUSW8bgZB5xLLIkMhElDtPNHsrrcyq3cyl9d8prYe5hCNDJmQJzX0TGQvgXJ/4DSe9HGXBLXHCbbx+cD3wVpw4aX3x17rRmdezMYlvceu31e1szovdjXSYY1GSgP/3SKnpIBBwpoDV4s1i9p7Yp1u6K1HZPJTiTgNBVaV6igewAUfAROoiWy+aqcnjU8UUx4SBqnQB+F1jdUhg7v00E+dA+/xhgh2x8nr6Gzib1YIi9KIgLTSiNSJGcFrJuOMpMvZXLBkEOncxtTCodEFuOgFYQYTutasN4n/hU1AGdI4NpH7psyhSSnyMZOLB6LCx0utHS+obNrOrfG25ZSa3arWR8KTygweoqWCUKFR+FCwHeO4AIrD7OqpDTJQZbH1RZGziaNrN97O6oMobKeFp0uMUgqOkEGt1P2MPeK3zD+FIwjN1saVm7JYr2gc230vqfQfQngXMtyOefsrbBez7G2wbomMl/7AMGgtWZSFakdmklZxzEeLL5te4dJpaq+/1XQhKAiQbENvZ6pJRonRMf6zt3CpmfSGFEYVZDnuCJFTVpFzDgUaj1D4+icQzqN94Gus7gmQKfQXiNOo7yhoMREZqiN7PRAiEaMj3w/+rsCyhsWuUAPlJWKCwJ9eIf0QA1ivWKbwRqbtrxB+WBYeBAKXbAz3UWXns49JKgGXXqevPyG88UbVDYvSgSQAeg6x6uXr5kvlry9fMvh0RHL5SJazUJkO1YmIMrj6GhWC168tqzbK84vX9O6FcoIQcX6aEoCKIsNKy6Xb/A45stLymJKqWsKVWOkxOiS0lQQYtmlmLeQWO/auCk07YrVcsFyvWDZLAjKYaXDtW2ccKJI8UeR/AsNBJy1KB8ttMpLzP9x0canAK2E4B14i8Kiknc72ixzSAgbADl7PTZqsP7A8ZDrI8+mO8ymM3orrCi0Uj1ody5ZI6XPUmSYznksXG/gykYZ7yONfmxu3DQj0E9AWSCk/JzQA9xiuI4frRdhUDqMzoRgQ45JyLk5Gw2StBeEPlf/ozHJ3cqt3Mp/qly3dv7la+qt/PhlBHLfd8jGEdeB5O33k7zjubsJ/N703k3nbTfwpvZHYDqE4/r+r8FQlK4eHCF5kptuxWJ9xuX8DWcXZ1wu5xzsH7K3c8Du5ID9yTETsxOrd6R845AixGII2eCA2Wz9SJvY3q/Hz7JBLHjzs73/9XY3JaCbDAZKK0L2pLtsuI9OmkhgG4BYJnO4fmRhjq0aFJSoW6c84xAdQj7nYYehL7K+EhC8CEHHfnPB0XZrls2CZXPFsr2isQtau6DzK6xbY/2K4DoKUczKGqNKjK4x5Yy62qcuD6jKfQozQ5s6faf5fhkYS58T/n6DTVbehu8jDuOsl8ZHU2E0vEP8fHQRQirnFABU9HS3vmPeXXCxOmexnuN8RyaPk2ROca5j3TguLi3WLnGuxdmm71NBRQZpXeC6xDlBJIMNAby1IAYlGkVABY0KJgJlD8GBuHhWLPVUUJjEOZKMSlpFQjFtFFqnMO2Uwhq9+Sk3HI9XgbbraKTDtQ6sxrUBcZpS1cwmu+zUe9TFhEJKdMp5H6Jbk5lCPBsRrx/h1vR3BpS3JU7yWD93CAkJCUxk7533PoWf+GHMbw1+IOViDO9p0dRmxp3je1RTxfHpHuHfPe1jy3x1idIaU+iYb9w2rJoV4gLIihA8b8/PcN5RT8qeBl4JhGBxIaB0oGmXvDlbx7ppOmBDYqhTCkWgsy1N03JxdYWWFxS6okrh0CqYaPW0IbIs9wt2tDKK8ojKGSGe4GI+cedcrIlmSozZ7UNJXIi08bZrWTcNceEVpvWUUhd46yMjrkAhJXVZM53OqIwhckUFwMYFNICoEqOEUESwmDcx5xxd1/XgVWsdQ6/VzRbk6yXmozvvUUal2m6q50UXIhuvDzF8KI+R6xSJ66mt0rgIkc3Q2jYaEnQM+Y/H6xjxzyhTJ4D1DiWaIhfOTuNSy3BQrKPtgBjClDeybFDox0E2AKUNwiWjjzGqD3m6lVu5lb9PiUa6zdJfRVG8E2Kdj/N+bMS7lX8cuQns8oHK6fZB14DVHjjcBIaTx002X78fIG+Dmw/d0wbvduQJybm9EcS4AA4LWBSwWF7w/NUTHj3/mm+ffMOLNy84Pjnlzsl9Hpx8yi8++zXFQUkhGrwQsiFaMQLJSafoK5tf09prmy+DzilEL+h2Xbfx0RuGrhvAn9B7eERS2SEldMHS2Y6m6RCt0aagKmoKE8Nq9VjX6cF7BlMhouwM8iSWnHRdQGuhMAORbggB6xL3T9aLEldCExqumivOzl/z7OVjnr98xIs3T7mav2bVXOBljSiLNg6tQazHrS07kz12dg7Z3T1ld/eU/b17nBw95OTwEw5371IWFVKoSFQrva+376W+VGF8MdaIQQm6KIZhk4f36JSspwWG7oBkLMn4OkTTjE/Ghda3zO2CF+cveHH2jFUCyrEPXWpBJNHtuo75fI3WlkCH8y3GRGcXXoM34BTtqgGvMarA6JhaGnxBUWiEQLtuCKJBFSAFEhTKCwqN1gWFLqnKiqooKYqC3d0pO7MJRWEoy4KqqiiKAq1SpIDzWOvoWkdnO9btmvP5Gav1irZsWcxXrJcttrFMigmHs2PunT7g/uknHOweUagxOdyQjz6e88Mo/vh01h89UB577WVkstvIxVIJKG+M/IHtORfEHnuUN26QJo6gMP2EiPkURhyTYoqoI6rS8C+/dsx29vni6z9yeXlBs+iophqjaiaVorMNtvMswwpJobTaKJzvsLYjrWVIymnwLtBZUhJ9wLkYVpcfRSmDKjKZlBDE04U11rYR2Kd6xKJU/1RCBMgIkXVRIlRGeSQECi9432EbhVZlDE+HmHvrhSIY7p0ecXR8xOHhAWevX/P2zVuW6yW+afEWVFlSmx32pgdUxSRNuCFjR2tzrbcjA8CiKHrm3nxcVgY/TOJmrZRKZZ6SOTAnfITYnyIKLRoxmZAg5yRvAub3Td24CQnBxHtKynt3wbJs2z73prWOwtQUZhLLiiVubnzcJHt6lZBIMpwlhEjsphMoHt9UxYTn/nkze7bWyYL6vbxGN27rt3Irt/KRi1LqHSC8Pf8zkB4MgrfyjyHXfdcbStOmvIO7vs9YSSD5nbDorEQlnSyM3iOMbnEd6HtP+7+jJVkBlwzMJaaFJUcjnghIwHF+9ZrHz7/hT9/+gVcXL5k3c1av5lytLriaXzLdmVHVU/YrjRbpmZZDMshLTqvqd/IPbGsYedNyF/Snb54r42Ouze2+xjAhDDnVEr2QWgumiiRaSkWSV+d9NCgkYtlIb5x0tmQM6F2pfYilQIi5rhHRxrKrIVg8Luq44vHBMm+XzNdzLuaXPHnxiDcXr1k2V1wtz5kvz1muz+ncHKdXIC1ISxc6sB5sum3X0szXXDZzzPkr6vIJe7tPuMjKL1EAACAASURBVHP0KfdOPuN4/y77swNm9S7jFAPJtaj7jpRxDyVHZjSoyLjvR5iC7Jxn6NYN244MdqJAwIvD4Zh3V7w6f8U3T7/m0bM/s25XOCxBO7zPTg+N0Wm0BotO1Um8T/3pXfQIewcuIE5QwUQPe9DECE5FRUmhS3ZnBUUxoS6nTOoZVTWlLieU5ZS6mlLVE+qiotIlWhmKUlMUsUSUURqtDUbrRIyrosPNx3x+5x2dW7NsL+jcGms7Fssly/mK1byhLqbszw44PbrLvZP7TIvdmBsdAQsZg22aejbL+g6/Zeu9v4386IEyDABrWEZSPooPoBl5lDdZgIWY+J9zujKVl4wNovFy9PzHohCV68fFnJdCVSi1Q1kY9MOast7BWcWjx3/m7O0bfOsRLRhV4sVjfYtt42RQJtbFy0n1LgBa0Cics/0E1KMB5l0YQJ4yMb9Z4mLnfSaPih5yrbLnMT0IicJfQowhSaEPIUQOwRhCbXBr8JZYOiaFakwnNUVRUBQln372GZ88+IT7d+/x5Z++4Bv7Da/WrxC1xiuYlXvsz4453D1hUu5gpASGus2S2huVu03PB8S8Oq31O2HY3zdsUImOG2LIXIkyWtxyTrAa6P2JBpFhjHy35NwjLZJIHxzOtyyaOa8vXyMm1qherhqmkz32ZkeU1Q6lmpCNNpkztOcATKEP0ucGJfAuW4tIgCHfPv98cPfkmzGYUG/lVm7lxyQ5XQU2DcTjOq35mAyWb+UfTX4Y2Pzex2bUce35I2C8/VkI5PDeD2vLh7c9758xJcknL17c74JYfOgIoeNy8ZaXb57y4vUTlm6OLz2X6yvW3YqmbfnsJz/jbnefWbULYlCJQdj7NLck6ochUT5xrfJ/U78kGXvj89/vna/Xe+wHMAs5zry3TaTc5CKFi2cTvfce511MVUy6mXhGAHkTtMRvwSddNGrPPnjARQOEWIIKWNewbOe8unrJi7cveP76Gd88+po356+wocHTJuK0FtEdSltEOgItngbvfCT9UiVdWNF1Ht+u8O4MCTX1m5e8efuat5dv+NnDXyDyE6Z1LEUU2DIKjnLCx6Mx9nSA7OEVYIQXood8sA/0etZoWIeRChWS86kNDVfrK16+fcGfn33L05dPaF2soYyP5UVzaLvWEkPig+tzu7PjjJDYxR2IFypdU+gpdTGjMAajIvP5pJowqWZMqwPqaoe62mFnusdsust0usuk3mVSR6Bc6opCDBIUQVw/L6I6O3D1yEZmcTzW02KZx+8oWNZNw2q5Zr1YU+oJ03rG3s4BtZmgMXTWxjmhck3X7TE99ijnmt0Z0/3tI59+1EB5HEodw0sGZ34IQ76EiEJpExfL0foRB30OK8jkJ8Noz697EJ5nhh8Wnch+p0EKwFNquHf8Gcf/1z2+Ov2SP371e/74p9+znC8R7SknBaXWuNAkK5fHO4/RBVoJPjiKFGa8XCwQoChKvHUgitJUeATnwTqHdwJeoU0MGQnO0bUtBE+hNZPpFKUUTRPDvSFkZzoimfUx9RU+hmgEwUiNYgK2RFDU9ZSff/pL7t27z/HRCZPZlJ16h/1yD/XJjJ3ilK/0VyyuFgQb2Jntcef4HvdPH7JXH1KqKUKBYMiU8N5nD8jwnaqR53QcMjhW+j54fEDitxxKYShUMhCMl/s4HXvm6G3CjfdK3HxjHcaAx9K6Fcv2iuevn/DF13+IOSrOcrVYcnhwwr27n/Hwwefsz06YiO7zfLwPuBDHWCTTiLlQAjjncd7H0DGVibuGdg5RFd/Xi/z9+/VWbuVWPh4ZGxCzgfEmuQXJ/8iSw4P/uibRm3aUobCOJE6rbWAnm6+vvcgN739HQJQQjdV9OpOQDPYhgmVamm7JqpnjQks5EYrdChaWYDtav8SGNY4uhmsHiwoaIzrpUtlAnT3KSc3/IKKi7c9l8+/+kbeu1YdqbxsgUn5u/3Hoc3YDEkmvEslUbG9MEwsqkY4pT08qmm0KGbuo7CyC+GHkAJJKY12Htx1BbMRD2mNZc7Z8xdOzx3zz5GuevnrMq7cvsb7FFy3et9jQ4HxLCC3iLBJsKtVlh3uYmFNrO3C2jcRkqgDvuVp3tLZhtbpEa0ddKU6O9tDUKEpCLHI9hF3nLk7GA590KSGAiuWsom1AbYJqSd0gyemWiL5ijefhekFH4i8fHI1tmK8vObt4xcvXzzi7eIOZJoK54EA0serOQNTqnY+vxRGcxVQFRlVYL3inUVJysHfC7uSIWb2X+HemzKYTdme77E4P2JkeUeopRlXR66xKtCpRiSlciYlEZSFGasYIieTZjeCp14dDAsqxGougVEDERKOIGIx4inLGjoGwA0ZKClXE9E/RkeiXGMnQ1z2/dkpk/Jb5BSK2+hh2rB81UH6/bFrTtdIblol+WUke5ZjXmQkLGP3OYGTkwQtE6046X2tNrFMs1FJgzARfBD57EChMRV1Oef7yCWcXr3ChwXtLoYSAxXuLcz4uPn39YZ0Y6gzaGEo9pfMdEhRGKg4PTymKmourOavlirZtCT5uQzE7JIJ25cG1KUfWFj1xRZzjeWIAwcfMGgEtBYXUzKZH7FanHO/fo66mTCc73L3/gKODY3Zn+wQVc7QVJYezivLuAbvmHs16jfeeupqwN93nYHbAtDxEhRoQQtD4IJG4Knm7YzT04FXeLmHyw9laM/hlwzImYQhNzADZeT+E8aci8R+mUgTG3l4JgUDHm7fPefT0T3z96A90oaV1HYvVmjdXR1yuz1n7FXePPuV49x6zap9S1YjEGo2R0TDWF4x5KYm4QekElK8LSRmRZqS+Uz2gvqbNG79v5VZu5ccq3kdDb1EUvZExl2wBNsBzDs2+Db/+x5MtWDqUz7lRsnvs/R+PD8jK9/uvGXoG4e33v1OSQZoMBLdtvdmjHTdyxigvew1jil3WL4bHiGUyLaYSVqFhtbyktR0SKlq/woY2hszma0q+lvSRzRH/53tDdD5kEO3j+317bwAMN3bDh83XsPUihJibHVK/Z0+3EBLLtCX4DojpfutuhZGCUleILpPBPuq8OIZsLwUB14MaVKpBTSwJulxd8eriGd8+/4pvnv2JF2fPmK8vaH0TwaE4vNgIznTUQSMWz1EvihjrLASnabyi6zzOxVKbRSloBbZpadozXl/OmbwQqsJRFYFPjj7lYHpCoEAoiHAnjfowcKInXzhBLNASiClv2ck21K1WoFQaOzp6q6/5TjJuiP985MAJFutanLOUSmGJTiqtdczx9j7S44YY3elsBMrOOdp1ixMBW1Lqir3pMb/+/Dec7n/CrDygLmrqsqKuIi9QVUyoih20KhA0hOFHJIJkJSmPnJCwRzZeJa9VqrMb8nxCyCRt4gNBDAU1IWhireyoryqt0Jh4X0/P66TExP4LW8aK1Ircj7l+dtbZ8xF/653q7wwoD4tt9CoPYEvl0OXksctfDylcNtZRHlnmspUp5yjn0JPoBI65v8nqpJTp/46netrQcXxwl93pHkf7J3z95y/56ts/8ursOU23ACzOx1CL4Bym0BQmJtJ77+k6R6k1VVExrXZw2mOUoZ7M+Oknv2A2O+D167ecnZ1xeXWB7WKejUggaB8BuHd42+HxFFLGEOvMxixqg/xFiUIXhtLU1HrGYX2Xuwef8vmnv2Jv95C6nlFUVbRQhYIWhwsOH2BidtjZP+Xu/uc43+G9w+gCI4YCkyapZHNbHx5uilgTOEcEwAD0xoQzOQT7h4yHHFmglPTAOO8kG0DZJSuqGucob8l1TZAhfDt6owHxvHrznEfPvubFmz/ThYYOS2M7FvaceXvOsptztbxgfW/FvYOH7E0OKKXGo/Do0dIRKSqVFkQPlsx3iXrow9gHoPy+JeYWJN/Krfw9SAbKeZ3suo7FYsF6vSaEwHQ6ZTqdUhRxb3HO3YZg/4PKoIQm/ScDxtER8dc1nsuxCOQ41NB7eaXHqTfcnOHI/Lfa+Pw7RYgKmLiNt969lzCUW0pPLOPnHk6O0EcSOAiYUtOtGi4Xb1FGYwRat6Z1K6xriSCZ5I0jEZVuPBQSkmd5QOFsumZl8L+MniKH735waekbZNj540368pHBp1tHr6b1a5btFavVFcHHmsfihEkxZW92RKV3MaqG5NwIPiTusugxikAwgWWVwq5Dy9XyDc/PH/Plo9/x1eM/8Oj516zsHCkC1bSgc1FPRMVcbyUxfVBToMLg1ohfpcJ5aJ3Q2jbqhhrKAkwBQTo627BeWV6feUpl0Vh2y5L96Yw46oWc2DZo+SMwi8WFBusy43ZH8BHIGm0odfTMal0w8BaNWc6lt8+MVVUlCqMVptRoE4l9ldYEJ7gAJumN3tvkuIonex9pqoOHruuwHgplKCcVh7vH/Orzf+bh6c+ZqgNUoskaWJjiO/FbjuVvfQomFWEI54bewTPMPdVHSPSdxfBM0UkoBIme7RA0IQPlzPeTSu4GH3CdgwAmlbRKlqSRQWs8LzZu+VHJ3xlQhn61CpvviYysP6OFX9LIjozCmR4//YTQW7TGlhAlIEaASF4QsAQflx7nAkEUpZ4QcJjCcP+wZFZOuXN8ylfffsHjZ9/w4tVTIIY8FLriYH+f09MTHjx4wHK55O3bC9brBhAKU7G3s8vR4Ql3Tu8xmxxR6An2gWe5XjBfXnFxccFiecV6vcDaDmsb2q6lbVeE4ChKkxa2CBp1yjUuy5KyrKirmulsymyyw6zaY88cs2MOKMyEqpxSFjWIJviYk2N0hUnm2HFJJSUlQYcYkhRSaLeNBAmiNFoiE7NKeQoR2PmN72Mcfg30wDmE8L09IX3ejRQbodxpVAwHBlDJ8/K9FMi0IcYagSHycgV4c/aa129e4MIKtKUoAoXRWLfi7eIp53864+35G5arK8JnLXL8E45mp8mCKzjfghdUyCubIpOqhdQX5KcYpQZEx9H38b6PTfLX5Y7cyq3cyscsuSKA957z83OePn3KV199xevXr3HO8cknn/DZZ5/x8OFDZrMZZVneguR/MBm0mjEkzq963xKQ4G4ON7sJJBNBZRC/cf64usPmKbKJvfsLZeP1Dd7VzRNGohKYTPVtN7zKWfkfPMvZ86vRyd8h0XsVog9LifR6hveOsjLs7eygtMY2Qjdfs1hesVhd0u21GJn2RnbvAyghqyz5MQagGhI4yE6YzHEzOG1yH/WJryM19v2gOT/niGVquxUhhQn7RBKqQsoz7biYv+bpqz/z6NGfOD9/Q9esOTk45d7JQx7e+ymnhw/ZnRyjKAdgn3KbE/ImiE/EXZ7WrjhfvuTLP/+OL7/9HX9++RWL9i2qcsxmFY6OLqxjFZLkEMALOJVI1gpESipdUxUVZVGjjMESWDnL1fKSZbOg82tCs6TtAsF3BOUwFUjR0Pkrruav6Owi6uYJhI0dMnEMOAKRdMzTsmgveHXxhFUzp+3WBA9VWTGb7rC/c8Cs3GWipr3PB4FgFeJVdGKkKeNDZgSHShfMqin7s112pjPqeQ1YvEvOmUr3IftR9zWIBLSOZVS1aHRZoKkQN8FIhfKaSmbUMsNQxhx5FKJimLKkNBxJADqIikRrKKJXOc/tBGZ9xAQqlVyJQ2mUM5wjIjK4lvyfiZggnRNySqpS/fDoHZYpmGKYn6PxK9DHsJMjPz6u/envBijHmP4EDlKoNdDnbpnCkD2M0SsXeoDse2sfJGL3uAhubC15ZOXlb2wRjNT5ikjopIhh1DFOpYhhEaZkVk8pdcnedI/D3SOadgkqUE0qDg4OOD4+5u6duzRNx+JoSdfZPmxhd7bL3u4++/vHKX+4RIh5IU23ZnEwZ7Ve0DRLnLc4F1m0u64h4DFGD88jCq0N2hQ9OVdZVFRVTV3VVMWUqcwoqXAOtCrRqkjeTvASUl72yOCQfoLEum4q5F4Lsd4zpGmbmCJV3jg3ybnGYdZZtr2n30ci4N4kcutrXPdtz2HN7977QyQzAopK1sEQWDWxNrVoT1kHgnGsXYOTgNfQNgveXAnmeSxS5boWdQ8OqkO0nqQlQ6PEgI7XDX7oq+129vsWsmHRvJVbuZW/XxlXClgsFjx79ox//dd/5fHjx5yfnwOwWCxYrVaEEPjkk084OTn5G7f6Vv4Wct22kLMQ3/00uzYHb5MPuaRmPjMSY3kfwYhSiuxu8KPaOZkSaMN7DGQGkeyNksxGzRhTStLX8vuhv398Y9DONgHl5j1zoSCRVB6y3z4HoqLClNRV3e+tWgtBXH+wtS3W2v4+GS9Ivnc+dMPeHBLyGPoj5FxpEn1q9sCNOHW0GsqZep/8lioZB65VUbbfDClKPWlmWW8VFb8zHJY1L9884Y9f/pYnz79mubwguI7F8jXL5Tmr9RVVUbNT79J2DpEiVitRKd/bWUQFREVulsX6kldvn/HN0y949Pwrnr58xJvzl0jpKHcMQTmstXStR5tYE7gyEwpdU5sZO/U+u5MDdup9JnpGbSaUpgKjWNNx5Res2gWX8zc8P/uG+fwNXXtFXZDIsxzer2jaOYvVRSzXmUZ49vALgsPhfMx/7sKalbvi1dkznp894fGrP9O6NdZ12M5SFQNQvnt4j/tHn7BXHVKZKTHkuEjgVg2DoSfCUhgx7NQz7h/f5e7JHa7WL7hsV2hlYpsTk3R0UsdzlNIEHweTUgUSDIJBS8xVLtSEUqYYqREKDJFYToVYRSW5bqKXKhE4kvK0I5gd6ZFE/bNPQRhhoR6w5prQIQ74HvvkCNoN32JeN+IvpdSQZjGan705R8ZjNxm1Now9Hwdg/lED5YEBOfThZBANXlpHkiTnLSJCWZS9JU8p6Q180VOZw1FiCEC0MkVP6XjQDKs4/T4S8/0jMBYEpTV5UA4ZEI5CGepJyfTTGfdO7nNx+Qsurs7xOHb3dphMp9TVhKqcoKVA3dH9ZIusyDm/QsXwFIr4Wgd2deC4dul+kVVgSIjftviSnkf66+V75Pdj2n0M5ShNnmSxBlqQkXP9JkCWLLz9EE/cMjKeVOl7Qn33ZMgkNT9EtNK90WR4Lw77MQA3RvXvbbIkfvc9gg94B0YbRHRUKCQS/GkJlBOFVR3Lt29Rhaas62ipDhe8PPuGZrmkWa2oypLiSFFODUE0QSVjhOTSLw6lPwzQe5/Dzb9HZ93KrdzKj0K2ma2991xdXfHkyRP+7d/+jdVqhXMOYwwvXrxgvV6jtWYymdwC5VsZSdjSDIAtpZb0qfcgkozgKlZ38MHRuSZGrRUaLw4bOjq6RJwVouOABIRl0DFEVDQGo2LeJJFgKPhYvUMQJCh0jm0OUZtKAaV9m0NQvT63gU+z9bjf/0feWrJz1CTPYkddT5jt7KDOFMH5CJZsh+80Sk2zwpjM/YAEjI68IjEdD4jBX7FPJemTITE9SUB8JEtyvsMJBCUoCkIA6yzBx0odVVHFPNIQ+QZEFCaTnG47jUcvQtg8IARJYJk+xNnT4ehow4qnL7/ld1/8lmX7GmM807rkfLFktT7n/PINn979jLvH91m1UJUzClOkVDWLtS1lFau2uNDx8vwZf/z2//Dbf/tfrNwVbVhisRRGo4uCpnN0FqxVeKcx9YRZfcr+9JiTvbs8uPMT7p9+xp2D+0xkRik1BpP4lRe84S2ElrOLp/z2C8W3f244P7uknpb4Fta2w7o1TbtgvV7ivAd0VFhD0smV4Jyl8UuUdqzsOWer5/zbV/+TL775I0/fPAMd0wmaVYPRhrqcMK1m/Ozhz/gvv/pv/OT45+xPQCgxCiSo7K7OI5tADCX3eHaqKZPTT3h25wFv50+Yv3xJUZRoMX3Odej18aiZOxdBvtIaZyF4j1axzGxV7IycZWWsuhN00rk9kgwz3rcE51Em6YtB8NYRQqz2Izrqh1plQ1S09mQiuMEoJiniNuERUQzRufTJ3pIiUGScXaDVxpzMv0Iaqzk4IY7VyBg/DGcZ/fxt5UcNlMey6WnbNF1kC4XWGmNMpK33NllbNBBw3hIDSBw2OIrkMZWxxzPT3o0Acx81nL3ZCVQOudARNQoaLSW1CFIpiv2SabWHx1FW0aNbmBItRW/hDCMgK4k3TgIYipgcHwavd8yHyUDf988ctoByHnTSg/kBMPe23wAiuVxUetQwssp+iMey349C31+b1iP+08b/D8tv/nBRKvVh8IgoCl3x8JNPOV8+43dfPaETh9SWelJgg6XzK5SpUGi8X/Dm8gkSoDAG/XPBGM1OsQ8qLrTZKKO0egckx5zucWsk5aF8KEj+2y9Ct3Irt/LDJZNRNk3Der2maZqeyAvAWst6vWa5XNI0zbvGwFv5h5IbnZKj/b4/woeoB6U9JVu7re9iWSXlUDp6lztpWLsl627OYn3FcrVkmchGnfUx51MZClNSVhWlqSlNhTElVVFTlhPqakqhq5gLmjyAXiy5VEcGqFGZHxDvhlfLD4AxBw8OpX5U736Oh6vkxdVoXWJ0SVTaE+hJaU8gcX41a1wGE0nbDwkoi45e97aLIb2iPLHYStTLXLDEusIRIHjxWByNX0f3hy5BxxSKeXNFoQoKXaKNiUYCb2Pk2417tqQAAEX2T+ZnQeJX6UKMCGxtw+vLF1wtz3CyRJk1aEtHE0eBdVwtFVfNWxq/opzsopVgfUfbtCjlKSpNUC1XzRkvLp/wv//wv/jmyZe0Mqdxc1q/pk7h1hcXl3S2ReuCvekRzgqHO6f8+vN/4cHRZ5zu3me3OmJa7VLJDAmaEApQJQpDgWdCw9PLVzx+9YS35+c45zFFwXrdopyj0AUFFWXyUhup0dQgFcGbVLOYGHoeLG8Xz3lx/i1PXn3Bn5//nrPFc6xe4xJY07NYn7hjxVXb8O3zwLpdM/90zk/v/ZKHJz+NoDQE+k7O30MQVMhjVgMGHRTKR8NKjxATBimKgoPDfYwRum7Ncg5duyKEZESSEu8UWkqqYhJ5kYJOLq1YqQYHItm5IghF9Pj3PEFR7xehB8n9zPcueeRtyjl3iFJoFaNPM74RQvw8kAiEU12ZvtTYNYsNDDpqBtAJpoUQnUykKXpdtOfHsFN9ZED5WlPZB8t1m39v55H4pSul8CK44MGHxD4dLWQ+RAupCxYtBiUZaGY7j+8HIdvgJC3CkdBrk9kwguUYt2+UQrTB1CV1sYMPIbZLa5RoJPFWx1CMgdZeoaJlMFkcdVrgs0kn9E+b6/ildzZKMKS+DRnQ580ju4mlb3Hk5XPE5IOcNxCtwhvfz8b6MHa5599hNCG3rUOy9fs/Xv4zwpAjGRo4HzvDqJL7dx9ydvWUrx7/H9bdBYGWYqoJztG6DmU0hEhM0bo153PNo+cVs3qGoHhw9Bm79QGVgq7zaGUoTclNVorBOw55w/weT7D1+1Zu5VZ+LJIJEK21tG1L1yUG20SE6Jyj6zrW6zVd190C5VthCLmOr+hfb+7tfSUI6PMUgwSc63C0CB4tAesbLhaveX3xjLOrFyxXFyyWESg3TYO1sQSOFoPWJWVR9kC5LGvKsqYqp7Hm62SXnXqPup5SljWmKAZHgahIsAo974hiyLbOocmSGhwSuaXS0oNlAUKIICXnCiuJAL4oaghqFPqtovIuQts0NOtkaOLd3TKqhgmNplrC2fgQM6I7OtfStg3rJqVhFYL1Di2GiZlSmgoherk90XeusoMhsWkHeZ+zYku/EunV1cxBhYC1HWcXr5mvLnA0SNERVBtjKcVEbpdGmDcXrN2CvXoPiN7t1rUUAoUSFt0lz8++5XePfsvXz/6d11cv0IXQMafzDUpVOGfprAUMWlUoKoypONi5w8O7n/PJ0U84nJyiQ4mWEk10FmVCKuccy3bJ63ksM/X01ROuLi/p2paQyqQWRAeFDlOqYo/9nTuUZhdChYQS7yOJrIQ0fml4c/mURy9+z1dP/pUX509Z2CWhLPAuEEQwlYD3cex2ATfvWDdrSlNRV1NOj+4gukArH9Pi0pyRbGQJEUh6SZGgqfRq72CTODq01lRlzcnxKUWpWSwu8d0aZx3BeSJTdYG3glYldb0TQ7LRSIiRpuJlxBOXAXpGo7p38gnSl4ftPya511JVHCRF2aZRGBJ5XUq8SLWe09xIESE+M5Vv+SmHhO48QYb1hPzR6PhtWPyx7FIfEVC+BtD9ABl7lAcf6ijUJ31LPoXAKCOAiyx3IYJl5zuCNgmoujSqQwSqIU7e3DyJptY0CDwxnmb0KNnqCCnJXTCiI/2+2qZBjwuhD1n5MXHBUJH6Kl9Xhe3eyaEV6ZYjq8y76+kWUB5ZYodzJFqixA4fBt3/LehYBoI0LySDtHwhP/o9crmPfoRh4/rrT4ebrj889NjrvKFEflfTRv3mfDRYaF1w9/gBl4ufcXp8n6evVyxWC4pJiRaHEgupzEQQS1HVBNacXT3j918K88sF/leOhyc/Qyaaq+WCupxQFqlWNpu5yiKZFC2Mxv/7Gp4/+0+wItzKrdzKX1XGe5pzDu89xhiKosAY078fAYu9Bcm3kiRwrQIw+tQjvTl9tFtig8XRYRQ4HMvmkscvvub3X/9/fPvkD3R+iXM2hpUmwB08OOtj6UsPBBXLUZZVrLmqCnYnexwdnXL37gPu3b3P8dEpe+YA00faJQdB0BSqxiSPnQ/RkaB7Z13UcWzn8M5RiEG2srdCkFREVyGiKUxNVdaAIjjBJ0e2SjpY27Q06wYdEstwBiM5cjWpgqWJANcG6FgnV0lAxDNfX/D67SuevXwGRpjs7YCSmK9b1OzNDtit95lVOzHvNTg6Fx03xpQMTOPf5Wkb9KoNUBSiHuus5eLinOV6jpcOZTxBOqxvUbokJJbpZXfFql2yU0WniZPoCfcSsMFxdvWCPz3+d/7n//5/6NQKX7SRIkvWWOlwTYOIpixKJtNdvFWsl46DnRl70xMO9+4yKfeRULC2LWUqt1qqIhk0Wtb2iudvHvHbr/9fXs4fc754zno579ezAoUyzo/hSgAAIABJREFUFYXaQdsZ0+qE+6c/p66PCaECV+CdJD6pQMDi/IpX50949OKPfPvs31mHFV4ryuqQ4AI+CKoMOBvLOgUhVsZpPa/On3F8fsJl9zO01BS6jozffqisIxDJWHWOBtUxPNon4414vPh+7JVlxcnJKVVVcGaExdUFq+UKG7qU1llgHRhdM5vuoXUJxNxlEpFW9uORwqwjCSzjOlhsOWxHWnoABSal+wVUShq1NLSJxwn6yFMV86+DhISTcmh2zmeWZDhKPARjdLwxQhP2GeGl5GjfPvxvKh8ZUP7h8k5IKmPgE+t7ZYUhmGFzEAUuxHwUgqBEUJo0ADzSJ7LfMNIgfasReEtI5pbemhe552J9NGIeSxrMfRslh3nHAa6yJTf/y8A4WznHfbbhrWWM4ce9M0yebFLMFJRboeSxv4jW5Z6hImxdd7RIp3CMzaL3Y/KK62Iutn/+9vKDlceRBiEh97GikIrj/Xv813/+H4Q/Bh69cNh1g1Mxn911qW63t1RFicbj3Zqzq+eEANPZjLKaUM2mlNOCQpkYKdDfC2Jtv6H937fG9KbcguZbuZUfq+RKAZmbI9dOzu+LSA+ib4HyP7Zs77o37cI5RzF7IqNaE0A8YnLQpeP12+c8fvE1Xz76d56+/pbL9RmOSCIKJDbemBMZVNSPxGdjvccrh0+5pK5ZsX5zxfniJY+f/4nd3X0O9g45Ob7D8f/P3ns+yXVkWZ6/6+5PhEqtIAmCZBWruqu2bWb1X7/f1mzXbMembUqRBAkCCSC1CPmEi/3g/iIiQbCmqos1hW7mJROZGREZ4im/595zz9neZ3e0j1EFIkKgxYYoLKXSOFrnQIGPwFTp5KCx1kiQ9DG6hJ40c5xnBWURaa3xKeKDFHG211pL2zaxwJ0EsZREimpMrXzyJW4IYiPE8Atubi+5ur7g/OKE28kNs/kU61va4HDKY7I82WlmbG/scrBzyOODp4z6WxRZb9kVplPsDmGtfPFje24Vy5xBImAPCdWLVpGCqyL4DeIIyhMkyl5plYEWLJ4Wi6IFUeSFwfkZ19NLvj3+I69OvmZcX5IPhaAsi8UCMZoiN7RNoumi0ImeG3ygTkUH7yyEqJitTXQnVrQs2jnX11ecnLzj9dlr3t2+5bw+47a6ZGEnaBWLB1k2iCCmERbzwO5wk4OtT/jls39ho7dHcCYVQ1JOi6e2c66n55xdv+F6ckbDDMmjN7N1DdbGGXk6VfTg0EaTiZCJYjy/5t35G16/e4XZ71GOhstm2ppkbCx0pAl9SLO7LhB82s4EOt9k7wPGGLQ2yVc5qlHHud04ax68Is9LhoMNjM66dlPayWtHwrIy1eWj6QBQspwKDT7g07kcu3AOxNJKi/MNrW9ofYv1LTbEpo7SmizLySTHkOGkJSz9pFfCRaE7rYgq8yoxYmOZYu2Cks6ru80eVqrd6uNZpz4aoNxJt/9ki3hYdQlFva+Cvf66AetamrYhBJcuJsTOcppQ71TeQkhzu3LnZYDkXRt8nEHoyiLdBWnJdQjLzxlnXDrguHJA68Bsd9gtL4XrOLS70q9f+de/v1e1if/+4BnvYqM7P6+9WPc667eteZ4thw1+AJLXHrN8gXVw3Hkc/n3jTnXq7xxKJHbzgyKQs9Hf4xfPfsv1ZMx0sWA8P8V5lQQOGqJwAmnRbSAEGmu5mWlen35Hfzgk75UcjB6gjCwTj+46o9a2Z1TIXKH2eJx/oKhzJz6eC9F93Md9/NuiSzTWgXK8HqxYJutA+T7uo4sfmjmtrdOyApQ+pK5TSGJaSbDKhYaTi2NevPojL99+w6S+oPJznIp+w3EsKSbLgkT22XK2MeYXAZ+cI4TWzVnMJ9zMLlBXhiLvMRoMOTx8yIODh8y2H7E92mfY30brIg2qra1jPinxEt02ludCSsK7bt8yPVvLRTKTU5a9JMqplrRsEmvQWkvTNgk8RJAQJVwjgPU4bKhpw4LazpnVY25nV7w9ec2bd684fvea+WKGc5ail9P6lkWzQGc5Rhl0MGwOt7i6PmJRT3mw95i9rQN62QCtFB6d8k+d9ota+wzr+3QtswrrTDPo5rtFKbI8zj9HVm4a15OkxG00mSkQkxGU0OLQOJSAyYTpdMLby+95+eZPnFy+xkqFCrLsQWa6iN1U3xUtohhp8LFb1DYVdTPHugrrFzReWNQLprXD1y2T+ZjT07ccH7/izfkbbusxrrDM2imOhl4vw2iDIU9dWkFTcLD1lMeHn/Fg/xnYHni93N/xB8e8nnB2846zqxPG8xuCdoiJtADbOsSbyPpUOo7TCRgtGBEUnul0zPnVKW/evWZv+IDt0UE6EsxyMjNiho6F6VIOv0atSI2keGz6xL7wWGep64a2tdG2CUUIgvOx4VcUPYbDCJQ7W9YPnbpLr28k0ahjYSSSSD3O+6h/Ix5RAWiwvmJa3TJd3DJdjKnsgtbVWG9jvqkVeVFQSo9clRidkemCzJTkWY4xWbJX7UZQBS86gmU6UeA0/x86lm+AkLrY3SjEsjG4av79o+OjAcpd/ED+/6/uOq7krSAmEVqpWK1ROs0pa5xSeGejvZKvqKoFrW9waTbXBY/vQEg8XEG6uYmQFLFJoJq0k+NUyZKrvzxD0wUufb477zDAUnF6SadNn3y909udYyEsT8Y7gypLz4I/s62WpdQPPGaJd0Myjl+9R1k+/9obWb7OOkBeAeW7Spp3AVtXyZX/Ln3op4kf3yQfvuOvwdXpWoQo0CIETBToD55cb3I06vHZw1vqxvPd8e+5nZ9Tt1PyskS0Ayx13dI4iyan399Bq8Dp1THWe2bzBf/zb/4P8lFOho7icz7RLNeSYEnFlpXndPRX/e+D5T+/Le7jPu7j444OEK93kjvf+Q4Yx4q9vwfK97EW76/dEPVV1grtXaE5JQKhA1pACJa5n/L69CXfvvqa69k51izwJoqidqrX4u2y+9UVeLVolDbJgUIizTMkyqtSqTusWbiaejzmdn7Jy+Ov6WUDvvz8N3z5xW/ZGu7RNxotBeBwztPagFER5ESQ3IF7UnduBZIVqbidbsuynDLvkZlkg6QNrgM5IjTWUjc1tV+gbY4hEHSIAqwiOFqcROB3Pn7L8clLXnz/Fe/Ojrm6vaRuF4gWtBbmdSwQOLH4JiBBk0nOohlzM77g5PQNnz/7JV88+xXPHjwn1xk2EB1RAL+cU16NE74fkrrcwVtE6ZTjJaakFgb9AXleEFBYR/SCNgrvFUiGyfqYokSyjHbZNImStxe3J3z18ne8PvmWSXVNOSiYN2OctZS9EmcdTVOhdZb0WBRNs8Db1D0MC5yf0fopi5Axr6549/Yt56enXJ6dcXV1wWIxxbkWUxrKETRiKRV4DIUxqKDBCs3CMcq3ONp9ym+//N94/vjXEAoUJuVHcXt4iUyAyfSGt6dvuLi+YN5U6F4Rj1cHOE0v69Pr9emPesznE6azcVT7dlBVC6qF58ZfcXr2junjCS02NtnwMdOVlMtLVIhm2UWNILmbZY9fgsfR2obpbIquFJPJlLpu8A60NngL4j1ZltHv9xgOBrGYg6z341b5vYrFCFScL3Y4ROkoCieB4CPbISRrL50Ey6btDa9Pv+X1u5e8OX3NvJ7S2DqOWXibZv3jLHhZDNkc7DAabLMx2mFne4etjW02RhsUqiSTPH02lTTqVQLMUdleoRCvwXuUuAiW07VBkp7TCvn/4+OjA8oAf7vYSFgTN5Kl2rXRsbIZAS2xCug9XnV613GYXdF5/Hq8xEkA6Uyy04XGebU6CVVUuAuEdPFKi8/yCF6FqA58dx3vlQT7Bx4en2vZOI4ngShheUZ2j1m+5z8H9FbV1DuPlNVrLD2cIreXlXXUav5iVZ67+9w/fGW58xXC3d9Xz/XvL5bJAiAhDol0C6pCYyhAFC5ojvY+wyWLguOzb7kcv8HaKSG0oEGpzlExELTFUlG3Fe2Vp3WeXm+Afdzyyd6n5FLSCdPFznKqGCe0Lt1F+n9At/4+7uM+Pp7o1jml1LJ77L1PVf77jvLPOZYr9rKevi7m9eOxou3GkUfX+dXSsmimXExOubg+ZTy7RpkAEbvgRcfGgiTqP0CIx6PvmgrBYp0juJQHIYjWqcPZErztGK3YZGkU8Lw++Q7rPI8On3G484T9TYWRSJkW080pB5AoIBZ8NNVcL8svQXtigQkeow1FHueUjUkz0cFHtWg8rWtZtBWzakY26MWZYfHRRYVAGxZcTs54e/6al29f8Pb8FZc3pyzaGT5vkCwCl1biSJ820X7T2rgNBME7T2UtzU2Ffq1wrcW1jocHT9jdPCBSXV3KM/VyH8kHcrJY0vAgjsiMTIUDibmp1hmisljcD1GZWSRq43gxIAZtSkzWQ0sOKFrXcDO75PjsJa/efcOsGUfBJy8gUYjMOUNZrllJ2fgVfbg71W/HbHHDi2//gIhQVzU319dU1ZymXrCwM1qpCcriMIQgWOfJjCYETVtZMtHkusfGxohH+8/47MmveHz0nEGxyWLe0DOarLMVFQ/SgjTMqzGX1xdUTU0Qjcn6tHWFt4pcehxsH3F4cMjWzohXb14yn0zjZKXzS/0HHxznl2fMFjNccGmiN9DBhPd2BB1TVAR0yvkQT1AK7wPWttzeXoMIk+kkCjJKHKlxBJQoBv0Bg8GAsiwijb0rdImsALJKnzWJGoXg04gAICq9R0/QsZvssbSh5vTqmLdn3/Pm9Hvenr3m/PoEG+rYOFQBFyw+xCagMTl502Na31BOhhRXffqnA/q9Af1en34+ZFgOGfZHDAebDPojenmfIBkq+UELJl0XOrFkQDpL3A9sv38wTPgogTL89WB5nWbWXdxDSLNbOsqvaxMrTNbF+dAOT3QdU+sbWtdisHgf3fVc8KAhU50KdljSeCQkkBPP/CXdIILblYjVynShaxV3oFjWb13/NKvvy4MkpItdWIqHrZY5ufNXcW1Zv1fu/KzS543Uj+41OrC8dvLRUUc6EY01wHwHpMP7XeO7R7f64c9hrdr27yxW1lsdSHbxS6KgiASF6BwfFJWF7eFDsqyPDUIQjXWe6+kxrXOQqbhg6Xj8OhqsB4tQ15bmymG+ySikYKe/yzCDwhRoZdIMVfK4k840XhF99ODf47a9j/u4j78+uoJwR73uQHEIYQmUO+B8r3r984w7Ssl/SfKZmmAdY6prX3UiP7N6yun5O24mV9RuQW+QARrnVUyKtSzzL0k5UXCO0BVsUrva41Gp+Nt1QX1XBBYiDVpbvNJYaTm5eMvV5Q2z6ZymsShl2Cx36ZkBxmSR/RdiR9tHzniycNRRQ2Ytd1p6LRMw2pDnBUVRRhBs1SqnCtAGS9VWzKopw94moiDgaF1LY2vG1RWvTr7jq5d/5OWbr7manGGlJusZTBk3d+sczlkQh84NpsgIjcfbmFeKyvBtoG1bTs6PqeYVPjmdjPobFEZSF3zVcIjvfuVtu8xOEsVXpNOZ6WSRk0q+D7F7jCGQReAGESgHk/ZhidE9NDkhOKq24u3lG45PX3J68ZqQNYhWtFZQeggEXOvY3Dtie3uTxWLOZDxmOp4iIUShNQMEy2x+zYuXf2A+mzOfz2ldQ1FklGWOzy0Yi/cNDW2k5rtAaQaIGJrWYoqC7eEeD3Y/4fmTL/nsyS/ZKvbRPqOqbQKDXT7bEqTB07CoptyMr7HeI7pAmQJfBfCKTPU43H7A508+Y3dvk2Ze8eb1Md5avPVIgLIoUE4znoyp2zqVI8JyJPhHzr74v4BWoNJMuFYmnWeO29sbAoHZfIb17s6xqbRmY2OD4XBIXmQrtkAqPLAsgCRAo2QpVhfWjpflOaViY836lklzy/fvXvLVi99xeXvK7eySaXWLGI9knY5TBMrpiMf5hnq+QMIV+MgK0cqQ6Yx+OWBjuMnu5j77O4fsbO2z1d+myPvkpqSQHrkuyVURletTx31ZvFtiKD6aRtpHC5T/kvigHdSSIbwCoVoi9dqYKH7Utg2SqjRaRzo2BCbTMdf5JTNpcI3HWwfeRiXC/gb93CwxokuDovHkj7QLxKNl3bYpsS1YHajdu1qvAK6D2u7Ry+9ddze9XpDuLyKd4X2QHLqT4b3b1bKG2tGp4/Oq7jWIn2W1gKZZWyEZqq9bSd3ZC+lbSKtpkuCT1f1h2ZFef/zaz3/HCITl9v3xV/tQh/zDz/X+LXFfOQhRIjMEFf3lRCPe4JuAEc2wMHzy8FexaqY07fc115OWpq3pjwzagPWOqqkIwVL2huRkiPecXb/lu9cv2DLbPNh+xM7mLqPhCCWxHreiX6dP0/3+cVxj7uM+7uPvGKvz/Ydf62r+1tp7Ma/7+PH4Mw3mQNRE6jIIh2e2mPH25A11W2FyTVACxCTe4XE+YF1AbErKfFRrVpJhTCzsZJkmNzk+eGxrsU0bBVeDT+NyBqUMzlrm9Zzb2wniDDklTd0yHc+Z3Ez59MkvONp5yEZvBxei0nVwDqNM9Ebujvk1OV2VQLiXSP1WIuQmoyjLaKvWrEAFCM466rZiMpuwM2wIpacJFdPFhPOLU/7w4necXL5hXF0zayc43dJQY32Fjq5LeOUI2uFcQwg13qqorNx4XBPoZUPKfECe9agnNZfXpxgMg6LP1miL/a0jdBHnQDshsi4/DEt/oO4TRkGzoGIHO46EEZtC1nFzPWY2r/BBoXUZAVVwBDICeeoQFwg5AU3jG8bzMa+Pv+P0/JiqnVCWOUb3sC6L+z5Aaxc8OfwnfvH5cy5vTvjqq99z9vYSJZBnOf1+yWw2Y1G3oBy1bbGqRbTgjaOWmsbWeDyiITcZOgiq9SmbFIblBo8fPOOzJ1/y/OGv2Bkd0ss3aOuYh29uDNLYWRMLANLgpcZRsWhnzBZzUBlK97HO0w1YKpez1dvhaPMBm9mA/f4+e6NdLq4vCNahk4K3yQpQOVrrDgMvN/2qCLMq9iCdCjSpa+9wrkVUhtIxN57NZ3gfaNvoTKAk2diKoshztra3GQ4GaNEJnDtCsLFBo+Cuw0xytRETraSUIqBxoY3q36KwNMyrCW9Pz3n5/THfH7+hZYGTQNbrIcYmoT2H8/GcDsFjfaB1LeIrFAYlBhGN8hobNM1sxmxxy9X1GW/evaLMBpRmwMHuEYd7RwyKDTb622wOthmWI3JdxjUpyeHH/FmB6I4u8W+8oP108e8aKP9YdCIMnS+gKI0xGUXeJ8t60GpErSyVGtswnt3w+u13XF+Poc1pFi3BBowIRwcPOdx7yMGOUOYjtNJL8et4DkjCj7HGs2RFJx5G5+0XWLM6g/cAXEcXX3V6O6/DkKi9ceYMROew1qm+C5IhrF0s17vMq9ft8PBdSH2XNtIp1HV/pe4+4Qdj9VhZ+3TSPdc/JLpP233mn/Z93GGidwtW8BCiJUBhwFqPd5qNcp/H+w6jFVkmvDkbcX71CkeFayu8c6n6DaIC3jd47/DWc3b5mj/6AvukQXSgN8wRoodeSIugLI/5lWjcD68xd294f3f+TVtnlYN84I737/zHX/zu4z7+o0XHrHr/Nucc1lqcc/+gd3YfH1MIq1yju2X1PX2l5L4TznXOEyQKeYGnahdc3VzgaFGZomoWWBVbZpKaBSvN0djhlBDpzkpULCCXQ549fUaWZTRNy2w6YzqeMJmMqasmesmmlVuJJs+iKJHynun8mrdngbqe09qKqp7waO8p/XJAbgpUiMw7D6mB8WGlaEmgQ0QwKqPICowy4APKKLSoWJRufQTKizELO2Ph+szrOafn73j15iUv333N9fSCNiywUiHGYZQk3+moG6K1oTAFphxR5IYiUyymMypq2tCSaRNVqJ0jGIf3MG3GvDp5idYZ/+mfSoqiR1iSyVe2PD+MxEIUIlgMARuibFfT1lxeXTCdTXEeVGYIyuF8R9FOqs2i8EATWhbtjPHsipOLY26nlwSxsfPshNDkmGzAsD9g+3DE4/0vONh4RK5LzgYXZHwfZ6UThVlL2u6+IYQWEY/OMpSJXXznoYOvzmm0yimyjEG5weZgl4OdxxztPeVo9ykHmw/pZRvokOMNGIm2eME7WFLPWwINbaipmgXzxZxgBOcV7cIiPseonCL06WUbDPJNClXwYO8pXz6f87s//o7r9hrnApkp2BzusPfoEVsb23Hedi3Rep+4sTqfNKhorWqdx4rDKBd1ZyTQ1PMoHhZ8ZFcgeOvQwVBkBZvDTfrFAM1KmDj4zolH1pL72EmO+w906jKHoPBBExCUBJxvmC4WvD054fL6ikW9QLIWjEeUx3mLCzaqoCuNiI5jE97jg0/0cbfMfUNwuCA4p2htxaKeMZtPyaTAqIKb20venRyzOdjhYPcBjw4ec7T7kI3+FpkqcT7EOXEvKJ2jjf5o0sT/gEB5vZIeD1AlCqMz+r0RvWKD8eIakTZVdgK1XdCMz3nx/R/RlNTzwGJWI07o5T2uJ1csmhqTl+xsZAyKEm3Sa9FBclmtB90rK1j6/nVwNITV93UU0/njhc4VfVWRIoQljSiKtoSlCMWHgU86VYNEanV6j+v9a1k+8u5FNkj38h04XqNUd0/7QXS16pZ3D+5+D6uHrDr+P3zrf6dYdffjuwrv3fu3v4lYdSYpCga886gkrtMrDTeTBa11bOR9DjcfsjHos705Yndzm2++73F5+47J4grv5hQqRBl/52nbBmeFvlbcTE6ox3OMgaKv2djtk+s+RnI8K59tnbax9wHd0eWW22C9sLL6Oazdu55GdMezwI8X9db/OKzdtn5o4yElIneKLh/LVfA+7uPfWbzfLe6iA8XratfdbW3b3rnvPn5+8cOr/opzdncFSKv3ehfZOVAhKV57mrbidnodxYI0zKcLJDMoiX6/WjRGmXichq5NEEcptReUVQyzEb/67J/Z3NjEto7xzYSzswvevX3L2fkZk8ktrW0wRlNmmqw0UczKBhazivH8lNnimtpNmNdXOD/j4cFTdkeH6GyQrHaIHrZp3Vlpe4DoJD4aYgFJi6HM+mQ6R4W4AbQSVBAsjtrVjBe3TNoJujVcXJ3z8t0LXr55weXshEU7wUmDZAFloDAaaxXWBfBQZENGvU02R5uMBj16ueb2+orJ5JbZYk7bWqx1NK4Go9FG4YzlzeUxt+MpTx4/Y2Nzm0x362iI73MZa4uw+LWEq/MPbrF4ZtWEi+tTJrMxLrjEqlQ4HzB0NNhI7bXBQWiY1WNuJudc3JwwryeoLM5Uex8ItcZQstd/wP/0q3/i4d4BPd1DDxS7w0O2+rtUiwnONrShwejYBRWJNkWio7J0BOaCkKNC1HuRkJPrETv9HXY29nl89JRf/+K3DIttMvoIGYoMIwW66BSWu8yzo197fLDUtmLRLFhUFaofO7aVbSizHkYXFDKk0ENyNUSL4cHeJxTlkNuLBap5S1W39PIRRztP+PUv/4X9rUM0ZjUDn8bhVvPhXQNLEJ0hOsMFjQ2CJSDBI0kwztp6qSmhVJ78rj1GacqstwTKhiwWfTxxJqA7FrrxybDKseL4ciqLBQhOReaACljnmc3nnJy+YzafoJRHmYBXFudrGlfFwpgxZFmBMjkhCE3T4HyDNgGdOt+SGn3BE1kJXsDbpATfYKTm5uYS1wS2RjvcHF7SthVlmUdWglJYH3AW8JpMabR8PPD0o3knHxIjSPf8RX+rdeTJx/VfrwCiCIqMXPrsbD5gZ/MRl5NrrJ3jpaUsDYGKpllwPj0mz0qyrMCXHhVyfKZ5c/kKS2Bja4ei6JMXfYSATv5hQmd3kFT2lvA5vf+1WWRZ+zmswzRRK0gp3ScPdCeAUiYuUCEgkkF6xfUIdPIOyyd4b/u9L2fR9aXfS7hkVQL40K740T0iH/5F3rt1qfr+PyBXkzvA7EP3r/79S54r3Pk9xmo2JYJcnQsrMTfFsJfjQyBTgidD6xHZ8BnDT4Y83nvKvL3hZnLO+dVbXr/7jovrExbVnExBbgT8DKdaKlq+Of1X5twytlc8ffQZe5tHFDJMF8J4RIkolBJcquBGH8nQLRssqfCilnvfp/VUiBc/SbfFUftApldHRPQXj4/3Lq7Hnbp2CODCelfcYV2F8zVFUaB1xoeq+vdxH/fx18W6d7qIUBQFeZ4vAXSngt1Fp4LtnFvOLd/Hzyc6JdmQQGsggkNBEULKn5a0MlkK9SKxC2y0TuylQGUXzO2Uys1ZuDl1aFCFQmtBaKnnCwajLXa2tphOZjRVQ3CR2iyAXTRoLejKkFU5g8EGxvTY38r4pOeYH1a8uzjm3dkxb9+9YjK9ZFGNaVmgjaCMkJUeg0eJ5XL6DdXrc27nb/kt/wsqFzaLh2gZIirHeokAPS093lvqtiLPFcrERcx5T1Ca3Z0Dtm63Obs1NG1F0ILSsUBgfcPN/JrLxQVTP+Ff//BfuLw5Zd7c0hRTnJrRugojCgkGWoOyBRtmk72dRzx5+DmPjz5ls7dNYRSGlvC04fzmhK/f/JFvvv+ai/kFpm+omobW1TgJaJMTRPjdq9/hjeKLJ79CxETP2cBy3Q8h7lcfPFolG6JlxTugtOf0/BXfvf0TN7NTmjAlqIbWWTwWgsdT07oZi+oGaxeAw4hmMj7n3dnXzKtzvDRkWYaEDBNycgp2yy2ebT7kl3ufMej10AJe5zzf+5zm+YLvXv6J6/E5rZ2j8ihmphRoE/VWbBtw3hF8Rk+P6Pe32dzcY3O0x9HOI54dfEaZ9ekVfTayTQw5Cp30lJMK9FpLqCvKx6uhxnthPq9p6mZZQBBxKG0JSShO6ZzcjCjMNkY0Gs9OOeT//JcB9ZcVeEGrnDLvMxpsMii3KEIZgWFwkb2gTYTJwS3zfBcURX+Tor9NZRVB9zC5wTtH1S4I3pEZg/IBZ2tMptESTY9H5ZD9jQP2tx6wUe5gQklwGk0WRdY6pXq/1oF1pMYNeJvOYUO08OrG9EKgbRbc3lz/S5tZAAAgAElEQVRQVbcgFUo5AgvwC1SwmCyn3x9RlENCyJkvHG09J7SC5BaUw4uj84yOns+d1VgyNJXoRS2FkGUKpxacXR9T1XMOD/fZ2d2OxQaTk+kMFaJwnHMuWox9BOvURwOU/7bEWe5szE5FenWvQquCg51HHE3OeXv+jnHjoqhXrlBaobNA62fgW0S3WB3Atfg2gK3oLTZpfINNRvOdH59KJdfuQrUygn/v/X3gU8p7j4kI9f0uQXdCr3+2D4tg/aVw74e//dhfygd//JtCfrqn+stf8qd7xQ9v9RXg7GZQlvMiIYHdBNZV0GhKsiyjzEq2R7u0fs5kccne5mHyBVScXh5jXYVgUUYTVE3jWq7qGn/V4nQLOYgWDkZZkl3TqQKZkSmTRgs6U/tw5837BHRj3TiC4k7oraPp+7Dafnd68p0UKd1z3C3ZhDujUqlogGV13Gru4z7u46eNqMOxWtI7b+V1Onb3831X+eccXZfRp99StzWssb8+ENIVVkOgambM6ym1r6h9Q4sDrSLY8MJWf8Sjg4c8fvQJ796ccnVxzeR2gjgVAavV5FlBz/fpM2TAFoUakhUDJDf4YWCj3GN3cMjuYJ+Ts5ecXx5zMz2ndTVtsHhpYkfYeGywjOs59dmUYlAQVMYvHo/oZSUaoiBWKuJmsSYQRS+TZVD8fJpM99gY7tAvBsnzN1J3vbR4EWq34GJyTnaZo5Tw8vRr5tUtKIsPC0Rb8gywPlrfeMXO6JCjned8cvQrHh5+xv72EwZmSCagQovRlu3eIUqVzGYttXNUag55Cz5Q6wrtPaB4ffGKzY0dHh99gtY5JnHjV2zGrkG0fr57vER149YvOL065vj0WxZ2jA0LHE2k04fYdY1MyxrnK+pmRtMsMLlmOrvi8vqYNkwJuiVIHC8zYsgl43Bjl0c7R+wNdlFK8N6iVMmDrU/gmaCs5uT8FZPZBYtmjG1r8EQ7LmOQLMeYAXm2Qb+/y8bGAdtbR2yO9tjffMCD7acoMZHq3B2TcKdddZcREUFy8IHIZ1fY1uJcJ/qbRNV0gNAiQJ73ybMBRg2S1y+Uqs/jvUix1qKXgq0hSAToXtPpBcUpzMgAdT4WJAPRA9vkfbJiiCcnSB4FtXydus8u2ZmBuADWIcGTS872YJeDnYdsD/bpZSMMBS5ItL9SeilhtCpyxX3ZzQWGjp1NXBM61R4fIpj3wYKyCBZPQ5AWpR1KHEqi5e2wN2Q42CdTI+qmoW5mOD+lbqZU9Yy6bmjaNNqTHIGU1uiEiUIAbRQqaLyzzKoxTR2V861vcUSlbt3pId0RDv7Hx0cElP+eISgxHO0/ZlyP+fbVd0xvx9SLCZmJHcC8yOL8b/DJBD1g64Z2sWBY7qEzQ14WKK0jgPAOLyr5CrKs6q2orv/29/rnf/9L7vlbXu8+/vLo+vFRKGFF645JyOpISEA5qOXF3Achkz5GFRS6Rz4o6JX9qHwJLOYzbsantG3FcGeIDY66XmC0Z+KucJeOvJeTZTmbgx1KHf2Vq6qhzEpMaeJFeql0G9+GKElJQuz2+iB4BB8CWim00ssOs0jsDKt0iHQ+3kvPwFgpSlRrvfzoKv2tIGijEZ2hfBLVCC4t4n8uJbuP+7iPvybuFop//Lz60AzzffxMYln47ADVar0KaytVFyvtjfQoHwgqgoD5Ysq8mmB9g0v2SCDY2qKV4cmTT/j1l7/hs09+wZ/MN7xoXjA9X9BajwqQmZxePmCYbTLKthnqbYwMCBT4oMAFdocl28M9nj54xuu3h3z3asRXLx2Xk3MW1QLLApU7CiOUwxznPOPpBb//5r+yqAIH+89RZkgWclQwiCXOHWvBaEWe54iKnURByCSnZ4RhbxOtctq6RXIAT2srXNAs7IzzmxMqPwPluZmf4XyN1o66ntLvFWyOtqhua3yj0SHj+aMv+M0X/zvPD3+DkU2CK9DOkCFkEkAqtnrCLz7JmDYLWm359vRr8jInM4Zq0RBCg0JzPbng8vac6WJCrzdCmTU6eWeJqlQcuyLuFxcsNjRUYcG0veXk6ph3F6+xVLgkNlZmfXCCbyzGBJSyKGWp6xnzxYQiy5kurrmZnCM6zhS3PlAoQStNrgxHu/s82DskV3FfSBBMlrMzeki/t0FphuztHHJy9oqXr/7E7e05XgeyXkG/GLG1tcfu7iP2dh6ztfWQ4WCfQW+HQg8xqoempONRxqwlLH9eDg50c+giCRxHW6qUrCx1ZpVSSSjLYwy42iECvXJIbgYoyqUPuApCprLUYV5XFxe8jU0DYxSi9RKRWhfn0pXSoBSSRLWULjCmRx3meNciojBZFsG3xJJVnhW4yoFz9MyI3c1DHuw9ZaPcptA9VIjaNIJeaQDcSac6ynlK3pJtlKRcLT48NvxEC+WgJHc5zgZaVyOZRWeCd5GVOJ9PefSo5PmzZ3z+5DcobVg0cy6u3nJ+ecL5+SlnZ2fcjm+pmzmdA0NmcrI1xwUtCvFCM4+AWqloD+dScupT4hm8R2uDVtnfdLn7KePnA5QRMnI2yi2eHn5CaCrOrsDaKc5aggpok6FV9Fr2NqAko1f22dt6wNHuQ7aHu/TyARoTKySJ+NEpUi+P1Pv8/2cWq47x3UgWWB03e3kxExC9VKr2aDQ5PT3iaPcJAYf1La/eFJxfvaOetzjlogCd9rhQM69u+e7118ynFbPxnOePv+Ro53G0VnCByXxGL+tH73C18lvsSs86REENL8n/L4RI2Qas84SgEFlReUIAn2ywROyqGq8CIQg+NARvCF4RvFqKtRshXTgzCJ3wyD31+j7u46eOjmqtlFr6Jd+1TQzLeeV1SvZ93MePRQeW4+hjnLv0wTGZjJmMb7G2JajYDRJRFPmQgRlR6G1ytumZPT572mOUH7E3esr5yRmL+Ywyy3j08BHPnjynV+yg6KPpAwVBNF4FlAQCBcpkHGx/giDkRY9v337D8fn3WKlo3JTFfLZkNnkvNLbh9OId//f/+3/xq8/+M88f/TN9E8FKsCEVtUErHam+waBEo5TBKEWZD8mzEqUNkgUcjqatUTojqMCiamjtOG4g32JEMJKRl9sE67l5N2ezt82Dh094/uRXfHr0JUfbj9LcZRp8UmnCOEDbOpwIZT7kYOeQs+khL8++wbUW7yz46LPsXENj5yymEya3N2yb3TgLrWSZY4SgAY/zgvUWsCgNra+4HJ/y7dsXHJ+84nZ6RSMVThwm19H+B4sygqgQBciCpWoXLJoJPVcyrSZMFxOcOILyUQlZLBgh0wXb+3ts7e5HNeiUS0Rv3ECuCo52M0b9fR4dfM6vP/vPtHaOF4vSCmMyynxAWWxS5hvk+QbGDNC6h3iDCnHfdNlDSJ7Q62onMedIQDbl4yH4WODpDuQkvIt0M8QeZQTXJB2HuiFY0JgoOCaxU2vERIla32Uw8U7ddRHQyfPbJ2qzoCUihI6rZ1ROpnPyrGDRaqwDLdF1R0mGty0hRPardQ7FgFH/gIPdJxztPqY0G2jyNFqnUaGD7InhlyyigqSxChWVo70JKZfTOPE4HB5L0IG8X7BzsM/EnjG+AZUXeAnUrsX5qKiNVrx88zUXt5d8/fIrjg6esL97xMZgh41yn0/2fk3zac2snjOpJlxfX3M7vmE8vaWpKpq6xrYt4uNYX6YGjDb6bA932Rrt0zcjDD0IGQRD8Ca+7keUJv5MgHKEyhrDRrnBsweforyjMJrLqzfMKmibgARB6WhJkANFucHW8JDD3ac82n/CZn+HUvfQaGKRSqOCSup68VXuwfLPLbpL98pzsbv97leK5Rh6qocmoTfBYCjYGOyA8rjgAME7OL99R8CjM4XH411Nay3VoqGa17R1i1LRAm2nf4iQ4b3CpWqolpWwQ7yedvPTIfr54eKi0Q21OA/oFa0HophciBRqLXFRdcGu0XgEoUAkR5Re1XpDTHhEFM5H1dN75vV93MdPHx1Q1lrfoVh30c0odyD6Pu7jTnwoZ+nwRSc2mmYvJ5NbJtNbnG8JsqIuKwoyNaJf7NHLdinUNsXWLv1sj43eAacbJyymU3KjefTgIUcHD+nlWyh6SCggFBAiyFIhgEQQuzE4xBhD2RtAlhOM4WpyzniuaaynaSJLSpsC7wLj2TXffP97esWAUX/Iw61PKfUgdgGDxnuNMQYJEeAoiVRWjVCYfnRIyUu8CVhncaFN85IB11gqGzeO0RolGh00WmWpGC0cbX/KF09+zT998S9slfv0zQYg6BDQKok4hZgz2BD5Z0plbG/ucrCzz7A3oJ7OsI0l01EpOQLmlqZaMJ9OsBt1GoNaRdfZ9wg2QBCHhJrbxRVvz1/zpxe/5/z6lNoucLpFMo8yChcs4FA65gkheKxraV1FYxc0bk5tF9S2QYzHJxEuhwMdyIuc/mhI2e9hQ7ReFcmWlGStSka9AYNyl92tGpH4ekFaOi9gTYaEHCGHkINEX24PiJdOLmvZbFhlVitHFumEc5eXvS7HiqG0RMpzOo4DAaWBpKfS1A3OuSXQ7SLOC5NyoNgAEaTTU4svHxLNWyVoLLFgKQhKaQZlj1F/EO2uWoXzscsrPqqqO+tjocMUGBH6+TZ72w/Z33rE1uiAXEXhMoJKAlqShGQCUX06KXzj8colcBzwKoLoIOCj2RMOG7vJ/T77h0ec3b7GXxuiArzGB0VIjZIgjtvZJbezWy5vzridXTGZjHmw+ykb5S6DbIPN7QMOM0WrLNeX11xdXXJ1c8FsPmExn9HUFfWiwjWW0XCD7dEOB9tHbA33yPUATQFiCGgIOjZcSETFjwBL/SyA8nKeIQjD3ohPH3/GoCzYHPb5Pss4u3jD9fgCX1vQGmUKMlVwsP2IXzz/Z3Y3H7C/9ZBRvomRAgnRx053wKLrKKvA2pl8Hz+LWM3DvH9rvMokxsF6pJGZqE4dF0kvsS6oVc5GucOnj7JYjfTCbLFg7icoE5hVE6xtUCFDB1g0Y47fvUCLxrYtv3z+W3YGR/TzTeKCGV9vWXlNg9RxGtnBcro62Y8lBRdJbCUhJtjWOkR5RAeCOKyvaPycqHYIwQuZGZCpgKZApWKSs3Eh1AqcjWqa982s+7iPnz6UUkuw3Klbvz+L3Il53dOv7+OvijSuAx4XLJPZmOlsjA+WIJHmKUGwLTjRbA4PGPX2MYzwBAa9PoNHuzw+fI54j5ZApqPHsVElKuQErwldzyFAUEIQhSfDqAGjvqJXDsh7AwZb2/yX//b/0LQO0RmT6RWIYzga0NQtzrVUdsz37/6EIjD4TUm+8QCjClzTgs8wGASVOnMq5XWQ6YKyGNDrj5iFFu8hqBAFvSQgWbTpVKLIswKcwjdCqDUbvR0Ojx7xq89/w6cPv+Bw+BjxGm8V4gOYgFIe70JEAaIRpfCi8Dj65YD9zX0O9w6Zt2PqyYx+f0BQsfOsAbylrmZYWxN8S8AkECexGK0VoiPQq4Nj7m44Pn/Fi1df8fV3f8TpFlMkqrAGtKO10cNWq9Sx9R5rW3ywOFoaWxGIrDaXLKZQRICtA2U/RxvBBUvdtmSmh9EGlSwslw1PcjLVx7qaENrk4NKV1YXgdRSlIkMkClotm8Hrk23y3sEJK9Ze9xhig0xpjcMSKdImzU+7BJTjKJgowHvatsa6GhcsWtRq3IwEwoOKqliolZgLgS7REklAPFm6trZdCi3ubGxysL1DpgWtQHmBTimaAFYRgsIFYVBusb/1iMcPPmVndEipN1IBIQLJ2BRP1/euo6x8EohZs2zqmH8iqZOcWCEElBgG5Yijw0e8evuCQEHTxPNJG1Bi8bQ4ZynLLDIsxHFy+j3vXp9S8BXbw0MOdh7y+PFjjh4csbu3x8bhBp/sf0LjW2o3o27nVFXFydt3XJ9fsr21y+7mPvtbB2wMdhEyBI2SLNpnKcH7OOZvEoP+Hw2pfhZAOZ0uaAyFKsmURm0/pJfl7Ay3uJ1cMJ3dUDcLlNIURZ9RucXmaI+trQP6xSaDfItclakCKeglxSMQbLjHxz/ruNs1/sFhIGsX8C7SGEnwoHUW7b7E4EJFAHpGc7D1BPskYF3g9cV3nI3foMjJTJz/0QhaAoGW89s3+JeO1rY8f/wlTw4/p1BDJIALOnV8U1W2ay277k1Yuqu+iESBEFFJ4KNblzpFeU/l5txMTzm/fsvJuzdUiwVaG3Y2j9jbeciDgyf080gTcsGCV2hlMEYBH0mJ8D7u4z9YdCDZGIO19g79uqNe3wPl+/jLIvzguyThKxsaFospVbUA/FJzIgC5LugXm2z091OnuESjUSrRVHW0w9F4VOL5ieQQTPR49VFtu3M2jIJ0GiSPApQaNvoHPNnT1J87Xrz+iu+Pv6FfKFq/YLFoovNEBkHVXI3f4F3N9tYQ93DO4dYTEIMA1rWI12lVVIkgq8h0HmnAvRHT2S0+CCbLUiHZQnAYbdAolIXQKowrGJbbPDn8gi+f/5bHB8/YKndxVfRkNspEcSMkji+RilZEYKuVTgrBoIyi3+vRywrmyqCTv6z2gLME52LHPYE06xq8jyALFaWuAoIVz9X4kpcnv+PF6z/y6t231H6BygSdaUyeUVtL3VTo5FLBGtssBE/TLGiaOcgGSkfQ2fh4n0j0iK7dgqvpOdfzcw7aQ3K9ARJwWLzXKDFoNM4l7pwWtBRAhnQ95wRIxUcwGgsX6m5m9f5A7vooG2t3rR228fgx2NAQBPK8iDPBOnWVvQPrIxtCg4jF+orWzlDG423a9plGS5bUnZMivEsM4UTn9j6qdscqikfEY0x3zrRMFmeMp2e0zQwJLUYlH+QA3scOtAqG4BQ7+wc8efQpT598zsZoFzB434nurX3cQCxSSYBl86NjOWqWtlHL1s36f4ZCD9geHPDL57/FZDnH715wdXPCbHqNySUKHYvBNw5HE5/OJRo6c6bzc9pmxs30HS+PR4xGI4a9EcPBkOHGiMGwR1kWDMstBian2jukXwwZFhsMik20Njgf9XGSgzdIbKo4D9r8lFK8//b4WQDl7hAxiVqDZGQ9xbDsc7C1R9POqdo5VTUDEfK8z85glzwbEjAYShQ54g04QXysGi3PWx9pDR/DDr2Pf0TEi/afFZFN2HQZy2t+ovgoTcCkxVgwIWezf4A6zNA6x0ngenKDNjk+NDjbRrqYeJRyTBdX1NWctq1BAllh2Bs8ojQbKApUiAs7qUpKCLHCHVZfcQaa5WIgEq/58Vocf7fBMq1veXd5zLff/4EXL/7EdHKLMRlH+0959vSX9IcFWit6egMfXPI1VGlW+iMoD97HffwHjE5EpZtTBu50lO+B8n38xdElN102LiEJQFpaW1PVC9q2SloV8fHBBzJdMCg3GfV3KPMRigJDRucHEkgUX1yEp6IhKQhHNWGWa2nXZYw/GSDgcZRGsTPM+fxpjnOa25sF8+aGaXXNpLpCZR5RHicVdTWlbiZ89apHnilGowGFbMYirneYYFiSehPbyihDnvcoyxF+pvAo8kzjXEtIM8NGoqJvaAPKGXp6xKPdz/js0T/z/NFv2OrtYSioqwYxGVqZxNCyBG8jsELReh8FL5M39aKZM69mONuiRZEpjWss2KiJg/OoEMgzg1GCiMeGFh800RZVsMHSNi3T5prjs9f86bvf8+rkBdfTSzAhemQl9qP3DmctWaGjLmcIyy0uAlU9Y7GYoiSgjY7q1I1EOJZo5K2ruW0vuJi85WB+yMFGiVdxn6oQfY2DKKyL4F5rieJW6zlzCIj3S6Xp5f7oxke6rm/ni5z2VUy838sp1i9tsspnCEKW5clGL6P1ggsB5yxGFEoFfKip2wmL+hajIYQ49+6DQ0nqJLNiAwqdFWYyXAux8RBtp2JRqLULZosJx+cveHP2grq+JUgUgHO+cxBRGJ1YhE6xvbnDg8PHHO4/pqdHkZIdFGHtc4YQAfvKCScs358kgdlY+llqoafN00miGTJVMiy2efbwlwwGGxS6h6Hg5CwqckOL0pa2neO8JShHmRvyXKG9xba3VNUt12MfWbbGMBgM2dzcYm9vn/29fXY2dxjmI8q8ZLS3Q6YKenpAz/SwTuJYH4D3BNcpiq9S048hfhZAuauj6OWBHlXyjChyYyh1j0G+QVvWOB8pMUr1EPIEkjPwGtdGIxwtcpcGkigXH9Rzuo+fVfylEDAKP8TLmCQhjiim5dFE64JcD9nq5/QeDqiahvFsxu3iksnsmrq5BSxKOfLMI6kifTs74+vv/pXx+Jpff/GfeLD7CaPeLlr1UWRR3MJ6CA5NnB1Gsmi2F2IVUhKw7RyuIFYWgwi2bbm6veDVmxd89d3vqO0UZ2oaO+VibOhf97mZPWJYjuiZPilfj6M0Llahtbk/Ue7jPn7K6Kyguq91cLwe90D5Pv58hDudu1hoWd3nnGVRzWnaGuds7EImamcgYExGr+gz6I0os36cO03FUR9CVAkODpRDVLKk8hH4CAqjVx2kQFwnQxpVEhVFs7qO807vkM8eCiIl/+2r/4953dDveaaLS6p6RlGCMUIQz6u3XzHsDzjYP+Ro0Ecbtaa/AXqdzitg8oyyHAAZiMFkGc4layHrsS56FEsLvazH/tYDfvvr/5Wj3eeI7+PbAmVKRr0CEIL3NHWFVhatYxc5ukAEnHgsDS0N7y7f8e2rbzk+fsOinqMQ5pMZmeSUuo9WGUVW0O/3MEZH2rCOn1OSC8ukmnIxvuDl22/4/uT3vDp9yaQaE7Qnzwq8ONq2oZ4vQDy5yeJGUILRBvEeJDJTZrMJ48k1Rgn/P3vv+STHdmX7/Y7LzPLVvoGGu47kHc7ThL68//+7Qgo9jZ7IIa/BhWtvyqY7Rh/OyeoCCHImFOTcCaE2otCmTFelO3vtvfZaeWbIspzG5TjrcN6S6ai2EnzF1d07xuMxWc9QiCmZHGFk3H4+xA5zQIA0HzGWhe8owzE/2IyKpAa395HxpjZVlLST6EbePrltH0BbIYTESE2/6DMZTWiXK6wv8S5uQ+drltUdD4sLZstLhkWOMX1I29mGFu8dmTJIqSILOsRNp2UErN2MtxCeQMO6nXH7cMmH8zf88fW/8svVn1nX95B3rAAPQiAkGBmVsUPQ9Hp9Br0BhciR6CgQJh/7696l7cO2L7IHkSBdGieIjZjN2Zz+F1FbKQnGGHJ6eszRWDH8/YTTg2e8fvtvvD//mcX6juCrSIOXBudrcpljlKQs51F8zGhynSXGScuqumFZ3XF585ZBb0C/6JPpHseHJ5wcnTIoxhyOTznZM0nNPBbQqsYRrCJXOToTZFGL7L9EfCFAOYZrHYQo5S6F3lTYJdE+ypgiVWlEpLE4jZAaQafmGy8mHXO1CyFlrNB1J/GOh/3lxWd39zYXiEcKdlc5TzQTH/UXIu1K6LTgOYJwaHK0ynlx/B3OC3589wfet5Jq2SCkQ0hL8J4QWgKOygZuZjXrak5WaBq75mT/+caDT3kTL5ghUtpEdyXa2DulKi1bb13GC7LDUfmK+XrO7eyGm4cLip4kaEtjK2ZruHnoc/twwd7wgGFvShA6dqM3Ymc7kLyLXfwjYlvMaxsobyted2veLr7UEFu3fydCHM157GJ5rK0pyyVtW+OJnrsd6hHBI0VAK0Uvy8i0ThRjFzUviKq3Usg4l7oBR3HtiS+l+Wg8p6MBRyWPRBg1BBSNaxkXh3zzNM5WSqV5/eEPKFGAavGUBBmdHVb1A1f3H3hz8TOj58f0zH4sSG+WugDCEagJNGijKPp9lMqg1dEbNihE0FHN2BukyMjNiMO9M148/Y4nBy+ZDk8INkOrLBWtwNo4PuWTHZFQUcTKikiRLn3Fqpkxq254++En3p+/YT5/AJFYY6g4NqgLBr0p0+keo+EIpaO4p5AShKX1LctyxfntBW8ufuHHt3/iZvaGVTMH5dEypvtxswsUhslkwGBQcHd/hXcNWgpCcHQ+tuV6zXq5RAbBsD9ib3IY53itB5pEnfcEWfPu4s+U1YL7+S0H0yfsjU85GJ1RZBO07GFVFMVq0KmhHRWkpQxRLC54ggjJWDN1lQVRVR2Pl37rsI3vLxZhFNtQZsNC2DrUY6ssOnkM+0MO949Y1PdU9Qp8LPg437Bu7rh6+IX3txP6w4xR/4BMDgGFD4o2kJpukqAEzsUcL25SSxANUljqds5ifcO7y585v/qFi8u3XM3es2quQVapSJI+50Yh3MYmnVLUzYpl+cCiemCQKzKlEanR57f8zkUi6QUSfbsrkgYIXkQQLrrUM6RzKHaZXUjbWkh6UmF0QdHro44zxvmUk+kZ13fvubn9sPG+dpSE2tG00YNaSEuQLU5Eq6sAOOHjjLGVuPWaVRVn1ctmxmx5Q6777A2Pudy7ZG90zKR/yKB3gGaANj2EBOcdznmM0n/T7vA/K74coBzAtbE8qaROYkoeb+POlVJhtN4o9rbWJeW1pODbUUI6TlDqJCMCQnUcEsduBvPLjE+Z1TECiK2kNGyuWPE5G0N4n7z+iHNMUhP1CX1MRlCc7L1kMJhiG09T+uhFR4kLaxq3TklLAsvNkmV5j3oDdbukdks8NQejY3I1isWfYPAiJiWRiBP/ZizhfvyW0yfB4qh9zapeRauIeoHuFwjp8LJiVbfMlgMeFteUzRJHG5WzhYwUO9ltqV3sYhd/7/hcRxkeu8rbYHnXUf6C4z80J/ZpR1kQkk3SulxiXQ3BJ9ZrEg3CJZEuQaYURgoI0doo0mdBKxkFmvAE7wjBR9Vh3x2faewHlQBO6nCLBKpDQKERQVO1lkINGe0dEKTEBcf787dgLFZ52lARhI0iRsJyv7zm53c/8nT/N4z7T8jlIC5JPuAFCGoCawI1WkPeK6KtoZfYNhCcQonYTZNOYUSPcX+fpycv+erF75gMjuhlY4I2G2MHFwKt91FkS0JQAafinLdN993Xt9zMLri6fccvH37k6uacpqlQKnYqc7d3hNEAACAASURBVFVgRI6RBQfTQw73jxgOx0ij8CIKN7W+YVmv+HD3gZ/f/cxPb3/k3eUvVO4BlbdkhQYBTW0JPqBlxnA04uzJKdPJgGq1pFw5lE9AzAuCE9RlTV2WyACT4ZSj/VNmsxlN3SLTP/CgWi5uXnN5857Lm3NOj19wevySs9MZk+EhvXyCVgVaGGqv0claSckIOqOKc0dD7vCtTCMkPh193TWrI2drQMfjMDWpYgPi0esYkRgJJBVqBIP+iKODYy5u3rKqNS5ohBf40OJCy9XsDYPLjMFewZFsGOdH5BIChlaARKOFQiiJxUeF8OCxfk1rVwRfMVtdcnH3mn/78//g/PI188UNwbQEXaOkwwkXR5nTsS6EwPmGEARaKubLO67uzhkOpgip0SoJpKat5ImUby1kElUD68NmJCDp7pGE44mFrHjqRzvlyF50mwtBhhFAkBwOC47Hpzw7ecXF1Vt+/vkPXN68Zba8pmmXrOo76naBLAReWmxoHzvYxAKCUDHn88TP6S2092se5jcEr+hnYyaD1zw7fcWTw5ccTZ9xMHrKuGdAaVzlsNahTVcI+XXjywHKgDEmGVqHRHcwZFm0d/LBY13YiEfoqAYBQSXaDwQtNmMRnSy/TLg4BB9tdYRIMxG7+BLi8wCZrcvZVld5e6am4x4FgZQCmaj7IYio/LmxdFJ0syeZ6vG7r/8bk/GUw/0DXr/9E1d377BNQGUSpUUUkdAOR8v57WuqdsWqmlHVK+rTbzg9eE6hJxhpcM7FQ9brWOkPIuYjScU9dMymVJV13tF6ixcOmQnyvqENNTI4dE+ilCbra1QWVTe7RCuuXXIzd7aLXeziHxMfURc/E7uO8i7+v4VP7gctdV3hnE19NBKIjdf7zGh6vQwhPT60CA9amSh8JQLet1FEK7RIlex6hI9MPRlbY8EFgnObpkRsOCdvBu/i+FswjPJhUosWTPoHPD/9hn/5p3t+Pv9XruarJBRU43D0+yNW9Yoff/mBb55dMB09Z68/isBCxW5boMFTIUSL1oEsi4rLtm1p6wYjJbk29PIeNIJcDdjfO+bs5AXPTp6jjYpexMpgLQQfxaKkApUlICE9lhYrWpbNgtvyng/Xb3l3/gvvPrzmYXZDY0sGgz5NXdLWll42RFhJWzlGwz32pof08yFCKmya+X5Y3/P++j1/+OH/4d3lW24erpCZI0fSOktTxxlSnCA4yWA05p9+9z3Pnp6iFVy8fY9d1biqjuA0CGzr0aajRcN0tMfp0Rlv37yjEhVGGoJrQESlsaxIQmKy4ubuHfezW/784x8Z9KaMh/scHpwy6A0xyjCdTBj0e2RGk2mzEUfrIHAnrCY2v+t4DV2bWAEW0AhhNs/bPKPrZ4WAd3E4WkmFC4J+MeBwekyh+yifJVDZoiT0Jj0W1T0/vvsjQQWenjxwcviCo8lzenqC1AVBNFjSXG1SuLZUXN295+LyF25u3/OwvGCxvmaxuqayM0Le0ISSgENnBrzAerf5PCEEmrpGEVBac3N3iUCTm4Jc9xkUIwAkFiE0XogkkpeBEDgfaL0F9bjNOsVuGTq2ROoCi9iz70pSILE+5oKFyZPKuIcs8Oz4JUfjA+blDXezc66u33L18I6b+Qfuywucb/FSxAZjYi5Z69LstEAlu12RSZy3OOeRaBalY71eU1YrLi8vGBU/8u1X/8TLp99wMHmCzjIKo+JoR2dd+ivGFwWUpYwKcJ1gAcSkIkiJCKmrJwRCxC5bEPJRBFA+KjFG3CIi7SjN6GzrC+ziy4vtEadHqlh3koetRyTRhS0BCtGpWmzN1sRHC6KnZFQeNDLnYHREpjS9LNt4W17cOKxfR1EKFZA64IXH2ZrZ+pr6Q0ndVqzrFS60HI2eM8qPoncdQIiUpE2S7bbeqoQgAtb7NDMWmC/nVG2FyhRBNhE4C+Kgl+y6C5FWFdLHDtujRbvYxS7+brEZIUqd5M/NKXvv0Vpvft51lL/02F5w/vpFufPUDSkRCj7QNk0EysFHanHwiZVnyIuMfi9HJgVlIUCJ2DXsCKPdTGWnas1mnYxd6Y3ei+icFlJXOXW3g/XgHNrkeBStC/TVgJPpE9zX/8yquWNRXVH6BV5UkXIqJY2zVOsFV3c3HO/fM+gfg1CE4AihwboHquaG+8U1b+5fc3MbFbOViuN4Mio20VYtg3zM4fSYr15+w8nxKUUvJwSHo45FZSlwiROmlEdIiw0lZfnAqrpnWc25XV1zNbvk5v6S2/sr7h9uaG0NBJwX0ULKKzLVw+iCnh7y9OQlh3tPkCoDBI1tWFcrfnr7Az+9+4H3V2+5nV+yrGf0dY5UISpO22jjqIThcO+QZ0+f89vn/8R0OqSs5/RUHyNzBCF2An2gdY4gPN5ZrK3pFwOe7D3n+ckVhozF8o6qsXgRUFKgdez8WV/StA3OzvBOonVBvxhxt/hAr+ihlGY4GNArCozRZMagtYluNMk3O9LzZaIlPwq9aRXF16wFKTMy02cyPqSfT8jNEEFAYZLecwKM6bgNAZTUjPIxx5MTDkZHzOYPzNY3mJ5GZwEhPY2tmZeWN+c/MS+XXN1fczg5Z1jsk+tRVOwOKgqBWYezLbUrub274Pr2nIf5JVX9QOuWeEo8DUE1eBdntBUZIUiCc+kk6Bx0opWmC5aqWXI/u+SntwrvAlW1YjI8ZNjbo5eNCFISgsaFSH8PQuCVx4oW8CgpUy8mYGmoqgWr9QOrckZrKwievNen6PXp94cImUX1eZl1lSmUUnFWul8wcAWjSZ/xaMjh8oC71ROu1h9Y1A+smwVlWVFWFXVTg3RRzVsKfNcUStcPITwuOPANoV3D2lHWK278NTZUlM2Mb1/+jr3hEYNsEmewMb962vhFAeUuU4+Vyg6NREEjkegfmwpP9/BHNfZHYTkB0nQX+MfZZCF3ir5fbITtb5J3HVH18PE4SVL9QkI3P/IJDW7jGUjsLse5Go0Q0W8QJHv9PUb9HlJFm4eqrLhfXVK3q6ReaVEiUPQ0dVlzfvuG2XLGbPmA8w32ZUAcGgZyGqvcya9Qdui4u6il+RdPoPVtfHNecnN3y3w5RygRbRYCWGej4F2IF8KQKFDQVTbT5/vH74ld7OKLCu891lqMMRugvN1Z/hQY70DyLmL8latx2M5rAj5Exl0Hdq2zqWsUUCoqN3sCRkFRGPr9IjkygBad8VLq+KU5WdlxQwmPC0RwJDoVQuotLN/NMkflZ+c8rm7RMovv0gqyImd/cEAx0Hy4+Ynrh19oV3d48ujF3GnPCMH13R3XD7ecnrSJgBpo3IJVecnN/Wv++PO/8ub2DVera2yw9HKFyAqCDbjaMV8v2Ts74umTM77/7ntG/X1aqqTi7HHUcTZaxrnkljYqH9sZ1/cXXN184PL2PVd3H7h5uKC1sdMohURlsTmzWq+RTpLJAi17TIaHnOyf8dWz33K4/yT18gVVU3N+e87//W//gz+//iOmD22Y48SSxjVkMiPTObW14DSZ6fPdq+/5/W9+z9P9U5yM1GpNRi4KtElg13lUaMHGwkjZrhn19zkdj/j9N45c5PzwY0PVrghIhIk5dAgRaJKsqkDQ+pqH1Zz5+iKCQhnHzSDEHEZptNZok2F0nua7VdJQiR1S6QXCBXp5Hyk0VWnRusdkdMC3X33Pk6MX7GtNCBqFxwgw6Ai4VaTOe+sxWcY4HxMmJzw9fM7t7Q1XV5cUWR9FoLYLUOCC43J2wdXDDVL+yCCfMOjFm5KJjm8DZVlS1RVtU9LaGudrhGwRyiGVBWEJ2Og3rgSgcdYQvEGGaIskBYgQwS0h/m0lLKvqgYfX9zw83HB5+5ZXz7/j7PgVR5OnSGHwQWKDwKgcLTNUZnDB4gMYaaIdG5bGLrhdvOfdh595f/6a+eIOH1oOj044Pjnl5OQpo+EBeT6m9QZBLEZEW+p4TgYhGPTHDPp9nopnNKHkIdxxPb/i4vaCDx/ec3N7TeseQDhk8Agp8Fisa6OKu5Jxrt62BBH3vVeGylua1R2rn++4X1wgs5qvnv4WkyX7uHT7NePLAcofrQlbScN2VTU8PvCvpRKhq3BuOoXbFNv/Gp5fu/gV4iOPv+72KfXaxwUEnzrK251m/uKg23Rg0wJMsLjQ4rEgBQfTI7599Vu0Ufxy/iPnt+9YVXe03uKEpbENUgomB0Pwkof1Df/nH/43ru8eePX0im+f/569wRN6ahKpRD4grYtehiLNFAhJSIqjta9ZtjPKdk3d1jRtg8IlcB/FIPq9IZPxHkXeixVhZZBBRmlIxCODZnei7GIXf5eQUm5AMkTg7L1PQCYJJSXg7JyjbdsdWN7FfyhEKuamQZpUdHk8nmKTQcQ5X+8jzdW7qMYsHjMiH0RaDlMBR2nwlhBcGlVL822otPZ0IpMhVY/TuknUkxFaIlxcE4MD4VSk1wrNwfSQo4MTZus3ND5a6ljvEdJgspz72Yy7h3scnhYLoaV2a356+2f+/NP/wYfb15R+idQOQZs+l0cLgyky+lmf6XTKcDhM/q8tHgc4fBA03rEqVyxXS2bLGYvVnMV6xqqaMV/PWa5nLKsZdbvCUuJElViOEcgameGNoF07lDcMelNevfgNv/369/SHU1oHznu0UpR1w4eLc+bLGdbXkeqeCYZ5hrOeqirxdcPh3hMOpqcc7j3h5dPv2BudYGQfJRR9FX1t7+Ut1brGOQdC0S8GCGmQAuYPD4yyAyaDIU8PX6G8oW8GvLv4kbv5e5bVFSFpqjyqlG+wMkEEhIjbCAHeOTwBLwWOltZJRKgQrdqIVm2SnxBBcmgdmcoQGJwFKXJu5zNaHyjrFndGtOXSGQGP9RaFREmJljq1vxwiaDLV5+zoOYvlgqqqWVR3rJsVFCraZylSR1shhaClZFlbKjuPINKDd7FA6azFexfnxVX0UA4ybo3gXRoZkICBkOFdwdmTF5wcnyBF4O7umqvLcxwrEA6lZLxO2xbbOO7nV7SuYja/5e27n9ibHDMdHzAa7TEc7tHvjchNH00eC6VInLBUrmRVzbi5fcuHi9e8P/+Zh9kldbMC4Zl/OOfNdY76Q8ZoeMhwuI9WfYzpk5kBJsvQRqG1RMiAkA5EnPcPyhF6Aecl/f6Eo+OAyXoUvSGz+YxVuaBqSkiCfyrT0UaLEH21VBzXaH2J8C1BCRrvma2veXP+A8P+gPFwSqaHUZzvV44vByjDX0nOtwmzHz/g8+JMSeRiCwSJTwDPDgN8qbF9LGyD5C0Rik5RofMXE588ZDsEifEQKWmEBoEFLC54iiLnaP8Ek2lkpgla8v7C4htSclCiJGijCS5QtyuWsxV161iXFY1rOTuYczQ5Y9QfkwkT1wgZlQYDPi0tHkfLonzgZnbFulrifJvUdGMSI0L0Hx/2J0zGh+RZH4FCSoNwciPmEhOlf+Au2MUuvrD4dC55W+X6087yzh5qF4/x7x0DKZ/Z1HHDJsv5HHMhFmgcvvOuSQylkGxq8N0MjgYpHxvX23M+SLb9YrvRHSG6dcZHEC4T6CEWg3xwBO9ABfYmexwfnvLmokdlTfQKdkTtaJNTNw3rsqSxDUKBtzWz1T3vLn7h5zd/prT3hNxF4leaq3RtQCiPkgKjcwKeql5x83CB1lkcTbLQuJba1syXc+bLOQ+LGfPVnFW5omzWNK6hdS0+tCAtUqa5UeK66F0sWAuvGfVGjHv7vDz7jlfPvuPs9CUyZATfCV8prPXMF0uqKtp1YS1aezIjqb1DS4XOBjw5fMaLp99yevSC44NTRvmECB0FPTVkVEzIdcFDe491AaUFSicbJDzr1Zq2dWhZsDeYYI4Mhc7o5TnvLjPeXzlaX9H6Os2vd9efeNSITc4cC3iotIeFwKf7YpfZRgeP7hjorDN9QDhHY1skGoHBu5aysXgnUSpnMBjTN2MKE/224+up2LWV0eLJh0h+zlWP04Nn1HVDU7f89PbPtGsPISMQxwpCOkVccHhvaVgTBeXS6eF9GhMQ0Wppk+Z1rFQBQiMxSCWQIic3Y8bDJ3z7/Lc8f/ocKTzv8te4SnHdXtA0S7wISBHHGpT2WLdmtqhZLO64uTtn0J8wnR4ynR4yGR/QK4axwCIKlNQoqVBCUNsVi+qe6+u3XN285frmPVU9w4capQWiFVGduoU8H5MXY4zqY8yQzAzJshytTbQhU8R9mdxY0CALDSqqyre2jQLI3Z4OAecdQgaUBGkkIm3HIFx8vdRxVlJgcoNtLHW75Pr2A4snL7A0saP9716n/vHxZQFl+Oyg5OdyhiC2d8/mzKBDNdtAWW7u/xRq7+JLCREeiyh/efv0wd03H4Po7eNwY7shAlG0oiaICiXA+5bWNXgFWWZ4uvccLwRBC+q2Yr4uqO2SRXWH9RVl00R1Sa3IBopVfc9P70sub8958fQ7vn35Pb99+T17g32UypFBIxF4AS2WJjSUbsX1/Tnvz39huZoTCOS9PM4+eYcIil4+ZDw6YDo+Is+HkCg8IDdJ+y52sYt/THTgt7OH+vSc2wHlXTzG9trzHwHM0Y84pA7vYzc5Kd3iNx3lyGaIzwsJ+IoQgbEImg3dmmjDKbricVAQVMyoAglAhaQHI1K3LLGriONBSkc7ndJWWFdjVct0OuWkPqXXG1I2M7yztG3s1BmdbWZwy7LEFJKmqbi+ueDq+oKHxR39cVTzbZoKi8Naj2s8XmQ46Qg6cPdwTQie5XoOAaq6ZrFaUFZr6mZN2VSRdeXb6B8NcTZbRSpwp5cDAU20npJoylXFqqkx9Hjy6iXff/svfP/N/8JkcIimhxYFKIlTUa9YBhNVhZNolatrgvQYGbfVeDjlePyS3331e148/Y7DvacUqo9EYUOFQlCIAcPehFz3CJYkIKrw0eQY7y3WNuAEmpyMPpO+pshyhr0B/aKH91C1K8pmxbpa09oK6xq8j0UBn+SvAnHuWWcapWNusOFkhkfLp/h9cuQIAi0gU9H/V6FRqqAqLdW65fL2ml5vzOHBE06mz/C9aAPbyYHFQzYpRnuPxJArycnkDBVijlKuG1yQtKamDhWNrXC+iQUNWsAiaEHYDYiVSpBlWRQJcxAsBNe9d40MGqWivafRBVoOONp/wT//7r9zcnDGdDBBAYXYw7eG9cJSrVraumQ86ZP3Zcz12oq6iXncsnrgZnbOxW0Pk/XQuocQGikytMrJ8gxtNEJ5bGho3Zq6mlOWD5T1A96XSOkwQmGyDCUNSmjKpmaxvkOQx5vI6Rx8YsEgJNST5tZDoHUWqWXsOhsTmQLBJQp6i5QBqQVag9Zgm5a2rRGAlgqjZGRASEnP9KhXlmA9y9Wc1rVovSV6+yvHFwaUtzd4OgC2qa+feXxHOfoU/CSb9a1H7WjXX2qITa398/c+HmOfu33y0O5Lmg8J3uKpmZd33M7e8e5DnDduvGc4nTIYjuj1hqiB5vTJE/K+4v3VL7y7eo2dN5SVp3VVpLuIgFYCocHbimV9y/mNwoWK1fqeV6df8/L0a3LVIMiwVhJStTSTAedqymaBdXERDKFFSYEUcWZn0NtjMjykr8cokROQ+JD6BJvuwz9gB+xiF19wbM8gSylj8rYFlrv7OrCx7bO8i1387RBJUCmCPSkUSmmkjNRo5/zGfieq7zoaW8eZzODis5IIl1JJ/iJ1IQQ6dd/8I716I2wUIVOI7evUVU6rqbcEWqytkSJHmQFSh8SY9TRNyaqcU65WOOui3aJSSBTegs51ouI+/gNBlhcMBiOy3NLiaH20udJS42UE8jJIXPAs1wuatmE2vyeEgHMW51taW9PYGhcsQQRMpkBqEBIXoNMbFoBtHE1T089ylDQIbxgWQ8b7ezw7fsVXZ7/hxZNvGPX2yeQgiW8+2pW6YNEm4+ToKbf35yyWt1gE0rcoD5PhiGcn3/Kb5//Ck/2v2BvGMSslTFJDTmBbaPKsR5YVSK1QOiMIqJoGpUIEja6NXtjBYB0QJDk9DocnZM9ypuNDHtZ33M9vubm7Zja/Y7F6oGqW4CugRUkPMkSfXOdikZ3IC/CkGfJNUSYVR7ptRaReYy0Si9HQNuBd5x8f1ZUlKjISgsBIjcJs6aNEazJPdL5RwjDq7/Hs9BVVbckHQ365+gXXLLBOEpyMHVqdYYxHyJZAg/cNIUQmQFOtk0hYhiJDIjfPBUWvP+ZgesKTk+ccjp9xMH7G4f4z8myAERlaBA7HzwkvJcIq3r7/gcvrN/i6omxqhLRJEE7R6xdJX0ngA1hXUlclIUS6ulIZ2mqklqA81te0rsL7kiBrROFR6USycYsig0OJDK8UZBBCk+zTfSxyddhGRjVjKUKcMUegvEqZr8W28fUQIIVPlrkCHxy2tdjGEnUGOmE/ibchFheEQ1lLW6exv0wTvMQ7EWnw/wXWqi8WKKfU4W/UKjanLI+ko487hI/Q+FHWfke8/gLjswfR546FrbmbzX2JYkbYuiDE7nTwLi6+oeJ2dsUPb/6Nf/vxf3I7u8c62Ds8ZDSZUgwG7B8fMN4bUvQLBqMB/WWfVZnRtArnJSFEP0nhiZ5myuOsZV5e0l6tWCzuKMs5PrRMBwcUxRChcoyIFVOEp27nLNb3NLbEeRsvmnEKiBAUo8E+k+HRZlEPIVbuBZFmszszdrGLf0x03eMOKEf/0cf7uuges4tdfBrby8/WbyNYSSBVSoXRBqXiHKm1LspuEG0OrWup6jXO1QlMJKotASljgg/EkZ1uvrmzWRCP6+JjbtyBZTZjQEJ4gnS0toqiQULHmcnQYH3Fw+Kam9sLVss5LlhMrlBaElqJax0ykxipyVWOEgqtNIPeiMlon/Fwj9rd430EoxE4qqgy7CTBRyBWtw1V07BYzoBYCJAqgYZgI+VUKbTRiV4s8dYjQuywa6kJgPIBIwb0swGFHnAwPuL08BlfPfsNJ3tnTIeHKHoociRZAtqCzlEjz/ucHb/gYXZN06xp3IIga0wOp0enfP38d3z34nuG5oBMjhGhFzu2RKGxONqlybICk2UIJVE6Kjq3to60WldTt2Xqxip8kMigMULSy6Ki9f7eMQ/rB+5mt+wPrrif3TBb3LKsHqiaFbUtcaGJHUkcZVXR2DZRoeNx4TwbwNyJeImNWnqA4HCtxXmPlxaBIdM5g96U6Xif0XASGQOpS62ERqEILgK4WKLQsXjoPSjITZ+DySn+hcbkA4QsuF3dMl8/UK5n+FAiRIMWFkSDD5Eq7hMpwrdJC8IoMpVj9ABhCrQakOkRe5MTTo6e8/zsK47GzxkVR0jR2xSEFDDuaQrTQwdN3/TQKO4ezllV91GtmzhSYLJ4HAslaG0UCbPepaKUTcyJaPEZVMCFBhdqELFIoZRECEPwAuctNoDwPuVyydYnBEJwRL0Az8YjVEZxLpHcfqQQGCHwPuBdiCylhJJkd7EQIiqDp8fIZNGliGK2tg3g4lawUiKcIjcDpsNj+maCCnnaQr9+5vhFAeUO8n4uusLl42NTpZPO6uZzz9uquHz0dRdfWoiwRXEU0B0bgW5eWfCXx8vWLFYitsjNPFi8gLWuorRrzm8+8Mef/8B9eUdFicVzPWu4WV7GNOMnic4VvVFO0c+iRZR3EARGG6wLeGepbYUkVsnzIkOIhto9cPWwZLG4582b13zz6rc8O3vFyekZkgEgqVhzu3zP1e1b1vUSrWHQHxCcx1tJCIrJ4JDp6AgpcgQGGTTOBqQM0fR+k7DvzpFd7OLvFR347cDytg3Up53jnTXUFx7/kV0vRLeIJTJU19mLAlJZnmN0hkBiW4fXYeNT27Y163KO9VHIR0FU4gVC0JvXdD55KEt4tEp8tBgJRP3HeItgIdAALVo6RBZwwWFVjUfSYKnCmmU74835T7x+8wOL1YwsFxTCoHRO2wraqsUbh0EzKSYg4pp7dvKS2f0Fdzcf+PndFWVokEW0CJVKItAEIRFSpY5snMl2STBT6Tg3HIQik10xSoCXNK2lbRqaBpTKyUxG3hsy7GeogUQGyf7kgJdnr/j6yXecTs8ozAApM1TIMaJAkAHRazgQFcWFgGGxx+Ckj3cNk/GI1q3wVGQGzp6ecTh+wiibokUPEQw4Hd+bDKByPB4hEw1Xq/iWcTgRQIdYUKdhsZ5F6x8h0TrHIDDBgbAQYqd2UhQMs0Oe7X+FdRW1Kyntgvnqnof5HQ/zO1brOetqzXK1omrq6JLhAtZ5Wudx3uGc3wDRxPtFS0GeSZrQYBuLs5BnA8bjfc6evOLrl7/h7PQ5/WyATMdRJ0TX+cYHUsHex2KFC54go4/z8TRnPDzgxYvvuLg/58PVO84//MLd/QWL5Q1NOY+gFEun3q60ZmhGaGWQ0lBkI0b9fQ4Pzjg+es7RwXPG+RFFNkaZnLYRVKUlE548MxjTTYlLMqV5efQtA91jUPR5/fZPXN28Y1XfsyofaOo1vnVIk7q1CpQyFMokSnnsrrchjj5II5OitknFGZeExWRkRpBHn28XsLYDsZH6LlOBInU4AIH3LuZ6PlrFCRHITbTwUoBKtdcgwua8BR8LUsYgMxFZF9ajhMI2Hlu5pOrexzAgK/ocTE747tXvODv4lqE+iFZcv7KHMnxhQPmvxacgOf5uU/rkcXp/m6bdVT8fbbv5xOpnF19KbCcVn7t/KxHY8BT+0jopUo9CrMITK4XWWRpXM1vPuby/ofQLXGhBgsMSXLRucq1HNJC7jKLK0EZSNUucj4IIsRsgoz2HD/hgaVobaXVSY3RObedcPVTwzjMr73h/+5bRYES/10P3JfPyhiBalI5VfWdbRIj0JqFyxsN9xsMDlCyQGKKsv9+UArbnsXexi138/UII8ZHatXMOa+0GNAOb+WRr7Q4s7+KvxHZ+Ez65R6BVRq/Xpyh6GJ3ha9J4Tewot7ZitX5gXc5oh2vybJSEjmQEx2kZ9DY8plXAZiI5dOtjysC2mJfdGFzta5yvzHevMQAAIABJREFUEDoQpKP0C95dv+fq/oK75RVvPvyJu9klRU+hoqgH3ltwCiMUe+Mpe6MpuTS4EAW68kzz5OAFy7M7Fss5D1WGVRWOFmcD+DhGJIRA6AgQpAw44TazUi4Ego/g2Cd6NEGCVSgn6SlDng3p98YM+iMmwwmT8ZRRf8T+aJ/D6RH7w0OGxYRcFISgoqiVlWlkIoLkEESiwWukFASpON4/oyiKVKBo0CqwN57SMyM0OTIYZIgzwSKi4ThLm4B/XuToTEUbyBDSyHgAE/DKUbUlrWvj0KFQae43RNpvkteSAoL2BO2AAX1ahn7MqDdlb3jEen9F3VS0tqGuG1prscHjnMc6l24W66IgnN8U9WIxwyiBtZa2cdjWkWU9hsMppyfPOdl/wiSfooWJ70fG2eYQQlSv9mw+t0CjRPS5JgRwoKWmn2eYvI9WGaNixOn4iMXqnnX5QN3Mae2K1q0JoUWkOeWiKKLolczIzZBeMWE8PGA0PGQ0OCBXI5QoEGjaEAhKooTBKBVp0Ok9+iDJRM7e6AijFOP+mNvTM+7ml1zdvOfu4ZLKrmhdjfUtwsfubpBRAT0WFqLVlheetm5RRqJNDiGyB511GK0p8px+r48IIiqjlzW2cUQNPkFS2tp04YUQSKFjXpr80cFDE499IdNceXft8D7NNMukzScJUoJTCB+QQpMFgVGCUX/KIJ/Q02OG/SlHB094dfY909EJgizlkL9+vvjFA+VOM+nzET75vvu5cwaMio7i04fu4gsN8ekY/NY3cdEMaeUXPIp3xaJpSgPE40y8j7VdXHBUbc28WmFVg9AuumvIqCAYVSItXniqRlDb+Bd9iNU/AsnXMlZCPQ5vo79dnB12qEzjaGhsw8X9G24XV5h3BcPxiPFkzN7emNnyBmSLNlGds7UtRuh44TN9hr09hr0pSmR0Xnyx8h3ZGZ1m6q9/2dvFLv7/FZ1QVweAO0D86azyNpjexS4+G+HjK3QIjywprTP6vQH9/oAsy6GOa15sPCegXD4wX96wGp6Q6xGIApA4b5Cyg7sdywq2ZLsIKafqQHLn+iCI884hOGpfsm4WaClpfMusXvLHn/8nby9eczu/YLm+pfVLen0NweNdC01Ahj79Xp+nx6cc7R8iA4naqRDBczx9in9es1qv+fAw5KG6YWVXNG0d1zvn0ry2whgVx6OEiu87iEiTDV1rTSKFRosMkxUY3afIhwx6Uwa9Cf3ekIPpIceHJxzuHzEshuQii7TjoB7nkYPEujiWFWnI2/w0lUBzYNQ/YNgfRh9fLFI4tIgCYQQdoWwCyt3+Cj7mJVIqiiJHGYUNbbxfiI3dkVeW2pVYb+NH82EzmEiQseQfKWOJzh3nczUKJTVZ0WOQT2GScmiRxMc6Wq53OP8IlJ2PvsNd93Ljo03EaM552tYhVUae95mO9+mZIYYiAnkkRpgNnpNddzTp7wqpEEpB8gd3Pilcy5i17BVTJsUQt/8E62usq2jbNW27prFrvG8jPRlPnhfkWYFWGUb30KqHEpEmL9JNBhMFxPTjgGY8qWJu5kJIOEQyMCNG+0P2J/ssqjNuZxe8Hx9wfvWW+8UN8/UD63pJECk39A7XtjjvQUoybZAS6sqhgkaKPBZFrAcXGPYm7I/3OTk4QUqFbS2L+YJyVVJXTewyhyi7FinYUbk8nSypJhTAe9qqBpL+TNIXCAi89Jsih5Cx0BVp2xIpVPR4FhojMvYnx4wH+/TNhPFgn8O9U86OXpHrPsFrkP819DS+LKD8GVAstilGj7/8qIv82F3eni39+HW7L6m4uIsvLh4r8SI8HjsheT8+dpEfE4vt0kunsi63XkvISPtSRDESJxXFeATaYt2apl2DaMkLgaTFuuRtHBRGx86x8NELkCAIDmwb4hyjydFFjxAc3lnW6wVSZpiiT2tL6rrElzArr7l+yBje9qnrkqpaEbBoreJiZAVKGAozpK9H5GKAJIuV8CDQSiPw+OAfzw3RLfW7E2UXu/h7hlKKXq+HMWZDx96+L8syiqLY+Cvv4kuLbceOvxUiAR4gpMKKEBhjGAyGDPpDiqKPWuuoZhxigm1dTVnNOL98Tc8M0Cqnlx9gZKQtI3Ra/1qCkNFaJ1nARCwe0vdpMlVEt2Mf6ghaqCj9mnk948PlO95fnnN+c8l8dUfVLvGiwYmaIFrqpokrrpcIFxj3ezw7fsZ3X3/Dk+OT2GFTOQRB01T0zYTnx9+hs5zRh0N++PAnVHlPWa9pmwbqCussrU1dVQnOa4KIYMzoHkpptNDkpkc/HzLqT5mOD9gbH7E3OWJYxC6vkTmZzjEmi8JVTuBRZMqg0QQrkCgEUR0YLwkNnbMWUkT6uo221WiToXSGFzkECz76+wqlyLICiIKb3seGnyfgfOzUCikwhUFliiB9tMwSnsbVCHxUg/adQFugbW0Eo5KkSB477B3YCx4eLZLiPLNKQk4dib/Ld7yCoHwq5LnEpIt2mB1I7o7XELptEtkJQmiE1ChtYhPCxWNaCIHSMtls8cjc/YQkEa+PAuEjLTjYCH6VlmQqB5kRZIFXQ4JJ4nTJ+qwb4YzgLwJAITQCTVR5TwWY5PqBExtwLYTfFC47zKClQCiT3qsnyAGjQmJUwXR0yKvn33K3uOF2ds39/IbFesFivWC+WkBY0bRNBKYuzmgPVI4MCtVoQDPQBcPRiOdnr3jx5BUvTl6ihKJpLfPVA9a2OOuwtqZpKuqmpG5LWhsZACHYuG+2sZCVHzFAhJRIHWf+pZJJ9MvHYhWeIssp8gIl4zx3YXqMBnv08zG5ijP6PTOkZ4bxdTeFrB31+j81hCDtWHicE/1MhE++2fy8ldxvFPq2Ri9hl/vvgo+p2PIvf08qKHa/+uQCHn9M1TedkcmCw8NTvvn6t8yqGxbVPW3jNwtU8I4QHCJ4jBJRZCu4RD3yCZHHBSYKOsT34V18XggOqQJIh5cVTnicFCAVFotvG9yywqdKLyElNiLOuyAEWR7pR0pEyrV3EJyPEv8hEJxDKJGsJ3axi138vaLrFHdCXsPhkH6/T57nm/tFAjnD4ZDJZPIRJXsXX06Ej752XcHH9eqRBPXxWuVD7CppqenpPv1iSJEP0KLAJWuigMB5z7pZ8e7yF7Tpo/Mhx/uKQaFQAQSGIAKNqAmiS4LdVsE45lWOQNs2VE1JWS/TbOucdbtgXj7wsLrj+uGK+9kds8UcR4sPDT5UkXGlZKLZKgwGpXoc7Z3wzYtvOd0/ZZgPwUsUCiEkQeWxAywVpwdfEVROMZhyt76jatY417JcL2maCu9ajDEoJbGuQStBpnVcq01Gpgv6ekAvG9DLhwz7E0b9KcPBlJ4eYGQRgVSyzNrYugmBCipyFEMsm3dZ6iZfSHV3IdMy7KPVjkKiQpTWjCDTIqRNAFbjfOoEJ52mzt6rUxqXykTfZKXxMoqSxSKFp3UtZRV9pz3JGim1F4PvBMEisJFASGA2AkpFByzFZm5Ybj6P2hyGceQsItv4wUL6Gp+faOwbYCYjRbhjHxBpyCLEGVvvwoY2/NH05HYKn7atEKkZIQQi+Mi8S6UaHyLbQJAhpECqbmQuzvd2OCLORae5gljhefw5/bWQtokgftZIXX/sMnf/hyBQZGRCIDNNLxsw7E8ZDw44mJyyKOcsyjmrasW6XlM3dfQxdrELTwCV2ATxmM7ppaLN0f4pB5Mj9kcHG5u0vX6ZimEO6xqsrWjaKoJkV+Ncg+dRxb7bFzJkhMRq6BglQqUcU8o4FkBIOajHGI0xsVCWqYxC92OxSPXIZA8jcyQGbxNfN2kj/FeIL2y17OxpPqHI/o3HR87+NvCJvw+fvsaOybaLv4i/QerfunBL4mGWxBk3F0wtdVS6VH1ePP0anwn+rz/+79RlRWVX9Po5UlnqZknwDikNvbwXaUzWIkOsIIekOKiVRhsdL4i2paorEB6pBHmR4wm07RovQBlDluXxIhiIRvEyLorOWpyL+pU6KIIEZVSkawXQQmKdR1hPUCbR3yxSJQ/NXexiF3+36IBy103e399nOp2yXC5p2xbnHFJKhsMh0+mUvb29nfL1FxhdYbbzOGYruf/r/J6QaLKPxka5yBnkYwb5hEwOsG0ghCZ61QZHZRveXX8A3UP3RqgixyvIRB2FsAg0ocJ4jYlyX5vuWggBGzxNcKxWC+bzGXezW27vrrh/uGa2vOd+dcuieiAoj1Kxe6ikIFhLs17TkxnGGJwLZDKjUH2GZsrZ0Su+fv4bxsWUTOQEaSKgEAqdadq2xvrAwOzx8mTI8fFzZs0DjasgBJbrBWW5pm1KjNForQhEAJAbEwUys4Ii61HIPlpkgEIm6rMSGSpO80YycWLfZsqgujlP58AHpOhoZ/FBgoCQOnZribvN2wj1skKn9mzssnZAUpmczqvZ2UjTlRi0ICqQC0WQCog+vEplaJ3RipaARcroR2yto2yr2LUUDm1igYEQCLUjiLARcwKRuqvdzz4dc9s0us1BuAGzG4pv1KsmgmX1ESNPCEXrHd4HEBGMidTJlkQ/bYFIAlUOnWi7wYfHtEOKxwM9db6lTJZFIoLixI2Ox6TzHUMaJTVCPapm2zZS8ZVUIOXHqvHdrTuxkhd4vN8/CryHjmHYYYouA9TIABqBE4Zc5vQGQyaDIywtlS9xHRNDiM143mq5xraWIitQQqOlITcDinST5EngLCCCisrlvQmdN7mnTYDYEk25PD4VLzrmh0+dXiWKCJQ3DcN0Dotu34qPNoYgUumds2hhyFSBcy6+D/Jo5eUFbWMxWqGM/Fsp9H9qfHFA+XPffvZxm/s/2VkJKHe+gX/rT+ziC4m/ts9Fd7H4y1CdwKd4vJaKrUJO9yxJRo7gsDgmP8456O3xsLxhtrxjXc5YrO54mN2yWj9Q1gvsusK7BuFtutCEdKGLi4VzLgpRKDCFTnQqT9Wu48VSBnSy/vChpWkC3oPUBqV1TIZwyVbD4GtHE2rKds39+paH9T37/TzahwRoW4eSoIyOlPTgUyV4F7vYxd8rOo/kwWDA119/DcBkMuH6+hohBP1+n7OzM7766quNp/kuvrAQXe4u0jU45TBh63ocuv8iRdt5hxABJQStbwnCIpTk6ekrlvWK6+t7yvkHvJUMT/awqqJuS2oheD+74OFPFT+c/8x4uMdoOGE0mFAUBUIl8OQ9IniatqWqa9ZlSVmWrKuSuq6p6oqmiXTQpq1pXYkwlqLw1PU6ijvVYEyinGZ9hAVaSUZBPxtwNDrlf/3n/87zk6/ZH56SqT4iJFpseNQKkdKgZZw91mj6wqBNlsSpwOoWN7QE75PSfNxSMoEtSQRNSiqUiBod3eym6NSEiV1cJSDIQBAJFBMeAZQiAUm/VVFP4EMpvAfXRJD8ke1i9xwR4u4NacRJRosrGVJ/Lj1BJ7DsycjkkFwOyWSBCzVK2MgyCxK8QYgcj8CGqNrcAV9pDF0Ss+FqfnRpSV1U8Wnu/fi+Rfe/6ECyfHzeBuE+Ng823tpbubno/LeJSura6MfXl59c67rnyK1X7hpoQj5u60ThloHNzxGwR70XI+UmZ/vs1XT7rW//cal5pAaIrYfIzXeK+DcCCk1I4NOjCJj/l703f3LbWPJ9P1UAuJO9b2pJtuzxcmYm5s6Je+9EvHgR9/3/8W5M3HdizowX2Za1q/du7liq3g9AFotosCXZWlo2vgqKTQAEARCsrG/mNzMxNFR3IUlXeeQ2izI2+1neI1qHSB/qQEdoFRVOmlwBmF+6RRdxKSqrvQg9hNjiM/0xwRYuM20DXD0B73ytCyguFro5rlLYIK/sFBAQ6rzqtyqUHUpDs5Uf+y0JJgN/OqJcgZXzheKr9UszLhHmeqJRw8Mb3A7l8VL8bWppWeGdc7Kr3Gh0Ak2j3WDQGTDfvMt0NuFqfM7V8IzL4RlX43NGk0umsyGzZMo8nTKNRyTpjFQnpCYmMwnGpLkt0AqlQnTRFN6aFKvySYtSphj88yJAmVE5vy0G77zFZFocfEhiZoznQ06vjjkbntBvbtDUAToMUGm+L611nkxVB5Rr1HinEJIM0Gw22dzcxFrLYDDg9PQUrTWdTofd3V3W1tacTLsmy382FJNdRTE5XSRvOn58bXO74A9ZkS+qYK2/ye7mXfY3P2N8lXI5OsfOm6TEJMZCaEiSEeOrKWfjU5rNFu12m26nS7PZIoyCQr6aq42SNGUex8znc+J5zDyOMVm2VHzOWoMhJTAZgcqwKkGHoG2YR0mNxpp8At8KO2z2t9nZ2Ofu/md8ff9fWOttE9BC21ZBYhc9WvMUbF0QBUtgNYEKaejG4sIEN0sIl5P5NMtUUF65UCJ5MTBTLC2SaYtoJi666pEUa4tiSzmh0jkHzyOmElKWkLOwHyF3ejGbWJCigvAQEqgmoWoRqojA2lxqq03eNzoLIAgLCX6GVVJ8TRUVj5X7zOoRRS09lf70oEt/V1xjtSCsxZXypuLFFVZqsWxpgnX9sK6vUksrhdxdP478DnKomtdUfa4Q/GUyUfzvLxPx9+KaWHcvQKQkS9q6gAsKaFDal/Iesjx3kPmflt89uZdGLV176zlritdFeoTUd6qc0lUsdFJq/7or75gAlMor1d8y1ET5tbh9X1qNPw6uD5fy9/LgpqxFG0MriGhHPdYj2O0fku7OibMpk/mIyWzIeDpkmowZTi74+dEPnF0eM8smzOZj5umENJtiVO5lDQJQYUioQYUZmc3bbtg0N4Bh2CTSFHIZS5aCDW3R63DOzFjaUZ+UmNHkktPzV5ytH7O3cUgUNImCqMj3kbwj6p9TjRrvCZKL3Gg0ODg4YG9vz1W+Fql1mqbM53OazWZd0OtPBIkHwaJisT9VVism+qqQquaTcVVMkiEMmqz1trh/5x+YTQwmDRhenjNTU7JoThRqoiggCDWpmTCfXXE6jItCTeQ9XnUejYrnMWDROiCMQsIgJAgDgigkLwVpMWne2kyZhMlsTBLP6HU6dFtduo0eJlEkU8M8TmlGbbb6B3z9xT/y7Rf/xL2Dz1E2QtsGmgaL1oUa60X0XADQFY2CFTSgEm/nePL1uXIE8kX4yxck2FpLkhoUIY1mzoikFy4qAzKUNoUuG2xRYbxoOpl/glKlU1L5tSjk4aEO0dYiUtzcV6IXhcCKThp5bDF3NfiH//uwajb0Zu/4bRu8oze91Vs8Yviabd7+ivxWKIK3dZy+7QGp8hl9OqiJco0atxy5Hy5csua50QtRKiQMmkStDp1onfXOnMTMmacTDtY/YxKPmJoJo8mle4xnY6azcV7ZMJ4TpzOydAZmDnZetBpoougSWAitAZsSAoHK0FGECfI8nUhbVBqTxGOGwzNGw3MyE4PNUNrmfTNNvq2SJpo1atR4Z8hloIsiM/5Dos0yiddau5ZRNWpUQxWBI52P3ypvVRiooIiA5sWPeu0+9w7vkyQJKMPjl3NCZqRhTMqMNE7J5tblZzYWAVwUGVblztOoRUHeDdgEsoSim43H6VRBYKHX6qJba5jUEo816SimE3VZ722weWeHg+1D9rcO2Vs/ZGOwTaCaKKK8RVKRIyz5k+7/60FP3r/86SbCJOsWUX+lNGGYy1TlbVZbjE3Q2pIPAUVdEha5wlaizOTrF4SliBwqQ6AtYaDyscF4pL1QFWSZcdH9vNhXLQ37I6G2BzejJso1atx6FC0YbLRQwiiLspZABSjVIAxaNMPcC5zZhIyEvTWbF35gxmQ6ZDwZMppeMRoPGU1GjKcjJtMxs9mYOJkSp2PibMI8jsmMQqkmKkuxNsaaGSpLUTpDU0QEivwdk2VAQhKPmc/HKLKi96XIdAzWGPQt6YlXo8YfCWVSvJCqLnon+6hl139OiJ/1TeJZjixrncutnTQ5KPIUod1oE2zsEMcxxqYkZszpOGaUjDAmw9gEay0BAUGQ5++6yLY1ThocuErCRYTU5K2LrDEu31EXRbe0imiGHRphD5sFBESEusFGf5PdjT0Od+9xsHPI1mCHdjQgsCHWBHk3Bpc37DF2yCOu9trZv2eoEtmsih0uS5Gla4W1edklqQxtdZIXqdK5pNdahbFFW8hiO1yRKpDWWwvBbd4mKtCKMNB5jrf1Jd8GY7NcJm9s0Srs040O1qjxtqiJco0anwDyohHKEeV87ptPgPPCpXl2lSGXXimrscqgVURbtWi2+6y3MozJyGxKYlISG+etBZIZaTZnNLngYnjC1XjEcDjmajjh/OqSNLkkzTIyk5ImMYYZzZam2W2QJQatLVErQIcWrTNCnUciLAZr836GJstQYVAb1xo13jGstWRZ5iTWQRC46E+apkUBP1UT5D8xlqTFb/nevEdyzli10kBIRkKgIzoqZHdzHx0oGm3Ffz4cc/nsRdFloUEQBoRhWLTpyVs+mSx35ARFr1WTsHx/FvzQKLMotKU0WocomgSmTWC77O7c4WD3Lnf27rDe36TfGtAJ8oJUgc5766YpKANhI0CrvEjlsqtguVjW4uLo92yrFHkhMZVXe16KaPv5pSyOWeXVw/J+1SmWGKUzgiB3OEhdckNIVrw3r3CSS6kX+841atb1TcqdbLpo7SMqMEGeF23IXL44rK5gVaPGHw81Ua5R41OA1PYoIDUhIVhKMCsaQ2CKNhy28JbbohqmDUzRkcBiyDBRVnj/U6bdMVuDK5IkZTaPmcZzRrMRk2RIYkecXT7j+OwRL48fYpIp6WxOXsEzJIo0ipTMxGTMyYgJyKstohUqyKsaLvoi1Fa2Ro13BV9eLa+11kRRtLTMlkNnNWqsxMIxm0eUcyKmySOaefVsS6fZZWd9j2YzoNmE3b0tzi5fcHF5xtXVFdk0wVibt9KxEdoa13pHKQh1lJuDvPuM++iGDomiBq1Wi06nQ7vdpdXs0+vs0O/t0O9sMuiuM+gNaEYtmkGLiCaRq/CrISgKWamIvLp3meAVMuJr5ui3uhXeBp4dtKDKpN2XXxe9avNossWoDKVTUHm/48SkeT1i1UCpDugGqbEEyqACyTkGv68vSpoSFRTbS+EQOm1sfn1MkT5Vjx81/oyoiXKNGrcdXlFL8P3NRaEVW/xdyNQsgWsDIWTZiBSzkEO7+YJUzsTSjmJ6rblrwZBgiM2UhAlGT3ny4r/48RcYXr1iPJuRxSmBDlA676No0oQ4njJPxiRhnyDIe/kprcHm/faWPeY1atT4vajKURb4Bbt8WXaNGm+CvBp2rlDKSVVegCtvr6RAGaKgRdQO6bSbDAYdDu7s8/zlrzx//pSX+iWTyYgkTfPc4EJplCseMpSCRqOZO1EplFNaoXVAo9Gk02rT6/UZDAb0+mt02mtsrh+wPthH0SzyjjXKKLTVxesIrcK8169e2BzpJIGLpC5XEpbnRf9Xwfsmy/LZ5d9lQZSLFlZClC0WpS2WhNSMSZMp02RKYgxR2KPd0DSDDlkm7ZXK51gYf7tYnkeeZRwpZPfF5+dVsr3aB3V+co0/GWqiXKPGp4DCWDk5mG+8VMF9dd5D0FdFSRN7ZfNG8cYYV+nTFpIrinYK2ipCGxKqIC+caTMiqwjQhDRZb26z2d9hvbuBMjMMU7LUYNOMVCVM5mOuLi+5uDinqdZotHtYXbQFCIp2IEaKjtSoUeNdQKLJko+cpqnLSxY5tta6srhXjT8LTOlvKea0+j6wUHQb0oVNkfcpQqUwxT9bLA9RtLRBtQPad9e4u/0Vs68mjKdTJpMxk/GE6WxKnMRYkxWdFwIaYUTUaBA1G3SaHVqtFo1WK18eRgRhUQk7CFG6QSPoE9EDIqTNVaDz1k4BOYFXVuXdCAunUFCZduBHkssVqF2d6I+OJZKsKFoTwSi+4nL8kvPLl1yMrogTQ6+3zf62ZW9zDR0ERe9mU7lfZVUxFygeRQ66Kv5Wqhgv8qNY5JazkGsXnhRuy7WqUeN9oCbKNWp8ClAWpQx+/24lkSEXJM51cuIoFgJd+OlzwiosVYG1Qrpzg6cJCEw+odBAU2kCBQZNQMKguc7WYI+twS7xdMTVaAYEYAOMVcQmZTaZMR1PSftZkTe1MLZWGjjWqFHjnUHykaWatZ+LLJFmiSQLaa7xZ0JZ0usvX01wcrpYypO1NneqIl15i4JSRdQzUj3CoE0nsJhmiumlxGlCPI9JZjHzJCZNU7BZHu3VikDrnAxHEc2oSSNqEERRUetika6TNxrUKCIUEbaQJEuHYPmnvFMTObNLA/YDuCvk1tbTPr1fKHesyh20R9at/1yIyqzB2ISMKS+OH/P01fe8OnnMaDImNdBpbzOZgqXDRn+bTtRY7A8KW++RY1tIygqHgyr+ljlBWR7uisG5Ps91GlWNPz5qolyjxqcAZUGbYr6ykIaJ9zyvIkr+bCiKr4DVqiiEUkx0vDlyzlsXsi5dTDpslpu+RqjQNMjIi4h0G2ts9/fYWbvD5dkJZ9MToihCqQibhWSZIokNyTzDmpwg57lppm4KVaPGe4IU8xISXM5Vdm1diiizrK+jyjXehCwL3VQey8wrJ+dEyVrICgIW0syLZinlbJaJLKqtCFwEM5cEZxhP+pwTLi1y34KGw4KOyXGYYr1XmNnJhBdbUrS2Ugv+eUPasSizVqx+L8idx6ow54vCWktHYb2IMrldT2zM3I548vxnvv/5/+PFySNSm4EK0eol8zQiiNYJGy2a4RpWFU4NCzkJFqeHLj5T504HdDEf0MtOdO+KLP6Sb+L1yoQaNT511ES5Ro3bDvHe6kWLh+XIrJJZAaDy+Qk4j/DCW+1VS3EedpFh5kVarIUkydfrAJTJ5VYZGU3dYrO9y+Hu51ycn3F6dE6gNRBgVYgOujTCLlHUJtRNtA3I0hS0RhUVTvUtk7XVqPGpQ2vtKgsbY8iyvD+tUspFmeW5ll7XWMbNRauUklRW5V5DoVAgjy6ronVTYBVZZsmMIgyDPA0IwOQqp8zYIj1I6FXsmgztAAAgAElEQVQu5w3UIpNWFTZrQZ1xKbXKFqRZUodEMWW9WtYe13Rd0WxhHhdntXij6zHsUUC7OM8PD/k+CieELC0UYjpQ2NQwm405OX3O0ekTJvE57W6HIAq4vDzj5OIZL06fsL9/SNbtYskrgCurXPRYioM5wiwkWeYQ+NJrkWYXkutiK+2O9zVeiBqfBN537YpP2ebURLlGjVsPe/1vZT3blHuFnY0qJhYLl7tafv9iRuJ5hE3udVYKI7MKk0eZtdWgQ7Ru0YkG7Kwdcn9/SDIxnJ6dkCQZUaNNr73Dwe59Br1NmmEbRZDLxck94UGVvOw9QQb9txmc5T3l9/rVgj/lwb7GHxMit86yzOUhy/1qjHFR5lpyXeO3jF4+Wc3Nh1DYIv5rVcE9c/KZUzxVKJRkxM8jpkK8ljsEL6xClTJanL5iqa4RWeU7hos3ij+45E9eVgoXbZLE9nHjxu8Ni/MpwseLYPLy4ZBvZ2zKPB4zmQ+ZJ2OsjrGBJlOGlJir6QknF8+YzC+IzQbtICQvxaaL8yx6LZuC9uoApUJMpkji1InT0iyP9yutCZyLO0N6M+f1T4rvtZZg1/gDoybKNWp8CijPVtzfAp+Aynu8Zf4komzPbFYsDICQKCok2SafCkUqROlCNqdT1jt7fHk3ZL27w//+9/+X4XDM2mCLu3e+5O7Bl2yv79Nq9lAqJAot1mZYk2K1LmRg7xdS5EwIwypyW/agSjEkgR9587etyXKN24gkSVBK0Wq1lgp7BUGwFHH285lr/Imw5Fgtk0iPndnlxco3O1CQ4qAYxz37oiAINIGofItlWi3GUt8Mae9vpzPySaILpy4fky6bPhbm0fmAPWK52KACIkteOmn/qD4MbCFlFke2OB2ch8AuvgRrEuJ0BjojaEBDKzI7JUtn2EAzSy85H75gPD8nzvbJgjbYol2W0nmLKQNpmp+nVQFaRdhMMZvFGJvb/yRJCXSTUOctIFFgTFa4QrJcD2AtyoaoYNWZ1fhUUNuD1aiJco0atx4iVINKQnzttb8sN7iLMbBiW9+bbQ2owBlVkMmSwhISqhbtxhr0AqKgxf/9b2ukWUYjatPrbOaP9hqhbqAsZLJPRLb1/lHOwVwlKfKXy99VUTc/t9Mn4bVhqXEbkKapI8TSDkru5zDMTXySJCRJklcZbjTqe/dPhZKiSJa68VGWK+d/vUmFqaxTYuOHb5Xsp7AnZY5qS+N/JdmtWKJKK3MKW3WAarGtz7pX7P3mdR/m9+Gk7UsQW2kKx3LulFDKYjFEjYjNtQ36/T6tdpNJosiKdWFTgY2J0yHj+QWzZIRtrJPZNP8cpfN+ySEEKqe7qclI7JzYpEWusiocCAtvgwLCICAKw0LGvrDn9UhS44+OmijXqHHrIdMCjfUMVIXSzNvad8ebkgB7FbG2INIqFeY8WXKZrEKpgEA1aIY9AhXRCrtsrR2C0igCtG6iaRDQWHxa8VFVUYD3iTchAv42xpjKfrTlAkj+tn6P2ho1PiZ85YRUuPZTCfxldRrBnxF5+a1Fws3iu88dgNc2f6t9l9OD1JL9kf3Za4lAVXB7cu2HFgeknNO3KoXHZ9Mlkvza9Et1zaZ+EKjyi+XrVub8xmZopem2u/S6fVqtDqO5xWAgsOjAkKUzpskFZ1cvGE4O2e/uY1UA6Hw7pQtHL2Dy8SExKalJi3ZfhYxg6R7J6yA0okZeidx9H4p6GKnxR0dNlGvU+CTgVfos4Lz6zsMvBLpMlLU3SZJly7o2qSfq5F+5CxtpE2FMXoQFFRKiCIIGDW2cQbVorM0ralonqrO591rpgih/QClbRUjkJmLgrxNiIUWR/JY6UmG4Jso1bgvCMCQIAubzOUmSoLUuqtEr5vO5u1fb7TbGGOI4rqPKf1Lk3/h11czS+OctX8Uv1bUVBaVzfZgW9sWW9pK/qu7tu3xstohwlyPinkzZfXbxUJ5RXIp3vsG9Lof+oX4WZZLs5NV42vNFzrK2ljjJQFuCsEGvs0671Wf+KoNGRhAorMpI7ZRsfs7zV79wsHaHL3f+gSBoFXOArKhVrfKP04rAKExiSE1KmqUFmVZen2TQWhGFDRpRc9FruYJQ16jxR0RNlGvU+MTgpiA+aa6Qmim39fJk5XrE2afYueRLFRORfOJQtJAyxXqVR5eVCooCQiLV0kV0WQ4ll4xTyMKMyVAKgvec0FSOBK+SSfsRt/I2fj9al1/nReJqklHjtkCcOn4ustYaay1hGF67b+uiXn9SvOGY5cuB326YW2J5K9aXY7avizGXidj1qOvq4/C2UYsmU55ufLW46gMO74uIfhXp9NwEShEEGqM0BsXa2jYba3tgGwRKEwYaY3PCbEzC2fkLXp78ysmd5wxa27TDHoqIzKQYqzBWE2iNISPOZsyTGfNkjo0yV/EakxP1MIiIdK4WU0WFbOSYa1tY4w+OmijXqPEJotLr7yLLynPqK5b7M8qK6zME6/Kg81cK66LKzphbm/d+1MWnGJs7vbVyFU2XfPiqiIS7aLh975MQP484P4TlaHF5O9nGfw0sEWVftlruVVujxseE3Jd+wa44jonjmOl06op39Xo9wjCs798ar4frqvBb7xPfCoi9Ud5rVVr2un3ctG9/WZV42pa2rdpnaesPTZbxmy4V0XbXwmrBRQMdYglJrWLQ32Zz4w6txjpGT1FkKGKCQKOUYTQ+4dXpY54c/cjhZorq7dAKuxgUmdFkNsCqAEvCLB4zi8ck6QzCrGiioVwF82ajRRQ0CMgl3FhVVOsuXteo8QdGTZRr1PiE8FqhkzcXcMbelt9V4UZXFF53nRvsIjd5OaLqkd3iTWEQUejj8mebc+fCwuaEWgi0Dl539O8E5WiwoJyr6cMnwkEQOLm1kOQ0TR35risG17hNkPtV7tMkSTg7O+Po6IinT58C0O/3efDgAVtbW/R6vfr+/TPCgms+vOQ8XXac+jnCK6nlSnOS24lV0d7l2251RnA+PqulrZY/2zMyiGv4De/pm0zhh5ZfCwpFljtv9/nW2WWFItAhxoSYLKTX2WZ74z7bm59zPn7GdH6BDQJ0kDuy02zKyflT/vP7/03y2ZRs/wt2Ng4IdCOvcm1DjFLM0ymX4zNG00tSO0erFIVB67ytowo07XaHKCpqj1iZCxQ9mVWeclUrsGv8UVET5Ro1/oC42dhXrLB5QS6InAAbVNEjcxEJUMrzeGOx1hSe5WKCZBcyMqtyX7Mq/lMfyE2/KpJ8k3TaJ8pCqP1thIiUo9U1anxs+E6f0WjEkydP+Pnnn3nx4gWj0QiAVqvF+fk5f/nLX/j2228/1qHWuA1wuurXbrhi+c3R2Dfc+Wv2d8P7rRKjgksPujHq/IZ4bcGv94VF9F45KXOVAqywxzZE2QaNoM9ad4+7B//A7MmU4fkQG6V576fAoHTAeHbGo6ffE2hFZubE2YSN/jbd1jpadcgwxGbEaHLGPB0TRAqrDFYZ4cSEQUi/P6DZaJFHkzXKBiijQOvl3OoaNf6AqIlyjRqfAFTJ619eu0BVDOCmSYdsooAAKYWZy6w1fkOPRW9HBdZgbZ53vCDKhWfZn7pYlRfR1l504gMY1VWtoco5x2XpdZZlpGnqcj7l4UeXZb81Wa5xG+DftycnJ3z33Xf8/e9/59WrV3Q6Hef0OT4+pt1u88UXXxBFUZ2rXGMlFvWxy7h5zHMU7418om85fjqldkXv49/1OZZl47Q60v1+UHyecwCsTpOyFpTVBDTRytJrb3P3zlecXBxxcvGKJE0xNkbZjEaoSOIJ48mIxouANJsxmV1x784X7G8ZOiFk2hKbMcPpObN4jApykmwRR7EijBqsr63TbLXJI9sBymowhQNd1US5xh8bNVGuUePWwwIZSmVcnxyUJGd+oRK3btV63LrcHOcFPlzPZqXzWh5G5T0crUW5aqO5MQ0CL+JcIsoixcYYMlMYX60Jgg8zQS8T4XLrJ+k/K6Q4yzKm0ynD4dDldrbbbXq9HmtrazQaDbTWRQEzWxONGrcCxhhmsxk///wzv/zyC8+ePSOOY5rNJlEUYYxx25ydnfHixQt2d3fpdDof+9BrfEhYz8EnMmxgUamaQk3ky7DLLZ0KpZG/39ILxTJxWjgr7Y39ma+jpAxyxyhO1zdlZyVnqU8+X5OR9H5RXN1rhyKqLSHQxfHavAiJVpowbJAqaDY3ONj7gtOrIybpkFdnvzBPL7EYtDY0OhHddotJcs4vT0Y8efoLxycveXD/G+4dfk2r0yHOJowmF1yNzhiOLmj0EsIAlModxI1mk/XNTVrtDqDRRTvI3LYX33VtCmv8gVET5Ro1bjVs6eG3xYBrZFhaOrn3VpDlFbMDayEzFiX5vSwmKHnUWETZBa0uOLIjpMUjL/CRlyeRYl7K5tZU3QKLmmUZSZIwnU6ZTqfM53NGoxHj8ZjxeMzFxQWj0Yg0TVlfX2dvb4/PPvuMra0tut1uTZBr3CpkWcZkMuGXX37hxx9/5PT0lDiO0Vo7kiwEyRhDkiSV7dNq/LHh6OobqWEK5YxnK3zCvDpgfP2+EhuxHB1dlce8vFd1TYb8tpLqN73PrRzoW+7/t8J3SORXMy8iJk4GVQosW8+aK7RSKBvS0G3WOzvcv/MPxOmI8fgCmyVkdoZNDVmQYRRYlWDMHDMf8fQoZJbOOL48odXukpqUJy9/Zjy/pNEOUTrN7T0hWoU0wzaD3gatRqf4bA1K5U70ckp1jRp/QNREuUaNW4/VhVfcIpeUXDb0pUnGDdVMrbHYrPDVB2pJUbXcvsKW3l60YzLk+Us6N+RCklEL4/ohLGo539gnBcYY5vM54/GYy8tLrq6uGI1GPHr0iOPjY2azGZeXl4xGI5IkYWdnhwcPHhCGIY1GoybKNW4dkiRhOBzy+PFjfv31V+bzOc1mkzAMSZIEyHPsG40GzWbTKSNq1AAK5bFnJ/w2ec6mWJzSCLswI5QDytUE2HFQRU76clZYfH5hl7CFI1UtdlVJkt/q1HBOW2/ZSpK/OlT+jiFXUlwRC7F7Tj49+y3FOK0cX76NshASEUU97u1+DmrO86e/ksUJ83RIMp8wszNSpnS7HaJOhI3gcnrC+eMzvvv5vwjCCBUoZvGIsKkZbPSYzrLcnmcRoWrTjLr02+s0oxbac3RblRfu9DVkNWr8EVET5RqfFPwc0XILoKoCTbJM+uqWt31dkaf3Cel/CvlENggW/YX9Y88PT6OUxtg8PxiLi/zmNnRRkVpyi+SctZYex56EzeYVLV0kuDj3KAxAq8Wm8qzluuhCWrcwmEpBEOQW0xZGfUHrF7lOVUS5qgL1Yr+L78h/XfU9+/vKsoz5fE4cx8xmMyaTCaPRiNFoxNXVFcPhkKurK2azGUmSkGUZw+HQReGazSZaayaTCbPZjJcvX/LixQvW19fZ2tpyMu6abNS4Dbi6uuLx48eMx2N3/0pldqni3ul0uH//Pnfv3mVjY4Moij72Ydf4wFBL4683hqprYmquR35zorzY12/8fBZkb1F5O19urUWKdAmxLn+OtRZT2Cy/zVlmjFuGZzcWpyu6bevZxcBFu7PUoAN/TC/2m2VLdS18iFpDbIHst6rbwnUbVnyKi8hKrFhoc5GrLBL54rvLU5hye6xtRt4SytILutwd3Of/+pf/h59++Y5fHv/I+ewYq6ZEnYw4jYmzvHVUahKstoSdiBQwJiMNE6wK0UkLrRtgFOkkYG/rgDtbD+hG6zRUC2U1aWYILIShzo9a3eR8WA3rfRfla1bV0rGuCVLjY6EmyjX+kPDJ09u+72MNyFUtixZ/i6HXWHRBRat8uYs8MGvF+ORFuaxZVHNeOsey8c7f7Na5YDUFGV+6PnYxoXHBBF/CVmwl0QFb/Z2Ur3vVdyCGVRwMSZKQJInrGSukdzabMR6Pmc/nTKdTJpOJk1WLxHoymSy1fHITrixzhY4ajQbGGJe3LO8Jw3rYrHF7MJlMODo6co6ecp/kXq/H3t4eDx484ODggE6ns+SUq/EnwWIgr1rxmlfq2prfdSje/WkWvlpykixE12DM9d71fszaqYZ8R3ix3GfaWZp547xPwvBsWuHkdTLxxf7l91LVEeEmZ6+P5cKROUHNsrTYpyXLDGmaFY/UPUxmMa54piGKQtrdNr1em2YrRKMJVZOgtcmXd74lSCN03OT56RPO42Mm6pLUjLAqQUUB1sZkxKATwGKVzZ3pSuXHk4UEpkkj6LG7fpf9jXt0wwGRipySQCnQhZn3hALeN7P6+wby8yquo+9w9q+jH+T40EGMGjV81DO+Gp8UVkUVfVSR5FXRv6ro8ocakGVS60dC/WNaHEfuXc4yg1JF/rAue2BF3mavebolN1F6rGqtCcOQMAyvFbi6ViUaMYyrorlynUsk1/Pgl/fvTzT8c636jmSSJO9LksRFiYfDIZeXl+4hRbhGoxEXFxeuUJd8p/5kqzzZ6XQ6rmpwEAREUUSj0SAIAsIwdMQ8TdO6YnCNW4X5fM7l5aWb0Pv9wpVSbG9v89VXX/Hll1+ys7NTO3pqvAHUir/f7X6thTRNnA3w/TdSyd0Ys2Sv/LFXnKZlh6cPay3z+dw5P32bB7kNkt9EVScEf7/GGOI4dnbB/73JflfNH/x5hlLW1clIs9zZO5vOmUymjMcT95hMJsymMUkSk5kUpWBtrc/BnV2++eYrup1tNBZLgNItNjrbBIcRa60ttl7u8fDldzx8+V8EoUE1MppNjSUjmyfM5lPCKKDZaBCoEGtCsgTmo4ROo8/29h3ubH/G3sYhbd1FE4KyBFoRFN+jSXOFQBAsHAxVnSbK5z+bzciyjFartfSdVs3BFgqA2ubW+DioLWaNTwpVHscyVi33iZoMvn7rnw8tuwaW2g75RrmKmPpkUinlJhEyQS6fR3mfYtTLhsl/XuXdLcOfjPvHVyWhKrdUKk/UhchLZHg2mzGbzZx8+urqislkslSAazqdLm0jTgAh0xJd9qXt5fPzz2U+nwN59E22SZLETYg2NjZYX1+n1Wq5z6jlqzVuA8pkQcYW+f13Oh22trZYX1+n0WiQZdm1qHONGh8LZXsgBBlwTkuxI6PRyC2T9IKyOiLLsmt2sdFoXHOW+hB7JjYjDMMlh6gvEZZxX2yL7+iWh9iy+Xzu7JTYqiSJybLUqZ2MzcjSlCTJikda2LOUNElJ04zMZBiToZTl1auQp88ek2UpSfIle/s7hYNBoVVIr9Mn0CFhJ6Sx1qA5aPHk+BEXo2MmsymoiIguQdDINWlp3u1CmZDQNmh22mz1D7h/8DkHO3fYGGzQ0A20AWuzvDWUAgjyNDDwll2XnfvPgmazufT9+POJsnOiJsg1PjZqolzjk8JN+SpVuayrZL6rln8IVMm3BD7Z9I/Tj8hWyb6qvOD+elkXhuE1D3nZMFXlgd/0mf5y/9k/V5mE+JMRmRAJyRWp9HQ6ZTweOzJ8dnbGeDx2E4/5fO5IcdV3VmVkbzoHIcpBENBut5cmPYPBgMPDQw4PD1lfX18iIjVq3AZIfYPymOHnKEshL2mDVksZa9wGlG2dX6Xdd/zKuCvkVO53WDhgy07est0TVZVsLwTbt4XicJLjkGPzZcJBELh0nslk4o53Npu5FCAhyL5j13fupmlMHOe2zFJIzI0IsJT3cCVJAINSkGUp6cuErc1N1jfW2dnZJtALZ0EUNgl7EVEnIuw0aHW6NBptXpz0GI7OmMVDknSCVSk2yyCzYDXKBijboBF0aQZdmrqNTRTzScxoPiSkQaAijG4QBQ3CIAJlvXlWnkd9XXVmrz37Sjr/Osv3Icv9e6RGjY+FmijX+GTwughnVVTWl0Wt8ij728nE8n0PzGUyWRVN9o2FGO4gCJY86b43vSxnln34km4/gu173sWr708U5D1lj71PQqu8x35ES8iwyJZHoxHn5+dOIj0cDl3+73Q6ddFhkU3L5KYsS5dIr38usl1ZYle+nr6iQCARDK21k4X1+33+8R//kX/913/l4OCAKIqYTCa02+1avlrj1iCKInq9HsCSVFUKDEn7M/mtS9/wGjVuC2T8FrVTs9l0y2ezmbN1/X7fjedSn0LqRkRRRKvVcvaxnOKTJAnj8dilz0gHA7+QplLK1aaI49hFoiXKLPs7OTnhl19+4enTp67d2uXlJfP53Nks3znsO4vzdSlKK8JQF79LwIr918VxBSilwRYOAAVRFDCb5aR7OBoxGU3QKkTrAGNTsjTDKoNSloZus9s7oN/eYGd7n7PRMefnR3z/49958uwX4mQCKkMHilBHmFSRxoZplnI6G6LnL5idwcngkkFnk0FnjX57QKfZptPs0G51CJtNtC6utc6PvQp+tNh3RAPOlvsKLX+9f91r1PgYqGd7NT4ZlCW9glURTtnOl/a8bt8fSpJY/pyqSHJZnl3ONxavtciSrbU0m01arRbtdptGo7FEJmG5MEZZfi2fJY6FcvRa4MvUJpMJ8/l8SW7my84kSize9qpt5G8huvIQ4yoSuHJP2LJDwCf1cj3K94RPtMsSd2st0+mUtbU1V/zo3r177O3tuUrYfuSuNt41bgMajYYjEH60WEjAdDrl/PycOI5ptVp1jn2NWwXfzvmOXLmPhUAJeT0/P+f4+Jjj42Ourq6Yz+fs7+9zeHjI/fv33VgtiOOYo6MjXr16xfHxMePxmCiK2NzcZGtri+3tbTY3N51dk5ZqAt/2Sj2AX375he+//57nz5+77X2b5c81yrY+tyGglBf1pihwbS3WinM8b5clhTyttUwnCRZDt9ul1+3TarWxVpF/nELrEIsBDJoAjUaj2Gjv0wx6tFWXn7PHzC4VxoRYVF5oPAoxKSRzhc00k0nM0fiMy5dz2uExnWaXfrtPt9WlEUQ0o4hG1KTd7dDu9mj3ejQaTZqtFq3iIS3q/DmYHxQop4KtUrLVdrbGx0ZNlGt8UqiS9VRJrsvbl8lneZ8yWH+ICaRP6MrHXiWl9qVh5XZH0upIPNmdToe1tTXW19fZ2dmh1+s577x4cv3zDYJgiYDK5whZ9Y+l7BVPkoTz83Mmk4nLLS5LzSRSPJ1OXR5wFEUrHRv+58g2kscEi4hZWZZVnmStikALSRBSIefiE+HPPvuMb7/9lm+++YZut+v26V+vDyXTr1HjdWg0GvR6PTfx9J1ASilHlOfzeaVCpEaNjwWfFPkqHd/+RVHkVBHn5+c8fvyYR48e8ezZM87Pz5nNZjx48IDJZEK322VjY4NWq+UcsVdXVzx8+JAnT57w4sULLi4uiKKI7e1tHjx4QJqmrK2tuc+WyHYYhu44xP5Mp1OePXvGo0eP+PXXX7m8vCRNUxeJ9gmf/76yIxx0XvXapCWnf/6cV/vOAJMTZVvY//mEdrvF5uYWW1vb9HoDjM2rZmulCXSAJcNYgyJAmh23wg5B0CSNDMxbxEON1k2MTbHWoBoh1ihMbMEoYgOJnWKTGcqcE6qQdqNJM2qiLWilCLWm3enQ39hgfXuHZqtNp9Ol1+vR7/fpdrtOfSWFz8T2yusyEfZta7mWSk2Ya3ws1ES5xkfFbyUcVZHCqr/lddlrWfXeDz0Q+/k5Phmuys+azWZcXV05A/348WNms5kz0v6xa63p9/v8z//5P3nw4AHb29tucixeb5EnyzKRPfsPiQSXya+/rS+RLkeCfWLtE9fyerkWPqktE1rJLStPXGSfcu1kH+LR7nQ69Pt9BoOBcxqkacp4PObo6Ijj42OGwyE7Ozvcu3ePb775hrt377K9ve3Is+/ESNP0g0jza9R4U4iMtNVqOamoOIukH7g402rZdY3bBF/ZJK/9rg0y/h8fH/P48WN+/PFHjo6OuLq6IgxDJ58+PT3l4cOHNJtNvv76a9bX17m8vOThw4f88ssvXFxcLNW9kN9CGIa0220+++wzOp0OrVZriZQlSeJIsLWWyWTCs2fPODo6YjqdMhgMlnKn4XoaWNmxmq/LAFvk+AIStXYtqsS+FLnKRS/lVrvJxsY6d+8ecnBwh7W1dbLUEAQaLZFqQKFBaSIdoaMOFkucpCQj0EmTlu0TaIiTOUkaAw1CHRKGAVmcoVRAGDZBg03BZhaTQWITAvJoeIolMQnj+Yzj8wus9IIuiHCj0aDdbjMYDJzzvt/v0+l03LVuNptO+eYr1cTpIN8/UI9bNT4aaqJc46Ph95DksjwHuEY2V+XZSlQSWPJs+nnAH4IIiVEoe9J9Qy1Vn58/f87jx485Ojri5OSE09PTpUq3Zan2bDbj0aNHWJtXCpW8K5FKC+FL05Q4jl1UWHKJZbnkgfkSaX8b/7tY5byoyseW46xqC1Eu8uEXVhGvtNaaKIpcXpoY3SiKaLfbdLtdoihyZFm821EUuby3s7Mzzs7OOD8/Z2tri/39fe7fv0+v13PXS45Tvq/yJK5GjY+NRqOx5AiK4xhYOHZEhSK/fT+yU6PGx4ZPJv0I7Gg04vLykuPjY549e8aLFy949eoVo9HI5Q/7tmI6nfLq1SuXgnRxccHTp0958eIFcRwvzRfEFl5cXHB1deWKQ67qgFF2aJftXXl9VWqY/F0sRSlc5FraEUZhgzBsEAShi8SGYZRXsQ5zh9hg0Gd9Y507dw7o9wdEUUigNSiFKSp/2aK/cR5RVuhA0wxbrHW32Fk/YGtwxGh8RZYprA3RWYjNFCYDm+ki77mo8xGCIUNZgzWWnMPnraDSJGGepCTjKaBdF2XfRksqmDjzxKGXn8uAvb09tra2XMeJKtVgjRofEzVRrvFJoYqYlY2SX03ZzyuVHKfhcOjyinq9Hp1OhyiKHPH7UJNIMfD+BMEnjFL86tGjR/z973/nu+++c+csUmKZDAt59QuTPHv2jOl0ytHREc1mkyzLGI1GzrPu5zlLdLosTa+KzvvHL2T9TSHfg0zWfQm67+Dw9+nLtoQcN5tN2u02vV7PeazX1tboduP6DnEAACAASURBVLv0+302NjaWJi3yWX70Qnoyz2azpZxuuZ5wPXItudLldTVqfCw0m03W1tbo9/s0m00nsYZFC5vZbMZ4PGY2m9FsNuvcvxq3Bn4k0bdpR0dH/PTTT3z33XecnJwwHo/RWi+l/gBOHWWM4fz8nJOTE+bzOcPh0NXGMMY4uyFjvG///KJbZXWWHI9ESTc2Nuj1ekRR5OyuHHtZCVbGYh2EoSZqhM6Wdbtd2q0OrVaHVqvt6o00m22azQbNZovNjS0azQbWGjqdlsvfttZgjcEISTZFT+PMYDKIGgGtqEVro839wy+4PLvil19/RmUhNrAYFHGckMzmBCqCIMx7M4cBSmtUYLBZgjUpVpG3lVKQWUOSWeapRQchQbAIPFhrXUrW2dnZtTlbu91mc3OTb7/9lq+//tqdr+84qceoGrcBNVGu8UnhJuImxtbvWdjtdt3k8fj4mCdPnvDzzz9zeXkJwIMHD/j888+5e/euizh+aAK0yhiMRiOePXvG3/72N549e7bUN7kszxYy6XvXrbWMx2NevHgBXK/6vKjAudx3tcrIr3JM+K/L77uJQPvH4u83DEM6nQ7tdttFiQeDgYsI93o9ut0unU4n98BH0bUcKJmw+JEzOX6pbi3R6Xa77drmSJQBFpMvcVjIsjoaV+O2QYp5tdttgiBwRbukJQ4sqgeXCxXVqPExIcWzZNxO05TT01N+/fVXfvrpJ54+fcrZ2Zkbg/18ZiHVUlRyNpsxHA6vFXQsV7YGXBXtdrvt7I30axa5rzh0RZXR6XTo9Xp8/fXXXFxcMBwOOTk5cQ5cP21oQXKb1/5uNhtEUUi73aLTbdNo5NHkRqNJoPMK1lLxWimdR5QDTRBoorCBtZAkaS6vLjCfx6RZSquZR5/RhWQ7UNgM4nmKtRA1I7588CX9Xo/d3T2uLi8ZTyZcDYeMxmMm4ylZYshSQ5oYTJahtSVQKs9hNoWySluCwJKZvC1UGAYovXBEl+cU8r35c5Y4jnn69Kkj1u12m+3tbTqdDrCYV9SS6xofGzVR/ki4KVf2U8Droohvci6LwhZv9lnyLN5keYhMWCosS+QkjmM2NjbY3NxEKcXTp0/57rvvePnyJcPh0BHKOI7pdDrs7OwstSj4EChLuPw86rOzMx49esSrV6+YTCZorZdaJYlUTIpjyfuFBEs+sWwr68sS9aoCP743t3yMVZ7em0iyX2jL7+cqUXFfetZut93kRSYWvV7PEVo/t8mPEJdVBv4EqUr6be2iJVaSJLx69Yrz83POz88JgoBOp8P29rbLqfKdEDVRrnGbIO10pICOPxmV+z9JEi4vL5lOp/X9W+O9wXfi+ssEq6KsvvP29PSU//zP/+TFixecn587Il12yPrzByHMs9nsWmFHwJHqOI4dKVtbW+POnTvcuXPnWiEu//fjq9IajQabm5t88cUXQN4mSvL+Re0UhqHLvV2Q48XrfJuAZiui1crtWBgEBIFMx/McZWvF1srvOV+bZabIaV6uy6KVRqnAbZ/nNufrtc73pxWsr63TauXHI+qy4XjEdDpjPpszncRMJ/P8dRyTxDFZGhPPZyTxDJPFWJtibEZmDRZVXF91zQ7719L//sUpMp/PefXqFb1ej2+//bYyhWvVffOmqJqvVAUFbtrOJ/qr3r/qs3/v8df4+KiJ8jvGm/zIq6TDZdJ4U57Gm/7o3uQ9q7ZZlW/qH7//95tK+W6KCFcdV1mSK+R2PB4vVX2+uLhwOafSlzdNU3Z3d7lz5w5bW1s8f/6c77//3hnFJEl4/PgxWZZxeHjoSNiHkiX65+ZLquW6vHz5kocPHzKbzZZInaz3ybEv//K94rK+XJRK9uG3nvK9wP6z4E0MQvm1TDJkAjEYDFyhLF86LTmWksfkF/N6XWTaPz7fIJeNnDgEfGfDfD7n6OiIv/3tb/z44488f/6cKIrY2tri66+/5ptvvuHBgwduEiW5cbWXu8ZtglLKOQVFQSL9lCXF4Pj4mHv37tU9wGu8N0gkViKscL0uRdkONRoNV2QrDEMuLy/58ccfXURYZNVlOyB5x4ArvOgXkxSVEOCUQZJm0+/3+fLLL/nqq684PDx0jlBY5BuL01wIsEBrzZdffsn9+/dd3Q5rLYPBYCkqLZ9blbcMBsnzrUJOdquvsUSXfUhni1VotovjL/bZbrd58OCBWy9HYYzl6nLKcJh31jg9PeXs9JSz81NGw0vG4yHz2YR4PiWJp6TWoHVhVzODyRbydbG3fltLSdUS54ExhvF4zNnZmVOF+elfN5HYN0GVc1vuR+kA4itvfPjH7KeLyT6kzoufV1/1+eVzqfHpobaYr8Hb3ujlCXqZDK+SqfqfV0UOqkhLOVJWPs7XHW+ZEL3Om1e131Wfseoc/M+SPCGRAPu9d+UhkWFZL22GygWm/FxbGfQajYbroXh1dcVoNHKEUAypRFueP3/O9vY2u7u7H4wkiyFZ5aCQ5dInWciZPMt5licD5UlJlZOjLHku35833X/+/iUvUuRmIjOTh0SIJQdY5NISTZbX8vANj0/03+Y7kfNb9TsQx0CaplxeXvLkyRMeP37M6ekpjUbDRTX+/ve/O2n63t6eK/IlRrYmyzVuA+S3vLOzw97eHt9//70bB0Wpsba2xsHBAb1ej/l8XvdSrvFe4Efd/GVlyBgqZAVYGlsl2gjQ6XTceC33rtiWOI4Zj8dLNjBJErIso91uLzlH2+2267d87949PvvsM9bX1+l2u0u1Ml7nKBdyJdtJtLrc7qjK9i5e+/v3ba0qrXsHUP7+rZxE6TNlsXJR7n6/zdbWgDi+QxzPCwVf0QZyMmY6HbmgxXA0Zjabuy4ZUjC03MpR7o3hcIi1liiKGAwGbG1t0Wq1rkX1f/epe9+BKA6CIHDBkvF4zPn5Oa9evSJJEjY3N9nZ2WFtbW0p51zmFPP53C2Xe+B1KDvra8L86aEmyjfgpkiWrC8TiCqP6ap9VQ3Kr4ugvclxVpHt1w38ZRJbfk8VqS4/r2oLVH7IOiG2WZZdI7v+QwbdJElcpFj2I/Bzb/2euVJMwm9uXy7GlCQJR0dHTt78oSBGtjwYA24wl3YVQoDFY+1f63JrCjFIb+r08L2/cjy+5MyXSfsytDAMWVtbc/ldkldcJsnyt0zOfY9zleGocjS9LW5Sa/gFWkajES9fvuTs7IzpdEqr1XJF3+bzuctTns1m3L17l/39/aXrXaPGbYBElPf29tjZ2eH09JT5fE6z2aTb7bK7u8vu7i69Xu83/6Zq1HgdZCz3bXNVuo8/tovNDoKAJElcuzNxpEvkTpQQGxsbbG9v0+v1ODs749dff3WFLP1CdWKrpI3U1tYWBwcH3Lt3j/39fba3t922Ppkro2oe5Tuhfcd7VdvC8r7y5TeRpXdJpKxHlIsItlIsyLnyaHohi44CgjBAqSaKbv7+PBXZBRbmsxmz2YTZfMZoOOT8/GIp9c1vI+kXPJOHXId+v8/W1hZ37txxar7fGj2uPHsvogyLdDVjDGdnZ7x69Ypnz57x/PlzkiRha2vL1azZ3Nz0iqVdn5OU0wtuOm5/fe1g//RQE+UbcNOPtUwK5YcgssyqH4Qv+ZDBwi8a9Dbwf5Q3EQ2BLy2qOj+f3FdJVeScffmMf+5+VNjPF/Z78frEN0kSrq6umEwmSyS3/KgaoMqDjjzkGMVICsGZzWauorE/EIvMJ01TLi4umM1mb/Ud/B6UB82q76zb7TopZVkOlmWZ85zL9+XLnKVFlHjsffl1+VFu5SA5Vq1Wi263S7fbddXB/cInfs6VT679e6ZM3K21r5V++sf1Wyf1qxQN/r6leNfp6am7vvP53P0mIc9BkzYl1lr29/frSFyNWwX5Xfd6Pfb29vjLX/7Co0ePuLi4IIoidnZ23MRPihvWUY0a7wMyrkqlaaWUmxNZa506TMZYv74G5PZ7MBhw//59nj17xtnZGZPJxFWF3t7e5ptvvuGrr75Ca813333H06dPGY1GRRS0D+Rjvcixe70ef/3rX91voN/vu4hiHMfORso8wp/3lO0YLDuZJZq8Cq9TB+a7el+/RQvKYDGL14tP9rYS4q6QFk/GgjVgbF5G21LMVzREUYNGI6Lf75EX185l5P4cUOZ8kh53eXnJ5eWlI9EbGxs0Gg3W19fZ3993xVTF8fCu6ihIsTiphSKOwslkwt/+9jcePnzIq1evXCDi+fPnXFxcMJlM+Jd/+Re63S6Qy/yDIKDZbK4MeslzlbPk9zj9a3x81ET5NVglAykTjTKZ9MlaeYAty22rcjJuGiRE0uLnl67yZJbbHfhSmPI5+kRYyKwQSb+fbrmnri+Vktd+r11Z7y+XKHK5F2/5GsP1NjxV5yDnIQQ+TVN3bdbW1tje3nZtCvzvxP/cJEmWoogfCqvusY2NDT7//HNmsxnPnj3j9PSU6XTqDLTfUxhwRahkYtLv9x15Ftlz+eEXIJEItsiK5H1Cin3ZtJ97VCbh5esq8CVQZdx03/+W78KPEvjHU86fEueA367K/w3L/frkyRN3rUSyV6PGbYDvvBwMBvzzP/8z9+7dc2OFtEyTPqXS6qYmyzXeNWTsLBNIv/Ckr+SK49iRGLE7Ozs7/Lf/9t/Y3t7m6OiI8/NzF3k8PDxkf3+fra0tlFIMh0Pu3bsH5ClK0+mUIAjo9XocHh66dKrDw0PW1tZc/QtgZTcDf/4G1YT5bexUlTLPW8uqPOXfD+s+wc+HXvyvrn2yJc85VkXxr8DmezA2LyamFUURMQUKQgvWakyWEYbKOdlFESBzKj+NTpZBnlu9ubnJ+vr60j3zrsYmuedkTij2fTab8eLFC54/f85oNFr63CdPnjCbzbi6uuLBgwfcvXvXORcl6AL5PKY894brajY5jhqfLmqifAP8yGWVnBmu56H4OaL+pFz255NlWVYmfa+T//gTI78ar78/ifL6lY0lku1HIn1y7EudpHK0bF8ljRay7Pck9Pcr51JVSMG/NmUZt39dy+8HnAe4HGEuX0tf2nPv3j1evXrFycnJUp8/3wiKN1RI4vtElUynfD0GgwF3795d6i95enq6NNEV0gzQarU4ODig2+26CLo8hAT7rSrkWbYVQlx1XOW//Xt81TZVr9/Es/p7jWT5GKscMXLdpPrpy5cv3URNogziAMuyjIuLCx49eoQxhk6n465xjRofG/7Y12q1ODw85PDwEFj+fcq4XO63XqPGu4Lci1WRWZlnyFxC0qikiKO0N9vY2KDVajEYDNjd3eXs7MwVgbx7965z5mqt2d/f55tvviGKIs7PzzHGuP68X3zxBffv32d3d/da/QvfGerLussS2pvmYr/VgVv9/ndNlm+IciO02bJM1PPXimIeohS6OEZjFzFnW7zFWvJos/ELeC1ab1XZR7m+0+nUzZWliKrYWn/u9zpJ841XoLjOYtMleCJj4HA4ZDQaXWuZJwVh/cDE/v6+iyZLFXZYEGD/WOW1u96leV2NTw81Ub4B5Ru8XKG46sb3PUxVUmI/AufLZcufK/CNjDxLJMz/cfok12+dJDIoKbAgkmhfBi3PEimWKJpf8KmKdKwiqqsGBP+8yi0cyu/3SW+ZNPv78h0Csl+fBN65c4e7d+9yeHiItZb/+q//cu9NksR9fjl/5n3iTfYv0rHt7W2CIGB9fZ07d+7w7//+7xwfHy85S0TGtrm5yV//+lcODg4YDAZAtcOhLMEuv77pmMtOHf+9q34nZaOxaoJedd/L+f1WQymTtvJ5AC7qfnBwwOPHj916P+9bCHUYhozHYx4+fMjdu3fp9/vs7+/XUbkaHx0yloodmEwmTiUBODtQrndQo8a7hozVfsqP2AapBXJ0dMTJyQnD4RClFAcHB9y5c4e9vb0l1ZLWmq2tLdI0dfY8iiJHtqMoYnt7m//+3/87X3zxBZPJhCzLXE0MSRtqNpvO+ekrsaqInNinsi18nV183XY3b/M2BbwWkeE3x/UCYsrtxyfL+XOa5T2XVSD1UzRBidMbCyazGJOitaLRiJZsZ1WwxFfA+TnoEuyRCL9cH3/O7C9/U/jzB4HcjxI8kMCAT8glYHJ2dsZ//Md/cHp6yr/+67/y+eefs7297e7bwWBQWfHanxe/Lme9xqeBmii/AfyI8pvAl+f4RKKKoPjvKUeCfdmyX8BKiiSUZdH+wye7vuRZtvUl0OXnquJQ/rUoXxv/71XesypyLYNgmYyXva6+0RJjJxWWfS+xDH7SbkiqKW5ubtLr9Xj69KlrSSDnKZHa4XDIfD7/YBPIVc4WOXcxII1Gg42NjaWosVy7sjcTcP1UNzY2lr7Hm743fx9vG+31v5vy72SVN74chV5F0H+PYam6rr5zRRxO7Xab3d1d+v0+QRAwm82w1jqZtd92S34j0n7st3q6a9R4l/B/d+JEFcfneDx29+/m5qZTjtRSwBrvA+WxX2zZcDjk5OSEn376iadPn3J6ekqWZURRxMXFhVNybW5uOplrmTQDrg+yVLIWJ3Kj0XCpX+122+UniwNJFFhVMll/LlLllL0pGvhhI4W/lyTba2tKszQUEBSya6WK/GRbBA8KGTZaF9uBUvnfcg3K811Yrjni3x9lklme68lc+PemiUjE2FfhybxqfX2di4sL14pMzkEwGo149uyZ64Tx5ZdfsrGxQa/XW+rK4a6pd+wSvb4pAFHj00BNlF+DVVGx8nr/dVniCYtKu/LjL8uRfPmzT3zLUd4sy5w31m+pJFFhXwrty679KLd/TlX5pWVjUWUIqoheFWnyr0nVtfLfVz6WcuRdBp5Wq0Wv16Pf7y9VU5Z8U+knurGxQbPZdH3yxNM8nU5dlEWKjwyHQ0eSPhR8L2bZ4IpMKAxDV4m52+06wuz38NNau7xyX9Lkf//l+7dquU9i/W3Lk5+bBv3XkWW5x8sOo1WTk99iZKqi2f6zrxqQHKl+v08URVxdXbmcbcltEqeU//668nWN24Ly2BoEAScnJxwdHXF6eupyNo0x7l6vUeN9wLdpPkl+/vw5P/30Ez/88APPnj1jNBq5dKDz83OCIGBtbY1Op7PUi1jSYQDXD1zShabTKcBSbQ2/Toc/t/L7OstxwrLqT9b7aXGCmyLK5bnO+yFFv4UkC8oRZXttDf74of3rZDCmmBdYBUqjyXOYlVZodKWjocoRV3bGl+cJ/tzPL+Yq69/6rNVCLSiqML8o6sHBAaPRiCzLuLq6Io7j/Py94rASRDk9PeX4+JjhcMhf//pXOp3OkmS7ap7yJsrKGp8GaqJ8A2Sg9Sf1VaQDrkdDxUiIBNontCJ9luqAIhkq5wMLQRby6+cc+yTbb7vke7CkQIZ/XP6x+igTtTeJLpbfK1LmVVLZMjGS/UskuNyDt5xDK9FSv+2QeAl9qY8vvRZZT5ZlNJtNBoOBixz7VbClwMRsNqPX673Ref9WrPJs+/eaEHghxM1mk/X1dba3tzk+PnYVumUbay2z2Yzz83PG4zE7OzsuWv4mA7MfkbrpuKve5z+Xt61a7kveqiIQZWNaLn73JhDZk1xPP6ff/w1LVNnvAS33QxzHTqInfayl8urGxkZt8GrcCvgqpNlsxuXlJf/n//wfHj58yMXFhcvD39nZ4S9/+Qv/9E//VN+7Nd4LZK7SarVcn/off/yRn376iUePHjGdTomiiM3NTTdHOj8/5+TkhPPzc+7cuePskF9MS+YzvV7P2XsfficFP3/UJ0u+FFdI9SpSJ58LNysKb1p3E97uPWWS/CakuZBz2+JRub+sYMp2abnJMrCgtM6JsVZoHRT7UVCcs8ksxhZ53uH17h1VQZSy7fW/o3cdeZXvVhQKWZYxHo9dLZZvv/2WwWDA+vo6P/zwA0dHR642idxjMu9utVrMZjN++OEHRqMR33zzDf/jf/yPJWViOZ3QXe3fQfZr3A7URPkG+D9sIaZ+QRQhwb5k2c8P9nN/y4TZJ8FSBMuPKPtRYT8C5hM8eV0emKoidVX5vuX3y+tVuMnDKsZNInESlSv34ZXl5e0kX0QIixBkIckiQ/arOvukx/9+qjyTSilHtM/Pz5dyZmRwjOPYtat63ygPpsYY10NSvOgy+ZXjFKLf7XY5Pj5eygcDXJsrOYeqioyCVc6S33tON6EsbaoyJu8S/r0hv68q9UQYhk6qf3V15ZxR4mEW+d/m5ib379/n4ODgdzpTJB+s6m+81zVqvDmUUkwmEx4/fsyTJ094+fIlcRwzHA65uLjg6uqKtbU17t27t6ROqVHjXUGUc0J+JZL84sUL13FC7JlPWoEl210uyumTZZmvyDxIxnX/fha76e9Dnstzn/I2q16/jixXvecmvDlZXmUbq+zGim2XTIsXYba2ZG6EDOfL3ea2/F5ZdHNtE7fXFUEmmX/535dPmn9rfRLZj3yOPPvdLdbX1919E0WRS88rt92UuaY4dWS+FQQBBwcHzunjp7Ssupdqsvxp4r1ayvcnQ3l3KBPEqsl7OdorUeDxeMx4PGYymTjyOxwOXcVoeY7j+BqJ9fcv0cPyQ9aJVESMSlkqVD5e/7Uf3fZlzKuug6BqYCuvk78BR2QlKieVDCVaJ1FgiQT7pK/s4S1/dvkY/ErdfvS83JNYHA/GGHds3W7XDZa+FKfZbLpq3x+KKMuxyjlJvz8/t6o8YZB+xnLNfY+4yISEKJeNUtXn34S3Ia83GctVv62q+7X8nf8eI+lfF3E8SfGOsmd7c3OTzc1Nnj596n5zUlwEoNPp8Pnnn/Nv//Zv7O3t0W63f9NxLUcDVMXft3u8rHE7IWPgfD7n8ePHrgJwv9/n6uqKs7MzkiRxlf/FWVmjxruEKLiePHnCDz/84FQNouLyndpCXAaDAf1+3ynEgCV1muzTny/Jcpmbybai/vG7FpSd57BIM6rqzlFlc16nnHrX9vTtURBcZ0MUIPaPSv7sjtmSE+PC9mhxMCgW0Wh37AWBVoogAGv1ksl606iwfy38dqf+fuT7k+1/y1xA7hvZn/RFluMcDAZ0Oh22t7fZ3NxkMplwenrKfD536XpyT8lxzmYzHj16xKNHj/hf/+t/8c///M9L97N/T7yPSHmND4/3Zimtta5XWqvVAhYyUZ8UybZVRNLf1yo5h48qclf1Q5NB0u/n61eDlhxWP09Y1pfzgMtFsPzIsB8VLh+ff4zlKqS+hMM/TyF/ZeMh+y9fR3n2t6n68freO3nIACHFYaIoWor2Sj9CibY1m016vd5SP0Tfe1d+SE6xHx2v8jhWwfcMVm3rEyBYeJd9ggy4iKFcH5FeV1Upl+tWvk9/jzOo7OmU9hgCP2ounyvFycST7ntlkyRhPB67391N17AKvlF53eDuO2AgzxMrR8j9iY1/Dn5VafkuJMdaHC7l6y3vk2Pyc/611ktEuDy+AK5i6qp86LW1NdbW1txxiwLCN36dTofd3d2iTQTXJh8Lh3tZJue/sotJiVWgjPtbKdmpX+TP7fSNUNvjPx/kHoXF70giIvP5HK017XYbpZZTVGrUuAk+oVVKOfIqfYhlHJfxMcsynj9/zqNHj/5/9t6sSY7juh4/WWvv092zYrCRAAhQpCmKJESTlvSTLUsvCr0o7Aj7xZ/A4XCEP4U/gF/94kcr5LBCsuQQaUp/k6JEU5RISiCIhdg5+9L7Vkv+H6pu9q2c6sEMiMEMyDoRPUt1LVlZWVV57rkLbt68ieXlZWxvb6vnKQ8bo326rov5+XnlqUNusrrRXH+XENLILd0L+jxAnyOkzbF2m3N8Vjz4PvTtBIAQ4/dE/A5h5FhtIwCR6lRG68bvnMQh2DuL2mzQNkyNxoO/b3hf2LadSij1cfCgx9jt2pKBsVwu4+zZsygWi/j4449x48YNrK2tKaMLX5/y25imiQ8++AAbGxu4cOECTp48iZmZmcQ41+chkzwP9rs8w6PFgSvK/O/dFE8+EDjxm7S/tP3wvzlRTcserZNgvUawTpQ5gealY/hDXCfjHJOMAvp++P707Qh0fP24PJFCWgwOd3nmRJb+5m7ROlHW3aJ57DB3i57k6puGh0Ewd1uH9yX1A3ePIaJJfUhxynq/6uPzfv8/yLmkKf38fzpGuVxGqVTaYWWn8+EZ0T9rndS9uKXROry0AzfOTDImSBm5Nm9vb2NpaQlra2vo9XoQQqjM5bVaTWWmdBwnkcCMXztOykejkRqzvK08QUfa+VByOMuy1IuQv6DpfyLi0UkkziiaNexYJvl/UBMTfT3s9v9ekb1Mv4jQ3y08HpPuE71ObIYM+wFXZul//hmNRmg2m7h+/To+/vhjlfhoMBioeQKtR89rUvKefPJJnDx5EtPT0yp/xV6VuLR1JhnQ97Lt0YTeRjKm0nIjZT2R+mdyN4Jbd/fWBLUNHpoD1KQ548O4PnsdP67rYnp6Ws0BSAja2tpS8xJgfB/QuF9dXUW324Xv+xgOh/B9H7VaLWFM2o+qzOeradwow+HgwIgytzwC4wGgLyOrJK8LzJNWpRE/HbQNzwLd7XbR6XSUa/RgMECj0UC321WxqLScVF8azNzSyPdNyi9vk34D6Ioj/55PXsiyb1kW8vl8oi/4zciJFO2LbkhOAHjML5VVILU3l8uhUqmkJsyijJHkDk3K227EQifz/HyPIrhlmRMdTjbJIq5nOOa/9f09StC1prhtqifJJyvkvk3x7/t1rdTHapp7P61Hv6kdpFzxGt9phgpgHBe8vb2NS5cu4cc//jF+85vfoN/vo9/vwzAMfOlLX8KLL76IV199Fc899xzq9To8z1P70EkzHbvZbMIwDExNTe3rvMktv1AoqBcfN5QYhqGMZcViEaZhjj3WAEiRQnZ3LEuBvJ/RZ4Lf3M6z0H5nyJAhw4OD3jncc4cbmUkxk1Ki0+ngk08+wUcffYRr164BSM6FyABP3nhCCNRqNZw5cwYXLlzA/Pw8KpUKhBCpYTK0v4w4wX2QrwAAIABJREFUAOkK86Tv7rebffblAx7qcQAZws+fP4/Z2Vnk83lcu3YN9+7dS4TxAWNhxXVd9Ho9vPvuu1hbW0Or1cLLL7+svGjJhZvm6JPEC11w48uz8X74OBCinOYmQ8SPx9jqmQ35g5C7nJJSRhNVihPmyi9Xg/UEWpxE8wRZnJBTG7hbKE3ueZt0lVxXv3miCk5gaH+0Dt8XZTCmdYgQcfLLiW+xWEyUQ+DrEdHl61PGaJ5ciyvKae7Ru6mJk675Ubyh+QPItm2letMDiF8bz/PQ7/cTLtdp+zsMUHso3pvqRnK3fSllwjOCsn7vFbpXhm4JTVOjdOs9v9/JEMQTXJA76OXLl/HOO+/gtddew40bN7C6uop+v68mX/1+H3fv3sVvf/tbPPvss/jqV7+Kb3zjG4nnB7+O1LZ8Pr8vrwZCLpdDsVhEuVxWzw7eL2RcazabkaHCsiDE2GVNEJlVw0NXklUvQdWjnEBuE8qzCHbsIW2b8f4eZBJ19O7bDBkyHA1woyk9a8mDiJJO9no93L59G51OB7ZtK6Mmha+QIFEqlXD69Gk88cQTWFxcxMLCAur1OgqFgjJW82OliRBHda6R4fEGjSky0jz99NMoFAool8u4e/cuWq1WYm5ECWCljBLLNZtNXL58Gf1+H6dPn8aJEydQKpUSpcl2Ex90spyR5KODA41RnjTJ5mVviBimZZKm/0khbrfb6HQ6KlFWt9tNlPUhkkyuk5NUT66IpQ1G3XKpu0rvdp5p+6Lv00gqgZNVngGal0ji2XepTALtT88oTZ/9nC9v/yRFMU1NntQ3RwXUNiLKZAjQ4530rNf3O6fdxsVBgJRP8gDwPG9HG7jRiB7S+wE37OjHTrN4AmO3ca446PcQ7dPzPLRaLbz99tv46U9/il/+8pfqO4pRtiwLjUYDd+/exYcffojLly9jaWkJlmXh9OnTmJub25F1mo5FKsR+YVmWeik2m030er3E/UmTwUajEdf7zGOn2qvfF2KCFpwktZPbG8afNFU5nRTLKA+ptt5+/s6QIUOGCJwYcOihKZ7nqaRdlCE4TWiYn5/HuXPn8OyzzybmMbRPLqjsZqDNkOFhg0Q5Kve0sLCgPC4BYHl5GY1GIxF+SXMX27YxGAzw6aefYnt7G9vb2xgOhzh16hTq9Xqc12TvvCLD0cIjiVHWyRl/IPIJ+Gg0wtbWlsrMubW1lcgqTSSaVF+elZaTQEosxBVdKaWy7ND2emITerDzrMOkLE2y9tALgLYZjUaJJEsUF8tdnOlDdQHn5uYUyeXxwHp5JK7McfLLlbU00h6GIUajUaJN+vppRP9+ybIeB/DzIjLEyRzBMAylKBMB5evpE4PDesiRd0A+n0e3291hqCE3aHL52S/0sa2Ph0lGEp4oS98H3auGYaDVauH27dt4/fXX8eabbyZKMaQpBp7n4e7du/iv//ovvPXWW/ibv/kbfPe738WXv/xlpS6T0Y1P0Pbrdk73KTcu0PnQc6Lf72N7ewuLiwsYk1hgsuJLirNAspbl3mLoxiCiLFKW0bGE+p/5giCdyAu2WOAxup0zZMjwiKAb0Ce5hNIciMgAheHQ/Mk0TUxNTWFhYQFnzpxR5IESzPEM18C4mgMdk78bMpUtw0HB9330ej019w6CAJVKBefOnUOhUMC1a9dw+fJldDod5dlKeXyEGIcMbG1tYTQaodVqodfr4dy5czh16tSOnDP8NzBZyMpw+DgQoswn7fQQ5QSDq8idTgfb29tYXl7G5uamqvnYbrfR7/cTGaU5webHuZ/CyeMa+frUDn19Woe7eHI3Z13F5fWAKe6X3I70+sCkDJNLKiXB4mozd5FOs6ymZWvU2w4kk6JxdXmSqsy30V+EvI91UkPrpGUUPgrginI+n09kWubfc6KslyvQ3b0eNVGm8UiELk0Zp/FBNbwfNLstHyO6sYnaortm6/3A1WVuoLl37x5++tOf4tq1a2i326n3aRiGsG1b3X+j0UjVgX3ttdcgpcTc3ByOHz8O13UT230W5YGyX1IWTr0/ooQ1LXhebKBTWarTCKreqfwPSVoykmRXhwHAiBXi3TKnjNVlCWikfPf1MzU5Q4YMk8DDkLixmBsihYgqApw6dQqdTgftdlutm8vlMDc3h5MnT+Ls2bOYmZnB1NSUeg/zeYNumKd3jP6ezpDhIEDzce7pSmPz2LFjsG0bU1NTuHHjhlKXqdoIbU+Cged5WFlZgW3bKmcMeVCQIV6fN2UhBUcXB5rMiybqetwuPRCHwyHW1tZw48YNXL58Gevr6wnXaRqsen1c2geRbWA8SdYnuPwhzOvrTcoMnaauEiHmZJf/5gR4enpaZSXmJJnItE6+eD3gtIRl/GWhJzhLI268jziZSUuExl9GvO8oTpT3gX4Mvb/1F91RAW8/JTbjngWcEFLmQvIKuF+mWN2V5iChE2WqP83JKrWRx1rv9xi6ks7HqD5WuBGJT5z0fqWP7/u4efMmfvazn2FlZUUdg9alyZg+xvk+fv/730MIgW9961uYmppSsfq0L+DBJ1SWZamkd/q1JYtxp9OB73sYE+TINTqdJNPfepSyvjytvUSlTW37yeuOd3k/Y0Ga23aGDBkyJMGfxXwZn5MBUZ35J598UoXG9ft9mKaJUqmEs2fP4syZMzhz5owKH6Nt+TtEf27rrthHcX6R4fMDmh/ydz+NPao2Qu7YJHRtbW1hOBwqrzoSwTzPU3H7FBL65JNPYnFxEZVKRW2vi30ZWT6aONAY5bSLTpNi3/exvLyMK1eu4PLly+h2u8pyyNVU3f2VJv9EatJIL63P2+H7/o6sc5wIk2t0Pp9XyZIKhQKmpqZ2lEfiLtF6qSX+IuAkXXcl4kkr9FjitP7SVV2dFExSf4FxTLi+P56FWN+Guxvr/cW3fVxcoujlTtfQsiwVT0Xf85h43/fhum5iez6eJ5Hng2w/fWzbVmUMOLHl91av10vU/9sLaHtOsOkciQineXHwMeX7Pvr9vhojtJ7v+1hfX8fVq1fx0UcfIQgCRUh112sACWLOxx15oVy7dg3Hjh1DrVZTky09U/t+4TgOarWaikni9yidQ5QRO4Byp04oxWLC3+N1BPYz2RPAntenPkpz0U7DbiQ9Q4YMGdLBn8n03HYcB4uLiyiXy3jmmWewvr4OAKr2fLlcTsx/DMNQ71lK5KUfAxiHTPHjHVWjfIbHH3ycUdgAzbPIQ+LZZ59FtVpFsVjE1atXVVgZ5TEhYSqXy2E0GmFlZQWdTgfNZhOtVgtnzpxBuVxOeFXQMQEk5jAZcT4aONAY5TRSQctGoxE+/fRT3L59G8vLy8qNlE/uuXKpF/HmRE4nf2luzFSGiVwreDwwV345Cc7lcigUCjvcrfWM0WkqtH7ek5Tu+6nDfJu93jBpbrCT9pVGsCeRcL79Z1XvDgPkWkOqMj8HMsJQdnSKU04jhvT/oyTK1E4AKradG2Q4qSNr5n6JMh2D3298jNP9Sf3DyzJRRm7d8EN9NBqNcP36ddy8eVNliqS2k4HLsiycPHkSMzMzuHbtGra3txPhA1zxJmMHGTjo/pyUVXIvsCwrTtRVSHir0DggRTnK4BrAMmmyFqXQSqrKO4my2FXJTQkf0bbfP9KSgE3C43MfZ8iQ4dGAv/+4d48+X+EiQS6XQ7VaBTDOqUFzJk4KeFbsSXHIumcRvXMyZHjY4HM6mpdIKVWpTRqXjuNgZmYGzzzzDBzHwZ07d7C+vo5Wq4XRaJTwWKS8ShSHT1VK5ufnVRgC91yk3/xeAx6vefbnEQdKlHnsIJBUrIbDIe7evYvl5WV0u10V18vX1V09yVJDLszcbZMeqLo6XCwWkc/n4bouarUaSqWSIsCFQkGR50nJf/gxJkEnFrSMlvP+4GQ+bT+6Ek6YRMb3AiIhu4Efj7tD3W9d/ThHGeQOT67w/NrSORERpDJiPGSA41ETZT5hoKRTXOXllvoHJcpcFab9EQmme7bb7ap44V6vlzA0TU9PK9dl3a2o1+vhypUruHPnDlzXVaWgaIKVz+dRqVTwjW98A88//zx++MMf4vLly9je3la1rcMwVPfxyZMnMTU1pdpLx+EhG/sFKfX5fF6VOOHGOCLKvV4fo5EHM59nbtSUIEtPsMXuiYm3R5LQamapfZ/HeF+7EeW0mOejff9myJDh0YK///R3JZ+T0LuQwsjq9bp6b/ASOvw9S+SZ/udhcbuJDxkyHAS4IYbmPRQKysNHB4MBbNvG+fPnMTU1hXq9jvfff19V66FEYDRvoX1vbm4qL4rBYAAhhDLK6+3gfx/1efUXAQdWR1knjfzBRy6MW1tb8DwPlUolMcnl69NDk9xmieDSR3eZpmRaFDNMVk4i0XpCLhqkXLHmx9e/J+jkeZIr8qTM0ZOsRXshww9y49xPpeYvwbSs0HrbuFp41MH7mcgyWf30TM38pa0/sPQ+fNREmY8pvUYyv38oLOFBY5RprPNsjt1uFzdv3sTly5fxwQcfqIQWRHJLpRJeeuklPP/888o1ibKaBkGATqeDjz/+GJ988gl6vV7C6joYDDA1NYWvf/3r+Na3voUXX3wRJ06cwDvvvIM333wT165dQ7PZhGmaePXVV/GXf/mXOHPmDCqVCkzTRKFQUBMyXrd5v+dOrlVkSOHqNKn2/X4fvV4Pg8EQ+XweO12jBXhG6VQkFnMyqxNbI7naxH2kffF43JsZMmQ4muDqbxiGieRbfB0iEJSE0bIsVX2A3rcAlAEWSIoo+ruN3slk6OVzkqOaMDTD4w8ar9yzlYdz0XyKzzcqlQrOnj0L13Vx48YN3Lx5ExsbG8o4lMvl1DxKyigj/PXr12GaJsrlMmZmZhLhmtQOXSjMxvzh4kAVZYLuvsNBD0ZOTPhDc3Z2FjMzM0oFJjKcz+cVUXYcR6nG3M1HV0XTMjpTu/aikHJCtdt6fJ20AX4/gnWQN8X9CO5+jv043rykyOrJ1fgYpczX3CVMf0HrE4ZH0W4ap0QOeXwLv6ZkzZxkjOHLJo17vrzVauGDDz7Ab3/7W/zud7/DtWvXcPfuXaytrSlXu2KxiNXVVdy8eRNXrlzBn/zJn+Cpp57C9PQ0hsMhVldXcfv2baytrSEIgoSFFgDK5TJeeOEFPPPMM3jiiSdQq9VQr9cxNzeH69evo9FowLIsXLx4ES+++CJmZ2cTrt5k3Lif98ck0D1Lz5J8Pq8UZQBKHYniv/vo9weoVADTEKncNMpDEMKy2LjZ0dUSPHN21BfxM4p2Kh6E9OtL0mKWqZ+yxF4ZMmRIR9rzlL8f9O/1JF/8Pal71+n70Kt8pB03I8oZDgo0DrkoRiSXj10e8kUJQJ988klVtvP69etYX19Hp9NJeJHSNoPBAJubm9jY2MDZs2cTfIfctXfLW5Th0ePAykMJIVTadHJjlFIqi2M+n0e5XMbW1pYaUEDSwmgYBs6fP4+XXnoJlUpFuUnTMfjvvWASsdnLgNzrcfazr0d5E6Sp1ntZ9/MAnfhxF2zuYgxE46/ZbGIwGCg3ZtqGXzf+on8UFj+u9hqGgWKxmBquAEDVLeZeEnoGad4vtE/9vMgNaXV1FT/60Y/wxhtv4KOPPlKuRbTOcDiElBK/+c1v8O677yKXy+Gv//qv8f3vfx8vvPACOp0Obt26heXlZVUSiup6U6hEvV7HhQsXMDc3B8MwUKlU8PLLL+OVV16JM037yk2b8gToEzTdTXC/oPMvFAooFotoNpsJd0A630hVHsD3QsASMAwBKQE6pBCA74cYDj0U8g4siyaPdDEp6RZijioBGQIygIyzaAMmIMaO3TqX5WSYn6qU0ScMx+q0YYjU7bJJZ4YMGe6HtDCWNG86Dpqn7baf++0j7bhZfHKGg0baGNOXkVF9MBggCAJMTU2hWCxidnYWxWIRV65cwY0bNzAYDCClTJSMzefz6Ha7WFtbUwYiOgYlYi0Wi0rIyd7Rh48Dc73mdWj1Onjk4vjEE0+g2+2i1WrtcHnmiR4AKHdI3ZqZIcP9oLubU9K2NE8CsujxLOH8N9/PYYAerGnlxoBxnA2Ps75f27kllaykUkqMRiNcunQJb7/9Nn7zm99gdXUVpmkq9ZZvTw95ist588030Ww2cevWLViWhbt372I4HCrjBLUtDENUq1WcPHkSx48fRz6fV0YKeoHwcgzcNe+gQKXguEsgd4MaDAYYjQYwDAlhSNKDIUMAAjCFgGUZMAwHhmnADwKMhh4cx1akOVmDWQIiBBCqlGACEhIBglDGmbIFhOBqCxlP9CQgZPCIlOLx+BaJ9aNnNJXZyyafGTJkyJAhw35A3qvEdyqVCs6fP6+EwFu3bmFjYwOdTifhYj07O4vTp08DQFxJw1dkulAowPd9BEGQqLyS4fBwoDHK3N+fTziJrJw+fRpbW1v49NNPlauortpRQW8+cdYVtAwZJkFXfclI4zjOjhheMvBQwgVgb7Hij9ozgBNlXrqA2jGpHvSk/RHoXuX37R/+8AcVJ9ztdgEkyxhwlyHuSXL9+nVsbW2h2+2iVCqh2+0qNZlDSonFxUWcP38e09PTcBxHxbdxtZ+OxT+0/cMGuVCllXWLiHIPg0EPEEFCzQ2lhAwlAAOGEDBNAWFIIJSQMoSUQaToCgAyjFRlSe7XnCiLiDhLAFJCCiLLgEyUpNoZQx+1x4iJtO7hImJFme6JMdnOHqUZMmTIkCHD3kGVNoij2LaNubk5FcJFHnNcPXZdF4uLizhx4oSah1LVEvKW4/H8GQ4fjyRGmVw/aUJNLtinTp3C9va2Sq9ORep5jABl2tXLxGTIsB9wL4RCoYBcLpcw4HAyFCmGo9TyY4TDVpR5GTNyDweQiIMhws/LD+ikmvZJH56ZVAiBjz/+GO+99x7a7bYyHgDj2uNCCOWOXCwWYRiGspBubGzgjTfeUInHWq2Wiv3mxz1//jxeeOEFtT+yrJIyTiXddFLPf39WowV/puRyOZRKpYQ7OqnfUkr0+l30+m0AIwhhxSRTQMpIaQ98QIjoeWfZNizLgFm0IYMAYRAAkBBCQgpg7BAQQsjoO0RrAMKAadrxshAS43OWMubLQkTVmZmCLKXuwRO1j5RmKYkwR99lJDlDhgwZMmTYP2jeSOFhFEpWKpVQLBaxsLCAe/fuod1uAwDq9TrOnj2LhYUFFItFNffkHrj6fCfD4eLAYpR57CTFDwLJUkq2bWNmZgZPPfWUSsPOMyj6vo9Wq4Xt7W0V40z7zwZRhr1Aj08WQqjEb0SEdeWQ1Fg9iZe+n8MCL4NmWRZGo5FaTtZJz/MUUd5rTDpPbCZlVM6DykGRtdM0TdU3lIBP/81JbBAEGAwGar9kgeUx1/Pz8zh9+rTyGCE3cACpcTo6SdbP40HAt6WyctytnZ/XoN+PFGUEEXmVRIwByzIAGZFWIQxASgQyiNcRMMAU4YQybAIwIuU5jEixjN2vBQwIgxT1KNEXj3FWbZOIiLM6l7jcmwzVv5GgLNVvIchTJ0vqlSFDhgwZMuwVnuft8NrjeWFmZ2dRKBQwPz+vPPIqlQqq1SpyuZzaB6+/THMvIaKKI5w/ZTgcHGgyL0rYY9s2gLHLJnczqFarOHPmDG7duoVGo6FiHTlR3traUgpfFtye4UHB3f4p9iMtmRcRZT7e0pJgHcY4pGNyokzEk5N9nSjzc7if2zIZD4CxG3Kr1VLhD9SHlUoFpVIJnudhe3tbJRGj/dL6RN710h9kfZ2ensbs7GxC+aYXBD07CGkk+WFfB8riza26PNxjMBxgMOhDIoCUYeQpLU0YRvxCkwIR6TUgQ4oLBkzDiMgzYsVY8vOQgIyIchjGBod4PWGMVWPBifaY+cb7kbHKzM8mjNoYq9C0jVTbmpAwWD3oDBkyZMiQIcP9QFyFvOBIHCDRoFgsolwuY35+PlEyipKgtlotdLtdDIfDRIlbTpT5fCzD4eDAXK+JgPCJpj6Z930fuVwOMzMzieQ5hCAIlKI1HA53uMpmyLBX0NiTUiqizEMBOPEajUaJ0kAAUsky3++jgB6/T/EseqZ4aiedh67G0jnw7QAocp3L5ZTB4Omnn8bFixfxi1/8QrlUh2GI48eP4+WXX8Y3v/lNNJtN/PSnP8Unn3yiYnF4vDcn6NRuIKpHuLCwoOohk0WVJwuzbTu139P6/GGRZ8dxUCgUdpQ6ifYbjY/hcADf92CZFgwKCKa0XqGIYpWlhBAWzEgGjsioBGQAhIFAGEaEVQnMwkTklh1nxTYAYRIxjrZVyayZKi0EYAgqMRUglGHkTs1inyEid++xbhwdOdK44yxkGVnOkCFDhgwZ9gSeIwZIVkQhgYDyNfGKPf1+H6urq7h06ZISGSqVCk6ePInz588nRJqM6xw+DjyZl06UTdNU1hLuokD/ExkmC8poNFJ1bTnZzpBhvyDCQ2qs67rKAEPgirLv+wlFc5IC+yjGZBpRp4RevA3ktsyJMm8nPwe93URi6X7M5XK4ePGiihteXV3FYDBALpfDSy+9hL/4i7/Al770JfR6PczNzeFXv/oV3n33XVy6dAme5ynyS9mw6Zh0j1cqFVy4cAGLi4sqVofOjVtU9+pFopPpB4XjOMjlcsrtO5n0TcTn4yHwQ0jHBGDGKrIFCCtysyb3a2kgCAR8DwgDwPckRoMA/d4Q/f4Io+FIZVkPQxmXh0KUPds2kMu7sB0bthu1yXUtuK4J2wFMM45xFlEaMBW4LCipV8SoI6/sKP5ZxqWoJEKEISAQwrYozjpDhgwZMmTIsBdQ4lMuuNA8TOc/RJqFEFhaWsLVq1dx5coVtNttSClRKBQwHA7hOA5OnDiBarWaxSofERxoeShe3okPIpqMk3sruWJzFZq7MVD2Xj1LcYYM+wWNP9d1kcvllEJKIILJyyvx2Nm0ZFiPsu3cq4ITZT1BFoBEmSu6//h9qMcTU3ZpMl4Vi0U8//zzmJ+fR7VaxZ07d9ButzE1NYWLFy/ia1/7mrpfv/zlL2N+fh6u62JzcxObm5sIggD5fF7lH+CeJKZpolAo4IknnsDc3Bzy+bx6BnCXbc/zlNI8qc918s/7Yz99S7BtO5Uo0zqBH8AbBQiGEtK1IA0HMgSEYUHAAkIgDCTCQCLwAwz6IdotH6NBiH7PR7czQrPZRrPZRrvVRa/Xx2AwhO8HCIK4jrIAbMdBsVxGoZhHsVxEtVpBtZpHZcpBqWQglxOwHRPCMOKMXAKOa8Cy47rOBqJ9SY/FJsex4TJE4IcQACxLMkV8f32VIUOGDBkyfBHBiTCfL/JKHcRxeILYu3fv4tKlS1hZWVEiQrPZVPM113VRKBQSAkKGw8OBJvMi0OSXMseSQkRuCwAUeabYRSIFNMjIGpMhw4OCW/pc10WpVFKEmBNHIso8UUMaEX3U4IYk8swgEqkjDEN1bvo+6Ld+P9EyUthN04Tv+ygWi3j11VfxwgsvqHp/U1NTKlGXYRjI5/N49tlnkcvl8NRTT+GHP/wh3nrrLZXp0bZtdQ/Ts6DX62F9fR1bW1vodDoqWRiAxDNir32+m1v2XkD9QW5SlK2bJ0SLiL7EaCjR7YZwHROGdBB4EqYVJfTyhkC76aOxPcTmRgury1u4d28NG6sNNLc76Pc99LpD9HojDIcefC9EGEbqrxAGTMMAjFguFiaEacC0DNiOhXzeQrHkoFotolYvY3q6gtp0BZWpAopFF7PzJVSrOdgOYDmAZQkIw4JhmBCGE3tXRzHLgUFjg5J5ZciQIUOGDBn2Apoj6t59XBDg4iBxoHa7jfX1dVW9hPLKNJtNXLlyBQsLC5ienkahUMiI8hHAgcUop7mK8ixuNIBoUko1YSkBGJAccJminOFhgMacbdsoFAoqSRWBHmREMmncTXKBedShADpR5mEM1B5+3+iK8l7Az4dcsEul0o5kYACU58doNML09LTKObC2tobt7W3cuHEDw+EwocaTWtzpdPDxxx/jrbfeguM4uHjxojqOnpF8r3gY14JnFde9CcIwhICB4cBHu9lHqRgg5xgQUmLUF+j1Rrh3ex23bq7h9q11NLf72NrsYHOjidZ2B93OEN4oxGgUwvdDyFAAUkAgUoaFiD4SAaQwEEoTlAMbCGGagO0IFIouypU8pqaKqNYKKFVcFIoWpmcKqNbyKBQtlMoOSmUXxVIOxWIOxVIOubwNx3VgWxImzDgRWey/vacORjJGek9IG3d73cF+DrYfQ+qjnnwcpbZx7wHev/u+sBkmYi/XO+vrDBkeZ/A5ij5v0j3d+FyGJzal74EoOVi328XW1hYajQbq9fpEMSTDo8OBKcoAVAZcnt58OBzCdV01wbcsK469c3eoR1zh4u7ZGTLsFXrcCDCO7+XZBblhhwgmWQsfVuzrwwAf/0SWyRNDz2hNRJ9vu9v9wxV3Wp+XjKL7j4xdlmUhn89jNBqh1+uhUCigWq0in8/jm9/8JobDIX7wgx9gZWVFPQvIrdowDLTbbfz+979Hs9lEs9nEhQsXUC6XASA16/Wkth/EdTEMA7Zt7yhZFYZRvePRYIjt7Tamp2dgVADDEug0Je7e7OH/++Uf8X/vfIg//uE6ENoQcGAIF5bhQMBCGJgALAiYMA0LpmXBNCwAAqGM3bbjmGfHyiGICXoY+vB9D6O+j25zhPXlHiBWYVoBDDOAMAM4DpAvWqhWS5ibr2Juvob5Y9NYWJjBwrEZzM5VUKu6KJUEDMuAYSLOBkbX/yF3pNjNpXsvB6Nt97PuXvD5I8pp98fOZTpJltp3D378DIS9hzFkfZ0hw+MLSjZKcwMACeLM45f5/LNUKqFWq6HVaiXy5JBw2Gg0sLGxgZMnTyY8GjMcDg5MUQaQmGTSBDyfzycm3/Sbats2m83E5J4GHSX0Oow06TTJnzRg+Q3CyTwvIM5dzIFk8qU0IqYrd9xgwF1UDxK6gph2w6e51BOpmOQym5bFOA33ezipTpYWAAAgAElEQVTwvqZj8W14ggXeNl2J5XHIAFSJsl6vh2KxONGT4TDilbmyTXHW/Nz5OXe7XfT7fbUtv+/ofuRKrw59GW2jq7ymaSKXy6nlruuqjPWDwUDd371eT21Dhi/DMLC5uYm3334b//zP/4zvf//7+Pa3v61cnjudjlJ2ubI/qe/5vcjBlXbeB3wsk/sTGQGmpqaQz+fRbrcTWbgRRrWJPX+AMPTVvHhleQMfvH8TH75/E2vLA+SdBQSeCRlaEMJGXKUpcWwRCcoI48zTEtH/UdbsEAgkTAgY0oAUFiwYkKaFqCxVACCAgRCGlBBhCNn30R+GCLo+uptNLN/swXVX4OYc5PMOypUCarUSpqerqNTyqNZzmJ4roFYvYapWwFTFge1EfRfGucEMI453jvOFSaosJShjt1QJxIQQLIG2iM4hXpeNpGgb3O9ZTsnH9G3T7jlS3Sn7d1wrGlQWK+5vAFGJrlCNi/G++D7531LxHrWuzoPEbsQojTglz0uq70nd388zZVyTnD+rorAlPw7RiN8ZQsLzRwjDIKVd9yF3kivPKacDJNotvpCJ1OPxR0n5dg6U5N+Sh4t84Torw+cIaYb4tPcwMH6OpoV/6cuPeklYmgfrc2P+nY6ZmRkcP34c3W53R16WdruN1dVV1Ot19Ho9JRjwpMcUDsbLgwJHv68eVxwoUdYHCCl5/H++nGKWefIcWofUvcOAnvRot5tdT5bEl9NvXTFP2xff9jAHPr8e+nKdfOwGpcbtg1imGQsmkbq0/uXLuVGCHkp67DFBiChEoN/vJ4wcfF+HoTLr5I4Iv35+9KEkWvo+0va11+Pz38C4v/X7utfrodFoJBJY0PqczBqGgW63ixs3bqDVaqFQKKBSqeDs2bMoFosJN2zaXjd+cJJAzxy+zaTxwvtLN5pQsjEq6cDPTQogDAMMhz0EgQ8po4zWje027t1bw/LSJjptH5ZRgjBNSGEC0owmzyKEMIigBAhkAASxqGsYAAxIYcRzZglIQ02mIUMIVStZxjWVzchtWwIIQsjQRCgDDIYhBu0AgA8p/YhYA3BcC6VSCdVaFVO1PKrTDuqzFmozBdRnipiejmKdczkHthP9zucd5PIO3JwFy2aqs2Af1bHj/yWRRzFuM60SnZNO1Gjfgi1Pd9se35N0X4ZRZm+V8VtoW46PHdWVRlQeSzDjxQTX473rrPd7DrLvpX7ucYkuKZOe0PeD0OwIavfR/iPDEhAE8WRKGXzpADpR1vuAGwYmHCzl9Pimnw/s17NhD6qy/Fx1UIYMewIXVYCd5PlxxG5zKX25lBL1eh2Li4u4c+cOBoMBgGQG7Xa7ja2tLWxvbytuxOc3aZzjMISbLwoOlCjvBzRpTkOatfxRgivj3AWc2qxPuoFx7CZtzxOX0fee54Fc0wlpg54roYeRLp6y+VFyI2Cc5Y+SOxFh4+fHz8n3fQyHQ3XT7xbzO+l/UtXJSsetddRnPCs0vz60Dj1sDMNQ7v56W4HIMENqKN+H3rbDfCjt5Z7ZixHjs4ATdLpHpZTY3t7G2tqayrzN2+N5HnK5nLKgjkYjDAYDrK+v40c/+hFu3ryJf/iHf8ALL7yAarWqyL5lWYkwDF5Cio5TKBTUvcXV77QXCLUpCAI1Hrnq7rrujozbRECC0EN/0FVEeTQCBkMfo+EAge8jDCJCbBoRUQ5DCdOI9yNCBMEIfjCE7w8QyrHblWlaMAwbhhWR6zAcQoYSYZg0IBpGdG6GiIh0JECHsEwbhukoYkS8i/4e9SQagxDtRgsrnzYBs4+R3IJheXBdoDJVxPR0DbNz05ifn8Xc/DTm5qYxNz+N2dkSavWoNJVy2RYADDHmtvEnYUAzAGFF60hSeCUpvfSbjAX8OhHB1kcd9cfYABf1oQ9hCBimEfWjMGJjwlixpX6MDClGlORMEX8Rra+P8Xgf+77TU++99PtRkLoudIK/C1iD6D1CHj7Rc9BAuVxGv99Hv9+L70OgXKrAskwotT9N7dYPcD+SDOAQH4UHjJ0GnYcDbmX63HZehi8I7kfS9DmJLnx8EUgenXOlUsHCwoJ6PvPQtEKhACklOp0OVlZWUC6XUalU1JxG9+rjdZszHAyONFHmk1Mia4/yRkpTMDnZ4oSM2kuDlkiw53lot9tqYl+pVFRcAydz+jlz1TLNpeNRgQg63cREkAncFVYnpLQ9Kbiu6ybqY9NNf7/jc3CrG33PH7C6ezHfB39IW5aFQqGgiBDfn5RRcqpOp6PO+7BJMYG3QVfFdYMNkUp9+zT3oIfRLiKtw+EQa2trWFpaSsR5c1LNE6UJIZSr9draGn7/+9/jX//1X/Gd73wH3/nOd1CtVuE4TiKLt+M46lrrmSXpb53gpnlp6MYW2p7CRHj5LXXvC2A06mFzaxmDUQfCDmHnDVSqDqZn85iq2+j2uhj0hrDMfER8TQE/GMFAiHzeQbHkolisIl9wkMu5ESl3HJiGBSEsSAn4Ix+9bhf9Xh/dbg+dTgf9/hCj4QhhCEhpIIQBKQ3IMNKaBRxIaccJwCKF2jBMGLHyLGVUOirwI1VcChvSqMIbjDDo+Oi1DLS2Blhb2sSNQgf5/D3kChamqkVUq3lUay6mqgWUK3kUii4qU0VMVcuoTJVQLDrI5QRMiz+7I4Ilw4hJj4caqbnxMhkT0vgSRdcrBI9xFvQzJsBEqkmJj+pYx9eUXJg1bmcICWFEvxVRIS9oIdN1QyLJnJjqO5baCvp3mlIe/auvT9+FkdqoN0JHvL3neRgOh8jn83AcF7VaHRsbW+j3B3HJMQkhTJRKeRSLZbhuDoaxl0znmqtA6uq7EL3Df1w+BExSh3c7OTE2fOwg2Lpar1/n/SjXGTIcPnTPyN3mEzSXSvPSm7RPPld+3EFzH9d1UavVMDs7i06ng62tLQBIzIVarRZu3bqFubk5zM3NKRGI5jk0x9tNDMjwcHAkiDINDp5EiF9wqqeqJyZ6FINCj4vUHwhpbaD2Li8vY2lpSSUzchwHi4uLOHbsGBYWFhJxBxycJAM7VdZHeTPoMZ+kVhDB58sJaURZX5dnNU5D2jnqBgvdBTeNGNNyHrsrY/fDYrGYSOlP50lEmQwc/HocpQdRWtZrYNxGPQGevt7DBO03CAK0Wi2srq5ibW1NEVsyFNE6nMyThTQIAvR6PQwGA7z22msYDofI5XJ49tlncezYMVVrmRNb+p/H/gPYYYDh1576ghu6+PWnZbrrtdpeSAThCL1eEyO/BwgPlu1geraAJ8/NYml5Dn4wxMrSNmxLIJczUCgWYJo2cjkrUm1nyqhPV1CtllAqFZEvFODYNgxhQUqBMJQYDgfotFvodDpotztoNppot3vodAYYDjwMBz6GwwCDfvT3aCQB6SMMTYTSgEScNExErrZRbK4ReflKiTAUgHBhGHlABggCD54fojWU6DQDhGEDoRwhlCM4roF8IcqkXa2VUK2VUC7nUJ+pYHZ2CtMzNdRqBVSmLOQLNtycDcexYVomLNuCW3Bg2lHyMEOMOaJIEFXEtZ8Rx3MzJTcmsRGplvGWMckWAlEkN9SO1X4BxlU0wq32En+nVuaq7rhxkrV7b8RJqDVF6rI0ohy5kUOE2pZpJCveSoYIw+hez+dzOHHiBFqtdsLYVygUcezYMczNLeyDKOvQzpksHJ9bF2J2PRIx5IRJ15wMImlu7Pfrq3T3/wwZjiroPTzJ8K7Pnfh8bC8q9EF7xT1q0FyoXC5jfn4em5ub2NzcTIgyYRii2+3i3r17OHfuHAaDQWIOww33Ohc5KqLO5wlHgigDSE1QxcnpaDRSRPkwBoLuVp1GEoUQ8DxPKV8///nP8ZOf/AT37t3DaDRCLpfDyZMn8d3vfhd/93d/p/bL4zsJXH2j9ej3owjYJxLjeZ4yZNA5667TpJ7zNPb8WnKXXK7+pRkEJt3s/MGgkxqdJOsutdx1nn4TUeZx8dxVmyaZZMXj2x8VpNVR1hXl3TwxHtZ9xPva8zxsbGxgY2MDzWYz0Sbej5RRmtymR6ORahMADAYDvPPOO7hx4wa+973v4Vvf+hb+9E//FK7rQkqp6jdTH+x2PrqrV9p9rBuEqDY0eX+MP1EsqWUayOUdCHjwvT4s08LiyTryBReO46BcLuCD9z+GY+dQr0/j5MkTOHP2NI4tzqBYtFEqmygUTbg5A6ZpwDAjt18ZCgQBYsVYAggQhCF8L0QwimKPe/0A7UYXGxsNrKyu49O7a1hd2cLmZgutRg/93hDSMIHAhAxMeNKECKMs25RtO7p3LAAmwsCAYTiw3TJMU0CIEFL6kWt4MIDvD+APfXT8AL3uAJsbfZjmKgxDwrRD2I5ALmejVMqjMlXAzEwds7PTmJ2bwdRUCdMzFSyemkO+aMN2ANcBLAsQUW4pSBlRESLQwgQgo5JbwkSckRvg5EPKADKUkVu6JBIdldaCMOJ9iZh4SyCUUfbw2HgUhBK2bcGx7R1JqGTcIIlxMrEwTs40fu5Num/SDHyY5HGdsiKdZwAVt5xKlsd/O44JyyogDCXK5SKeffbp+DoC77//ARzHwbFjx/DKK6/gySefQD5fiBV1TuaEdjyubE76m/5MU1z19j6+oNJs4zO5H1mm5bucu9T+fvy7KcMXGNzLUp/HpQk9aV56aW7YR1GgeFhwHAcnTpzA6uoq7ty5o+ZqdM6+72NzcxNra2vY2tpCvV5P9Js+78twcDhSRHm3rNLc7RJ4dGRZVzzTyuXwmzkIAty5cwf/+7//i//+7/9W5W8oW/Xa2prKYvfnf/7nePLJJ9UkPU3t0h88jwrcRZlA9XANw8BwOFTt4nWxVcwgS4qkW7/IFZvOlY63l3PUSTK5gvO2cKVQ9wTg7rqFQkGdn+5OT1mvacxNUrgP49pQG3WirL+gyL1ZfwHp+KwvI7oGhmGg3+/j7t272N7eViWe+PWvVqvKo6Lf7+MPf/iDyuBIbvXUdqol+POf/xyNRgPb29u4cOECjh07prJsA0jEI1M8sx7OwF/OunFGf5FTf1HsffJej9YZeR4ajU14/gCGKSHMELZroVov4sKXTqFUyuHCl47DtiODzNTUFGbnpzE1VYLlGHAcwLIlDCMEQC9HgWgSbsbHkVHir5hMRiRawPMkhoMpdNtVtJoz2N46gVajh3ZngFZjiE7bQ68Xot3so9XsodHsodvuo9cdYjTyEPhR3LOUFqR0IMwcZBjC80YYjSL1LCKsEoZhw3VNhNKHlF5ENKUEAglPBpB9H1E2shEsK4DjDFEuj1Aud1CpbKNQclAs2ShVbBSKFgolB5VyAaX4Uyzkkc/nkSvkUCzYyOVMODnAtKJ45dgjOhYtwyghmnLJjhRolmEgbkuoXKEluXSLcSi1EIAwBCAD+F4ICBHFM0dfRJzFiO8XKeLrQ21IJ0D3JcMC0IbZjv/jA0bnAC/+zY/F613TWAE838do5MGxXYRhgMGgh3a7iV6vDcsSEEJiNBqg0dhGvz8HujVUsrUdrG3SsuTfe39aPM6TOFKUQ81EYCT+U6ti4r/pX4ode9nL1juPnSHDIUGfdwHjOQWf2/L5bNo7l6+zm8fm4wyat9G5zs7OYmFhAfV6HVtbWxiNRgkhzPd9bGxsYGVlBdVqVc1F9Jwqn2eDwlHAkSDKNHj0hFB8gk1E+SDdR9Papd/4utunnsm50+ngo48+wr/927/h+vXr2NraUg8LSlr061//Gpubmzh27Jia9Kcpq7pLMW/XQYO7KAdBoFyRbdtGqVRSCj+VBuKxw5yg8Qeo3pcPci1JUefXgSxxPL500kOEllGMsu6yy4nyYDBI7JtDt5g+qgcUP45t24oop41PilHea38/yHlw9VpKiV6vh1u3bqHRaKhj0nGDIEC1WsVXvvIVPPfcc2g2m2g0Gvj000/R6XQS6j59giDAe++9h7W1Nayvr+P//b//hxdffBGnTp1CqVSC4zhK9TdNMzHuCGSY0RO/6d4auoWWE+XEdRYCnjdCo9mH549gWAJSBIA0YNkWFk/UcWyxDiGehmVHJCoMI+IpDAlhhDHfkkDoR26zQfwcMUwYJptHi3DslywNWMKAC6AkHUzPuUBYQ+gDQRB9+l2g0w7QbA6xvraNtZVNLC2vY2N9G1sbLXQ6fXR7Qwz7A3jDON9AGGA08DAYeBgORwCiJGSO68B2LNiWhTAUCEMDQRhECrhhIHL5pevkYzgKMehItBsjGEYDptmGaUpAjDDym3DzBsqVAurVGmrTVdSnq6jXq6jXKqjWK6hW8yhXbBRKQD4fqe2GZcC0DFiWAcMCTBMwDAnDjGKUDZNkaAAy1oDlWP2TMiKU6vkjRJRgDUDg+Qh8H8IwgDgxmjAQq9IskZgUkFJAUnIxDWrY3IcsixSyrN1MAGQ0luDHnzQVmT7RePb9IQbDPmzLxHA0wOraCpaWP8Xm1gZM00AQ+Gg2G7h9+xbq9SqOnzgGy6TJGBlo5H3+Vo3c5QR2nPE+1j2q4Mp79H80DkIAk/NrKLtX2u70/4X+5V77+PPQvxked9C7l0Ofz6Yt4y7EaZ5eafPFxx3EdcigX61WsbCwgIWFBXQ6HSVG8bna1tYWlpeXce7cOQDJfsxU5UeDI0GUgZ2u1/pNxWOUH5SYPCjBTrtROQHh7psffPAB3nrrLXzyyScYDAbI5XIYDAaKUDuOg36/jytXruBXv/oV6vU6vvrVrybis+mjp9F/lOBkpd1uY2NjA0tLS6jX6zh37hzy+bxqrxACo9FIERRyj6X90DpEhIIgSDwQCJxQ81hRroZyl28izTwzMXeHHw6HiYRXtB31KyXzSouTpjYOBgOVpTlt/ByGokzH1WOUdS8EniF6ktGF7+9BzkPv916vhxs3bii3a52QFotFnDp1Cq+88gqKxSKOHz+O//iP/8Dbb78Nz/NgWRYcx1Gu1fl8HsPhECsrK/jlL3+Jq1ev4ty5c3jppZfwZ3/2Z3j++eeVuhyGoYop5ufCj6/3EV+X33tcsSeXciA2RAgJw7KQK+QhhAXfCyCED0OYMOJyPERepYym1mEoIaUPGMHY7VhIwAggRAjTAMj9NQw9RagMA5FsSm7FRJBk/KURkTtLRtN2ywbyRQPVGReLJ2YwGk6hPziJfs9Hv+ej0fSwtdnGxvoWmttdbG12sL7aQXO7h1ZzhG7XQ+DHKqsxQhAKjAYApIAQkcFh5EmEgYSAGRF7YcMULizTAEwBKY3ovH0Bz/cgpUAgSxiGPoKRj26ziZWlDix7GbZtwnZMuK6JXN6AmzNgu0C9VkJtuoxSOYdarYzpmSrq01NR4rByCbm8gO0IGBbGQmsYc2bdKzgmu2PeF0n0puGo7N0CEkLGsagyGDPaWIIWgtRljezG5DdBlne9X2hQavRT0sLYiAKDfdjBdKIsBRwnB8tyIKVAu93B0tIyGo1mlPht5MH3A4ShxNZWA+vrm9hY30S9XoWbc7QG7/fviWepfT4vGJNmyaLb97V96jP2/gR557tHpO8qQ4ZDBh+ru1XlAJLvXoL+7qZ5vy6kPc7g84xqtYrTp0/j3r176HQ6Kl8LzW/b7TbW1tbQarVUJQ7g8MSaLyKOxMgjAqQn8+LE5rDqKHOX4TTXEVKqRqMRWq0Wfve73+G9995Ds9lUxFG3jg2HQ4xGI7z33ns4fvw4nnvuOeTz+VRSnOaiAhy89cgwDPR6PSwtLeH999/HH/7wB7RaLdRqNZw9exYXL17EqVOnFGGmNpF7a7fbRbPZxNbWFprNJvr9vvIKGI1G6PV6iazHfHv+0WOjidzato1cLodCoYBisYhCoYBcLgfHcRSZ5m6/vL/omPl8fkeJKG6kIFWZ4svpO+7S/ajBx19a1msCvWBIEefbPuyxQ30tZVTS4Pbt22i1WjvcnwGgWCxicXER8/PzmJ+fR6FQQBiGKJfLeOedd9BqtVLjquk6dLtdbG1tYXV1FUtLS7h69SpOnjyJhYUFzM7OolKpqJqDdF25y3Va8gsOHh5g2zYcx4Ft28qwY5omJAL4nkS/56Hfj5JouW5siADickiAKSJCTEQr6gcJGBJRcqq49i8AiEjJFJQxKhxzuqidSeIRJZPm5b+i5aYrYLoCdmhChgZk6MSlowTCAOj1Q3Q6A7SbM+i0+2i3+mhsddBqDNDcHqDZ7KDbHaDfG6Db7aPd7qHV7GLQ9+H7ElGMM5WlQkwXiKmaEHF2bcTx1pDRd5ZpQMCD9HwMPYGBDBCGHiJ2K2EYEcm3rMjtulTOo1TKIZe3UCzlUC4XUK4UUSoVUSqVUCw5KBQc5PMubNeC49ooFfNwczZs10Yu58DNmXBcEe3TjO0NAnESLRnHPou47+N+VG7dkbstJfiSsaIPYUPAGGvLXHiNOoRh0vNB7lCfhaB3ioSIjwOYcf+ptTA+wHg8mAZgGkDgh/BGIbY3W2g3+xj2fcjQhIBA6APtVg+tZgfdTh9TU5VooH4GhVimLOPrppXa+jxB7ukMdRKc1t+T5Oe97hsPuH2GDJ8daa7UAHa8Y3VDNF8OYMdc8KDmK4cNzm/CMEShUMDCwgKq1apKIMv7tN/vY3t7GysrK8jlcpienj7kM/ji4UgQZQAJ10gd5F6rZ70+aNDEOo2s8hhccjn99NNP8f777+PSpUuKBPq+ryxA5EJOpO+Pf/wjTp06hb/6q79SShonYWkZix/Vg4MsWW+99RZ+8IMf4H/+53/gui7y+TxmZmbwj//4j/j2t7+N06dPJ1RN3/fR7Xbx6aef4saNG7h+/Tpu376N1dVVbG9vK/fzqLZnRJ51JZmTZJ44LJ/PY25uThHj6elpLCwsYHFxEbOzs6jVaiiXyyiVSnGpFCfV8EAP5Fwupyx0aRm5fd9Hv9/HcDhU3016yD/Khzn1NY/15t9Ru3gJpt3ul89K+mk8+76PdrutLKP0IqA+MwwDpVIJx44dg+M4KBQKuHDhAqanp/HEE0+g3W7jj3/8o8oAqcefCxEly6PSUx9++CEWFhbwwgsv4Ktf/SpefPFFnDhxAqVSCQCU8YT6iKvraXW8+X3NE4XROKJzCIIQo6GHbmeITmeEkSeRy7sQsc+0lBEpM+OnqwTi5EpmzG0CSATsHo9IsikMwDBjpTaKrw2DaBKtMlarxkb9GoRhzOci0mRZRqRCGwLSl3FkpYDpADkTKEwJzCAPIB9llg6jQjb9HtBpBdje6mJzs4H1tW2sLK9jaWkNS/fWsL3VQbs9xHDgwxAuBCwEnoDvA74XQgY+woj/Q8RKaBQHbMEQArZtQsCHlJG6GYQBZHyvARIBovYGRhSbPOhIbKCLMPQRBF7kni7D2IBhoVQqoVyuYGqqikIxh0q1iMXjM5iqFlEq51GrTaFac1GZEsjnATcnYNkCpiUi0hy7bgtDkGAPIybTECGEEUTKMsax6TJOgiaFRgIT9w6vZRkrkDseDTEhFuPt1HNFCghYkSUEYvw7gZRnjQAsA0BgodMaot/14A0lbNuBaUb773eHcZx6gDAUMeHf+32fcDzfS6Zr8Xmjb0klXy2atOoOt20gymaeBh5/nkT6s3mnwpwhw2FBj0XW5/I8REsPV+RhVmSM5h6m9ysh+jiBiy1ANCdxXRczMzOYnp5WwhJfn0S4u3fvolqtYmZmJrEv4NHOP7+IODJEOe3m4pN+vVD5oxgYXCnj7aE20Gc4HGJ9fR1Xr17FysoK+v3+jhha+pv2I4RAo9HA6uoq1tfXAQClUgmFQiE1EZF+/INGu93G9evX8aMf/QiXLl1Sy4fDIVZXV/H666+jUCjgiSeeUMm9tra28Mc//lGp6ktLS+h0OvA8D4PBAN1uN5EBm2f5089Rd8Gma3H79m1FpHO5HPL5PAqFAlzXRalUQq1Ww/nz59Xn2LFjqNVqiXOjhzop0/RQ5u7mRPKGw6Fyu02ziB6mxfN+sTyTLL0E3e39QUDGKyKx3W4Xm5ub6PV6qi+praZpolqt4syZM6hUKuoFWCgU8Oyzz+Kf/umf8MYbb+AXv/gFrl69im63C3Ix10kzELl537t3D91uF1euXMHrr7+O06dP48KFC/jKV76C+fl5zMzMoFarqfFDbeEvaYq11/uMk+UkURYwTAtF24EhLPi+RBDEuipz/ZUSCGWUGCtKTBW51ipVU5hRzihhREqsMAAZqZVhEKmYUbt2qnNCmFESMYOU0OhHKD0EIWAYJkwbMGPXbylDeGEIIZi3jhCQhkAQCtg5AxXbQL6cR33ewqknpjAcHsNwMES/P0S76aPZ8NFseNhcb2Frq4NOe4jmdhfbW120Wn30e32MhiFkOHYbFoiTY3lyzB0gAFgwDQFTRJ0m4sXUd2EQkWrAhWVExFaN5VBg0DHhD0J0ml3Ydh+W3cTVjz+F7RhwHANuzoabM+C6gJszUShaKJUiQl2pFFAsuXFCsTzcnIl8wUah6KJQsJHL23BcK7ZLyMjFNiTSGhsyE5eD3UcJV+nYcqAu0GTCEynKRI6ZUWQPhDQaZ1H+sfFEjIwmSS8owxCw7pu5Ow1Kh58oQuuPGqF+PM6IibGefYs8O/jzXyS32kmUJ42Bx76TMnyBoc+Tdc82Isie56kPeRdS/htabppmXDWirAQR7vH3eQD3WqO8S7lcDrOzsyrDNc05iDsMh0MsLS3h1KlTifkdzV0yonywOBJEWQihCAtXt7jlibtecxKqK61pA4aINt+u0Wig0Wig3W7DcRyUSiVMT0/DdV11DD6Z5lYgrnwS4VtZWcG7776LtbU1dcPz8+NtofaQOvbhhx/iK1/5ilLC9LanERpO2mh52vlzt9v93EyDwQBra2u4fPky1tbW1Lae52E4HOLKlSu4efMmhBCqMPo777yD999/Hx9++CEuXbqEVqsFKaVyW6ZM2URAOGmm/fM6ctSHfBzw60DnRgogqZRXrlzBmTNncPbsWTz33HN45plncPr0aRQKhUJZ1U0AACAASURBVMRYoW3omuvqPcUpU/x1Wv89ygeUTnqpH+lFwusTA2MSqC/n+3mY7W80GlhfX0e3201kqKcXaaFQQL1ex7Fjx5RBSEoJx3EUqc3n8ygWi/jVr36Fa9euYXl5OXEMGguUuKvb7aLb7WJlZQXXrl3D5cuXcfXqVdy5cwfz8/M4d+4cLl68iOnpaRUmMKlcln4PEUmmPuYl6kzDgmlFJHk49KIs0uaY6CV3DKg6SGqFmECq2GNrvLJiI5E7My3SuVnMMWPE1zygWs8i+R1TbxEfN2I+ESkzTcByDbh5C8WyBRkUYkIfYdADet0Q7ZaHzY0mtrfa6HYHaDW6aGx30Wz00GoO0W576PUGGPSHGPQ9eJ7EaBBi2PUR+EAYUs3qiKgZIlLLhSBDAhlFx89aESvq8RqQMk5e5oexS3zkxu4HQ0AE42RfZhTGbdsiJsMuypU8yuU8CkUndu/Ow3EN5PI2CgUXxZKLQtFBoRAlM3NcG47jwjSjhGJOXsByDFi2AduxYdsWbDtS8YWAypatrmDciYJKKIn4BEClxsixmzJ8EzET6ZyKxlMqJKQMEARDSOnBMALYtgUhxu8bIXwYBh0/Oaok+0kH2kF2pWp+fH3G32urjb3RH+s5HFORAYyV30mGhqR3gZQh/MCHIQyYZOwR8fWW5C3CSUbyXU0J83QFDkjOUfbihq2rWZMwyY32fusf5rsw7fhp3l/3mzMd1Lvxs0AnnsDe53O7nU/afOBB9k3zOAqr48SXE2OaS9EckoQSPsciz0rXdTE7O4vjx4+jXq+rOaR+H9B4nnQNJ537YUIXvwzDgOu6WFhYwOrqKm7evJlYjwgzld1stVooFos78vVwD77Pkwp/FHBkiDK5wdL/ABLlZShGERiTKX5DBEGwQ2Hj35ELNG178+ZNfPjhh/jkk08wNTWFM2fO4JVXXsH09PSOVPekZPHl1FYamMvLy3jjjTcUqeTKJNVi5aSFvl9ZWcFrr72GxcVFPP3004m28xckfzly5ZP6gcfy6hYnKaVqA+9fHbw/yUV6NBopIwM/XqfTQafTAQDcvXsXr7/+Ov7lX/4F6+vrqjauni2ak+FcLqcemlwxJmXX8zyVFIwUeiKDRGAozpn2PRgMVOKD//u//4MQAl//+tfxve99D3/7t3+LfD6fWB+AGnd6lm4ygJDrNSfuvJ8e1QMpTcmml0oul0uo9XR+NO515Z4rpp8VPNv58vIy7t27l0h8RWPAdV3UajVMT0+jVqslyoPxsfvqq6/iqaeewpkzZ/DjH/8YP/nJT5S7Fu2TZz3nngDdbhedTge3bt3CL37xC5TLZbz88sv4+7//e7z44otYXFxMjGEew0zgCUNc14XruipOmV72juPAME2EEugNBuj1+hHZIX4jx8qyKSIdTsowJlFpXjOxgsjIh2qSZFPgPbzrDcOMFGTBnWpDwABMg5Sx2PUXAEQIwxDROjEdF6YBYYqxF7EEckXALRiozbg49eQspJyNvgokQh/o94FmM8DWhofllRWsLK9heXkVje0+Nlf7+PR2C/2OhD8y2HgMANOMa/qaMSnwEQQ+DFPANA1IGUAiMgAkvE2MSOGN4rQjQiEkc4mFQBhG5NMf+ui1PWxjBKCByP01jMitKZTKbxgClm0il3dRKpZQrU2hXquhXq+jWHFRmrIxNW2hNGWhWHZQrU5haqqIcsWB40Su9uRZGxH6yK2bXOE5p4numdiAFbthxynFxk64e/GuFZHNw4wJuJQevFEHgd8FMITj2ABkPIntQco+IEaApGSUGpFgAy4aw0lfBhlX5wpDMjZibCQQtJ/xOUJMnqCrUzhCk9h0xJ4EnCCL3ZIUSWW8CUIP/X4fjm3BMF2EMjb2CwOBDCBgwBQ09qMxwyfAYZhUjWjSTAZGdmREpJu3OYm0Kh1p7dcJZRoRSfNaelTXUTf6csM3b5eeDJUbjvl8Qz+XvSRR3c1TC9h7X0wywPNj8N9cjUw7jk6MdZFokmjD+5GHQU4Snvj2lMul2+2i1Wphe3sbjUYDzWYTrVYLvV4PvV5PJUaluSEdazgcIggC5HI5paR2Oh2cPn0aL7/8snoP+76fyMlCirTrujuu4W79yvvnUYOPU5qXA9E85sSJE1hZWUnMtbkg12g0sLy8jKWlJZw+fRrFYjGxLj0bDjMJ8OcVR4IoAzute/rNqMdZ8kkTJwdAUjHiGfOCIMDly5fxs5/9DJcuXcKdO3fQ6/VgmiZKpRJee+01vPzyy/j617+OxcVFReYoZoIesFJKtdwwDLRaLaysrODWrVsYDAaKpHAVls6Nbgx60fm+j1u3bqlsd9Rm/kJLi+sQQiRcUtvttjIWOI6TUEofBMPhEP1+Xx2Tk24hhHJ39jwP77//Pn79619je3sbg8EAAFSfAUh1sSbySS65dB60Hs9ancvl1EORHgb8upK6SNuSta3dbuPKlSuKYH/zm9/ExYsXEyWVLMtScco8qzphMBioRE5HEfSymdQ+mhzc78X+oOBGn3a7rWqGp6nftVoNU1NTOyYn/NoahoF6vY6vfe1rmJmZwYsvvoi33noLV69eVS7d/EXLrah8wmSaJgaDAa5fv47//M//RC6Xw/z8vHqB0G8yJuhZ93m70+OZQwACQeDDDzxIRjSVu23MdqJIYUmaIdvLBPWQ/c14Xwq4mjSW9XauqrkDs9+CL1PHDZn6HTN+yfYrBUgghREptwULsFyBUsXA9MIczpwvo9ddxHAQoNf20Vj30GsD/Q7Q7njodAbotLvo9XrodLrodLpot6NEU16/B0OYEKYVsy7EzudRWygGGhCQcc4tCBHFeHOXZRn1voQ5Xi7i7NYiUqTD4XjiaZgmEBgY+Db8gYFea4D1pU04ThumHcJ0A+RKHqycD8sO4Dg2XNeCk7OQzzkoFFwUSnmUS0UUiwW4eReuY8XrOCgUclHd6EIObs6CY5uR+q1cvOP+jgm+Ip/6GBBgkm1yOBimocqaAYDnjRCGAXzfQxD4kUt7GETH0wbK+J7U/qdDM1JuxEWpBbWTN4eNwbTH0qR3PPBwjHcPD9R4PaHaJERqsYz72zANGELAcS2Ycf6C0ciDYZhwHRuGiLLDB4GEEAZ7/4fwPF8ZKizLjm7B+FmpG/ITx9+lfTyMife9Pq+g37oQMWldWo/mHwf9rkwjEZT/hZMEeu/TudCciRtp6Tt+bmkGcR33O8dJ26Yt5/Mivl/9GHrf05xMT/7E59I8jwnvB3093jZ+D3qep5TiwWCgSG+v11M5ZqJneEepyTRnIiGE3u80v+PXKAgClQeE5tX0bm+327h27ZpSk+v1OoCkRwWdB+2flqdlyJ5E+vW5w6MAV+OpL1zXRb1ex6lTp7C6uoper5fgCzSnvXfvHubm5nYk0qV1MjX54ePIEGWuhk56mOiWokkPFf7A4KT55s2bePPNN/Hv//7vuHv3Llr/P3tv8iXHcd3/fiIzax57HoBuYp4oUQQJWtRkWj/Kz5bO87EtbzxsvPR/5I2Pj9f2zscL+6cnPz/ZsihSxCAKIEHMDTSA7q7urnnKId4i60ZHZVdjoDiAP/MeFrtQlZUZERkZcb93+N5mE9d1jYX28uXLPHz4kOFwyPe+9z1WVlYmLpzi8ZTFen19nbW1NXZ2dgx4tjcze4OyPcFiDbJDVeXcURQZS5ltCRVA0ul0TPmibrfL1tYWvu+TSqWYnZ1leXmZlZWVfR6zZxUh3JL22+32PM8wRgdBwM2bN7l69Sr9fn/fYg37gb/Wcbkvu22y2dnjZsJcrfG325L8vRxrewo3NzdNu6ampjh//vyYVVKYswUoJwF9r9czxo9JCsYXLUkLsC0ypp81UJaX1EU+yLAj+cLyu0ltlWiDY8eOsbCwwNmzZ5menubixYvcu3ePBw8esLm5SbvdHjOswN7GKRulcAf88pe/5Lvf/e6+XGTY87IcJHKupIIS/z4iDH3CcIjWAVp5I0+TFeJsEE0MrMdfJN4fOMrWsUkZB97KuIGfotAnUZadC6vZ+34SUI/i77V8rjSuC7k0ZItQIYfWObQGHSnCIQy6ikEnrvPcaoY0m12ajRbNVotGo0mj3mR3t0mz0abd7hIEIWEYEfgBw2H88v0g/jzQMYt3NMoVdhRx3LuHHnmVtemDHoFrC1gYhuu98GMdOUS4BNohDB2GQ0UnCtDaR+sOEUO0GqC8PriD+P0IbCpXkc2MgHApT7VSpFwukstnYvbtTIpsLk2+kKNcLFAo5SkU0uTzDumMSyo1WrNchesqUp5riMc8z8NNeXiei+vF4buOY3VDbCwjUOUqj0wmRzqVxXP7sUdyNJYSwi7DInN4fDaNSmGJkcfYUBKeZkfQ+vhxZrIYsPz0NdL2lL14okbPhhiODhIZywhNFHuOI0kzElDsgHaJIkUQCEGfHYIdpyKE7K1J8X7ojIDyXtSTAMTn6kkCXNvr3pNA2SQglnRa2OvwZ62oC0C09Svpiz1u9vFP8o5P8sLK+0/Stuf5/KDj7OPt9/Y+b++9yX5M+q19H+UleqVN/Gm/t3VMAcTtdptOJzZySiWKdrv9xHYk22PrhlKpRIB1FEWmROSDBw+YmZmhXC4brhFbkvrjfoP2wXP2SWP1WYmNYezxEgfX1NQUR44codlsmohNaZfneQYonzhxglKpNGYQsIH+i7mWfnnlhQPKk2TSYpC0giUX9iQ47ff7/PM//zP/8i//wrVr18y5er2emajNZpOf/exnfPTRRyil+P3f/32OHDliQkMEuNrWpyAI+OCDD7h+/bppj1IxQ7MAv0KhgFJxnnWj0TChqdLuarVKJpMxC5O9WMi4+L5vwlquXbvGxx9/zP3799nY2GBzc5P19XWiKC6z8+qrr/LWW2/xox/9iOnpafL5/HPfD1kck/dAREJSoyiiVquxsbExtmnZXnTAWLpkAbZBseSnOE5c21iO6/V6+L4/5tm2F3sb5Egeqeu6hkhKpN1uc+3aNW7dukW73aZYLJqwtUKhQKlUGgv5ti2S7Xabbrf7woFkub60NakA2M+C7YH9rERrze7uLtvb22NAWWpnAywsLDAzMzNmjLDzgMUwIs9vPp9nZWWFv/iLv+D3fu/3+Pjjj3n33Xd5//33uXr1qvEw2yyZYvSSa/i+PxbpIM+e7T3IZrMTDW2AIRcZHztNzFod58X6QR+ND6OySHuln6wCMqagrzP6VAJsLfSRdOxieXz1kzY/+3M3cYZnkGiCa1LarJIt0mgngmjUR61HxMwjj7nSOEqNUnXj0lFexiVdcClOj+pL+y5RWCTSeXQ0RxhqAj+i34vo9yOGA82jRzUeP6rRbLbZrtXZ2txhe7tOo96m3eoxHEaEGrTjoHQKHXkEYUAUOTHxFo4BdI4auUJV7C3VOp5jruOS9lJEkTYhrjoIR8AkLoElJGsOWTQpIj+D9kNwYq8sShMpTbcX0atrtt0B604fx62hHI3rxOzaOOCMxsZLuaQzKXLZDIVigWKpQKlYIpdPUSh4zMxnKZZS5HIupXKZUqlEqVykUEiTy3mkM3E5KHF0RhqiiJjRmzT5TIVctkW/FzOGaxSucnFSDmkvh+ukiEJNMAywZcyw68b3zwDmKCKMwtFYyroeg8MoSq6Lo/ltPPyT5+1BRvEXU2Ljy+RHMB6HuNRbHHYte5iONF4qbcYjm/XwhxG9boDnpfE8B88FP4jzmdNpB891cR2HIAwBRRTFJGyO45JKPR/XyMTWWuvjpHXP1p/kmCT4tcOX5Rw2L8VnLQLyYNw4LkbNZL+SQFo+F7F1C9FNnrdu7ySQmPTePu23tm5j/5Xzik4o53xaG209yXa4CIlWr9czQLfT6dDr9Wi32yblTDzHvV7PAOikDi4eZ9uTb38/aTxsUG57hO1IwSAI2N3dZWdnh1arxWAwMOU8YS9aTq6ZzWbH+m1HQdj34KB/f5Ei93JqaooTJ05w9+5darXa2PeO4xigvLW1RbVaZWpqyoylbdD/Sj5deaGA8qTkdBH7YZ9ksTzooXRdl3q9zp07d7h8+TI3btxgMBiY62WzWUMUFkURvV6PR48e8W//9m9kMhnm5+dN+2yPsOS17u7u8utf/5rbt2+bfE0hgdJaMzc3x/e//32q1SqdTod3332Xx48f4/s++Xyec+fO8cd//MccPXrUPAySD3njxg3W19d58OABjUaDra0tHj58aADJ1tYW/X6ffr9PvV4nCAK2t7fp9/t4nsfy8jKvvfYahUJhn4XyIMubvJc842TIlW2ZlRzZl156iePHj3P9+vUxhm/pTzKkXBY124t49uxZzp8/z/LyMp7nmYVZFmFZSKW/3W6XRqNhgGyj0TDh3EkPo1KKTqfD5uYm9+/f5/Dhw6berniUJ3n/5XdJ4D1p3D6PBeqgOZ5KpSayNgNmQ5xkTbXnwScF/zYgl3k5aawcx2F+fp6ZmRljYJJ5JmOeZB4XyeVyLC4ukslkmJmZ4etf/zp37tzhxo0b3Lx5k7W1NXZ3d+l2u2OKBsSGkOPHj1Mul8d4CmRsJhnfbJE5Ym+uowEDNEEwxA8GaB1gaiJbecDiMdZag3JGHl+bRdcKl1Tj/9z7/nllwn184mnU/gP2ObptL3QMEJVp9l5/1ShJNyKKCc5Gv3E9NybX8sBLjwCUGoVEaxetU4TD2NMWBDA167F6pMRgMKTbjfPAu50e3faQTtun09F0OwHdzoDBIKLfDWg2evR6PoO+T6/XH3EsDAgCi88hbiU4GuWm4lcYA6B4WjijcGJFTMAlZaxir6nrZC2jxuhsWiII4pD1iIhIxfWYfTEmjL7TWqOcCMfx8TxNOh2RTg/IZjqk0pDORORLmnQ2xPVC0qkUmUyaTDYTk40V0iN27gy5bAYv7ZHL5sjn4xrS2zs7bD/26TRc/H4OR+VwiUh5ikw6Qz6zSMqZwnWyuI43ft9V7D3VEYQRcf8tQ4lj5q0e/RcnLCst93lkGFLOaEaNjEYT9p7k8/SiKKwHyn7rlfVhNHbAHlhQaK1QuGjtEIXx+EahQmmFDhwiHT89Dg7a0USR5H3H1cijSBMEURxR4MZeaMltTzoWnjZ+k7yV9rgn106llFmfbe4O+5hkXvDnYfiw07XsyCV7L5L22/2UNsq/k95Z+fxJpUrtY5PvJ83hg449aL+1+6K1Njpl0jOaBL22rmSTaYnOdVBYtE2uJb+R9/Z5k9wudn+01gak2R5eG+gn+wbsM0aIVzV5fgHrNvu1rePJmNi6qhjOJ+k9kwwpyb59VpKck8nnSkjMZmdnqdVqJu1PsIfv+7TbbR4+fMjMzAzT09MTy+a+0Gvpl1BeCKAsE0YWKPvGA2MLQzJRfdLESCr/tVqN999/n5s3b47VaBVQaodtiFf3F7/4BZVKhddee43FxUUqlcrYgy+hIRsbG3z88cesr6+PJdbLBC8Wi7z11lu89NJLdDodXNflzp07DIdDpqamuHDhAj/84Q+Zn59nMBhQr9fpdrvs7Oxw8eJFPvjgAz766CN2d3fZ2tpifX3dKO69Xs8QDcnGGQQB9+7do1qtcubMGY4ePcrS0tK+MXoaMBI6/6RVTs4jQDmVSnH27FkuXLjA9va2CXW2F0UZF8lhEoAtNZSLxSKvv/46f/VXf8XKyorJxZDNUBb3fr9vgLHkhe/s7BhDyIMHD9jY2DBttF/ikd/c3GRmZoZisWgWJhlPaZsdGiMhR3ZuWHJufl4L7CQlRObwQXlVdu7WpHMkFddP0i7AGI12d3f3AWXZ8O1STdI2OYe94SWt6BBHMCwtLXHo0CFeffVVdnd3+fDDD7ly5QoXL17k9u3bPH782BDQDYdDY8T51re+xfLystnQ7fko1zmo/6lUimw2axldAPaAQRD6BP5glKNssV+NKhiPI05BwXr0bh8qjr24n7au+bzne+JUsIEVex7zse9GSpIO0ToEFeGOwCkKlOsSe7690SuuHe24Lt6ILCpfzDEfjQwUajRqWhH6MBxAuw3Npk+z3qLbGdBq9qjV6rRbPTrtPs1mi1arRbvdod8bMhjGSmDgR4ShJgpjUKKjgDCEIIAojK8R10/24g5GikjpUbS5CyrNXp3j0b1SezWRlQGMkQGTkd4DyUSaKIyINPgo+oBSMRu1cgKUM0S5XbTqEek+OhyBMAeymRS5XIZ8sUCpmKdYzJPOpqmUi0xVy+SLebq9Ng8fNOn0fMLIJZ3yYsbutEeaAsN2gdauSy6rQUejcO8YhEk0ddzM0RxVccSAM3pGhZkcUZIBpcVIYo2BSWK3Zkfimf7SgGRL9j+xApLHkbSjnJE9TAEuUagY9iMa9Raddp9+fwjaIZfLMDVVJF9Mkc44JjrAcWLCL02EjiJzX4CRB3+y5/Kp7bfuQTJnedLamwSdBxlZn7cdv41IuyX9LdmWZB6s6JeT5p+AQZuAUsDbJDAl7+1zJQ3zyWMOOn7SZ/bvbZBp358kKLZfkjIn+cOSIyz6k3iKpTzTk4wbSaOCnR6ZNGjbe3iyvfb42DnTEq0luqacJ+mQ6Xa7xqNsg8vk/RF8YOtpB81HW8dLfvZZi32NZOh4KpWiWq2ysLDA5uamqfohc1XG6vHjxywvL3P06NGJ+taXZT39ssgLAZRhLzT3IKuc/WDai6NM9qSSLf8W4Pgf//Ef7O7umpAOiJX7drttCJ0kxBownuJ//Md/5Mc//jHT09P7mJx3dna4efOmKYkjABowRFSFQoGVlRXOnTtHKpVienqaTqdj8hFmZ2eZn58niiIePnzIf/3Xf/Hee+/xm9/8ho2NDUOSIAuc1nqsrq8shhKqmsvl2N3dpdfrsbGxQavVMmRFzyO2cQLYt3iJxU4pxSuvvMJwOKTRaHDx4kXu3Lkzdr9kvJVSlEolE0IShqHx+J0/f5433njDLJzT09PG+yeWNFn0ZfxlTAaDATdv3uSnP/0pf//3f28Audxjm9DDdV0T6iuLtl1fF8bJ4Gz270wmY3LDfltP7CcR+x7Ie7HCJkur2VZWAcqTlIpPo+0CxpvNJq1Wa+J5HScm8yqVSmZ8bbZraY8cO8miLxu053mUy2XOnz/PmTNn+OEPf8ja2ho3btzgo48+Ym1tjc3NTRYWFnj11Vf58Y9/zOrqqilJJYoDMDFs3RYBynvrzOj+AygI/BDfj0Mk2fOjxaqzjlBqUr7eaPwRYBXnL0/WV/a5dp9frJ+PX2M0Vxxb8T7gWtpqy4ihNz5f7GlVCpQJVY5Bl+MChECIGjFNx8O8Vy86rpoVe1wVxLmvrkIHEeGI0Rodh/Iq5aLSilwa0gWozHmEfpkwjAiDiOFgYQSEI3w/xB+GDAYRvd6QTrtPo9miUW/TanbpdPrsbDfY3q7T6wZ0uwM67VFJq2FEGMSeQKU8lOviuR5EKcKgB5GL0nsh7rHnVRkTSDwme2U6XNcd2U7iz9Eu6BhMSd6wUi6KCKUD0FmU8nFUgCAkHWnCHnT60G3CjhrgOIMRq/YGruOQL+QIo4BmY5cwClFOnDvteg6e55LL+jS3H9LcSXH05CKzC0VyRY9KqUixmCFfiO9ZTNg1mo/RaD6IM1lJH6MRGI4pr52REcQOpIiNHPHrIEDwNIX2RRSZ79JZbTotPATCYq/QUcxkHgbQbPT4f3/6PlcuX+fO7QekUjmOHT3K7771bc59bZalw0UUMVAOQ7uEYTyG8X4c7Fsfnxcky76RVNJl3bYBphCOynop+6ddW15++0m4UD6piNdQ3tvgTdoySZ+0dUbZs5rNJo1GA8DU8C2Xy8aYbo/dpJDoJNiCvQhIO9XMrngi15coOBuwJ182CZb9ue35TQJyua54je3+iyS9v9J2STVKeqxtwGy/l/S4SZVXbHAs80ZIaIXrRmtNv9+nVquN6ddyr5rNJg8ePODatWscPnzYlHEV3VLOP84Cz9icTvbdvleTvvs8xMYpMi/kmVtYWGBjY4P19fUxLCPjvr29zfb29lh0rP0sfiWfrrwwQDn5gInYk+igSZC0bMqDFgQBzWaTe/fucenSJRMWKh5YGwzKewGBQRCwtrbGT37yE06cOMHCwgLT09NjgFzqDDcaDWPJstu4uLjIyZMnmZ6eplQqkcvlOHfunGmD1PVtt9tcuXKFX/3qV/ziF7/g448/5sGDB6Ysks3ILB5Pu6+SDyWAOZVKUalUmJ+fNyHOMj6TFoRJC70sjpO+k0VJxmlmZoazZ8/y3e9+l+3tbdbW1sY80Y7jUCqVmJ+f59y5c+Tzee7du0cqlWJ+fp7XX3+dN998k3K5bBb1XC5nAKyEustCYM8ZiPOpP/zwQ3Z3d/fNG2lDJpOhUqkwNzc35iHMZDKGmEzy1W2Pp1huJfQnGc7zpHH9PEQWVnuhtNsiERKTwqGftIk8jwRBYKy+dl67nFM2xEqlQj6fHwuXOwikTgqht3PgJGR+amqKhYUF5ufnWV1d5cyZM9RqNer1OqVSidXVVU6cOGE2VrmWjJdEsBzEHG6HXo97X0DhEAQR/jBEa2eUdzxSljXs+Z/kvI71UonvwNRa3vtg/PvnkmfZLLX1dxJQTr6XYxwLKAjYH//NHtFUDIqjyBd0gVIWkLD76MQ/UkqjPB1zdJlvNYrQgHClFJ4GnRXyLhdFBjE46EgThXG9ZX8Y0h8E9Lp9up0+3c6Aft+n045rcA/6If2+T6/r0+sG9HoR/R4M+gHDgc9gGBAMNcO+pt3wGQ4iwgD84RA/8AlGBlQzX9lj6I690/F75aiRU90Z9ROERE3rkCiU+Z4G5YGWc47A2Mh7LfngAtBjQrmAdnaI1hH9nocmfq4GqRGgVyGe26fXqdHcDbl9a51COUU2ryiVChSLWQpFl3whS6GYo1jMUyoVKZYK5HJpMhmHVAozJZVyRiWvRkYjK0850nF+vuOCcgUr760zSWOe/O7LA5aTz8348xNFmsAPcB0PhzW8qAAAIABJREFUpRzCANbubvDry7d45xdXuf7hGhuP62TTJTrNNKF/kf7gGF8PD7GwNE0qFe97YRCCp0ilHDQxG/Zw6JPJpEcGuP3M5U+SSR5g2Mv1tAGQGORlXW+32/i+Ty6Xo1qtUi6X95XIfBLPzKcpk4C56Ee2x7Pb7RpDukSFiV4i+o2UMtrZ2UHruFxPuVymUqlQKpXMeE0CyUmwnASsNlCe5OyxCVptMC3ttF/29cSjLCDa3icnecGT+kASGCf3YpsrJDnONrCzPxPOGilXKVVX5JXNZk0pTgHiAp4hdkxduXKFer3OcDg0eq5UdJGyk51Oh+PHj7OwsGCMkMkxt41BT9N3bUPK57n+TIrUsO/DzMwMc3NzZDKZMUeH9Knb7bK9vc3jx4+Zm5t7pvKvX8knlxcCKMtDIxapZ/EoP0lkoZec3bW1NW7dumUs/KI0i+Isi5N452TSbW9vU6vVeP311zly5Ajf/OY3jUcqiiI2Nja4evWqKe0kZELyEBw9epRXXnmFSqVi+iVgWxac7e1trl+/zj//8z/zk5/8xIRlJ0GPHSIunm35PJVKjYXTzMzMsLq6yssvv8zU1NS+kKCDNkz737Y32f5MNkMJ9w2CgGw2y/LyMm+88Qa/+tWvzD217+vMzAxnzpzhj/7oj1heXubq1asUCgVWV1e5cOEClUrF5HYDYxZDyecW8jDxokvZqHq9zjvvvMOlS5fMte3+2OEsS0tLY6QP6XSaQqFAPp+n2WwShqFZpGWuyQKdy+VMGYMvUux7KPfioHssBhSZL8n7/2koqEEQ0OnEoENIs+xzplIpisUilUrFWJAneZLld7ZFXGttPAdCGGJHM0AMeqenp5menubMmTNjSopScQ63KBcyZkKKIs+TrSDaG45Em9hWbm1YlRXBUOP7GiInBieIZ1HAsmsA4hhQ1gZxWCOp2QtZVeaj55c95f3ZpuoB3uR9TNhq7yjBttJM+zp6D9jFnnVNpGOXpDOqJb1X4gnjjbUxs3JUTFhlf69lDscH69H7iJFBznX2hlPHXlgvgkzOoUgGrbNWHeCYEMt1YywbhuD7MOhDr6fptDSNRpt6oxmHy7b6tJt9drZadNsD+v2AbqdLp9ul22W09o7CZJWDM7rvsVc7iDsmjNyjvisd1+LWURz2HedBK9DeKK/VI/ZMx571eI7G5bicEUmY4zgEBBAN0UFcj9chhR6Fe8d538FIoQ7pd5vs1rr4uol2+jheFLNyZ9PkC1mqU2VmZ6dYXJpj+dACy8tzTE/HtaLzhbi2tZeKCcm8lDPKPRfQP9qnNXG4eXpkEpqgZdgelC8iOue5xTTLBsWTgHJ8HwcDn2zGwXNcogBuXH/Av/8/7/HhtTV2t/tEfh7tlqhtDPjZ5kVC2ijHJ1fIMDVVwHUdBsMQlEMqNcr51pogCEmnE8vGs3bhANAg+6ysiUops6Y/fPiQzc1Ntre36fV6VCoVDh8+zJEjR8bSWGSd/jzun+wPdtSYzCXxVg4GA2q1Gjs7OyYlyCakkn1RShpKWUPP88jn8xSLRePISHqJk97bSXrZpGOSr6dFBkwaS5sHxwbmyUg3aUMqlTLEsrbXWsYMxis7SFlFGd+kXm4bt+Qa6XSafD5vjNfFYpFSqUSxWDSvQqFAoVAwYFnmjrT/4cOH1Go142UXA7aE10uEpOjw2WyWarVKOp0ey7W2DQeiMybHMtmHz3vNSTpxbD1G2lOpVJidnaVUKhn+HdFRIN5vdnd3uX//vhnjF3r9/JLLCwGUYXK90mRYgp0TAeMWM3vS2aEKUk5GHmil1Jgyb28OpVLJJMsDxkN8+fJllpeXefnll8nlcubBvHfvHleuXKHZbJo2CsjyfZ/l5WXOnDnD9PQ0mUzGtEkWJt/3uX79On/3d3/H+++/z/379/F934B1WXjtMjj2wi1/RZn3PI9CocD58+d5++23+da3vmUYnZ9XZCEWsUF7styQvVhLqK9tlRar4Pb2tinRdPz4cSAGxDLu/X6fXC43Bvxsz589T8IwpN/v89///d/80z/9E++88w6PHz82G4PWmk6nA8Te6ZdffpmjR4+acZX5IMcXi0UymYyZG/ZcC8OQTqdDtVp97nH8rEWUAztHedzzqU1/5ftPG+gHQUC73WYwGOyLQoC9cLZCoWDmqf2MSpvt0moyf6SPMF7yw45YsNcNSU8QFnRpn+M4Y6HzzzoGkk+/t7mKxzIGfIGvCIYKHXkQpkBFaEehdITSElKrRmHGEpapxnVtAYdjucxyQLR3wKScZiPjyrp8pp6a82x5tm1g/ARPdhjE5FZKPFCjblkrd9yaEZs0KFwvYyn3jumrON7jv3vAPr6/cai2ciyLO6JYOMbO4BATUEVBPFb2PhDvcJaXO74MrsE3GjyF64GThlQOcmVFZQbmgzy+nybwq3FItx/iDwNCXxMGEcEwZDAI6fUiOu0urVZcC7rd7tLt9BkMhnQ6fTqtPv1+QK87oNvp0+sNGQwCAl/HBhUnZjn20mkUKXSQgijO33YchRohTa1B65HnKQjxxcvgOqTk+UeRcj1jXFBK4bkRkRei0biug47iuah0EaU1YaToDxV+Fzr1AVvrm9y6vk02e5NM1iWdhlIpy/RMiXKlwPRshfn5aebmp5ieLlMqZ8lmnZiR2XFiOjSlCYYhuAEptado28Dqy6XUWQ+siqxw6+Rzp3Adh1zOxR2Rmnku+IOQZiOAKI9LijDycHSFcKhp9zp8cOVjtFPHTQ84feY4S0uLOCrOkw9HZHOu45poqNhw8rS27rVp7NuEMTCpc0FMoLS+vs57771HrVYz3CDlctnwvKyurlKtVj93w7Gs+bBn0Jf5FEURW1tbPHjwgI8//pitrS1ardYYUEyC3zAMTeSdrPOS4ztp3zzosyeNwyRP+5OOn3RPYM9zLvv+2FrHuFNJ673UPPtcYjy2/y2/Fz1P9mHZRyUFKZfLkc/njXMhk8kYI7g4bUSvkjBr+5XMc5YxEBIrIeWUYySyUIwDm5ubXLt2jSiKOHHiBPPz89TrdR49esTDhw9NiVSJqJR2ibc7yYou4/Wk+/Rpy0Hrnv15Op02Rilbp5b5GUWRCUk/fPgw1WrVjO3nmQLxP0VeKKB80OIwyRonn0+ywsn3w+GQ9fV1arXavgT/KIool8ucO3fO5Cc/ePDATEj7Ib59+zYXL17kww8/5Pjx4+RyOR4/fsza2hqPHz82ANkOj85ms7z00kucOHGCQqGwVy5C74Xp3Lhxg3feeYf/+q//Ymtry3iSgTHLpPxOvIdS0khCoCqVClNTU+bvyZMn+drXvmYYu+U8zyO2x11+KwuWvTnZeUASAmxfU0LS+/0+jx49otVqkU6nOXLkyMSwd/FUi0XT9phKO3zfZ2dnhw8++ID//b//Nz/96U/H8jVskOh5HtVqlW9/+9u8/PLLhq1cziVGCztv2fZqioW61+vt87DLXPq8Fb7kc3JQbj/sKQKTQq8/LbFLedkGBhlHmbMyPyZZcycpbMkN7aDfiSSNZbbHAcY3weS8Puge2tb2+CXXArQiDHQMeKIRe/OINdkATz3yHsKeFzkpghZjt9yEVtge34TH2byfDJT3fjbpvNIZCyw/iygVg9Qn/kLuj0NMdiXPVfxtpNWE34oXPD7ebqIZUxVf1QyZMxpnR8XeXNNEtXe47Bcq/qUSW8WIf82EDxObMTyD3EGTQun0fofiyDMdBOAPFb3egF63T7vTodvp0esOGAyG9HtDer0hw75Przuk2x3Q7Q7p93z6fY0/jHOp/SAiChwC36HbjvAHijBQhGFcP9oPAgJ/FBURhtgkUspxUe6oDrwZJgexMjgqHqe9ur0Kh3xsoAjjkN5IRfgqZi3vqAjUEPDRxLWks/kUlUqBQjFDpZJnarrM1HSJarVIuZKjXM5SKmcplQrkClky+TS5Upps3o1NQymQdP0YpI8MR9aUV7YBad/keNJzcZA8y3x+3rU7CZAnP1cjM0U8R3xw3Qz5XBnX6aGUg+ukCPx4T3PIsfm4xm+uNEl5mkFfg84wP1cm5XlEYTxHUYpUyhsZS0Jc1xm75v52Jt/vKdmT9CZ732s2m2xsbHDv3j3DvyJ8KRCnlU1NTRkFHcYdF5+1JIG+tH04HLKxscHNmze5fv06nU5nYtmqpFdXjKrSf9HFkt7HZ2mTyNPGIfn908bvIE/kpO+f1K4kABZDu+g+AnJTqdS+8OlcLmfAsgBl+bcN1A4ywCTbKpLNZjl27JiJjNzd3TUpUfb5hHNHnDI7OzuG9Gpzc9OkNRYKBe7fvx+X1iuVzFwtl8smNPx57++nKUm9xf4rukuxWGRlZcVERNjOkDAM6Xa71Go1ms0mg8GAXC5nvv9yGSFffHlhgHJSMU7KQYuA/V3SA+37Po8ePaJerxtPogC6MAxZWlriT/7kT5ifn2dzc5O//du/ZTAYUCgUaLfbRsHe2Njg2rVr/OxnP6NYLHLkyBFTlqbX61EqlQwxWBjGBdTn5+c5fvw4R48eHQv/EKXc933++7//m5/+9KcmXzebzY7R9dv5FxJuUigUOHToEMeOHeNrX/sai4uLLCws8NJLL7G8vGyIweRhepI3eRLwSI6pLQIaZWzDMDQg1nVdE35jgyEZb9/3WV9f586dOzx8+JATJ04YQpB2u21yg5RSZqMS0CzWT3sTv3nzJv/wD//Au+++y8bGhllQhd0R9kJsFxYWePvttzl//jyZTGYs1Nbur/2ZAEwJebeJ3uxN9otYZGEcKNoe2OQiKWP2WYrcLzvywbZ8SrqDKCO+75uQLptkzv6NjK9tOBLlRX5nH28TYUi/xSBmj4cd7injYs+vpCQjXZQSeBh7P+PIiwAd6RESUwkdelRb+anTxAbJKvHXFhsoH6SoTzjnGMJPnlLtff8M4roK102uF1brBUQ7irj/cVNij6hVy1THhgd5YcY2wnEkjHM/q7CWkHLTtfg8bsqRA8baJeWLIq1H+c3xZaQ61d5Q6pFXW8o8jfqr3D2rgHbiY50YXKfSilReka+mgQxoK+rEngcS8m2FeHe6mlazQ7PRpl5v0W73aTeH1DbbtJoDup0hrWaTZrNFs9Wn2+kRDIbghLgpB085KMcBHRCFPYIoiMs66XjOxRENcZi7Gs1jrR2iyMV1smjtoUOIohHhmqNx3JiYS6kQrX209omiIb12xLDfY/Nxi0j7hFEMpB0Xstk0M7NTLC7OsbKywsLSHHOLUxw/tcjcfBEVAlnwUno0NxyZEmZczTNqT21bVPKDp81980MmP0f2988i0iglFpcDrh/naPu+JuW56Mil24N8vsyhw0vcv7eD4wSk0xl6nT5KuRRLVVrdHe7d2qS5UycYuGRTRarfPEk+VyTSEARxznc65TAc+mgd4Th2ffcnrRXjhrY4lH/caCjnkfSnRqNBrVaj0WgYUlKJbqvX66Y6h+3BsvOcP0uxDeu2Z1VIpR49esSdO3dMhZBCoWAqcQhAkv3EDj+Wc0vKTtIzN8momzTkJkGP3eZJQPpZvH/2756kByeBqV1b2o7IlCgp2zMskXypVIrZ2VkDKCUEPZvNjjkSnqSvJz328jepl9jRgblcjrNnz6JUHPHZarXo9/smqlPGSkqDhmFIo9Egk8mwsbFhPhN9TXTodDrN3Nwcq6urrK6ucvjwYWZnZ6lUKvscI5+n2PPHxiz2GGWzWVZWVrh3794+Y34UxdVghIiu2+2aVAH7/F/JpyMvFFBOEnolF3ABkZPAgK2gy3ny+Txnz57l+vXrXLx40eSnRFFEtVrl8OHDnDp1iqNHj7K9vc3Ro0dNnqX94KRSKXZ3d/nXf/1XTpw4wdzcHL/5zW948OABWmtzvEz6fD7P6uoqs7OzJlRK2ife1e3tbS5dusTVq1fH8m5lIXNdl+FwyPz8PCdOnODkyZMcOXKElZUVZmZmmJqaolwuGwufeOwk9FQWIRkf20OrVFwfuNlsmhJT1Wp1LDxGLIgitjdZwIq9iMmCtLS0xPz8PLVabSwnFGIP/89//nNDlDE7O0smkyGfz5t2yjgKeZe8oihiZ2eHy5cv88477/Duu+8aAi97TghLpyzQ3//+9/mzP/szDh06BOyF4cpCI0B8cXHRWO6kzXIfxBu+srJixsLOWf08ZJIl2R4fsQ6Lxd8OV+r3++ZeJI0Y9vmftS/JTUWuYSsYMkZi4bUZKW3G1EnXTCoP0rZJv0t6FJJ5jzJXJ7X7oCgWm1hF5qIoCvFzFIdBKuXSG3RotuvgRCP+pYh+f4DjOqRTo5Bt8ZI64mk6QJRivMbyQUq+7QGWusywV54qeezB/xz74LeYys8ydeQY1x2BDeuaynoP9rzYf2JDlIV4+K2T6PGfKEUMyFEGE4+VLhq7TExOBXFpH9ecbHRPRucCLIxkt2/CIIxAslzW0ZDKgJuDdElRnM4y63v4wwJBEOL7EYN+gO+HMXv3wGc4COj1fbodn25nSLvTo9ftM+gPGfphzNjd6rK906C+26RZb9Hr+wwGAVEQM5Tr0MGLPByVxiFLigoOGTQumiBG8VqPAFTcZ4UXzzJN7InXCkWEUiGOE4fG6yjC7yt2NqHbbPLo/h2yuXWy+TTVao5yJTcK2y4zM1thdrbK1HSF6lSBYgkyOUilicPrxXAxGkotg6eiPRvKCKCa7yaAVTV2sEQx6DiCYAycKBjlf2tj6Ynnlhhf5B7GpxDautE8sdeZUXs0EY6j8NKKMIgJ2rJ5lxOn51DqLK1mk6sfrPH44S44HkqlCQONFxVxtYPuOVy/XCfoXgY/z8tfP8ShwwWCfoDyIJ1N4bij+srREKUcHCW1WEdpITrCUZq4m3FuerxupYD9ZJS2iFGzXq+zublp1rx2uz2m49j6hQ02P4/9UPYY0QuCIDCOkEajwdbWFu1225T0tEOPxUgrfRWd0G67eCtFF7NzsW2jrFzfBoZJAJ18/yRv70H3xf7cvrYd0myHO9vRcZJWZkfOSZ6wkJjax4vuJ7qPnD8ZtWYbCJL33P73QfrGJOAMcaTC+fPnSafT3L17l8ePH4+dW+ajEPU6jmOi/WSv1zpO6crn87iuS7fbZW1tjXq9zvr6OmfPnuXcuXNjc+hZjRaflkyaH7ZTy/M8isWiMVwUCgUT2SFRllprUyZVai9/BZA/G3mhgbItorgmmQVh8uLjOA7ZbJbTp09z4cIFk6ss+cdHjx7ld37ndzhx4gQrKytUq1Vee+016vU6H374IbAHiBzHod1uc+3aNS5dukQul+PSpUs8evQIx3HGQnuUUpTLZRP6bCfoy0PZbDa5e/cut2/fNgQFycVEQlG+/vWv8/rrrxtAf/jwYfL5vGGctsdNNg17PG2R8j2tVov19XXW19dptVpks1kWFhY4efIky8vLlMtls6gm224vjPZ9cByHQqHAwsIChw4dMsRYAm5kQ7p69aqxZp45c4bl5WVj0cxkMmOgRuomNxoN6vU6a2tr/PznP+eXv/wlV69eNYDYtghK24rFIseOHeOtt97irbfeGiM1sz2KsuhMTU2NMYTD3sY/GAzY2dkxRGMHWZo/T5F22oB+Ul6vlPZIepUnhW89b8iOHG8DZbm2fW7JoZfPnrQhHXR9G/DK/Z6klBxkubff2wqRyCQOAPu6EjZucoUcUI4mCAf0B12Gfp8oKqCUExMZRRiAHJ+I8b+TeznhoIN+IKjQsY75hBv9M6HcT3bqyZdSTzzf+ByYPHBq72Ts/4JxwGzAjHwnYzf5t+OgfXS88WiOA/xnEuu2KGIfu6shBeRMLeksAg3jEPLR/NagI0UQKga9iF4viPOeR2C5P/Dptvu0ml3q9QaPHm1x99ZDtncatFpdgmFEEEQEoSb0+2TSHvlMBh0oIl8T+SFD3ycMAqIojFMIUDg4IzAoYfCaKFSgBEBr46yMwojeELqtCGiNhl7juZDJeBSKOWZmqszMVpibj//OzBaoTjuUKh6Fkkcm45IvZSlW8niei5dSuCkVs2ZbpanMPVfW3q/s51WCJkbM4nKjjK6gTN68Unsh0nF3tDm11pKFLP0fn5Na7wHp0W4okyW+5Y4mUgrlaFIpmJ8v4jkutdoptA7p97u0mwGBHwN1lyxKZ3F8l60HfbrNB5TyN1AhZNMreFlFxnPRUeyVdxxNhBWKaww6o75oTUREDJSDOEoCqV8+PnmTupTW2pBcOY7DcDjcFz0m7MW2HGT4/LTF3kPsNVucKZ1Oh16vZ6qFBEFgjPp2Go68kn0XECrXknPb15rkzLH3PXuvO8gonAxTto9P/pXz2+RaoqMJw7T8TQLlQqFgjrXZqe3jfht5Glh+kjE8OfcqlYqJ+FRKMRwODeN6MspMnEK2zmtfUyINgiCg0WgYXbJSqbC6ujrGhfNF6HBPGiOJhkyn00xPTzM1NWWAsswLme+1Wo3t7W2Tn/0VWP705YUAyk9bYCc9iPYDkgTYovSm02mOHz9ONpvl+PHjXL582eQUX7hwgVdffZWjR48az+kf/uEfsr29zcWLF42VLp1Om3q9AD/72c+4fv06ly5dYnd31yzGNoicmZnhu9/9LktLS2OlZyQ0eGNjgw8++IBms2n6YteRFnKJv/zLv+Ttt9/m5ZdfNsdISQYBJ4AJy5aHyx5XsfZ6nsfa2hqXLl3i2rVrXL58mWvXrtHtdo3V6m/+5m/4gz/4A1Pr2A6rSoaHSIF7CYGScZ+ZmeHo0aOsra2ZkC3JHwZ49OgRu7u7vPfee/ze7/0e3/3udzl69CgvvfQShw4dIpvNEkVxaYdHjx5x48YNrly5wgcffGDKZkmpB9irc2szOWqtOXToEH/9139tyk7lcjlDtCZzRcCPlOoSw4AtEmbe7/fNNfaH4n4+MslzKhZgMZQkN3aJVkhu8p9muyVH2Sbmsr36Simy2ew+du7n6TewT6FJfm8//2JEmvRKiqwl0mZRNgAzx0U5sRWmKJJQ79iyK2Fqwoxur0/PXsf8afflSSD6/9QN8hP060k/2YeEn+VcnwAgQwxa9oUNH3SeOCw20EPimtMKx3VxPIcUDqmsQ6GaZjpKE0UlolAThhD4cZ6850WsP9jivV9+zNraQ7a364SBxvdDer0h27VdquUZFuYOsbvVp9McMugGtNtx+Ry/P0CHEEQKT3s4rheHwDsjz50fgXIxNa2FvXtUD3ov+Zs4dH0Y0g8gGEC3UefhvV20E+CmItIZKJUzTM8WmJ0vU53Ks/LSAqfPHaNUylAspylVPLyMi3JGnpZwhHcd4tB3B9A+WodoZTOi74mjiMG9E0PJKIwIfNvA7IECx1MmrF7rOBxdDPOpEQkQBoQb1za2wUVbYDmKNK7njQwOcch9qZLlf/3gG5TLWQbDPh9/tMZurYejFY6bwyGLp7IMhg67W21+/v9dwh/2yWZznDs/SyWbIgxAuaO2qzi/PAgDiMBxRt5P5RDp+L6jfBwnGoEGhyiKGdMn6VOwV8HA3u9svhbRNUqlkokE+7zDV+11HvYilET/UUqZ6DwBl+JYsIm/bOZl0btEP5A9oNvt0u/3Tckiecn15NziyZQ9xiamtMGtradKNJ0cZxNhJQmx5BylUskQ0MrrSdewx8w2MNh7pq3b2ffzs76HdiSobeDPZrOsrq6a72/cuMHOzs7Y/RQwLdEEcg47ck7Atuh9AL1ej3q9Tq1WM1Fiz743fzEiJTA3Njbo9/v7COyazSY7Ozt0Oh0zP76ST1demBlykDKb9BrbD1SSOMpeQO1FVOqMzczMmBCiQ4cOGY+v5KyePn2a1157jffff5+1tTVzrA06JMd2e3vbPIjykArr9PLysqmfbHsvBWTJIijtFMVaFo0jR47wxhtv8Oabb3Ls2DFTBskGSrKgSN9tZmMpoySe0LW1Na5cucK1a9e4ffs2Ozs7bGxsGMIEiBeQf//3fzc50ALKBRQmPZX9ft/kUdte4FOnTvGd73yHDz/8kHv37o2VXJI+S57Te++9x/r6OtVqlWq1OsbQLSWZ6vU6GxsbbG5usru7O8ZEaYf32uRi3/zmN/n+97/Pt771LVZXVw1IljbaC64spKVSyXg9pZ9yrLRFPLOfV4iZLclnQsCb5IYLiLPzxWTjsInI5Hc2+PxtwLMYSoTYwy67ZIcwH1TL+XnHwH5O7PFIWmcnGTPseZzcpGUeCFjudDpsbm6ytbXFo0eP2NraGjNM2REcjUaDGzdu0O/3WVhYMPlPSWv5V5be/4FygPP6wMOVwnW92JOLzN09kK4UOCouDaVdSGnQ6biMsaPinOkg6qDcIV46RBNSymepTuWpVLOsHF7lzOnTpJRGhxF+P6LdGdBu9Wm12jFzd7NLo9GmUW/TqHfotHsQKlJeGh2FRJGDjly0jj2UDikU7gg8W+XQnBClYub1IIzwg5AwCojwUU5As9mjvttlc6NJvpDixsfr/PKdqxSLaUqVLFPTBarTJarTZSrVCuVykVKxQC7vkckqvDSgPFAOjqvHjA9SAiwwtaj3vPSumzbAmSSpnIq94coZ+V6VisPMBUGP3VhQVsSIsm62K/tS5AMOynHJ5GIwdPrsIVBv8pNsxG+u3GLr0TYeFVxXEemY0ToKHXa3u1z99R00IY32Kc69epgjJ2ZROGhCwnA4WlccHM/BdUagPIo953Gev8Zxwr32KoXj7F//RQaDgWGKFiOhrXeIjlOpVCgUCnvjnQA7n4eITiRGTdnHpQyRpFnZRKqifwmYtgGH9EF0QjGeuq47pkPYKTmLi4scPnyYhYWFMcOwDVrtlz02SXBrg147fcn2Loux+UlG4KSuLG2ydcfkX2AfiP6sRXRru4+iM+RyORYXF00f7t69y6NHj4zhJgmUYa9MmB2aLP0Ww4lUn0nmoUt4/iRnyRct09PTHDp0iFu3bpnoDthzEDabTTY3N6nVavvS3L6ST0effteAAAAgAElEQVReGKAM45asJ4Fl+d4mu0oqz/Jvz/NMWO/MzIxZzGxFWgDs4uIir7zyCt/5zndotVrU6/Wx3IcoiqjVaubhthVmUbTn5+dZXV1laWmJQqEwBpR93yeXy1EqlVhcXDR1Ze0ar6lUijNnzvD2229z+vRpqtXqWNisvRjbllx5gOwk/42NDW7fvs2VK1f4j//4D9bW1tjd3R0Dl9Kvfr/P+++/z/LyMn/6p39qrJ02CLYX4k6nQ7fb3XevVldXeeONN/jlL39Jq9Xizp07Y3ku0ocwDLlz5w63b98es3ZOAmy2tVMIvuxFTvpRqVQ4dOgQf/iHf8gPfvADTp8+bfpggzfbGiwbo5SHkuPsaw+HQ2NZthfmL0psoCyKi50vbhsDgiAwRBfyWxj30sq5PqkIWLeZJG3PcTI0+5P096D3k9YGO39u0nls77r03/YSiIHp+vXrPHz4kK2tLXZ2dkzYtcw/AcrNZtMAZanvLQrNZ02k9pX8nyYjoAwI6NJJjCbYTPCoF4O6MNQEoU+v3yTSPZQzROPjpTzy+Qy5fI7VI9O8/PXDLM5nyaZdwhD6PU23M6TZ6rK702S7VmdzY5uNR9tsbGxT320z6EMUphkOIgZ9Tb8XMhxoAh90FI610ZB1jYi3tdKjUmEQakUUKXTgEAQRg36PZrOH40EYDej12+RyHoVilkq1xOxsldm5aWbkNVNhaipHsZQiV3BIZz3SGZdU2iWV9vBSHp7njup7x3nJ0SgPGcD1HBzPWr/NGmKFcCtwlEa7KgbUTgSEWPHfGCZ7E9o9eq+s8nxRFKdh6Lh+uOspIuWwtDzF9HSJZrOGP2zTbTcIOn2078Vs8ApclWLoB6w/2KHTbRPqkCAKKZbTVGYypLPKtNtxNJ5j6UsRaGJAHC/DDloHpq2Tou/k3wKUm83mGPeHeF6FdFPInmyxCbY+a5F129aBbBAv9WeT/RQQZafy2fmydhSdrSuK/iJ6nOh7s7OznDp1ilOnTo0ZXSeB2Ul9sMf+IC9/8rMnHS+/se9rEkDbYp/rScd9FpI0+AuAlZreUidZ7tXu7q4hzLXvnw0MbSeKrQvJvczlcvuIyWC8ysyLZtCuVCosLCxQLpdNmTYbf3S7XeP8krn/ovXhyy4vDFB+mkfZ/nfSeml/JguYnc8oi5uddyvgQdj+5JrHjh3jRz/6EZcvX+bu3btEUUShUDAT0gZR8qACZgE+ceIEJ06cMA9qklBLa83MzAznz5/n9ddfN4zaQRCQy+VYWlriwoULfO9736NQKBgAbedbiLeq2+2a/opXutvtcuvWLS5dusQvfvELQzrm+z7dbteEQNvjLlbW7e1ttra2cF2XcrlMtVqdCJSjKKJerxsPrxwzHA7JZrOcOHGCP//zP0drzZ07d8bG/KDF3/bK2+OVNGwMBgNT2F7CfZVSzM7O8uabb/JXf/VXvPzyyxw+fJhcLje2GNoAUs4p/bKZH4UQS5QDCS2WECybhl/G8IsSsXbbQNluW9KjnGyrbCKfVMGRcDdhXBRmarm+nUvzSTfgpDKXBOJJsQ0rtiSVAjutQCzOWmuTD//RRx9Rq9XMWiHrh/RPyGDa7TYPHjwwtTfn5ubGSlDINew2fCX/c+TZ73nskdx7TMZZwQ1ZUxzPPTouzk91HAijGCiHuo9yA7xUgB8MGfgNglabIAxpd6cZ+HVCPQWpNG4qIp9SZAsOldkyh1aKBP4ivh8wHIQMewH9YcROrcfj9Ta79R7btSZbj3fZ3Kqzu9Om3ZS1MUKHcf4uetxzGXvHwXEVXiqNoxgxkceKceQHRNpDRUVC36XXcfAHAdubm3ykHhFGIV7KJZvNMDVVoTpVpDqVZ2GpysxciVIlx+zsNDMzU0xNFSkU3Njr7CkD1mVM9YhSJB4+JZnhCFh2HB2X6VbErOKE7GfdlhPIs61ROoqrwTFi93aImclxY2K2ICLlpYhznl3e/v03mJ0pE/RDbn24xc5mk6yXwktlcb08GadAGPVpNXpcev8mvWGXkIA3vn2cl47NkHYdIgJDbYY4DEbh1fGaHpl5I3PRiePRx3Qme38VMizb2ydrpPB5iIf1t40S+qQySVeUkOnZ2Vnm5+fNni1eYduhYusAtsPF87wxo2+32x3zPNuA2/b4JsmubLH3o6Tu+iSejEmGYNsYPWlM7H33WYCyPQcOAuCfpSTHQyL4RK8tlUocO3aMMAzZ2NgwxHJ2GL0tk/Z20X0ymQzz8/Mm6sven20+nhdNMpkMlUrF1JlutVpjvDRRFNFqtXjw4IEh003Ki9ivL5O8kEA5KUlPEOwp+Envon0u+98C5iS0MhnmIg9ptVrl7NmzvPHGG8arZG8Wci3bsysLVBAEHDt2jDNnzpgQVGmrgFHxXs3MzPC7v/u7FAoFPvzwQzqdDvl8ntOnT/O9732PpaWlfecAxhZkYbne2dnh0aNH3Lt3j9u3b5vX3bt32djYoNPpGMCStJLaVrfV1VWOHDliGPfEomcvwHIfpHzEzs4O09PTY2Ha2WyWs2fP8oMf/IDhcMiVK1cM8VnS82/fG7uftmXQvq4sfLJ5VatVXnrpJb797W/zzW9+k69//essLCzsCwuzLcZyXfs6kqecz+dNGI5thBHA2e/3qVQq++bn52VFT24EohzYtX7tjVlC8CXiYBIg/m0tyPZ1IR5L2cjszS+ppDzv+eV9UiZ5lScda68fk64h81fqE+7s7NDr9cx4y9glQ5/ECt5oNHj06JEhDEnmrX21WX0lTxc1Bj725s6eBzl+1gS7KcIoJBgGKOWSSisyWUVY7zAM2qQyLmEwZBCE6EjjeAOyeXBSGjUKV3YcjeOpuJBX5BHD2lxMSBdCqGFhyWdppUev59Np9Wg1OtTrPer1Hs3dIfVGi0ajRavRpdvp0+0OadTb9HsBpkSYFoAm/tkRi7RycJw0Kcch5aXj8Gw/pDcIR2TciggX5Si6LnQafbYeBWSybSrTTUqlDNm8R6lUoFQuUC7lKZVTcZ5zKU+xlKNYypPNpSkU0pRKGVwPHBccB5Sj0IZtXkM0WidiBzF6xGYdh1c7o/ugsQnABDXHpciIvclRBFrhek7suQ5DQq1QjoeXcqiWi5w5dYT/+49+l/8s/IZfv3+P7c0WURjiOkVclUWRR4cujd0+Nz6qEURX0EoTBJqV1SlSmTRKRYShAK2Ykd9xMDnZmgilXPZIycbXa1un6ff77O7uGqIk2NszJSJuZmbGpCmJXvRFSFJ/kfZMT0+zsLBg0mWGwyGZTIYgCEyusfRJIn/sMPNMJhOXOVtY4P79+2xsbLCzszOWw2wDlaT3+Gly0F6W3Ecn7VdPO39S732W34h8nt7UpKPL1smFO0bGVkhiT506ZXTYpHE/6Z0Pw5CVlRWmp6cBTNj16uoqCwsLpv638KrYEaYvmjhOTEy8vLxs0hBl3CSaMggCHj9+TLPZZDgcjhkB4MX0lH+Z5IUDyvJ+kiQXENviKR615HGwF4opeSey4NshtKLEZ7NZFhcX+d73vsf29ja3b98239uLoX1uu91Hjx7l5MmTZLPZMaAlwFS8lZlMhjfffJPjx4+zvr5OvV4nnU7zta99jenpaUOUIeeW/EjxJkvNwFqtxt27d3n33Xd59913ef/999nZ2RmrJayUGiMWstsj73O5HG+88QYXLlwwJFzVapVCoWCAj71ot9ttarUajx8/NgXpJTTJcRwWFhZ46623WFxc5B/+4R/QOiY8arfbZhO2rdnSLru2YZLgzA5jdV2X6elpTp8+zbe+9S3+9E//1IQ/SR5K0gtpA0z53L6WlFJotVpjv5G50e12Tbi5Pb8+L5BsX8/uj+S8CzCDcW+41BQMgsDMy09b7Lwquy6x3LtJzNvPKpO8x0mj2UGWevse2r9LghFpP0Cn02F7e9tEQGQyGeMRl3lo/0as31J/tNvtmuiKrwDyV/I8orXMUQHG9tyxDYx7X+kwYBgMyWWz5PIe5WqWjc0hQdihkC2gGULkk8p45AsOxVKaVDomuIpPpEcYMUIrHYdOKxWTRqVimJvOpajMjZiAIwURDIfQ62narYjt7TqbWzU2H2+xs92kvtPm7t0N6jtdosBl6Af4w4DBICAYhgR+RKQVEBOGOa5HOpUhly7Q6w0Y+EOCoY9SLp6bIuOJ0VgR9iJaHZ9d7bP5uI/jhCgnwnHB8xTptEe+mKFcyTE7O8Xc/BTz81OUq3lm5wosLeXJZB3SWUU66+Cl7BxfB0fFbNuuE4Np5DbIcCm1R5yu9V5ZZbkpOiIKI6IojP39ShuvdRhEuG6I4ymiEOZmZ/j9/2sG7bsMuhG/alyn1xkQhnEFBkUaR6cJhi6bjzps1W7ieWl05JBJp5meLZLJpdBhiBZvp+vGXmPNaM2N8FLiyU7OqVhc1zU1apvN5tgeDXtGwXw+z+zs7JgHbpJX8rMWWXNtL6/I1NQUi4uL3L9/n1arRa/XM8fZDg7RfaRv8p3neRw+fJhvfOMbpkRPEARjqVf5fJ5KpUKxWJwY+ivXkL9P02nt459keHjWY+zj7Eizp53n8zT6y/jDnn4tBGb2Pu26LtVqlVOnTtFsNk1p0+T57H4FQcChQ4c4deqU0aWFr0julx16b4fcv4iSyWRYXl7m3r17xkAk81kiO6Tueb/fHzMGfaV//PbywgDlp0kSJMtDJYAg6fG0834lNNlmt5Pf2Uy9UqMtiiJ+53d+h1qtxn/+53+yu7tLr9d7otWpWCyyuLjI6uoq8/PzY2Q+9sIlgN73ffL5PIcOHWJ2dtaAs9nZWbTWtNvtMdZDYdceDAa0223W19f51a9+xaVLl/jwww8Nm7SEpSSBggAqycGUfmazWY4cOcLrr7/Oj3/8Yy5cuGB+WywWmZubY3193XjW5FwSAnP79m3m5uaYmZkx5F4Snrq4uGhKWV28eNEA+fv37495uCX30w5nsu+jPY7pdJrl5WVOnTrFW2+9xauvvsrJkydNrTnYY6qW8ba9r0/ySMrmt7GxMQZG5TedTod2uz228XxRi5B9f4X5O5vNjpFmSb8kT7nb7Y6VwPo0+hBFcZ3k6elpk6Igz0o6nTb53a1Wy3iVf5t8aOnXJMOBzBGZNzKnbIt/0gNiv/d9n+FwyPb2Ntvb28b7oJQyHnm7puSkyIgkW6lt1HuRrdZfyYshSsVEUCJaqzi/d8SIHZf5gb1QYUBpshkPx4V8PsPq6jI7Oxv0+i00QzxPk81lmZ+fZ3Fplmw+jeOO6i6puGa0AhiVHorbIeceKdRhDP5G36IcBy+rKGQU2VIctn34SJZeb45BP2TQi2jUhzR2B+zuDHj8eJPHjzZ4/LhGfadJq9mh3xsSBEPC0CH0Xfxhl3arCTouQZVKpXCdNEqlQLv4Q00UasDBcXJk3Dx+0ItZwp2YNMx3NP2ept3usVPr8vBBnWz2PtmsSyrjkEpFuKmQfCFFqZwdhXAXqVSLVColKpUS5XKRcrlIoZgll0uRzrh4HnvjhNqLxNYCku27GKGI8FyItGbYG+C4KdLpHESKIND0OgE6cnAdRTbr8NqF0+TSBVJugVsf77L5eEC/D6Gv0ZGHlynj6BT+UPPri2u02x26nR7feO0kx08uky+4eG7Maq2EeVzF9Zb36k3HHybBkKxlAkBEhwCMcVP23nK5bICyeFcnOQ0+S7HDn2VttffpcrnM0tKSYU6WyDsplTQzM0Ov1+PevXv7UtEAs9ZnMhnOnTvH0tISJ0+e5MaNG2xtbRFFEUeOHOHYsWOsrKxQqVSMQVgkubc+aa+d5EG29zj7czvKcNI+ltyXJNrJ3v+Sus0XsSeJd95OtbPJ1wQIynFCnLa0tEStVjN6mH0u2NOLhD/EcRympqZMP+3ryb9fdGO2jNPc3Bxzc3MUi0Xj+JAKOUopQ37baDRM2mHyPC9yP19keWGB8pMWFPneDtuQhTMZIm2fS46RRd7eBGxSCK018/PznD17lu985zu89957rK2tjVkuk6RaMzMzfOMb32BpaWmfNzm5mcA4Q58wBgMGEIvIA99ut9na2mJtbY2bN29y48YNPvroI27dumWArO31tsPJ7QXFcRyKxSLz8/McOnSIxcVFTp8+zauvvsorr7zCzMyM+X2hUODIkSOsra2xtbW1b9ybzSa/+c1vOHnyJCsrK2PABDAEaq+88grVapXDhw9z/Phxbt26Ra1WY3d313jgBoPBWMizLJiZTMZ4eqemplhZWWF1dZXjx4/z6quvsrKyYtos8qRwsGQ4ij3OuVyOcrk8lt9u/7WBsg32Pu/FJ/kceJ5n8rbtXGC5T2LU6Ha7TE1N7VNsftv2y32WcLX19fWx0gyVSoX5+fkxVvHnkYNCtp/0b5mDkmohm65sLsm/ApL7/T7379+n0WiY8yQBtu2llrb5vk+xWGRmZsZ4GWwvxRfFlv6VfPnE7Ffyv5H3UtluZHPsXvBvFAXkchleemmFfr9DqZSn1+/jOg75Qp7Dhw6xunqYTCYGyhoXpZW5jpZgaAHI5nJRDETtXF6EdErjKkjnNHntUo6y6NAhDD2CgUuvG9FuDtjerrJdm2Nnp06z0aVV79Fo9Gk2u7SaPXpdn1azT3O3SxiMQHkUWfnDcUi4BohGLXFGparwRuOjYxbqcET0MwwZ9ALazgDHiUZjFRDpIemMSy6XolDMUixmKRSzFAp5iqU8pWKeYqlIvpAll/3/2XvT5jiO7O73l1XV+4odIAiuoiiRIrUvI83I9sw8Hl8/jusJR9wIO8Jfyh/Ar/3SDo8j5gmPPbYez/haj0dDURvFTdzBBQTQ6L27lrwvqk8iu9DgJops6PaJaHSju5bMqqzM8z/nf85JUyxmyeYyeKk4YVgqnSKd9kin4vdU2iWVcUmlHVxPkUq5ZNIOfhgShhrleCjtosPYW+06EZEb98FxFDqC2bkyJ145QL+nKRVv8fmZe9xebdGLXJQ7yEFBijCCrfs1LocbOJzH77lEQYoDB6collKk0nIv41vnuoo4f3oEA3r5qKVRjPO1Ws3kZEjqD/l8nnK5TKVSGfL6yZh9lnObDSiTIomgDh48SCqVolKpUK/XyefzzM3NMTU1xZ07d1hdXTUMNnGk2MxE0T2y2SyFQoF8Ps/W1hZRFDE/P8/c3JwJsdktB8iodie9uTa4tQ2+tow6rn2cpOHD/rwbON7Nq/ysPMqwrauNYnnZ7ZKEsHNzc8zPz3P79u0hJ4ocy5Z+v4/v+4btKOdNskNtI8e3NeJ/FyL3t1AoMDU1xezsLHfu3DHsVNhOkLu5ucn9+/eZnZ0dCk2Y6B3fTsYSKD/qTVVquF5r0nMk2Q1tQA2YhE0yQY6a5F3X5cCBA/zZn/0ZW1tbpmRCkuYjgG5ubo4333zTgLbkhGiDZpvimSw/IF4s8cbJa3V1lc8//5z//b//Nx999BEXLlwYmbxJQJwdPymAXCxTCwsLvP/++/zhH/4hJ0+eZGVlhdnZ2R3ljwqFAseOHePcuXNcuHBhRx+2trY4c+YMH3zwAcBQXIRtHaxUKpw6dYrXXnuNH//4x1y9epWzZ89y6dIlE0e9trZGrVYz7U+lUhSLRaanp1laWmJ5eZljx47xwQcfsLi4SKFQMH3u9XpDk4JMqqMoRyK2lxowFmS7RFVyrLVaLRqNhvEsPkvlQM5jG2jkXbJOFwoF6vX6joUviuJyR1Kw3jYs2QalJ5lQJX4mk8lw/PhxXnzxRRPbG4YhpVKJQ4cOcfr0aSqVyhPRm5L0qOR1H2WFB4bA76iX1EeXMAYpeXbv3j1ardYQG0HKUdhea3uBD4KAxcVFlpeXqVQqhv6f3HYiE3mYDA0TFXsI4zEfe1PjsS8AMiIMA/zABzTpTJr9+5fJ5tKsHFimVquZpDjLy0vkskUclUJHHpIQbPs1OA82tTs+h3I0Kg5iBkLj3dbirVTxSzmgPA9Hp8jkMhQrHnOLeQ5GeXS0jNYQ9KHTili/3+b27Q1u3bzL/ftb3L61xo2rd2g0urQbfTrNLlEUgA5wyKBUXHoqCuJyWGEQA0FPOTFIVo65TnrQbq01mjCmJg++c1SWoKOpdyK21rvoqBVnp0bjOOC6Dl4qRcrzcD2XamWWUinO8lws5k0sdKmcp1zOUyxnKJbSFIopsjlFsewwM6NotLr4QcjUbA4daPywh5dyUZ7C9eJrrMOIfkfhuDA9l+fDD0/g6irNrTzN5jUcwFUVgjAiiFKklAuRQ31jizMfXyMKXKLQQ4Uvs/9gmeqME8cnK8AF15O1LBpcj+3EXvZcqrWm0WgY6uYo4FcsFg3d2J5zn6cSbq+D8lmM/AcPHqRcLrOwsECtVqNUKrG0tGTo1GfPnjWGZZvNZjtURD+bmppibm5uKNeNGFntsp+PErM96vfH1SV2A8ZJeVid4FHe7Gdh0LUBst13e421HSYyRiX+PJPJDI1Tmz4v+3U6HTqdzhAWsMtC2f2048/HDVTKffE8j2q1ysLCAuvr64a5Z+tzGxsb3Llzh6NHjxr24MPA8vN+hveCjCVQFrEn8VETiQ3aRj1otpfYtiLBNiU3CaJF8Y+iiKmpKT744AO++OILrl+/zvnz59F6O/Bfzi3xK61WywBwG3xIZmiJkxZPm2QKtsGuxBYEQcCtW7f44osv+OSTTzh37hzXr1/n/v37rK+vD10DAUvywCSpt8VikYWFBU6fPs3p06c5fvw4hw4dYmlpiXK5TCaTodfrmePItS8UChw5csQsEHZMB8DGxgZnzpzh+vXrNBoNyuWyOa/Ey8pCI9crn89z4MAB5ubmePfdd2k2mwbECbhKekmLxSKFQoFSqWQybu5Wosm+nzYosy22yfEj7ZTszbuBOYnhShofnpdH2V5M0un0SCaDbC/A0AbKcoyn0Z4oinj77bfNc3Px4kUajQZHjhzhJz/5CT/72c9YWFgwSsXjiP2s2l5yAcGdTseU7+r3+3Q6HVqtlgHEEjMs1G/buyxJ4QBzzDAMzcLa6/XodrvG4yBjRe6/hBn0+31mZ2c5cOAA+XzeHEu8FHZm/YlMZFfRDEoKDZ5NFXtuQZ7VmIIt70LFjsdrGIMvrSkVy2TSGWZn5wGN5zmk0zFrKYoGntcd3unBS3I+DcB4DCKjYY+yit8VA6+vjt/jNoagHILAB61xVArlbsf7KpcYLGaylKdmOXi4RK/r0+306LS61DZCNtf7rK812VhvsbnRZHOjSW2zSb3WotcNCEM9aGjcDmkZWkFk9cvuoh6gx4EHOr7YsZ/aG1gGFPH+YQ/CXvxdr9Vl3Q3xUh7pdIp0OhV7kVMOngdeGlJpSKU1Xioim9MUSjH49VIO2bxLqZgnX8gTRQGu55HNZijkC6RTWRzl4jopPCdLxisDJQ4cXOHe3Q43OhtsbmziqHRMpcbBTRVIuQ7a8bh84R6NRoN6bYt33nuJ1944RL4IpDRREOGm1CBzt1wMMbLs1KXa7TatVsvoKDYFVqm4MkQ2mzWAROZh0W2eldhtg20voKx7Ms9LfpVqtWoM9xJeJ9vYBnbRgcTBkKzxC9v6peg4sr+0y35/WmID60f14D+qUXYU4H4W65Toq0LxF51vVHtsEF+tVpmfn6dYLBoWJWyDezvOXEomtdvtoXw3cmwbE4gxYRzXaNGvJHfQzMyMSXiWSqXMWHacuKaylLCdyNOTsQLKyYdllGcsOQBs+sSjeG2Sk4G9vUyMkphH4mFXVlaYn5/n0qVLQ0mx7Im6Xq/z+eef88ILL1Aul1lZWRnKUC0vO1uf/XDa2fyEYv3JJ5/wySef8Pvf/56rV69Sr9fNImHTOm2Aayclm56eZm5ujv3793P8+HFeffVVTp48ycGDB41VVfrt+/4Oi2oul+Pw4cMsLi6Sy+VMOSZ5aAWEXL58mWvXrvHyyy+bvtg0W9vQITVm5+bmhkCPbZ2VbSXO005MYFsMbbEXkCRVd7cxYS82SilDvbYzfdsW116vZ6yUkjzL7t+zEnu8A8YAUSwWzTa24uI4Do1Gg0ajMdQfm21hH+9B593tf6UUR44cIZ1OU6lU+Oabb2g0GqysrPDOO+9w6tSpoXPvdmzbSysv3/dNIr5er2fAqwDkdrtt7ouA51arZbJ9SzyP/bzY99e+DmIwscuxSW1kqb8oCelknEud9qWlJZMsRI5rK1sTmchDRVnvakAn3nVqMRsNttGDmFmHTDpLJpMFFGHoE0YhrjMItIUY6Go9cD3ascnD3mQ9VDvYcMDBZE5WKPQgCZgexOu6MMgOrQEcvd1UHWeaTnvgZTyKZQ+l87aDnGYDGlsBtY0WmxsNNjYabG5ssbneoLbZptno0+sG9PshjUYzfu79gF63T6/v4/dDonCQEA1nkJzMBRRaOygdf0a78f/KIa7r5KB1bCXQDDz7WtPv+aA7OK6TMLBHaEIgRKkQ5YY4bojnaVIZTSbjkMrEpbuKxRyFYjaeD1yXTDpDoVAY0EI9HOXguWnSqRJBP0O9FuH7fcIooO938ByN47jggKNdHNJonaNZq9HtrOO5F9FRRBj4HDu+yMx8nnQW0NuGYNd1iEtDDZfTlDwhEp9se/vE4C3hZeVyeWj+Tq7xz0KS607SiyvfpVIpMxfb/ZQkjbahWfog+oi8bANn8hy2M+ZJZbfrZhu0bT1j1HbJNcbWWx61bc8aII4C+g+6lnItRL+Yn583TpaksUL632w22dzcpNVqmRKa9vnh0Q0Pz1Pstkn4QLlcNk4b6YPrunQ6naE4Zal1Pqq/E4bbo8vYAGWZjLPZLM1mc0iptq15wsu3FXwRGzDaYlsJBeTZCrI8oAIWxdqVjM2xLVbiYY2iiHK5zPr6Or/4xS/MQrqwsEAul0MpNQS8bKuWPVBlsu/1epw9e5Zf/vKX/OIXv+DWrVtD1Aq77p9tjUvGUEqt5h/96Ee88847vPbaa8YanJyQdtqfBvUAACAASURBVLMIS6Kv5eVlyuXykDfOjrX++uuvOXPmDEeOHMFx4mRhAnKVUibBlNCTpNRSOp02oMTOHJm8d7bsZrm2t0uCklETYPIeuK5r4qBlUpXrK4uR1KKWScim137XkvQSw3aiFaFWVqtVM6az2ax5VtLpNLVajfX19aFj2NmixWiTjBNKfh61oMj/1WqVSqXCSy+9NGSssOuay/nsxdzOJSDXWkBuv9+PPSb1OvV6nfX1dTY2NkwsnQBWe75IAvLk+eR5sel2AsTlN/EWCMVOrLmiKAqLxHEcqtUqR44c4dChQxSLRfN82llZJzKRR5XtKW43Ax8IUI3B3Xb9XJSDUsNsmzAMCANNynVRjgBGDSpCKcfyFI8+a5wtWdaMyNouMgA9MSMAahAfKxmwTLVfs4njOANgP9g7dlxTnIJi1WNxpYzWZXSk0ZHG72k6bU1tI2Jrs0Nts86lS1dZXb1DrdHg/v0NNtbbbNWaBL2AMACFiyKFwovboj209lAq/k7Afnwd3QGIdnCcOHO0cnRcH0tHOK7GdQbzVOTE1PXIIYpccz0dB3wV0WmGKCcG0VEUoamDquGYdSe+zo5SeJ4Dqk+kfcJQ45DHUQXQWYKeh+cp0D6oCM91icKAKApxPYdcpoJy+1y9tMb6/Q0unP+Gv/h//gdvvHWYpeV4TfWDkE67Rzbrks5sVySQdTwMQ1qtFvfv36fRaJDNZg2t1a6MsW/fPqanp4eM2eKhfZ7JCpNrUpJtJr+JE8R+2bqJXa1B+mSvi7aumAzBexIZ5dix10BhJ4oeKe20+xqGId1ul0wmM7Su297ycZVHNSBLHyTjeC6X4+DBg6ytrXH79u2hah8yXkWHaLfbNJtN4wDxfX9o7Rd9dpwTbdo6e6FQYG5ujtnZWWq1GhsbG0O4IAgCWq0Wt2/fHmKAiNhjzsYyE3mwjA1QBoYmolG/Ad9qghpldbT/F0Ark4zv+3S7XT7//HPOnDkzFDxvt0niIDKZDJ9++ilhGFKv1/nwww85fvz4SEBrZ9S1F6xms8nZs2f5l3/5F+7du2cmR+l30jNmW34l6/bLL79sXouLi6au8ON6taRPL7zwAu+88w6//e1vabfbQ9QrgIsXL/LZZ5/xx3/8x8zMzOwAXfYELu22EyzY1/JZS9LgIvG+EiOeZAMIWJZ7ajMEnkVb7c/2oirx1VLKSCjFYpTo9/vUajUTq5Wsj21bo5PnsiUJOpNeWrHkJ/exx4uMdfH22jHDQv+T5GMSNyzAWf6X/tlg3zZu2ffNHmdJj7o9RiWRnk3JVkpRKpU4cuQIBw4cYHFxkfv371Or1Wg2mybBxuLiIrOzs0PURNsbM5GJPFx04t2W3eaXGJTGnkKZZxVRFBJFOgZ7ysNLeSjlEgYRQeCTSg3i71WYOJ91Hm3/Lx5l12yvePC4jssmWXRt63AD0/fw+Rxi77i4cwcGAUcrlHJw05DKQjqrKVUdphc8Fg+k6XZW6Hb7NJs9GvUejUafZqNLs9GhUW9Tr7do1Du02z0a9Q5bW210GKF1MPC4eqA9lPYGfYpfERodRTiqj3JiWnukIwOmNYNyUo69jsUGBB2Ggz7EnnYdxXHdISouP+UMPN1axx5wmRtdB41HFIHWIcp1yObE4BZ7mONY4wC/F5B1XDwnReSnqK136XVv86v/9Z/0+03+r//5JsrT4Lpks8VY3yC+ljFzYNsBISycdrs9BCZ838fzPMrlMuVy2RiRd/NuxtdgPAEH7ATVyf8fxHra7XhPKgLSkuV+AONUSHq+7SotYuS1Y6PlmDZj4Psg9n0Sx0A+n981pMlmEDSbTZMoVn7b7djjKnIvRU8pFArGWwzDfQqCgEajsSOj+27e82RY6kR2ytgB5QfdrFEWuCeRURO6eIBsC1Oz2eTmzZucP3+e69evD2VFtNsii0kqleLatWs0Gg1arZZZgCTZkSjiMujn5ubI5XJmchT605UrV/j666+NlVOSfNmAWrzvhUKBSqXCwsICx44d49SpU7zxxhu88MILLC0tDQGGJ7lGnudx+PBh3nrrLc6ePcva2tqORAyrq6ucP3+emzdvUiwWKZfLBsTYxg/7mskiMA5iA0bxLKfT6SELrvTZ932azeaQ0eRZ9MO+fraF3KbaS6KVTqdjFgYxykj8ilhghRpvK0vJc9m/2+cf5b1N7mezD2zqtFjqBfQ2m82RL4lZt+t5Jr3CybGdZFbId8n3UZ5mWxmx45xKpRJzc3McPXqUw4cPs7S0xNLSEo1Gg3a7TTqdJpfLDS3ctiLzfVJWJvIsZNi7OyzJcRSD11hBHjbIxEALohCU4w2AtDzDgoFHMR3s+NVR5xv1/aij2P0Y7tPQ3so6n2Lb1aq1iTnWMarDcYnrOqchU3Qo+jnS6QKuUkQR+H3o96DTiWg2uzTqLTY3tthYr7OxsUWz0WZzo8na2hZ+H/y+xu9H9PuawNf4fkTgR/h+j34/IPADwtAHR+EoiEt1qdjzrAbZtpWHM6CaSz+01kRaoyKNclRMrXYGlTaCOKEWkYOjvEH5an/gnXdxHBelPbR24phzNKgA5agYrIdx0jYdRURRQBRlIUrhkKXfj9jqt/n80ytUKnlefvkw1Zk8pak0uUwWVDxOtmPJhwGFvMRzB5iySpVKxVDFRQeRvibZWeM+3+2mEyXX8Yf152n0M7meJuNmxRBur222XmV7G5Pr4/cVLLuuS6lUolgsmnxCo7CB5BiRuuCj7vleuDa2niKGEdE3ks8exLqcJOVL/pY0Eo2LDj7uMlZAGRjKcDdqEH9byos98dieQvEii9fQcRxTR/nu3bsm45wknrItVELBlRjQjY0NPvnkE+7du8dHH33Ea6+9xtLSEvl8nnv37qGUYnp6mvfff5/9+/ebJF+tVoutrS16vR6O45hkFDbYkVhh13WZnp7mlVde4c033+Tdd9/l6NGjLC4uDtVLTtaPflSx69ytrKxw+vRpyuWyiReWyTqKItrtNrdu3eKTTz6hVCoZoCyTmu3Rs+nMz1tGTRRS3F4MGMmkb71ej62tLQOUn/VCZDMI7PGbz+eZnp42sTv2vZc+tFotLl68aAws9r2RxBj24mtTk5PKRdITnQSkYiRqNpuGOi3xM1KjWGK+xVssQNqOT9ZaDzE9bAAukmyrbVVPJrZLgmrpk52ET66PxPgvLi6aMmSZTIZyuUyhUBga38kYMfvayHd7YVGeyLjIw8CyMp+DIKTX9WOjasrFcxUpz42BcjTYdoBVPdfFdWNPstZxyST7WDE4FY/x8LkeNmVv/x6fTA0yYe+kZo/uB4PkZOYZdWNAyFDJKoXjRqTSDl7kmBLBjgeZNKQLkI8cpsMsUZghDCoD8BsRBBG9bkSzGdFqBTTqMX17c6PO5madzc3a4LVFbXOLRr1Jr90BskQ6TRgqoigGy0q5OCqF66bi2G/lSBfieUeFRDrCiRzcdI5UKo2jPNrtLn4/JAgiXDdNHB8d4XoeynFj6rWOad1h6OP7PfygSyrtkk47ZLMyv0mseJ8ockin8qTTOSJVxu+1uXJpk3/5X2d554PjvJBdIJUBCIl0QITG89yhmrL2PGnrWP1+3yTESsZ5JoGY6ATjLLZB9GFOmWTSy4dt/7h9t9lXch7xkNrXtNvtmvC0JFtLEmLJOmSH5iVrFe9lkXsGmJKT5XKZfD5vcuckjd6ig0gVDhgdBz3uY9Y2AghQrlarFIvFHc4+iB136+vrtFqtoe8FaNt674Ow1kS2ZayeIPthGPWbPaE/iSTjeJOTn0wsEn98+/Ztfvvb35os00K5FaVYJtJkXKd4Hq9fv876+jo3b96kVCqRSqVoNBo4TlzL+OrVq7z//vu8//77JsuzeIcXFxeN10oknU5TKBR45ZVXOHz4MIcPH+b48ePGe1wul02yLAEW9mT5OA+D9C8IArLZrPFYr62tcefOnR0PWrPZ5Pz585w4cYJjx44NWTztawPDltNxoqWKFbdSqQx5+uU3sVCKMUO+f5bts8WePJWKk5EtLCyYGtV2ps8oimg2m1y/fp3p6Wny+TylUslkEJfFNAmKbeAr48kGq3aJJaFQCwAWOrW8C2292WzuoDgnn0tpt5xbfks+e7ahI/m/9MWOObYVDjtZnK1kiId4enraLMhivVZKGTaEbbCA4Zjvb5tcZSIT2V0scAm4jkM67ZmY3zC0wYuE68TAOJ32yGQ8E2m8Q0nS2+fQWsbrgwBCckdl/W+/7GOoxEv2cIi0xolrYsW/uHKSCG1qRkcDx7PCcdKAFwPOwdGcCLSriBN0uUhdYR1BGEIQQK8X0uuUaLfLdNpdOp0u3V6HbqdLu92h3erS6fTpdX1aDWi3NP2eptPp0W336PZ8+l2ffj+g1/Pp9fr0uj36fjCYzyL6/YAwistCaZXBcVJEOkC5DplUGtfxiELo9vo4g+Rnvt/HVS6e65FOO7iegxsoXC/AczU4Os4mrlxKpSq9nqLf98l4mcG5Atw03Luzxe9//yWvvL5ENrMIkUa5TuzdRij52x66bDZr6NX1et2sfeVymfn5eebn53fEO9qyl+Y1e20bBZxkvt4tX8fTbAdgjO42jVicNbLeyPeiD4pnX3QWGA51281rvpdF+iX5QorFIrlcjm63u0MPkPd+v8/m5uZQbfBHyWEzrqKUMrXBBSiLPmbnDdra2jJ9ThrwbYPCODis9oKMHVBOpnC3b6QN/J5EktQVOY98L8l8bNr1mTNn2NzcROu4fIKteIvnVrxRSa9au92mVqtx8+bNoT7IYL9x4wadTofXXnuNQqFALpdjdnaW48eP8/rrr/Pll1+ytbWF1pqpqSmmpqZYWlriRz/6EW+88YbxIFcqFeORExq4KP3dbpcgCB7bqih9kH2np6c5deoUt27d4tatW2Yb2wsvGQbFOy8Tm13MXUCOeGvHTVzXNbFYsNMT6fs+9XrdTM7PejFKWhBtRTedTjM/P8+tW7e4efOmeVakBnC73eb27dtMT0+TTqeZmpoyFB7YmVzDVhiELi0UahlrjUaDZjPOPCufhTZte4ntuCnbe2Ff3ySwta+5jCnbwy3jyAbW9jbyDEj2U8lcLdkgJRxCSrWJB94uSyZlGGQuEhBsW+zt32QxTsrEajuRJ5fdKNCxOI7C8waZnFFEkSYMfXq9Hq1ml063M1DGFdVqkemZCq5LXBt5tyGpt73Ijz5sBRAnQbINou2Xs2N3rZ1BbDOg1IB6PHi+GNRtNvNIDP7UwNO83YSBQojMz4OfNbgK0kAuctBhmihKA2WUirNxS+ujMAbVYQD313ps1Xy6nZBmvUWj0aTRaNFsNGk2W/HnZotWo0WnOyhDF+oYaPdDCB18X9PvdYmUj3LTeOk0Kdcl6Eforo9WLiiIdB+FiyY2anhK4UUOWgc4ToiX0mRyKbKZEpXSAmt3m6zfbxGgCQKNH8TzU2OrxeVLa3Q7LbyBE9JxY+At5gaZjzzPo1AoMD8/T71eN9lzlVJMTU2xf/9+FhcXh4DyXpzLkgbg3UAybCfEehRd82kxHJNxxqKLCqtQPKTiibbXPTtfxygnxV4XuWfSv0wmzhpfKBTY2toy2yTvhe/7bG1tmThluxrLXhQZE6VSybACk8yHMAyNk80OoxiVT2cClh9NxhIow/Dkk6T3fNsba3s2bbBj1/y9ceMGFy9e5NatW0PZg+14gfn5eRYXFzl//jxbW1tD3uQwDE25IdviJZbCVCrF1atX+fLLL7l27Rr79u0z8b0//elP2b9/P//8z//MjRs38H2f/fv3c/LkSd577z2mpqaMNU0mTNsraPdPHpLHnRwEDMkxZmZmePfdd7l27Rq/+93vzLUSKng2mzU1l236kFwPube2tfNZyaOAFGmrxCjn8/khapodo9xoNAzdxy5d9SzEfg7srNcCJmdnZ5mZmaFYLJr4XtguAdbr9bhy5Qqbm5sopQx4FKBoWx/lHAKKhSItMcdJ77JdZ9umrtkAWcZqchwkt+v3+zuAtCgLdi1vsbgLsM3n81QqFWZnZ43XWPpog+NkG2SM2N/LNbOtsjBMN7eNbba1OrkYfZ+Ulok8C0nOV7uPHymNlMtlBvOR4u7d+1y7doPLly+zvr5Br9elUqlw9OhhXjz+AjOzVXK5jDnPbtPjw+bqB0+rD4q3TmwWHw1HOcNsbBiA45jeHJfLUqA0rquJM1ZHxEnJBuImfdWDYw2xVgAndljbDTFNcTSOC8pzmNuXYno+RRhqQj9PGEwTRCFRGKLDiCAKCYOQ0I/wg4hON6RZ9+n3I7qdgPpWl6vfrHL+/DUuX7hBo96hH/Yp5CKU4+KmNTg9cCIy+Ygo9AlCjQpdXFejnJBep0ku5zEzPcubb77N8r7D9Lsu//1/vqTZuAyRRyGfIZWpEkQ1AmKWz1atR6PuU51Lb9extuZcmfOKxSKHDh0inU6zvr5Os9lEKcXCwgL79+9naWnJMGq2r+Foh8Y4iw0iH7QG2QZd+/fd5EkMobJu2p5kOaedbNNOzlkoFIzOIUboUU4Ju7/fJxGdQlgQxWJxaM21vaaAyeguyUFlfd9LhutkOx0nLgcqOpvtiBCxk6TaOqptCBKstVeuw/OUsQTKu028thfnScSm0tgeoGS94zAMuXjxIpcuXaLb7RoFXybPVCrFwsICP/zhD3n77bf56KOPOHv2LN98881IoDEqnlI81K1Wyzy0AiQFbHqeZyi0s7Oz7Nu3j0OHDu1or+0htyf6b0O/sdspD+ZLL73Em2++yZdffsnly5cNjVximF9//XUWFxd3tGmUPKuH0544R53THmtyD2QSymaz+L4/dD3FMyuliZ51/I8N6myR+1StVllYWGB+fp7bt28PJbGQ2CWpMSwAUCj9Yp20j2kDYZsqbZdak23t5zLJrkhSkZPxbPa4le3lPZ1Ok8lkhmoW24BXvs/n88bSXC6XhzzK8pLvkspRkvWQvMby3bCyvTOZWLL/yXs3kYk8WEZBvAfTn8WjrByHSMfhMnfu3ObyN5e4cvUK9a0tgsCn2aqjnLjMUTb7MtmsUDq3X+JRfdg5Y9GJzzFFevh7lXi3j60Hnmv7p+3IaK3lSFJiSowF4gm3w7Cs+UNLwqr4XOY5HZSo0npwHiVtsSiJcnwHlDPwuEombK1Au6DTsddbMXRMHWnCEPq9kFbTB1yiENqtPvtWKkzPl0hnFNeu3mVzo01IA6U8vExIuZKhUPBwHMhksuSyOfLZHJlMikzaoVAIKZfSTFXL5LLLdDset1fXqG+1IYrrQGsNURjQ7bVxMyGVSoFsNo3jQOD34+zhjoPj2knfto2X8/Pz5HI5FhcXTSKgcrlsEnnJuv4g+vVemONsb/Ju7U0aemW/B8mTgC+7DVJlQ9bKe/fucfv2be7fv29ixY8dO8bc3Bz5fH4IzEto3ajyo3vhnjyq2PdDkszZOlhSn9M6zisjeVKkfONekqSeBJgkorlczjBaZVsZF51Oh2azST6fH/nMis44kYfLWALl3X5LJvF5XLFT78tgkqRcdq3XbrfL119/zeXLl3d4RrXWFAoFXnzxRX72s5/x85//nMXFRQqFAhsbGyauV2inAi5kUEq94CAITEkfofqKZxCgUqnw4YcfDoFVKfUjAEeul21cSNIwHpa0YjexY0TlPMvLy7z99tvcu3ePf/3Xf+XatWu4rssbb7zBH/zBH/Dmm28yNzeH1nooPta+pzbt9llP4I8Clu1kTvl8nkajMTTmJLlGu92m0+mQy+We6WSTBGp2n8TKurCwwMrKikliYdOQ5Rh2/eFut2uyqtvAepQikQS0u1nj5Tf73I6zXRZqlMg4S8YRl0ol85qenmZqaopKpWKMGZJxPsmosK/XKBlFr7PjoZNsDDEOPEjJet6GoYnsZZEx4rATbO4+flIpLwbKSg1yBfS4c/c2N29eZ2trkyCIn7dOt8nt2zcJox4HD64wPT1tAF8Mkp0BeVqjeVTQo633YQ/yzhReaicwFrr24E1OOcC71q7yY+xBjiGt1ICWfSQbdGSAspTNUsqJKdl6kJF6cLL4fFa7tUbrCCn5pBRoPUghPnBDK+R51uaYRJq4LrXGI6LgalIpheelUDrNzHyBxaU5cnlF+dM0F85fp9fVoENSKY/l5Smmp0s4jmZ2do75uUUqpQr5XI5iLsOhQzmKBQe/H/Cfv1nl7O+v8MnvzlGv+YR+nKAt6Pt0ex1avS2msrC4MMP0bIFc3sH326gojlF22c5XIvOZnSDJLlME2wlWJTQtuV7K570CQKQPD5rHk7rUg8Q2pD9pO4IgMAk45Tm+ePEiH3/8MZcuXaLf71OpVOh0Opw8eZKVlZUh5paEJslxk4br75torcnn81Sr1SGPfHJcA6ZSSb1eZ2Fhwey/V8R2iEHcdjtEzE4ubOte3W6Xer3O9PT0UBK4UQaUiX7yYBk7oJzMypaUb0O9TlIN7Ey5ohi3Wi3u3r3LN998w+rq6o7FQeIDjh07ZuJ2PvjgAxYWFnj77bf5zW9+w6effso333xjAK0dR2BPYj/84Q/5yU9+wuzsrMmcnaT7iPdOro0Unx81yG2voU0fknY/jgggl1hdod0uLy/zl3/5l/z4xz82tdok+djMzIxJhGZ7lJPF3EfFc4+LKDVM5ZXrYHum+/2+YQMkLZrfpYgBQim1g/ItQFGpOK7syJEjrK+vo5QysSrJkl02RT6ZIXM3z7WIDZDtmGJ7oZKXGIzsfgi4FW+xWEeLxaIxHkncvsQUC4BOZvOW9owqcZVUeJKUOynBARgQL2EFcn3kGHINbbaF9Cd5XXa7XhOZyMNllEd5dxHD7Hbd1Yhut02n0wQV4Lh6AO5C+v0OzUYd3w+IBtmbtRrU9LVA86jzDq+7A5BoA2Q9+N7s6w581CPab56Hwb6KgW92e3dt9hyUiGJAw44sIB1FcbSzE9czdlxvkIB6WBmU2tIArusk+hlvL00y9G7JBB7F2cOVAGulTLvipitw4v67A8q2l4Zet0u72wDt4KWz7D+co1A5yek3DrJ2r40OIZVSFPKKdCpDKuXipSDlZkg5MY0+5cbX8O5ql4//31U+O3OO61fr3LnVorEZoMMMnpvBcTwi+jg6olBMMT2bZml5imI5TSrn4KkUcf1kF+XE8ez2/CjrivyfnM/lezs/A+xMkLoX5FGMwKOMvsl5/mmALdsB5Ps+6XSadrvN1atX+bd/+zd+9atfsbq6auJrv/rqK374wx/y53/+5+zbt49KpWKOJeuTbZjeK/fkUSSpj0hlCrsqRjL0ScZts9k07MykYeN5OG0eV0Yx7sTRZieXFXEch263y9bW1tCzOu79HFcZK6AMwyVVbEnSSZ5ERlFSkueThEerq6tsbm6a7wUQeJ5HuVzm5MmT7Nu3D6UUi4uLFItF9u/fz8zMDCsrK3zxxRfUajVarRbdbteAXaEyTU9P89Of/pT33nvP0GiSsZD2A22/7AE/ynKYtEB9m2slnmE5b7lcZnZ2lqNHjxpgYXvzRGShHVUy4mEg7HmKGEzEWpc0MAizoNPpDIHoZ9UXGyjL9ZW4d0mUls1mWVpa4uWXXyaTyXD16lWazaZZJJLGKHusJJ+HUc/bw/pqT+ayaEuiLZs+Ldc4+RJvvmxnx06PaocNWEcpM7sZlezPoyjVoxanUdflQUqTbRwbx/E+kXGVxxsrjrMNPJWCIPAJgh6OI57ZmBYdRgF+4A+MR6D1wMv72GMzAZIhUTtZDXyvI9bzHaeyjqHj9g/Y0dbGFktk6HkWD68zeG1Tqe39zFFUvK05lh7ecgi/Wy1Tu16i5Nyy3X7HjXAiDToilY5IZ6BYqrKwNEW3A2iF50IuCzqM2+KmIOpDrx1R22xz9+4G926vc+HrOhfP3eXC19dp1gP6HQeiLJF2UCoaJOwKiKI+haLDgUOzvP3uS8zOFXHcEOUMg7+kTiHX3gbNyTA4W+9IhujsNdkNLIvYTovvuh2wXSpKKUW9Xuezzz7jzJkzfPnll8ZJobVmbW2NYrFoctWUy+WR61vy816XUeNWcgDZBu1REkVxCdNGozGoAPDd39fvQpKGm1QqNTK3jFwfoZzL85zEDRN5dBkroJyctJOSVFyfRJKA1J74wzCkXq9z69Yt1tbWaDabxkMqC4dQlF599VVWVlYM+Mjlchw+fJhDhw7x05/+lK+++orz589z+fJlbt26ZajWS0tLnDp1infeeccAbPH6SbIGeegFAAldW0BRks5sAx17IhHv8pNILpcjCAKazeYQuBHvhYDjdDo95DEUQATbCaTs0lTJpALjIjaYEWtdklZtW38lWUIyVve7FHtMiAgVXLI59vt9XNdldnbWxJbV63XTXthWeCSDZjLJ2iiLug30Rlni7brFAsZTqZQptSQeYqn1LIBYktLZ2aXlmPa5bIqZfZ+S2T2T+z3ovth9lPZLHLPca1lYpRzHqHOMuiajzvUo201kIo8rcU3ceGwGgdDzQjQRrusQRSFhGOE4ENf/TZQtSziKd5Ptsbvt643/s8e2/KaGWdmPMuwHdZQNuFXK0LdVEpAOvLrKdYd81lrHJbFkeXHUdtZrzx0Vp7fdZ2Ux3rX17oxwig8tX2pwFXTsZdc6ItI+mWyKXE7WboiiHo6TJp11yWQdonDbW+04sUlBxZeBbjvg/Lk1/uu3n/Nfv/2UtXsNgp5HNjWNjjK4Xgal07TbHcKwS7bgoFQfwg6FkuLFl5b4n//3B7jpPoQ+qIAwdAgjGQfDJexk3pdcFPa1lnEi63hSBxu1RoyrPAwgi3xbPfNRRa6ZMKXCMGRzc5Pf/e53XLhwgXq9TrVaxfM8ms0mtVqNjY0NE/oleVJkHbcdFqOcFHtZbCM/YPKRJIFyEkdoHYeaCbMuyQQbN130UUWS6cr9TxrChPmYzBe0F57TcZPnCpR381YJ2LIpVzKH6AAAIABJREFUx0IreZqDOmll8TyP1dVVfvOb31Cr1YySbQM/8dRNT0+bNtoDFaBUKvHSSy+xb98+3nrrLTqdjqGF5HI5pqammJmZIZvNmrZs0+bUUHuSyrgdjyHfATsAnf35Sa+ZJPGywYaASLud9jVMZgceFT8yqp3flTzOOWxlIZvNMj09zZUrV0wCN9sY0G632dzcHEr09qTnfZz2CfVe/pe4ZAF3QkOS52j//v386Ec/4t69e6ytrbG+vk69Xt9hXd1t8rQVC1Gs5FyS+EwSa0npJftle4btMk2yqAsw3c2AYj8TSerQKIXnce+3fZykxToZp/9tzvG4+01kIo8u9hhzSaUyeF4ax/FibwIuSoHWDoGv6fb6AyNfbLxVqIEBKl6jHBsxEoPC4bGbeOZM7ug4bthskxzvD/HIohxcU0B5GyDbsc5qx7nj5GHaOlY8ldj7yB9NguDNNspWaMv7bfziKqZ7K6Fma2XvZDaOY7oH+yuNqzxQmkjHhr0wijN0O0REEYRBgOPEeoMD+G2or/e5dqXGN5ducuXyLW5c3+Du6haNTQ8VVnGVRxhmUXigFaH28bIRDiHd8D7lKY/Dy/t45/1jvP3+EbwccRlpZzCPOg6e4wEOUl/b8zx6vR71ep0LFy5w584dut0uuVyO6elpjhw5YqooiPFQ4mHtMTHuYMNunw0qZb23kziKgV9yywBDzpVk8tRHBd+jJGkYFlaYGLeFNmwDoEajwaVLlzh48KBpt6yNo2o/26ympI4phv7k/ZRrYNO45Vh2+NaDrvconUiMz5J9+nGukw0G5bPneaysrJhyrjaYtvvcarVYX19nc3PTMNfsazPOYvfZ/i6Xy7GwsMA333xjrqlt+JeXlPS0mYR2yVg7nGwio2UsPMrJyUYeTLm53wVQtpVhGVxRFLG2tsa5c+doNBqmbfYksbS0xPHjx032PDuxlhw3k8kwPz/P/Pz8I7cnSV2W6zCqzbv150F9fRKxvdn2d6O22+28T9LecZBMJkO5XN4Rswtxf6VusD0mv+s+iaHEluQElxwz5XKZfD7P/Pw8Gxsb3Lt3zywY7XbbZLG2JalU2IqFXatY4vXFIyxeYju22I4ntvvxpP1/2td4NyOOfPe0mALjPt4nstdl2Hjmuh6O8mJOLyoGsxoirQmDcBCjLB5njY4GdYmV3plLjFEK5U5K9G5terg32fIaPwxMD7eK4SzbMYDdbmdyP71zH7UNeuN5b9S5NKjBPirOMJ08vjJpxdTgszM4j4NmQHOPIIqRd6ys+tDv+jS2Wty/2WL1aoNL5za4cP4aV765Sb3eIfAdFBnAQykPrd24zSoCx0epPulUQHkqzQsvznHq9RXeevcEK4en8KM+nhehHIi0ir3rOOgBXVtAb7PZ5MaNG5w7d44bN27Q7XbJZrPMzc0NLpEyxk3Rk551WcSnKaL3JUuRyrixKz2MYjHa+urDqns8rB3JY8sxu92uMWTbyS+VUrRaLa5du2YSdT7IQ2oDYvlfPI2bm5smfMxOjillwEYxy+T6jDq+rVPbItcz6fV80uslfRSgPD8/z+rqKjdv3hza1jYU9Ho9ms2myatTLBaHrsk4iw2U5RqI80aqe+xW0SeZm8befy8YCcZFxgIoi4zyGiXlacQXJC2hYuWS4PdarWayAifbtm/fPo4dO2YscJKEyx6EE9m7IvdZ0u/bdfdEtI4TenU6HZOa/1mXiXqYaK1NJsR0Os3s7CzT09McOnSIbrdrYqzlJVmvbWuxeKXtLNTybnuEberXqFrZNrXZVlAmMpGJPF3ZNjjHMbtaK7S2gWPs9bWVVaXs106Gxu5r2tNUsh5g6B35re0dtvzJavc9hkHyiD4p4VsnPeGD7VW0TSPXA6K0XFKrtVorIq1xlIvjxABVhxFBqAkjD9dVpFxoNBU3rtb44uwlzvzXZa6cv0u3AZ1WQK8XEkYZFB4Kb+BV12gVgBPXVna8ED9okC+6vPXeCT788Uu884ODuOkUQdRns9agOpUj47kDr78y8dYCZoIg4P79+5w/f57NzU3jfWo2m2ZdE6OxXWbG9k7K+rgXlO5kO3czkMq24yZKxSFTt2/fNmFYvV4PrfXQ+iteQzGcCdjOZrNsbW1x+fJlPv74Y9bX19Fac/jwYfbv38/y8jL79++nXC4bxqPtRbaBVhiGpNNpA+xFJ0h62AWwSVuEkfi4ktSzRZ8olUqmvvRu906uR6vVMvHe35YN8Cwl2Ubb2DOKTSD9FRZkct9kOOS49/95y1hp9/IgJW+abUX6NlmvRx3TtiK2Wi1qtRqbm5tmYpFJx3HiskErKyu88MILQ1Tp5DEnsrdFqZjCLN5Sz/OGKNZaxyWVms0mnU7H0F5g97iX5zERCXi349Akm3M+nzely2y2hv1c2BZiexFOvpKLzajnd2JEmshEvnuRZ80uBwejn8mkZ2hvKksq8VcifUf1Jfm9TeoegOEd5asAPci6PaBdxxnCbcq4vA1Qs1Io7RAGGj/SRGG8j9IOva7i/lqTmzfu883FO1z7Zo2b19a5f7tJfT3E70IYgNYujidza0gY+WgCtApwPE0u71GZyXP0hVc4fmKFl19ZYv/BabxMhlQGUnh4mQLKgTCMY7Zlrg6CbRZcv99nfX2dK1euGO8ixOCm3W5z584djhw5EvdPDec9GUXjHVelO7n+2MbgUWtT0vO525r2rCWKIkOVt3PYSFukvGMy9lxo5v1+n08//ZR///d/57//+7/Z3NxEa021WmV2dpa5uTmWl5c5cuQIJ06cYHl5mWq1aoCY6MLJUClJKCXXU/QJ0Rmk9OmTzjM2sLXFdV2q1SrVapV8Pm8M/qN0c9/32draotPpPNG1f16S9O7Ld67rGseFUPblN7tMbbKSTtLrv3fn/mcnYweUkzRmW0bVPf02kqQzCJ12a2vL0L5d1zWfi8Uii4uL7N+/fyjBlg229yodaSLDkk6nTaIpieOC7Umr1+vRarUMfVnKaO0GCJ/1wioTqYg8N7ZXV8bwKKrWt5Hk8SZsi4lM5LsX+/lKAmUYfraFPbL3xZ6vHgSSsX6zqdpg3MRaj/ht8FkrU0ZrqMZ0ckobgGQF6Cgi6EcEPgR+QK8dcOd2i0sX1vjq85tcOHedO7c2aTYCPJ1FRSmiID6o44LjaFABke6hnR6uF5LNOxRLcV3mg0cWeOe907z2xnGm5xRagR+AcuMEb67OEEY+YRjFDAMc0Jjyd67r0u12qdVq3LlzxzCDbLDTbDbxfX9HLgl7PbH1n73iWYbhtQmGn58HOWWedx/F4y8xzKlUynh4xdBhlzcEDFBtt9ucOXOGX/3qV5w/f552u236k81mKRaLzM7O8vLLL/ODH/yAEydOcPDgwSFqtugNNnU5GaIn7bGN6RLz/TSun9wX13Upl8smA7iUgLJFgKMA5Xa7bb7fS5IEyjbTz3EcQ38XkdrctuHADh+0jRkTebCMHVBO1u+D7YdCrCRPqnDvFhthW1eFigqYxUEmo0qlYjIJiwVH6lfax5+A5b0v4nUtFAqk02m63e4Qzcz3fVqtlqHyJGUU+HweC6yMSbuucdKSbi9qyRjobyNy/N0MXxOZyESevtge5d0U/WQG+b0n4t3dzpL9YJD8MNGYlNODmtL2T+BIVrOHHCZug6MUnuOCq4l8uHXtPp9/epXf/sdZbl7bpNVQODpL5JcgDPB9DRG4jkMq7ZBKQaR69P023X4NNxUwWy1y+OgCx146yEsnVjhxapnKVJlcXuGkBgA5C0rFtMtevzfw5rl4bgrHib3JorMoFVfbkIobojAL8BGwJQbjZDIh28O4V8bQKMbUqLbb4ULj1DfxDEu8bafToVgsmlwjNq3ZdgKJcb9Wq3HhwgXOnTtnql5IUtp+v8/Gxgb9fp9arcaZM2eoVqscOXKEDz74gA8++IBXXnkFgG63S6vVolwu7zC42+e0a3KLbmHrII8qSR3C7mM2m6VSqTA3N0e9XjeJqpJzn+/71Ov1IY/yXvCm2owN+39JrCvPqiRfs7fv9XpDmMl27NnhcON+DZ63jBVQlof2QRTO78ISLg+LAAY7I5z8LhQXGYgClJPgeDLg9r7IRJ5OpykUCiaux55QxEgill2RhxlxnuXC+yCqWdLLm7Q4Pg1wO+r5/bbHnMhEJjJa7OfdLtMHO5858T49bTbJsxe1y+cHbW97km2R/6Ohbe1EXdulrqLE/sq8dAhRoFi9ucGNa/e5cX2dKxfXuHzhHlev3Ke5FRIFaZTWKB0DZtwQnBBURBB1Cfo+judTrDiszOzjwOF5Dh2d4/CxWRb2zbC4NMXCYhnlarTu4XhunGcMjR8ERJG2PMQOYRg33F4HwjBkY2ODZrM5VGJH1oJUKsXU1JRxDNhxpqNCjMZd4U6CZNvbOeo5GOU1T8qz7q9Nve50OkOZuSG+B1tbW6bKxebmpsmgLcZwodnb1GjAhGI1m01arRZRFJnknxsbG5w/f57jx49z8uRJDh06xMLCghkL0g4ZN2J0EWD2IMPd4/Yfhu+h1ppSqcTCwgLXr1/fNexNwislXM4er3tBN0m2URwb4lWWe2ozQvr9Pv1+nyAITLjoxIv8+DJWQFnoBKMUbLFOJWkV31Z2UxTsc8J2nKe0IZmwyN5mIntX5J7LJFQqlcjn8zsmKVkcGo0G3W73sRaA50HDftBCb/9uv4/a72H93O08T4tyNZGJTOTBYiumo0QMzqM8Znvv+Xyc9gpdWm3HFe+Yz5L065hqbWKXJbEXUfxS2mwHDkRxjHG3EfH1F6v8139+xdkzl7lzq06zHpFNVXBVEUWabicAHZHJeDiuQjmaSPeJdAfH6ZMvpTh4dJaTpw/y5tuv8MJLC8zvS+F4g3bogFD7RE6E43gxjo80QeDjKI90JgsowkgTBCGouCa0AOh+v8/a2hr1et0kZZKX6GKzs7MUCgUT3yrjygbVsDc8czAMNkYBJdjOS5OkXosz5XmGEImXULJiw3YIoSTVunLlCp988glff/01165d4/bt27RaLTKZDIuLi1y/ft1Qb2V/EaXUUAIo3/e5d+8eq6ur/Md//Afz8/P86Z/+KT/72c/48MMPzViSDN2S0EvGiO/7Rp+ys6Y/idjX3/acRlFEoVBgcXHRlM8cNS6jKBpKXprJZJ7sJjxHSeINAcqjquYIUBavMkzyKD2pjBVQFo9yMhGBiJ2y/0lllGVdvpMMvvK9DZKjKKLdbpu4EBtM2RSTiex9sVkCxWJxqOae/ZvW2sS8jEqY8LzFboOtBInYFvVRY3eU4ch+yfey7aiXfaxxuCYTmcj3Vez4M9uDY89XIjZQ/v+LAWu7/86AYm1+Gf4sYHgoW7iKWddKgwrRhKaGM4PYX7QLWtFu9rl+pc4Xn13l808vc+92k04LdJiiH2pcJxjQJl2iKKTn11BhDzflk87C8tI0h48sc+q1Fzny4jTLB7Pk8yVSGWi2mqQzDq4XEUY+jhcDvjDqx5mtlUsmk0Wp2OHQ64VoDanUAKRobaiyApS3trYMcIRtPct1XRYXFymXy+Z7WS+SyZzsz3tlLCXBsnwnYoPicepTJpNhamqKmZkZCoWCiTnv9/t8/fXX/MM//AO/+MUvaLVaBiT1+32UUly/fp1Wq2WOlXRACWVZdHE7c7LjONRqNX75y19y7do1Pv30U/7kT/6E48ePU61Wh+i9sG2ws50Pcs4nlVH7RlFEJpNhZmaGqakpNjc3h1h+tlFHwivb7fZQ2cpxvM9JSepVco/Eo7wbA7fb7ZoKKLYk14SJ7C5jBZTlwbLBRlIpt+kw3/ZcMpBkssxms+RyOTKZzI76smLJS1rhxJo2ke+fKKVM6QHb8iyKZRRF1Go1Q1Ma5ZUVeR4T0iga9W5sDZFkm0ctHLt9t5uRYO/TOycykb0lD/IowzYYepQElHsLSO/IrmW+VkO/KitTtrZe1nGUNvHJSkpHEQIBEKKJpAIzBixH0Gp2+ObSKlcu3+b26gb9toeKPFJuikwqg9bg+22UC8oL8dwu07NZ5hZmWNhX5cgL+zj24n6OHD3IzHyOYhkiFJEOCCIX5Wpw4hJgYuyMIo3WcXZtx/FQKq63rFEG+IShULJdU1dWDL3J8DHXdU0t5WKxCOykVo/S0/bKONnNoGuHIO3m+Xwa+ueTilKKxcVFfvSjHzE9PW0qbnQ6Ha5du8Y//dM/8etf/5ovv/zSGALsklH1en3HfROd1k5eK2LnLxHQu7q6Srvd5v79+3Q6HT744APee+89KpUKmUzGUPTl/LbB4duC5FEMAKXimPpyuczc3BwbGxvcvXt36Hfpq+/7dDodWq2WKf+5F8esiOQRkH6MurfdbndHHh37eZ/Iw2XsgPKD4lxG0WEeV2wOv23p8jyPQqFAuVymWCxSr9fNBCIWN4nDsK1QApj2ysM2kYeLbbErFosmRsv2ptpAWTzKDxq/o6hqz0Jsgw6wIxN2km43ioo9Kszgcc8/AcsTmch3K7YiKYrtbvKwChJ7CfRsSxLs7vzagnnWf+JFHniINZiaysquuxx7kwUoy0G1jv8orSCCdqPLlcu3uHN7nVajT8bN4ngpHJWiWsnT73fZ3KwTRj6prKZUcjnx6jKnX3uBE6df4NDRWeYXi0QhBIGmH0Rk8g5pzwPloXUARCiVxSTrdiKiCKIorp3tOAwyZ28nJtNaQB50Oh02Nzdpt9umrmwmkzFASZJ4zc7Oks/nUUrtABWjDKLjPmaS65C9riWB2G6AeLfvnkXflVIcOnSIv/iLv2BqaopWq8Xs7Cx3797ls88+4+/+7u+4evXqDsqxhI9JuSBZ16WP2WzWZE9utVo7GCfCmEyn0/i+z8bGBrVajevXr3Pjxg1KpRInTpxgfn5+SNcRvcN2Oj2JUUXaIP1KOiY8zyOfz7O4uMja2toOoCzHEKDcbDapVCp7plJNUjez2a7ChJXrbt9boeM/yKO8F7zpz1vGCijD6DjfUR7lJ5Hkfsm4lEKhQKlUolQqGaqKxPLIwyh0DZtGMu5JLCbyeGKPwWw2azJJ2uNPlFCh4ycX2XEYD3Z7kpRrmXBta7O9j/35QZ7xUc/ig7zQ43BdJjKR77vYxmD72bbpkUnDH3xfYtgsOnBczIltULzL/KO3k3FtJ/OSFF4R2oDpEBOfPDi6Od/gLZvNsLy8SLl8Gc/TOG5I0A/o+03qrTY66uOk2hx/6RDHXjrAiy+vcPDoFIv7K1SqeQrFFDgRygHPBUdrICAMAKVQjgJcgiA0OoqjnPh7BUEYU6wdFI6jDPZPlsLc2toy9973/SFlO5PJmESWUvlDzgXbwMfOlL3X9KDd2moDzIc9D/Yz9SxEwF6z2SSbzVIul9Fa89lnn/HRRx8ZGr3neUOhVpLhOpvNEgSBYZO4rsvU1BR/9Ed/xMrKCqlUirNnz3Lx4kVWV1eHErjZiaFEF242m5w5c4a//du/5a//+q/5wQ9+QKlUGtKhkhn2bdbo4/TbDm+0gbh4uh3HYWpqimq1uusxbPr1t6mg8zwkacSR7+wQOntb+d/3/aEYZfE0y7WUz3vp2X3WMhZA2baCi1ULhqmjSfpGkir0qGLvm7SqpdNplpeXeeONNzh37hx37tyh2+2aYuzHjh1jcXFxh7Vury0QE9ldkvcxm81SKBTI5/N0Op0ddbPFYtfpdMhmsyPHwrh6U58VeB2nPk9kIt9HsZlSsO1RTpb0kXdRlndTkJLAeVyMf7vLttd3mxIt4oBS2zHHmkEWaOIkWkqhNURhDKodV+oxR2gdoZRGqfi4ApI1epAITANu7K4d4OxCMcuRo4scfWEpjgFebxGEPVxHU5nKMjU9Q3XqAKdfe4GXThzi6LEVqvMp8iVij7XSgI9SDsoFR6sBtRowWbjFlaxAx/0bYGKU2u6/42xvphwVh1graLVarK2tGUqmbQgOw5BCoUC1WiWTyZgx9CC2lP0+zmI/H7ZhIMk0tGsSw06nytM0LI0C28lz2J/DMByqbd1utzl//jxnz541NYKF8izi+/6OHEBy3Gw2y/Hjx3nrrbeYn5/n0KFDnDt3josXL3Lt2jXu3r1Lo9Ewiblg20ASBIGhYh8+fJhqtcqbb765w1tp9/VJxklyP/vYNmuuWq0yNTVFLpcz3vNkG7rdLo1GY2S43DjKwxgMEqNs3xt7PPu+bzzKuzk99pLB4HnIcwXKyZvmui75fN4kFLDjh5OJtZ5k4bYnQRlEkrDA933S6TQnTpzgr/7qr/j7v/97Pv74Yy5fvsyxY8d49913+fGPf2zqyNnHHDdP4kSejiilyOVylMtlpqenWVtbMxnP7XHUbrfZ3Nxkbm5uyNAjkqQ/P+s+PM0xmTzWZLxPZCLPV5LGX/ksiV4EDNke5H6/TxiGJhmlbZQeRT8d1+d8u90CZDVaR8ZxrFBsZ6oGopge7XcjIq3J5l2Uo9CRxu/E+kY64w2wb0AYBLgpUM7As6zj2GRNNMDlUjxKgxMj0vJUhpOnFqhtHafXb/Gfv/k/9IImhUKOV15b5q23X+P1N15hdj5FoeiiHAcn44PTBydg27Ptxi/l4jjuAOg7Jt5apYbVN9F1PXewzgxAsVKAGlwXQCmHRqNhsiFHUWQSfEl5zEqlwvz8/Mj1DNiRZXevieu6JkOyXU9Wcs7Y4AIY0kWlHnASYD+J2HRZm/mVBLSyrbzbmcvv3bvHtWvXuH79uqHR2zqyZLiWe2tnppZ+Oo7D/Pw8b731Fq+++iqbm5vcunWLf/zHf+TXv/41n3322RDYEkNbOp0mCALu3r3Lr371K6ND28aVpLHuSYGyjLkkwLNjqKvVKnNzc8zOzrK+vj5UM1mwQ6fTYWNjA631nhjHScdg0gAheZV6vZ4xntiZxnu9njEa2M5FezyN6/w+LjI2o0Qe6N0mZsCkO/+2ccqyv01ZkOPNzs7yxhtvkE6neffdd1lbW2Pfvn0cPHiQY8eOMTc3NzS5ysM2GWzfP5ExmU6nKRaLbG5umu9he8Lu9Xq0Wi2mp6eHFj57G1vGWfGcyEQmsrfEpiUmKYnJbWyPlFAP7d+SoUTjvq7FbROKdOxPBk2kY9CscLaTdkXKgMxUKjZ2qkgRhRBFCs8blD2KwO/F5ZS8dBoJBNYEgDfw6W6DcVAordFRANoFHFxPcfSFZdLpDCdOHCbwfTIZj33LcywuzTK/mCOTV3gpNcDE0SAemkF/pF/W+qHUyBDs0RfGjquWL4V2qU2cJjBU9xbibNilUompqanvbSUPm0Y+SkZ5Q5+17Oa9t0F1t9s19ZIlKZsN4FOpFIVCgVOnTgHwxRdf0Gw2jZG/Wq1y9OhRXn31VZaXl42nemZmhmw2y89//nOOHz/O73//ez7++GO+/PJL2u22oW4LeNZas7a2xtWrV7l48SKHDh0ymbCT+vqT6D92nx50X8TZNjMzY2om2551pRS9Xo9Go2FKWu1FVqg9L3ueZ57hZB/kHtnVfWT/UceayGgZG6AMO6nXSauHZJ7+NnXYYKel3KbSFgoFCoUCMzMzvPXWW3Q6HXK5HLlcjkKhMDQYk7S0CQD6foh9H5VSZDIZSqXSrhkSu93uUPI3+zhJa/DzXnwnMpGJfP8k6flNenKS2yWppfbvScVxr61psec01hEEOKv4H3QUvxqNFq1mB78X4KgU6XSGYilLJuOhHAj7GuUqnLQHEZaX2hmUYRok+TKZseM4YgNkXcXCvilm56d49fVjOIDrgueB44FydOwwHpRfjt2+jnCn5Uvr3boHVlj0oMfDvw0lH7PB9rae4/s+3W53R4kwMQyXy2UqlcqeSHT0OPI4ACG5do861vNYz+X51VrT7Xa5e/cutVrN6MZ2u/L5PMvLy3z44YcmB8+tW7dM7ewDBw7wxhtvcPLkSWZnZw3LROi8r7/+OkeOHOHYsWNUKhWUUpw7d456vQ4wpIvXajVu3LjBuXPnKJfLVKvVkVVqHnZdH9TnUWDQ/l+A8sLCgjEg2OcTNk2j0TBJrrTWeyb79ag5WbJeJ7GJzOXCHtoNKH/fnvHvQsYKKLuua2JiRlEDJGPd0yjHlFwckrXkpH7uqNqB0lY7sUDSSz2R74dIAozp6emhAvX2xN9ut9nY2DCTkf3bqKyKE4PKRCYykaclsjbZa6Z4lJNrqKxPSUOxbSyW9Sy5Bo+j6KGCT/JBb9OTVVwyCVxwIArB78IXZ6/y1ZeXWV+rUa1Os7xvP0ePHGJhoUS16pFSLo7CYF+NMyjJNDi+CgevgSdYgVJxJmzlRCgvhZsGPciELbhVa4i0RocRjiYG48pBk4q90WqQPdtwx+WzGu6kYsC1Tnqd7e/0gBY++Mlx0Qyz4TqdDr7vm3j2VCpFPp+nUqnsSMq0l2VUrGzSi5iMe016IsdB7OdUaMSrq6tsbW0Z0GdvOzs7y+uvv87bb7/N0aNH+fDDD/nqq69YXV0llUpx+vRpTp8+TbVaJZVKGR1HDGlKKfL5PKdOnaJcLrN//37+5m/+xhhZxLMM0Gg0uHHjBp9++ilHjhzh6NGjQ2FndtufhKmQNAYm3+W3QqHA8vIyV65cQamdVWl6vR5bW1vU63U6nY7p87jc46SM6q/NLEin02QyGROnnBzDQr22nXlyXZIMoomMlrECymLNlAV+lEdZgPKTepVlMYBtKxVsF1oHhh5+uw1CVVNKDbVxVHzXRL4/kk6nmZqaMnFcycWo0+lQq9VMfFCSzi/byb7jHvc3kYlMZG9Jcs6R/2Uts9dRiVmUOENbUbIz4NuAeZyVKT30KUIZTDkAtpYnefXWGp98/BVnPvmKy5du0mr0KZWqTE+t8mn1PNNTRaZnCkxPV6lUS5QqBebnq5QqORxP4XrgugrlMghcjtAmE7Y2J4u0HwN0pVCOYzJv64EDWmsHpeJDxOB3EJOshXad8CAP9VFbWbhtoJwAzUOfB3UGqCRfAAAgAElEQVSjlcJx4ljO5eVlut0urVbLxLyWy2UWFhbMejeu9/xJJel93A1swaNlvf7/2HvTJzmu6+zzdzOzstbeF3Q3tsZCAJRByiRoSSZlia/5StY4QpqICU84/MV/nT84HLYVobBfxWi0jClRIsXtFc0NO9CNBnqtrn3LzHvnQ9bJvpVdDQIgATbBeiIa3ajKysrl5r3nOec55zxpyDMpJDYMQ8rlcpKLm64K7fs+09PTzM/Pc/z4cZaWlpiZmaFareI4DgsLC8zPz9Pr9QYqn8u+7NZhx44d49KlS7z22ms4jsNHH300kOIRhiHVapXLly+zs7OzzxH3RasuD8oPz+VyzM7Oks/nk3xd+5qEYZjkKc/Pzyftzw4z0tfOPl7f98nlcnielxRck23t9lDpa38Y0gu+Kjh0RFl6grmuOyANk8W92+0+MlGWQWGXzjfGDFQHlUlIvK72ALVfsyPMwzzzI3x1kXZ++L7PxMREonawF1ClVOKhlEVlhBFGGOFJYVgqkESO7R7p6WiCLb9Opzulo2tfDcfeHlFUiiSaqnUcwY0ixdrqBj//X7/mxrU1drYaYLJk3Bqeu04URuRzWSYmJzh2bInFxXnmF2Y4c2aBhcVJsnmPQilDoZghm8vgZRxc18Eo1Y8qR0mgV+sork3db9tklIpV1ICjVCKf7tcDi/8xAAqjUtx44Py0VX07TZIPghrYwnUdZmZmOH36NI1Gg2q1mijkZmZmOHv2LDMzM1+JQkcPg/S6fhBRlt/DZMNfNuS4xP6NoohqtUq32wUGe+MaYxJ1pKQUGmMYHx8HSOYFmQvk8/IjhaBknsjn8xw/fpy//uu/ZnNzMyHKtlOu3W5z69atRGEnqZTpOeVRkA5MpecleV3stXw+j+d5ibMwLUfe2dmhVquxtLR0qOe29Dmnj1WUAEKU04pGiSgPI8ojPBgOzUwoN1EqdXqeNzRCJ56vYflVnwU7emxLrtMybJlEBbaHLZ1fkSZNI3z1kZ54pSCG9JQUh4kgCAJarVYiYxN1wkEezxFGGGGELwq2YQx7JMCODsGgYSzGsTidxVlsS7hlfTzcc5hKSKXBicPG/TCyMWC0IQo1URAR9lyqux1Wb68TBR7jpXkIfbpdTbelccjQMxmqUUijssrt65uMjRf4NQH5QoaFxTmWTx/n1OljHD9xhJm5AhMTLp7vxi2llBeTXAVexooM61iCraM+gU8Cxn3D3cTkOSFtJJx5L+VYcqKN7ku800R573oM/Fgybm3EieIyOzubjJFarYbWmkwmw/T0dFKI6WmETYxtVSDs5duKrZnurjIs6vxlPBf2sQk5DYJg6HMq+eYSHBL7xI4Ca62TIEC6rVQul0vmFimke/bsWZaXlxkfH6fVaiXSfaXi9Mitra2EvMu8Yqs3H6Vnr22bf5YDz3EcstksuVyObDabKEHT93N7e5tKpXLI57c9HOSsFOm13FM73U+IcqfTodfrDRTuS6seRzgYh4YoCySqLG0r7AlJHjZpev6oSEti5Ttsz5M90Gwv27CBZXuqDrNEbYQHhz0JSyuJfD6P7/uJvMUeN1L5utPpkM/nv0JRmBFGGOGrjrRjTgxFaX+YnoukUqrt1BvWV/Srk6OqUpzRSuY1ChPF+clRaOh1NN2OgwmByEEHHko7uK6PMi5hT9EOujTrHeq1iCjq4mUUO1tdNteb3Ly2yezcJNOzeaams0xNjzE1M8bUzASlUp580SOT6yuzFXEkWYpPW9xVaLFIotOnA7HIWvUjyQz8TpNkO3nZ/nGS1+3vyWazTE1N8cwzz9BsNun1eknRyunp6YEWM08j0jn8grTtdxiJhE1whPymo9+iwJScc4hJsW1H29umi/fZFa3FBhICOjY2xsTEBKVSiXa7PbCvKIqSatO9Xo98Pp8c9+exh4alf9xvX1JbJpfLJb2l7feUUlQqlSRl7n7ddg4jbGeBXXxtmFMnCAK63W7iuLCJsv17hINx6IiySF2H5YPKYi5SgodFWpYirwnsvC0h6mEYDiXuw0j84fe+j/AwkHEiC0Q+n9838cq9D4KAer1Ou91mampqX/P3g5wzI4wwwghfJIQo5/N5MpnMQBsUmYfkfd/3B2py2FHpr9IctZ/P9I9fObH8WcVNnTzXp1CYoF5t0Kx3UJGD75XwvSIZLxcX1jIGZTIYHRH2FH42j+sY6pUe5a1VPvrgBkZF5PI+E5NFTpxc4vSZE5y9sMzRo9PMzRcYm3DI5BSu75DxVb9ol0oixTFRVns1uUSHDXvS6yQHWdRzkpcsO+m/libGdjEw9uwbyZWWe+37PktLS/R6PVqtFoVCIclLtnPbv0rj4CDYTiTbAf6g0uvDcg3S0tk0mbdrDsg55nK5RD6dy+USG1cUnEKq7fsthcIgdqpJr17HcWi1Wonc107vEFs6DMPkOz7rHB713O1UEft9+37lcjkKhcJAW0+bcNfrdSqVCo1Gg1KpNFCs9TAiHYiT++95XiK9HlY4VoiyFC6TGk1Py7P9JHCoiLLcOJsow/5qhI9KlOVBsnOc7RwKkaTYD73tabI9cWmp9lfJGzXCg0PurXhmC4UC1Wo1WQRsz269Xk9ItC3zt7cbTU4jjDDCF4m0TBr2Imb2Nva2dl2OgyI16WjaYZy3jNkjycoO2SoAB6XcuPhWxsExisWFOb773Vf54P3r3LqxRacOnlPEdQoEnXhfcZXsHI7SmDCi1etgCPoRYh/IoVAEbZdK4NFrNbi3ep0//e81iiWHmbk8x05OM7cwwZGlSRaPzTA1U6A05uO4e4cobaWM0ij6FbSTtlbKCjILGe6fn7SRGoDVRsrY29qIr4tSKiEzQnakiKrYOOlKwU8jPqsF2rCc2rTD2379SV8vuUciu7WPTciv3E9RkIjjP2232iQSYrulWCwOvCdthkqlElEUce/evUR2bcuaRfIsTpd0r+LPc63S8mkYtK3s33Zetm2ryzFFUUS9Xmdzc3Og4vdhRXo8yv8lXdWu72RfH1vxWCqV9t2PdEHHEfbj0BBlW04iUgLYn38FfG7ptTwstkFgexztyPNBBDgdUf68E8AIhxdiWIqURyYVO5dHa51IjsTTB8PH72iMjDDCCF8k0muZGMhBEAxILmWtCsOQXi+w+mvaxGwPEu384uash5WyPtj3JiTZqi5tv+m6CuXB/JFJ/vLl5xgrTrIwt8nWRptmPaTVDGnW2wS9fnTd7P1o00/HUg6KDIoM4KIDh26g6LY1lXIDtVZFeT1KYy43b4wxM19gdmGMpRPTLC5NML84wfTMOOMTJYqlIhnPUlwrDSpEiPJ+KbX1t1H3ef3gaxZFGoPBdQcJg1IqkW1+nWprDIu+ybnba7j9/mGDpIX5vj/gLBMbpdPpJIW1xK4dZv/CfjtWahxIcEnmlHq9TrVapdVqJVJeIeaO45DP5ykUCgMR5zAME5v+86QoDrPLh3WoAZJ0OTk/uwK2EO52u83W1hazs7OPcPW/fAhRlh/bAWqn1Nh909MKgMOmmjiMODREGfYGutzwdCRZIN7Qh4U9Acj3AQMeVFs+kibDdhEEeeBsL9koR/nphXhuxXubluDLpCvVJw9aZEdjY4QRRngcsGWYMRHu0el0ktw0KdplDLRabZrNFt1ukBi7MYGy92jLe78IpPNqD+pcsUcC+7PmfY9EqT7hNHG0VZv4e7QxOOh4Xw44LszNF5iaPMHpUye4u9rhxvVdrnx6m5vXV9nZDmk1QrrdHp1OG3SE57r4vsJRPsY4GO1htIvRHgoX6EftdYQxITpSVHodyuU1zCdtXL9Hfsxh8eg0p84scfH585y/cIYzZ4q4RfAyKt6HCoecYZosOymSPIw0H4wgCIi0Jp/PJrZMEARJRNnu6iFRx6cV93MEDCPE91NZfFkEWmxSkUVL1WN5D6DRaLC6ukqn00kcZDYBtomnfMaulC9ENwiCJCJ97do11tfXEzvadV0ymQztdhvXdRPlXTabTSKWksIIJPt62F7KaefFZ9ndUqchnWYpMnTHceh2u+zs7CR222HGMIUD7KmE7GhyOvIs64GsEel+y4fRCXSYcGiIsk08RQaRzWbpdrv7GpR3Oh06nU7i4YJBiWua9B4kzRDYkgyBFDlJb2tL29L7HJHkxw97okx7R8VzKbkaD+olk3GUjhSnq75OTU0xPT3NtWvXhi4ujUaDdruNUvsrasoiNRofI4wwwheJYYoombcKhcLAmijzT7vVJegF+H4mDpxKfqwZpGd7/zzCvGWSf6wX4mJURopSqT3ybOT7lduXPzvJa0m0NHUYxgDKxJm4am+75FuV2uun7IFywHMVU/OQK/rMHZ3i2eczVCuL1Ks9dss1trZ2uXv3LtvbZaqVJpVyi3YzBOOjVAbl+CgnwmgHo1XcfsoYlDIoBxzHRxkHpfIQhnQrAetdTX17k5WrDd45co2lo7NceHaZc+ePcubcHI6fwSiFMSHSUmrvhBVhGKFU3NppsCT2g8PzXBwzGE20nb6O4xCGIUEQJBHKpwXD7LtisTjgQJJonLQP6na7yXOVJmhwsAz7YTCMeIsNLNffDhqJrSIdYfL5PAsLCwkhLBQKyfuSZ7y1tUWn00nsIzstYxhJsu0feU+qR29vb/OHP/yBmzdv4vt+0oVG0hmLxSInT55kbGws+azYY3aK46OMLbGr5G/7tWHXv1AoUCwWE7I+zDkiEfdhqZz3I49PMpXOllgf9F3ZbDbpj50eq5lMhiAI2N3d5ejRowN8J60uGGE4Dg1Rtr0+6RZRdr6MMSYpdQ57D7VNitJ/Cw4aDMMGymcNnGHvjwbbk4EtKZFJ3y5WI++lFwUY9ADbYyTdGsIm3/L62NgYY2Nj+yRK8vl2u53IW9L5Twd5pEcYYYQRvgik5xuJFIpTOX4/liV3uz2CIMRzXUJj+mQ03o9hTxKsSOfLHoRhkVBjvWwXohqs3myEKMvmVkquQaGJi1DZvNsk/zEo4u7Ce9zS2WP8Mu+iJeAMSpEfg8KYy8xCHkwerefotqGy22Rzs8za2hgb69tsb9a4t9pgd6tLp6XodCK67ZBeVxMEEWEgBAaMUSgdy7MdlYWIfv/mgGY7oLEbsLG6xa3cFmMTK2yuNanutImCLgvHpxmfKmCcvlMiUkk+MUrWjfgE5Hqpgf5R6Wu/H8pROGYveCBrJJDksdrr1NMkxxwWHBFngG17SvRNoqCCtFP+cV4fW/Ysx5Xuhy5EOZfLsbi4SKlU2kd6HMeh3W5z9+7dpF2TkEZgH+mU8zzomKrVKtevX+e9997j9u3byRiyA1nFYpFz584xPT2dfDZdVftR2kPZ+3qQ1yBubZXP55P7ah+n3L9er0e1WqXT6RCG4UNFuZ/082GfZzrol8lkmJycxPf9fcflOA5BEFCr1ZJgTXqcPC3P+ePCoSLKcrNEbw/DSax4seyo8aMQ2xG+erCLVNiQRU0KSARBQKPRSJQJsOetTU8kMsZkAUkXu7DHpThw7MUS9uQtQRDsG5vyHXb+yAgjjDDCF4FhTjhZQ4dFjGwyIG8l02FCUJOtH2DtHCahtqLQwvESAqziiLGSyPLeMajkc/F7JtnOgIlJvtb0o7gRrguOQ5xLrFS/H7GzR5pRGK2Joj7RQOE6Liin3/NYJU2Uch7MFwrMzGc5e2GeKIiIeprNu4aNtS5371S5dXON1dt32dzYpVFv02kHhK6DDlX8ox209nAdv/+dBtfL42YUrqfRdNC9FpXNFn96+zr37mzyycdX+T/+z7/k0nfO4ef7/W7DOJfYceP8atfN9O+dnTc+cFet38PXGJvUSIGfRqOR9FAeGxtLUovSBX+eRhzG8xoWqbRfE5Ip6YLZbJbFxUUmJyfxPI92u50UHpUey7du3WJtbY1arcb8/DytVotWq0WxWBywte3IpThR5PvCMOTGjRu89dZbfPzxx9y7d49Wq4UxBt/3KRaLNJtNxsfH+eY3v8ni4uI+Qvykc9/tIld2xNgOjARBQKvVStSAhUJhHwlNH++TPo9h87ccl+18KBQKibzdhkjn2+320JTSET4bh4Yo2zfMJjfyngwOidxJTsGwG/00T+5fZxgTl7pPS1HSE4fIgKSP6DCZfFqOKJN6ulm7/Rnf95N8oHa7va99RK/Xo91u02w2KRQKiWTKjvDIeYzG5wgjjPC4kO4cATL/GbQOCcI2vaBFGHVQqp/XxmA28F5g91HmqrRGWu1Jo5WKCbCRiLAZ+IgxMUWO53W9F92WY3Tj6LE24DoxOY4j5QatYwm0UXEUXKk4suy6Kj5PVNwCSgPaEBmTkHMHcJXC9T0ynofxweQg48DkeIEjR/IsLhY4fnyWlVvbrK5scndtm91yk16g0aGL5+ZwlI9DBtOvZO0ohQ5DojCKWzS5WVzHodWIWL/bpBP0OH/xHkeXZzh6fBKUQZsIZehHgO0UnoOifp99j2Q9ajabbG1tsb6+zs7OTlJo6ciRIywsLHDkyJEHDkB81WA7jtIR4jSps/M4n5S8Vr4vXQclvZ0cWzabZX5+nunpaYrFYvK6KDHFXvrTn/7E8vIyMzMzibNfgg6iJhBZt63UM8ZQrVa5du0av/zlL/nlL3/JvXv3iKIoIeMQS5hLpRLHjx/nG9/4BrOzs/uumZBTIeaPG5lMJqnALSmcAjm2MAxptVrU63WazeZA32d7u2H4Mp6NdJqNHVGemJhIAkU2bKeYjId0oGiE++PQEGXYu2G+75PL5fZ51WRCE4mr5IkO28fo5j99sBeItPRZIsWyQAADYygtx7fzku3CJUJo5XvsBUvGpRBwKZwhxyVEudFoJIaqvdCmew6OxugII4zwRSA9l/i+nzibB4mVwZg9otwL2n0JqkgO+yknRmTRAM4BNCwVhh543ex/3YiMeJhkONZdKwXaRGBknjcopePf/V1LyrJjQOEmZH6PbIDCxF/nSGxbxcXKrN5MRpu9/Ox+brPWcXXooBcS9EJ6vYiw06PXjStS5/OGyckC9elxKpUW2e0GjupiTITRGVSfKGNclNK4KkKhCaM4j9PNQMbJ4Lk+vaBDs96lF9a5dfMeyyuzzC+U8HwXW5ZujBXx33ftD/r/fsgaubu7y82bN7ly5QpbW1tJTvKxY8fodDqMj4+Tz+efGKH5MjAsIpgmxemCnPfb1+c5jmGOj4PUZ2kbSHJTjxw5wuzsbBIhtQMKWmv+9Kc/cfToUS5cuMDU1FQyNwRBXPk+3RpMCHSlUuH69eu8/vrr/OpXv+Ltt99OinH5vj9QNHB5eZnz589z5swZJiYm9p3bXoX9JwOpdZTL5Wi320lU2Q5cSCqntPa0bUrZ9jDBTjmEvePzPI+JiYmkgJpAxoq0hxL7+PPI37+OODQzoU1iZHCni3HJ3+12m3a7PUB0HiQXeYSvNiSvCPaUBZ7nkcvlgNirWalUGB8fJ5fLJRPzsKJuMkbSlT5tQm3nGksEO5fLUSwWqVarSSso+RHvZK1WG7pQDPMQjzDCCCN80RCnnu2Q22t7qAnDgF6vQy/okPEclKvQRoNykuJXxkji8l6xrQFJ9X5NNVaD4L1otL0c2x8ZeKNPTqR6l+mX8lJSXSyyjqUfUekXuTLawXHcfgS5n49oIkwkedAOSjm4jsiy+/O/Y/AUoBVGQ68LjZqmshuwsbHNzvYuu7s1Vm+tsb1Rptns0Gx0aTdDel1FFHpEoY9SHvlsjsjx0KFDEOr+euHguC6aWJnkeg6uG5P4KAJMBh1pgl6P1ZV1btwY4+I3T+LnMlaOqqwhe3niogx4FHS7XdbW1rhx4wY3btxIClaJHNv3fZaWlpidnaVYLD6VqUJ2NC4diBHY6/r91u0v2taU77OVcLbdIsTH7oGey+VYXl7mwoUL7O7u0mw29xHUTz/9lImJCU6dOsVzzz3HiRMnEmeIfS3kexuNBhsbG7zxxhv87ne/4/XXX2djY4MgCBLbql6vDwQhnn/+eb71rW8xOTmZVMi2VXs2wXsScF0X3/cpFArU6/UBoizF20Ri3mw2abVa+8ZEmjB/2bZbmijLa57nMT4+nhBl+7ht2zQIgoFcd9lmhPvj0BFl2Cvrni51Ln9LRcJutzswMGxJwpc9oEd4PJDCBNLo3o4ky0SYzsuzC77BnqxJjANb1m9HpwX25OT7PqVSaUDiYku5u91uUjTB/k7ZboQRRhjhccGOMEh+nkgs4/djHqojTRAGdDtdctksHh7aaFwlRLgf0bSraw2NalpRZWO/FkdD96Y8tSe/PiD6aZL8236OsTKgNKBRaIwJ45xmo/uFvfp9jR2L/Mo3G9Pn7P3vNQ5ax5HxSEOnFdJs9KhWmtQqTaqVFrVKh8puj91yj0q5Rq3WpNFoUd2t0qg34toovZAw0Bjjokw2lo1r0yfbbhLB1jrE4KCNJgjbKFeTyTg4nkLr+Lor5cTdpbSi2WxRrzeIIr0X/bbsGvv+7q0jD2fjSOrSzs4OOzs7NBqNpE2PMYZ6vZ4QrYmJiafOhkqfTzqqnLYz07VQ0uv3F7WeDzsu3/cHql3btkaatLmuy7lz57h06RLvv/9+8roEFcIwpFqt8tFHH/Fv//Zv3Lhxg+eee46zZ88yNjaWVEXudDo0m03K5TK3b9/mo48+4pNPPuHKlSusrKzQ6/X29WIGmJ6eZnl5mVdeeYXnn38+cdDZdpMEIp4kUVYqrvhcLBbJZDL7UulshZ8Q5WEOE3t/XwaG8Rn7OOW80m3CbAeIVELvdrv7itTJd4xwMA4dUTbGJN7wTCazTzYL8YPf7XbpdDoH9lweRpxHg+GrD1nsO50OuVwuKe9fq9WSibzT6VAoFCiVSgkpTsue7RwcGTciO0oXRJAJXzyUY2NjySKUloB3u13q9fpAK6hhC+EII4wwwhcJe16R3qZSnEnSRATaGMJA0+l0KZV00obJDCimLQNNSf6ybej2SbG0brJIcvxf3RdvGzBOrIMeiDynYMBE4Lhx5Fc5QtYNhiiWNxNijO7LpR1clcFRLkq5sgsUOm6arF20gTAyhD1DEPQIuhG9TkS53GVzvc7qyhZ3VjZZW91hc6NGrdKm2QiIAoWOYkeB7zu4ngP4QBbXVRitiEJFGBiiqIcyBkcpMhkPxzHoMMKoEG1CukGTrOPiZnxcFzq9iG63g+f5uA59ybmyAu0Kx4kjyNJ6au/6fj4EQUClUqHRaBBFUbJGivO50+kkUaenEen8zoPsQ1vinJbjPu7jEod8ugKzfXxiq8jnzp49S7lc5qc//Smbm5t0Oh2y2WxC+MMwZGVlhbt373LlyhWuXLnCK6+8wtGjRykWi9RqNarVKuVymcuXL/PBBx/w7rvv0uv19hU5FaWdBAuWl5f527/9W1555RXOnj27rziYXLcvQ8rveR6lUikpUHaQnL3ZbNJoNIZGkO37b4+DJ8kp7vc9EtyR+d7zvH3VrSWqbHcMSjthRjgYh4Yow96Ny2Qy5PP5JKpsS01km16vR6PRIJfLDeSCpiOBabIyGhRfbUgkWGvNtWvXeO+993jjjTdYW1uj3W6TzWaZnZ3lmWee4Xvf+x6nT59mfn5+oHhF2tM57DvSnlshysMkLraXUsrwS45QWs6d3vcIXy88rLE1GicjPCxkvnFdN3E4dzqd/rtCbh2iSNPp9IgiA0byYh0MItHey401RuasNNFV1g9W1BjiatjSL1lDvzeybG9MimirmN8qx/peHecSg0I5Lo7qV8HuR54VGTAu/bTmeDfKieXNoaFei9jaqrJ+b5vNjTL37m6zemudTtvQamoatYBGvUezEdJtG8LAwUR5XMfHz3g4rkOk4xZO2kiKjovrZvA9D5VziSKDjhQ6AkMHrWPJuHIdlNJ4nkGbgF4vwsu4KAzZnI/rZlBugCbiyPwcx08cI+t7QFyUzE4rGyYDfVhIcSdpYahUXPhSAg/iPJYx8zTKrgVCSIfZh48is/28hMO2C8Qhb7cyGmZjyD00xlAsFlleXuZv/uZvAHjvvfdotVoASXVsiDvG3L59m2q1ynvvvUc2m03sIpEhV6tVarVa0ntZILa2SHgzmQzLy8t85zvf4Sc/+QnHjx8fqgK1HQBC3J9UjRa7bVK6zaycM0Cj0UgCHHIOBx3fk1aspsfjQc+lUipR48p8nybLnU4nqe+UVquMcDAOFVGGeDC4rks2mx0oKGHfbCHKrVZroNx5miQPI88jfHUhhLXRaLC6usqvfvUrfv/73/Puu+9Sr9eTfKvJyUmuXbvGxsYGL7/8Mi+99BJLS0sDlaiHydnS7Zzs/GRBJpM5MBcE4oVIjsXu2yfHb287wtcLo3lohMeJdETMcZx9a2g8Bh0woENFtx0RhQqMizIKZRwwcUulZM3VfcY8EAVO/y3Sa/pkWYpRRcRkWVkRadVnwmov0mz6EWsl2xHvTyvQTlKZWrl98hxpotDguS7GQNDVtFs9Wq0OrWaLei2WU29tttjcqLK1WaFSabGzWWP9bpkodIhChzBwiEKFjpxYTo2HozIoPMDtn7OHQSJ4GqVCdGTQrsZ1nPi0nT6ZNwbHc8i6WYyJ0Doim/eIdPx3GJm+JNSLi5Y5Edm8y9KxI5w8cRzft9tADU8le9R1RFrESMcG6SMszmPJ58zn8w/VT/aris+K0tlVr58UxO4QSbxNkuRvqWIskV4hgDMzM7z22mvUajU2NzfZ2dlJCK1sF0URrVaLbrfLysrKvkrUQiDtY7FJutg009PTHDt2jO9///u8+uqrnDt3Lklls+309OefNDmTwIYE02xOYKfatdtt6vU6nU4nCYiknSb2eLHP5Unac/a1tF+TH+FNlUpl33U2xtBqtWi328n/R3gwHBqibHs47CR8kV+nI8pBENBsNgf09sP2af89IihfbYiDZH19nffee49/+qd/4uOPPyaKIiYnJ8nlcuzu7rKxscHm5iZvv/02dzuEd7sAACAASURBVO/eBeDll19mcXGRfD6fOFfSk3Z6Urc9i/K6HVG2IROn3cBe2i4InnQxixFGGOHrgWFGjxDlwVSS/vyGgw5dum2NDhyUzqCMiYlhP+cWpVCuk6ipH2j17Eu3hSZDhCFCoTADVbL7ZFk5MTnvk2iFmxBnDBitIPJQTp+0RqADTa8T0m73KOQ1WkOjHrG1WeXu3W1u31zjxvU1bt64y721XRq1gLDn4vslXJWDqIQxLhgHY+JCXx4Kx+2TcQVxwbMQbTSeH18Ho+PiYToKAIPjguPEn3Mdhec6uK5D1s9TLPq0mm063ZBsPke3G9DpRH2iEUeKu70OmUzE+GSeEyeXOHHyGBnfQSURc5VE9e1o0qNKsTudDo1Gg2azCZAQYmmnWCqVGB8fp1AoJAT6aa+Omz63tArxQcjEF0U45HslbcJuWSk2iFSjFhsG9ghwoVDg1VdfpVarcefOHd59910qlQqu69JsNpP0C0lXtKOOnucRRVGyjeM4iQpP7G+pA1Mqlbhw4QKvvvoq//AP/8C5c+cAkgK7ts0zLHL8JAmmba8dFEhzXTdpn9RqtRKSnFYcDBsbT/LZOCiibB9nLpdLnl9bDSCflR7a6ddHuD8OJVEWL4/kV8mgtXNGpB1PuuDCCE8vwjCkVqvxxhtv8C//8i+sra0BDPQ1Tk9c77//frLNSy+9xIkTJ5KJJZ1vks5htvcl/3ddNzE+h0lwwjBMWhHYFbXtsf00Gx4jjDDCk8WweUXmJTG4bUhkV2tFGJCQMWVihmtM3CZJOkap5J8HgKioDTExVk6cM7wvt7kfdE4KhkFcp8v0pdfxsSjTPwijMAGxnLpqqFY6lMtV7txZY/3eFtvbVba361R2mzQbAe2WptMyhJ0xHKNwlQdRFkMGZbwkaq36BcOU0kjhMKNico8boYwmiKK4QrbvMDbuUyyMUSoVGRsvMjYW/4yPjzE+ViKfV3Q7IWt3Wnz435dZXV3HGIcw1P3rqtEmRBvws4pTZ47x/dde5MI3TlIsSSQ+JuD2tfki0shs6XWv1xuo+huGYRLJlD67TzNJHiatfRSS/DggdsZBTnWxQSRgBAxEQF944QW01uTzed555x1u376NpDTa99w+P6nvIi2fhCiLE0WOaXZ2lldffZVXXnmFb33rWywsLCRjSsbOMAWEkDY7APEkINfKVtXIb+EZcp7dbpdWq5WkHuxVnmfAjjsoyvw4kVZA2rD/L3nK9mfs4+x2u0mLqBFvenAcGqIskBsq3nDJoUgTjSAIkpwCYMDrNixaOOz9++UhpHGQ9Ml+aOy8V5nExIsrrYUKhULS3P1RH7IHOf5hi6ntaBhWgdD+TPrvYdKTg75r2LWC/Z6wgxZ8+1raaLVaXL16lXfffZd33nknyasCkoffHiuO43Dv3j2CIGBpaYl8Ps/s7GzSBzl9rgcdm31eMi4lXyetaBBZlFQXPMiLOcKTw/0WGXubh50T7vddw/YxTHo27DmyX7/fa/fbZoSvL+xIiV3nI5ZFxq2U0DF5azRaBL1oIHIZ/7AnpVbW2ittiuxxdkCAU6EwxgG8AUm11pq9Ctn9vGWtMNpB6T5ZJ5aG9zqGbjuk2WxTr7ao7bbY3uqwu9ukWqlz/cZt7t7doFKpU6916XQiMBk8p4DnFjE6g4eLo1yMcTBGorQG5cQ/qADoYVQP5US4niGbc8lmXfysTzafJZ+P1+6JiSKTE0UmpoqMj5UYGysxVioxPl5ibGyMXidg9fY2q6tXiXREFBmiMEQpF8/NEkQdjNHgGJaOzfHc82f4zsvPcuxYloyv+pXC7/9cp+eR+xHovV0Yer29/GS7RYz8bRdRfVpJ8jDJKuyt7Wl77kGd249qzw2zlaQAlRQMtWXRQBIksiOGtj23tLRELpejXq8n97NSqSR9dMWBL6TZHgO2+sS2d2ZnZ1lYWODcuXP88Ic/5M///M85depUQjKNiVsUHURIbTwpVZ0cv6QTCImX8Z8OiPR6PSqVCqVSiVKpdOB+bdL/JDHMGWq/FkUR+XyeUqk0kHduH7ekXnwRjrevEw4NUbbLycsAHxsbS+RB8nDLdt1ul62traSCm0g+7OrGaWmKvGfnYDzIgpCOdtsSCPHWi2xF8n601tRqNdbX17l27RqFQoGjR49y8uRJisXifYtJfRbk/OS7D5K2COwHSYpMiffP/ow8VPYEKn/bBRjSi429bfp62ceaniDtz9n7lOOUgiJyXLu7u7z++ut8+OGHNBoNCoVCQkzTMhPxjodhyM7ODj/72c8oFos899xzTE9PJ/IUu3G7KBfktTTxtsvwj42NUSqVkkh22kEiMqUwDPf1KhxFlZ8MbI9qGunrb88vw3LTD8Kwheug70hvZ48JYGAM26/JtsP6yqeN5idVJGWEwwuZjzzPS6IpEk3MZHwyno8hllLu7OzQbHWJIvAyoCNDpOMCXIa4JHOca6vRkcZxVb8V05Dq1+lhpxXg9UXX/QpdBkwUEEUaBwfXyaAcjyik3zJZoSKIQui1obwdsX63xc3ra1y5fJNrV1fY3Nil3Q4wxqXXC4lCMCYHpohnPDAujsmCyeKpDDhxTFvriFAHBGEPN6NxHY2TiTC0MbTQNMlkDfmSx5Ej08wvTDI3P8Op5WUWFxeZmJhgYsKnNOaRKypcpfp53fE1MQ588G6DTy7f5ndv/J52E5Ty6bQ1+bxPPp+j0Ykrd/s5hxde/DP+8pULnD6dIz/uxL4Hx1Yx7f1tqwLsucFeU4atp+L0MMbQbrdptVrJHGfPLb7vUywWkzoeT9s6dVAQQN6z59gwDBOJ85OIvNk2rygp5+bmKBQKKBXnnQo5dhyHbrfLxsYGYRgmNo6chzz7s7Oz/N3f/R3nzp3j9OnT/OEPf+Djjz9mdXUVpfb6JUu1cxu5XC5Rxo2NjXHy5Em++93v8t3vfpcXX3wxCTrItRR580FOCLGzvwxIRLlUKlEsFmm324RhmPSDBpIK0UEQcO/ePebm5gbaf9rno5RKtv8yqngL0ra12J2lUomZmRk8z6Pb7SbHDvF51uv1pLq3BOw+Dxf5uuDQEGUbMghF4mr3gRTIgyyThE3ibNIj+7NJ2oMUGEhPkLIPe6I1xiREHUjyfRqNBuvr6/zqV7/inXfeodFoADA5Ockrr7zCX/zFX3Dx4kU6nU4yET7MIJVjsR0CNslLT1Jpr7Ecvx2FtRdX22Nmk2d7n/Y28rrd2zh9L+Va2Qu7HKuQcPmckFzbedLtdllbW+O3v/0tN27cSCY2uQZC+oMgSBYBWzZULpd5++23+dd//Vd+8pOfcObMmeS7ZUEUj6h9fvZ5yDWWHHpxigwbO51OJ5moht2/ER4fbKfPMMeObJOOyqQXi/sR3YPeH0ac7e+R8RoEQSL1koqbYgiJI2ZiYoLp6el9DqaDyPko/32E9HgQ5cte3p2LwaB1iDEhrmtwkjZM4Dh74yvuuBSTZqUMrtcPJCuDFOiKo78mySkmGZuKuBhWLONWqH5v5DgTWam+owgHIkXUhcpum62NKuVyjZ2tKhtrZco7HXbLXRrVLpVyk93dJs2GIQo9HMfHUIjl2bq/LxyUExck06EhNB0wOj5mR6O8iEwmwM9CvqAojftMTo8zPZNndq7EzGyBqdkCExM5SmN58oUcpWKJQjGOSmVzLn427vNsIjAhuC6Ud5rcuFbmzTeu898f3Cbo0S8Spsjl8jiOIgjboLrMHRnj3PmjvHDpKKfOTOD6zsOmGx+I/dHkvWvd7XZpNptD09XEDhEF39MM246xf6f/hieTw2k72CUwYecn93q9ARuu1Wqxvr5Oq9UaUAfYtohSikKhwDPPPEM2m+WZZ57h6tWrXLt2jXv37rG5uUmlUkmCDGJveZ7H1NQU8/PzLCwscOrUKZaXl1leXmZpaYnZ2Vkymcx9183DBCHpdjXodIBMzkVUqnK9006VYePly0b6+DzPS9IChx2n5Lfb9QcO0/kcVhwaopw2Wj3Po1AoJJ6d9M0UoiwRUpug2ZOGfO4gomx7YtMGaNrYTntZ7W2EQAVBwM7ODm+++SY/+9nP+N3vfkcmkyGKIrLZLBsbG2itOXnyZBLZfVjYhNbOqx02yaej9HIdhCCKA2JYhUU7kmzLxdPRNpvQDis0II6ObrebkFj7e+xonn3/7Ou9ubnJ5cuX+fDDD9ne3k6KT8j1z2azyQQuXlL7eHu9HleuXOHnP/853/jGN5ifn6dUKiXXT7yE96tSbZ+77/sDrRXS11wkLulrOsLjx0FjMe0Qs0msPX8MI9H2b4GdE59+LuxxFQQBURQlKoNer0e73abRaFCpVCiXy4nRIrK7qakpjh07RrFYTBwyaYNumLE7wgiwp6qxW/0kSpm+saRND9fTOE4EKsQYhXKELIPd2kn1q3kp0VlLa6eBatf02Vn/mSAmsDqKXzEq3iYKHYJAxwWu2i3azR71So/1uzVu39phfX2He3e2ubOyTq3aodfVeE4OTAYTOUSRj8JFqSyOiqPjkfRWlmrbJs4FNibA9Qx+1iFbcMkXfIqlIoWSx/iEz/RcnoXFSRaXplk6Os/c/DjTMwX8HLheLBYPo6A/n2gcL74+OlSYSBEZCHqaldVd3nj9U95/9yp3ViroKIvWYIzCz2XQukeoW5TGHc6em+O7r17g/MUZZhcyOBmDcoZE5D8Dtl20334Z3A6g2+3QbDaHKleAgTXtaZ9LbJvuIDwJkizHIt8na4o4uGz7QrbrdDrs7OwkajZ5b9j5TE9PMzk5ycmTJ3n++ee5ffs2165d49atW6yvryfBC7uA1fz8PMvLy1y4cIGzZ89y5MiRxLaypdqHvTK63D9Je8zn81Sr1YHztYNeQpSlLdZB5Dhtvx4WCAc5qL6AMWagGJy93WE6j8OIQ0OU0/A8j7GxsQOjrWEY0mw2kzL5ElG0o6uf5fWyH3wYJNNCmuyHQQxfiT6KTMbeVyaTYXt7m3//93/n008/pdfrJTIPpRRvvvkmk5OTXLx4kbNnz+6TrDwIbOKblmTJwy8kV0ioLbOQ62FLr9OTghj6vV5vIMoq32m3WbLlW7KPIAgSgg2Dcup0uwJpKWDfFykoIfv48MMPef3112k2m0nBglarlZyPyJUWFxe5fPkyGxsb5HK55DwymQz1ep1PPvmEN998k4mJCb75zW8mE4vkG3e73X0VrdPXR+67yBpt6ZOcV7PZpNVq7fNajvD4McwRZuebyTZp55rtWLLnBdsDnZ4LZIzaaRDynpBhqTS5ublJuVymXq9Tq9VoNBpJLrut3JC0iGq1yuzsLFNTU+Tz+aHSazmXEb6+SBMm+a2USlKXxLDVOiIIegRBjzBsEoZNjOmA6aK1wXXcOCILcSTW9Nu9YNBRFPcxph+9VfGPUmovmmzij2ndVxGbuHOSUkBfUl3bhe2tkLU7W6zcvsetG3dZW1mnutum11X0eppuJ6LTdjCmiKs8XJVB674Dqp9r7boOWkMUxetFZEKMClFOiFIhjqvJ5mBiKsfsfJH5I5McPT7L8qklZubGmJ7NMz3r4udcvIyLg4dSBuN0iUxcjdvNKFxPo0xAGPRQxgN8HM9HKRejDev3Onz4wRq//uVb1HY1nbYHxsFEsURduZrItFBei2cuHOfl75/mf/7tmZh0ZwP8gotSe/2l+xef/cx5L3F8754POsz2bADQ2sQyeeJdyXyUdvDJXJfP5xNJrR0AeFqN6DS5tG2ZYWqgLxqyzsixSGXmXC7HkSNHmJ6eJp/PD0RB5TONRiNZf+y1ybZ7hRCJJLdYLHLs2DEuXbqU1FGxia89DgqFAsViMbG/xekvajr5Hlm7HiXg86Tgui6FQiHJO04HRGCPKFcqlaTt7DBHQDpQJvv7siH3XuxrsW3kWbfHhASSRGk0wmfjUF0le0JyXTd5UId5cKIoSqJ2ctNlUksbymmPybAJMO05sr0v4pEHBgzr9DE7jkO5XObWrVtcvnyZWq1GJpNJCKFMTp9++im/+MUvGB8fZ25u7pGuU/o804Q/HZW1Dfl0ZEqOLz3ZKqX2nbtNYod5MeUhtCPJt2/f5t69e2xtbTE7O8uRI0dYXFzE9/2EGIhkXRbqdD75ysoKV65cSYiFQCaG8+fP89xzz/Fnf/Zn/OxnP0skNPZCYIyhUqnw9ttvs7CwwIULFxICInnwNtLXyf47m80mec7D0Gw2kzYcB+1zhMcP27kxzKAUpN9LO83SxBtIxky326XT6STzUacTR24ajUbSjqXVaiW/2+12Un1Sji0973S7XcrlMuvr64kjxy7qMmxeS3vBR/j6wZ6TJX1Jxmli+CnIeA4Q0ek0MCbAcWMSppSdcmKsXwpHuYDTJ3VOzKNNLLFWqk+GRe5rQEfQbUfUKwG7u1XKO1V2tutsrrfY2mixs91gd6fBbrlFZbdB0DU4jk8UKsLAIQji73I9B0d2rjTKiVBKx92idA+NAScil3UplHwmp6aYnikxPVtkajrL1EyOmdkcE1N5pmZLzM1NUihlKRQz5AqgHIPB9M/HxDW6nTi6joqviWM0jtvP144ilAtBALs7HX7z63f44xtXqFUjOh2HKHBROChH4TiGIKozMeVy9OQSr772DV64dIKxSQ9NF9weuArIgvRu5kHXicH5a484W+oZBYa4F3an06XZbGHM4Hwo4yVNlG2V19MG29Y56Fo/TH7y55lz7dQzqbVj9/6VY4H4vna7XarVauJ4nZ2dTYiuXanZdvDK/XZdN0nrsYm32D42ubJtPwmq2PVbhikxDxNsJ4QQZTlWu+6RjAWxQVutFr1eb1+esv282Gvwl4E0X7GJsp1qY28vtruo2qRyur2fEYbjUBFl2BuM4gUS71UatoHa6/UoFAoDMmR7fzZRtA1d2G8Up71x4lmSCVWiqfa+bFnz5uYmq6urlMvlpNiCSC+laMLa2hq//vWv+au/+iu+8Y1vPPIgTRvv6Qj6sPxZed+OPKSJsl3EQoxzu2iALde2v8MYM/AQdjodKpUKb775Jh999BF3795laWmJ06dPc/HiRebn55mcnGR8fJwoimi1WsmDLhO25HGurq5y586d5J6I4SfG4HPPPcdrr73GSy+9xNraGisrK9y8eZMgCPZ5jD/44AOWl5f58Y9/nESPZXEYlrsy7JpLRPmgKJ+QpmGfHeHxIr2I3Y88DrvH6SizbGfLlmQOkSjN7u5uIqGWaHGaGKf7YtrqDFvFIfsWid309DRTU1PJ8dnRHnv8jYpyfD0xTIIvShw7omw7eFwXMJpGo0YYBXtya0Ws21Uq1kqb+A2VFOzq9x/GwUQao4n/3yeyQRQR9gKCbki7GVDZ6bKx1uL27bvcvnWP2ysbbN6rsLvTJOw5KLI4Kg/GQ6kMuBlMZDA6xGiDUQaiiMjpt3ByQhRh3MPYC8nkPTwvdrZOTBWYm5/g2IkjnFhe4PjxeeaOlJic8iiOQSYLbgZcj3i//V5Y2miMivsbK0eB48mFJe4DLTaJhw4V/W5R7O50uPzJBr/6f9/i2qdb5Ny5uMWVEZIcH6Py2hw7uch3vnuO7756gaXjYxh6uJkuyg3RSYfpfo71Izy/e05y+kS5Pw+iwBiiSNNud2i3OzCksrbURsjn88nrT5sKKn1dhzn6BQ8TUbbXiYc9HsdxkjQxsbXStq8dzIC4tky9Xmd1dZW7d+8yNTWVrE02QbLXB7GbJL0nnc4j9p0UgUqTZ1t9aJNr+zsOI+T+5XI5xsbGBgI8aUeR1jpRf3U6HYrFYrKP+9mET+IcBAcFb+T/cm/tQrj2udpEOS3pH+FgHCqibN9QeTiz2Sy+7w80yRZI0SRpnG4bA4L0IE9HXe192UUuhFyLV08KR9m6flvaLPsUOfj4+Di9Xm9A3iJeW6UUtVqNTqeTkOmHgR0dTpNjexKwJTX2sdtGv5yLEHox/OX8c7lc8h3FYnFfoSzJXRGJj3gsXdflww8/5Oc//zm/+c1vuHXrFt1uN/HsTU1NcfHiRb797W/zox/9iKmpqYGCXEJam80m77//PleuXGFnZwel9gqSCWkxxnDq1CmeffZZ5ufn+d73vketVuOf//mf2d3dTTyKIiUvl8usra1x7969RKYi98Huj3y/BfQgoiz3QMblQYqG0eT0+GAvfGkZta22APYtlvK3vCcyaskrFuJbqVTY2NhIXqvX68l78mzIGLWNICB5Dm3vvBgycjxi8EjROBmXaUnkgzoERni6MSzvVOZ1O3XGdR0yGQ8dRLTbLba2NM1GgzAI8byMtY89aTWofvumOIIsvx3iolY4iqALjUbE3bUyd9c2ubu2wcrNu2xvVGjUApqNLq1mQKsV0Wkbgq6PwkeRBeWjI0UUaSLdwvczeJ5Dxs9iTICmG/+YLhDg+ZDLZyiN5zhz5hjHTxxl7sgcS0tjzB0pMDbhk8v5ZLI+XsbFz4KfBeXF0WMwRFFIZCKM1qBUHEF2+w4BDUm01jiYfvVux/VxHUUUKdoNhz/+/lN+9u+/Z+12Ex0WCXQWlMLzFZ6nCMI6GT9k+ews3/sfF3jthxeZnMti3A6O10XTAq1xXA+IAP1INb2MkeM9IDIa6SSoMKxDhIwTaXv4NM4jw0iFkDzbbrLxuJ0FabWT2E+e5yWpZMeOHWNjY2PgvkkA4datW9y8eZNnn3126PGKjSr5qGJLy3tpR7Ao9WStke+SAI84dYelGx125HI5SqXSPlWWDVnvRf01NTU1EBST37Ya4UnioDFsvy6cxbZrBbbNLMG7kS36YDg0RDn90Ip3JJfLkcvlEllK+qbKAmAP+s/yAKU9icPkB/K3PdDsz6TbVcm2cjxBECQGsz0hyzHv7u5SrVZptVoPnac8TPZhP7RpZ4EtvREybEfARG4i5K7VaiUTs0yupVKJEydOcOrUKU6cODFwPdLR2CiKaDabfPzxx/ziF7/g8uXLVKtVHMdhe3s7WZi3trbY2tqiXC5z/vx5Tpw4wdLSEsViMdl3rVbjww8/5N69e3Q6nYHJOooixsfHOXPmDGfPnmVxcZFsNsv58+dZX1/nj3/8I1evXqVerw91lqQjcw/jHRXp9UEFLXq9XjIO0vsdTU5fDoZFEGyyacuebTm1LJxSnbrValGr1ahUKkmqgXhoZY5KL2DieJLnMJ2bL/OdPRd5nsfExMRAVDA9V9lKkNGY+vrioKiWHWWIDV6DUrGk2RhD0IsIQ4Puk0EgjiQjkWOFDvvxZAVoCLvQaUO91qJWq1Op1KjstijvtNhYr7C1VWFna5fyVpV6pUWnHRAGoCMHgwc6gzIeruOjVAaFiyYCFaEcjaEvp9YBbiYil4ViKcf4xAQTkwWmpktMTueZmvFZWlrkyMIckzOTTE3lKI1lEL4vGb1Ov7J3qEPQBs914x7Kpv8cKSFL0mfZygVm77ro0ENpRaPW4U/vrfLWG5f56INV0EUc8oRhX5auNBFtsoWIpeMlXn3tWV78i1McWZoAr4tyI5QbYcIIjEG5Tr9i98NAbKUh76ReE7VWvB71MEYP2FpSFVh6zcIeeXua55TPiiin61p80bDVjrbNJkGi5eVlLl68SLVaTSLB8pkoitja2mJzczMJWNj2mL2m2SpNGJRx28omuSb2cYiNK++l7WzBYRwn9v0VopzNZpOCdnauPuzdD1nfxcEg78k+09/xJM7joGcx/ZrcSyHK6W1tpezDpBZ83XFoiLIgHSHN5XIJIbEjLrKNGLMP+tAOI8n2hCGvSbS60WgkkW27d5xdrEoirN1ulyAI6HQ6VKvVpN2LlGx3nLgHXqPRIIoidnZ2qNfrjI2NPdQDZz/kw+SXtrEu74n0u9FosLGxwY0bN7hy5Qqffvopt2/fZm1tLYlwAwmJdxyHyclJlpaWuHTpEj/84Q+Zm5sjm80O5L8I+e31ejSbTcrlMlevXuX999/HGJN4uVqtVhKdv3HjBmtra7z++ut861vf4gc/+AE//OEPOXHiRBL5rlarfPzxx5TL5eTc7Xu1sLDAt7/9bU6dOsXExATGGBYWFrh48SIvvvgizWaTq1evJnJtrTWTk5NMTU0lE6ddYGxYBHjYmPJ9f1/PSXss2RIXuff2Iva0GyFfJB5V1pb2/A4jr7aMLAzDJF3AdiRVKpWBAlztdntA5mY/a7JA2URWvkOeGclPFumanVcEe+oW3/cToqyUSpQW9liyU0MOexXSER4Phs1VdkRInHqVSoUojHDwcJWD57pkMlkUHkY74GTi3scGJAc5iiDsAWgcVxMFhmbdsLNtuHF9k+vXVrl29RZ31zbZ2a7QaYdEkUEZh3ymCLpA0O4RhQAKx82glIfjeDiOFLEyODpEuRo34wC9mCybNn7OY3q2yMnleU6fPc6ZM8c5sXyUI0tFpudV3KJJxYcOMUnUURwId2Mlc5ynazS9Xiw79jIFHEf1i3dJJFZhjEJHmijay22Mn6sMRiuiHoS9iI27u/w//+uPvPfHWzSqhvGxEsrJ0emFeB4oFRBEdeZnivzZ80v87Y9fZHZ+nMiEeEr3Ze4OWrv9g/NjSftDkuWDp0VLJQNEUZx7Ga/v/ci1FVGUXrNClJ9mp1s6IpiuD2E7EB53RFnWH3H+2wTW8zyeeeYZLl26xB//+MdkvbHlsuK8FaIsNowQIVlP0uopOS87ndB25EslbIluC2zbxSbjh1V+bR9TNpulVColBVhF7g6D912uqzjBpZhZ2i580vbbQY7QNGyiPOye2BxhRJIfHIeOKAtkIIonSEhYejKTXFD7wbdhD+5hRrIYq2LcNptNdnd3uXfvHqurq9y6dYvFxUVOnjzJ+fPnE1mx3Y9M8j08z0vk1kIO5aGUyoV2pFoqYj8shhXSEoIrEQR5LwgCyuUyN27c4Pr161y9epUrV66wvr5OuVxOik5JTz65tplMhkKhQLvdTrxrvV6PiYkJzpw5w/LyMpOTxFeY+QAAIABJREFUkwNRWSBp6xVFUZJ/LE4Dux0VDPYbfuedd9jY2ODy5cu89NJLvPjii4yNjbG6uspHH31EtVodaJcg7ZwWFha4dOkS+XyebrebtFU4efIkf//3f08mk6HT6bCxsYFSipmZGb75zW/ywgsvcOzYsURybisD7OuXHpNyjcVxIsTIXjyEwEh+dbq64GiCerwQGZltENkLXLfbpd1u02w2k/lje3ubWq2WOLLkmZDicbZRI3l8Mmbsey9KElvFIU4kO1Ug3Y5KpFACrTXtdpuNjQ3GxsYoFApDx+NBnu4Rvl44aK7yPI+ZmRmOHz+OMSZOU9Jxvmohl2FiZhoTeXRbGt/rS4+NAhUT5G4Hel24u1bm2tVbVHYb7Gw32dxosrvTpFpt02z06LSh1xknCjQ6MJgI2o6P0god+rhOXKXacRXaRGgdEZkejmNwXIObDfCzDoVihoXFaRYWZ1g8Osv8kTFm5opMzWQpjRUoFPMUijlyBdVXhIfEmbiyJhoUJo5+K5VwT6XA9+0UJ3n2hFYCGHAUjlVQK35E48JebgY+eP8Wv/v/PuGTj+7QbirGxxbotiGKOjiOIozaZP2Quakc33/teb7/6kUKpSK4Cs9zMcZFawfXyeGSQ2uIAg/HjR0H7HuOzdC/jUkX77OMeE2/CHlM/oMgVngJOTBGD9gQmUwmaUP3dXK22TbUQev94ybL6eMRG1f6GZ84cYKZmRl2dnZotVoYE7cUleDF7OxsYlfZ99SuqyOBHLE1JfVHYKcnydokjlhbOWkTYsl/leM+rJC1WexSGefidLaPXf7faDQol8vJvUjX+pFA1Jf9rKT5jEC4iO2wt9UGj1sp8TTi0BJlucESuRvW90xyNaTvWbrS2/1gG7g22dze3uaTTz7h3Xff5fLly9y5c4cjR45w7tw5Go0G586dY3FxccDwFjiOkxBlmUjsqBXskbC0N/NRro88wOnCCpIrLbm4165d47//+7+5fv06N2/e5Pbt2wPtBWQf9r7ticCYuEjXysoK165dY2VlhSNHjjAxMUEQBElU3SYFxWKRxcVFzp49yyeffMLu7u6AUS/yIYgnaiHu5XKZO3fusLKywvz8PNevX2dlZYVGozFw7wDy+TxHjx7lueeeY2JiItmXUipp/1Sr1fA8j2vXrgEwNzfH888/z6VLl5I+yg9KNuz3fd8nl8sl5572SksEX6L0thRqhCcDW2Ykz2W326XZbCYRYiHLOzs7NBoNgiBIlCH2fbPv8zBVivy2vfXp4lrpegbpz6ZTS1qtFjdu3GBycpLJyckB1cOwcTuqev2oeJhn8rOu7aM+3/K5g3JN77dfgzF7HMv0lcNOfy6em5vn5IlTdNo9qtUaURBRyBrmZmY5e+Y0UxOzKDKEXUW7FdBqdmm3O5TLTcrbDRr1gLU7O9y4tka53KBSblLZbRMGCq1dlPHR2kVrF6PjtkqecvpFuTSKODfa9QBHgw5QboCfU4yN55icKlAc85mYzDE9k2fp6CxLR+dYPHaE6ZkiYxNZsnlw3L1CVcpFCkT3ezybuMIW9MkyoOLrEvd/VriuZ11Juc5G9hA3vVJgrECM1vHXdFo9Nter/O/3bvD2W1e5t1bFBCVyfh5FAAQYAlyvy8xcgW9eWuZb3znHsxeP4eVAuSZ2EkQuxkAUuqh+RDuKVFxE7MCxNeze26qk2EEg9970P+I4cQXssN8hJIpClIrbRsGeo0/yk9M2Vnwtn865JE0ghr33WUT580YV02tIOmVuYmKC06dP8/LLL+M4DtevX8cYw8TEBMePH+eFF17g/PnzeJ43UFQ27Ry2I4sHrVvpc0qTw/Tf9rkf9jEitrHv+0lwY5hzRP4v0ms76gwMrOvAl06UYXikWQJ/94vyD7vnIxyMQ0WUhw1eISTDqhELUZY2QAcZsIJhhEi2t8ngb3/7W376059y9erVZBAdP36c9fV1fvzjHzM5OZmUmk+3FBJj3PM8Op3OvjxEediy2WwS/XxY2J48Icm2l0trzebmJm+//Ta/+c1vePvtt5PWSnYCf9rwt1+XqLjjOIlkZXt7OyliJN5JkZfbXkhj4l58p0+f5i//8i9ZX19PiLKdo2mTENnX9evXuXXrFr/85S85fvw4WuukgrhArt/MzAwnTpzg3LlzSRESKYihlKJYLPKDH/yAl19+mevXr+N5HvPz80xPT5PNZpO+zsN66n3W5GG37EnnH8s9SRPlEZ4MxFnTbDap1WqUy2V2dnYGqlJLrrGoOtL3cJjRIePWJrzDohLDItn2vof9tvclaDQafPDBB8zNzXH06NFEFmlXpbe9/CK3Gy16D4uHeDbNkGsrfEsI2wN9X3q7PqNDkeiFD9x+f8FKbTQOTj8iDAoH13Fxsx4L84sok6FR65DNlAl6mrmpBc6cWua5i8/gZhy0VrSbcPdOi9XbW6yurnPl8g2uXL7J1maFMICMV6TTjgh6YLRHJlPAc3MYnSEIIsIwdgzlsjkKuSxBr4XWXQwRyg0xToQ2PbTTwctopucnOH12gQvPnuLEyUWOHZ/m6NES2Tx4vuq3TYqjwk4mllMrAG3iP1yF6/avl3XdkytniIt1GQUq7mlssOW30i86Zt+Oo5IdaBNXig57BqVcyhsN3vj1p7zz5jVuXt2gVVc4GJQOyBdyRBo6vQa5gub0M3P8X//3/2T5dJHCGODJnKJxvAxRpOl1I3zfw1EOYc9gvId7ZuND1hij2P+4xwXKlKPQEUShTmqOOE5ctdueo9K9cb8udQ8e5twex/ot9ppc816vl6TnAJRKJZ555hn+8R//kZmZGf7jP/6DIAg4evQoly5d4kc/+hHPP/88juMkjl2xR2yiawdmbDvNrp9i5y/btmA6dzltu30WIfuyIfaYRFmz2eyAJD09zpVSiarMttvsQMeXbcsdZJvar6eDN2le9GWfw1cNh4Yo26XohRRJMa9SqTQQ/bXlHxIdOshDlI7cwCDRlIdGcln/67/+i//8z/9kY2MjmUSErP3ud7/jhRdeGMjNleOwvy8tcbAnqiiKyGazTE1NMTs7y/j4eHJ8wzyZ9vcIhsk3lYpl4ysrK7z11lu8++67/OlPf2JjY4Pt7e1E2pmWy4g3Urxn9iQp2wihcByH2dlZTp8+TS6XA0gKraULIwAsLy/zox/9CM/zeOutt/joo4+o1+uJIyFdZdwm0r1ej42NjeS+27nAIn89evQo8/PzST6Gva1M8EL0T58+nXxOtpfPyAIj9ywdBQSSBU2unRgT4+PjVCqVpPK6LDrGmCR6KeN52DV63JBzetC2VzYexNNoj9P7bZv+zmEE0p7A04vXMKeXSNylb7FEh4Ugy9+SVywyfyHH9vNgpy78/+y92XMcV3I++p1T1St678ZKcN9EiZRISqIkz8j+acaOGfveBz9ch9/81zn85nCEI8Yxyx2PpBlJ1FytHIniBhIEsW+N3reqOvehKk9nHVSDmwRhJGQECaCruurUqbPkl/llpglyeds4bUkpnyJHOQiSySTGxsa0B5iS9FECvTt37ugxTeU/Op1OiLZNIJ/aYlkWVlZWcPv2bbzyyis60zqnffNzf8iK7eNktCfscUrBbtAaouNCBQA0qL0z0uOrfN5r1JWEea7H7ktAWADwPY1KCXieD64gAMsSwSX8Wr4AGUoClK4UfN+n79FVSmlQn7ASGC+WcfXlV9Bt9+AMFNxBGp4Tx43Pa1hdWcXa2hY2N2rY3mphZ6eDVqOLeq2FesOG2y8AroTrxgDPgyUAJSXg2XABSHiwLNoHXXiqgXa/ClfVYMX7SKYliqUcyuUCJibKGJ8oojKew/hUGqVyBvliDqlUCplsAumcX7qKkm2roO8Ed7havDPp+WGc5FOzhfQv5HuYBZTrYTBwYdvCL5EFFWBsASgFz3PhuQGdW1mIWzZWF7q48ckG/vj/3sbiQhvCLcB/8phfxkq1IWQbsWQLb/zkFfz07y7i6MkU0nnL17Ak9PgRQkBaErFEUKcZHux4kDApcu5Gz2chMAT6oHEgMPQ0KwASUgIDp4eNjXU0mw29F9B6Qx5lqjpBlSEoW/oPSUxWF3++KA+qqcOZwq/1vOsuJVTj+45lWVp3+ed//mdcvXoVnuchnU5jfHwcx48f1/ofp1pH7cUm4CXd1zzf9D5H/c4dC38N+w2FPQHAzMwMtra2sL6+Hvn+eNjczs4O8vl8iMlF+ifXk/dLRt3L1NnJkUTznOvG9I8bAUxcdSi75cCshPTSzKRdPIkWsHuwUIyhSVuhc7kViHuFOPV5MBigXq/jiy++wMcff4wbN26ESrhQLO2jR4/QbDZD6fPp+zTQ+GDkg49+dxwHY2NjmJ2dRblc1kW/o6xVJjigAU7XpmceDAbY2trC3Nwcbty4gT/84Q/48ssv8eDBg9Ck5n1C149StGkz5XHHyWQSxWIRp0+fxsmTJ3WcJgeQ5vusVCq4evUqYrEYKpUKCoUC5ufnsba2pkENp7fwTcLzPDSbzRBwoHdH4+LcuXM68Rfvc3PRj8fjKJVK+hp8cyCwHhW3wY0z/H3w62ezWV2L2bzuYDBAu90OecPN59wPifKQP26RNy2p/DMAuz4bZaEcBcCjjkVZOqkviUZNIJcSpZH1t16vo1araZBcrVY1KOYl2sxrc48sHxujjAmkXJB1OplM6rIqmUwGuVwOlUoFlUpF1z6mBHeUdMV1XWSzWcTjcayuruqSUr1eD4C/sfNs+VtbW1hcXMS5c+dCyhRfA4D9H1cHUwhwKuOzJ/ke/93w4JInWXuUh95H7U1G4OkMAeDwPfxxFQBloXwgrRRUcA+l3OASwwzMUvqgx1MKynOhlAMEcbhKERAUoWYLz6cNey4w6AFOz0IMGTiIod8foLrpYG21geWlOubnH2FlaRVbWzV0uw6cgX9doSwAcQgkoSDgBnRuyx6u0Z5y4GIAKQVsS8C2JaTtwor1kS3GkS0kkS/GMTk1jpmZKczOTuPIkWlMTpeQL9qIJ3w3sev6fWnbYcNCBDyJeHf8nYR/3z0dhv2kVEANp7nkun7/esMyPN7Aw71v1vH5x49w7+Y22m3AcxOwoCAkIKUHx2kjUwAmjlTwxlvncPX1kyhUbFi2CpEDCNhKKQIauQcFDxYB6ZHU69EKchjM+PYS/sxKeRgMeqjVdrSexLMnA/7+SKEdtMf+0Jgpo9Z+DjK495F/by/v27cBljjA4UJ04XK5jHK5jMuXL4+8RhTIGQV06e8o6nDUeVFt/WsQ7miivCHlclk73rjObSZl7ff7qNVq6HQ62uDNMQpdHzgYxgLzXfMwCq5TcwcDHfs+HDh/bXJggDIQtnZxqxrRJbjVjwY0rwvGi6hHLRI0KDgdmiyrW1tb+OCDD3Dr1q1d1hfA95zm83lkMpkQTcnzPDQaDW3941m4abBSFkFqW7lcxssvv7wrrhbwlWoeiM8nL4ECagMlE9va2sK7776L3/zmN3j33Xe154ySjvEJTR5PDrqJekXgt9vtai9ZLBZDuVzGzMwMXnjhBfzN3/wNZmdnNQ2U2ssXe04LzeVyeO2113D69Gn87d/+LT766CN89NFH+POf/4yNjQ39DFSGilOVqY5zNptFo9FAq9XS/WVZFt58801cunQJlmWh0+no9xTl5eQ0fSo/xYE1p+eMEhMo2rYdyhTKN14am5Qh+fsQ6gNzE+DPYJ4ftfHvpSxEKRVRGwh/D1wZ4XPT9NrTNXlc8ebmJra2tlCtVkNlzQhA05gGoMdWVBZ4ajv9IyWRhzLw78ViMSQSCT1Oi8UiZmdnteeYDCbkiaFM1jQfisUixsbG8PLLL6Pb7SIej6PX6+HGjRtYW1vTddWpf/r9vn5+qm3ebDaRTqc1m4P6aZQR8cclyvj3NH1B5yr9NzMpGd5lDxqQRfW3os/V8MpCQAUeYFe5uo0iQNme8uC5LhxXwXMAAQ+2lUA8noAQFnzvoAvXceA4AyjPhbT8mFsp7SDWVfoZoD3he0iVnxF60AU21npYWtzG3N15PHq4guXFLWxs9NGoOWi3PfR7AziOByEs2DKDuBWDgoAz8OAMHLgeKVXw6xPHLViWwGDQRX/QRa/fhgXATsSQK+aQL6VRGi/jyuuncPx0BbliHIVCHtnsGFKpOGIxC5YtISTgCRU8S9C/j6Wu+0aD0J+hd4jwcUOklIgn4v5cdxw4gwEsqjnaDypZxPx9sN0YoLrawfU/3cCfP7oP4WXg9rvodHrBOiBhxRw0WlWcmT6Gf/5/3sHV145gaibtGxNE8K6Z59dvGxlVAmYAOFB+snHLgU4UE4fWe55zgRuFKeSo3+8jmUxqoEyG6e/DY7bfcrhu/niEdLtkMhmitwPh+UP6geu6mv3I55RpkDiIY4e3F9i9PpifHcrj5cAAZe7V4Uo0KaiUkZG8c/SiiTbc6XR0Gae9FHXaYPiAr9VqWFhYwN27d0OUDAKQnuehXC7j2rVrmJqa0gmsaOKkUim4rotms4mVlRWsra2FLDbA0JqTTCZx7NgxXLt2DeVyOQTs99qYKA47nU5DKYVms4mdnR385S9/waeffqqTj21vb4diGAn4kdebnj2dTiObzWJqagqTk5MYHx9HLpfTlFAyThBdOZfLYWZmBidOnNBeLXpX1GYOLDhYtCwLhUJBg8oTJ07gjTfewKNHj/DgwQPcvHkTGxsbaDabUEppgE7ghzzPHEz1ej189dVXOHHiBGZnZ0Ofk1GFwAYZB3i5A0ryZFKWTIkCjXTNWCymjRb8XOp7x3HQarV0O/Z7UTUX/ygDgilRysNe49L01EYBN2544psNfUa1iHnd4k6now0b9XpdZ6But9v6OKdQ8/JffJzQPDY9x2Qoov7hRgVab4jNMjY2hkwmg2w2qwFxOp1GJpNBOp1GKpXSc4KHY/AYZ8uytDWbxmir1dLrlTlWCWCTsaVer2Nra0vnC+D9/UNXaB8vBDx2s4p2Aw9zPgefCvPY0CssAhqv764bYOg5ppI+IvA0B//U8PuO68BxHdi2BSEtWEIOvcje8P5SKMSs4XUtaUEGgNvzgrhAFxCwYdlBuTlIqIHle55diXYLaNb62NluYXu7hq3NGrY3GtjYaGBzvYbNjW3UdtpoNvpotyV6XQnXEVDKHs4Z2FAI2ggP0lIQloKnBvC8AfpuE+5AwVYKybSNYiaOYmkaExNFTE6VMTlVRL6URLYQw9RMBYVSGskxmlM2pOUnmNrt4XvcO446gRtG+Dnm3+x8gSB1F4ZJuwLqtWX5ZbK8vp/temOlio/ev4lbNx9ga3MHqfgEpCVg20AiKQDpl7E6e/4Yrr52HpcvH0VlMg07HgRTM4PJ3m3mDIQnn8dRbJ8oZZ4Me1SOEhiGn9F3eeiVaVD8MYi53x3KwZPn8eASliBDcywW2zN3DFWLofJbUePjIO+53Gljismg/GtiCXxfcmCAMvd48RdnWoE4jZUnTWq1Wjr1O7+mKWbsIQBsb2/j4cOHWFtb03Rf+j5ZXmdnZ/F3f/d3OHbsWCiGmgBTrVbDw4cPcefOHSwvL2vQSBsSPVuhUMDJkydx5coVFIvFEEgGdheFJyFrcDwex9bWFlZWVjA/P49f//rXeO+997C0tKSzWHNvGPUHJa4aGxvTGalPnDiB8+fP4+TJk5idnUU+n0c+n0ehUAhZ3eidUHwkj3M2wYfpYSTwQjTlF198EefPn0ev18OjR49w8+ZNvPvuu/j8889x9+5dXbs5kUhopkCr1dKgnABQt9vFRx99pKmu5XJZe4rHxsZ0P/DvEUgWYkjnJSE6Gh835gJiAkICygR2OMuAgDJlUt5voXaY7Tfjlfmxvf6O6gf+rLyvTGBOc5Q2Jno3RKHmscS1Wg21Wi2UkZrKNu3VHt4W3kYOWEd51eldUpwxgWI+H/L5PHK5HHK5nK6tSIYWPn+jjAT0NyV/I68zGYVc10W32w2Beh7D3+/30Wg0sLGxocf6oZhi0qWBx1FZFQO0SkkG1tSuc32Q5QAYAHADfBODD5YtQFhDsBwALwXAdUWQ5MqCLSWRpKEQZGT2/E+kDGjC9vB2BKQ9T8FzVZCgS8KSMTiOwqDnot8ZoNcZoNseoLrlYW21hcWFLTxaWMXy4jrWV7dQr7XQ7nSDa9iQMgGlElAqBhlkyBKBLcDzFDzPgQcHQriQlhuAZQ9SKkjbQzwBpNIWxicymJ4p4fjJIzhx8giOHZvCxGQemVwMsaSAE9CpJXmLAeYx9p+X+tyfJ2oPwBwBevcEyiOANdMxfAo0JUATsKwYXA8Y9BSc/gDz95fx/rsfY2Ghjk5XIGY5sCwgnhSQVh/CGiCVkXj19XN4/Y1zOHY8D5kwb71Xu59dOTX3Ww6a+dpoWRbS6TSmp6d1Mk4eyiKE0PGYnU4H6XRaX+PHoDzv9YyHgPlgyrMYhmlPJcM2OcC4fs6vSUCZdM8o/eGgzg/ObgSigT0Hyj82o9izyIEDymYyJYoFpCRMnU5nl5JMYIoAiWlpjRowHEyur69jfn4eADQlEvC9jp1OB7Ozs3jxxRfxi1/8QmefpazQsVgMGxsb+PDDD/Gf//mf+Pzzz7VXmiYhJYqSUuL48eM4d+4cTpw4EYpFpHbxeFtOv04mk7qu6qefforr16/j/fffx8LCAqrVqn5Gnq2aajjTpMjn8zhz5gyuXbuGa9eu4dKlS9pDRUo871tOSaV+pFhKnomcACcp92RIII+8KdS2kydPYnJyEq+++io++OAD/Pa3v8UHH3yAlZUV7XUjzzIxCije1HEc3L17F5ubm/j973+Pn/3sZ3jzzTdx+fJlbVjhNGwgnMSNwArFuvK4dbP+nDlG+XNw4wwfw9RXzWZT1+Pbb+H35B7dqOM0Xnl/8Q1i1CLLE6fx6xJApmRbFA7QaDSwvb2tE3ARpZ48yOTpp2uYCuEor38U3YgMafx6QghtfOPxxdPT0yiVSjohF/0jujUZWvicJKs0gX7aoHh+A94W/kzAMHu7ZVnakEXvgdYCwF+H2u02Njc3QxZuc/M+qBv3/kqUB4+8vbsVAp41WBGrOjK+1T+oGD3Wp0QHdGwVZF5mIBkAYjEbtm2BMiorj/IiAH7t32BMu4ATxBQPWx6wHKSFuO0DWuUKDNoCmxsdrK02sbG2g4WHq3h4fwnV7S62t9rY2qij3XYw6HkQSkKKGGIy6VPAlYDyKI20DQEJCA9KufDcARy3D9frw1MDWJYHO6ZgWQrFchYzs9OYninj6NFxHD85jYnJBAqlOJKpOOIJ39AUTwAy5gLSgiX8DMuDgW/o9ZQHIQDbtoI+oa6kuuf+sWeTvcDnEJx6yoXruLBsC1JYsGNxKFfAcwAp/Ffp9D3cub2Czz6Zwxdf3IPqF2FZGdTqdaRSccQTwE59FUeOlnH56mm88/fncP7Fad9Wovx3KCVGtGW3iF1Zzp/gaQNDLF+X+DH6SeFPp06d0jkcarUaGo0Gut0uEokEarUa7t69i1wuh3g8jrGxsR88SIxiPnHhfRhlXD2U71ee5H2YBmwK5SOvMunK/Jpcz93Z2dHZrylPDjfGH3SAycdulB73Q5/j36YcGKBMYi5QAHQsKA1WIOzNJEWSLKRR3jFzMvE4WqL3jjoP8DM/z83NodVqIZlMot/vo9vtolar4auvvsKnn36Kjz/+GJubmxrYEQCjTSwWi+HIkSOYmZlBKpXalVXRnNj0N8VdPnz4EO+99x4+++wz3LhxA998800o27JJb6WMvOPj43jxxRdx5swZnDlzBhcuXMCpU6cwMzMT2iw4kKQ2RcU5cy8az1ZO9+UZp4GhN5xbuqSUujxWPp/HW2+9hWw2i1OnTuGDDz7A+++/r69t9gOPZ15cXMTKygqklFhfX8eNGzfw8ssv4/z585iamtKUWD4WyPPOgc+oRc8cD6YhgYwMUd/zPE9nDOfjYL+EL4w0zvi7M5Of7bWIcgBK79113RC4Jao0T7TF6dS9Xk//TvOHxxdHJdwa9TymB5nHGwPD2okUQkAxwwSEKfHW2NgYUqmUjiGOx+P6H7FJOOA1+4faxEtOjLLmUr8TE8WyLBSLRWQymdC84WU7uHGqWq2iXq/r9eVQYRslBJg4cNrLc8SOMudk6HMIKFhQKg4Iz8fEgh0XLnxudOAmDbzLyvOp04CtI58FpA+5hdAlj5T0ywArofR5CEBXrwt0uwrV7Qa2NurYXK1jZaWOtdUGdrab2FzfweZ6Fd2Og27XQa/jBB5yG5a0oZQFzxNQkKAkVsAAkH0IoaAQxMpKB/EEkEjayOVyKJVzKFeyKBTjqExkMDWV9z8bL2BisoBszkYyJQCWmMr3thMotiEtGXSFgAy89pYVGCHYK/Hnx9O84yc9mXtwPQihICX8xF1CQco4oHyg7LiANwA6TQc3vriPr/+ygE5bIi5sSGH5nnExAKSDeMrF6bPj+Nv/cxEnzowjm0/AU/BtMXorGb7HoSc9ivXA/z1FD+yxdnNDJlGvp6endZLDdrut9712u43FxUVMT0/r8Cu6zg99jTEN4VxMgHwoB1P2GqemIZmM5GNjYzrUj1+HhHQ30lVof49i6h004fM/avwe5LYfVDmQQJl7AAmYEVCOso5QLCgBZfN6UZ+RkNeUqBicrkv36HQ6mJ+fx3//93/j6NGjmvq4sbGBubk5/OlPf8Ly8rL2btPmxOm95IGamJjQ2XCpLTzLpOkdosQ+9XodX375Jf793/8dDx48wObmpgZfnGZM3yNacKVSwZUrV/Cv//qvuHDhAmZmZnQyIO79Jc+wEGJXUjQOSnhMLz0fAQrqNx4fQfegd8nP5d6+Y8eO4cSJE7h27Rqy2Sw+/PBDDZ5s29aeOwA6wRcBNMdxcPPmTdy7dw+u6+IXv/gFfvazn+H1119HpVLR9GjqGyp1xSnZ3KPKZdRGSn1NCZyikjxQfCkBZfpHAWK7AAAgAElEQVTOfigg5hwhI8ioeGWiyFMf86R3JvCjmOJ+vx+KGW40Gmg0Gmg2m2i1WqFjBIg5qIyibfPxRv+4x4SvDSZ1ij83rRkUi0+06Vwup+nUBJQTiURofNN1eD/xe5BQ26Pev2nxNo01gG8ALJfLugQFzWPOoODgmWpAd7vdXaXhDoXkCamtBmt3FGlbhT6xAGX5YFMAAi5UkJBJwMUwRjpYNz0Jz1VwHAXbothzQEgC0tCAMYDVENoQ5cEduOi0XexsO1hfG+DenWXM3VnC3N1FrK/VUKt24DgAlICEhBQWLCuFVMKCZdl6Xg/6DgaOC+X51GYhPSjVAzCAlC4s289WHYtZyBXSqIwXcOzYNE6dPoZTp2cxPZNFoRjDWAY+sGf/IJUf6yv8yGaA5q7yac1SwJYCQnCPJ/+pAvBMSa6eRghc7vW9MEVbCMCyJfr9AZTjJ7VSEFAe0O8AvbaLrY0Obnw+h3t31pCwixBeElLYiKUsKNEGZA8TU1lcunwCP/nbF5HMKXhSwXMFLElUc9ZGemDBBtyuZ3g6oMwN1qGnNZRkWtOSySTK5TImJiawtLSk9R5iadXrdaysrGBychKzs7P6Wj/ktYXvkXs95yFYPvgyChCSLkF/k4Mmm81ic3Mz8jr0PTL0d7tdzaA0GW4HVUY5HWicmwb9Q9lbDhRQ5gqlSVEcGxvTAI+/bGDoUR4VC8qVcaLtksIuhMDk5KSus8uPkfdxZ2cHd+7cwcbGRoiiTJmUNzY2NGglEMDBEVmkOIXcpFeO2vDoGd9//338+te/xu3bt3VGaw7u8vm8poq7rovJyUm8/vrr+OlPf4rLly/j+PHjyGQy+toEEqkd5H2mUlm2bYe8apxyyttHyZhMAwP/GRU3Tv1Mxg8CCUTRjSpjQQtYs9lEr9fT9OxEIqG9lUopvP/++5ibm8Pvfvc7vP7667h8+TImJycxMTGBcrkcSvRESdKI9hoFhs2287954jPuXQeGRg7KOsrB+n4oIXuBN2o/4BtM6vU6VldXsbi4qOcIN/Lw+Gtenol7hHnmaQLeHHzTvOHjjm9k1Gby9pvCATQHqUSnovijbDaLUqnk12bNZHTSrWQyGap7TGOUZ5rn94miLkV5i02h75qUcQ7sqV+I4s1DHMz1iu7FqeqU0IvPjUN5PonsQgMxh8/h84uAuaf/FhKwYhKS1s6Ape06fukmCUDaDFh5fqbptZUGVpa3sLi4hocP1rC8VMXmegfNmoNWw0WnpTDoS8DLwpZWAJIF/BrALlzXgwy8xZ5y4SkXQrgQtoBlKwjbxcBrIJ2xUJnI4+jRIzhyZBrT05MoV1IoFpPI5RMYy6SQHkshHrcRTwJWHLq+MQSgPD9bt+e6PsiXfj1fKS1ACjgD37NsSTv4nO0dDLhC09yfZwxzoBkFOv17EileSglPCXiOD/BtWwBx4OHcNj76cA4L83V0WhZskYJlJ/3EaaoPhR5yxTh+9g/XcOXaOSSzCo7bh4BAzI4Nn2PXowTx0UKxQ/Kps13rpzV0JTJqRgE/2ptp3et2u9rArVsiJer1Our1eiSD5ockTwKOTTlcZ79/IX1hL4k6br47YpAtLS2FDPTmfQgst1otZLPZXTrwQRXCLVx/431Ha4eZ8OugP9f3KQcGKHNQbFIGzFhQEg66eL1a0wtkgh8zoVG5XMapU6cwNTWlE3rx8wno0D0IFPPstAD0wCSvGynM/Hz6DgfBfALySUrnKKVw8+ZNfP311xoM0vPzNiQSCRQKBRw/fhyvvPIK3njjDVy9ehXHjh0LJbLi/THKMMFBlrnpEq0VwK7rRm3WHHhw4ED3oWP9fh9ra2shb7n5vglkdTqdkLGA2uV5HpaWlrC5uYmFhQXt9S+VSjh58iTOnDmDYrGIYrGoaytTn0ctHvz5o0A0AWWigvM+JVBJlGQTCO23mACPnrPb7WJlZQX379/H/fv3Q+WROGij90hJ1nj5pagsiqO8sqaFN6qvzd/JsEO0aF7DmMcUUzIuSkhH5/HyclHGHnMzMdtgjmvzHfK5z79rzjd+D1rXCMi32+2QV9tM6EeJz9rtduh++2l8OfiyF1jafaow/tYSosti6LgMATrhc6YFgtzYHnygzMeABwg/NldAAipg6sDP/txtuWh3eqhV69ipNrG12cDCwypWlqpYX61idXUb21sNNBt9uAMLyolDIAGBBCxpw5IxAAKeq+B50NmqPbiAGEChDzumEE9KZHMpZHJJZPMJZAuzKJTTqIznMXNkClNTE5iYqCCbjSM9JhGL+aBYgRyi/jX9uGoO0gSEri3to2gVPCOEF+ouxcPFQ9NMDZ2uzz1+zfdON1N0Jwj4gB6e5ZfUCpzZnTbw4P4Grn/wNapbAygnhYGyIeMWFFy0uw2UKhZOnJ7Eq2+exbGTZSjZA+BAWBIiJgNLyqiYYwV6Q8IYp8/y1Nz4xtcUHn5lJu2hfAhkiOZ5VCip4g9xHXnaZ+J79aEcHHkSsMzF1LeUUhoo8zKv/Ppcut0uGo0GKpWKdnQcdLBMQJnrWfwYxw38s0MZLQcGKJNw4AkMX2I6nUYikQh9BkAr7lR/l4u50HHFmCvNhUIBp06dwoULFzSw4go0915xOijRJFOpFJRSoURjJsAwPWf8uhyU8lhjEtd1NfjLZrO65BDRp6SUaDabmJycxIULF/Bv//ZveOutt3Ds2LFdk8HcXPlzkAEhl8uF+pGDXPIiptNpnSl4L6FJS3Rd8lKbtRqJpnzv3j08evRIT3QOXIUQOhu24zhIJBK6LBdRVTnorlareP/99/G///u/AIBTp07hypUr+t/Vq1eRz+c19ZYbCLhBZZTQmCBAxktsEHik+FIzccR+CJ8n5mIJQL/PZrOJBw8eYG5uDsvLy6HxYYJcYOgNJVDHva0mpYd7V/n3oxKn8XnCzyeATKEE9I+yURNApjEQtehTwi2+UUSd+6SbYJTxgOYsN4px4fOcM0qo7FS329VjiuYN3YsYF0QH4/3KGRLmu/5xiQmQ9j51Lyem0uDKAMuCARxFP/3M1wRSBbmO4UF5fbiOA0vagLQhrJhf+kkCXg+oV/tYmN/G1zfu4ObNB7h7ZxEryzX0OgqWTAXrexy2SEIKBVcAnutfXykPEH68bb/vQAS0X8vyE3RB9iFkB6msQKmSwomTeRw9MYFjJ6fx8uXzmJgqwk4Atu0nnxKmU5YezwMcx0W31/UZGcI3OgkpYUECyh5S2IMuUx4Qsy19TT9OO6B+6xuF9zgAe663j5co44j/GV95/b3MAiwL7sCn0jsDYH1d4Zuba/jkz18hMzYD28qiXmvBr4LdQ7W2idMXTuPSldN44eIE8gUb3X4bqbQFOy4gLBdwCZgPVStl9ikIsD+/RIXImIo/rR18f+PGZWJ9UYk+x3G0YfGHLlFr5SE4PthiGvz38iJHGTsIKFP+Gq5rmPOHwhJojtFee5BlFFDmf0fpXYcyWg4MUOZKJgkNYkrKw0EZnwgc6PFjptAAIcANQHsuK5UK/v7v/x7tdhsrKytot9v6eslkElJKTQnmQAgYxrwmk0mtjJteYvIu0nNJKbUiHEW7NOvAvvjii7h//z4+/vhjHddL9OVisYjXXnsNb775Jn7605/i3LlzqFQqum/CHgCl20Pfp42S+rFer+OLL77AgwcP4HkeSqUSjh49ipdeekmXXiJPMk/0ZQJ+6nOitfLYZxOs0/MuLy9rijvvYwDI5XK4dOkS8vk8BoMBvvzySx1nwmNw6bocGMXjcdRqNXz22WeYm5vD9evXcf78efzjP/4jLl++jHw+r68TFU9Kz2KOJ54oitPNaaHihoLvAyhTO81non4hqj2VRzMTt9FPDroty9KGjqj7Rc1D3gaTaUDjKR6Pawo1p0vn83ltKKMs1QSMeSyvyTDgoJ3eFTdOcSPW4zzK/Hn4XI2iipve9Chlllt1yQterVZ1KAE3/HHmBa0jptGPnvvHGXcUePHUMEYYoT54kqzCISgFsSuelLyBnCpL75jed+Bh1vdUELBgSQ9CSLgDgX5HYGVpA0uLG1iaX8PS0k7gPa5he6uJ2k4PXj/tg1GRgPIA1wU8z4VQAgJ+LLHvgxzAVQNAAvGU772OJy1kMjFMTR/B1EwB00cKGJ9IojQeR7GUQiafxFg2hUJ5DIm0D6yFDLzQVI9KIKjhDAAeFBSk5SGZoj1NQakBlB+cDGlkE1ce4CnAohLTipd9Gnp4lQr3+7c+blVg8BDkyg58ucKC43hQrgNpS8ARqO20cP3Dm7h7Zx6WlYTnSijPRiKRBuAiHpeYPTqBV197EW+8cQnpdBpWzEMqbsGyPd9777kQIo6o7OrR8gSsh8ddwTBQmgY2vtZQWEo+n9csJxJaW6gUHcU1/xjEZAodyl+3mO/QdBhQmVRyMplGZh7a1e/3df4j0/PKmWgHSUjv3ytOmQPlv4aY6+9bDgxQ5sIHNf2jOFCu2NLvruuGYpSjvh91fWA4qcbGxnD16lVsb29jfX1dA4darabP5yVgTA8ZAXBeIolvYqbyzu9Nv3OwJ4QI1Wt+6aWXsLKygtXVVV1ex7ZtTE1N4dy5c3j77bfx5ptv4sqVK9qg0O/3dwGIqOenPiK68t27d/HnP/8Zd+/exWAwwPj4OM6fP494PI7Tp08jm82OBBBRi0ZU+SCTqkub9KNHj7C+vh4qk0VtzmazePXVV3U8eTabxTfffKMNG/R+OFii/rQsC+12W9e7np+fx4MHD1AqlVAoFHDx4sVdi8VeCyAdIyNDKpVCvV7fdR49Fy8RtR8Lq2kl5DHGHGQRG2NnZwetVmtXbHAUQ8L0GJv3NamA1P/UV2RUIMBN2agp8Rb9GxsbQzqdRi6X0zW8TY81b5vZDi6cYjWq/00POp/nZoiCubk+qSeMr110j7GxMZTLZaytrWn6Ph/H3CBDWbpNpe7QKhwGr8PPhhIeJ2ZfcWCsfG8tTwrGadgEkEPuV0p3HHialf9z0JPotFy0Wh1Ut9rYXG3i/twS5u8v49H8GrY2G6jXOuh1PAwGgOdKCJmAFDFYwjegesqD8pS+lZAKluVBWr4nOJtLo1jKIpm0kc3HUSonceToOGaPTmD26DhKlSSyeRvxBCAsv5n0U9OiAR/dBsDST1amoOBBBdRxfw74YFopAp4WA6LD7hjlrRehftwdpmCcvfsCkcIeIur1htKTk9c7WL8F0Gj1sLy4hRtf3sTioxVYVhyuA0ghkUqm0RvsIJmy8cLF83jl8lmcOjONRMKDtBzImAelAiabsqCEzy4QTzAVjV57JuFK715Aj9bedDqNsbEx2LatkwICCDGgyEg3aj//a5SnYQ6ZRs6oPe5Qnk6eVPfZyzFhnmdiAdd1dQm0Xq+n981EIqGZZ4DvmKJcQaRn8mvy+/Z6PTSbTa1LAuHw0P2cHyaYHzWGPc/T1UjM73NMwnHSoewtBwYo85fFF316uVRvNEoBpoRbpGRyZZ97ZumaVH+QNhgCtUePHsUvf/lLHDt2DL/73e/wwQcf4LPPPtO0WVKYzQ2JvKVUv7ff72NjYwNAtMJO34+iP/BEYWTpicViuHTpEoTw6ylfv34dKysrKJVK+PnPf4533nkHFy5c0NlzhRC6BEQmkwnFPBJtnBYRastgMMAnn3yCX//61/if//kfnRa/1+tBSolPP/0U6XQaSilcvHhRAx9On33SCWdatOgdNBoNbaDgGxQtTJlMBq+++qrOZv3qq6/ivffew69+9Svcvn0bW1tbIWBtAglONXNdFzs7O/jss89QLpdx9uzZkJf0cRY2/ryJRALZbBYbGxshayQ3ABBddr8tkHxxpfdM747T23k2c64gRL1bIUQoYzp9RmLGIPM47kKhgPHxcV2igTJRZ7NZTec3Mzo/blE3P6M5s5eBjH9mKka0Kcbj8RDNn/qC07Ae9y7pPNObTnGCZPA5cuQI7t27pxPjmfH7tm1jYmICs7OzmJmZ0cd4ua8fswKnFALwBkAnh6Jj5MHk/ePBzEIs2Pmecv2ySYGHVUBACBkUdvKC1FAqQDsCAhYEbAAW4AnA9Us71Tc9LC50cffWI9y8+QA3/zKHtbUamvUehCdhW3FYVg5SCcSkghvEOAuhIIQLKSQsJeGJGFzXgasceI7vyUzn4igUUzj3wixefuUcJqeLmJwaw/hEDLGkhB23YAkJaQsIy3eye57v8ZWSgTThe6qFRXRoDwpu8Jye73FWgKeCqhJCQgRZvUTIwOAnLBN86RTDBFqmmGuKcZS9kb3EMIzsuhWB6CCW3PPgeS6kjEEIG3AF1tdq+ObWIzyYf4SdWgNSZjDoe4jHgLGxNNrbqxjL5fDzf/gpXnhxEukxD8oaAKIPhT5c1QuYAyl4ngsox7/249qvKKnZ05bGGkqUcZcYc2af8gSd9D0q/9jv93UIkmnE/qGKmZPEBHNmxQ4Au/RAkkOv3FCi9qFRe5Np8Dbfg9mn3ClDxh1iZHY6Hdy8eRP379/H2toapJTI5/M4ceIELly4oJPZcp2EO7Z4FRf6vNfrodFo6D2fvs/nyX45PqisKeluxGQzxy3p0t1uN+TMo2cz9SnCAYcyWg4MUDbFnCw8EVaU94hn2Y3aPMwJxmOU6XOiYF+6dAnJZBIvvPAC3n77bVSrVVSrVWxtbWlrlVJKA6TJyUlMTk6iUqng008/xTfffINarRYZa23GLlJ7SHHm3im+KBeLRbzwwgtIJpO4dOkSOp0OMpkMjh49ipmZGR2vS0q1ZVm6HiJRw6mPqA9d18X8/Dy+/vprfPbZZ7h58yZu376tKbjUlsFggM3NTVy/fh1Hjx7FlStXNMCg6wB4IuBgvhd6zk6ng2q1imazqUElF6q3PDk5iXw+j1QqhdOnTyORSODkyZP45ptvdMKzxcVF1Gq1kMGE3i+P9dzZ2dH0M05ZiwJZewlZLfniw3+njND7CWT4JmN6lun9U31ySgDnui62t7dD1+FzhANgIYSONad/ZCiiBFqUbIuyUfMM1aS0cRDN4+JMz/TTLuRPez7P2s6Fj2naTM3Y6idtDz0Tp18T9ZqSj5nZ7Pk5tMak0+lI48XTtumHJEIMgbJA4DXUx3joQETsMUhBg8Y2UkjfY0yuweAaXZYbAgQTXQEl/ERdrgNsrXewtlTHo4V1LDzYxsKDHWysNbC50UJ1y8FgkEFMZAEh4TkuBn0/a7RlW7AtwHE7cL0BXM+FEL4ylEjGkc1lkC9mUa7kMDlVwOR0DuOTNkrlLArFAkrlMeQKcaSzElL6IFe5DoSUEEFqbQKxNEwCO8DwA51cSoSjaEOA1wvO42t0AGz3ffwxcBzlwUb4TfvzyQJUMCYgsLa+hrt376HdbgLwYFlAPJOA03extr6I0sQYTp+dxcyRIjK5BGQMfvbqIBbdZx+MYirwlvDWPKkh4Oll1BpA45aAAK1DxOyhqhmUtPTHupYcytNJlJH2cUZqU5cwdSZ+bX4Pfi7HA41GA0tLS1hcXMTq6iqq1SqEEJo1USqVtFeZdB9iZ1EVGQAhzzHdl+cD4SFU+x3mNMrbzj+nNvL+5boEzXXSNej7h3N9bzkwQHnUi+eTgseyRtEOySK0l9fOVMC5eJ6HVCqFVCqFUqmECxcuYGtrC+vr61hdXcXy8rIGcwA0ZfLYsWOYmZnBxMQEWq0WFhYWEI/Hddw0vx89g2mhNC25ZruSySRmZmZQLBZ3JdogyhSne1OMUb/f18k5eAKPVquFtbU1fPzxx3j33Xfx+9//fpcViuKaAN8DRt5eAKFFgtr9PIlYWq0WNjc39SZtGhnS6TSKxSLK5bKmnhYKBRSLRVy4cAGXL1/GX/7yF/zxj3/El19+iYcPH+oswd1uV9OyKTs10VMoPpQvKE9rYSMAGFbIh2OXMl+b4P+7Fk63JuHviDaafD6PU6dOhWoo802BxhQ9G9GAOTgmDzH/RzQ/iiuO8qyOMh6Y1uXvWug+pofBDJ2gnAbPsrHw98D7geo68lrx3OhHfV4sFpHNZhGPxyOt78+XCOmvX0JvhOERpXYzTCCUPocRrqETdIHej3+CUn6csOsAsARg2RABMB70gH7XQafdRb3WxfzcDu7d2sDtWwt4eH8dq8s7cPoSUHFIkUAinoIViwEe0Ot3odwePOVCSgCWB0gHtnQQiyuk0nFkshkUSjlMz1Qwc2QcR45O4MjsOKZn8ihXBCA8dPsuUmkLsYSEjIEaDBWAWgHyjBNYFiHDwLAHhX5+HxjL4BqmBCAxuDp2/dtPEcbP3UcVOy6EgPKEPthoNLCxsQ7H6cEfBX3EE4DrDtBsbeHS0Zfw4ksnUJlMITlmQVg+FR3SN86ogFWgLyig7ximNojwefssPBcE9yzR+kIhbI1GQ++Xh3IoTyKjQFzUPm/u66OYXvy8KCMzv3atVsPCwgJWVlZQrVY19VopP+/N9PQ0pqamdK4j27aRyWSQSqWwvb2t92OThs2ZjTx8EggzV/dbTIxD/UT5cKKYlXz+kz5G3z0Ey3vLgQHKUcKpDlw550koSDhY5HTEKMsW91pxYEkAjTyE5XIZ+XweR44cCXkFTeWUJxUiLy4H7nzQ0iTl7ZPST1bG6dj0OyXvIUoqxVn0+31sb2/rOrFE+TbjdGkT5PWd6/U6/vSnP+G3v/0tPv30U6ysrKDT6YSSjfEFg0D3xMQE0uk0ms2mToZA5zwPoFFKoV6vY3l5WSdOAIagzvM85PN5TE1NoVgsaqsg9Y3jOJienka5XMZrr72Gr7/+Wv+7ffs2Hjx4gO3t7VDJKfKmHjlyBDMzM3psPcuCQbFfHEzyf1Tj+Xk8pM8qNA5pnFG/EW0X8Knjx48fRzqdxszMjM5Q3u/39RinDYaskeQppvFM85NT8jkYpPsCw3AIal+UYcz8/nctUSwP7j0mA0pUve1nEf4+YrEYMpmMBssUQkLnUR+R1523M4oy+GMVIYiCTR/AD7kVygDL/t9KG/gkhLCgQHNDwfPYOhB4HxUkEvExCAi4AwFvINBtC9R3gAdzO7hzawnffDWPxUdVbG20MegJ9LqA28tBiuGa3+32IEQftm0hlrCQSI7BdQboD5ro9FpIpAcoj6cwc7SIk6eO4sSJGRw9Po2JyRTyxTgSYzHE4zZitoBlAxASsYxfp1g3Gb5HXFrKD8SV/qdUTZjo5Fo0aA6DZf8TgposWRrCX6XfmIr8LG/wGb/3+OsKQXGFLjzXgyT6uALS6SQKxTFADNAbdOANBn6KMjuGymQKF18+gZevnERlMoZkGv5Ak9K3OCgJpSwIilHXOHhohQgXf5K6Tf7L2t85SzoEz/hLaxGFWtXrdW3YPaQTH8rjhOvU9DcJ36O4k4ozGsxz6XdTV+f6AB2nvbper2NpaQnb29vodDr6XKoSUa1W0W63AQyZFZT7ZDAYhNgVwND5w9vEdZLvQ6IMEEC43xzHQb/fD+l8nPFJQDmVSu0CyocyWg4MUI6yjkQBZR43yC1KBJqoBNFe9+FA1aQN0+e0gfAkYvR9M7EPfU7XIy+umXmOYiOislxHXZdAB32frkefEyjvdrsapADhDNC0Gfb7fczNzeGbb77BV199hS+//BJfffVVKIEQ3zRp4ej3+4jH4yiXy3j11Vdx7ty5UP25byPTLgfKPJkR9+6VSiVMTU3pTJw8URc9eyKRQCaTQSwWw/T0NC5cuIDl5WUsLy/r8lrVahWNRgP5fB5nz57F22+/jRMnTmgjwbNYCePxuM4GTmICZZ5Ffb8AjZkMjQNW/t4sy9Lx7fl8XhudeAkoTo2mOURjmYNj89miPMMmoyPKuLDfwsMWzLnIy6UIEU6y9zTCk4CQ0Jyjvs9kMrrMHKdh9/t91Go1XUOZ95mpXPzYAbMWBUCDZO7VCKCLkAGgsaCUAJRPOZZCsThbDiYVLCHRajjYXO9gZXETy4s7WF5sYPlRAytLdawu19GoD9DrKkDFIBGHLWUQi+pCSNePk1V99AYOHCWQTMSQL40hm5tCoRTHxHQKkzMZTM3kMHOkiPHJAoqlHMYyEvEkAMuDgAvA1WBLQ1kFiCAbtZASUApCiqAfFMsCbekcV7scy/q5CSyrEWeZQM+naw89zAdJ+fKzdQPSf+1CaFLB1NQELrx4FgsP1tDtrKFZ78FDE9lcCZNTR3DuwgSOnshhLCsgbQVPKUgI+CXBLIBi0yExHDjh2O3hT5OivQdv/FsWAhtkkBMiHDZFugIlxjz0NB3K08ioccI/j2KU8f1rr+uZgJsb5IkhSGOcjPfEniSHCmfLkfE/Ksku17m5h5Yb1Pc750yU08/8m9iLXD/mdHIe8kbPcqgzPF4ODFAeJaS08hfc6XT0MSAc58sXeH4NOo+UUpowHHiS54gn9DEpIHQd+mkqvWSV5eWB+HMQsOATHkAIFHMqM7WdPFyUjdK2bRQKBbRarVD9VaJ8A/6koHIPm5ub+OCDD/D73/8ef/jDH7C9vQ2llPaQceWbL0CxWAyVSgXnz5/HT37yE7z00ksaoHMqyrPQUbmS32g0sLKygl6vp49z4FkqlTA9Pa3fHU/IRskNqN8qlQomJydx8eJFTSdbWFjA3Nwc5ubmsL29jampKbz11ls4efIkstksGo2Gfg9PK+RRjvouGRs6nU6o9NJ3LXwccaMDMATQfPyShdWsoU3zgICiUipUio1CCcx7A2FwTsLBO8kokLyfnlKaV5zaRewV13VDxrVnBcoc2JrKgZQSpVIJuVwOKysrof6gTLTr6+uYnZ3dFWLBFYgfM/2aTy3Ffhl6lEPRqn7/EngJKLREyZWMQespwBl4cPoeet0uVpabuH+3ihuf38Gd2wuYv7+ObkvC6cchxBgkEpCIwVMSUlqwbAnX7QFCQUoFEfPgKQeO10EsLpEtWDh+IofTZ2Zx6uw0TpwuoTKRRi4fQzoDxOIIqk754JiSifmZs+UbGs4AACAASURBVAKg7Al4gdcbULCkn71LBA+igv6hZNW6L7QHmn41+kgD3rCbfkhlHnrdKY22z0Q2AeF+CFlERh33Pe6WZQUlrDwISEzPTODlV4CF+RUoJbC2ugNLJHDkSAEXXzmDMy+UMD4VRywJKOXHJCuIwJtsa4o6YDG4a/YZX8NMkAx23ncrUkrtSQPCtEta31ut1r7n1DiUv16JYjWZ+9soMBZlSDevwc/jQJd0Tu5QIYcaOaWiMj+To43whHlffm9yfFEmeNKXCXPsZ5zyXoCWjhFQ5voMP4c7OLgj8hAo7y0HFiibizSnOHNlls4jjzIp8VG0TfIamh5RUjD5xKMJZN5nlDLP/6YBambcJsBPVp4oBdcE6rxNPBsfTVKqJ0vZK3u9XiiW+969e/jwww/xq1/9CouLi1hfX0e9XteThvcD9QX109TUFN555x289tpruHz5Ms6fPx+qNwwMwfhgMNBxus/yrpvNJjY2NvS9gSFI8zwPhUIBExMTIWBmUokJ3BC4aDabSCQSSKfTmJ6eRqlUwtWrVzWVPZfL6XjPbDY7Mlnc44SXG6D2cEs8X2j3S/ngXlFzvHIDA1GTlFKakmPOmcFggG63G0q6xe8RBcDpM/7TPD+qzSQcyO9HkipeR5xoS6lUShtleFzw81hgzQ2WjFSe5+mEIzy7JfWZ67pYW1vTc9c0LPA16kcpwaOT91i/HU0nNhUxAWdAmUBt/wwP6HX8usWWBGw7yFxdAzY3Olha2MSXn93Go/kNbK43sbVRQ6vZw2AQh4UErFgcriuglAcoB7ZlAXAwcBxI6dfa9dBDLOahUEhg+sgxnD1/DGfPzeD4iQKK5RQy2QRS2RhiCQE75sKSgAcPrheMGSnhZ1RWgPLgeB6kEBC2hPD8LN1CeIEz2Ie/ShFpOgDVEkCQXZvXMQrHG4cB8y6vqDI+V+xc7abmYPm7ohnzZ6BMZaPOHban1+vCcxWSiRRSWRvHTlTwf/3f/weXX7mE9fUdpBI5jE/mcfJUEaXJDOyEghIevKA8lu9BtgD4dZP9MWUFx5iVhdpoeN598dg50jj27Qvt+WNjY4jH47uo1bQW1ev1wxjlQ3kq4Xs+12FNRhsJZ2iN2re4XkoMK9JXo4zUXB/k+7ht26EkohRaSblUSNc3c7LQZ41GA8vLy0ilUqhUKqGQw/2Ux+lN3CnDy7vx75kgmb53ONf3lgMLlEloMHJ+vak404QyswubVqooiiLfKAiYRXnhzJ+jxEyCZLaBe5RNRZefxyc99zpxrzeV+iEqN91/Z2cHq6uruH//Pj7//HN88skn+Pjjj9FqtUIp4glw0/WEELrm3JkzZ/Dyyy/r0lOzs7O7PNzUpucFDpTOfnNzM7RBc89jLpdDpVKJTObGr8X7lTMFstkscrncrjJI3CBhvocnFYrhprFpts1xHPR6vZB3cj/EjKfh7xnwQfD29jY2NjZ0GTAyLOTzeRSLRd1/nL4zygNMx8zfTQBsUtBHfef7oP15nofl5WWsrq6i1WppquKZM2dQKBT0/H2e8c5DHEiE8JPT5fN5rQyYmbjr9bqewzzhXFT//ehEe0rBsMbuNUKIwHvMYnEHPULZgf/UBVpNYGtrG2trVSwt1rC+2sTKYg13vl7EzlYb/a7CoO/C8ywIISEsCSkB2wKUcvx/QZklIT2kx+LI5lMoFEuYmMxiejaHoycKOH5yCjOzZZRKMSRS8Km9wgGEgrAUlCegPCoj5MfVCmEBUFBCQsLlDxd4makPlI4s9v2bvkdVBMd8+jbP2Az4pOJQfSf2U0R8FtHN0Vzu70AU+wcGmJ/s5ipIcCYlkBqL4dTZGVTGS2jUOkgmUxjLxJEvxiETHoTlwKO+FlSA2gKUhBTkSRbwPf7+1SNbsauJ+0vBphAlc7+j9YbK4XCD9aEcyuPkcSAuChRzQM3z+ZjeY9NbTdchz7DnedjY2AglgiX9mPRACimo1WqwLAu9Xk9Tskm/Mdmd9Hmz2cTDhw81yKSEmvspe+3r/Fi329U6Au830qWoKgl/F4d5CB4vBxYo8wWcXjIB5VEAYBT1moTH+/Jr0t88rpiA+eM8jDTgqA08tpO3j/4mixZNYA42TEBMnlHatHisKJVyML3j/X4fDx48wPvvv4//+q//wt27d7G9vY14PK6TFmQyGXS7XdRqtdDiE4/HUalUcO7cOfzLv/wLfv7zn+Po0aM6jqPRaIDo2tRP9DzPSvkkD3a9XsfW1lZog+beyVwuh1KppAE+0U/JO0oLLnmLKash9WkikdCJDrixhVsHORX/aQAHWSgpnp2SYNF7JzoMAeXvQ/imRBnQ2+02lpeXce/ePdRqNR3jMzU1hdOnTyObzeoEXjxJHt+8ohLn7bXw0hg1wXZU8q/9pBHT+tHr9XDr1i18+OGH+Oqrr5DL5fDCCy/Atm2cPXsWhULhOzF00BjP5XJIJBLodrshoCyE0N7/fr8fooLza/yohT2+2AVE/BP8WGTf8WdJHxS2Oh5cR0EKIB7z4Aw8bG0q/H9/XsDnn32DW7fmUKt20WsJOJ0kbIwhGR9DwvbgeQ76gy4c5cKyPMTjNoT0qdW9QReWrZBM2ahMpHDy1AReePEkLrx0HMdPFjE+CUgbgFTwlAdIF0o4cN0uIBSksALOdZB4Skgf5IvAGAgBy5JQyq8NrAJX+nAc6GrPIY+y0v/TEQ6CKd0X/0wa5zxelGLO/O9EFHYB5acAm5ZNBlPAdTwoz0MqYyOZyqBczsCO+dcbuAoCA0A4UGoAIWMQCNY8z49U9o0zCj4l269D7WcEFwhSYw/bFRqOw3bTW/muhfY8Wj/4mkEhHgQgDuVQnkTMccQdPdzpBAz1ENKLiK3W7XY1ZZi8oSZo5rWMhRDodDo6Ce3S0hJ2dnZCccp0fjweR7vdxvr6unakUdK6er0eapeZp8dxHLRaLTx48EDnEeHzZ7/7mdoaJUr5ZVZbrVao73ifUQWSva5zKLvlQALlKMsTgUcCZWbgPYFUAsp0jAt5+ziQ5WCVJsBe9ErTukWfEUjr9/s6mRcfrDzml29SBNDpXHpOej76DvcsUbuTyaROZNBqtXDz5k1cv34d169fx+3bt7GysqLryPGNr16vQymFZDIZSpL2+uuv480338Rbb72FmZkZFAoFfX2llE5YRQDZNA48bf1hADoJQ6PRwM7OjrYC0kJHz18oFFAoFPT1OVWe+slkCYwytpABot/vh5JR0XM8LYWc2kj9SaUJ6N7URzx2ZD8WWU7tNw0+3W4Xjx49wtzcHO7evYtWqwUAOvt6JpPB8ePHkcvldFy4yYDgc5DEfC5uJOJWTfN88+d+A0DLsnD//n38x3/8B7744gvMz8+j1WrBsizcunULS0tLeOedd/AP//APz2xR5msOgFBCNQLfmUwGlUpFW8jpPPpus9nE+vo6ZmZmtIHIVEp+rCLEcLzrKFpiwRJIVAquC3iugiUFpBCwpECt3sHKyg7m7s7j4fwqFhd2sLXVxk61jWbdQ7dlwelZSNk5CC+OQc+DtBSkJZBKJuC4HQzcNhqtNlJjFrK5BGYrGZw4dQRnzh3D1HQRE9M5jE+NIZtLI5VWUNKFsgBh+THRAAAlYVlUJ1tqtOmXIRJwHAXXcwBBoTwSnlJwBh5gAVIKKEmJq4JLCvJuKo3VgnRf8OnDvpfdFwLFwz7bDeDUMKlzyCBhKF6Cf/+7HJd0XwL9o6nefokvv7a0ZUsoz/HjxgXgeT0IYcFOxUA1kmO2ByW78OAE3nobUAIeMbDpVp4PjaUM4sKj4pAj9dL9U1ZpfUilUsjn8ygUCqjX66F4T6oG8W1l9z+UH75EsaSivJVcD7p3755msrXb7VAZT9OZYDLSSFenfECu62rQDEDrdOTMkVJiZWUF9Xo91L5+v6+90KSfU+Ius1JItVrFzs6OBtr82HctXIeL6hNyXhAOoPK11F90jpR+AuB0Or0LYx3K3nIggTKwG+QAw+zXJo2DzuFU4lHX5NczlXLu4eIU1b2EW7t4Zj3zPgSACSjz+0YJpx1zOi9vF3kGm80mbt++jffeew+//e1v8dVXX2FrayvktSZPKeCDJNu2dTmg2dlZHD9+HG+88QZeffVVXLx4UT8XB8rUbn4ts61PKwSUW62Wjo0ChiWqyCCQy+WQz+cja/HS+aaBI8rjxqnrQHjsPCvQoHFJWRSj2ARkxNlvj7JJt6ax0Ol0dG3wjY0N3dcE5Dc3N1Gr1bSXnAufJ3QP+pzfl//k330aqk/Utb9tUUphZWUFX3zxBX7zm9/gwYMHqNVq2qiysbGBZrMJ27Zx7NgxnDt3DuVy+ZnbREYgU7kQQiCdTmN8fBzNZlMbufhGSfXPy+XyM+cEiOiBJzzv234H3Iv2vJs2A0ucUeSnONYeUuUqeA7gDIBqvYnaTgM71TaWHlVxf24dd24/wuKjdWxu1OE5FpQXA5QNz7EhQeDBBYQLT7kQygOkQjzmIB2zkEhnMTldwMxsEbNHCzh1dhanzh5DsZTBWM5CIhV4edUAnucCFHcsEYAvAem7mX3aNfmCRZB9mtjOgVdcwf+OEtJ/Rn5cfzcAykL5dHAFKEEljUg4OJasS026NX9PJuVZMe8p8Cye6OeXx48jpRQs4ZfT8lQQJgXfeCKkBymdoMkehHDhwoHCAEJI/SQuhXgjwMlqWFIsnABtVHv2H4DSnEilUigUCiiXy2g2m5otRPVV8/m8pmceyqE8jdC+RroO142pTGaj0cCtW7ewtramPcrkYDL1d9LhSH8m/TCZTOrr8ljkKNwAALVaDdVqVRuFbNvWTjUOeAlgc/Aci8XQ6XRCTLj9TIDFHR57OfDIYEAG9lEeZcpDw52Mh0axveXAAOVRCnEU4Nwr3mEv0MbL3ZgePwKFdG0++cw2msK92WbyAmongeSo0kpE/+Xt5LRLWgDoPtRO8oJubGzgd7/7HX7zm9/g+vXr+jo8810UXTSRSODixYv45S9/iX/6p39CNpvV3j7uaSegzH+anu9nEboWtyoSICcjgGVZSKVSyGazyGQyI9/HXu/G8zwdl020GwBIp9MaxBIl+1m84gTAuRGEt4uekxb1/QB/o9pJY7vdbmNjY0NbSTOZjB5PjUYD1WoV1WoV+Xxe162m+WcakUZRgsxFmj57Um+xudB/V6KUwieffII//vGPWF1d1ePQdV1NVVpYWMBnn32GU6dOoVgsolgsPhM1nM8pXpaCAHEikUClUsHq6ioajYbe0IkyT0D5zJkzuzbrZ7cQP833vq13YYKIvdqwF+AwTw2yEnsBSBMyyPwsfK+fI+D2AacH3Lu1hk8+uYn79x5h4eEaVpa34bkxQMVgyRQGAw/OQAHKQzKeRDyeQL/TghAKdlzAUwM4qo9Br4diJYWjx8bx4sVTePHiaZw5fwRTMzEkxyxYcQkhFRRceN4ALlxAeLBsCSntILkW7Qm+l1p5Ao4DOJ4LIQDblrAsgVhMwI7F4SkfWAO+FzkmpF+dKADFjuf4paJEULBJ+P2olJ/t2YLNPL7BD0WeZf6O+fgKvhL5foKfgp28b8I9uHuPT61Q074VlAjz13A7GDtBngyhAOFCKSKua788PA+8VDKUB7iOgm0JCFA5sCdpN2/7dyukm6RSKZRKJUxMTGBpaUknAJVSIp/Po1Kp7ErqeCiHMkpI/6E9jej7rVZLA7dWq4Xt7W3tmd3Z2dEe4Cj9nj7nOr1lWTpZL0/wRQzHZDIZKs1K+yuF3VG4HoXJkX7Mc7DwZLme5+l6471eT8f387Cn/fIom4n3zOMcKFOJVTrGsUgymQwZwfi1D+f7aDmQQHkUkEilUigWi1heXg4BDlI0yVpl0hRM6oJpPeG0XW5ZIiHLE08Nb05uiuFttVro9Xq7vEVkxaJJulcSrFFUSg7cCfBRAo47d+5gcXFRZ+glQAMMqZvci3zhwgW88soruHLlCs6fP49SqRTZH9R2PpHM/t3rXY46Ts/mui62t7c19ZfaS9bFdDqNSqWiad9R4CvKuGK2nfchGSa4Z557359W6H6ZTEaX3TCTsLmui52dHV3Ki/fTXn31PMLvT9fn1Hmqp2mGMQjhZ0/c3NzE9PR0yIIaZYgiAw6NTZ7Mjp6NDBL0fR7XTp9zI0UU68M0jvHjvC30nESTIpq0aZXlyfvm5uZw69Yt1Ot1bYyiTbPZbGIwGGBlZQXXr1/H5cuXcfz48edSJjnTg/5Wyg+HmJiY0KUtPI/CD2y4roNWq4labQeOY9Y5JaPc7nuNbmIAQNWTMkIe5x00vY/0K9GhI+4NEYCqKKu2Ms4d/q684Wf0/PAEFJUXpsRXUsDrCbQbDjY3Onj0cB2Lj9axvraDRwvrWFrcRKPeQasJqG4W8PyYYA8WLM+ClIAUFmzLBWQTItGAhy4c20WxmMP0zCROnjyK4yfGMTNbxvhEHsVSHvliCqmchO0nRfYxu5JQMgby2MoAIFO/Suln34YMyhgJQCoLEEG5KroOfctiuFQAjuv4ZGpLwgoSTLmu41/PIoo1fIay5dOHXdeBZZEhVumYW/rb81xmNI16t3u99+9S8SKAP6rOc/RYFUIE/esDVCEla6oPciG9oBN8kroMwKzvgbchIGBboVZASAFp2ZAyGJOhvggMELvsD/Qmh2T471L4PjA+Po6XX34Z+Xwe1WoVvV4PuVwOxWIRlUoFxWIRwN571He9f33XQiDJDLfjexwHZST8HO70eFKvnGngjzI6P8uz0M9R72Wv9vHv0zkEGCmWmLzC/B85GYg2Tb+Tl5hAK/8uVQDhThiz/819HxgyGbluyx1fZk1wOs6dXvQ5rzzBn53y+NB5FEaXSqWQy+UwNjamdZn9ilPmHmUAoT6i56Z+bzQaWoch/arf72vGSD6fRyaTCWETuuahjJYDBZRNr5MJxhKJhPZ8mZYQsvpQIHvUohe1UOwFVqktNJm5B4h7CgF/EvMFgq5NQtYoM/4n6t5P8jktYvT72toadnZ2QueSV5asapVKBceOHcPly5dx7do1XL16FUeOHNEew1G09WehytLvUZurCZQbjcYuAEltofhkopnyxSJqgzEX/Ki+5EYQOv48nnG6TjqdDiVK4G2l56SFdy/v67clUQYLel7K3khA2dxcB4OBVqCAvetLm0yHUXGzfL7w/uFMBX6MzzX+HKP+jmoXvyb/ndaGwWCAVquFubk5zM/P67qL1E/cEl2tVvGXv/wFi4uLqNfr2ijypMLfO/WPWTIsHo+jWCzqclQ+VSwOyxIYDDz0el00mw30ev1gPeJj+amaE4gJQp9nDKrdgAAIvGtK/za8FyCUCh3XYA60RvhnC3gsmzABfJrrElAS8ERQaljAcyR6PQetTgeNahcbqy0szNdx984j3L+3hKXFDbRbAzgD+r4NKeLMuacgoYi5DSF6kHYfhaKHxJiNdDaB48encPbcaVy8eAFHj06gVM4GSaD8x5AxBSXJceu7YwUsWBocYXhyYOgQln5gWBpI7xaxu5tBHmMoQAoBpSQ81wtAsw/EJAA/oRllVlegpc+nDgfwTQidCkxh1NpEn5nPM3ym71Z2Ic8nuv/wWYaAmR0MwDeJgqRyXHRN4Xv3g8PD74Uo19x4EPmydp+zD0CZ1tZsNot0Oo1SqYTt7W1sb29jcnJS0655Hoko4fssyUFWtkftr7zkkGlApfWaG71JeE6Z52kT/0m/jzIGm/oP/8m/O2o/5DoreX/Nf/wYgWACt91uV8cC80RaBNKIPk0A2ky+xduwl6OIzjOP8/di6vUEXulv0nGicqvQvm/eCxiCcbomPQPlyOF5eh7nEPq2xOwH/o7pfZIxgsdqc2N8PB7H2NhYyJkTpVsdSrQcGKBsDgT+k5/DF3saQPQ3TWw6dxSoelKhRYMAZ7fb1bWcScklC5S5aHIKB+AnGMhkMrqW2/NapAgI008SpZROUpVIJNDr9ZBKpXD8+HH85Cc/wdtvv41r165hfHxc008oFpI8rYPB4LkyWT+NkPfYTHJF7y6K7nIQRUqpM5LzxZkbNmhj2S+JmlPU1lgspmsImgk4aC61Wi1NdYoaC1HvCwgzEHgIAWXQpg2IrJ7cE01x/pRkjqhVpnBjmZl4g9pkWpbpM5q38Xgc1WoVd+7cwdzcHLa2tpDL5dBut/XGz+dZt9vFysoKFhYWsLGxgfHx8aeeI6bxwLScU2Z/n/KdQL/fA2XUpU2v1/OTkPT7faTTaXieQTtlfz7d8vI8CnsAEEzDGF2ZAQmlyHPpAwiK/PSzNwcehuCnJS0NjPUYEwJCBhmwlIAXgGMBG1IIeALotAQezddw69YD3L31EAvzG1hfa6BR6///7L1pcxzXdQb83N5m34AZ7AAJLqAoUZIly3mjvFYq9oc4SVX+Qv5Z/kEqH+LKWxW7XHYcO7ZjS6a1USRFgCC2AbHNvnb3fT/0nDunL3rAHRxQ81SBIGZ6em5333vuec6KZqOPdstDLJZCIpZEt9uH67nwfBeWZQzCnAEpXfiyD9934fttxGPAW7dWcP3tRVy5voArV1ZQKk4hlXJgmBZMExg6bgNvrCGpuFPUfX7Sa08PAcAyLXVfpQwMCb47IOvkxRYCMCWbh0OPtm6g1qOyRu9V50GKR+FFv/tpPq8bNUb/+WzjOd/7xokSEYlCoYBYLIZsNotMJqMMvbqcOjVycTr1jV6/SNBJB10XRSkSeA0TroMCZ7fIjDIkjCKPtJdxAy99n+795A4iXdfQnRG0b3Diy0OiW60WWq2W8vhSfQzuBaYIP7oP/J7RHs5DnqMcFTq5404K/R7ya6D7QQbrUQ4Q/X7H4/FQSLjegorfP3relAfNnWK2baNYLKrIRor+4sVgXyW4h5ugG3H0ecadTUIIpFIpFIvFkAFMJ/sv6ix6kzGWRFl/nQsW3RvIQZatFykupX83X8AUukFEQkqpXqMQTfp+IgQ0GYkoU5iPHuLxLOC5FWTt+slPfgIpJX73u98pY4FhGLh16xZu3bqFjz/+GNeuXcOlS5cwPz+vFowurIChJepVgxYzFUqgMXMhb1kWUqnUufUefh7Q/UskEqFqyDRfiRSSR/k8xwVEb5wUhpNMJk95lIHAWFKv19FqtVSvQR1cyEa1GwGGyrbruqhWq9jf38fW1pYqKJfP57G4uKiEOK0nbumn7+KCnStxukJPY4rqaQ0MPeC2bePo6Aiffvqpah3hOE7IuEXH00+v10OlUlFtJZ4VUUoCB+Xkp1IpJJMptdn5chiB0em0UavV0Gq1kEwm6cyBpxBQuvfTLeGAKIXukhzxQX56dQjF8pJn2GOv0zUDrishhAnDNKFyZmVQhZhIsWGSrDUG/lyJoBXP4ER+4DGVUsAwBwRUAtIFem2J2rGHx+UK9nYPsLV5iJ2tQ+ztHuLkuIFapYNmsw+3B3ieDcuKAdJEv+8C8GGaEqYFCNEHhAdPeognLORyaSwszGB+KYP5lQzmL09hdjGPmbksCoUcnEGVeCmDQllBTjRdmw8YAgZGKVJneUSfHXQGfV3y2gONRgOtVkvlvMdiMRQKhVAKxgQ6Lhb5exIo4ocIoeM4yusUJXMJOkGJIkD89XHCk8bESTL9za9d976RV5F7TaPWzyinD39N/7z+XVH7Kumg9EOh0b1eT/2f0vLa7XaoKwsRX/rNO7UQmSbSS6/xIqT63kX7YpQ3m8+Vs4wv/F7rugrt5Tqh5QR7FHSjB8lEngZJtWm63S6Ojo5QrVZVFxeKvFtcXMT09PQp59Z5zHVOijknIZCTi2qqxGKxUGFh0zSRTqdRKpWQSCQidblxXLPjhPFlHwxckPA8A/19IspRC/Z5v5cLTwqZJkWb4v5JaNVqNdXHjXuUiZgkk8lQa5jnBQlouhf5fB7/8A//oMh6pVJRbY5+9KMf4cc//jF+9KMfqQ1Rtyrri+Q8+9dSYSk9XJ0T5WQyearg2biBiDIZILgHk+ZLo9F4LUQZCPekpudORJlXVqZjaD4TUeYFIGgN8FwifV3q1ux2u43NzU189tln+MMf/oBWqwXHcTA/P493330Xa2trKJVKKjRIX3vcSkrQFQs+/qgWcnxsNP6DgwN8+umnOD4+BhWWo5oEZNSi76VnPIqAPw3oXHyj1w1D8XgcmUwGqVQKrVYTrttXRJkiW6rVKlqt1uD+D0JuQ8/+aUYzWGucCJx1WZGR2VL7d1AOmIV0Swm4ng/TAIQYGOTk4Dl4gx7AZOE3TQhhQhoS8CWAgFhLOTiRD8AT8DwMFMEe2o0+qkd9bK93ce/uLu7e2cC39zdwfFxFr+fBtuIwhAXftwFpwDQGHhCvh16vDWFImJYPy5awbMB2DNiOiVIpi+VLc3j33Zt4+9YyLl8tQsQBMwZYNqUNBOHLGIRpy8EYn1zM6dV4E7nCT/uOlBKdTgflchnlchlHR0fodruIx+OYnp6G7/solUpIpVKnjFFne5InuEjg8pTLbvKa6cSXjuOf15V03Rh7kebKWR5xTpQ5MdYJLN9bzvJw6muKvz/Ko0p7FDcSc48zFW6ikGj+mzzCjUZD5awSUY7yDPOxRe2buieXe7gpRzbK26vPCU6uuY7AQfs3eap5S1j6mwqn8ug1fV7SPeDnJIIcj8dVq6RkMgnHcVCv1/HgwQOYpolms6nSE/L5PJaXl1UdH65jnOd8515ufn95qHg8Hkc8HlccARga3ymFkfR7/XlPMBpjT5T5RKRJzicGV95JEOjWKf08zwrKfdDJLym5FKJCPdk4ESULFFmteDjH846Jwnur1aoiZzMzM/inf/onfO9738Pe3h6EEConeXZ2VuX46gn8XCDze3lei4cEflReNxAs8lQqNfZEWYggR5lIHi/2ASBElPXiIOcxNh10X2mTIAMPjdn3fVWJvNvtIpVKAcApwaoITkRhDPJc9Ho9HB0d4Te/+Q1+9atf4Y9/P140kAAAIABJREFU/KPawGKxGObn57G8vIwrV67g/fffx61bt7C4uKi83XoRDh62PSpki7+m596TBbbb7aJcLuOrr75CvV5X3zH03HbUZuy6LvL5PK5fv44PP/wQ169ff+41QveFvouPmTw8QZX3FI6OhmvUtm1l8a9Wq6ECeOKZwqyHJHZI1p7yw0SWFWkOCJ84RQ3Jwxw8h5gTg/JeM4XTNC2Yg2iRIDzYCApyUV6nN+xZa4hBiSQDqFWB/b0mHqxvYPPBHrYeHqG83UWt4qHd9NFux2CgAMv04PV99Dw/qPZsAJYpIC0PQniA0UOn34Dp+0haFuaXFnDt+greunkVK5fymJ1PI1tIIpmKwYkDwgY8SHQ6PiR8mIaA7VAOq4TreQCGBdqMU2HXrw668kn7E0VBUB7+/v4+Op0Okskk5ubm1Jrmxen0kL6LRIAmiAbf53XSw9tucrkWFa3DCSRh3OeHbgQ4y9AZRd4AqOKpeo0Zfe/jepT+PZz08ntNXlkKdaa9l6cBdbtdVKvVUOEs7j2Oyjum7+eeZ55fHWX8IEMxvRflueUhzABO6bMkO0YZWniVadKNycNLJDaVSiGVSqnaPlTfhz7DiTJ/broMi3q+3DNN53BdF9evX8f+/j4ajYZKk4zFYpibm0MikVDXTeehz79qcCcBN4bq16ePhz870jt0Q8io+T7BEGNNlHVBTN4WIpy8EA4tPj3f9UU9y7pFjJR08s6SwOLtjYi008ZEXkUSbFKGK2g/6ySlBeo4jlrk6XQajuNgZmYGV69ehWmayGazKpxVXyQ8DwY4XbzsvBYPeTuicndJmMfj8cjw4HECKZokzHWDDREv8li+iKHkaaFbgznIeEPtj2i+cku567qqOARXknRyyg0udC+4ok0hTZ999hlu376NcrkcUtqq1SrK5TLW19dx//591YZpZWUFCwsLKJVKyOVyytjDPbpc0I+y6OseEjr28PAQW1tb2N7eVpUheVqD4zgqN8k0TVy+fBkffPABbt68iUKh8FzPj3u+o14nOUdKghAGu1dBJWfP81VYPN3/ZxiB9v8Rrmj5LATaUEcOC3MJEGEESA5LCMGUSTloXUQVf6UIWjh5w2EJCUgv6HvcqLuonDRw8PgYO1tVbG8dYnt7D0ePGzg+7ODk0EO/Z8L3bQRVr2MQQsI0B/1wpQcBDz766LodxOMC6XwC6UwOxZksFhencPlqCZcuz2J5eQH5qQRSGRuWPfAWG4PrkzIgwMKAYVD16sDrHTwLA0IEx5yX/sHnE1/DZIg8OTlBuVzGwcEBarWa2osAIJPJIJPJqLoVo9bRRJm6+IgiE0DY0wec3jt0Q2SU3L1o8+Os8XIHAj9+FGkEwt1K9IJZPH+XQmI7nY5KgyASS4Wz+G/SGVzXVdF3dDx33OjPiPZqcvDQ3kdEiu/jfE/intIo8suP5XoBJ55EYumHwpjpdSLHnCBT/R/6mxe/1T9Pv/V9n487quDWWTqklBKpVArxeFxF3NBnqYgwT1t43QST6+r9fl9xEJofNHbSsev1eqgA8MtKUf0uYCyJsk5waTJalqXyQCnpnm/gvJQ9hSa/CLniwkYXgIZhqCpzRCgajYaafBRiS4uJJip5nSk84nkVENM0kclk1Dip5ZRlWaEeryRkyYtNICHOLYb0OlUwPg8QkaJCDToMw1DXNs5EWQihBDsRT75hkVGFNr/zsERGWbj5/2k9BSG+LSVc6bOkZLfbbSWQKWyYK0k8JEwIEUpR4Hm9X3/9NTY3N0OWbAp3Pjw8xM7ODm7fvg3btnH58mW8//77+Ku/+iusra1hZWUFMzMzSKfTaj7wa6Rr0q2l+vt8/Lu7u3j06BGOjo6UMabX66k5l8vlcOPGDdy6dQuFQgE3btzARx99hFKp9MIRDmeREcMwFFE2DFJiSLEJ1gHlmgafedZv5+uIGsKqkWk/g9dGLj06RpcXfsAsB0W4PNeDYcigjY4YnJv69srBeXxA+kHOse8BvheEcvc6Hpp1F1ubHdy/u4cvPr+LB98+xH75EJ22C9tKwzRS6DQt9F0Dnh+0VjItAdMx4dgCwvDhyT6k7EKiDx89ZAtpLC+XcO3GJdx8ZxXvvLOK4qyBZCq4JleFUAcnFAbguj6EIeBYxuC+M2ODUkKHoedD8vzqoHt+dVnearVQqVRwfHyMdrutohaklKjVanj8+DGmp6fR6XSUQkqfn+DNgU5+uKJNjgeS2bQXcHKikyrulXwZTonzBN+/dIJJ/+e1Kch4qnvoOGElIxN3oOjElwxUruvi6OgI5XI5RJJ5TjA3NnMSS/stP4aPjYM/Y9I5dC8yJ/UAQrnqXIfhMoZHc9HnifSSw4B+yENMPXypswNFChJp1tO39P08KvSYX6e+33OPepQxPcrrDUB5s3mdIfpOzinOmyTr103ODCGEijJrNBqKk9D9o/TG4+NjlUvODSwTPBljSZSB6ElIHmUKvyboHiMSOC+jAJS+wHhlY/IMJxIJ+L6P9fV11ccZGE5sz/NQrVaxvb2NjY0NrKysYHFx8blJMm1KJHCBoMIfCRoeWhNFhCnshL/W6XRCYeHnQZS555JbsnVvIS+iNq4Lm3toU6mUqnCtbzbU61ufwy8bUSSRfnOPAOWunJycqDwjPn9brVZoTo/aJEZtXDSneNVyKaWy1tJa5UYvKSV2d3dRr9fx1VdfIZfLYWlpCW+//TbeeustrK6uYm5uTrW34ps1V/B0hYCPv9/vY319HVtbW8pYQ7k8VLxsdnYWf/u3f4t//ud/VnnDuVxOeZ6fhyzzzT/qfvLnkkqlmfwJh8VTWB5VqH/y+pDa7+D/w9xi+qFmvYzMhspni9Cv4XXQi0QUhapWLYSEsAZ9janCsicHnmMjCKkmB7QfeJB7HaBW7WP9wT6+vfsID+5v4WC/iWqlg1azj3bLh/CzMIUHt2/ClRKGZcE2BAxfwjQEDFNCGC7avRZ82YUwXMzNT2FpeQmXLs/hyrUiLl3OozCVRG4qiVzegO0IdQtMS0IaPoTwg2sRApZtAoPx9vsuXNeDL4NexJZlsj1nqNi9apmlK/r8e3lRPMpPJA+PHqo5Kq//dXtOJng5IEJH+zvND5K5R0dHODw8xMnJiSpWODc3h0KhgFwuh0wmc0o30J0IFyHfkeYzJ136/CbSR8Zt6g5CEUekt5AhmecF07F63jCRZL0Nk+5p1r3YHPz7gXD166iUKJIH9FqUMUPfH9vttjonhTlzTy/lwcZiMdi2jXg8rogl3Tf6DOUU67nG3Nt8VgoVH2+UBxk4HWJN131W4V9+vWfVHKE1wo0Nr4Mo6/OVvwYMU/v4HKXjaW6Rw4M+O5HrT4+xIcpP2pRpQtMi5Io3P56UyH6/r5TxFwVNLm6Ro5xaqjZ3cnKC+/fvo1qtho4nLxUV4Dk8PES1WsXs7KxaeM8KPU8CCN8/ToSiLL66INYXzXmGXuvXw69LJ8rjvqhN01SEigpo6AKf5kE+nw9VyH4ViCJOfB4IIVSxCj3agN4nouz7fmQ7M75h89f4xuM4DrLZLK5evYrt7W0Ves3nJV8LUko0m000m008fvwYAHD//n08fPgQ33zzDVZXV3H58mUsLy9jYWEBU1NTqrUJJ8JcqaPvIc9JrVbDt99+i52dndA1E9FJJBK4fv26Iud8o3oRTxs/D7f2E9nnzyWVSsIwzIBgBpHK6th2u41ms4lOp6OMBdEbuB5qrf/FSTK03wOCTGSZgqsF8WR9PYpT/xcDjyxVgh56kQeh11LA8wS8PtCoddGodVCrtfG4XMXuzgk2Hx5jc6OM7c19NBo9uC5gCBtCWpDSgvStQfEsAEYf0vAgDA8wAMM24MQM5BMxZHM5TBUzuLxaxOXVWaxcmsf8Qg7FmQRiccC0gaBd7vB+CENCGD4gPAQR1wOSLwc/CG6PAFfwfAjxegsb8XBarpTy3H4OLmc56blIHsIJnoxRe7rruuh2u9jZ2VE57NVqFUIIHB0dYXFxEYuLi6GwV66sE7jeMe7gcjiK3BMRLpfLMAwDx8fHqoUSGWPJwcBbLlEec1RFaT2vV/eY6uuNy3Q+Lv57lKeU64U8NJtfMz1LHtrMi2aRvk3kWCfJRJRjsZjK59UJMSfyNF5+vaMM7GdBvz5+r6Lm5ShE3Td+f3kdFK47n7dc1I0iBK7fcwchvaf/6LnLF2WtjgPGhihznKWM60n8+oIj4fWy+tWSl4pPSlpEJGSOj4/x6NEj3LlzB5VKJRTORMSawnF4HsHz9mAjy2M8HlchdJxs8vuhW6BICaIFTySUjApkDeXhra8SfDwAQveO/s9Dv8ZReePeU+pJeXBwoHJ7uTBvt9uoVquhMOdXAX0DHXXfkskkCoVCqEAJL17XbDZVbksUUeaWVlqPPEIACAp2kXe2Uqlgd3f3lNWanjGlTtA5LctCv99X3o4//vGPSKfTWFlZwfvvv48PPvgA7777LlZXV7GwsKDIcqvVChm26PpN00Sr1cLh4SHu37+P3d3dEGml0NRsNovvfe97WFhYUPnbZF1/0WqX/PNRBTaAgKgnkykYhgnDGDTnZc+VF3whmXh644vIQaZ3pNR47ihyjYjQ7MERkssH49QxoffkgM36APzAs2wOyLPbBZoVYOPbGtYfPMbDjT385c9f4/69TQgRgyniMI04hMjABOD2ffR7w9YXjmPBsHx0+jX46ACGCykAJ2YjnU/h7Xeu49a7a/jeh+9gcdFGfgoQhoDnA74PGDFAmHQJEoAXuLUpFhw+pDQgfYG+GzStEoN5azgW6JZLSeGLYSPleYHLd24YovVFexCl1nDFmRMg7oW6CB7CCZ4ONA+4MZ1kXqVSwcbGBr755hs8fvwYnU4HQggVrm9ZFnK5HBKJROQ+cNGge+h0BwO1M7xz5w7W19dhWZby2FE9C93DqVr5aSHTXBfkBV17vR7a7XbIyxq1Z+t54zR+An0nf53rUBQtwr3D8XhcRb+lUimk02lVjHRqakoRXx4WHeX95fJCJ8U6OAml47j+x3WGqGczykDNdV39+55GX4ziG1TviELD+Vi5t/481gHXL/Vx87VInEdPkxAiSAukHtD63nTR1/J5YCyJMkdUCBhfRPrik1JGWlaeF9zLRULH933Vb3V/fx//9m//hp///OfY2tpSIZxEsEl4JpNJlEolzM7OolAoqMJEzwPyegkhQrmhXFBRbigp9vq91IUQz1d41WHBOs4KB+LXNe5EmQwPVIAiKhSq1+uh2WyeS/6fbr3l4+DPOp1Ohwglnwu0metzbJTwJtD8ISNTPp/H3/7t36JYLOKDDz7AV199hQcPHmB7e1vlcNG85QUzKKeGiDO9trOzg1arhbt37+JnP/sZVlZWcPXqVSwtLWF1dRXXrl0LEUge5dFut3FwcIByuYxKpRJah3RcMpnEjRs3sLCwEPL8cwLxPCRCN1rphj56NhTqxnPZ+XGU00ZV1PlzfpJcUWtICgxDrfV1NfAoh/7mrwtADIt1BYSSzqd90heQ7iDoWgTfW6/2cPi4iZ3tx9jZOsTuVgV7u1Uc7NdxctxEvdaBKbIQwoGACemb8KSE9APyb9mD7zEAaXTQlx1Io4r8VBxz87O4vLqMlZVZLC0XMTOXwXQxi0LBQiIpII2AGJtW0K1ZCA8SPqQf5HsLAcBg90gKCGEApgnbMAbttGgd+PA8X30uKOAVjhZ41WSTK8Pcw0AGJzJc0byiKCiaK/R5Lie4MedJa32CiwddDnU6HdRqNVVnJaiPEKTeUIoH33v5/KG5cp46w8sA1yc5qeBRPuRFplQFSk0DcGqv1PVU/buiHBpEwvg5uCODPsujkIDh/jMqPJp7eykKk3uG9bBoIsO8aBb/jqgQdT6+KHkx6n7ox3FDO39f1/m4/DlrjxtlUIh6/vx4Ph4ioFyn5u/zcZ030YwyAJC+zwsZ0zwiA00mk1GcgTiE/pwmiMZYEWVdeHPw/Bfa7PXP0oZPeSAvazxEfLkQM00T5XIZn332Gf7rv/4Ln376Ker1eujzfAyLi4v4wQ9+gMuXLysP3vOSpagNiQt9YLQHkQutKEFBQuJ58TQCRDdw8E1XF65cCOvXdF4WvacBV0QplJlvpETYOp0OGo1GaG5wEhcl5F/VdZKlkSqmUz4LfScZnSgCgvfg4+PTx8Y3ft5/eG1tDcViEdeuXcPa2hq+/vpr3L9/H+VyWaUkkNWe7gvfJOm7fT9ojVapVPDw4UOYpolSqYSlpSUsLS3hxo0beP/997GwsICZmRlMTU0pmZFIJFCtVrG5uYmjoyPlOeHXlEwmVWu16elpJWsodPVFjTVRSgP9n/6mthSU704KFleYer0eGo0G8vn84HkRWR3lRVbfxEczfJOT5ZDHWarXBv7UAZsU6m0ph+cS9M8g1Fq6QK8NdLtBvl+90kR5p4LN9WNsrO9he+sA5d0KatUuWg0XvR7gWAnYdhpSDnouQw7aSnmQ8CAMCcsScOI2nLiFRCqDzFQW8wt5LF+ew9raKi6vzmFhYQqxBGBZEr4cuLQNAOYgtFoE54Q/SJAWBhTrlYo1IyDGJoRhqOuUkmQn3bcwKSaZoD39yGfzIqB9Sc8xpjHwwi3kWeLj40SZPhuVGjDBmwGu7JNxkst5KaWKdqP2RO12G8DpqDS+R4/TfhwFGjffn8irSqkJekoQRWDwz9EaO8vTG6XL6l7RKOMCfy68YrTeO5hXkiYPsf5D+x3lDxNp5pEFUd/9pDUfZZDVnQKjEGVUiDrHWZ89C2c5XZ4GXO+M0pX5Ma/LaRNFbincn5xzdBz9JgcOJ/xREagTRGNsiHJUWAF/gPzBUgl3TjZIyaeCJXrSOp2DXovCqEVGgotX0u73+/j973+Pf/3Xf8UXX3yBarWKeDyOTqejxsUFz4cffoh/+Zd/wc2bN5HL5c4cx7OAexE4eLgyv5YoRFkLXwRPcx7+TIh8UJgtva4rdkS6ogT1KNJ2HuBhQ4lEAgsLC/jiiy+U0pFIJGCapvImUygz34y5sqF7GF/U4jdqDkgZFNXiIXUUYkzX1e121ZifJuxO3/zJG0uvFwoFJBIJXLlyBf/4j/+IarWKL774Ap999hn+7//+D/fu3cPu7m7IwMCLU4z6zkqlgnq9jjt37uC///u/kUqlcPPmTXz00Uf48Y9/jLm5OUWYy+UyvvjiC7RaLaUockI+OzuLq1evolgshvJ/uSx4Gd41brkGcMoIkUgkMDs7i1arhWazqRRYUmJ7vR4ODw9QKhWRTicZaRvKMS7TpIzY+CkcmoitGLyonUsSWR0QaqE8qiIg0B7Ue4YQoDbI0gfcHtCsC+xu1fFwfQdffn4X397fwvajx+h2AK9vAjIG34vBQBJx24Jp2jCEAddzIRF4bE1Lwvf76LktQPZh2w7ypSksLRdxbW0Jf/U3b2NmLoNkxkQ6YyEWN2HawfVISBjCA0SQQxx4wwe5yEICxsBOoFg+97YPSLM0yCU++BzJeBP6kog2ODLjwisGT/khgx0Qlre68Un3VFDUQjKZvHDewglOIyoygOYIRaaQfOPpXVTTIWpO85Qpyukc17lCY+StOUulEubm5rC/v68859RNhIo60md1QqzvdaN0ENJdozyX+jk58aWw6GQyqapJT01NhYgvJ8W0l+gETw+Vjhojx9MQ1ifpAE/SVZ6VvL6KY/XPRBkO9L+fRp9+2dCNltxQQwYcWsN6C1riKzz0n9erADCyJeAEQ4wNUT4rXEKfnFwo0GvcSkJkWcdZkyGKJJOCQQSGJmW1WsWvf/1r/OxnP8PXX3+tKknyMFH6TXnVU1NTmJubU0rHy7RGjbquVy1gXgboeZIhgheBINIcVYV7nBY2DxlyHAepVEqFvPN5SUoqVcqkHBjgbCvsy8BZc4SKdliWpdoj8TAx13XRbDbR7/eRSCSeyQIZZYmlsC7ymDqOg6WlJXz/+9/H5uYmNjY2VEXqvb091feVqnLTfQbC+UR0LRR2+tVXX+Hg4ADffPMN5ubmsLCwgKtXr+LOnTv485//jEqlAiml2jgIKysreOuttxCLxUIVgfnYXxbOuo+WZale6LqBA8Cg9U+bGeZOh2UNDVLhnr6BgisCTuyTE1UbC/NAB28Flat9X0L6gGGaEHKg7EmqZx14kBvNHg4Pa3hcPsbe9jG2Nio4KNdwuF/H3u4BatUWOh0DphEHpAXfE3D7wfhNQ6LX7wLSh2ULGIYPCBc+uoilDMzkcli5PI9Ll2excnkKU8U0pkpZzC9NI5VxYMcBxwEMMyDEgRfaB+ABQkIKsg5w2sq95ANSjEHzZHXkqDU08hGeC7jBhXv76D1SkBzHgRBC5SjTXplOpyPlT5D/PVxn4yRzJ3gx6DKCE2CumNOxUZ5QmkMXAaOM67lcDgsLCzg+PoZhGDg6OkK32w0ZrvnnOXSCpRubOJnW+wSTh4+8fGQA5R5hHkKt9x/mHmUeJs3HynXQCS4uaP3x9lj8PYqipeg4qjdEOgsZwXgIPTeSvqgj5ruAsSPK3Mqme9a4ok2CPSrUjEqkv6iXVLcEAkC1WsW9e/fw05/+FL/97W9xcHCAbDarChHpudOWZSGdTiObzar2CvzaJpMznAc+Kicm6l6Ny73jVlvaAGlj5A3eASiiXK/XVd9S/Vz898scIwffSKlat+M4aLVapwxP/X4fzWZTVXqnzz+v9ZavD9u2sbi4iOXlZXz00Uc4Pj7G9vY2bt++jS+//BJff/019vb2cHx8jGaziVarFSKuvG4AN7pIKXF4eIhyuYzPP/8c+Xwe8/PzWFtbw8HBAe7du4dGo3FqHRqGESLKPNXivBUOkh28mAgwVMioOKDnuYCqvCwg5ZC8SRUSTfMqHJIFyZVmwUp1aZ5p7mH1SCYG+bq+C/R6Er1u4IFsNno4eFzF+vo+Nr7dxcb9MjYeHKBV9dDvCPT7HgzDgu2k4TgJCMOA67uQ6MPzXUD48P0+IDzEYw7iCRNOzEYsaWO6mMbyShG33ruJtbUVLC1nEEsYMGzAlYBhAZaNoDiXIF8ykWR/cBt8SOmzEHK6R0bEz/l5gZ8X+tzgqSy8WBevG+A4jtoreVqTfl7eS3RcPYUTPB2i9gCaI+Rl5XNBJ4acgBGJ5MeOuz4TRRozmQzm5ubUvgdAGVD5XhVl8NX1FL2qMOUPkzeYPMTUWziVSiGTyagcY06QedFILq95tCL/fh1RxH6Ciwm+7uhv+k2GKirCS55kPnd5WiDXLyfy/OkxNkQZOB0aFEWUyRNFlm7u/QICRYEKMBCeRnhHHUOCiApcpNNp3L59Gz/96U/xm9/8Bnt7ezAMQ+Um85BVgmmayOVyKBQKyGazihhNFI8AUkpFwBzHUfnlfFOjHE2uEHK87s2ZKwjU65s2RArF5wKt1Wrh5OQEpVJJhXkBp41Fr/q6uDEnlUohFoup9UdKExHlarWqLO161MSzgCIs6Ptd11UhQKZpIpvNYm1tDYuLi/jkk09U27U7d+4o4ry9va3Gwi2jlKdDYyKLPMmEjY0NHB8fK+JP4+fVIm3bxuXLl3Hz5k2kUqmQ0UC/b6/6+VClWXouNBaaT/1+H41GA/1+QJSpOnZAhvX8WSLJZHCk8fuQhgsxoMLD3GIZFOECEHhWKcxaAL45iNAW8Fyg25Y4eNzH1tYBHq5vYWNjGzvb+9jfP0Kz5qHTMuF1MzCRRNKJoSe66Pc76Da78PsebEfCcUxIw4XruXC9DuwEEE8YSCQk5heKuHJtCe++/xYurU6jNGsj5iRg2w4M04BwAMsJOjiLAb+le+DLwfgRvClABN9XPZ1DYdbgJxAvgSOfD9EmTzEZUTgxpnXB29NwmUUKOvckcjlAHujJfnXxQc+dez9Jp9INIlHkl2Q2j+ijeTXO1bB1kkzXlkgkUCqVlIE7m81if38fx8fHoZoz3NjEq0EToaXaJMlkUuUGU2Vp3nOYV8vWvXt6SyWS9fQjpTxVaDUq0oheH9dnMcGzgeYDf+4U6ee6roo4o1oC1PGDRxokEgnkcjmVXsfl+wRPxlgR5acBhRbwSrTc6kZKMQ+Dfl7w0Otms4kHDx7gl7/8JX71q19hf39f5buQJYfyAfjnTdNEPp9HNptVysgE0aD7RZsHf6bA6yfETwOyIlNuERlseHhWr9dDpVJBs9lUn+Gh/Rwvyyo8yqMMDD2X8Xg80qPQ7/dRq9VCxqfnXVs8l40UBF1pIwVjamoKCwsLKJVKWF1dxbvvvotvv/0WGxsbKiz78ePHqFarp6pR0zUQeSBF4+TkRP3Nr5HAi6boFntOVqPu6csGzaMouQKAefr7pwxv4aGJ8G/JQ7J9+F4PgnKLQWR4UMCKhSJLX8D3Ag9yp+3i8KCO8t4J9naPUd5rDv5/iIPHx6icNNBu92DIBIRMAl4aQsQhhA0DBizTgDAMCNGH63Xhdnuw4xLptEAqncb84jQWFqeRn0pibqGApeUiFpcWkS8kEU96yigQOLYlPF/CtIygCjbIUBAYBqhCtbp4SAhlQBBn/Fw8RHmayGOYSCSUMZKMQ9TOLpPJhNY9rY8JOX5zQXKEe5R1rxWRaspr53uyHh007uSMy3Ga42QkmJqaUoba2dlZFfFFn+OElleHJqJMBnKqJs1DrXk701Feff1e8jFz4qwf86Rw8AneDIxy5JGeQgYsvSYFvec4jope4MYuku+T+XI2xoYocyF21vtCCCWEoo6VUqr8T/65qOP0c0cdQ0p9tVrFL37xC/zyl7/EF198ccpiE1UMBYAiyhR2fV7ewosC0zRVeClZpXlPXdu2VfGKqI1kHKATJ8MwkE6nkUqlcHx8rN6j+UHEk8K9oub+yyZjUZZnIqamaSKTyaj8Yzqeewzq9XrIo/y8IO8WWUFJgSDhTveIR48sLy9jeXkZP/jBD3BycoLt7W18+eWX+POf/4zPP/8cGxtpAYxHAAAgAElEQVQbqFQqoTVvGIbqeUkkkkg5FbLgCgovlFGv13F0dKQKj1GF+hfxpD8PTNNUc5/AQ6koOoFykIJNEMCgKpdhRITk+UMSKTDIfXJdGAYC4goDcpCbKxA0F5YQcHse+h0X3Y6HZtPF0UEL39wp4+uvHuLuNw9xeFBFs9FDvyvhuQBgwjTTcOwMTDOFnmvD8wz4VJjLNGBbNny48IULX3SQLSQwO5fF8qUibr59BWtvXcbsfAH5qRhSaQOuC7iuh17fgxMXsG0TwgD6fQnX8yEsASNUkVoM8q8FggJkYlCwi8hy1DMkw8BLfpjnAK7QA0MlnGTo9PS0qjVAilIqlUKxWEQ+nw8Z6YhE0HkneDMQJbtojkRFz5Bs5K1neEHNi2L416+bG0sNw0AymUQ8HsfU1BTm5+cjr00nzFwHBIZ9bM8KiY4iylFj5d/HjVV6eyl9bBOi/OZCf948HYyMWUA4ypZ0KtM0VVFZHjVE55rgbFwYokyg8BPKneI/NEGo+hvPZeSCkhOFsyaJEEHO6f7+Pm7fvo3/+I//UM3nyXpDXmXaTAg0gW3bVg3c+Xmjwsu/i8hms/ibv/kbrK+v47PPPlPPTgiBVCqFpaUl/PCHP8TCwkLoc09zz87z3vI5JaVEJpNBOp0O9fPmFUKbzaayWNO8jRrry7iGs84NDI0ViUQi9D7NU9/30Wg0QvP7eb0HlmUhmUyGBDz3bHPPO4UWkVVeCIFsNosrV65gZmYGH374IY6OjrC1tYVvvvkGX375Jb755huUy2XVgovOTR4AqghJyiEZw+h+9Pt9/OUvf8Hc3BwSiQQWFxeRSqVC13BeyiHPHeeF4YDhfKIe1GRU8jxq2zLwrHMDCQKi7PskMwPSatkJGBjkK/sCkGbwA4F+T6DVBHa3T7C7c4TdnUOsP9jB9tYhGjUPtWoX9VoHvY6A7ydgCRtOzIEhTEgp4HsG+r0+3F4vMILZBjyvjZ7XAvwOpkoJLC7P48r1eVy7Po/ly1MozTnI5hJIppOIxS3YjoCwJCwLMHwByzMBAfjSh+EbMC0B0wq+z/PC3nRhEB0WZD8IPOrMuz7ky/yDT/OEnuagVy9/uGcQCOYGGU+o/dvi4iK63S4SiQS2t7fRbrcRi8UwPT2NpaUlTE1NnQoHpfNNvMpvBnRdiWQIeabIQK3LGCoUROH7tm2H2uTpEWDjps8QaSBywfUvPlbaEzKZTOSeqeuNPDwaGKbeCSFCaQ78eO5Z5m3b9B99bPS9evj4BN8NcD2F5hE9/3a7jUajoVIUyYDT7/eVo4AbWEie6ykWE4zG2BDlUdCFEnmUY7FYyLLJBQxVyKXiWqPO+zTfa5omvvzyS/z617/GnTt30Gw2T+WQ6EosMBRytm2jWCwinU6HevGNq3f0vBGPx7G6uopPPvkEzWYTGxsbaDQaMAwDN27cwCeffIJr166pzQs4vblF4XXf20wmE8o/BoZj8jwPzWYT7XZbeTajrNdn/f00oDmm947Ux2QYhmq5xo8hpcLzPLTbbaV8vwh0gs2VAl1J4Io7gYe1l0olXL58GVevXsWVK1dw/fp1PHjwAJubm9ja2sLBwYHqzwyECx3RtetGtl6vh7t37yKXy+G9995DoVAIGbn4mF81KAydDINcOeXjJc95MpmEEHTvMLjG4fmUJ3nwnoCAgAkhTXWA7wq0mi4atQ4qxzUcHTbweL+J7a1D7O0cY3+/gvLeCSrHLUBakH7wA2nCECYMYUHAhJQBIfe9PnzfA0wXdsJBOh1HMpVAJpdHYTqBpZUUli8XsHJ5DnPzRUwVU0hmJAzTBwZ9jiE8+EG8OIQpYJqDkOsByTVEEEgtvSHrHV5jGFJGPD8ZceCpA0ZhfBQMvf8prX/LspDJZLCysoJ4PI7p6Wl0u12VVzk7O6tCr3USoe+tE7x5ID2HZI2eYuO6LrrdrgpH5v1YL8rc0HVInWzwfY0Ib5S+wfcOHbr+R0Zm/v36sVF7Hv1f36cAhPbDiQ753QJ/3lzWU92XVCqlWpwRKCqPctv53L8I63ZcMNZEWSfJBCo+EkVQyRNFRJkKKDyLtZOfU0qJ//3f/8XPf/5z1Go1AMPexXQMz0PVw2dt28bs7GyIKE8wBBU7+8lPfoIf/OAH+MUvfoG9vT04joO///u/x9tvv62Iim75GheSHEXuiChHheUT8aSwWV5Ih5/zZVno9TlJ5+abL7Wq0Ct38vFS+N2LCFmKvOB5W3xsPOyaF/2iH53sGoaBYrGIYrGIDz74AJ7nYW9vD19++SX+8Ic/4Pbt27h3756qmk1kU4hhES9ODnq9HtbX1xGPx7G3t4fV1VVMT0+r484TtMmRvGu326E2D0AQ7tdut1WdhCAkMPg8hVlz28aQSAceVukBXjfoCSylRK8tcbDXxvqDQ3z95QPcv7eJjfUdVE7aaNb76PeAmJOGbadgCAeWYcGwLFDbKM9z0e/34PsupPRhGBKG7cGx+8jmJUozCVy5toCbb1/FrXevYXnVQLYgAAPo9wDX8+F6LiBdCMMLxmtICF9AGEZAxk1ThVgDA2OAlEF4tWYoCA4YHhdcJ90MRnN5ynIIEmcT5dcP3bNFhYa4B8q2bczMzGBqagpXr15V6QhUJT7KMEdrbqJUvbkgWUh1KlKp1KnuBpQuc3JygkajEQrTp3lBsnkc5wknxVHODL52uHeckxG+t0eBopFozY3qJ60THb3rBT+O73lRxJpfw6jvOeuYCS4OaI1yHYgiQeLxuGpzRgW9aC7GYjEUCgXk83nVPYNzKj1KYYJojBVR5sJhlEeNFGjKUyahrsfq93o9RUJISD5JwHAhJqVEuVzG119/jS+++AL7+/uhMBlq/UPfr5Mz+ttxHMzNzSGfz0de43ddiNEmRtUn/+7v/g6dTgeGYWBxcVHlLkdZVMcNFBpD4cVUSZpC1vgc7XQ6qt0RD8fSLdAvQvq5MDzLEk7zmRRsIqJE8in0jjyX1GbgeZ4Drd8oCzsfIzcu8JDss9o0kVI/OzuLeDyOxcVF/PCHP8TR0RF++9vf4ne/+x2+/fZbeJ6nnovruiHiDQRrNplMIplMqiqRo8LhXiVobZBFmHt66Hp930e320W32x38TTJMDvhdkHNr8ErQnoTrSnh9gWbNxf5uA0eP6zh4XMXe7gHKu8fYL1dxctREvd5BuxWD7yYQt00kHBOeC7g9OSDCfZimF3h54cHzupDChR0XSKXjyOfjmJnP4OpaCYtLU5idy2N6Jot8IYtc1oAd99F3AWECwjRg2wIQFgBzQHwD8qtKcovAm+z5gzxjIQcvSwjTGxbpUh8a/pxuBzX8dRpS+yFQdewzP/xawHuBc+We0pCoLgDJhU6ng3q9rtZ+PB4PEQSdWExwscGJof66bdvI5XLIZrOo1Wqn8mD7/T52dnaQTCbhOA5yuZzq10rHjvPezMHHS+DEX/8h6PdP31u5QSlq7+XnoN+8Lod+HPf+EWh9jjqf/voEFx96lWrDMEKynlIVp6enUavVVARIPB5XbTEvXbp0yiFzUXqgjwPGhihz69lZFg4S6qTUcysefd51XfT7faU8Pu84tre38Z//+Z+4e/cuGo2GEj5cieeWPk5+6TpisRhmZ2eRzWZDeclk0Z8INChLmW3buHbtmnpdJ4/AeG8AZEixbVv1TozH46oCO08V6Ha7yqtM1Wj5RswFWpTh6GnxNMouX1OcGAoxzLXi6Qx6FeZnQdTGz98767xPS1aJ5JZKJWUw63a72NrawtbWFtrtdkgR4ddjmiaKxSKWl5dRLBZV3rbulX+acbwoaHyUXx3+fjnwFvvo93vD3GsMaJ0cxBMHPBJuH3BdiVazjXqthUqlgWbNxfFBF7ubDZR3aijvVVDefYxqpYFWqwffMyGlCcCBKWyYpg3bstHze/C9HiRc+NIFfA8wANsG4imBTDaNqekM5uaLmJ1LYHEli2s35jA7n0N+Kol4KjB2+J43yJceeHJMGeQUC2NwDYAUoCsa3G85+MtX/xOQgPAh4AHwB/eGSLEBQT2jqE2UFp59GlKdZ/g3f08x97ECV+y5MZb+Tykfx8fHqNVqaDab6Ha7mJ6eRrFYxNzcXOR5z2u+T/BqwfUX/jd5pigKKip3kYgyhXiScYVHTFHI8jgiiowSosjwkwzBo87ztGvkaYzgOlnn61n/nhfRESYYf5D85mSZinlS949KpQLXdZFKpVAqlZDP5zE9PY35+XnMzMyEOoxwLjKZO0/GWEk23ds6KnyEl+fngo0mASfLUVYTfu4orxb9PHr0CP/+7/+Oo6MjAFB5gp7nqVBHAMpjzb2GdG7HcTA9Pa02ID7GSZGUYYVI6tkbRaJ46Dxh3Ba2lFL1G+UtIhKJxKCFT089fyKeRJSz2awyrHBLvr4WXgZZHhWtwdte8JBkmtcAVFsZ6rn5IogaD1cKuCDn46TXdM87t9DzXrLUz7pQKKj2CGREA6B6YpJRzbZtXLlyBR988AEuXbqkwgwpWoC+gz57HqBQvuC6PUjpwfcN5SF2XQ++F/QFViHJphkQTR9BO6emRLXiYmvrEA83HuHb++vY267gsNxC7Vig2ZDotHx4roRlO4g5eQjLhu8FedCuJ+H7/SAM2vDgxAApJDy/B8/vQAoPyUwSc/PTuPnOVdx4axVrNy5hZtZEbkrAjAsY9iCcGm7A4y0BS9gDIgvIAWkmEupLwPf8wWvU/ikIqzZNUxFlKQcREEJCIvB0SwkIKQAxyG1G4HUeYtRa4iT54nhTyaBC64CKuFCRJsuy0Ov1sLW1hc8//xwPHz5EtVqF67p4++23cevWLRSLRXWOqJSRcZO5EzwfdKMfyf9UKoVUKhV69kDw3Pv9PnZ3d2EYBnK5HKamplRFfjLSjStRpr0ZGIZW6wSUQPvwWYQ6ihDzfZLvSU9y+jzN2Pl+xyOq9DFOCM+bCV6kmHQ00zTRaDSwvb2N3/3ud9jc3ITnebAsCzMzM3jnnXcwMzODbDaLbDarUnH6/T6EECq6CBjO+cncGY2xkmx6MRHd48oFFbW8oNxJLtiJiHQ6nVAYKRC2jpNw415gIFCE//SnP+EPf/gDjo+PFQHm7RFM08TKygqWlpbw1VdfKTLNkU6nUSqVUCgUEIvFQiGevGDEd2mC6p53/vpZHvZnuUev436SUQSAKvCWTCZRLBZVX2/eYkiIICTy5ORE5cByTzKfly8C8hboOWXkSaW/qc9qJpNRnmMyXJDiROHi6XT6zErdT3u/dJJ81nH6a7pBSn9PjzLZ2dnBvXv30Ov1QlVHyXDx3nvv4erVq1heXsZ7772HW7duYWpqCgBCltzzRDB2iUQyiWwui4ODxzCMwbVLTzmN260mWq0mQPnIEjAMoFHzsb/bwKd/+gK728eonbg4OWmiWmmhXm2jUe+h3RDodQy4fUB6JkwBGDLw9gKDPGPTBQwXEC56ngcIF7YDFAopFIsFlGbzmJktYHYuj7m5HEpzeRSLOeQLccSTAk4MELYcRC0P2L2gP5mn1xAQMiDCEoAx8DST35gqeLOnHfwr2FwYhGPTZwR5lUPe5Cc9RwMBWY46zhjx+usH3+MoMoTmbbfbxfr6Ou7du4fNzU3U63UVkr27uxsK08tms5EyeoKLD5KHtN9y0lgsFrG0tITDw0Ps7OygXq+rcHySgbVaDXfv3kU2m4XjOJidnQ21nBlHhVuPYorSPfT/P+s18D3pec8x6rxAdKeFcbvPE7wakJ6it3Arl8v44x//iL29PXQ6HaXTHB8f486dO4jFYlhcXFTRaKSX6nNpkqP8ZIwNUY7alKMEAb1G1W8rlcopyyBZTogoj4Ie6k1/N5tN/OlPf8Lt27dV/D8wDK2lBvVra2u4du0atre3cXJyEiLrAJDL5VRFUcr9BIZe1O8qznquT3ptnEFtwqhHaTweR6FQwMHBAarV6invaLfbRbVaVR5cThxJMYlqY/Es0JUEDv46VT1Np9OoVCpKGJNBh3vBX2Q8+tie97hRn+Xh7cCwENnu7i42NzdVL2j9HN/73vfw4x//GDdu3MClS5dQKpWUgqinSZzXvJQIvKqxwXMxBt5UYRjwB0Y7KQU6nRY6nXYwfwYFuqQEDvZq+MunW/j5//cZHm08Rrsh0esISM+BYcQhPRO+tCm+GZYJGINK09LvwZc9QHgwLQnbHhBm4SKbi6MwncbsXAGXLs9j9coillfmMTuXQ76QgO0ApjUwWkofQRS0AYgByRSnya66r5wMC4zodXzqk9AJbPgRCe3/Zz0/Cl6POmY8Q64JfB8k2UEypd/vY39/H3t7e8qoS3tupVJBuVzG3t6e8kDo55zg4kMPPdYNkLlcDvPz8zg6OkKtVlPpZmRMtG0b3W4Xu7u72NvbU0UUL4JB5Un61ssY/6vS6S7C/Z3g1YFHVgKBLkYh1/fv31dODSLRjUYDDx8+xJUrVxS55lF2upNhMreejLEhys8Ky7JUlV7uEaZJRQW9eChrlKLLybJlWajX69jb28OdO3ewtbUV6plMxycSCXz00UdYWloCEBCkqKI/hUIBMzMz6j2ucEd5yia4uIgSNlSkjCus3KJPFYtHFVU4byFmmqbq2Rv1vZ7nKaE8Ki1iXED3tNvt4vDwELVaTRXv4mOnOgLvvfcePv74Y9XzXE/D4Div6xUQMAwx6D9shb6Xh025vT68vju4ngHN84Fv763j17/8P+w+2kenKWHIFEwY8KUDw4sHPYchAcOHaQbk1jAFfOnC9Xrw3RYMw4VpG8gV4kjnskilbXz0g/fwzrvXkU7byOYSyOYSSGVsxOIGTCc4p5QS0vcgg8ZOEHAGXl1d5r2Me0kEdpQ8fdbvGG9C/LzgRFrfCz3PCxW241FYE7wZoOdLlc55SDI37C4vL6uiQJVKRXmiyNhP0UWtVgudTifUwWAc94IJJrjIoIgNSu3zPA/b29uhAsNAkG5DYdmU5kedf/QIEsKEgzwdLjRRTqVSahIRGaWNvtfrodVqhfKsuOdYzyGhCVOtVvHgwQM8fPgQBwcHp5Rl27ZRKpXw13/91wCAO3fuRHoEAahQJvI0Us7YZDN5c8HngGVZofwQ0zRD4ffUm5LnvwKn827PC+RV1ucozX/K7aVruAjzuN1uY2trC8fHx8pwxsOzE4kEisUiFhYWMDs7q5RInm82KgXklWPgebVtG44dhxCD3DlfQhgGJC+01u0FodcSwGA6VU5OsLMThNn6XhyOlYBhSki/D98XsBwrCHMWPbiyi77bA1wPpgU4cYHpXAbFUg7zC0UsLBVQnEkhmzNxaXURcwslWLYBJ2bAdkxY1tBhPGh5DJgUDRHtQX4lN2yCyAgr4HRbQ34cKVVEhOj1i7DGJ3g28JQUILzfJJNJzM3Nod0OIlTu3buHVqt1yqHA+7uTp4sU+UntlQkmeHng4fe+76PRaGBjYwN7e3uhwqu0Rk3TRDabVWkThIkh6/lxYYmybdtIp9NKKHNiQUSZhD2AkLeXSDNXmOnn+PgY33zzDXZ2dlCr1UL994QQSKfTWFpawve//31sbm7i8ePHyiuoe59KpRKWl5cVUdKrTU6KpLxZ0L2s1HKD9zQlRdQwDPR6PdTr9VCDeMLr8OZQlAblNOtpC0SU9UIv4wohBFqtFjY2NnB4eKgKWfACcqlUCouLiygUCkgkEsqgxWsR6BUi6dyvfPyDfxzbGRTfMCFlUPfZUhXhgx6nvV53MD5VhBq9fhedbh3dfh1CeoibCQhTAF4Pnt+FbcVg2gISXUB2IWQflm0gk4ljaiqN5UtzWL2yjGvXLmPl0jRmZlNIZxF0b2LRzoI7dGkJCDEovCX41UzwGkEGHx7dAgwLERFR1gn2BG8GuL7De7GSLiSlhOM4mJqaUjKwWq3i8PBQdQqIxWLIZDKYnp5GLpeD4zhq/riuO7Iv8AQTTPB84IZO6mf+6NEj5cgjcAfN9PQ00ul0KHJI5x38MxOcjQtLlC3LUkQ5qn1Qr9dDs9kMFUWizYDCEXihIhL2e3t7+Mtf/oJ6vQ4AoWqJUkrMz8/j7bffxsrKCjY2NvDw4UMVpgQg5LEiTxVtHnyiTpSQNxM8SsFxHOTzedW/LsqY02g0hq192Bx9HR5l27ZV72AaI5+rFCrOva3jCB5B0m63cf/+fRwfHyvvMBkCfN9HLpfDzZs3kUwmlRGAlEfuSeYEmp7NeXlOgnZjcZjmgJnKoIWSED4gMWiBFXiUDTOodN1pS2RzOSyvzOLw8Bi9Tg2u7wCGBV9IdPsupOHAMU3YcYn5mQKWludx7foVXLpUxPxCBtmsg1Qqhngyjljchu0E6cy+B9WiWRiU10yEeTAnhJbnO55T5Y0FN+7S+qUQWd3gwz3KPNdtgjcLXN/hUUG0X/Got6mpKRiGAdu2sbGxgZ2dHfi+j+npaVy6dAlra2solUoqX5KMjhNv8gQTvFzwYl7VahVbW1s4PDxEq9VS6RAUVWsYBhKJBFZWVjA9Pa0KzBL0aKFx1eHGDReWKJNSr2/8QNijzIkrJyEE3q6p0+lgd3cXX3/9NZrNJkzTRL/fVwqz7/tYWVnBu+++i1gshnq9jv39fdUqiqy1lJs6PT2NUqmkFBSdKE0m6psFXbmklhtR4cxCCFVoinJnX7c1njzKo7zZVCCPh/uM4/zl42o2m9jY2MDJyYl6DxgSiVwuh7feegvZbDaUx8PDlDhJ5t9xXrCsoC+3YVgDOURFroJ+w72+i16/D8/3YVkShiVgOsDlK4v4fz7+EI1WEwflCoSUMIQB04jDthMoFqcwVcyiUIqhVMphdq6IpZUFzMxkkc/FYZLnWAAGeZB5mrFg4dZCaqm9g/+Mqos1wbmDh8kS+HrgXR30CCx+7AQXE/z58SKRPBqOZGc8HsfU1JRySCwuLsLzPKTTaeVNpj1tkp88wQSvFlJKVW9le3v7VBQryetkMolSqYTFxUXkcrlTrd7oXEB0zYoJonFhiTKRUfJ+6XmTXKkHEPLo8XBKet/3fdTrdezs7OD+/fshck3He56H1dVVvPPOO2rSUjVjOo6KZVCvwXw+r/pY0nF6Ya8J3hxwLw5Z9xKJBBzHOeWJ9TxPtTHr9XpIJBIjz8k/96pAOcrc+MS9DnrxsXGeu/QMms0mNjc3UavVQq/T5pLNZrG2toZ8Ph9JJPSUCp1EnweCXs8xmKYFwEDQJzhgpUIYcF0PfdeF67mwpQ3TFIgnBdZuXkI2m0Oz08C3dzdQOa7DthLI54tYXFjG1WurWL0yj5XVHJy4AcMCTHsQRS2BvosBKQeEGXirhcEIsV5MGkDQvHnwppSQEMOc5QleKXQ5oUeo8PmtG2op0irKgDtRpN4McDlGuofneeqHPFKcLDuOg1KppJ4/FUkFoD5DxQ9HFaWcYIIJnh/EPcgxt7OzA9d1T+lpnuchn89jcXERMzMzoaKkQFhf0+W7/toEYVxYokzeL158h+fgeB7l7vUUKeVN24mw9no9VQjs5OQE1WpV9VoFhoUvDMNANpvF0tISSqWSSqan97jyHI/Hsbi4iKmpqYEnKNzihyfdT/BmgZQMPtfi8Tji8Tjq9XooPx4I5gJVD41qy3KeIZBUpEVvsUTj0Y1P4wqSA/V6HScnJzg+Pkan0wnl59FzyGQyWFhYQCqVCnnS9bDz19EeimBZJhzbhmUHkSm+58L3JaQPCBjw/cAb2O/3YBkWfNOCgAHTEijNpfGTf/h/8fFff4Bu24VpGHCcGJKJBGKJFJKZOGIZAdMMvMPUklgIwDIp6VgOiK6E67vhEGvQ8RRhYAzzlcVZzZ0mOC/QsyGDLRAmyrQmeHcHHROyfPHBZZ/+PM+KuqNq2cCwSwB9hodx8+4OE0wwwcuBEEEr0fX1dTx69AjVajXkmAOGjsD5+XlcvnxZrVE9XYzOR79JJkwiQs7GhSXK5FGOxWIqRJpCgSiMrNPpoNvtot/vh6p9kiWGbxr9fh+7u7s4PDwMeadpM4jFYlhaWsLCwgLi8TgePHiA3d1dAKfb+CSTSVy6dEmFLkVtTBO8udBD3MirTF5NPheBoDIz9ScGwl5pOt95zB3TNEOGHQJ9v+u6Ko933CGEQLVaxePHj9FoNFQNAR6mlEqlMDU1hVKphFgsdqqIEb//eq914PwKrpmmCduxYFuDSBghAqIsAQgDUgKu66HX6yPm+KCIaSl8OHEDq9cW4bsCfn9QgVoEbaRcH4AhYcUkhBiQYiGClk5SwhceBmycXasHVY47uDuD3/xeyOG/UoQPn+CVYZTnIMqjrINXvZ7gzUVUqLVeP0M/nqegUNVr3kZMr549wQQTvDz4vo9ms4lHjx7h8ePH6Ha7Ia5Dsj2ZTIa6d3BdR1+XegrapCbF2bjwRDkej8O2bRUORN5lChFqt9vo9/uIxWLK60yWGD6JyGJTLpdPKRq+7yORSOCtt97C3NwcPM/DvXv3lEcZCIc1pVIpXLlyBYVC4ZQnezIh32xEKQqxWExVVKYcdl5krtVqodVqAXi9lWapjzKPgODXQ6HiF2UOHx4eolwuh8g9fwalUgmzs7Mq304PH4wqwEYeFE6eXyUEAMs04NjWoNbBoNq19IdEGYDn+eh2u8hk0rAcE5BAt9uH63qIJ2MwjMDNaxgi8BxbgBMwWUB4gOGrAlzS9+B6/UEobnCtjmPDsmxYlolQkvKpHzkICw+IvKRI7YkC/UrxpDXJibJuhKM5TdFXE8XpzQTlKwLhgod65w89dJ/IMXUNIEcE90S9jpSUCSb4LqDX66FWq2F3d1eleuoyOplMYmVlBfPz88jn8wCGkSCjWtK+rporFxEXmig7jgPHcVQ4GVdeKZSs1+upap56yCsA1d6g1Wrh/v372N/fV6HYwHBzSafTeOuttzA1NYV2u41yuYxKpaK+i28WZNmhAkFRxTImYddvNrgBxbIs1UsbCOaU67pqLv3T8TcAACAASURBVPR6PWXooc/weXpeQowUoijrI81jUpDGWZGmtXZ0dBSKEOEk2DRNTE9Pq8qQUUWOdG8Knfe8awuQbDHNoTLqeWGvtvIIuh58LyhLbZoGTMuAgISAB8P0IQa9jaXvQxgCMCQgfAA+pCTDoYRlGRDCAmAOPNDm4HvcQXg1xVcDIX+xHJJm8l5P/Mnng7NkxZPIDK1tMiBPUoPeTJDuwQ1+PASfjtENhvR6v99Ho9HAgwcP8PjxYzSbTeTzeczMzGBpaQnpdFqFfU4wwQQvjlqthoODA1VdnvRHYOgYTCaTuH79OnK5XIhn8IgRAKE6OZyLTIjy2biwRJkecCwWU+HXlJsMDIuTUOg1MBT4fEMwTROu66LdbqveZLpFFQi8xGtra0ilUjg5OUG5XEa9Xg9tMDzvcXV1Fblc7pTCzcOd+N8TXFycVQxBSgnbtuE4Tmiu0HtEcHhrFt2Yc14wDEORxqg+yqRMn5XLOA6g+1qpVHB8fBzqDUvPgDzKlB6hPxvdm66HYZ/Xmg1kioBlmQOPIA/bJwU38Ci7rgffC1pGScjA+2wKSD8gwsKUEObAE+17kCIgs4rHSn7tJoIWVHwsgJSB51lEVvQivJ5c7u8qdO+CvjbpPd59QQfJIap8zfPXJnvUmwOSX1HeJP03PXeuXNfrdWxtbeHOnTvY3t5GtVpFsVjE4uIiWq0WLl26pIp/kWGGzqXnSp53CssEE4wLeJ0UXd/T9b5Go4FKpaKcK7wmE7W7zOfzuHTpElKpVKhQ8NOQ4EnKxJNxYYkyIZFIIJ1Oo9FooNPpqB7JVMmx2Wyi2+2Gqn3yiUTW006ng6OjI1SrVRViRMcDQWjD6uoqAGB7exvlchnNZhOWZSnlwvd9OI6D6elpvPPOO5iamjrVSifKGzeZpBcb+pwChs+Uip9Q4TkKA6a5QBEPPEyGW/DPu5gXVegmAxIQbo9Euf/9fl9FYxBe1zyOukdSBhWva7WaMpRxAwAR5enp6UjDmI7X4V0L5pUHwxCwbQvJZFyF7RvGsEJt4B0KfiAEDGswVjEg9wbA2bCgNk+q17FA4Dnm10h5y/RXcJhhGiqkmog6D72WKh9ZgD+ViYR7dSADMc3RYH6cJilksNONYDTnqU0dAOV1pPaIEzLz5oBHtHF5x58xOR6EEOh0OnBdF/F4HHt7e/if//kfVKtVtFot9Ho9HB4eotFoYGNjAx9//DGSyaTa96j2A6+sTd9NBlee7jPBBN8FkHMkFospQz3pWQSS281mE61WK6S/CBEUZ4zFYshkMpibm1MGKqqIzdcwIWrdT/BkXHii7DgObNsOPXhOSsmjfFY4a6/XQ6vVUooCV7ypv20mk8H09DSOj4+xubmJVqulPFMUqi2lRKFQwMzMDNLptOqLyxXwqLDWCS4+znquQdjssNekPhfHJSeQ56Pplkhu7aTwTD7ucZrHZLio1WqoVqsqXIn3FDRNE4VCAZlM5nUPdwQk+6ECXIbKNQ5HHkCFUvqUFMwh9PNJRpKBAWsehE1j8B7Nx8H3c9qrzifYC4NwazrXBOeOKMNa1Brl+am8hkav11PkhZQ3Hv00wZuDp5XXvV5PzYFarYaTkxM0m00VpUPdRSjH/e7du3BdF1euXEGxWFQpRzTfeIGhSf/lCb5roHUihFAFt8h5Qh18OKSUKJVKqNVq2NjYUAYnYLjnLy4uYmVlRTkuznJeTNba8+HCE2WyktPk0AvwUIsogh7eQBbTer2uJiwRGfp/KpVCOp1GOp3GgwcPsL6+jm63q87J8wRnZ2exsLCgrKRRYWujSPMEFxNPeo5kTBk1D3RL4usCz1kZFbLDvQPjCh56fXJyEqohQB4zy7JQKBRCLbnGDzL0/6Fso9zf4Xu+9AdGPl/7rNTOw18jgmuw3GIMKnBJ7fghBOSpM6rPT2Taa4GeYxr1t556pH+W1jWXR3rq0ATfHfBIBdM0VRcRPY2FnAuGYWBzcxOVSkUZJkn5J1LMo68mJHmC7xooJdS2bVU9nqIJaa0Q9wACbjE9PY1ut4vp6WlVoBgI9ErqsLOwsKDW6mRdvXxceKIci8XgOM6pEGcS4tSjVg+v5IS53W6jUqkooqxbdRKJhOqzuru7i7t376p+skTCSRFZWVnB6uqq8iYT9IqS4+iJm+D5weeV/qxN04y0FhLGiXhyokx/6/mP1EaG1ty4gcZ4fHyMo6MjtYHo4fClUgn5fP5C5GCGDRjhvCYJCV966Ls9eNILO4ZPnYj+EUNy69Pf6sswjKGWEeRXng6sFkHJsAleH3j9Cz4/qPYAeS14e0SqjcBz2ihCihf1Gvf1McHLhxACjuOg1+vB8zwUCgXk83kIIVS6kOM4yrtM9Sva7TZ+//vfo9Fo4IMPPkCxWFRVs2kfvAgyd4IJXjZM00QqlUKn00Gr1UIymQwVIyaQQSoejwMAcrkcPvnkE2xtbWF3dxeu6yKbzWJ+fh5Xr15FKpVCtVpFOp1GIpF4Ldf2JuNCE2UhBOLxOOLx+EjiSSHV+uc4yKNMIdp6sYtcLodMJoNms4nd3V08evRInZOsP6RkLC8vY2VlRU1+vXjTZHN48/CkXGKqeh3lmSEFY5yIsmVZpwpcccV7nMYbBc/z0Gq1UKlUUKvVlOGCt2lLJBIoFApIp9OvebRngc8X8soMi2wFucJk8PPRd3vhyIQoUSMxJL5EiOn10DFnnSTqdTFoDjXBeUM3/vIUD3ofGEa2RLVCI08HGe04mRnVi3OCNx+84JBlWZiensb169exvr6Ok5OTkGGYy9mTkxM8ePAAALC2toa5uTmk0+lT8w6YOAsm+G6B1hLJaL1FG3mZ6/U6jo6O0Ol0AAQ8ZH5+HoVCAUIIJJNJFAoFpFIpFco9SZN5NbjQRBkA4vH4KQuK7i3mRJnnL9Pf3W4XzWYzVHKdC3RSqI+OjrCzs4NyuYxerxcqmEJW+6WlJSwvL4cm/gRvPnRvMgcvohMVHsk9yro3mnCeRhZecIW+m/9/3Imy67qqkFez2QwpcFTUKJlMIpvNIplMvu7hjoAI/Q4McXru+HCu+b5Ev9+D7w+fi1SeX62NkyLLgwJc8v9v7zyf47iutP9M6skJM8iJBEWRkmzLZbtq166tcu3up7f8J+/3ra3dWq9tyQoMMgkGZEyenjzvB+i5OH1xewhKDBjM+akggBN6unu6773PiRH57OVr+ODUflIXtjcJepFldeIwWIPAfi2jo1jTQxZYkuGyymLBfHVeX5VKBV9++aWp58JaLbye6CCYTCZ4+fIlTk9Pzbrq3r17gTQYokJZWSRY1M7zPFMTwh6Hu90uDg4O8Je//AWtVgvJZBIPHjzA5uYm7t69i1wuZ+41ep+z2ayzgJfy85lroSw9yvakzsUxc5TDxAdwmWAflifKC/DJkyc4PDxEr9czC+5UKmVCikqlEtbW1lCpVEzhoDBLvFroFwd6csJgyJrNx7o+ZOi13BfeU/bgftMYDAao1WpmApGGMVb2LhQKpq3cTT2OiAmTBi48yvEfPco0slz0Pr4o8DXBcNj/UShfFu1itepLKSyPNfhv6Ww2T8/kah/lm3kmFwfbqMX7lGKGaQe8N2QhysFggE6ng06nY6qx8n4HPk7ld+XjQc8XiUajSKfTWFpawm9/+1uUy2V8/fXXqNfrGAwGgVocFNDT6RTfffcder0efN/Hzs4OisUiRqNRoMODoiwCvKek8XE0GmEwGCCRSGA4HKLZbOKrr77CkydP8Pr1a/T7fUSjUdRqNdy/fx+ff/45tre3jSfZ8zyzfWmwuqnrmnlkroUycFH1OpVKmRwYVz4lq3nKghKuH+DSoyc9zqPRCKenp/jzn/+M169fX/mM6XSKfD6Pvb09rK6uIpPJhIaCB3ILNU95IQgTnrIYiksof2h4Tcr9dVVQlEL5JkZMDAYDnJ+fo9/vX8kdj0QiRijf/LYkUoBGjFAOytEJIpEYpphgNBr+KJQnsIOgrziFAx/zU79DbnXm1pUPAK9xVw0MWZ8jk8mgUqnA931jQKZgTqVS5p6QtT60OMziQk8y10/sAMIwz8lkgqdPn5ooO7auIaPRCLVazbx2NBphe3vbhI/qdaUsGnLdxPx+4CJN9OTkBP/4xz/w7bff4uDgwFSUZ3RsJpNBsVhEpVJBOp02hizeoyycp7xb5loo05qSSqVMj1oZwgpcLJr5w1xm+8cOBZKW+Hg8jnq9jidPnsD3fbx8+dKIbRa0mE6nKBaL+PLLL7G8vIxEImGEz6yJQEMkbhe24UMWj5o1eN20UGbZg8+FXcjrponlfr+P8/PzQGsTLuAYhVIsFk3BvZt9H0ZwcXovPMqRyGX7JXqUI5EYIphiNB5iMh0BketWUL+obh15k8ideW60W/JNwJXywWufjzPqaXNzE2dnZ2g2m+j1evA8D9lsFisrK6hWq0in0wHhfZOjLpT3z2g0MuH4NKgAwObmJtbW1hCNRuH7Po6Pj02aGzuR0JFQq9XQaDSMgeZ3v/vdDTdSKsr7g+Nrv983NWxOTk7w7bff4j//8z/R7XYxmUyMGGZhxUajgZcvX+LevXvG2ERnYK/XC4RkK++OuT+jvMiSyaSpRE0Ybtbv9+H7fqDiolxUsHG3bPMkOTo6Qr1eh+/76PV6gaqhk8kEnudhY2MDf/jDH1CtVgMC3PYg24uZm71IV96WsNxied3Zr2GOsrxWpNj+kNdIsLpysCAQr3kK+5uagz8YDFCv1zEcDs1jMgeIXhFX3vhNIwL8KJQjF4I44lhcRgBEGAUTbAd14euNmL/lmy4rV//4vusc/o/VsK9WuI6K8G7lQ3Ld+zAWi2FpaQl7e3vwfR+5XA7tdtt4me/cuYPNzU0jhHiPaxjf4sIuILJQENPOotEohsMhfvWrXyGfz+N//ud/cHZ2Zhb/fC0jkDzPw9nZGR49eoTBYIBPPvkEGxsbaohRFgZqEo7XyWQSzWYTh4eH+Pvf/45//OMfpkuPXQCWdZEymQxSqRRisZgpwBiNRpHP500KDd+rvBvmWiizYhyFslzcXxa5uQi/7vV6yGazpsk3cBmWJt9vb59WHHqQ6R3ke+PxOPL5PLa3t/Hll1+iVCoF9s3VQFwv4NuHK0RZRibY4b+Sm9pH2YVdfOwmwoqRTMXgvQhcFqfJ5XLwPO+DGyJ+DpEf/wMonjme8O9JMEfVenfwb/6bItm+/lzh1OKzI9bz0+mPOc43/zzeVsI8dBxfeN1vbGxgNBqhWq2i2+0ilUqhVCphY2MDxWLRGILtdCT9bhcT2ZtVjqe8Hmhc6Xa7JgxbGlPJeDw2tSN83zdrt2q1eqWdpqLcRmRa52QyQb/fNy1nv//+e5yfn5tiX4yEk8b8UqmEra0tpNPpwPrSLtKovFvmWigDl1U82R9STuZcIIxGI9MjGbgaGkuPMi9O6f3lgM+LcTKZmL6sDENaXV3F7u4u9vb2AlXnbI+y67OV2811vD0MT7sJUCi7Ft08FoZe35R9thmPx/B9P1CzgGNDv99HLBYzdQ1koa+bzHT645gRuRTH0+n0xxbGHGdcY8rsAl4AMI3I6thRwFUpO/gOI9Q/ZnV25QJXrqcUNNLrwPDrfD4fMHjJXstyoQbApBdpSN/iYc8DrmsGAJaWlvAv//IvSKVS6Pf7ODk5MalwmUwGkUjEhId2u11Eo1E8fvwYk8kEv/vd71QoKwuBrPswGo2wv7+Pb775Bt999x3q9TpGo1Eg8pVF8mKxGJLJJO7evYvf/OY3AGB0SCwWM9WyXTpI+fnM7cwnq8Z5nmcad/Nxen7H47EZnEejUSBnkYto9iOToZjSis4Ljxcm/55MJkgmk/jDH/6A3/zmN4EL1A5Xs4uqyN/K7cC1WOXjLIRiV0OnZZ4DHVMAbA/1+7pWXKkAMkdZVszlfriqXn/Ma9n+bFaO5P1KgxdwcXwMNeXC/6fsOwUFv8NZ+Xa2R47jk52WwWvjshXPjz1sEUEsFkE8EUM0ymrXEUQiUcRjCUwnU4xHE0zGU0wnEWB6sS8R8b/LI7T3M/rjs3wFf4d4lCOuRyOBdlPKh8WOXAEuxa3neVdSjnitMmpEplHIQl72Na4odEzYjoB4PI5sNouHDx8inU7j22+/xfPnz3F8fGwW8BTV0+kUrVbLzDV3795FIpFAOp02Blh7+8BldKDsImEborVAmPKh4fpC1qKRYyfXf3KMrdfrePXqFf7617/ixYsXaDQaJkKVhnveB+l0GtVqFXfu3MH9+/eRTCYxHA6v1I+Q947ybplrocyB1vM8k/QuL0aWXu/3++h2u6F5ldlsFsvLy6hWqyZvS7bGkKKG3rbRaIR0Oo2NjQ38/ve/x+eff26s9q4qoXrx3m5kPi9wNRRbLjCkcJIhwaPRKLCYeN+TfphHWFaHl2Hj3Be7mNdNYzgcotVqmYnKzgtKpVIoFArmHgfcCy6J61hd5+BN/7aNcPLf/HyOI5HIRX/kWCyCaAyIxaI/epInmE4paGI/TspTTCbARU9kGRIdweUuzPI605M8SygH3xH81828FhYBaTS2F00AAnOWvN6BS48h7xGZvsRtqIdCIVychz2+sbGBQqFgxjP25pZpcmzHWa/XkUwmcX5+jmKxiGQyeSW6RxqbpcE2bNy290lR3ic0bHMtwOtXrpFoAAcuDJi+72N/fx/ff/89Hj9+bDzJdJLIiI14PI5qtYq9vT18+eWXWF1dNWO2bcCUhne99t8tcyuUJdFo1PRSlheJDBXt9Xrm4h0MBojH42bAz2az2NzcxK9//WucnJzg66+/RrFYxHQ6NZ4pfgZwWexrd3cX//qv/4pf//rXWFtbQ7/fDxQFUxRpGQ8TvrZQ+phIg1DYvsrQ65s4IDP3h55vifTuy3FCigjp6Xd9Z3yeoao0ctivkRZfTqL2+MRzyfcAdrijDIMOFuoSn2b9uMaf64RlX18oKzcbWbVeil7bmEeBzegrFsCjF/qmF7tTbh7JZBJ7e3tIJBLI5XJ4/vw5Tk9P0Wq1zLqLnUEGgwG63S5830c2mw3kQ8s8Z16j7FzCqBw7+srOrdfoPeV9IgvVcT5nKzVZ+Z1RFd1uF48fP8bf/vY3PH361LSwZOV4pnPKSNn79+/js88+w+rqKlKplPFW2w4Xee8o75a5F8rMnWKhLuCqZWU0GqHT6Zi+kdJjxgqN+XweX375JX744Qd8//33Jr+RCfLT6dQsIlKpFD799FP8+7//O/70pz9heXkZAAJ5XYoCBIWyFF/Etox/bLHM8B+X10Aanm5y0Qg7R9k2VMjJiN4J2zLrSpUgPA8Uya5QQfm3K7zdHqNkZMGlRzmCoDD+qdfGdSdOO5dZmQfk2EKkgJBRVtIbYad7MNeNxhtuU8OvletCL1qpVDLrJ46Fw+HQGAU5Bi8tLZlIPjnnyOtNzjvyMfla/naN1fbrFOVdIVPnZOSgFMfAxXV4eHiIFy9e4O9//ztev35tnHeRSMSkyPAaZbu+O3fu4O7du0Yk87NckauadvD+mGuhzEGQ1TwZSmm3eRqNRmi322bhLPOMB4MBgAsr6BdffIEnT57gb3/7G05PTwOtoLgwTqfT2Nrawr/927/hT3/6E/74xz+i0WhgOBwik8l8nBOh3GhmeZTDvD0fkzdVvaYV9UN5mt52sTMajUxNAjuEPRK5qHIvi3kBeGN4qStMmgY023Ps2n85hrDNA4UJDRMUKCym9LbclOtH+bDYosIeb2QINXAZLtjv99HpdDAej43hyFWjQ1GuC8egZDKJSqViom6Ay24Ek8kEuVwOhUIB29vbWFtbQ6FQABAMWeW4Go1GTYSQHLNdxVltg6eMmlCUd42dokkBy97GDKX2fR8//PADvv32Wzx69MiMx8y5TyQSRlQPh0NUKhXcu3cPX375JQqFApLJJIDLsdtVcFXH6vfHXAtlQqEsWz9JK/p4PEa32zWPtdttJBIJxONxZDIZE+Jz9+5d/L//9/+Qz+fxH//xH/jqq69wdHRkwq6LxSJ+//vf449//CP+8Ic/YHd3FwCcF62yeLgGKjl42h7lN4VGfgzocQ0TapwUZKGKmwT3z/f9QAEvua8sHCO9a1L08jHXb2kckJVaZQ6d9MBJAd1sNs0PcDFupdNpFItFFIvFK6kj8nMVZRYUxMQ2LvFnPB6j3++jXq+jXq+jVqshn8+jVCoZYcOwWJnjrCjXQa6DGKl3584dZLNZlMtl02c5k8lgeXkZa2trppYMr08AAfFBkSCFsw0FNosqySgLzbFX3idcM9HIDVymgw6HQ5ycnOCHH37Ad999h/39ffi+bwoHy3XJaDRCKpVCpVLB559/jk8++cSsC2R0nFxLyrWjHaWmvDvmWihLb5AMvZYCRArlwWBwpeiJzOXyPA/3799HOp02FRwPDg4wmUyQyWSwtbWFL7/8El988QU2NjaQyWQwmUwCVUX1AlUAdzEvWyzbHsqbIJZlPph8DEBgQL/JLZVkTQKJXPizpgFxhVmHGT7k9lzVq+3oAXqR9/f38fLlS9TrdTNusAd7NBo1C0K+Z9ZnK4qLsDmIj/m+j5OTE+zv7+Po6AiNRgPZbBaVSgWbm5vY2NhAqVQKLMI07025Lvb46XkeisUiEokEMpkMms2mCfcvFArGW8bx0i5UxMeZz8z2OWEdC+TYK+dWFcvK+8Ku20JNMRgMcHx8jGfPnuHRo0d4/fo12u22Ke7FXGbgYs2SzWaxsbGBe/fuYW9vD5VKxZlSI0WyNPC7UvuUd8NcC2USi8WQyWTged4Vq4oMffB931yQvLAZ+shqjMViEaVSCbu7u2i1Wmg2m+h0Okin07h//z48z8NoNEKz2YTv+0in02ag10XFYjIrBFl6Fu1rwxbHYSL5QxfTkULZlV8rPco3AbuYC4WyS2zyfk+n0wFjgGsh5foupPilELfPlfR6sA5Cs9nE999/j2+//dYI5Xg8jmKxaArZ0KMHwHhGbM++ax8/tnFFuRmEXQPymmm1Wnjx4gW++uorvH79Gr7vI5lMolwuo1arIZFIoFAoGMPvTY0cUeYHepbZu9v2jEnkmCzbffZ6PdPJgI4MzlMyakeOlxQjui5T3hccI1mUi3O/7/s4Pz/H48eP8fTpUzx79gz9fh/ARY2jwWCA4XBoinNNp1MsLS3h/v37+Kd/+iejZVh4mPeCHIuZOsp1gkb+vD/mVijLC4ZhDp7nBTzEhP33aIns9XqBiom8UJkvIPsyZ7NZM9DSMxSJRJDL5a4sUHUgVlzY4TK0BhLZYkBeUx/renINutIARaH8oXnT+eB548Q1y6NsV6ef5SGX3mY5Wcl8OXvMYQh2rVbD8fExDg4O8OrVK3Q6HQCXxZYYit3pdLC0tBQI577ucSuLjZ1TbOdq8jW8Hl+8eIHT01N0u10ACLRO3N7extbWFtLpdCCcW6OllOtgr4lcayQ7/Uh6f1kwleu4breLk5MTvHz5EoeHh6alVKlUwurqKtbW1rCysmLGc17nAAKGRr12lfeB7QiJRqPo9XrY39/Hd999h+fPn6NWq5nXyWuc66ylpSWsrKzgiy++wO7uLjzPM9cwBXNYChi3Iesy2ZFuys9nboUyEFzAJpNJk1/FCxG4XNjTgsOJX7YgsMMn2U8ynU4jlUoFerDKqo3y9XphLjazFpJy8Wp7lMN+Pta1RKvom4p5fUihfJ1zIRdkFMqu1lDT6UUlVlso20LXFYpt1z/guRiNRhgOh+aHj/f7fZycnODw8BCvXr3CyckJ+v1+wEjX7/fh+36gnZUsIPg214F6lReX63z3k8kEnU7HFKqMRC7y7Hu9Hvr9Ps7Pz03RSwpladTT+U35Odhjmgwf5b8lo9EI9XodT548wcuXL3F0dITz83PE43EUCgWcnZ2hXq+j1WqhWCwim80ik8kE5i8pHBTlXSOLzw2HQ/i+j9PTUzx9+hQ//PADTk5OTFFgrq0Ycs30g93dXdy/fx93795FPp/HcDi8Yux0GfLtXHy+Tq/3d8/cCmUpbNnIPplMmkIkfA3Db/r9PhqNBrrdLpaWlhCJRIzXh++Px+MYDAbwfd9UxWUYBSs1cjHMyrSJRMJ4mWV5d0Uhdv6IXHza4utjQ08pvaVhodc3qY+ybWQYjUbo9XpXehsTl1CWuXHyN+Hxyt9sO9dut9FqtdDpdNDpdNDr9dDr9eD7PhqNhimaJD0dsrowey/2ej0zhjHk1eVhVpSfCgvd8R6nx2I4HBqDDwt58Tq9yfUIlJtFWJi+7DdPYyCdDTQeJhIJcz1Op1P0ej3UajU8evQI5+fnpsUnKwo3Gg28fPkSxWIRGxsb2Nrawu7uLsrlMpLJpNnGYDBAsVj8SZ0EFGUW1AKJRAKNRgMvXrzA48ePcXBwgFqthl6vZ65XdhZg5Gomk8HGxgY+//xz/OpXvzJao1aroVwumzRPu+5JWNqCpmG9P+Z65JChkBx4aSEnnOQpcLl45oJXhmtTNHOQ5b9l43D+G7jMRaS1SL3Kyk9BDm43YZBzDcJEFq64CYTldMuqvUSmasiwafk8F3PD4dB4e7vdLrrdLnzfNxNfr9dDp9NBv9834woF72AwMD98jCFS3P50OjVFxUqlkuklSgFvC3dFmYUtaG3vHa95Gn/H47G5bnmdysqtrurBivImeN3Z3jBeizIUmuMz11PAxTqNa6rp9KIgUr1eNzUnZO0HGir7/T7a7TaOjo6wv7+PtbU1rK6uolKpmHxm9bAp74NoNIpWq4Xnz5/j+fPnplin7/vmWub1TWNRJBLBysoK9vb28ODBA2xsbJi1RzweR6lUMmsFu7e4REa5yvFeC9e9e+ZaKAPBBYHneUgmk2i324EeexS5/X4fg8EgIExszxkvNBluTa8OhbO9iJ3VQ1VZXHjdyTwW20srQ2ZkuLAr99X1vvcRFkmjUzweN6HE8nikF3RWa7TrgdrD1gAAIABJREFU7FuYmL0O1z12uX+yYiq9DbQKM4y61+uh2+0ab3G73Uan0zFimVEn7EErvW9M56BwlgY8QkMee42ura2hUqmYugiuvp8yvYSTKK8t4LKgoXpNFo+wKAjeHzKaReZt8hrlNSxFsl0rQec25Tq40ofkdSSNLrzupIHGNhrLfEtX7j29dZ1OB/V6HcfHxzg+Psba2ho2NzdRrVaxtLSEXC5nxk5XpBT37ybgClHn4+Sm7Ou8EnYu7TWF67uQ0RHn5+d49eoVvvnmG+zv7+P09PTK9c4fFuaqVqsm3PrevXtIp9OBitn0JANwGildUX5yrFej0Ltn7ldVHFzpnclmszg/PzeLSFomJ5OJqXwNuAugyAWoS/yGWWq02pxiwwGVReQYqUAjjB1GMxqN0Gg0TMVZ23jjWrhycAVw5T183Zv20Yb3ElMZeAwAzD3FtAVWfXctpF33l2tCcuURh712Vh6xPHaGVjNXLR6Pm56c7Lfu+z7a7bapplqr1dBsNtHr9dBut40oDsvHlkYQub88XmlMk6+lJ48FaX7xi19gb28P+XzeeAWHw6HxQPP98XgclUoFpVIJqVQKzWbTWKAjkQhSqRTW1taQzWZ1EbWg2AskKUzogQMuPHj0LE+nU2PEkZERP2U8URTXIp1rMPv6kY9zjORcCVzMDclkEltbWzg4OECj0QjMJ3Ie5Xs6nQ5838fh4SGePn2KcrmMtbU1/PKXv8Ty8rIxJtLY65pvPtR17prTpcHKDrG1jehyO2FzsOv1i4Z97fEcE451PO9ynS/TM+nsYC5yu93Gf//3f+PRo0cmLUBWapc//A4rlQr++Z//Gevr66hUKiZdk3M/r4FZmsJ1H4U9p7wb5l4ok0gkYhb3YRYVeo9s7MV82MCjF6EShuvakNeQ3cKMi1S+Zjgcol6vY3V19YoVU27/OgvXnzNB0mAk85TtSYZij4Jv1rZc+8Xn6C1wPS69C3I/XALcJpvNYnt7OxD+HI/HkUqlUC6X0Ww28ec//9mEUHe7XRNtIotyyagS7r/0qttCxF74yL7usqXW0tISNjY2sLu7i93dXSwtLRkjnfSgUDTz+1haWsLW1hZqtRpOTk6MoE4mk9jd3cXW1hay2exbfuPKbcb2jABBD7M9znBhpyjvkrC5yJ7j5JieSqVQqVRw9+5dc62enZ0Zg4+cA+T4K4s59no9NJtN1Ot1rK2tYX19HSsrKygWi0ilUoHP/dBIMQYEizPZa1J7brDXA3K+lAJ7kdess+qoSCM7gEBdBnlubcfZeDzG8fEx9vf38ezZM7x69Qr1et2sFyiKZfqA53nIZrOoVqvY3t7G7u4uSqWSKTwncXm05b9dLPJ3/KGYe6HMi0QWgwgLcWWYTtjNw9dp6ILyc+F1JKsdMgfVZcEeDoeo1WoYDAYALr23ctKUeYj2IiHMo/tTBlEKMzusWk4qb6p8fR2RHPZaAFessbJXsW2tpdVX5gnfvXsXrVbLFNXKZDIolUpYWVlBr9fD119/HchFduUsy0WJLOIlFy3SCswf2SoCuLRKA0Amk8Hm5ibu3buHu3fvYnV1FZlMJvB98f08ForufD6Pzc1NDIdDVCoVDAYDU51/Y2MDy8vLGt2iGMIWiGELaOnRkv/WhZjyvpEGU15/TE2RcyEAtNttDAaDK+0UgaDopaG02Wxif38fy8vL2Nvbw6effoqdnR1kMpnA+37OnPlzkIYprhdkVxVXmLgr/FYKNb1nL9cKdnSXHalHAQwgEG0gGY/Hpi7J06dP8d133+HRo0eB9YFMH+A87nkeSqUSNjY2cPfuXWxubmJpackU7bT3yXUM+l1+fOZaKNteJc/zTGU51wXIarTSQsTtAFetTHqRKtclzBJI4RKLxQJWbPs9Uihz4AWCqQWJRCJwTbvSA2wR+rZIj3KYUKbBifnLYYO9SyzbE4sdAsVJ3j5Wu9p0v99Ht9tFs9nE+fk5Tk9PcXZ2ZqpP7+zsoNfrIZVKoV6vI5PJYGlpCZubmyiXy5hMJqbIBscEeRxyv6S44LmheJfnwVUsicecSCSwvr5uqrNubm5iZWXFjFcU3vb3kE6nA+eQucw0qPD68jxPDXxKKLzvmI4QNq/JxZ6ifCgoDilSRqORWc+tra2hUCjgzp07ODs7w8uXL/Hq1SucnZ2h2Wyi2+0G5iumEDA1halN9Xod+/v7xqFSqVTMe6Qx9EN7mMMMUnYdCrmPnC+47zx+uc1FX7tyvJMOBQDGQC7FrKwhwpSrZDJpDBa1Wg0//PADvvnmG7x69QrtdhupVMq0dWQ063Q6NZ0vEokEdnZ28PDhQ3z22WfI5XJIp9PmmrTXG9xPWbBO5/SbwdwKZZe45cAqLzTJYDC4IpSlJ8iVl6Uob4MUjsClpTwWiyGfz5vBVOYXs5BXs9k0AkgOkPaAKQdW6WkF3s0EyYI/DBO34UTDsGbpZZXb4P7wt0tI2+JQLpT4w4lHVqFmca1Op4NWq4VWq2VyjqfTi7zLarWKTCaDfr9vahiUy2UzmWUyGWM5tr0S9nl1jQkUHdJyPZ1OTdRKNBpFpVLBysqKKdhVLpdRLBZRKBSQyWSchgj7HEmjQiKRMEYEGXFgW8oVxUZGuYQ9T0OUfExR3he2SJA/HOMoZLLZrBk7q9UqTk9PcXJyguPjYzNH8NqVRQ0jkYjxHjcaDRweHqJarV7pVyvDbD/Usdsh1vKchI3nsyI93mSsXiR4nmS7WBkWTWQ+OIDAnM5r7NWrV9jf38eLFy/QarUwHo+RSqWu1G2hAb5QKGBtbQ0PHjzAnTt3sLy8bPLv5XwdFg0h93+Rv8ObwtwKZSDco2wLYL5mMBig3++bnEU71MwO0VCUn4q8psKEMgAzwLLFBasqy8nTTiWQE6nt0X2T8LoOFMrM97dD0qbTaUAoy6q5/Fw7xNN+vy2gKZAZCs1z4fs+zs7O0Gg0TNEt/s17WXrK6M3tdDooFApYXV1FKpUynl+2c+h0OoEFmQzxlpUqwya0RCKBdDoNz/PMBEkDAnOHc7kc7t27hy+++AK//OUvzTG7ckDtSAT+zW3LcC5ZlZ/FR7hdDbtbXN5kLJNCeZZRxtVaTVHeBxzD6BWV8x2jG2SUEQXz+vo6ms0mDg8Psb+/j+fPn+Pk5ATtdjtQCJFRPdls1kQhcf6QYbLcl1l5re/r+G1PIu9BOYdKz6Oc821jqZyDF70DAq8hXgMsqMrriGsXXn+MCqN3udPp4NmzZ/j73/+O/f19dDqdwBqr2+0ikUiY+iL8nEqlggcPHuAXv/gFNjc3kcvlAnO/y7Bt555LVCx/fG7VncTwB3vxy4uMi3uXtc4WA4ryNsy6bjj5ZzIZI66klZMticbjMZ4+fWo8osy7z2azKBQKyOfzZlv2teoKfX5b5Pvj8bgpNmEvwDmRd7tdM7m4LNlycpDVIz3PM/cic4g7nQ46nQ6azaYpvtJqtdDtds3n0dA1GAwCubsyBI2TDveJ7Z14vtPpNGKxmCl6RQ+CPXlxP5PJpKmmn81mTfhUNptFPp831S8p4LvdrgmzX1lZwebmJpaXl00v5TCBAiAgUGzxy3/Lc8qc7FQqdSX0TlFsOHYw9M/1PKM5wirsKsq7REbvyDBjjuly7pBRNclkEuVyGel0Gmtra/j0009xcnKCFy9e4PXr1zg7O4Pv+0Yw1+t1084wnU4jn8+b+U0abT/k9e6qsizDrWUBKQr8Wq2G8XhsvJb5fN6sC2T0kTyHi34P26lNcj3DdYLUAScnJzg4OMDLly/x8uVLHB4emm45smsJ/+a8zSKd9+/fx/b2tqk/QoMFI83C0qRsY7lGiN0c5l4oy4vLDr224eKcF7YtNBTlp3CdCAQ5QRcKBTQajUDBCFbo3N/fN2KLQrBYLGJnZwe7u7vm+rYHT5fX86fAbdAjyjBf21M9GAzQarWM4UkuMng+pKeV9x3Dp/nb7lXM1kwy3FpOcNKg5VoI2J56vl7e86yALf/2PM+0zUkmk0Ygp1IppNNpZDIZZLNZZDIZ83gqlcJwOAx4KXzfRzweR6FQQLlcRj6fN59l5z3b4Xau70F6AF150zJ8n9+TTqzK23iUpVeLnpEP7VlTFhOXR9SeS+Tz0iDKcbpYLGJpacn0TF5eXsbh4WEgJHsymSCdTqNQKGBzc9O05pEFI+10oQ91/K55QEZHtVotHB4e4tWrVzg4OMBwOEQqlUK1WsXq6irW19dNtJqmD17CMUwakG1jOHC5nul0OqYvMvPg6/U6ut1u4DqUc+14PEYymUS1WsWdO3dMwa5isWiM8hL7+5a4nA36Pd4M5l4oE3rhWBzHtWCUoZGuRSu3o4sD5W2xBzV5DdH6yN65lUrFiEyG0gIXhhxOhjKstlQqod/vo1wuB3KHXaHXrn15G7g9CnRWZrQXL/1+H/V63eSFSeEKICCQWURvMBjg4OAAjx8/NmHVDLFmUQzg0hJOr66sVM9zaVektqtOApc5xDxfg8HA9H7OZrNIp9OmEvby8rIptpbL5czztqdWLujG4zHS6TTK5TI2NzcDBcdcuaBcsNGibIf82XnoAEwYGAWM9AryOVq12a5LC4AoEjvEb1aOsvSQ8DFdrCnvE47jNGjaRbVYJJHIcFmOoZ7noVqtolqt4uHDh6jVanjy5Am+++47vHjxAvl83vRU3t7exsbGhtmWjOD6kIZGV6snKeIYbXZycoLHjx/jm2++wdHREfr9PhKJBFZWVrC7u4t+v4+dnR1Uq9Ur3ulFXs/y+GWapSywyZ/xeIx2u439/X389a9/xcnJCWq1GjqdjtEJDK+WHSwYmVMul/H73/8eDx48wNramvkMeY3SkRf2XdhOgFmCWvnw3BqhDMAIZeYNyEI9XGgyV1Hmp0jLki1AFOW62JULOVjKypTspXd6emo8pvRo2pWeuU3f9011Z3p5iZ3TSn7qtcv3USjTgy2t+gBM7jBDl8fjMXzfN32JWWCLnlYW2qK3mBMO70XgMkSKx8371g47ls/zuOUCgyHr6XQauVwOpVLJGBhkQRgZWs3zz+ri/Ft6beU5lguZfr8fyG/icdCjTnHL7016yHns0gjB45O/aRm3tytDFWdF0yiLiT0mXCdHWateKx8KimNel2FGSdsQLAsu2cZihibfuXMH1WoV7XbbzLMMV85ms1fSbVwG5/eJHYFl33NMb6rVajg8PMTR0ZEZ50ejEc7PzzEYDNBoNHBycoLt7W3jXWYU0yLD45eRe7YXuV6v4+joCC9evMDBwQFOTk5MW0kAVwwPrG9Eg/ru7i52dnawubmJTCZj1nlSUHPctWu4EPuaU4F887g1QpkLVZZ0t1vbcAClR1kKZV7IenEqPxUZNibDn6SgoXd4a2sLz58/R7vdRrPZBHApEqU3h9fvYDBAu91Go9Ew3ltbWL0ruN+JRAKFQsF4KBlmxOPxfR/n5+d4/fq18UIxlJo5xo1GA81mM1CkLCw82LVosD1h9uulKGboNI1lDJHO5XIol8smVLpQKCCXyyGTyYT2MbzORMXPlx4Q+V679RVwmXcsF3aucyDPA1/P82Z7raVQ1jFMeRNvmuuk+FCUD4FLnHIMtcfAMHEpRTVw4WFOp9OoVquYTqcmX1nOZ3J7Mj9a7sf7JiwSjZ7OwWCAbrdrfrLZrBFvg8EA5+fnprDlcDgMzIGLPhfI+VJeJ4wsOz8/N7nIr1+/Rr1eDxQplUXhpBe5WCyiUqlgfX0dDx48wMbGRqA9lO1U4Ofaf7vWQNJZB2iBzpvCXAtle+CkR0cKZTtUki1nXD3qFOWnIr3H9uNysMvn81hfX8fW1pbJywUuw8lszyiAQNErWSHUFmJ2CNfbehflPcBiXjIkTe5fv9/H6ekp/uu//gvJZDJQsZqeck44cvtcAIUt2O0oDyBY4ISeB+4fQ+qWlpZQqVSQz+dRLBZNr+RIJBIIeYrFYqYIFsP5pNdfnj/XwsneX9mD0TZgyKJrtvAls/KnuC2OVzIMnp/hqsytY5kiuY63Ql6jrqrsivI+iEQiZvyU156MIrLnCTmnshiTnPPktUynCFvxyTGe8yjnbvnYhxpDZ3kTpaGd4peG8kwmA8/zTCXvk5MTpFIprKysoFgsolgsLvw84FpH9Pt9HB0d4dmzZ/jhhx9weHiIer1unpfXlnS20RGXyWSws7OD+/fv4+HDh8jn8/A8z7yG6XIyx5zOD4ZqyzWB3Ff5m9tij+ZFr2D+sZnrsy8vNDlwMrdQ5v1x4GRf1nK57BQSshKhcnuQk6kclOwJmI+/LZxggWC4rJ2HJNsGUbC1223TP5nvY4VOz/NQLpexvb2NTz75BJlMxrmfdnXqn4IcmGl9L5fLKJVKqNVqJvyXr+12uzg6OjKLDU40skqpvQhwCUd5Du0Ij2g0aoposRhaLpczXmF6jtPptKkonkwmkU6nr7R9k58jDRH2dxR2/mYJjLDXurzErufsyVM+Jxd4LgEe9nnKYiDHNTl2uOY33tdAcJziXEljlzSK6TWlvE/sMTJs7Ax736zXU5y4CtjR6AwgYHCk4fQ6huYwb7h8PuwY7LWmjNiiWE8mk1hZWcHh4SEymYwxlvf7fWMwZhcJFsUcDocAYET1rLWsa030tshzZgt91zalYUJ+L3J/I5GIcWpxPSLfb1f3lqJYHhNTwhqNBs7Pz3F6eoqjoyMcHR2hVquh2+0GroPpdBqoIUKRm81msbq6ip2dHezs7GB9fd2kdNkeZNuQzXHZnsdJ2LXN86DpVB+fuRbKxA57dQllvo5Vanlj24t1bissj0uZX2zLc9hrgNkThsszKAWMfNzlqfQ8D9vb2+bfr169QqPRMBWkOQEkk0nkcjlUq1Xs7e1he3s7sA+2mJK8iwmPFurT01M0Go1AMSngoviY7/tXDA/2RGE/Z4s8LkqYx0uxy3Dqcrlscsso3IvFokmzCCPsO7YXQR/SKPY2Ipy4juNNE62yWEihzPvUZYySxe2Aq1EoLAon3xdmcFKUd428xmaNlfZzs8QGQ3A5H9nhuEBw3g9rjXadNYFLJNv3IOFcL1Ny+NkUYJyD19fXcXh4aNpeDQYDE2HEOVBGS3L7cl0Sdgw/1yAm19+2SJ517DJMWRoN7AhQHp9c89ipTfxeWURUdthoNps4ODjA69evcXBwEKhkzfPjEt1cq6VSKayvr2Nvbw+ffPIJlpeXTT5ymNNF7pfNdc6zdBgoH59bIZQlHDgodOUgQCHAkFB7sNQF5+1FDn5hg9p1kFZnObjzerMHNzlxyOJV6XQad+7cQalUwuvXr3F0dITj42NTRIICeXl5GeVyGZVK5b2LI3qb6N3O5XLY2tpCt9s1vQR7vZ4pFpLJZAIh4zJ0yTYWSHEqJ3CKY/Yq5rEuLy+jVCohn8+b+9n+bYfM2UJdURaFMK+c63WMvJILdP7m39JTwhZt9EQryjwxnU7R6/WM97Xf7xtvLQ1Lvu8jlUoFrnG7M0pYyCyfc4lveW+5PODSSCs9snyOLbA++eQTJBIJPHr0CK9fv0atVjORHwACkVY0hEmBOYufsxbi+2X6kXzelR4mPebARTeI8XhsilHy+6LTy+WxtcUzi/V2Oh2Tz/306VMcHR2h2+2i2Wya9o0U6LJrBL3KyWQSnU4Ho9EI2WwWe3t7ePjwIT755BNT6wSAKUB33cgDZb6Za6HsGrA4obvyTLiwZisau4CDa7vKfGNPEm8a1GwPS5gxRYbVuKyKfJ+0tMpwGrYJWl5eNn34dnZ2jDfH8zzk83kjSuUE/r4EM4+J5ygWi5nWR3t7e4hEIjg+Pjb7mEgkAiHWrglZVjNlL+lcLodkMhnoTcyfbDaLbDaLfD5vwqpdhHn1VSgri4g9Dsnf0tvMBaJcxNp5nVw48t7mPawo84gUZpyP+/0+Wq2WiaBKJpPm+g8roGR7S12fYz8v70VXeC6AQFtE22M6nV7kti4tLSEWiyGXy2FlZQXPnz/H8fExut0u4vE41tfXsbu7i42NDeTzedMtQxq4rjMvzhLV1/Go26+XUZvyXEiPMMcnGabM98i2TAyDlq0n+eP7PrrdbqDLxunpKZrN5pVuN1yHyZBraTSkkX5jYwM7OzvY2trC0tKSuUbCqlcrt5e5FcrSwifhwGD3LOMFPhqN0Ov1Av3U7O1qlbnbg8xXedN3altDZS6MHMxdFdXt98u+vjK0mCkBtHBTBFerVbOPvE7t6pzv26NM5KI4k8lgdXUVDx8+NPt2cnJijE22xVx6illcT1akZi9LFt1aWlpCPp836RIS2+ggcRkw9J5VFhE7cipsgQ8g0KaM0RjMyeNYwwXlcDjEZDJBKpVSoazMLfQUSnHFlkss9LWzsxOY72cZXcPCil2eT5k3GwaFMkOp+XppqOI6YWVlBSsrK8jlcsjn82g2m0gmk9je3sbu7i42NzeRSqVM4So71cJ1buz9cwl6e4yx3yvFoysX1z5+HhtfE4lEjPOKYdN8jD8Uuyxu2ul0TF52q9VCs9k0QrnT6VxxltFgIr9njnue55l+3ffu3cOnn36Ke/fuoVAoIJFImH2TRsM3eeqV28PcCmUb3hDRaNRUBJTWH968tLTZeViubSm3l7DJgM8BCCwebaSA5uApB38KRQrjyWRicpBpJWb4MK9FWXREXoMyz/dDIEOkgQuxvLu7i3g8jmw2i6dPn6JWq8H3/UCYNUM6U6kU8vk8CoWCqUZdLpeRzWZNwS1ZoZ5hntLKLL3bcpLiT9gCRho0FGVRsMcL1wKXYwzDOeUCkPcdDWB2T1tFmWcmkwm63S5OT0/x5MkTvHz5EsfHx4hEIigUCjg8PMSDBw+wtbUVMCRJwRwWsSEJi6yaFbnIOd82FMuiVlJMptNpfPbZZ7h3754R9bynI5GI2e9cLufcf9d+zDK2XcfBIPOg7XWV7Wywj5Wh1gcHBzg7O0Oz2cR4PEav1zP1hKSIZsFBGj0opPk6Hr80eMh1Ax0YHA+Zh7y2tobPP/8cKysrWFpaQqFQMOsPvlYW+er1emYcVW43cy+U7ZsyFoshk8kEQmnkwMZqvbz4bS/irH8r88esSY3I0ETgskG9671hIb98n8y/5aDMHsj1et2IS+bf5vP5K6kCHJQBBAb7D3Ut2i06KJA3NjaQTqdRKBRwfHyMWq1mzhUt1+l0GplMxli8WYQrl8uZHCSeM5eBQoZe2SL8OlZ+RVlkXBFRcmxj3qO9YKUhj95kIJimonOhMs9EIhFTa+Pp06d49eoVOp0OIpEIWq0Wer2eKSJZLpcD4ue6XmVXlJkrN9lGGscpCKUwswUf63m4IkeuO2e6ouDs9XLYMbtwrZHkc67P4es6nQ5OTk7w7bff4uTkBO12G5FIxBTikgW/ZBi2XQtFnmdp5JPrC76edVGKxSKq1SpKpRLW1tZw794942iThcX4fkb6TafBit3K7WbuhTIQvOltj7L93HR60Xye4S58Tm6Hf+tNMP/MmiTsv3m9SCNKWNVCuSCVA7/cHhefh4eHePbsGZ4/f47z83MMh0NsbW1he3sb29vbJlxKRkDQQ80QrLB2L+8D3hsU75wsGCq9vb1t2izQ+8TJO5fLIZvNGq+xnOBoEeYiwLb0yqrhzJHkfri8W2GWe71vlUVm1kKXBi3+W1bMdeUmy3BSva+UeYXCi62Bms2mEcO+7+PFixdIp9NIJBK4f/8+8vk8EolEaESZFFDyMzinycrTYW2BiCxMRU/pdDpFKpUy6wJuV3piec9OJhPTQikajQbuY1dkiCttyX7e9ZjLOMDX2sVz5XO2cJXpHdPpFEdHR3j8+DH+7//+D/V6HePxGJ7nYTAYoN1uI5vNIh6Pm3WJXJvJmiryHNviWEbNJBIJpNNprKys4M6dO7h//75JB3N51rkuo+ea55TfjXL7mWuhbF/UAEylPJdQ5gK81+sF8itnbVeZf2Z9z64QozdZk+3HZb4LJ6vpdIpWq4WDgwM8fvwYz58/x+npqQmjev78ucmrGY/HpgiHvW/c3ocSyXLSk8cmJ6FEIoFKpYJsNhvwVDGMWgpsO4zdhSvki5MRn5OGLfv1rolSURYJuSi1H5P/5gIvk8kgHo+j2+2a12WzWVSrVVQqFbOY5fij95Qyr1Ao9ft90xaIRaKYFzwcDvH8+XPU63W8ePEC1WoVhULB1NdgaLOst8H0Id4fg8EgMGfbYs01P/Fv3/dRr9fRbDZNr2RGZFEwe54XEIl2WynZ2lHug2sccHmUbUFp72PY/st86FljhfQIc70wnU6NR7nT6RjjHY3k6XTaCFJ5HqWjQu63vTbgezzPQyaTQbVaxerqKtbW1sx3nMlkMJlM0Ol0kEwmAyHaPC+MvpEGgeFwaNLGlNvNXAtlFwxNkUJZ3rhsQM5CJS7sm1KZX2aFSrsmibDvnM/TqjgcDo1FlwUm7PCgRqOBw8ND7O/v4/j4GJ1OxwhAtiro9XomVYA5RcBl+Df380Nei5yAeRzs9SiNTbTKvskybU/I8lhsy7bcjnydvE9dYV02et8qi07YQpiG5PX1dTSbTRweHqLf78PzPFN5f2trK+B1DqsCrCjzAkUxU50obKVRt91uo9vtotPpoFgsGq9yMpk0xbRsscwQXRbJY+cGFqe05znXHDkYDHB+fo5//OMfqNVq6HQ6GA6HyGQyyOfzphMEIyWZU8vPltviZ7jCjWfdv1JsS65zz7M1k1wnyLWU9GpzXzimADD9jmXKGx1ZssCZq4K2jOSzjQj8vpLJpImGW15exurqqimIRlHe7/cD5yJsnRG2ZlFuN7dGKMubKZVKBW4wPk6hI4t5yUW1LrBvJ7MGPj4vQw7t3BMZidDtdtFutwN9+fjDHn7MQ5aN79m7m4UmODH7vo9SqYSlpSXs7u6ayYDCm9B6/b6vTy6muf+cvNhiYjgcotvtmklaitg3WZPlZ9hhUmEiW4a49TTVAAAgAElEQVRpv2m/ZW6X3sfKohIWEUWPciaTwcOHD403pNFowPM87O7u4sGDB9jb2wukgjAvj+JZUeaN6XSKcrmM+/fv4+XLlzg6OoLv+4FOFBS3rVYL9XodwGVkE3/kfCVFWSqVMlWn19bWjBBzzW3AZe0RRp7t7+/jL3/5C2q1msmZpshMp9OmrSILTZVKJVQqFRSLRWSzWWddAh43Pbjycdf54fokTICH/R6Px8bowDUUQ6tpmGN9Ep5r9oDmWoNt62zPMMPR7TQQl6CnsYLGhOXlZaysrGBtbQ0bGxuoVqsmRF0aMBgFx+240sMAmCJi9C7Pqiau3C5uhVCWgxFvOFeiPW8wVsqb5alSbge2J1M+Jq2oLGTT7/fR6XTQ6/VMCwL26Ov3++aHr7e9y7ICoxToMpSYA630SLParGwnwVAmaX2d5cF9V3CikGHk0tqbTqfNRGrncIX9HRaeZIewy8dtER22bdd7FGVRmBVKaROJXKROrKysIJlMYn19Hb7vAwDy+TxWV1fheZ4Zi6RAUJR5hYKtWq1ib28P/X4fz549M/MrBZkMn5ZijSKSawbgsu5NLBYzhvJarYZ+v2/EVzqdNvvgCn9msc+zszO8fv3arEtZkX44HAK4jO7yfR+vX7+G53mmHgg92PRm83FWZKZnO0wsy0i4wWBgCp3xuKXRX1aW5vlgRB0NazLCLpfLGaFaqVSQy+WMmKWxYHV1FY1GA7VaDWdnZ6awGj9feoplq016i1OpFNLpNLLZbMADb3vjU6nUlbGSP7IKtkzlsr9v2ZP6Op565XZwK4QyEFwUJBKJQHEDPi8tYMPhMOBVloPiPIvmDyGkPhRhXhFX6PSsbchCUvaAzxYDvV7PNK5vNBpot9vodDpoNpsmJIuC2BXOLffHHoxl2ydpLY3H4yaUi95ZHp9834f2kMrK3fw3c4RpiLKt1/a5cIVcvyn0y2aW9dt1natIVhYVV1SUfS/I/EVWo9/Y2AhUkGXOpWxJo22ilHmHBqJ8Po87d+5gMBig3++j2Wyi2+0aIUpDMBDsOAG4c3g5F41GI9TrdSMY6fVlepIduSi31+120Wq1TLVnRo8BMGsOzrGNRsMYrWVYuBSKxWIRhULBeHL5wzWGFJqs59Pv91Gv13F6eopnz56hXq+bc8K1EvdFrqFkFWoAgXUVcGF829zcRKvVwmeffWZC1qUBrlqtms9PJpNot9tIpVLm+OWx0ivNnGMaB2ggKBQKyOVyyGQy5nPkdyVrnbjyyF0RafJxl55Qbj9zLZQ5+EjrHHBZ+j2dTqPf75sbHLgULvQW5nI5ABeDIsNCxuPx3CXp24L/bcQk3+/yRlwn5JW4BpewfXmToJfHYxsyXJUO5fPy8zho93o9EzItfzqdjvEgM9JATgCyNzK3ScELwIRqcxKyewHL0B0uRkejERqNBvL5vAkNKpfLgSratGh/6IrXXFBIKI7la1zvm/Xv63zum97jig74KZ+lKLcJ1/VvjxezBK9rPJX5lWqAUuYZ6Tn0PA/r6+sALq77J0+e4NWrV/B934gwuaZ0rWFcrYcikYt+zIPBAN999x0ePHhg3msXxOTj9GYzvzedTsP3fQwGg4BRazAYmNcRvpfr23a7jdPT04DHVYYjLy8vI5FIoNlswvM8FAoFbG5u4u7du1hZWUGtVsNXX32F//3f/zXtUyVholCuvTlWJJNJxGIx02v45cuX6PV6Zp0j29PR07+5uYlsNmvWZLJFHdfzDDFnuDy95bLgqXQsuNYksmq4fN71ncprx14f65i4WMy1UA67UDlASLFrD3i0kM2jZeg63rdZNzIHNVtsuMJd3/TZLi+qa59c+2dPRmHHFCaMKDqlGGaBLIYyM2+Y3mKGSDG0WoZQ2335bIEszxOvK/5m6A4Q7ItoW6SBi0Uoi0rs7u5id3fX5M/wdS5DwIcamK8jhD82N21/FOWmE+YlcYURyoUjF/nzZDhWFEIhx2s4k8lgbW0NnuchnU6jXC7j6OgI7XbbdEQBgm2bbGO9PS8zdJvbZ76zXYnZhq8vlUpYWVnB2dmZKWzFz6QYZA6w/ExpmA+LJolEImi324HUr9PTUzQaDRNufXR0hIODA9RqtdBzKH/Lv2lgkAVN+TjDxRuNhhHgtsc2Ho8bDzCNDfSi89j5IwWxq7q4vW82szTDLHS9sdjMtVCeBQeWsAtc5ljYC4WbXgxIhvLMEqOz3ivFshR/rkHH5bXl428SyPJzZ+1jWJi1/JFVmGW1aXqLZZEtFspi6LTtIZZeXwBXrJD2dWELVSlk6YWWOTRywrKtvJ7nmbyd7e1tbGxsoFAoBCZCuT9h1dkVRVF+Cq7x2DWv2CJDUeYReW3H43FT1TqbzWJ5eRmvX7/G0dERTk9P0Wq1TIgyo7rCIszk9geDAUqlEra3t1EsFpFIJK6EXUsPJXCxjigWi1hbW0O320UikcD5+bkRyzJKkutZKb5d+2I7GMbjMc7PzxGNRpHNZjEajUzBMq45arWaaVXJkGU7RFz+2173ydQyeoNtgwKdEa5oF+Z0J5PJQFFOacgbDoeBdao9dtm/b/IaXpkv5l4oywnftlKx0h5fJ4WdLDjA97u2M2+4Bg/+LUWhXYTJtkTKUJqwgUmGKQO40rvaNWjZ23JZQDm4s3AWq5R3u13TPoF5PSy2JQtqyRZNzEGW3l1bzNoTgH0+7UWjy/vCXCRZtZFhQ7lcDsViEeVy2eQGFotF88M2BTw/rjAfRVGUd4VcrEoDJHAZkcWxUot5KfMMhZiEc32pVDIeZhrYO50Ozs7OcHZ2Fsi5ZbEvejzleiMajWJ5eRk7Ozt4+PAhKpWKqeLsWlNynRSJRFAqlRCPx1EoFLC6uoqTkxOcn58boz/XOZPJxOTpSs+tNG7ZzgVZaRq4bMs0Ho/R6XRwenqKbDZrUsd838doNJoZiszf8jPZXoljBc8LW1lVKhXk8/mAlz1s7W2HR/P4XLVRePyu71xR3hVzL5TDYF6DywpOocyb2zWI3WRmiUwXLk+wa/C2LYX24Cu3weelZ/U6lY3lZ8mq0bKiNMOiGUrNvJ1+v49ut2seZyVqu5USt2/nCrv20fawA7iSy8eBWvZLZAsCFpaQBSpoHWUeDQtOsLk9+yaz6JwUxy7xPu/GG0VRbhauiBr5bznmqCdZmXfkPCoN6WyXxp7FdKA0m00TmiyLv/J5rlukgSmZTGJtbQ13794NtIZyraOk95UimQWqlpeXTe0URslx3cN10HA4DKSOycgP+x5m/R06N2TaGNc1xWIRjUbDFNGSDg/XeZT/5m+ZM0xBXiwWTVh5tVpFJpOZuZZxOSbs4qL2/tjvd/2tKD+HWyGUZagqb5xEImHa2Lhueg44dogtcPO9ym+zfy6RzH+HCVgOcrJvnR2qLfNE5Ha5DdubbYdQs9ojvcNsD9BoNEy4NHONOTEBMOFMnKBkCBO/RzkRUoy6jtH+ze3Y1dJ5LlglktUV8/m8ya1hnk0ul0Mul0M6nTZFLaQXXXqy7ZYT8jNtka8oivIukONeWJ6fazGs45Ayj0gRyZBi2cmB6xhWhwaASqVyZTt2tJqdyjUYDJDJZFAulwP3l1yXyPUKI97o9eW6YXV11ay9GEnH2iovXrzA+fm5WTPRCy6rY0uHANdKXAPRqcDc6GKxiKWlJSwvL2M4HOLw8NDUd+H77XNpw/PKCto85mQyidXVVVOPZWVlBZlMJrCtsFBpPsfz6xLKs0SyorxL5l4oh+VvSqFsw1CRXq8XWATIQWxemBV2Ii2ZYULW5Z2WFZe5DZmzQmSYMUNmZGEtl2eYg36/30er1UK32zUWW7tPH8ObZNVy7hOPw7baUuhKQW23AbNDDGU7sWQyiWKxaApysPVANptFKpUKeILpDaYXWXqTXW2d5PfBfaCll8c2TwYbRVHmE1fUkPSO2ekpijLPyDx7XtfSGUBjPLtY2IZtGRZM76ntAKAApecWuEylkn/L17Jtky0K+cN1LH/n83njReZ6ig4H2dWj1WqZlLTJZIJer4doNArP8zAcDhGNRlGpVLC7u4tPP/3UGPnz+TyOj49NFXC5npKRcrKYFj3hcn3FtDN6yhmFJ58PC+mWv6UzxrXWVZQPwdwLZdtzSRjyGhZ6bXuUgcvBdF4IC5V2Masg1JtCsOU27EJasqWSFMn0FM8SyoPBIFDd0d4n+bisLu2awMLEvxT6UtQydJptxOgBTqVSyOfzpgche/LRWspK6vJz7c+0f8tjkx5seRzS4iz3m9+H63tSFEV5W2zjov2ca/zXsUeZZ67TLs2+L1zrCM7ZrnWnXEfKeXw0GmE6nQaKy4alWrk+WwrSQqFgPoOh4Kzj0u12A0K52+0G0tsikYjpmRyPx7G+vo47d+5geXkZ8XjcRMstLy8bYe0SyrIKNbeZSqUCtQ64357nmf21exq7sB+X39t1hLKOWcr74FYJZf6bFr9ZOcoUdFJA2uGvwIe52d7WUmYLK5e4ksgefNLr6srXZTiRFHAyVImil0Uv2u02+v0+2u22sUTSW0/LJ/eBAymFNb203DYf5/mQAzKtrr7vAwh6PKQ11q64yEb1yWTSWE0LhYL5KRaLpkk9xXDYZEnsfD4eEx+zw5+4P/L7ktZn+TnS2s33Ma8orA+qoijK22AXN6K3DAimfnCcUpR5RV7bQDByi/NtMpm89vakEUmuH2WVbK5PAAQ81XYRPenBtovmybUXn5evYcHafD4faoynSJYRe71eD5FIBEtLS2YNBsCEn1er1cA+XOd8TCYTs9aS75PrGhKLxQKCOuyzpCNBbsv1+fJ88W+NiFHeFbdGKNs3mV31GgjeaBw8bMvgPIR3uAYUl1dYCjNpzbS9sBTHLBLBBvbsP9zr9Ux4Dz3DfC0nAb6fg7EsdGGHLjFfZjweo91uXwmFso9RTkac8KQlltZWWjZlqLT0BqfTaWQyGRNCbYdRy77b8jNsbEOFa79cgzvFvrxmZRi4LcBtI4iiKMq7wq7TACDQqxS4NNTZYkNR5glXzQ+7UJQUl8wbduGa0+Xjci3gcuTwOdd8T0O/fIxrN3qn5XG41gZynyiu0+m0WaOxywZbMXU6HaRSKUQikYCTxD7WWeeWudYy8o/Hwig+ec7la13nRx7jm3CdZ10vKe+SuZ/5woQtw0XCrOG0tNnbkiLmpt9scv/sQUUKYGn9pOdW/jAMnV5gVn1stVoYDAZGJHc6HfMaV5iwyxpqIz3B/A44kNoF2XhcfA9Dpvlaim4KZJlnQw8xhTHFMN8vjQWu88djmHXOpZAN8/a6IhPsEC3Xtm1L9U2/FhVFmR84do1GI2MUZR9X5kKyGKGr96mizBuzou/kfHud1AM7hFo+HolEAusjmaplF/mSXlX5ua72TK70Mte+ySgQudaRecX83e/3A9EjsxxFs9Yg0nlgHwv3hSLZfo/rM1ye5ut8vq6TlPfB3AtlwJ2nTAu468bhDS1FpGtwvKk3nmuQDBPJzGHhYqjT6QT68zFnWIZKM6eG25JFu+yQJTmIs/+eLGZlh0Xb4lCGOsvPAS4tkclk0hSMqFQqyOVyyGazpg8xc4ptEcxtuCykcr94PLYnxd5XaQGWVmggmN8uJwDb8CI9+S6rsjxH0qhwE69DRVHmE45Dw+EQBwcHePbsGZ49ewbP81CtVvHw4UNsbGygWCxqH2Vl7mGVaRnqLHv6ypohzKt9kxjlbzvqi2shAFe6btA5kUqlzP3ned6VmiuutDKGN9trBnt/+FtG8fV6PQAXLazoGJHOAxnV97b3Otd7XG8CMIVR5f7ZkSlha6xZDpc3iWVFeR/MvVCWhRV4ozNcRbbn4cDB11JAsqAUrWzS2xd244XdvGGi3H6PfL09wLpew8c5WMp+fjwGilw+znBp+Tx/WGCLhbgYLs3tu3JHwry8rpZGfL9tfLDPkywSwUJa/GExLRbaYv5LNpsNhFkzhFp6pOV+zxKZtoC2X2cX7XC9JuzfsyycsyZgO/RbRbKiKO8KORafn5/j0aNHeP36NQ4PD3F8fIxoNIp6vW7SaB48eHAlJUVR5hHb0C3/DvM0h2G/x37c5REGgqkN0+lFLR25L7YIluJ1ViX6sPUG/02xzkg8ud69TrrZm86FvbZz7aesJg5cer6vu8bSdZDysZh7oewa9Gg1ZE83WZafsIcdc2ntSsZ22EiYRVHuRxi2YHR5FylQmfPrEscUtdILzOrSzBuWFRBZdVr2xHOJXntwsotQyX2VxyotsfYgLT2mMtSHgzRbI1DsykJb+Xze9CimYJZe6usya9J704T4toPzmwTxdZ+jp1pRFOVdYnud6vU6vvnmG5ydnaHZbML3fUynUzOnlEol7OzsIJfL6SJVmXtcc+vPEWE/ZQ6Xec+2SA3b5nXXPLOOQX7u+6o1EJZ3TH7KuddxR7kJzL1QDkO2ApJhNzLUwxbFLOIghaDsJSxFs110yhWCw9dKkWnDAgvMEabAZdEs2YuYBbTa7bYRwPyxharsQ+zqjenyZtvh1UAwdFl622X1ap4jenZppOCP7Ecs84cZNs3vSoZtS8ur5ugqiqK8Ozjf0aja6/UCUVe+75tWMzRUKoqiKMqicWtmP1doMEN64/G4yY8Agq2KGGJmh8q4wlFcYtf1HAU2i1XRcy1DpBny3e/3AyHS0jMs3yvL+/MxKWxdopILHx6bLeLt4gtEeuBlAQZZVEsWyGI+SiaTMaHQsjex53kmtFo+Jtsxzfo+XZWhFUVRlJ8Hjch2tVuK6E6nY6rXKoqiKMqiMfdCWXprZaEpu0oyHwcQEJy9Xg/D4RDJZDIgNKX32JVnbBe7sj3Tw+HQeIe73W6g7zCLalEYt9vtgHdWVkzkPhDbc+zyDEvCCj/IfGRiN5K3j42Gh0wmY3oQF4vFgMeYApl/szCGC1dIuu3Rtr9rzdlVFEX5+dDAyaKEct5jy5dut6tCWVEURVlY5loo2zmz8m8plFmRT4o25gOz1ZHMf6XYlUUZ7HDs4XBoLO7M6er1emi32/B93xQLo6eYXmH5w9Boeocl1y2KYAt2V/g0n3d5lKX33fM84yUuFovI5XKB/sPZbBaZTMZ4jmXv4Wg0arzLMnya59q1b3x9mDB2oUJZURTl58FUmaWlJZydnaHT6QQMtByXGfkUVphQURRFUW4zcy2UAXdBAP4tC3rJ9kQyT9kWqRTQUuDa/YbDimYNBgPTa1jmD9sCUYZ+y322j8X2EvM3w8jtMGv7vMhiWvF4PNB3mKKYAplVpPl3Pp9HNptFIpEIVJ9m2LTrs10Fz1yVr+3ia2/C9V5FURTlp8GKu4VCwaS/yDobAAIeZRXKiqIoyiIy90IZcBfMokik13IymZjm6uPx2IRa2+2RpAhuNBrG2t5qtdBoNNBsNgPFtOz+uVIE2xZ6u5gW/5YtAoBLgenyxNKjTW+39OjKbcoCWalUylSRZtg0K0szRDqTyZgK1IlE4oo4d51z+ZuvlX0JZf603c/YtS35eWEiW3t6Koqi/Hzi8TgymYzxHsuaFZFIBP1+H51Ox3RNUBRFUZRFY+6Fsu2htMWyDA+mIGXxrk6ng6dPn+Ls7AzJZBKdTsdUm5bFt6RH2fYSS0u8/FwZyi0FrF1pW/Ytdnlk7e3xb4ZIy97DFLry3/QQUwCzHzHPi6vKtBS6Lk+93Dc7ZFzmicvvhz92r2ZXiHmYR109yoqiKD8faUim8ZUGTeAi0qrT6aDZbAaMwYqiKIqySNwKoWz/Wwo8hhvbVaEnkwm63S5evHiBo6MjADCeYuYtv83n2o/b++ESeVIIynZW9m+GS1PcUgRfRyjzPbZHm59LXDnMYcdlvzfsmFzC2vVvea5cn6OLNEVRlHcL5xJG6cg+qIyuarfbWsxLURRFWVjmWijPElCyYBTFoqzyLNs3cXEwGAwCopWC2t4mPa7SUyorRcvX8m87j9euRk2By4JZ8nculzMh0slkErlcDqlUamafYdfj0pstz4UdCs73h1XennXu5fZlbpudL203n7e3aed0Ew29VhRF+fnE43Ezl9idIRh5xRQjNVgqiqIoi8hcC+U3QQFLYcbCXXZ1axl+7Gr7JIUen3P9yP7Dspo0C2bJ/sIMi+ZjstewDJOmR1n2LOZvKdQBBIqUEbnAkc+5Qp3lsdnbtrfpep8U3vRgh3mK37Toks+7eloriqIoPw22+8vlcmb+6ff7GI/HZvwGLvspDwYDpFKpj7zXiqIoivJhuZVCWebJskiVLXL5PHA1XFpug4SJPXpJKbSl6GY+MKtGs9cwPcTsSZzNZgOC+LoVpWeFcoe9xj4W13mztxeGK7za9pj/HK4rqhVFUZS3IxaLmcilRCIB3/cDBtLpdGraIPb7/TcK5bC5SlEURVHmlVshlKUXlJM7Revq6ipevXoV8CTLsGl6PdkGip5hu2WGDLfm81L80ktcLpeRy+WueI9lUTFZmMsOkbZF7Jtyhu3HpNif9f5Z23wbb698zO45rSiKotwM7PGdRllGMAGXc+NkMsFwOESv10Ov18NwOARwtbYEsYs/6hygKIqi3AZuhVAOIxaLoVQqYXt7G59++ilevXqFRqMBAFcmdYZJU/AxFDqZTJrQadlPOJPJBEKoKYSZRyz7FVMghwnMd83HWqTo4khRFGV+kB0UotFoIH0GuKjlwQKXdncH+TpFURRFuY3MvVB2VV+WAjibzWJrawvD4dD0NmauMoBANWiKZQrcbDaLfD6PdDqNXC6HYrGIYrFoehJ7nhco4iXzmmVBMNsz7dpPRVEURfkQyHmIQtmOZuJ8xtBr+fh1izsqiqIoyjwz90LZDjUmFKzxeByFQgGffPIJYrEYjo+PzcQ/Go1MGDVDpXO5XEAIy5xju++wHSItC37Zec92satZxbIURVEU5X0h84lZR0N6lPn3ZDJBp9OB7/tX3n+dFCFFURRFmWfmXijbUKyyPVEkEkE8HkexWMTu7i4qlYqp4jkej41QZmg1w6s9z3OGosm/ZxXEkjnTrvepSFYURVE+BlLoUii7DL/T6RSdTge9Xi/w3KxILtdziqIoijKPzLVQlqJUtiFimyfZ/ikej6NSqaBcLl8JveaPvV32WpZQiLs8yK6WUmHeYxXJiqIoysfA5VEOE8q+76PX64Uahl1h2Np3WVEURbkNzK1Qnk6nxiMsLdmcoBkaTUEsxWs8fnnYUsDSCz0ajcy2k8mkeZ1EfibFsZ2bbL9WURRFUT42MrqJUVTsAAEEBTCLecn32X8riqIoym1kroWyhKJ4Op0aoUrPso0trF1h0gCM6HUV4grrGSm9zK591cWFoiiK8jGR8xDrc0jjshTKg8HAVL3WApSKoijKIjG3QtkOgQYuvbtSrNqvAWCKlMgFAates12GXBRwu6PRKFDshK+3PchEWudd+68oiqIoHwPOQfQoyw4Ok8nEeJgplMfjsXOu0zBrRVEU5bYy10IZQCDkmYzHYwCXlTsphClYKZ5lXjK3OZ1OTQ5zNBo1bTP4t+1JjkQiGI/HZnHBnsm2F1qLdymKoig3ATl/spAleykDMAZhABgOh0Ysy64PEte8qCiKoijzztwKZSL7FssCJCSs2EiYB1i2cnIVN5H/5nvke6+LhmMriqIoHwM5fyUSCSSTScRiMSOU5Rw4Go0wGAzQ7/cDNUD4urA0JEVRFEWZd+ZWKHOCHg6HAGAs3fTmuizbsqex7GvM52QodSKRCHyOLWzl9qWFPazYifzbFuO2dV5RFEVRPgTxeByJRMJEQzFKivMcC1wOBgNEo1HE4/ErqUla6VpRFEW5jcytUOaEzArWtjDmb1d4NZHFvt6mt3FYBew3PWY/Zxf9UhRFUZQPATtHRCIReJ6HXC6HRqMRMOAyfWkwGMD3fVMdezQamedVHCuKoii3lbkVysCF4KTn136cuMTo2+YLv4/8Ys1ZVhRFUT4WsmgXhTLrcMhilePxGIPBAJ1OB+VyGdFoFMPhMFBQk9tTFEVRlNuEujQVRVEUZQGRhS09zzMpTLLex3Q6xWg0gu/7gZDsWZFVKpoVRVGU28Bce5QVRVEURXl7KHaZd2xXvpYMBgO0Wi0Mh8NA8UxXUUot8KUoiqLcFtSjrCiKoigLiKzlkU6n4XlewKMMwPRSbrVaGAwGV9oxurzH6lFWFEVRbgMqlBVFURRlwZBiOBqNIp1OB2p+SK/waDRCu902XSakR1lFsaIoinJbUaGsKIqiKAuIFMqpVMp0kbDbIo7H4ys5ynyd/G1vV1EURVHmGc1RVhRFUZQFhe2g0um06ZFsC9/xeIxer4fxeGwekyLZFs7a+lBRFEW5DehspiiKoigLzHU8yv1+H6PRCJPJxLxPimT5PkVRFEW5DahQVhRFUZQFQgpaFudijrIrbFoK5fF4fKXaNfOVJ5OJCmVFURTl1qBCWVEURVEWCFvQsuo120PZYplCeTAYBMKv7Z7KKpQVRVGU24TmKCuKoijKAmGL2Wg0Cs/zEI/HEY1GEY1GAyHWk8kEw+HQeJTlc3KbGnqtKIqi3CbUo6woiqIoC4TtMY5EIkgkEkgkEiZPmY8zrHo4HBqRbHuOZRi3CmVFURTltqBCWVEURVEWCHqNSSQSQTweRzKZhOd5GI1GmE6niMfjRiiPRiPjUZbIfssyDFtRFEVR5h0VyoqiKIqyQNiCNhKJIBqNGq8yRbQMp45EIkYoy/fb21EURVGU24IKZUVRFEVZUKS4jcfj8DwPsVjMeJJZ5ToSiWAwGGAwGBiPdJgXWcOvFUVRlNuAFvNSFEVRlAXClV8MAIlEAqlUCrFYzAhkmX/c7XbR6XSuPE6hLMWzoiiKosw76lFWFEVRlAVFtnZinrLMX6b3OBqNotfrwff9gEi2t6UiWVEURbktqEdZURRFURYMW+ROJhPEYjF4nhcQuwzDjkajJvTahYpkRVEU5Te6MrsAAAKDSURBVLahQllRFEVRFgxb1I7HYyOUgctCXhTKzFlmD+VoNBoIuyZ8jQpnRVEUZd7R0GtFURRFWUDoKQYuQ68plNkvGYAp6sXH2D6K4tnephbzUhRFUW4D6lFWFEVRlAWHQjmVShlv8Xg8RjQaNeKYP4PBALFYDLFYzLyfolsW+lIURVGUeUY9yoqiKIqyQFDMTiYTI2ojkQgymQzy+TzS6TTi8bjxDtN7nEqlkEwmjXcZgPlbimMNuVYURVFuAyqUFUVRFGXBoACmCI7FYkin0ygUCshkMvA8z4Rl87l8Po9sNmvaQAHBEG25bUVRFEWZdzT0WlEURVEWkOl0akRvIpFANps1YjidThuvczKZRD6fx/LyMpaWlpBKpRCPx802+DoNvVYURVFuEyqUFUVRFGWBkKHR4/EYABCPxxGPx1Eul/Hb3/4WW1tbOD8/h+/7yGazWFlZwc7ODnK5XGBbFNrcpiwQpiiKoijzTGSqpl9FURRFWRik13c0GgEAEolEwDtcr9dxenqKVquFTCaD9fV1ZDIZxONxU/grEolgNBohGo2aNlKKoiiKcltQoawoiqIoCwS9yLFYzPwdiUQwHA4xmUzgeR4mkwmGw6GpfO15nqlyzWUDK2PHYjHE4/HA49pHWVEURZl3NPRaURRFURaUSCQSqFodjUZN6DS9xsBF0S6KZopilyBW27uiKIpyW1ChrCiKoigLhBS2smo1w6en0ykGgwG63S583wdwGZqdTCZRKpUCbaW4PRXJiqIoym1ChbKiKIqiLBAuDzC9x+PxGJ1OBwcHB3j58iXOzs4QiUSQy+WQTCaxurqKfD6PWCwWKNol855l+yhFURRFmVf+P06chQKDwcz2AAAAAElFTkSuQmCC)"
   ]
  },
  {
   "cell_type": "code",
   "execution_count": null,
   "metadata": {},
   "outputs": [],
   "source": [
    "x = 10\n",
    "y = x\n",
    "x, y"
   ]
  },
  {
   "cell_type": "code",
   "execution_count": null,
   "metadata": {},
   "outputs": [],
   "source": [
    "id(x), id(y)"
   ]
  },
  {
   "cell_type": "code",
   "execution_count": null,
   "metadata": {},
   "outputs": [],
   "source": [
    "z = 5 +5\n",
    "z"
   ]
  },
  {
   "cell_type": "code",
   "execution_count": null,
   "metadata": {},
   "outputs": [],
   "source": [
    "id(z)"
   ]
  },
  {
   "cell_type": "markdown",
   "metadata": {
    "id": "5FXKYry1Lf3X"
   },
   "source": [
    "Note: Garbage collector clears all unused memory cell in its life cycle"
   ]
  },
  {
   "cell_type": "code",
   "execution_count": null,
   "metadata": {},
   "outputs": [],
   "source": [
    "y = y + 2\n",
    "x,y,z"
   ]
  },
  {
   "cell_type": "code",
   "execution_count": null,
   "metadata": {},
   "outputs": [],
   "source": [
    "id(x), id(y), id(z)"
   ]
  },
  {
   "cell_type": "code",
   "execution_count": null,
   "metadata": {},
   "outputs": [],
   "source": []
  },
  {
   "cell_type": "markdown",
   "metadata": {
    "id": "IudZZVT9M8Wl",
    "jp-MarkdownHeadingCollapsed": true
   },
   "source": [
    "# Operators\n",
    "- Arithmetic Operators\n",
    "- Assignment operators\n",
    "- Relational Operators\n",
    "- Logical Operators\n",
    "- Bitwise Operators\n",
    "- Membership Operators\n",
    "- Identity Operators"
   ]
  },
  {
   "cell_type": "markdown",
   "metadata": {
    "id": "sinnQdhMN7FI"
   },
   "source": [
    "## Arithmetic Operators\n",
    "- ( + ) Addition\n",
    "- ( - ) Subtraction\n",
    "- ( * ) Multiplication\n",
    "- ( / ) Division\n",
    "- ( ** ) Power\n",
    "- ( % ) Modulus (Remainder after division)\n",
    "- ( // ) Floor Division (Division + Floor)\n",
    "\n",
    "\n"
   ]
  },
  {
   "cell_type": "code",
   "execution_count": null,
   "metadata": {},
   "outputs": [],
   "source": [
    "3+4"
   ]
  },
  {
   "cell_type": "code",
   "execution_count": null,
   "metadata": {},
   "outputs": [],
   "source": [
    "3-4"
   ]
  },
  {
   "cell_type": "code",
   "execution_count": null,
   "metadata": {},
   "outputs": [],
   "source": [
    "3*4"
   ]
  },
  {
   "cell_type": "code",
   "execution_count": null,
   "metadata": {},
   "outputs": [],
   "source": [
    "3/4"
   ]
  },
  {
   "cell_type": "code",
   "execution_count": null,
   "metadata": {},
   "outputs": [],
   "source": [
    "3**4"
   ]
  },
  {
   "cell_type": "code",
   "execution_count": null,
   "metadata": {},
   "outputs": [],
   "source": [
    "3%4"
   ]
  },
  {
   "cell_type": "code",
   "execution_count": null,
   "metadata": {},
   "outputs": [],
   "source": [
    "3//4"
   ]
  },
  {
   "cell_type": "code",
   "execution_count": null,
   "metadata": {},
   "outputs": [],
   "source": [
    "-3//4"
   ]
  },
  {
   "cell_type": "code",
   "execution_count": null,
   "metadata": {},
   "outputs": [],
   "source": [
    "-6//10"
   ]
  },
  {
   "cell_type": "markdown",
   "metadata": {
    "id": "QofnZo94uz22"
   },
   "source": [
    "## Assignment Operators\n",
    "\n",
    "- =\n",
    "- +=\n",
    "- -=\n",
    "- *=\n",
    "- /=\n",
    "- **=\n",
    "- %=\n",
    "- //="
   ]
  },
  {
   "cell_type": "code",
   "execution_count": null,
   "metadata": {},
   "outputs": [],
   "source": [
    "a = 10"
   ]
  },
  {
   "cell_type": "code",
   "execution_count": null,
   "metadata": {},
   "outputs": [],
   "source": [
    "a += 5  # a = a+5\n",
    "a"
   ]
  },
  {
   "cell_type": "code",
   "execution_count": null,
   "metadata": {},
   "outputs": [],
   "source": [
    "a -= 2\n",
    "a"
   ]
  },
  {
   "cell_type": "markdown",
   "metadata": {
    "id": "eEXcagEFV-4h"
   },
   "source": [
    "## Relational Operators\n",
    "- ( < ) Less than\n",
    "- ( > ) Greater than\n",
    "- ( <= ) Less than equals\n",
    "- ( >= ) Greater than equals\n",
    "- ( == ) Equals\n",
    "- ( != ) Not Equals\n",
    "Outcome of relational operators are always Boolean\n"
   ]
  },
  {
   "cell_type": "code",
   "execution_count": null,
   "metadata": {},
   "outputs": [],
   "source": [
    "10 < 10.5"
   ]
  },
  {
   "cell_type": "code",
   "execution_count": null,
   "metadata": {},
   "outputs": [],
   "source": [
    "100 < 99"
   ]
  },
  {
   "cell_type": "code",
   "execution_count": null,
   "metadata": {},
   "outputs": [],
   "source": [
    "100 < '200'"
   ]
  },
  {
   "cell_type": "code",
   "execution_count": null,
   "metadata": {},
   "outputs": [],
   "source": [
    "'ab' != 'ab'"
   ]
  },
  {
   "cell_type": "code",
   "execution_count": null,
   "metadata": {},
   "outputs": [],
   "source": [
    "a = 100\n",
    "a < True"
   ]
  },
  {
   "cell_type": "code",
   "execution_count": null,
   "metadata": {},
   "outputs": [],
   "source": [
    "a = 100\n",
    "a < None"
   ]
  },
  {
   "cell_type": "markdown",
   "metadata": {
    "id": "UgbxK6onjp4p"
   },
   "source": [
    "## Logical Operators\n",
    "- and\n",
    "- or\n",
    "- not"
   ]
  },
  {
   "cell_type": "code",
   "execution_count": null,
   "metadata": {},
   "outputs": [],
   "source": [
    "a = 10\n",
    "b = 0\n",
    "c = 40\n",
    "d = 50"
   ]
  },
  {
   "cell_type": "code",
   "execution_count": null,
   "metadata": {},
   "outputs": [],
   "source": [
    "(a < b) and (b < c)"
   ]
  },
  {
   "cell_type": "code",
   "execution_count": null,
   "metadata": {},
   "outputs": [],
   "source": [
    "a and b and c"
   ]
  },
  {
   "cell_type": "code",
   "execution_count": null,
   "metadata": {},
   "outputs": [],
   "source": [
    "a or b or c"
   ]
  },
  {
   "cell_type": "code",
   "execution_count": null,
   "metadata": {},
   "outputs": [],
   "source": [
    "b or c or a"
   ]
  },
  {
   "cell_type": "code",
   "execution_count": null,
   "metadata": {},
   "outputs": [],
   "source": [
    "not 0"
   ]
  },
  {
   "cell_type": "code",
   "execution_count": null,
   "metadata": {},
   "outputs": [],
   "source": [
    "not 100"
   ]
  },
  {
   "cell_type": "code",
   "execution_count": null,
   "metadata": {},
   "outputs": [],
   "source": [
    "not \"\""
   ]
  },
  {
   "cell_type": "code",
   "execution_count": null,
   "metadata": {},
   "outputs": [],
   "source": [
    "not None"
   ]
  },
  {
   "cell_type": "markdown",
   "metadata": {
    "id": "-NwSHVackNLq"
   },
   "source": [
    "## Bitwise operators\n",
    "- ( ~ ) ones complement\n",
    "- ( & ) bitwise and\n",
    "- ( | ) bitwise or\n",
    "- ( ^ ) bitwise exor\n",
    "- ( << ) left shift\n",
    "- ( >> ) right shift"
   ]
  },
  {
   "cell_type": "code",
   "execution_count": null,
   "metadata": {},
   "outputs": [],
   "source": [
    "~5"
   ]
  },
  {
   "cell_type": "code",
   "execution_count": null,
   "metadata": {},
   "outputs": [],
   "source": [
    "5 and 6"
   ]
  },
  {
   "cell_type": "code",
   "execution_count": null,
   "metadata": {},
   "outputs": [],
   "source": [
    "5 & 6"
   ]
  },
  {
   "cell_type": "code",
   "execution_count": null,
   "metadata": {},
   "outputs": [],
   "source": [
    "8 << 1"
   ]
  },
  {
   "cell_type": "code",
   "execution_count": null,
   "metadata": {},
   "outputs": [],
   "source": [
    "16 << 1"
   ]
  },
  {
   "cell_type": "code",
   "execution_count": null,
   "metadata": {},
   "outputs": [],
   "source": [
    "8<<2"
   ]
  },
  {
   "cell_type": "code",
   "execution_count": null,
   "metadata": {},
   "outputs": [],
   "source": [
    "## left shift : multiplication by 2^Shifts"
   ]
  },
  {
   "cell_type": "code",
   "execution_count": null,
   "metadata": {},
   "outputs": [],
   "source": [
    "8 >> 1"
   ]
  },
  {
   "cell_type": "code",
   "execution_count": null,
   "metadata": {},
   "outputs": [],
   "source": [
    "8 >> 2"
   ]
  },
  {
   "cell_type": "code",
   "execution_count": null,
   "metadata": {},
   "outputs": [],
   "source": [
    "8 >> 40"
   ]
  },
  {
   "cell_type": "code",
   "execution_count": null,
   "metadata": {},
   "outputs": [],
   "source": [
    "\"abc\" << 1"
   ]
  },
  {
   "cell_type": "code",
   "execution_count": null,
   "metadata": {},
   "outputs": [],
   "source": []
  },
  {
   "cell_type": "markdown",
   "metadata": {
    "id": "Bzgrdoa3y0jH"
   },
   "source": [
    "## Membership Operators:\n",
    "object present in iterable or not\n",
    "- in:\n",
    "- not in"
   ]
  },
  {
   "cell_type": "code",
   "execution_count": null,
   "metadata": {},
   "outputs": [],
   "source": [
    "\"L\" in \"LTI\""
   ]
  },
  {
   "cell_type": "code",
   "execution_count": null,
   "metadata": {},
   "outputs": [],
   "source": [
    "\"L\" in \"lti\""
   ]
  },
  {
   "cell_type": "code",
   "execution_count": null,
   "metadata": {},
   "outputs": [],
   "source": [
    "courses = ['C','GCP','Python']\n",
    "'SQL' in courses"
   ]
  },
  {
   "cell_type": "code",
   "execution_count": null,
   "metadata": {},
   "outputs": [],
   "source": [
    "type(courses)"
   ]
  },
  {
   "cell_type": "code",
   "execution_count": null,
   "metadata": {},
   "outputs": [],
   "source": [
    "[1,2] in [[1,2],[1,2,3]]"
   ]
  },
  {
   "cell_type": "code",
   "execution_count": null,
   "metadata": {},
   "outputs": [],
   "source": [
    "dir(list)"
   ]
  },
  {
   "cell_type": "code",
   "execution_count": null,
   "metadata": {},
   "outputs": [],
   "source": [
    "dir(int)"
   ]
  },
  {
   "cell_type": "code",
   "execution_count": null,
   "metadata": {},
   "outputs": [],
   "source": [
    "for i in 4566552255:\n",
    "    print(i)"
   ]
  },
  {
   "cell_type": "code",
   "execution_count": null,
   "metadata": {},
   "outputs": [],
   "source": [
    "100 in {a: 10,b:12}.values()"
   ]
  },
  {
   "cell_type": "code",
   "execution_count": null,
   "metadata": {},
   "outputs": [],
   "source": [
    "dir(dict)"
   ]
  },
  {
   "cell_type": "markdown",
   "metadata": {
    "id": "1yPZydKpzl9Y"
   },
   "source": [
    "## Identity Operators\n",
    "- is\n",
    "- is not"
   ]
  },
  {
   "cell_type": "code",
   "execution_count": null,
   "metadata": {},
   "outputs": [],
   "source": [
    "a = 10\n",
    "b = 10"
   ]
  },
  {
   "cell_type": "code",
   "execution_count": null,
   "metadata": {},
   "outputs": [],
   "source": [
    "a == b, a is b"
   ]
  },
  {
   "cell_type": "code",
   "execution_count": null,
   "metadata": {},
   "outputs": [],
   "source": [
    "x = ['cat','dog']\n",
    "y = ['cat','dog']"
   ]
  },
  {
   "cell_type": "code",
   "execution_count": null,
   "metadata": {},
   "outputs": [],
   "source": [
    "x == y, x is y"
   ]
  },
  {
   "cell_type": "code",
   "execution_count": null,
   "metadata": {},
   "outputs": [],
   "source": [
    "x = ['cat','dog']\n",
    "y = x"
   ]
  },
  {
   "cell_type": "code",
   "execution_count": null,
   "metadata": {},
   "outputs": [],
   "source": [
    "x == y, x is y"
   ]
  },
  {
   "cell_type": "markdown",
   "metadata": {
    "id": "VnJanUVyqsQi",
    "jp-MarkdownHeadingCollapsed": true
   },
   "source": [
    "# Basic Input/Output"
   ]
  },
  {
   "cell_type": "markdown",
   "metadata": {
    "id": "ZFIi32WMsudT"
   },
   "source": [
    "## input() - accepts inputs from user"
   ]
  },
  {
   "cell_type": "markdown",
   "metadata": {
    "id": "lEeyk31lrdI9"
   },
   "source": [
    "Note : input() stores data in string format"
   ]
  },
  {
   "cell_type": "code",
   "execution_count": null,
   "metadata": {},
   "outputs": [],
   "source": [
    "a = input()\n",
    "a"
   ]
  },
  {
   "cell_type": "code",
   "execution_count": null,
   "metadata": {},
   "outputs": [],
   "source": [
    "a = float(input())\n",
    "type(a)"
   ]
  },
  {
   "cell_type": "code",
   "execution_count": null,
   "metadata": {},
   "outputs": [],
   "source": [
    "a = int(input(\"Enter the number: \"))\n",
    "a"
   ]
  },
  {
   "cell_type": "markdown",
   "metadata": {},
   "source": [
    "### Practice Questions"
   ]
  },
  {
   "cell_type": "code",
   "execution_count": null,
   "metadata": {
    "colab": {
     "base_uri": "https://localhost:8080/"
    },
    "executionInfo": {
     "elapsed": 7310,
     "status": "ok",
     "timestamp": 1687166235530,
     "user": {
      "displayName": "naz nazira",
      "userId": "06694449877078577923"
     },
     "user_tz": -330
    },
    "id": "QlSRVC40q02a",
    "outputId": "a9f8ce5a-7a58-4943-94e3-54bd44ef231c"
   },
   "outputs": [],
   "source": [
    "# Wap to that takes two numbers from user and displays the addition of the two entered numbers\n",
    "\n",
    "num1 = float(input(\"Enter first number: \"))\n",
    "num2 = float(input(\"Enter second number: \"))\n",
    "num1 + num2"
   ]
  },
  {
   "cell_type": "code",
   "execution_count": null,
   "metadata": {
    "colab": {
     "base_uri": "https://localhost:8080/"
    },
    "executionInfo": {
     "elapsed": 5059,
     "status": "ok",
     "timestamp": 1687166740252,
     "user": {
      "displayName": "naz nazira",
      "userId": "06694449877078577923"
     },
     "user_tz": -330
    },
    "id": "7S3WstbIZpKF",
    "outputId": "0f991b60-551b-4118-9174-a2f3401c1b78"
   },
   "outputs": [],
   "source": [
    "# Write a Python program which accepts the radius of a circle from the user and compute the area\n",
    "\n",
    "radius = float(input(\"Enter the radius: \"))\n",
    "print(\"The area of circle with radius \",radius,\"is \", 3.14 * radius**2)"
   ]
  },
  {
   "cell_type": "markdown",
   "metadata": {
    "id": "zn9VUu1FsnTO"
   },
   "source": [
    "## print() - displays the output\n",
    "- Print formattings\n",
    "    1. Place holder\n",
    "    2. f-string method"
   ]
  },
  {
   "cell_type": "markdown",
   "metadata": {
    "id": "LFmgFCpDt2N6"
   },
   "source": [
    "### 1. Place holder { }"
   ]
  },
  {
   "cell_type": "code",
   "execution_count": null,
   "metadata": {},
   "outputs": [],
   "source": [
    "# Wap to that takes two numbers from user and displays the addition of the two entered numbers\n",
    "\n",
    "num1 = float(input(\"Enter first number: \"))\n",
    "num2 = float(input(\"Enter second number: \"))\n",
    "print(\"{} + {} = {}\".format(num1,num2,num1 + num2))"
   ]
  },
  {
   "cell_type": "code",
   "execution_count": null,
   "metadata": {},
   "outputs": [],
   "source": [
    "# Wap to that takes two numbers from user and displays the addition of the two entered numbers\n",
    "\n",
    "num1 = float(input(\"Enter first number: \"))\n",
    "num2 = float(input(\"Enter second number: \"))\n",
    "print(\"{1} + {0} = {2}\".format(num1,num2,num1 + num2))"
   ]
  },
  {
   "cell_type": "code",
   "execution_count": null,
   "metadata": {},
   "outputs": [],
   "source": [
    "# Write a Python program which accepts the radius of a circle from the user and compute the area\n",
    "\n",
    "radius = float(input(\"Enter the radius: \"))\n",
    "area = 3.14 * radius**2\n",
    "print(\"The area of circle with radius {} is {}\".format(radius, area))"
   ]
  },
  {
   "cell_type": "markdown",
   "metadata": {
    "id": "jyQDmRzuulT7"
   },
   "source": [
    "### 2. f-string method\n",
    "Supported in python 3.6 onwards version"
   ]
  },
  {
   "cell_type": "code",
   "execution_count": null,
   "metadata": {},
   "outputs": [],
   "source": [
    "# Write a Python program which accepts the radius of a circle from the user and compute the area\n",
    "\n",
    "radius = float(input(\"Enter the radius: \"))\n",
    "print(f\"The area of circle with radius {radius} is {3.14 * radius**2}\")"
   ]
  },
  {
   "cell_type": "code",
   "execution_count": null,
   "metadata": {},
   "outputs": [],
   "source": [
    "# Wap to that takes two numbers from user and displays the addition of the two entered numbers\n",
    "\n",
    "num1 = float(input(\"Enter first number: \"))\n",
    "num2 = float(input(\"Enter second number: \"))\n",
    "print(f\"{num1} + {num2} = {num1 + num2}\")"
   ]
  },
  {
   "cell_type": "markdown",
   "metadata": {
    "id": "Rph5Xv6Sn08J",
    "jp-MarkdownHeadingCollapsed": true
   },
   "source": [
    "# String\n",
    "\n",
    "Anything written in single quote or double quote is a string"
   ]
  },
  {
   "cell_type": "markdown",
   "metadata": {
    "id": "kdlDX9Vase0j"
   },
   "source": [
    "## Multi-line string\n",
    "Written in \"\"\" \"\"\""
   ]
  },
  {
   "cell_type": "code",
   "execution_count": null,
   "metadata": {},
   "outputs": [],
   "source": [
    "print('''Hello\n",
    "How are you''')"
   ]
  },
  {
   "cell_type": "markdown",
   "metadata": {
    "id": "7gPUDQyGZ7Il"
   },
   "source": [
    "## String Operations\n",
    "1. String Concatenation (+)\n",
    "2. String Replication (*)"
   ]
  },
  {
   "cell_type": "code",
   "execution_count": null,
   "metadata": {},
   "outputs": [],
   "source": [
    "10 + 20"
   ]
  },
  {
   "cell_type": "code",
   "execution_count": null,
   "metadata": {},
   "outputs": [],
   "source": [
    "'10' + '20'"
   ]
  },
  {
   "cell_type": "code",
   "execution_count": null,
   "metadata": {},
   "outputs": [],
   "source": [
    "'Hello ' + 'Hi'"
   ]
  },
  {
   "cell_type": "code",
   "execution_count": null,
   "metadata": {},
   "outputs": [],
   "source": [
    "\"hello \" * 5"
   ]
  },
  {
   "cell_type": "code",
   "execution_count": null,
   "metadata": {},
   "outputs": [],
   "source": [
    "print(\".\"*100)"
   ]
  },
  {
   "cell_type": "code",
   "execution_count": null,
   "metadata": {
    "colab": {
     "base_uri": "https://localhost:8080/",
     "height": 70
    },
    "executionInfo": {
     "elapsed": 6055,
     "status": "ok",
     "timestamp": 1681466735084,
     "user": {
      "displayName": "naz nazira",
      "userId": "06694449877078577923"
     },
     "user_tz": -330
    },
    "id": "lB-diomiaIiY",
    "outputId": "5f9f3eeb-7bec-4d76-f60d-4cd33adcbcfc"
   },
   "outputs": [],
   "source": [
    "# WAP which accepts the user's first and last name and print them in reverse order with a space between them.\n",
    "\n",
    "firstname = input(\"FirstName : \")\n",
    "lastname = input(\"LastName : \")\n",
    "print(f\"{lastname + ' ' + firstname}\")"
   ]
  },
  {
   "cell_type": "code",
   "execution_count": null,
   "metadata": {
    "id": "a0DVEEw_aY-K"
   },
   "outputs": [],
   "source": [
    "# Write a Python program that accepts an integer (n) and computes the value of n+nn+nnn.\n",
    "# Sample value of n is 5\n",
    "# Expected Result : 615\n",
    "\n",
    "n = input(\"Enter the integer: \")\n",
    "int(n) + int(n*2) + int(n*3)"
   ]
  },
  {
   "cell_type": "markdown",
   "metadata": {
    "id": "PxLgwXkCy36D"
   },
   "source": [
    "## String Indexing"
   ]
  },
  {
   "cell_type": "code",
   "execution_count": null,
   "metadata": {
    "id": "r5BKq7U5U2Co"
   },
   "outputs": [],
   "source": [
    "# string[start:stop:step]"
   ]
  },
  {
   "cell_type": "code",
   "execution_count": null,
   "metadata": {},
   "outputs": [],
   "source": [
    "s = \"Guido Van Rossum\""
   ]
  },
  {
   "cell_type": "code",
   "execution_count": null,
   "metadata": {},
   "outputs": [],
   "source": [
    "s[0]"
   ]
  },
  {
   "cell_type": "code",
   "execution_count": null,
   "metadata": {},
   "outputs": [],
   "source": [
    "s[-1]"
   ]
  },
  {
   "cell_type": "code",
   "execution_count": null,
   "metadata": {},
   "outputs": [],
   "source": [
    "len(s)"
   ]
  },
  {
   "cell_type": "code",
   "execution_count": null,
   "metadata": {},
   "outputs": [],
   "source": [
    "s[15]"
   ]
  },
  {
   "cell_type": "code",
   "execution_count": null,
   "metadata": {},
   "outputs": [],
   "source": [
    "s[1:5]"
   ]
  },
  {
   "cell_type": "code",
   "execution_count": null,
   "metadata": {},
   "outputs": [],
   "source": [
    "s[5:10]"
   ]
  },
  {
   "cell_type": "code",
   "execution_count": null,
   "metadata": {},
   "outputs": [],
   "source": [
    "s[:5]"
   ]
  },
  {
   "cell_type": "code",
   "execution_count": null,
   "metadata": {},
   "outputs": [],
   "source": [
    "s[5:]"
   ]
  },
  {
   "cell_type": "code",
   "execution_count": null,
   "metadata": {},
   "outputs": [],
   "source": [
    "s[::]"
   ]
  },
  {
   "cell_type": "code",
   "execution_count": null,
   "metadata": {},
   "outputs": [],
   "source": [
    "s[::1]"
   ]
  },
  {
   "cell_type": "code",
   "execution_count": null,
   "metadata": {},
   "outputs": [],
   "source": [
    "s[::2]"
   ]
  },
  {
   "cell_type": "code",
   "execution_count": null,
   "metadata": {},
   "outputs": [],
   "source": [
    "s"
   ]
  },
  {
   "cell_type": "code",
   "execution_count": null,
   "metadata": {},
   "outputs": [],
   "source": [
    "s[::-2]"
   ]
  },
  {
   "cell_type": "code",
   "execution_count": null,
   "metadata": {
    "colab": {
     "base_uri": "https://localhost:8080/"
    },
    "executionInfo": {
     "elapsed": 14291,
     "status": "ok",
     "timestamp": 1681468951654,
     "user": {
      "displayName": "naz nazira",
      "userId": "06694449877078577923"
     },
     "user_tz": -330
    },
    "id": "zB7Mt2N_0PCM",
    "outputId": "a86fe79b-25d1-47f2-9f34-8814b20bcb8e"
   },
   "outputs": [],
   "source": [
    "# WAP to reverse the string\n",
    "\n",
    "s[::-1]"
   ]
  },
  {
   "cell_type": "markdown",
   "metadata": {
    "id": "Ijuq9jKB0UFy"
   },
   "source": [
    "## Strings are immutable"
   ]
  },
  {
   "cell_type": "code",
   "execution_count": null,
   "metadata": {},
   "outputs": [],
   "source": [
    "s[-1] = \".\""
   ]
  },
  {
   "cell_type": "code",
   "execution_count": null,
   "metadata": {},
   "outputs": [],
   "source": [
    "s = \"Hello\""
   ]
  },
  {
   "cell_type": "markdown",
   "metadata": {
    "id": "PI5lFaoV0uU3"
   },
   "source": [
    "## String Methods"
   ]
  },
  {
   "cell_type": "code",
   "execution_count": null,
   "metadata": {},
   "outputs": [],
   "source": [
    "dir(str)"
   ]
  },
  {
   "cell_type": "code",
   "execution_count": null,
   "metadata": {},
   "outputs": [],
   "source": [
    "help(str.strip)"
   ]
  },
  {
   "cell_type": "markdown",
   "metadata": {
    "jp-MarkdownHeadingCollapsed": true
   },
   "source": [
    "##### upper,lower,casefold,swapcase"
   ]
  },
  {
   "cell_type": "code",
   "execution_count": null,
   "metadata": {
    "id": "Pq1vGuSs01RG"
   },
   "outputs": [],
   "source": [
    "text = 'Mr. Guido Van Rossum'\n",
    "print(text)"
   ]
  },
  {
   "cell_type": "code",
   "execution_count": null,
   "metadata": {
    "colab": {
     "base_uri": "https://localhost:8080/",
     "height": 36
    },
    "executionInfo": {
     "elapsed": 383,
     "status": "ok",
     "timestamp": 1672657891029,
     "user": {
      "displayName": "naz nazira",
      "userId": "06694449877078577923"
     },
     "user_tz": -330
    },
    "id": "F1cxi1jD07pe",
    "outputId": "83a98943-6ba0-4b21-dc02-67b7a11630c9"
   },
   "outputs": [],
   "source": [
    "print(text.upper())"
   ]
  },
  {
   "cell_type": "code",
   "execution_count": null,
   "metadata": {
    "colab": {
     "base_uri": "https://localhost:8080/",
     "height": 36
    },
    "executionInfo": {
     "elapsed": 6,
     "status": "ok",
     "timestamp": 1672717520773,
     "user": {
      "displayName": "naz nazira",
      "userId": "06694449877078577923"
     },
     "user_tz": -330
    },
    "id": "DTUuSM6RLULo",
    "outputId": "42bd4e65-2cac-4ff3-932c-7a6a8721aa28"
   },
   "outputs": [],
   "source": [
    "print(text.lower())"
   ]
  },
  {
   "cell_type": "code",
   "execution_count": null,
   "metadata": {},
   "outputs": [],
   "source": [
    "print(text.casefold())"
   ]
  },
  {
   "cell_type": "markdown",
   "metadata": {
    "id": "a99WUDFy2MAz"
   },
   "source": [
    "**Difference between casefold() and lower()**\n",
    "\n",
    "*if you are working strictly in the English language, lower() and casefold() should be yielding exactly the same results. However, if you are trying to normalize text from other languages that use more than our simple 26-letter alphabet (using only ASCII), I would use casefold() to compare your strings, as it will yield more consistent results.*"
   ]
  },
  {
   "cell_type": "code",
   "execution_count": null,
   "metadata": {
    "id": "qYlP0BfK1m01"
   },
   "outputs": [],
   "source": [
    "firstString = \"Der Fluß\""
   ]
  },
  {
   "cell_type": "code",
   "execution_count": null,
   "metadata": {
    "colab": {
     "base_uri": "https://localhost:8080/",
     "height": 36
    },
    "executionInfo": {
     "elapsed": 4,
     "status": "ok",
     "timestamp": 1672717630978,
     "user": {
      "displayName": "naz nazira",
      "userId": "06694449877078577923"
     },
     "user_tz": -330
    },
    "id": "7Yyxebb41pu_",
    "outputId": "7ed6dea1-fb91-428b-b653-c9683f391481"
   },
   "outputs": [],
   "source": [
    "firstString.lower()"
   ]
  },
  {
   "cell_type": "code",
   "execution_count": null,
   "metadata": {
    "colab": {
     "base_uri": "https://localhost:8080/",
     "height": 36
    },
    "executionInfo": {
     "elapsed": 10,
     "status": "ok",
     "timestamp": 1672717644482,
     "user": {
      "displayName": "naz nazira",
      "userId": "06694449877078577923"
     },
     "user_tz": -330
    },
    "id": "ndfAP2V11tdc",
    "outputId": "c524c1cf-0527-4318-8e09-c1e6eb609b8b"
   },
   "outputs": [],
   "source": [
    "firstString.casefold()"
   ]
  },
  {
   "cell_type": "code",
   "execution_count": null,
   "metadata": {
    "colab": {
     "base_uri": "https://localhost:8080/",
     "height": 34
    },
    "id": "41T5rfW81xxO",
    "outputId": "43840dd3-d2c2-48b3-db4e-8a3fbc287e16"
   },
   "outputs": [],
   "source": [
    "firstString.upper()"
   ]
  },
  {
   "cell_type": "code",
   "execution_count": null,
   "metadata": {
    "colab": {
     "base_uri": "https://localhost:8080/",
     "height": 36
    },
    "executionInfo": {
     "elapsed": 4,
     "status": "ok",
     "timestamp": 1672717712122,
     "user": {
      "displayName": "naz nazira",
      "userId": "06694449877078577923"
     },
     "user_tz": -330
    },
    "id": "mEWH2x5I2yLm",
    "outputId": "061f32c3-583f-4494-b6f2-f2669776d78c"
   },
   "outputs": [],
   "source": [
    "sigma = 'ς'\n",
    "sigma"
   ]
  },
  {
   "cell_type": "code",
   "execution_count": null,
   "metadata": {
    "colab": {
     "base_uri": "https://localhost:8080/",
     "height": 36
    },
    "executionInfo": {
     "elapsed": 4,
     "status": "ok",
     "timestamp": 1672717715244,
     "user": {
      "displayName": "naz nazira",
      "userId": "06694449877078577923"
     },
     "user_tz": -330
    },
    "id": "t_-kzJ-z29FH",
    "outputId": "f67d80e1-0510-4761-b154-29464b79363a"
   },
   "outputs": [],
   "source": [
    "sigma.upper()"
   ]
  },
  {
   "cell_type": "code",
   "execution_count": null,
   "metadata": {
    "colab": {
     "base_uri": "https://localhost:8080/",
     "height": 36
    },
    "executionInfo": {
     "elapsed": 12,
     "status": "ok",
     "timestamp": 1672717725335,
     "user": {
      "displayName": "naz nazira",
      "userId": "06694449877078577923"
     },
     "user_tz": -330
    },
    "id": "Z8jJ_9ol3A4q",
    "outputId": "be547071-4917-40fe-e801-cc0a0a4c700b"
   },
   "outputs": [],
   "source": [
    "sigma.lower()"
   ]
  },
  {
   "cell_type": "code",
   "execution_count": null,
   "metadata": {
    "colab": {
     "base_uri": "https://localhost:8080/",
     "height": 36
    },
    "executionInfo": {
     "elapsed": 520,
     "status": "ok",
     "timestamp": 1672717730454,
     "user": {
      "displayName": "naz nazira",
      "userId": "06694449877078577923"
     },
     "user_tz": -330
    },
    "id": "Xb5JlFG23Cs-",
    "outputId": "ba9c48c1-0063-4074-bc00-0831db7782b9"
   },
   "outputs": [],
   "source": [
    "sigma.casefold()"
   ]
  },
  {
   "cell_type": "code",
   "execution_count": null,
   "metadata": {},
   "outputs": [],
   "source": [
    "text.swapcase()"
   ]
  },
  {
   "cell_type": "markdown",
   "metadata": {
    "jp-MarkdownHeadingCollapsed": true
   },
   "source": [
    "#### startswith,endswith"
   ]
  },
  {
   "cell_type": "code",
   "execution_count": null,
   "metadata": {},
   "outputs": [],
   "source": [
    "text.startswith('M')"
   ]
  },
  {
   "cell_type": "code",
   "execution_count": null,
   "metadata": {},
   "outputs": [],
   "source": [
    "text.startswith('m')"
   ]
  },
  {
   "cell_type": "code",
   "execution_count": null,
   "metadata": {},
   "outputs": [],
   "source": [
    "text.startswith('Mr')"
   ]
  },
  {
   "cell_type": "code",
   "execution_count": null,
   "metadata": {},
   "outputs": [],
   "source": [
    "text.endswith('.')"
   ]
  },
  {
   "cell_type": "code",
   "execution_count": null,
   "metadata": {},
   "outputs": [],
   "source": [
    "text.endswith('m')"
   ]
  },
  {
   "cell_type": "markdown",
   "metadata": {
    "jp-MarkdownHeadingCollapsed": true
   },
   "source": [
    "#### find,rfind"
   ]
  },
  {
   "cell_type": "code",
   "execution_count": null,
   "metadata": {},
   "outputs": [],
   "source": [
    "text"
   ]
  },
  {
   "cell_type": "code",
   "execution_count": null,
   "metadata": {},
   "outputs": [],
   "source": [
    "text.find('u')"
   ]
  },
  {
   "cell_type": "code",
   "execution_count": null,
   "metadata": {},
   "outputs": [],
   "source": [
    "help(str.find)"
   ]
  },
  {
   "cell_type": "code",
   "execution_count": null,
   "metadata": {},
   "outputs": [],
   "source": [
    "text.find('u',-1)"
   ]
  },
  {
   "cell_type": "code",
   "execution_count": null,
   "metadata": {},
   "outputs": [],
   "source": [
    "a = 'go go go go'\n",
    "a.find('g', 10)"
   ]
  },
  {
   "cell_type": "code",
   "execution_count": null,
   "metadata": {},
   "outputs": [],
   "source": [
    "text.find('u',6,15)"
   ]
  },
  {
   "cell_type": "code",
   "execution_count": null,
   "metadata": {},
   "outputs": [],
   "source": [
    "text.rfind('u')"
   ]
  },
  {
   "cell_type": "code",
   "execution_count": null,
   "metadata": {},
   "outputs": [],
   "source": [
    "text.rfind('u',0,17)"
   ]
  },
  {
   "cell_type": "code",
   "execution_count": null,
   "metadata": {},
   "outputs": [],
   "source": [
    "text.rfind('u',0,4)"
   ]
  },
  {
   "cell_type": "code",
   "execution_count": null,
   "metadata": {},
   "outputs": [],
   "source": [
    "text.find('is',376)"
   ]
  },
  {
   "cell_type": "code",
   "execution_count": null,
   "metadata": {},
   "outputs": [],
   "source": [
    "text[546:]"
   ]
  },
  {
   "cell_type": "code",
   "execution_count": null,
   "metadata": {},
   "outputs": [],
   "source": []
  },
  {
   "cell_type": "code",
   "execution_count": null,
   "metadata": {},
   "outputs": [],
   "source": []
  },
  {
   "cell_type": "markdown",
   "metadata": {
    "jp-MarkdownHeadingCollapsed": true
   },
   "source": [
    "#### split,rsplit"
   ]
  },
  {
   "cell_type": "code",
   "execution_count": null,
   "metadata": {},
   "outputs": [],
   "source": [
    "help(str.split)"
   ]
  },
  {
   "cell_type": "code",
   "execution_count": null,
   "metadata": {},
   "outputs": [],
   "source": [
    "text = \"Mr. Guido Van Rossum\""
   ]
  },
  {
   "cell_type": "code",
   "execution_count": null,
   "metadata": {},
   "outputs": [],
   "source": [
    "text.split(sep = \" \")"
   ]
  },
  {
   "cell_type": "code",
   "execution_count": null,
   "metadata": {},
   "outputs": [],
   "source": [
    "numbers = \"1,569,478,456\"\n",
    "numbers.split(sep = \",\")"
   ]
  },
  {
   "cell_type": "code",
   "execution_count": null,
   "metadata": {},
   "outputs": [],
   "source": [
    "text"
   ]
  },
  {
   "cell_type": "code",
   "execution_count": null,
   "metadata": {},
   "outputs": [],
   "source": [
    "text.split(maxsplit = 2)"
   ]
  },
  {
   "cell_type": "code",
   "execution_count": null,
   "metadata": {},
   "outputs": [],
   "source": [
    "text.split(sep = 'a')"
   ]
  },
  {
   "cell_type": "code",
   "execution_count": null,
   "metadata": {},
   "outputs": [],
   "source": [
    "text.split()"
   ]
  },
  {
   "cell_type": "code",
   "execution_count": null,
   "metadata": {},
   "outputs": [],
   "source": [
    "text.rsplit()"
   ]
  },
  {
   "cell_type": "code",
   "execution_count": null,
   "metadata": {},
   "outputs": [],
   "source": [
    "text.split(maxsplit = 2)"
   ]
  },
  {
   "cell_type": "code",
   "execution_count": null,
   "metadata": {},
   "outputs": [],
   "source": [
    "text.rsplit(maxsplit = 2)"
   ]
  },
  {
   "cell_type": "markdown",
   "metadata": {
    "jp-MarkdownHeadingCollapsed": true
   },
   "source": [
    "#### ljust,rjust,center"
   ]
  },
  {
   "cell_type": "code",
   "execution_count": null,
   "metadata": {},
   "outputs": [],
   "source": [
    "text.ljust(50)"
   ]
  },
  {
   "cell_type": "code",
   "execution_count": null,
   "metadata": {},
   "outputs": [],
   "source": [
    "text.rjust(50)"
   ]
  },
  {
   "cell_type": "code",
   "execution_count": null,
   "metadata": {},
   "outputs": [],
   "source": [
    "text.center(50)"
   ]
  },
  {
   "cell_type": "markdown",
   "metadata": {
    "jp-MarkdownHeadingCollapsed": true
   },
   "source": [
    "#### lstrip,rstrip,strip"
   ]
  },
  {
   "cell_type": "code",
   "execution_count": null,
   "metadata": {},
   "outputs": [],
   "source": [
    "name = '            ABC Pvt Ltd    '\n",
    "name.lstrip(), name.rstrip(), name.strip()"
   ]
  },
  {
   "cell_type": "code",
   "execution_count": null,
   "metadata": {},
   "outputs": [],
   "source": [
    "help(str.strip)"
   ]
  },
  {
   "cell_type": "code",
   "execution_count": null,
   "metadata": {},
   "outputs": [],
   "source": [
    "name = '????ABC ? Pvt Ltd???????'\n",
    "name.strip('?')"
   ]
  },
  {
   "cell_type": "code",
   "execution_count": 1,
   "metadata": {},
   "outputs": [
    {
     "data": {
      "text/plain": [
       "'example.com'"
      ]
     },
     "execution_count": 1,
     "metadata": {},
     "output_type": "execute_result"
    }
   ],
   "source": [
    "s = \"wouxxoo.....example.com.....xxx\"\n",
    "s.strip(\"wxo.u\")"
   ]
  },
  {
   "cell_type": "code",
   "execution_count": 2,
   "metadata": {},
   "outputs": [
    {
     "data": {
      "text/plain": [
       "'ouxxoo.....example.com'"
      ]
     },
     "execution_count": 2,
     "metadata": {},
     "output_type": "execute_result"
    }
   ],
   "source": [
    "s = \"wouxxoo.....example.com.....xxx\"\n",
    "s.strip(\"w.xu\")"
   ]
  },
  {
   "cell_type": "code",
   "execution_count": null,
   "metadata": {},
   "outputs": [],
   "source": [
    "text.strip(\"#.\")"
   ]
  },
  {
   "cell_type": "markdown",
   "metadata": {},
   "source": [
    "#### count,replace"
   ]
  },
  {
   "cell_type": "code",
   "execution_count": 4,
   "metadata": {
    "id": "BymH4bpk0AHV"
   },
   "outputs": [],
   "source": [
    "text = \"\"\"This article is about the German eszett. For the Greek letter that looks similar, see Beta. For the Chinese radical, see 阝. For the Malayalam script, see ഭ.\n",
    "Not to be confused with the Latin letter B.\n",
    "ẞ\n",
    "ẞ ß\n",
    "Latin letter eszett.svg\n",
    "Usage\n",
    "Writing system\tLatin script\n",
    "Type\tAlphabetic\n",
    "Language of origin\tEarly New High German\n",
    "Phonetic usage\t[s]\n",
    "Unicode codepoint\tU+1E9E, U+00DF\n",
    "History\n",
    "Development\n",
    "M40\t,\tZ4\n",
    "Proto-Sinaitic Shin, Proto-Sinaitic Zayin\n",
    "Phoenician Sin, Phoenician Zayin\n",
    "ς, ζ\n",
    "𐌔, 𐌆\n",
    "sz\n",
    "ſʒ\n",
    "ẞ ß\n",
    "Time period\t~1300s to present\n",
    "Descendants\tNone\n",
    "Sisters\tNone\n",
    "Transliteration equivalents\tss, sz\n",
    "Other\n",
    "Other letters commonly used with\tss, sz\n",
    "This article contains phonetic transcriptions in the International Phonetic Alphabet (IPA). For an introductory guide on IPA symbols, see Help:IPA. For the distinction between [ ], / / and ⟨ ⟩, see IPA § Brackets and transcription delimiters.\n",
    "\n",
    "\n",
    "\n",
    "\n",
    "Variant forms of Eszett (from top-left to bottom-right): Cambria (2004), Lucida Sans (1985), Theuerdank blackletter (1933, based on a 1517 type), handwritten Kurrent (1865)\n",
    "In German orthography, the letter ß, called Eszett (IPA: [ɛsˈtsɛt] ess-TSET) and scharfes S (IPA: [ˌʃaʁfəs ˈʔɛs], \"sharp S\"), represents the /s/ phoneme in Standard German when following long vowels and diphthongs. The letter-name Eszett combines the names of the letters of ⟨s⟩ (Es) and ⟨z⟩ (Zett) in German. The character's Unicode names in English are sharp s[1] and eszett.[1] The Eszett letter is used only in German, and can be typographically replaced with the double-s digraph ⟨ss⟩, if the ß-character is unavailable. In the 20th century, the ß-character was replaced with ss in the spelling of Swiss Standard German (Switzerland and Liechtenstein), while remaining Standard German spelling in other varieties of German language.[2]\n",
    "\n",
    "The letter originates as the ⟨sz⟩ digraph as used in late medieval and early modern German orthography, represented as a ligature of ⟨ſ⟩ (long s) and ⟨ʒ⟩ (tailed z) in blackletter typefaces, yielding ⟨ſʒ⟩.[a] This developed from an earlier usage of ⟨z⟩ in Old and Middle High German to represent a separate sibilant sound from ⟨s⟩; when the difference between the two sounds was lost in the 13th century, the two symbols came to be combined as ⟨sz⟩ in some situations.\n",
    "\n",
    "Traditionally, ⟨ß⟩ did not have a capital form, although some type designers introduced de facto capitalized variants. In 2017, the Council for German Orthography officially adopted a capital, ⟨ẞ⟩, into German orthography, ending a long orthographic debate.[3]\n",
    "\n",
    "⟨ß⟩ was encoded by ECMA-94 (1985) at position 223 (hexadecimal DF), inherited by Latin-1 and Unicode (U+00DF ß LATIN SMALL LETTER SHARP S).[4] The HTML entity &szlig; was introduced with HTML 2.0 (1995). The capital (U+1E9E ẞ LATIN CAPITAL LETTER SHARP S) was encoded by ISO 10646 in 2008.\"\"\""
   ]
  },
  {
   "cell_type": "code",
   "execution_count": 5,
   "metadata": {
    "colab": {
     "base_uri": "https://localhost:8080/"
    },
    "executionInfo": {
     "elapsed": 429,
     "status": "ok",
     "timestamp": 1672718910646,
     "user": {
      "displayName": "naz nazira",
      "userId": "06694449877078577923"
     },
     "user_tz": -330
    },
    "id": "EmARy7Et0D6p",
    "outputId": "2aaacf1e-2a64-4e57-c284-fce2baec4ce6"
   },
   "outputs": [
    {
     "data": {
      "text/plain": [
       "8"
      ]
     },
     "execution_count": 5,
     "metadata": {},
     "output_type": "execute_result"
    }
   ],
   "source": [
    "text.count('ß')"
   ]
  },
  {
   "cell_type": "code",
   "execution_count": 6,
   "metadata": {
    "colab": {
     "base_uri": "https://localhost:8080/",
     "height": 661
    },
    "executionInfo": {
     "elapsed": 11,
     "status": "ok",
     "timestamp": 1672719020284,
     "user": {
      "displayName": "naz nazira",
      "userId": "06694449877078577923"
     },
     "user_tz": -330
    },
    "id": "6XvHL9kI0l40",
    "outputId": "2c144517-a232-4bf8-cdd1-29232d6d22c4"
   },
   "outputs": [
    {
     "data": {
      "text/plain": [
       "'This article is about the German eszett. For the Greek letter that looks similar, see Beta. For the Chinese radical, see 阝. For the Malayalam script, see ഭ.\\nNot to be confused with the Latin letter B.\\nẞ\\nẞ .............................\\nLatin letter eszett.svg\\nUsage\\nWriting system\\tLatin script\\nType\\tAlphabetic\\nLanguage of origin\\tEarly New High German\\nPhonetic usage\\t[s]\\nUnicode codepoint\\tU+1E9E, U+00DF\\nHistory\\nDevelopment\\nM40\\t,\\tZ4\\nProto-Sinaitic Shin, Proto-Sinaitic Zayin\\nPhoenician Sin, Phoenician Zayin\\nς, ζ\\n𐌔, 𐌆\\nsz\\nſʒ\\nẞ .............................\\nTime period\\t~1300s to present\\nDescendants\\tNone\\nSisters\\tNone\\nTransliteration equivalents\\tss, sz\\nOther\\nOther letters commonly used with\\tss, sz\\nThis article contains phonetic transcriptions in the International Phonetic Alphabet (IPA). For an introductory guide on IPA symbols, see Help:IPA. For the distinction between [ ], / / and ⟨ ⟩, see IPA § Brackets and transcription delimiters.\\n\\n\\n\\n\\nVariant forms of Eszett (from top-left to bottom-right): Cambria (2004), Lucida Sans (1985), Theuerdank blackletter (1933, based on a 1517 type), handwritten Kurrent (1865)\\nIn German orthography, the letter ............................., called Eszett (IPA: [ɛsˈtsɛt] ess-TSET) and scharfes S (IPA: [ˌʃaʁfəs ˈʔɛs], \"sharp S\"), represents the /s/ phoneme in Standard German when following long vowels and diphthongs. The letter-name Eszett combines the names of the letters of ⟨s⟩ (Es) and ⟨z⟩ (Zett) in German. The character\\'s Unicode names in English are sharp s[1] and eszett.[1] The Eszett letter is used only in German, and can be typographically replaced with the double-s digraph ⟨ss⟩, if the .............................-character is unavailable. In the 20th century, the .............................-character was replaced with ss in the spelling of Swiss Standard German (Switzerland and Liechtenstein), while remaining Standard German spelling in other varieties of German language.[2]\\n\\nThe letter originates as the ⟨sz⟩ digraph as used in late medieval and early modern German orthography, represented as a ligature of ⟨ſ⟩ (long s) and ⟨ʒ⟩ (tailed z) in blackletter typefaces, yielding ⟨ſʒ⟩.[a] This developed from an earlier usage of ⟨z⟩ in Old and Middle High German to represent a separate sibilant sound from ⟨s⟩; when the difference between the two sounds was lost in the 13th century, the two symbols came to be combined as ⟨sz⟩ in some situations.\\n\\nTraditionally, ⟨.............................⟩ did not have a capital form, although some type designers introduced de facto capitalized variants. In 2017, the Council for German Orthography officially adopted a capital, ⟨ẞ⟩, into German orthography, ending a long orthographic debate.[3]\\n\\n⟨.............................⟩ was encoded by ECMA-94 (1985) at position 223 (hexadecimal DF), inherited by Latin-1 and Unicode (U+00DF ............................. LATIN SMALL LETTER SHARP S).[4] The HTML entity &szlig; was introduced with HTML 2.0 (1995). The capital (U+1E9E ẞ LATIN CAPITAL LETTER SHARP S) was encoded by ISO 10646 in 2008.'"
      ]
     },
     "execution_count": 6,
     "metadata": {},
     "output_type": "execute_result"
    }
   ],
   "source": [
    "text.replace(\"ß\",'.............................')"
   ]
  },
  {
   "cell_type": "code",
   "execution_count": 7,
   "metadata": {},
   "outputs": [
    {
     "data": {
      "text/plain": [
       "['__add__',\n",
       " '__class__',\n",
       " '__contains__',\n",
       " '__delattr__',\n",
       " '__dir__',\n",
       " '__doc__',\n",
       " '__eq__',\n",
       " '__format__',\n",
       " '__ge__',\n",
       " '__getattribute__',\n",
       " '__getitem__',\n",
       " '__getnewargs__',\n",
       " '__getstate__',\n",
       " '__gt__',\n",
       " '__hash__',\n",
       " '__init__',\n",
       " '__init_subclass__',\n",
       " '__iter__',\n",
       " '__le__',\n",
       " '__len__',\n",
       " '__lt__',\n",
       " '__mod__',\n",
       " '__mul__',\n",
       " '__ne__',\n",
       " '__new__',\n",
       " '__reduce__',\n",
       " '__reduce_ex__',\n",
       " '__repr__',\n",
       " '__rmod__',\n",
       " '__rmul__',\n",
       " '__setattr__',\n",
       " '__sizeof__',\n",
       " '__str__',\n",
       " '__subclasshook__',\n",
       " 'capitalize',\n",
       " 'casefold',\n",
       " 'center',\n",
       " 'count',\n",
       " 'encode',\n",
       " 'endswith',\n",
       " 'expandtabs',\n",
       " 'find',\n",
       " 'format',\n",
       " 'format_map',\n",
       " 'index',\n",
       " 'isalnum',\n",
       " 'isalpha',\n",
       " 'isascii',\n",
       " 'isdecimal',\n",
       " 'isdigit',\n",
       " 'isidentifier',\n",
       " 'islower',\n",
       " 'isnumeric',\n",
       " 'isprintable',\n",
       " 'isspace',\n",
       " 'istitle',\n",
       " 'isupper',\n",
       " 'join',\n",
       " 'ljust',\n",
       " 'lower',\n",
       " 'lstrip',\n",
       " 'maketrans',\n",
       " 'partition',\n",
       " 'removeprefix',\n",
       " 'removesuffix',\n",
       " 'replace',\n",
       " 'rfind',\n",
       " 'rindex',\n",
       " 'rjust',\n",
       " 'rpartition',\n",
       " 'rsplit',\n",
       " 'rstrip',\n",
       " 'split',\n",
       " 'splitlines',\n",
       " 'startswith',\n",
       " 'strip',\n",
       " 'swapcase',\n",
       " 'title',\n",
       " 'translate',\n",
       " 'upper',\n",
       " 'zfill']"
      ]
     },
     "execution_count": 7,
     "metadata": {},
     "output_type": "execute_result"
    }
   ],
   "source": [
    "dir(str)"
   ]
  },
  {
   "cell_type": "code",
   "execution_count": 8,
   "metadata": {},
   "outputs": [
    {
     "name": "stdout",
     "output_type": "stream",
     "text": [
      "Help on method_descriptor:\n",
      "\n",
      "index(...)\n",
      "    S.index(sub[, start[, end]]) -> int\n",
      "\n",
      "    Return the lowest index in S where substring sub is found,\n",
      "    such that sub is contained within S[start:end].  Optional\n",
      "    arguments start and end are interpreted as in slice notation.\n",
      "\n",
      "    Raises ValueError when the substring is not found.\n",
      "\n"
     ]
    }
   ],
   "source": [
    "help(str.index)"
   ]
  },
  {
   "cell_type": "code",
   "execution_count": 14,
   "metadata": {},
   "outputs": [
    {
     "data": {
      "text/plain": [
       "'h\\\\e\\\\l\\\\l\\\\o'"
      ]
     },
     "execution_count": 14,
     "metadata": {},
     "output_type": "execute_result"
    }
   ],
   "source": [
    "\"\\\\\".join('hello')"
   ]
  },
  {
   "cell_type": "markdown",
   "metadata": {
    "id": "BgH0UIIGFYdz"
   },
   "source": [
    "# Collection Datatypes\n",
    "- List\n",
    "- Tuple\n",
    "- Set\n",
    "- Dictionary"
   ]
  },
  {
   "cell_type": "markdown",
   "metadata": {
    "id": "LIz0Ii4IFzyB",
    "jp-MarkdownHeadingCollapsed": true
   },
   "source": [
    "## List\n",
    "  - created using [ ]\n",
    "  - contains multiple data of different datatypes\n",
    "  - list indexing is same as string indexing\n",
    "  - list are mutable"
   ]
  },
  {
   "cell_type": "code",
   "execution_count": 15,
   "metadata": {
    "colab": {
     "base_uri": "https://localhost:8080/"
    },
    "executionInfo": {
     "elapsed": 430,
     "status": "ok",
     "timestamp": 1681553643683,
     "user": {
      "displayName": "naz nazira",
      "userId": "06694449877078577923"
     },
     "user_tz": -330
    },
    "id": "WhKWSMJxGVlG",
    "outputId": "6b60e657-96a6-46d3-93f4-0e086c598e28"
   },
   "outputs": [
    {
     "data": {
      "text/plain": [
       "[1, 2, 3, 4]"
      ]
     },
     "execution_count": 15,
     "metadata": {},
     "output_type": "execute_result"
    }
   ],
   "source": [
    "numbers_list = [1,2,3,4]\n",
    "numbers_list"
   ]
  },
  {
   "cell_type": "code",
   "execution_count": 16,
   "metadata": {
    "colab": {
     "base_uri": "https://localhost:8080/"
    },
    "executionInfo": {
     "elapsed": 402,
     "status": "ok",
     "timestamp": 1681553652357,
     "user": {
      "displayName": "naz nazira",
      "userId": "06694449877078577923"
     },
     "user_tz": -330
    },
    "id": "nsgibb_30q13",
    "outputId": "540c3354-1590-4329-f46f-f51be6ddfa75"
   },
   "outputs": [
    {
     "data": {
      "text/plain": [
       "list"
      ]
     },
     "execution_count": 16,
     "metadata": {},
     "output_type": "execute_result"
    }
   ],
   "source": [
    "type(numbers_list)"
   ]
  },
  {
   "cell_type": "code",
   "execution_count": 17,
   "metadata": {
    "colab": {
     "base_uri": "https://localhost:8080/"
    },
    "executionInfo": {
     "elapsed": 615,
     "status": "ok",
     "timestamp": 1681553665333,
     "user": {
      "displayName": "naz nazira",
      "userId": "06694449877078577923"
     },
     "user_tz": -330
    },
    "id": "MNeGWxvvNUF3",
    "outputId": "3a09c4c2-25c3-47a5-be9b-f7452d898142"
   },
   "outputs": [
    {
     "data": {
      "text/plain": [
       "['a', 'b', 'c']"
      ]
     },
     "execution_count": 17,
     "metadata": {},
     "output_type": "execute_result"
    }
   ],
   "source": [
    "characters_list = ['a','b','c']\n",
    "characters_list"
   ]
  },
  {
   "cell_type": "code",
   "execution_count": 18,
   "metadata": {
    "colab": {
     "base_uri": "https://localhost:8080/"
    },
    "executionInfo": {
     "elapsed": 385,
     "status": "ok",
     "timestamp": 1681553681585,
     "user": {
      "displayName": "naz nazira",
      "userId": "06694449877078577923"
     },
     "user_tz": -330
    },
    "id": "Uc8ddGmgNd4-",
    "outputId": "b2f819f4-5852-45c9-bbe5-808e4114f895"
   },
   "outputs": [
    {
     "data": {
      "text/plain": [
       "[1, 'a', 2, 'b', 10.23, 'abc', True]"
      ]
     },
     "execution_count": 18,
     "metadata": {},
     "output_type": "execute_result"
    }
   ],
   "source": [
    "mixed_list = [1,'a',2,'b',10.23,'abc', True]\n",
    "mixed_list"
   ]
  },
  {
   "cell_type": "code",
   "execution_count": 19,
   "metadata": {
    "colab": {
     "base_uri": "https://localhost:8080/"
    },
    "executionInfo": {
     "elapsed": 412,
     "status": "ok",
     "timestamp": 1681553726330,
     "user": {
      "displayName": "naz nazira",
      "userId": "06694449877078577923"
     },
     "user_tz": -330
    },
    "id": "HrW_zpjfhd4Y",
    "outputId": "0afbe415-ac9e-4424-d07f-cab0de8f6c93"
   },
   "outputs": [
    {
     "name": "stdout",
     "output_type": "stream",
     "text": [
      "1\n",
      "b\n"
     ]
    }
   ],
   "source": [
    "print(mixed_list[0])\n",
    "print(mixed_list[3])"
   ]
  },
  {
   "cell_type": "code",
   "execution_count": 20,
   "metadata": {
    "colab": {
     "base_uri": "https://localhost:8080/"
    },
    "executionInfo": {
     "elapsed": 470,
     "status": "ok",
     "timestamp": 1681553743358,
     "user": {
      "displayName": "naz nazira",
      "userId": "06694449877078577923"
     },
     "user_tz": -330
    },
    "id": "mMBSGGHuWmba",
    "outputId": "87df27d1-96cd-497b-ab1b-339d479b582f"
   },
   "outputs": [
    {
     "data": {
      "text/plain": [
       "[1, 2, 10.23, True]"
      ]
     },
     "execution_count": 20,
     "metadata": {},
     "output_type": "execute_result"
    }
   ],
   "source": [
    "mixed_list[::2]"
   ]
  },
  {
   "cell_type": "code",
   "execution_count": 21,
   "metadata": {
    "colab": {
     "base_uri": "https://localhost:8080/"
    },
    "executionInfo": {
     "elapsed": 19,
     "status": "ok",
     "timestamp": 1681553762033,
     "user": {
      "displayName": "naz nazira",
      "userId": "06694449877078577923"
     },
     "user_tz": -330
    },
    "id": "F8r6kLVi1ECM",
    "outputId": "8f2941d0-70d5-4c9c-8c14-7bad725d1b0b"
   },
   "outputs": [
    {
     "data": {
      "text/plain": [
       "[10, 'a', 2, 'b', 10.23, 'abc', True]"
      ]
     },
     "execution_count": 21,
     "metadata": {},
     "output_type": "execute_result"
    }
   ],
   "source": [
    "mixed_list[0] = 10\n",
    "mixed_list"
   ]
  },
  {
   "cell_type": "markdown",
   "metadata": {
    "id": "uUZL3x7EarQn"
   },
   "source": [
    "### List Operations\n",
    "\n",
    "1. List Concatenation\n",
    "2. List Replication"
   ]
  },
  {
   "cell_type": "code",
   "execution_count": 22,
   "metadata": {
    "colab": {
     "base_uri": "https://localhost:8080/"
    },
    "executionInfo": {
     "elapsed": 530,
     "status": "ok",
     "timestamp": 1681553945968,
     "user": {
      "displayName": "naz nazira",
      "userId": "06694449877078577923"
     },
     "user_tz": -330
    },
    "id": "iX5CKOKSaqiP",
    "outputId": "6dc3b843-317b-4107-fc14-511ceb621d7c"
   },
   "outputs": [
    {
     "data": {
      "text/plain": [
       "[1, 2, 3, 10, 20, 30]"
      ]
     },
     "execution_count": 22,
     "metadata": {},
     "output_type": "execute_result"
    }
   ],
   "source": [
    "[1,2,3] + [10,20,30]"
   ]
  },
  {
   "cell_type": "code",
   "execution_count": 23,
   "metadata": {
    "colab": {
     "base_uri": "https://localhost:8080/"
    },
    "executionInfo": {
     "elapsed": 406,
     "status": "ok",
     "timestamp": 1681553982937,
     "user": {
      "displayName": "naz nazira",
      "userId": "06694449877078577923"
     },
     "user_tz": -330
    },
    "id": "OUbr2-vtaovE",
    "outputId": "6e0f160f-a5ad-493c-9a4d-11fc524f1f24"
   },
   "outputs": [
    {
     "data": {
      "text/plain": [
       "[1, 2, 3, 1, 2, 3, 1, 2, 3, 1, 2, 3]"
      ]
     },
     "execution_count": 23,
     "metadata": {},
     "output_type": "execute_result"
    }
   ],
   "source": [
    "[1,2,3] * 4"
   ]
  },
  {
   "cell_type": "markdown",
   "metadata": {
    "id": "9X6Lfy6QhqRI"
   },
   "source": [
    "### List methods"
   ]
  },
  {
   "cell_type": "code",
   "execution_count": 24,
   "metadata": {},
   "outputs": [
    {
     "data": {
      "text/plain": [
       "['__add__',\n",
       " '__class__',\n",
       " '__class_getitem__',\n",
       " '__contains__',\n",
       " '__delattr__',\n",
       " '__delitem__',\n",
       " '__dir__',\n",
       " '__doc__',\n",
       " '__eq__',\n",
       " '__format__',\n",
       " '__ge__',\n",
       " '__getattribute__',\n",
       " '__getitem__',\n",
       " '__getstate__',\n",
       " '__gt__',\n",
       " '__hash__',\n",
       " '__iadd__',\n",
       " '__imul__',\n",
       " '__init__',\n",
       " '__init_subclass__',\n",
       " '__iter__',\n",
       " '__le__',\n",
       " '__len__',\n",
       " '__lt__',\n",
       " '__mul__',\n",
       " '__ne__',\n",
       " '__new__',\n",
       " '__reduce__',\n",
       " '__reduce_ex__',\n",
       " '__repr__',\n",
       " '__reversed__',\n",
       " '__rmul__',\n",
       " '__setattr__',\n",
       " '__setitem__',\n",
       " '__sizeof__',\n",
       " '__str__',\n",
       " '__subclasshook__',\n",
       " 'append',\n",
       " 'clear',\n",
       " 'copy',\n",
       " 'count',\n",
       " 'extend',\n",
       " 'index',\n",
       " 'insert',\n",
       " 'pop',\n",
       " 'remove',\n",
       " 'reverse',\n",
       " 'sort']"
      ]
     },
     "execution_count": 24,
     "metadata": {},
     "output_type": "execute_result"
    }
   ],
   "source": [
    "dir(list)"
   ]
  },
  {
   "cell_type": "markdown",
   "metadata": {
    "id": "r6DcCiEC7MaG"
   },
   "source": [
    "#### insert()"
   ]
  },
  {
   "cell_type": "code",
   "execution_count": 25,
   "metadata": {
    "colab": {
     "base_uri": "https://localhost:8080/"
    },
    "executionInfo": {
     "elapsed": 484,
     "status": "ok",
     "timestamp": 1681554140200,
     "user": {
      "displayName": "naz nazira",
      "userId": "06694449877078577923"
     },
     "user_tz": -330
    },
    "id": "R-7JAvdGb84D",
    "outputId": "d5980f50-7f56-4022-a804-f653b13c1f5b"
   },
   "outputs": [
    {
     "data": {
      "text/plain": [
       "[10, 'a', 2, 'b', 10.23, 'abc', True]"
      ]
     },
     "execution_count": 25,
     "metadata": {},
     "output_type": "execute_result"
    }
   ],
   "source": [
    "mixed_list"
   ]
  },
  {
   "cell_type": "code",
   "execution_count": 26,
   "metadata": {
    "colab": {
     "base_uri": "https://localhost:8080/"
    },
    "executionInfo": {
     "elapsed": 410,
     "status": "ok",
     "timestamp": 1681554255288,
     "user": {
      "displayName": "naz nazira",
      "userId": "06694449877078577923"
     },
     "user_tz": -330
    },
    "id": "_HQ-vTMRQmWl",
    "outputId": "75fdbbd2-158e-42d5-e7b1-8d5bff4046d5"
   },
   "outputs": [
    {
     "data": {
      "text/plain": [
       "[10, 'a', 'LTI', 2, 'b', 10.23, 'abc', True]"
      ]
     },
     "execution_count": 26,
     "metadata": {},
     "output_type": "execute_result"
    }
   ],
   "source": [
    "mixed_list.insert(2,\"LTI\")\n",
    "mixed_list"
   ]
  },
  {
   "cell_type": "markdown",
   "metadata": {
    "id": "0eztlkN97PWG"
   },
   "source": [
    "#### append()"
   ]
  },
  {
   "cell_type": "code",
   "execution_count": 27,
   "metadata": {
    "colab": {
     "base_uri": "https://localhost:8080/"
    },
    "executionInfo": {
     "elapsed": 406,
     "status": "ok",
     "timestamp": 1681554368975,
     "user": {
      "displayName": "naz nazira",
      "userId": "06694449877078577923"
     },
     "user_tz": -330
    },
    "id": "Z6_7VsYS3W8S",
    "outputId": "b48bbd6d-3d2c-46ec-d3f4-0569a81e0b9e"
   },
   "outputs": [
    {
     "data": {
      "text/plain": [
       "[10, 'a', 'LTI', 2, 'b', 10.23, 'abc', True]"
      ]
     },
     "execution_count": 27,
     "metadata": {},
     "output_type": "execute_result"
    }
   ],
   "source": [
    "mixed_list"
   ]
  },
  {
   "cell_type": "code",
   "execution_count": 28,
   "metadata": {
    "colab": {
     "base_uri": "https://localhost:8080/"
    },
    "executionInfo": {
     "elapsed": 408,
     "status": "ok",
     "timestamp": 1681554388924,
     "user": {
      "displayName": "naz nazira",
      "userId": "06694449877078577923"
     },
     "user_tz": -330
    },
    "id": "8gHwy9iYNmXH",
    "outputId": "a2cc6ae7-a9c9-4e50-be51-88fd9fc742ec"
   },
   "outputs": [
    {
     "data": {
      "text/plain": [
       "[10, 'a', 'LTI', 2, 'b', 10.23, 'abc', True, 100]"
      ]
     },
     "execution_count": 28,
     "metadata": {},
     "output_type": "execute_result"
    }
   ],
   "source": [
    "mixed_list.append(100)\n",
    "mixed_list"
   ]
  },
  {
   "cell_type": "markdown",
   "metadata": {
    "id": "TucqI-3W7SvJ"
   },
   "source": [
    "#### extend()"
   ]
  },
  {
   "cell_type": "code",
   "execution_count": 29,
   "metadata": {
    "colab": {
     "base_uri": "https://localhost:8080/"
    },
    "executionInfo": {
     "elapsed": 19,
     "status": "ok",
     "timestamp": 1681554500166,
     "user": {
      "displayName": "naz nazira",
      "userId": "06694449877078577923"
     },
     "user_tz": -330
    },
    "id": "qFa3rpRjPsSq",
    "outputId": "3c2d93ca-55f9-4057-b16b-085053622d26"
   },
   "outputs": [
    {
     "data": {
      "text/plain": [
       "[10, 'a', 'LTI', 2, 'b', 10.23, 'abc', True, 100, 10, 20, 30]"
      ]
     },
     "execution_count": 29,
     "metadata": {},
     "output_type": "execute_result"
    }
   ],
   "source": [
    "mixed_list.extend([10,20,30])\n",
    "mixed_list"
   ]
  },
  {
   "cell_type": "code",
   "execution_count": 30,
   "metadata": {},
   "outputs": [
    {
     "data": {
      "text/plain": [
       "[10,\n",
       " 'a',\n",
       " 'LTI',\n",
       " 2,\n",
       " 'b',\n",
       " 10.23,\n",
       " 'abc',\n",
       " True,\n",
       " 100,\n",
       " 10,\n",
       " 20,\n",
       " 30,\n",
       " 'H',\n",
       " 'e',\n",
       " 'l',\n",
       " 'l',\n",
       " 'o']"
      ]
     },
     "execution_count": 30,
     "metadata": {},
     "output_type": "execute_result"
    }
   ],
   "source": [
    "mixed_list.extend(\"Hello\")\n",
    "mixed_list"
   ]
  },
  {
   "cell_type": "markdown",
   "metadata": {},
   "source": [
    "##### Quick Questions"
   ]
  },
  {
   "cell_type": "code",
   "execution_count": 31,
   "metadata": {
    "colab": {
     "base_uri": "https://localhost:8080/"
    },
    "executionInfo": {
     "elapsed": 19,
     "status": "ok",
     "timestamp": 1681554706501,
     "user": {
      "displayName": "naz nazira",
      "userId": "06694449877078577923"
     },
     "user_tz": -330
    },
    "id": "ZNiea8tmdffw",
    "outputId": "044d7b5c-c1ca-48de-dce1-c8eeab234422"
   },
   "outputs": [
    {
     "data": {
      "text/plain": [
       "[1, 2, 'c', 'a', 't']"
      ]
     },
     "execution_count": 31,
     "metadata": {},
     "output_type": "execute_result"
    }
   ],
   "source": [
    "a = [1,2]\n",
    "a.extend(\"cat\")\n",
    "a"
   ]
  },
  {
   "cell_type": "code",
   "execution_count": 32,
   "metadata": {
    "id": "U_J1CUnTYWNN"
   },
   "outputs": [
    {
     "data": {
      "text/plain": [
       "[1, 2, 3, 1000]"
      ]
     },
     "execution_count": 32,
     "metadata": {},
     "output_type": "execute_result"
    }
   ],
   "source": [
    "a = [1,2,3]\n",
    "a.append(1000)\n",
    "a"
   ]
  },
  {
   "cell_type": "code",
   "execution_count": 33,
   "metadata": {
    "colab": {
     "base_uri": "https://localhost:8080/",
     "height": 200
    },
    "executionInfo": {
     "elapsed": 399,
     "status": "error",
     "timestamp": 1681554895368,
     "user": {
      "displayName": "naz nazira",
      "userId": "06694449877078577923"
     },
     "user_tz": -330
    },
    "id": "JsW2h_tCYo-b",
    "outputId": "6be11d5d-d811-49b2-96c2-dc32fa0f9e7a"
   },
   "outputs": [
    {
     "ename": "TypeError",
     "evalue": "'int' object is not iterable",
     "output_type": "error",
     "traceback": [
      "\u001b[1;31m---------------------------------------------------------------------------\u001b[0m",
      "\u001b[1;31mTypeError\u001b[0m                                 Traceback (most recent call last)",
      "Cell \u001b[1;32mIn[33], line 2\u001b[0m\n\u001b[0;32m      1\u001b[0m a \u001b[38;5;241m=\u001b[39m [\u001b[38;5;241m1\u001b[39m,\u001b[38;5;241m2\u001b[39m,\u001b[38;5;241m3\u001b[39m]\n\u001b[1;32m----> 2\u001b[0m \u001b[43ma\u001b[49m\u001b[38;5;241;43m.\u001b[39;49m\u001b[43mextend\u001b[49m\u001b[43m(\u001b[49m\u001b[38;5;241;43m1000\u001b[39;49m\u001b[43m)\u001b[49m\n\u001b[0;32m      3\u001b[0m a\n",
      "\u001b[1;31mTypeError\u001b[0m: 'int' object is not iterable"
     ]
    }
   ],
   "source": [
    "a = [1,2,3]\n",
    "a.extend(1000)\n",
    "a"
   ]
  },
  {
   "cell_type": "code",
   "execution_count": 34,
   "metadata": {
    "colab": {
     "base_uri": "https://localhost:8080/"
    },
    "executionInfo": {
     "elapsed": 19,
     "status": "ok",
     "timestamp": 1681554981323,
     "user": {
      "displayName": "naz nazira",
      "userId": "06694449877078577923"
     },
     "user_tz": -330
    },
    "id": "XjLCXugDYaYX",
    "outputId": "5708dd65-772c-4e9c-b5c6-2c29e22c69e8"
   },
   "outputs": [
    {
     "data": {
      "text/plain": [
       "[1, 2, 3, 2000]"
      ]
     },
     "execution_count": 34,
     "metadata": {},
     "output_type": "execute_result"
    }
   ],
   "source": [
    "a = [1,2,3]\n",
    "a.extend([2000])\n",
    "a"
   ]
  },
  {
   "cell_type": "code",
   "execution_count": 35,
   "metadata": {
    "colab": {
     "base_uri": "https://localhost:8080/"
    },
    "executionInfo": {
     "elapsed": 21,
     "status": "ok",
     "timestamp": 1681554977369,
     "user": {
      "displayName": "naz nazira",
      "userId": "06694449877078577923"
     },
     "user_tz": -330
    },
    "id": "5RHmZpQifIV4",
    "outputId": "8be9f58b-647d-4a64-b757-7077e042b04d"
   },
   "outputs": [
    {
     "data": {
      "text/plain": [
       "[1, 2, 3, 2000]"
      ]
     },
     "execution_count": 35,
     "metadata": {},
     "output_type": "execute_result"
    }
   ],
   "source": [
    "a = [1,2,3]\n",
    "a.append(2000)\n",
    "a"
   ]
  },
  {
   "cell_type": "code",
   "execution_count": 36,
   "metadata": {
    "colab": {
     "base_uri": "https://localhost:8080/"
    },
    "executionInfo": {
     "elapsed": 409,
     "status": "ok",
     "timestamp": 1681555039750,
     "user": {
      "displayName": "naz nazira",
      "userId": "06694449877078577923"
     },
     "user_tz": -330
    },
    "id": "PnC0uiJ8XqRY",
    "outputId": "91d10073-589b-4e4e-850e-529cd4ecc47b"
   },
   "outputs": [
    {
     "data": {
      "text/plain": [
       "[1, 2, 3, [500, 600, 700]]"
      ]
     },
     "execution_count": 36,
     "metadata": {},
     "output_type": "execute_result"
    }
   ],
   "source": [
    "a = [1,2,3]\n",
    "a.append([500,600,700])\n",
    "a"
   ]
  },
  {
   "cell_type": "code",
   "execution_count": 37,
   "metadata": {
    "colab": {
     "base_uri": "https://localhost:8080/"
    },
    "executionInfo": {
     "elapsed": 404,
     "status": "ok",
     "timestamp": 1681555078557,
     "user": {
      "displayName": "naz nazira",
      "userId": "06694449877078577923"
     },
     "user_tz": -330
    },
    "id": "oCUWJg99YEO7",
    "outputId": "e150a7f5-fbe7-4ec1-9b98-30b09940e477"
   },
   "outputs": [
    {
     "data": {
      "text/plain": [
       "[1, 2, 3, 500, 600, 700]"
      ]
     },
     "execution_count": 37,
     "metadata": {},
     "output_type": "execute_result"
    }
   ],
   "source": [
    "a = [1,2,3]\n",
    "a.extend([500,600,700])\n",
    "a"
   ]
  },
  {
   "cell_type": "markdown",
   "metadata": {
    "id": "0lCDH1oZ7V1T"
   },
   "source": [
    "#### count()"
   ]
  },
  {
   "cell_type": "code",
   "execution_count": 38,
   "metadata": {
    "colab": {
     "base_uri": "https://localhost:8080/"
    },
    "executionInfo": {
     "elapsed": 407,
     "status": "ok",
     "timestamp": 1681555213148,
     "user": {
      "displayName": "naz nazira",
      "userId": "06694449877078577923"
     },
     "user_tz": -330
    },
    "id": "Bo7W6_aTP2-H",
    "outputId": "776ffc3e-d71e-48fa-b740-58606020a40d"
   },
   "outputs": [
    {
     "data": {
      "text/plain": [
       "2"
      ]
     },
     "execution_count": 38,
     "metadata": {},
     "output_type": "execute_result"
    }
   ],
   "source": [
    "salary = [10000,20000,30000,20000,10000]\n",
    "salary.count(20000)"
   ]
  },
  {
   "cell_type": "markdown",
   "metadata": {
    "id": "UZ0UPwXa7X9l"
   },
   "source": [
    "#### index()"
   ]
  },
  {
   "cell_type": "code",
   "execution_count": 39,
   "metadata": {
    "colab": {
     "base_uri": "https://localhost:8080/"
    },
    "executionInfo": {
     "elapsed": 18,
     "status": "ok",
     "timestamp": 1681555250030,
     "user": {
      "displayName": "naz nazira",
      "userId": "06694449877078577923"
     },
     "user_tz": -330
    },
    "id": "xeXmD_i3kgmR",
    "outputId": "6c1e819f-326f-430b-dcc9-09367d925493"
   },
   "outputs": [
    {
     "data": {
      "text/plain": [
       "1"
      ]
     },
     "execution_count": 39,
     "metadata": {},
     "output_type": "execute_result"
    }
   ],
   "source": [
    "salary.index(20000)"
   ]
  },
  {
   "cell_type": "markdown",
   "metadata": {
    "id": "046r8G3x7bcR"
   },
   "source": [
    "#### pop()"
   ]
  },
  {
   "cell_type": "code",
   "execution_count": 40,
   "metadata": {
    "colab": {
     "base_uri": "https://localhost:8080/"
    },
    "executionInfo": {
     "elapsed": 681,
     "status": "ok",
     "timestamp": 1681555375087,
     "user": {
      "displayName": "naz nazira",
      "userId": "06694449877078577923"
     },
     "user_tz": -330
    },
    "id": "l0qtzI1XQH7_",
    "outputId": "f60877cc-fc8f-4bb5-9da1-ccef29110b98"
   },
   "outputs": [
    {
     "data": {
      "text/plain": [
       "[10,\n",
       " 'a',\n",
       " 'LTI',\n",
       " 2,\n",
       " 'b',\n",
       " 10.23,\n",
       " 'abc',\n",
       " True,\n",
       " 100,\n",
       " 10,\n",
       " 20,\n",
       " 30,\n",
       " 'H',\n",
       " 'e',\n",
       " 'l',\n",
       " 'l',\n",
       " 'o']"
      ]
     },
     "execution_count": 40,
     "metadata": {},
     "output_type": "execute_result"
    }
   ],
   "source": [
    "mixed_list"
   ]
  },
  {
   "cell_type": "code",
   "execution_count": 41,
   "metadata": {
    "colab": {
     "base_uri": "https://localhost:8080/"
    },
    "executionInfo": {
     "elapsed": 391,
     "status": "ok",
     "timestamp": 1681555384450,
     "user": {
      "displayName": "naz nazira",
      "userId": "06694449877078577923"
     },
     "user_tz": -330
    },
    "id": "yeBqpGZ67w-X",
    "outputId": "dd19133a-e0d9-44b8-d3f7-06ccba641c02"
   },
   "outputs": [
    {
     "data": {
      "text/plain": [
       "'o'"
      ]
     },
     "execution_count": 41,
     "metadata": {},
     "output_type": "execute_result"
    }
   ],
   "source": [
    "mixed_list.pop()"
   ]
  },
  {
   "cell_type": "code",
   "execution_count": 42,
   "metadata": {
    "colab": {
     "base_uri": "https://localhost:8080/"
    },
    "executionInfo": {
     "elapsed": 539,
     "status": "ok",
     "timestamp": 1681555390258,
     "user": {
      "displayName": "naz nazira",
      "userId": "06694449877078577923"
     },
     "user_tz": -330
    },
    "id": "kMn3-I4S78A9",
    "outputId": "74d992bf-a7b6-48ce-dab0-7220c7a824a5"
   },
   "outputs": [
    {
     "data": {
      "text/plain": [
       "[10,\n",
       " 'a',\n",
       " 'LTI',\n",
       " 2,\n",
       " 'b',\n",
       " 10.23,\n",
       " 'abc',\n",
       " True,\n",
       " 100,\n",
       " 10,\n",
       " 20,\n",
       " 30,\n",
       " 'H',\n",
       " 'e',\n",
       " 'l',\n",
       " 'l']"
      ]
     },
     "execution_count": 42,
     "metadata": {},
     "output_type": "execute_result"
    }
   ],
   "source": [
    "mixed_list"
   ]
  },
  {
   "cell_type": "code",
   "execution_count": 43,
   "metadata": {
    "colab": {
     "base_uri": "https://localhost:8080/"
    },
    "executionInfo": {
     "elapsed": 381,
     "status": "ok",
     "timestamp": 1681555456269,
     "user": {
      "displayName": "naz nazira",
      "userId": "06694449877078577923"
     },
     "user_tz": -330
    },
    "id": "ZweX1tbeRT5v",
    "outputId": "50bcbda0-d48b-453d-c14c-6ae814f8c1ea"
   },
   "outputs": [
    {
     "data": {
      "text/plain": [
       "[10, 'a', 2, 'b', 10.23, 'abc', True, 100, 10, 20, 30, 'H', 'e', 'l', 'l']"
      ]
     },
     "execution_count": 43,
     "metadata": {},
     "output_type": "execute_result"
    }
   ],
   "source": [
    "mixed_list.pop(2)\n",
    "mixed_list"
   ]
  },
  {
   "cell_type": "code",
   "execution_count": null,
   "metadata": {
    "colab": {
     "base_uri": "https://localhost:8080/"
    },
    "executionInfo": {
     "elapsed": 393,
     "status": "ok",
     "timestamp": 1681555477176,
     "user": {
      "displayName": "naz nazira",
      "userId": "06694449877078577923"
     },
     "user_tz": -330
    },
    "id": "T-vldsjjRsTD",
    "outputId": "6f5f879e-b34b-402f-89c8-b4f67348090c"
   },
   "outputs": [],
   "source": [
    "mixed_list.pop()\n",
    "mixed_list"
   ]
  },
  {
   "cell_type": "markdown",
   "metadata": {
    "id": "ElDyYpMl7evv"
   },
   "source": [
    "#### remove()"
   ]
  },
  {
   "cell_type": "code",
   "execution_count": 44,
   "metadata": {
    "colab": {
     "base_uri": "https://localhost:8080/"
    },
    "executionInfo": {
     "elapsed": 410,
     "status": "ok",
     "timestamp": 1681555520721,
     "user": {
      "displayName": "naz nazira",
      "userId": "06694449877078577923"
     },
     "user_tz": -330
    },
    "id": "mf1Fw3LybZEq",
    "outputId": "f9ff04c8-d331-4c0e-a215-a794cd9a75a9"
   },
   "outputs": [
    {
     "data": {
      "text/plain": [
       "[10, 'a', 2, 'b', 10.23, 'abc', True, 100, 10, 20, 30, 'H', 'e', 'l', 'l']"
      ]
     },
     "execution_count": 44,
     "metadata": {},
     "output_type": "execute_result"
    }
   ],
   "source": [
    "mixed_list"
   ]
  },
  {
   "cell_type": "code",
   "execution_count": 45,
   "metadata": {
    "colab": {
     "base_uri": "https://localhost:8080/"
    },
    "executionInfo": {
     "elapsed": 23,
     "status": "ok",
     "timestamp": 1681555532791,
     "user": {
      "displayName": "naz nazira",
      "userId": "06694449877078577923"
     },
     "user_tz": -330
    },
    "id": "ArzqzlfBSCO7",
    "outputId": "db7589b0-5b25-42a2-8411-01b6f9b28ee8"
   },
   "outputs": [
    {
     "data": {
      "text/plain": [
       "[10, 'a', 2, 10.23, 'abc', True, 100, 10, 20, 30, 'H', 'e', 'l', 'l']"
      ]
     },
     "execution_count": 45,
     "metadata": {},
     "output_type": "execute_result"
    }
   ],
   "source": [
    "mixed_list.remove('b')\n",
    "mixed_list"
   ]
  },
  {
   "cell_type": "code",
   "execution_count": 46,
   "metadata": {
    "colab": {
     "base_uri": "https://localhost:8080/"
    },
    "executionInfo": {
     "elapsed": 412,
     "status": "ok",
     "timestamp": 1681555545185,
     "user": {
      "displayName": "naz nazira",
      "userId": "06694449877078577923"
     },
     "user_tz": -330
    },
    "id": "WrkgfzRh8czo",
    "outputId": "355b07ee-aaf1-4e62-80e8-de616ae85755"
   },
   "outputs": [
    {
     "data": {
      "text/plain": [
       "[10, 50, 120, 30]"
      ]
     },
     "execution_count": 46,
     "metadata": {},
     "output_type": "execute_result"
    }
   ],
   "source": [
    "a = [10,120,50,120,30]\n",
    "a.remove(120)\n",
    "a"
   ]
  },
  {
   "cell_type": "code",
   "execution_count": 47,
   "metadata": {
    "colab": {
     "base_uri": "https://localhost:8080/"
    },
    "executionInfo": {
     "elapsed": 429,
     "status": "ok",
     "timestamp": 1671764791807,
     "user": {
      "displayName": "naz nazira",
      "userId": "06694449877078577923"
     },
     "user_tz": -330
    },
    "id": "OBm9o5LU8iSs",
    "outputId": "5e0a710a-ef77-4e30-92a2-d8d46d8b1740"
   },
   "outputs": [
    {
     "name": "stdout",
     "output_type": "stream",
     "text": [
      "Help on method_descriptor:\n",
      "\n",
      "remove(self, value, /)\n",
      "    Remove first occurrence of value.\n",
      "\n",
      "    Raises ValueError if the value is not present.\n",
      "\n"
     ]
    }
   ],
   "source": [
    "help(list.remove)"
   ]
  },
  {
   "cell_type": "markdown",
   "metadata": {
    "id": "603a8yKF7iHQ"
   },
   "source": [
    "#### reverse()"
   ]
  },
  {
   "cell_type": "code",
   "execution_count": 48,
   "metadata": {
    "colab": {
     "base_uri": "https://localhost:8080/"
    },
    "executionInfo": {
     "elapsed": 24,
     "status": "ok",
     "timestamp": 1681555592402,
     "user": {
      "displayName": "naz nazira",
      "userId": "06694449877078577923"
     },
     "user_tz": -330
    },
    "id": "Anu9zYtzhfwo",
    "outputId": "da72dac6-097e-40bb-d064-5ff11abf451f"
   },
   "outputs": [
    {
     "data": {
      "text/plain": [
       "[10, 'a', 2, 10.23, 'abc', True, 100, 10, 20, 30, 'H', 'e', 'l', 'l']"
      ]
     },
     "execution_count": 48,
     "metadata": {},
     "output_type": "execute_result"
    }
   ],
   "source": [
    "mixed_list"
   ]
  },
  {
   "cell_type": "code",
   "execution_count": 49,
   "metadata": {
    "colab": {
     "base_uri": "https://localhost:8080/"
    },
    "executionInfo": {
     "elapsed": 386,
     "status": "ok",
     "timestamp": 1681555605464,
     "user": {
      "displayName": "naz nazira",
      "userId": "06694449877078577923"
     },
     "user_tz": -330
    },
    "id": "fNhCva1gSHXQ",
    "outputId": "d27fcb88-1913-49fc-c9ff-8352d38db65e"
   },
   "outputs": [
    {
     "data": {
      "text/plain": [
       "['l', 'l', 'e', 'H', 30, 20, 10, 100, True, 'abc', 10.23, 2, 'a', 10]"
      ]
     },
     "execution_count": 49,
     "metadata": {},
     "output_type": "execute_result"
    }
   ],
   "source": [
    "mixed_list.reverse()\n",
    "mixed_list"
   ]
  },
  {
   "cell_type": "markdown",
   "metadata": {
    "id": "XRgSQjMV7kZY"
   },
   "source": [
    "#### sort()"
   ]
  },
  {
   "cell_type": "code",
   "execution_count": 50,
   "metadata": {
    "colab": {
     "base_uri": "https://localhost:8080/"
    },
    "executionInfo": {
     "elapsed": 24,
     "status": "ok",
     "timestamp": 1681555670228,
     "user": {
      "displayName": "naz nazira",
      "userId": "06694449877078577923"
     },
     "user_tz": -330
    },
    "id": "gXqenwKab-qI",
    "outputId": "1b675843-bb40-4477-cdd1-78334909d1e1"
   },
   "outputs": [
    {
     "data": {
      "text/plain": [
       "[10.23, 50, 60]"
      ]
     },
     "execution_count": 50,
     "metadata": {},
     "output_type": "execute_result"
    }
   ],
   "source": [
    "new_list = [50,60,10.23]\n",
    "new_list.sort()\n",
    "new_list"
   ]
  },
  {
   "cell_type": "code",
   "execution_count": 51,
   "metadata": {
    "colab": {
     "base_uri": "https://localhost:8080/"
    },
    "executionInfo": {
     "elapsed": 385,
     "status": "ok",
     "timestamp": 1681555704596,
     "user": {
      "displayName": "naz nazira",
      "userId": "06694449877078577923"
     },
     "user_tz": -330
    },
    "id": "kl9cWUL2cFB2",
    "outputId": "73a76ea5-4ecc-4ab4-9d2a-654ad63c5974"
   },
   "outputs": [
    {
     "data": {
      "text/plain": [
       "[60, 50, 10.23]"
      ]
     },
     "execution_count": 51,
     "metadata": {},
     "output_type": "execute_result"
    }
   ],
   "source": [
    "new_list.sort(reverse=True)\n",
    "new_list"
   ]
  },
  {
   "cell_type": "code",
   "execution_count": 52,
   "metadata": {
    "colab": {
     "base_uri": "https://localhost:8080/",
     "height": 183
    },
    "executionInfo": {
     "elapsed": 452,
     "status": "error",
     "timestamp": 1681555749532,
     "user": {
      "displayName": "naz nazira",
      "userId": "06694449877078577923"
     },
     "user_tz": -330
    },
    "id": "P-VDlhU2_OsU",
    "outputId": "9a203fdb-50ae-4027-e8dd-00c69adbb935"
   },
   "outputs": [
    {
     "ename": "TypeError",
     "evalue": "'<' not supported between instances of 'str' and 'float'",
     "output_type": "error",
     "traceback": [
      "\u001b[1;31m---------------------------------------------------------------------------\u001b[0m",
      "\u001b[1;31mTypeError\u001b[0m                                 Traceback (most recent call last)",
      "Cell \u001b[1;32mIn[52], line 2\u001b[0m\n\u001b[0;32m      1\u001b[0m new_list \u001b[38;5;241m=\u001b[39m [\u001b[38;5;241m1\u001b[39m,\u001b[38;5;241m10.23\u001b[39m,\u001b[38;5;124m'\u001b[39m\u001b[38;5;124ma\u001b[39m\u001b[38;5;124m'\u001b[39m]\n\u001b[1;32m----> 2\u001b[0m \u001b[43mnew_list\u001b[49m\u001b[38;5;241;43m.\u001b[39;49m\u001b[43msort\u001b[49m\u001b[43m(\u001b[49m\u001b[43m)\u001b[49m\n\u001b[0;32m      3\u001b[0m new_list\n",
      "\u001b[1;31mTypeError\u001b[0m: '<' not supported between instances of 'str' and 'float'"
     ]
    }
   ],
   "source": [
    "new_list = [1,10.23,'a']\n",
    "new_list.sort()\n",
    "new_list"
   ]
  },
  {
   "cell_type": "code",
   "execution_count": 53,
   "metadata": {
    "id": "Y5Xghy_E_Wlx"
   },
   "outputs": [
    {
     "data": {
      "text/plain": [
       "[1, 5.6, 10.23]"
      ]
     },
     "execution_count": 53,
     "metadata": {},
     "output_type": "execute_result"
    }
   ],
   "source": [
    "new_list = [1,10.23,5.6]\n",
    "new_list.sort()\n",
    "new_list"
   ]
  },
  {
   "cell_type": "code",
   "execution_count": null,
   "metadata": {
    "colab": {
     "base_uri": "https://localhost:8080/"
    },
    "executionInfo": {
     "elapsed": 403,
     "status": "ok",
     "timestamp": 1681555801048,
     "user": {
      "displayName": "naz nazira",
      "userId": "06694449877078577923"
     },
     "user_tz": -330
    },
    "id": "nlB1HBg6_eKK",
    "outputId": "ac06fea1-bce6-41eb-9a72-2bbe45c70d9d"
   },
   "outputs": [],
   "source": [
    "new_list = ['b','a','c']\n",
    "new_list.sort()\n",
    "new_list"
   ]
  },
  {
   "cell_type": "code",
   "execution_count": 54,
   "metadata": {
    "colab": {
     "base_uri": "https://localhost:8080/"
    },
    "executionInfo": {
     "elapsed": 382,
     "status": "ok",
     "timestamp": 1681555833988,
     "user": {
      "displayName": "naz nazira",
      "userId": "06694449877078577923"
     },
     "user_tz": -330
    },
    "id": "Vkkpp4ih_n6a",
    "outputId": "d97ad6fc-aeee-47da-ade4-e5d03ac24692"
   },
   "outputs": [
    {
     "data": {
      "text/plain": [
       "['John', 'Sam', 'Tim', 'Tom']"
      ]
     },
     "execution_count": 54,
     "metadata": {},
     "output_type": "execute_result"
    }
   ],
   "source": [
    "new_list = ['John','Tom','Tim', 'Sam']\n",
    "new_list.sort()\n",
    "new_list"
   ]
  },
  {
   "cell_type": "code",
   "execution_count": 55,
   "metadata": {
    "colab": {
     "base_uri": "https://localhost:8080/"
    },
    "executionInfo": {
     "elapsed": 408,
     "status": "ok",
     "timestamp": 1681555846184,
     "user": {
      "displayName": "naz nazira",
      "userId": "06694449877078577923"
     },
     "user_tz": -330
    },
    "id": "YSDroKiJAAaG",
    "outputId": "35da95d4-f5c1-42ab-99ee-55a937c6f5f3"
   },
   "outputs": [
    {
     "data": {
      "text/plain": [
       "['Tom', 'Tim', 'Sam', 'John']"
      ]
     },
     "execution_count": 55,
     "metadata": {},
     "output_type": "execute_result"
    }
   ],
   "source": [
    "new_list.sort(reverse = True)\n",
    "new_list"
   ]
  },
  {
   "cell_type": "markdown",
   "metadata": {
    "id": "zKBrocmf-66H"
   },
   "source": [
    "#### clear()"
   ]
  },
  {
   "cell_type": "code",
   "execution_count": 56,
   "metadata": {
    "colab": {
     "base_uri": "https://localhost:8080/"
    },
    "executionInfo": {
     "elapsed": 396,
     "status": "ok",
     "timestamp": 1681555857478,
     "user": {
      "displayName": "naz nazira",
      "userId": "06694449877078577923"
     },
     "user_tz": -330
    },
    "id": "iPRpMv3E-9Zw",
    "outputId": "ecf13dd9-f467-49ac-fec5-c95e95d8d519"
   },
   "outputs": [
    {
     "data": {
      "text/plain": [
       "['Tom', 'Tim', 'Sam', 'John']"
      ]
     },
     "execution_count": 56,
     "metadata": {},
     "output_type": "execute_result"
    }
   ],
   "source": [
    "new_list"
   ]
  },
  {
   "cell_type": "code",
   "execution_count": 57,
   "metadata": {
    "colab": {
     "base_uri": "https://localhost:8080/"
    },
    "executionInfo": {
     "elapsed": 416,
     "status": "ok",
     "timestamp": 1681555862833,
     "user": {
      "displayName": "naz nazira",
      "userId": "06694449877078577923"
     },
     "user_tz": -330
    },
    "id": "Hy-ZdpXR--ej",
    "outputId": "af0bacb7-1bbc-44d9-8e5e-ff3e5312c28c"
   },
   "outputs": [
    {
     "data": {
      "text/plain": [
       "[]"
      ]
     },
     "execution_count": 57,
     "metadata": {},
     "output_type": "execute_result"
    }
   ],
   "source": [
    "new_list.clear()\n",
    "new_list"
   ]
  },
  {
   "cell_type": "markdown",
   "metadata": {
    "id": "klHg2sZDUNRe",
    "jp-MarkdownHeadingCollapsed": true
   },
   "source": [
    "## Tuples\n",
    "- Created using ( )\n",
    "- Tuples indexing is same as string indexing\n",
    "- Tuples are immutable"
   ]
  },
  {
   "cell_type": "code",
   "execution_count": 58,
   "metadata": {
    "colab": {
     "base_uri": "https://localhost:8080/"
    },
    "executionInfo": {
     "elapsed": 394,
     "status": "ok",
     "timestamp": 1681556073936,
     "user": {
      "displayName": "naz nazira",
      "userId": "06694449877078577923"
     },
     "user_tz": -330
    },
    "id": "BHBdpuvXU8m3",
    "outputId": "6610fb1f-61c9-4f52-f8eb-259d13217351"
   },
   "outputs": [
    {
     "data": {
      "text/plain": [
       "[100, 2000, 3000]"
      ]
     },
     "execution_count": 58,
     "metadata": {},
     "output_type": "execute_result"
    }
   ],
   "source": [
    "salary_list = [1000,2000,3000]\n",
    "salary_list[0] = 100\n",
    "salary_list"
   ]
  },
  {
   "cell_type": "code",
   "execution_count": 59,
   "metadata": {
    "colab": {
     "base_uri": "https://localhost:8080/"
    },
    "executionInfo": {
     "elapsed": 390,
     "status": "ok",
     "timestamp": 1681556226918,
     "user": {
      "displayName": "naz nazira",
      "userId": "06694449877078577923"
     },
     "user_tz": -330
    },
    "id": "u5dF-aABVeyr",
    "outputId": "23865cdf-43ed-4a31-aa2c-a507c93bf82f"
   },
   "outputs": [
    {
     "data": {
      "text/plain": [
       "1000"
      ]
     },
     "execution_count": 59,
     "metadata": {},
     "output_type": "execute_result"
    }
   ],
   "source": [
    "salary_tuple = (1000,2000,3000)\n",
    "salary_tuple[0]"
   ]
  },
  {
   "cell_type": "code",
   "execution_count": 60,
   "metadata": {
    "colab": {
     "base_uri": "https://localhost:8080/",
     "height": 165
    },
    "executionInfo": {
     "elapsed": 54,
     "status": "error",
     "timestamp": 1681556236281,
     "user": {
      "displayName": "naz nazira",
      "userId": "06694449877078577923"
     },
     "user_tz": -330
    },
    "id": "IXEJq1m9VqwC",
    "outputId": "de1e9b63-7631-447b-fd5d-5a3e9e35a9d0"
   },
   "outputs": [
    {
     "ename": "TypeError",
     "evalue": "'tuple' object does not support item assignment",
     "output_type": "error",
     "traceback": [
      "\u001b[1;31m---------------------------------------------------------------------------\u001b[0m",
      "\u001b[1;31mTypeError\u001b[0m                                 Traceback (most recent call last)",
      "Cell \u001b[1;32mIn[60], line 1\u001b[0m\n\u001b[1;32m----> 1\u001b[0m \u001b[43msalary_tuple\u001b[49m\u001b[43m[\u001b[49m\u001b[38;5;241;43m0\u001b[39;49m\u001b[43m]\u001b[49m \u001b[38;5;241m=\u001b[39m \u001b[38;5;241m100\u001b[39m\n",
      "\u001b[1;31mTypeError\u001b[0m: 'tuple' object does not support item assignment"
     ]
    }
   ],
   "source": [
    "salary_tuple[0] = 100"
   ]
  },
  {
   "cell_type": "markdown",
   "metadata": {
    "id": "gt5KLoA3kFPL"
   },
   "source": [
    "### Tuple Operations\n",
    "1. Tuple Concatenation\n",
    "2. Tuple Replication\n"
   ]
  },
  {
   "cell_type": "code",
   "execution_count": 61,
   "metadata": {
    "colab": {
     "base_uri": "https://localhost:8080/"
    },
    "executionInfo": {
     "elapsed": 398,
     "status": "ok",
     "timestamp": 1681556303166,
     "user": {
      "displayName": "naz nazira",
      "userId": "06694449877078577923"
     },
     "user_tz": -330
    },
    "id": "YG4ATDIpEk1f",
    "outputId": "d0c8f97b-f814-4488-a2db-80d887c83d80"
   },
   "outputs": [
    {
     "data": {
      "text/plain": [
       "(1, 2, 30, 50)"
      ]
     },
     "execution_count": 61,
     "metadata": {},
     "output_type": "execute_result"
    }
   ],
   "source": [
    "(1,2) + (30,50)"
   ]
  },
  {
   "cell_type": "code",
   "execution_count": 62,
   "metadata": {
    "colab": {
     "base_uri": "https://localhost:8080/"
    },
    "executionInfo": {
     "elapsed": 386,
     "status": "ok",
     "timestamp": 1681556315263,
     "user": {
      "displayName": "naz nazira",
      "userId": "06694449877078577923"
     },
     "user_tz": -330
    },
    "id": "rmPnX9qBkPSK",
    "outputId": "a2e3cf47-e177-4a09-e895-ae92b2e80604"
   },
   "outputs": [
    {
     "data": {
      "text/plain": [
       "(10, 20, 10, 20, 10, 20, 10, 20, 10, 20)"
      ]
     },
     "execution_count": 62,
     "metadata": {},
     "output_type": "execute_result"
    }
   ],
   "source": [
    "(10,20) * 5"
   ]
  },
  {
   "cell_type": "markdown",
   "metadata": {
    "id": "0Tg5DI8I8Fom"
   },
   "source": [
    "### Tuple methods"
   ]
  },
  {
   "cell_type": "code",
   "execution_count": null,
   "metadata": {
    "colab": {
     "base_uri": "https://localhost:8080/"
    },
    "executionInfo": {
     "elapsed": 424,
     "status": "ok",
     "timestamp": 1681556360112,
     "user": {
      "displayName": "naz nazira",
      "userId": "06694449877078577923"
     },
     "user_tz": -330
    },
    "id": "gc0PXS9lkX-T",
    "outputId": "8537f169-3d64-44e6-cdc7-34c110d45035"
   },
   "outputs": [],
   "source": [
    "dir(tuple)"
   ]
  },
  {
   "cell_type": "markdown",
   "metadata": {
    "id": "0DAyD4zv8KA7"
   },
   "source": [
    "#### count()"
   ]
  },
  {
   "cell_type": "code",
   "execution_count": null,
   "metadata": {
    "colab": {
     "base_uri": "https://localhost:8080/"
    },
    "executionInfo": {
     "elapsed": 361,
     "status": "ok",
     "timestamp": 1659190661664,
     "user": {
      "displayName": "naz nazira",
      "userId": "06694449877078577923"
     },
     "user_tz": -330
    },
    "id": "-sOEYkozrNoA",
    "outputId": "a0374cd1-cc87-45cd-d37c-315386b4139c"
   },
   "outputs": [],
   "source": [
    "salary_tuple.count(1000)"
   ]
  },
  {
   "cell_type": "markdown",
   "metadata": {
    "id": "QT7XB65T8MbW"
   },
   "source": [
    "#### index()"
   ]
  },
  {
   "cell_type": "code",
   "execution_count": null,
   "metadata": {
    "colab": {
     "base_uri": "https://localhost:8080/"
    },
    "executionInfo": {
     "elapsed": 387,
     "status": "ok",
     "timestamp": 1659190666223,
     "user": {
      "displayName": "naz nazira",
      "userId": "06694449877078577923"
     },
     "user_tz": -330
    },
    "id": "76aH2RHPrcPr",
    "outputId": "c01f4f41-2e4b-4fac-89f9-f55036c8a6dd"
   },
   "outputs": [],
   "source": [
    "salary_tuple.index(1000)"
   ]
  },
  {
   "cell_type": "code",
   "execution_count": null,
   "metadata": {
    "colab": {
     "base_uri": "https://localhost:8080/"
    },
    "executionInfo": {
     "elapsed": 23,
     "status": "ok",
     "timestamp": 1681617129109,
     "user": {
      "displayName": "naz nazira",
      "userId": "06694449877078577923"
     },
     "user_tz": -330
    },
    "id": "_TH20sRTMOX8",
    "outputId": "6d4811fa-86e8-4d56-8ba3-1dc6fe7cc0ff"
   },
   "outputs": [],
   "source": [
    "dir(__builtins__)"
   ]
  },
  {
   "cell_type": "markdown",
   "metadata": {
    "id": "4sRfOzCNV8jN",
    "jp-MarkdownHeadingCollapsed": true
   },
   "source": [
    "## Sets\n",
    "- Created using { }\n",
    "- Sets are collection of unordered unique elements\n"
   ]
  },
  {
   "cell_type": "code",
   "execution_count": 1,
   "metadata": {
    "colab": {
     "base_uri": "https://localhost:8080/"
    },
    "executionInfo": {
     "elapsed": 20,
     "status": "ok",
     "timestamp": 1681617073686,
     "user": {
      "displayName": "naz nazira",
      "userId": "06694449877078577923"
     },
     "user_tz": -330
    },
    "id": "1m799XkWXaez",
    "outputId": "bb06fd2d-6752-4e25-ecd9-6ec5b1168c5c"
   },
   "outputs": [
    {
     "data": {
      "text/plain": [
       "{1, 2, 3, 5}"
      ]
     },
     "execution_count": 1,
     "metadata": {},
     "output_type": "execute_result"
    }
   ],
   "source": [
    "numbers_set = {5,2,1,2,1,2,3}\n",
    "numbers_set"
   ]
  },
  {
   "cell_type": "code",
   "execution_count": 2,
   "metadata": {
    "colab": {
     "base_uri": "https://localhost:8080/",
     "height": 165
    },
    "executionInfo": {
     "elapsed": 424,
     "status": "error",
     "timestamp": 1681617192402,
     "user": {
      "displayName": "naz nazira",
      "userId": "06694449877078577923"
     },
     "user_tz": -330
    },
    "id": "BuNsoAQgfSef",
    "outputId": "7652b006-06df-49c9-9c97-6bf75b5b34a9"
   },
   "outputs": [
    {
     "ename": "TypeError",
     "evalue": "'set' object is not subscriptable",
     "output_type": "error",
     "traceback": [
      "\u001b[1;31m---------------------------------------------------------------------------\u001b[0m",
      "\u001b[1;31mTypeError\u001b[0m                                 Traceback (most recent call last)",
      "Cell \u001b[1;32mIn[2], line 1\u001b[0m\n\u001b[1;32m----> 1\u001b[0m \u001b[43mnumbers_set\u001b[49m\u001b[43m[\u001b[49m\u001b[38;5;241;43m0\u001b[39;49m\u001b[43m]\u001b[49m\n",
      "\u001b[1;31mTypeError\u001b[0m: 'set' object is not subscriptable"
     ]
    }
   ],
   "source": [
    "numbers_set[0]"
   ]
  },
  {
   "cell_type": "code",
   "execution_count": 3,
   "metadata": {},
   "outputs": [
    {
     "ename": "TypeError",
     "evalue": "unsupported operand type(s) for +: 'set' and 'set'",
     "output_type": "error",
     "traceback": [
      "\u001b[1;31m---------------------------------------------------------------------------\u001b[0m",
      "\u001b[1;31mTypeError\u001b[0m                                 Traceback (most recent call last)",
      "Cell \u001b[1;32mIn[3], line 1\u001b[0m\n\u001b[1;32m----> 1\u001b[0m \u001b[43m{\u001b[49m\u001b[38;5;241;43m1\u001b[39;49m\u001b[43m,\u001b[49m\u001b[38;5;241;43m2\u001b[39;49m\u001b[43m,\u001b[49m\u001b[38;5;241;43m3\u001b[39;49m\u001b[43m}\u001b[49m\u001b[43m \u001b[49m\u001b[38;5;241;43m+\u001b[39;49m\u001b[43m \u001b[49m\u001b[43m{\u001b[49m\u001b[38;5;241;43m4\u001b[39;49m\u001b[43m,\u001b[49m\u001b[38;5;241;43m5\u001b[39;49m\u001b[43m,\u001b[49m\u001b[38;5;241;43m3\u001b[39;49m\u001b[43m}\u001b[49m\n",
      "\u001b[1;31mTypeError\u001b[0m: unsupported operand type(s) for +: 'set' and 'set'"
     ]
    }
   ],
   "source": [
    "{1,2,3} + {4,5,3}"
   ]
  },
  {
   "cell_type": "code",
   "execution_count": 4,
   "metadata": {},
   "outputs": [
    {
     "ename": "TypeError",
     "evalue": "unsupported operand type(s) for *: 'set' and 'int'",
     "output_type": "error",
     "traceback": [
      "\u001b[1;31m---------------------------------------------------------------------------\u001b[0m",
      "\u001b[1;31mTypeError\u001b[0m                                 Traceback (most recent call last)",
      "Cell \u001b[1;32mIn[4], line 1\u001b[0m\n\u001b[1;32m----> 1\u001b[0m \u001b[43m{\u001b[49m\u001b[38;5;241;43m1\u001b[39;49m\u001b[43m,\u001b[49m\u001b[38;5;241;43m2\u001b[39;49m\u001b[43m,\u001b[49m\u001b[38;5;241;43m3\u001b[39;49m\u001b[43m}\u001b[49m\u001b[43m \u001b[49m\u001b[38;5;241;43m*\u001b[39;49m\u001b[43m \u001b[49m\u001b[38;5;241;43m3\u001b[39;49m\n",
      "\u001b[1;31mTypeError\u001b[0m: unsupported operand type(s) for *: 'set' and 'int'"
     ]
    }
   ],
   "source": [
    "{1,2,3} * 3"
   ]
  },
  {
   "cell_type": "markdown",
   "metadata": {
    "id": "cSMgpFU3-HC7"
   },
   "source": [
    "### Set methods\n"
   ]
  },
  {
   "cell_type": "code",
   "execution_count": 5,
   "metadata": {},
   "outputs": [
    {
     "data": {
      "text/plain": [
       "['__and__',\n",
       " '__class__',\n",
       " '__class_getitem__',\n",
       " '__contains__',\n",
       " '__delattr__',\n",
       " '__dir__',\n",
       " '__doc__',\n",
       " '__eq__',\n",
       " '__format__',\n",
       " '__ge__',\n",
       " '__getattribute__',\n",
       " '__getstate__',\n",
       " '__gt__',\n",
       " '__hash__',\n",
       " '__iand__',\n",
       " '__init__',\n",
       " '__init_subclass__',\n",
       " '__ior__',\n",
       " '__isub__',\n",
       " '__iter__',\n",
       " '__ixor__',\n",
       " '__le__',\n",
       " '__len__',\n",
       " '__lt__',\n",
       " '__ne__',\n",
       " '__new__',\n",
       " '__or__',\n",
       " '__rand__',\n",
       " '__reduce__',\n",
       " '__reduce_ex__',\n",
       " '__repr__',\n",
       " '__ror__',\n",
       " '__rsub__',\n",
       " '__rxor__',\n",
       " '__setattr__',\n",
       " '__sizeof__',\n",
       " '__str__',\n",
       " '__sub__',\n",
       " '__subclasshook__',\n",
       " '__xor__',\n",
       " 'add',\n",
       " 'clear',\n",
       " 'copy',\n",
       " 'difference',\n",
       " 'difference_update',\n",
       " 'discard',\n",
       " 'intersection',\n",
       " 'intersection_update',\n",
       " 'isdisjoint',\n",
       " 'issubset',\n",
       " 'issuperset',\n",
       " 'pop',\n",
       " 'remove',\n",
       " 'symmetric_difference',\n",
       " 'symmetric_difference_update',\n",
       " 'union',\n",
       " 'update']"
      ]
     },
     "execution_count": 5,
     "metadata": {},
     "output_type": "execute_result"
    }
   ],
   "source": [
    "dir(set)"
   ]
  },
  {
   "cell_type": "code",
   "execution_count": 10,
   "metadata": {
    "colab": {
     "base_uri": "https://localhost:8080/"
    },
    "executionInfo": {
     "elapsed": 545,
     "status": "ok",
     "timestamp": 1681617318245,
     "user": {
      "displayName": "naz nazira",
      "userId": "06694449877078577923"
     },
     "user_tz": -330
    },
    "id": "EFVxklfqX35r",
    "outputId": "c33d7afe-4c2c-4844-99db-8a5087f897c7"
   },
   "outputs": [],
   "source": [
    "banglore_employees = {'Sara','Jim','John','David','Yash'}\n",
    "mumbai_employees = {'Yash','Preeti','Pam','Sara'}\n",
    "uk_employees = {'Jim','John','Yash'}"
   ]
  },
  {
   "cell_type": "code",
   "execution_count": 11,
   "metadata": {},
   "outputs": [
    {
     "data": {
      "text/plain": [
       "True"
      ]
     },
     "execution_count": 11,
     "metadata": {},
     "output_type": "execute_result"
    }
   ],
   "source": [
    "# Are all UK employees from Banglore branch\n",
    "uk_employees.issubset(banglore_employees)"
   ]
  },
  {
   "cell_type": "code",
   "execution_count": 12,
   "metadata": {},
   "outputs": [
    {
     "data": {
      "text/plain": [
       "False"
      ]
     },
     "execution_count": 12,
     "metadata": {},
     "output_type": "execute_result"
    }
   ],
   "source": [
    "# Are all Mumbai employees from Banglore branch\n",
    "mumbai_employees.issubset(banglore_employees)"
   ]
  },
  {
   "cell_type": "code",
   "execution_count": 13,
   "metadata": {},
   "outputs": [
    {
     "data": {
      "text/plain": [
       "{'Sara', 'Yash'}"
      ]
     },
     "execution_count": 13,
     "metadata": {},
     "output_type": "execute_result"
    }
   ],
   "source": [
    "# Get employees who works in both banglore and mumbai branch\n",
    "banglore_employees.intersection(mumbai_employees)"
   ]
  },
  {
   "cell_type": "code",
   "execution_count": null,
   "metadata": {},
   "outputs": [],
   "source": [
    "banglore_employees = {'Sara','Jim','John','David','Yash'}\n",
    "mumbai_employees = {'Yash','Preeti','Pam','Sara'}\n",
    "uk_employees = {'Jim','John','Yash'}"
   ]
  },
  {
   "cell_type": "code",
   "execution_count": 16,
   "metadata": {},
   "outputs": [
    {
     "data": {
      "text/plain": [
       "{'Yash'}"
      ]
     },
     "execution_count": 16,
     "metadata": {},
     "output_type": "execute_result"
    }
   ],
   "source": [
    "# Get employees who works in all 3 branches\n",
    "banglore_employees.intersection(mumbai_employees.intersection(uk_employees))"
   ]
  },
  {
   "cell_type": "code",
   "execution_count": 20,
   "metadata": {},
   "outputs": [
    {
     "data": {
      "text/plain": [
       "{'David', 'Pam', 'Preeti'}"
      ]
     },
     "execution_count": 20,
     "metadata": {},
     "output_type": "execute_result"
    }
   ],
   "source": [
    "# Get list of all employees who are working in only one branch\n",
    "all_employees = banglore_employees.union(mumbai_employees.union(uk_employees))\n",
    "bm = mumbai_employees.intersection(banglore_employees)\n",
    "bu = uk_employees.intersection(banglore_employees)\n",
    "um = mumbai_employees.intersection(uk_employees)\n",
    "common_employees = bm.union(um).union(bu)\n",
    "all_employees.difference(common_employees)"
   ]
  },
  {
   "cell_type": "code",
   "execution_count": 21,
   "metadata": {},
   "outputs": [
    {
     "data": {
      "text/plain": [
       "{'David', 'Jim', 'John', 'Pam', 'Preeti', 'Sara', 'Yash'}"
      ]
     },
     "execution_count": 21,
     "metadata": {},
     "output_type": "execute_result"
    }
   ],
   "source": [
    "# Get the list of total employees\n",
    "banglore_employees.union(mumbai_employees.union(uk_employees))"
   ]
  },
  {
   "cell_type": "code",
   "execution_count": 23,
   "metadata": {},
   "outputs": [],
   "source": [
    "banglore_employees = {'Sara','Jim','John','David'}\n",
    "mumbai_employees = {'Yash','Preeti','Pam'}"
   ]
  },
  {
   "cell_type": "code",
   "execution_count": 24,
   "metadata": {},
   "outputs": [
    {
     "data": {
      "text/plain": [
       "True"
      ]
     },
     "execution_count": 24,
     "metadata": {},
     "output_type": "execute_result"
    }
   ],
   "source": [
    "# check if employyes from mumbai and banglore are unique\n",
    "banglore_employees.isdisjoint(mumbai_employees)"
   ]
  },
  {
   "cell_type": "markdown",
   "metadata": {
    "id": "a06YvLSX_1D-"
   },
   "source": [
    "#### add()"
   ]
  },
  {
   "cell_type": "code",
   "execution_count": null,
   "metadata": {
    "colab": {
     "base_uri": "https://localhost:8080/"
    },
    "executionInfo": {
     "elapsed": 3,
     "status": "ok",
     "timestamp": 1660408380834,
     "user": {
      "displayName": "naz nazira",
      "userId": "06694449877078577923"
     },
     "user_tz": -330
    },
    "id": "ygx9xOx4_kgp",
    "outputId": "a5d5c140-b4e4-4415-acaa-07d161acef7c"
   },
   "outputs": [],
   "source": [
    "# Add a new Employee named James to Banglore"
   ]
  },
  {
   "cell_type": "markdown",
   "metadata": {
    "id": "iiTE19Nh-6Oh"
   },
   "source": [
    "#### discard()\n",
    "\n",
    "\n",
    "\n"
   ]
  },
  {
   "cell_type": "code",
   "execution_count": 98,
   "metadata": {
    "colab": {
     "base_uri": "https://localhost:8080/"
    },
    "executionInfo": {
     "elapsed": 423,
     "status": "ok",
     "timestamp": 1681617848279,
     "user": {
      "displayName": "naz nazira",
      "userId": "06694449877078577923"
     },
     "user_tz": -330
    },
    "id": "3zEK8c-vLBRu",
    "outputId": "4b23fb27-da65-4955-b1c5-c552d729db15"
   },
   "outputs": [],
   "source": [
    "# remove a member named David From Banglore employees"
   ]
  },
  {
   "cell_type": "markdown",
   "metadata": {
    "id": "Yla55qbXDXbN"
   },
   "source": [
    "#### pop()"
   ]
  },
  {
   "cell_type": "code",
   "execution_count": 99,
   "metadata": {
    "colab": {
     "base_uri": "https://localhost:8080/"
    },
    "executionInfo": {
     "elapsed": 394,
     "status": "ok",
     "timestamp": 1681617983822,
     "user": {
      "displayName": "naz nazira",
      "userId": "06694449877078577923"
     },
     "user_tz": -330
    },
    "id": "qU6szxnfDZJ-",
    "outputId": "29a020fc-cd7d-48be-c6b5-4ffdda7d852a"
   },
   "outputs": [],
   "source": [
    "# remove the most recent joinee from Mumbai"
   ]
  },
  {
   "cell_type": "markdown",
   "metadata": {
    "id": "mtVOK8FydJIO"
   },
   "source": [
    "## Dictionary\n",
    "\n",
    "- created using { }\n",
    "- Stores data in key value pair format {key:value}\n",
    "- are unordered, can be accessed using keys"
   ]
  },
  {
   "cell_type": "code",
   "execution_count": null,
   "metadata": {
    "id": "TdO1GZwBdIV1"
   },
   "outputs": [],
   "source": [
    "# WAP to store a persons details such as\n",
    "# name\n",
    "# age\n",
    "# height\n",
    "# weight\n",
    "# qualification\n",
    "# likes\n",
    "# dislikes\n",
    "# fav_color\n",
    "# hair_color\n",
    "\n"
   ]
  },
  {
   "cell_type": "code",
   "execution_count": 25,
   "metadata": {
    "colab": {
     "base_uri": "https://localhost:8080/"
    },
    "executionInfo": {
     "elapsed": 15,
     "status": "ok",
     "timestamp": 1681619074949,
     "user": {
      "displayName": "naz nazira",
      "userId": "06694449877078577923"
     },
     "user_tz": -330
    },
    "id": "Rp2YHEI-dIKh",
    "outputId": "065be777-02d3-4d60-96db-9b515adb1ce4"
   },
   "outputs": [
    {
     "data": {
      "text/plain": [
       "{'name': 'John',\n",
       " 'age': 48,\n",
       " 'height': 5.8,\n",
       " 'weight': 70,\n",
       " 'qualification': 'B.E',\n",
       " 'likes': 'sports',\n",
       " 'dislikes': 'study',\n",
       " 'fav_color': 'black',\n",
       " 'hair_color': 'black'}"
      ]
     },
     "execution_count": 25,
     "metadata": {},
     "output_type": "execute_result"
    }
   ],
   "source": [
    "person_details_dict = {'name': 'John',\n",
    "                      'age': 48 ,\n",
    "                      'height': 5.8 ,\n",
    "                      'weight': 70 ,\n",
    "                      'qualification': 'B.E',\n",
    "                      'likes': 'sports',\n",
    "                      'dislikes': 'study',\n",
    "                      'fav_color': 'black',\n",
    "                      'hair_color': 'black'}\n",
    "person_details_dict"
   ]
  },
  {
   "cell_type": "code",
   "execution_count": 26,
   "metadata": {},
   "outputs": [
    {
     "ename": "KeyError",
     "evalue": "0",
     "output_type": "error",
     "traceback": [
      "\u001b[1;31m---------------------------------------------------------------------------\u001b[0m",
      "\u001b[1;31mKeyError\u001b[0m                                  Traceback (most recent call last)",
      "Cell \u001b[1;32mIn[26], line 1\u001b[0m\n\u001b[1;32m----> 1\u001b[0m \u001b[43mperson_details_dict\u001b[49m\u001b[43m[\u001b[49m\u001b[38;5;241;43m0\u001b[39;49m\u001b[43m]\u001b[49m\n",
      "\u001b[1;31mKeyError\u001b[0m: 0"
     ]
    }
   ],
   "source": [
    "person_details_dict[0]"
   ]
  },
  {
   "cell_type": "code",
   "execution_count": 27,
   "metadata": {
    "colab": {
     "base_uri": "https://localhost:8080/",
     "height": 35
    },
    "executionInfo": {
     "elapsed": 397,
     "status": "ok",
     "timestamp": 1681619102434,
     "user": {
      "displayName": "naz nazira",
      "userId": "06694449877078577923"
     },
     "user_tz": -330
    },
    "id": "b17EoF9edIH3",
    "outputId": "6a495828-5706-4d10-8f75-3c4c5dba14a6"
   },
   "outputs": [
    {
     "data": {
      "text/plain": [
       "'study'"
      ]
     },
     "execution_count": 27,
     "metadata": {},
     "output_type": "execute_result"
    }
   ],
   "source": [
    "person_details_dict['dislikes']"
   ]
  },
  {
   "cell_type": "code",
   "execution_count": 28,
   "metadata": {
    "id": "GsikWprudIEq"
   },
   "outputs": [],
   "source": [
    "# nested dictionary\n",
    "person_dict = {'person_1':{'name': 'John',\n",
    "                      'age': 48 ,\n",
    "                      'height': 5.8 ,\n",
    "                      'weight': 70 ,\n",
    "                      'qualification': 'B.E',\n",
    "                      'likes': 'sports',\n",
    "                      'dislikes': 'study',\n",
    "                      'fav_color': 'black',\n",
    "                      'hair_color': 'black'},\n",
    "               'person_2':{'name': 'Sam',\n",
    "                      'age': 20 ,\n",
    "                      'height': 6 ,\n",
    "                      'weight': 54 ,\n",
    "                      'qualification': 'High School',\n",
    "                      'likes': 'treking',\n",
    "                      'dislikes': 'Nothing',\n",
    "                      'fav_color': 'green',\n",
    "                      'hair_color': 'brown'},\n",
    "               'person_3':{'name': 'Rose',\n",
    "                      'age': 25 ,\n",
    "                      'height': 5.6 ,\n",
    "                      'weight': 52 ,\n",
    "                      'qualification': 'Phd',\n",
    "                      'likes': 'reading',\n",
    "                      'dislikes': 'travelling',\n",
    "                      'fav_color': 'red',\n",
    "                      'hair_color': 'black'}}"
   ]
  },
  {
   "cell_type": "code",
   "execution_count": 29,
   "metadata": {
    "colab": {
     "base_uri": "https://localhost:8080/"
    },
    "executionInfo": {
     "elapsed": 15,
     "status": "ok",
     "timestamp": 1681619675259,
     "user": {
      "displayName": "naz nazira",
      "userId": "06694449877078577923"
     },
     "user_tz": -330
    },
    "id": "KYmGy36zdICB",
    "outputId": "a4a97b0e-1b3e-4c05-bc4e-f20b64f0df22"
   },
   "outputs": [
    {
     "data": {
      "text/plain": [
       "{'name': 'John',\n",
       " 'age': 48,\n",
       " 'height': 5.8,\n",
       " 'weight': 70,\n",
       " 'qualification': 'B.E',\n",
       " 'likes': 'sports',\n",
       " 'dislikes': 'study',\n",
       " 'fav_color': 'black',\n",
       " 'hair_color': 'black'}"
      ]
     },
     "execution_count": 29,
     "metadata": {},
     "output_type": "execute_result"
    }
   ],
   "source": [
    "# get person 1 details\n",
    "person_dict['person_1']"
   ]
  },
  {
   "cell_type": "code",
   "execution_count": 30,
   "metadata": {
    "colab": {
     "base_uri": "https://localhost:8080/",
     "height": 35
    },
    "executionInfo": {
     "elapsed": 399,
     "status": "ok",
     "timestamp": 1681619681156,
     "user": {
      "displayName": "naz nazira",
      "userId": "06694449877078577923"
     },
     "user_tz": -330
    },
    "id": "L1_lo8MHdH_J",
    "outputId": "759fab11-7fe0-4eae-9a07-6a00e7dca3b1"
   },
   "outputs": [
    {
     "data": {
      "text/plain": [
       "'John'"
      ]
     },
     "execution_count": 30,
     "metadata": {},
     "output_type": "execute_result"
    }
   ],
   "source": [
    "# get person_1 name\n",
    "person_dict['person_1']['name']"
   ]
  },
  {
   "cell_type": "markdown",
   "metadata": {
    "id": "CtPAbyG7sj_T"
   },
   "source": [
    "### Dictionary methods"
   ]
  },
  {
   "cell_type": "code",
   "execution_count": 31,
   "metadata": {},
   "outputs": [
    {
     "data": {
      "text/plain": [
       "['__class__',\n",
       " '__class_getitem__',\n",
       " '__contains__',\n",
       " '__delattr__',\n",
       " '__delitem__',\n",
       " '__dir__',\n",
       " '__doc__',\n",
       " '__eq__',\n",
       " '__format__',\n",
       " '__ge__',\n",
       " '__getattribute__',\n",
       " '__getitem__',\n",
       " '__getstate__',\n",
       " '__gt__',\n",
       " '__hash__',\n",
       " '__init__',\n",
       " '__init_subclass__',\n",
       " '__ior__',\n",
       " '__iter__',\n",
       " '__le__',\n",
       " '__len__',\n",
       " '__lt__',\n",
       " '__ne__',\n",
       " '__new__',\n",
       " '__or__',\n",
       " '__reduce__',\n",
       " '__reduce_ex__',\n",
       " '__repr__',\n",
       " '__reversed__',\n",
       " '__ror__',\n",
       " '__setattr__',\n",
       " '__setitem__',\n",
       " '__sizeof__',\n",
       " '__str__',\n",
       " '__subclasshook__',\n",
       " 'clear',\n",
       " 'copy',\n",
       " 'fromkeys',\n",
       " 'get',\n",
       " 'items',\n",
       " 'keys',\n",
       " 'pop',\n",
       " 'popitem',\n",
       " 'setdefault',\n",
       " 'update',\n",
       " 'values']"
      ]
     },
     "execution_count": 31,
     "metadata": {},
     "output_type": "execute_result"
    }
   ],
   "source": [
    "dir(dict)"
   ]
  },
  {
   "cell_type": "markdown",
   "metadata": {
    "id": "x_ZwPj4rO5At"
   },
   "source": [
    "### get()"
   ]
  },
  {
   "cell_type": "code",
   "execution_count": 32,
   "metadata": {
    "colab": {
     "base_uri": "https://localhost:8080/"
    },
    "executionInfo": {
     "elapsed": 433,
     "status": "ok",
     "timestamp": 1672802077607,
     "user": {
      "displayName": "naz nazira",
      "userId": "06694449877078577923"
     },
     "user_tz": -330
    },
    "id": "QMilsLKTxYbu",
    "outputId": "9ad597f3-70e0-4c1e-a57d-55181662a96e"
   },
   "outputs": [
    {
     "data": {
      "text/plain": [
       "{'name': 'John',\n",
       " 'age': 48,\n",
       " 'height': 5.8,\n",
       " 'weight': 70,\n",
       " 'qualification': 'B.E',\n",
       " 'likes': 'sports',\n",
       " 'dislikes': 'study',\n",
       " 'fav_color': 'black',\n",
       " 'hair_color': 'black'}"
      ]
     },
     "execution_count": 32,
     "metadata": {},
     "output_type": "execute_result"
    }
   ],
   "source": [
    "# get person 1 details\n",
    "person_dict.get('person_1')"
   ]
  },
  {
   "cell_type": "code",
   "execution_count": 33,
   "metadata": {
    "colab": {
     "base_uri": "https://localhost:8080/",
     "height": 36
    },
    "executionInfo": {
     "elapsed": 388,
     "status": "ok",
     "timestamp": 1659192613194,
     "user": {
      "displayName": "naz nazira",
      "userId": "06694449877078577923"
     },
     "user_tz": -330
    },
    "id": "5DBKtlyolYhD",
    "outputId": "18d86a0e-ccfa-4142-9b2c-cd66e4b6eebd"
   },
   "outputs": [
    {
     "data": {
      "text/plain": [
       "'John'"
      ]
     },
     "execution_count": 33,
     "metadata": {},
     "output_type": "execute_result"
    }
   ],
   "source": [
    "# get person_1 name\n",
    "person_dict.get('person_1').get('name')"
   ]
  },
  {
   "cell_type": "code",
   "execution_count": null,
   "metadata": {
    "colab": {
     "base_uri": "https://localhost:8080/"
    },
    "executionInfo": {
     "elapsed": 419,
     "status": "ok",
     "timestamp": 1672802261711,
     "user": {
      "displayName": "naz nazira",
      "userId": "06694449877078577923"
     },
     "user_tz": -330
    },
    "id": "OSVacRMxyMJw",
    "outputId": "b26fcb4c-7dab-4be7-a4f4-0b88953c09dd"
   },
   "outputs": [],
   "source": [
    "person_dict"
   ]
  },
  {
   "cell_type": "code",
   "execution_count": null,
   "metadata": {
    "colab": {
     "base_uri": "https://localhost:8080/"
    },
    "executionInfo": {
     "elapsed": 444,
     "status": "ok",
     "timestamp": 1672802304312,
     "user": {
      "displayName": "naz nazira",
      "userId": "06694449877078577923"
     },
     "user_tz": -330
    },
    "id": "E6xpmoZHxoNG",
    "outputId": "b371bea4-6987-4946-bc8b-71799ec43982"
   },
   "outputs": [],
   "source": [
    "person_dict.get('person_1').values()"
   ]
  },
  {
   "cell_type": "markdown",
   "metadata": {
    "id": "dV2ApnXDO_Cy"
   },
   "source": [
    "### keys() and values()"
   ]
  },
  {
   "cell_type": "code",
   "execution_count": 34,
   "metadata": {
    "colab": {
     "base_uri": "https://localhost:8080/"
    },
    "executionInfo": {
     "elapsed": 16,
     "status": "ok",
     "timestamp": 1687324510756,
     "user": {
      "displayName": "naz nazira",
      "userId": "06694449877078577923"
     },
     "user_tz": -330
    },
    "id": "V92to4epbSN8",
    "outputId": "3c483953-37b6-4381-cef5-3b14a4244c86"
   },
   "outputs": [
    {
     "data": {
      "text/plain": [
       "{'glossary': {'title': 'example glossary',\n",
       "  'GlossDiv': {'title': 'S',\n",
       "   'GlossList': {'GlossEntry': {'ID': 'SGML',\n",
       "     'SortAs': 'SGML',\n",
       "     'GlossTerm': 'Standard Generalized Markup Language',\n",
       "     'Acronym': 'SGML',\n",
       "     'Abbrev': 'ISO 8879:1986',\n",
       "     'GlossDef': {'para': 'A meta-markup language, used to create markup languages such as DocBook.',\n",
       "      'GlossSeeAlso': ['GML', 'XML']},\n",
       "     'GlossSee': 'markup'}}}}}"
      ]
     },
     "execution_count": 34,
     "metadata": {},
     "output_type": "execute_result"
    }
   ],
   "source": [
    "config_text = {\n",
    "    \"glossary\": {\n",
    "        \"title\": \"example glossary\",\n",
    "\t\t\"GlossDiv\": {\n",
    "            \"title\": \"S\",\n",
    "\t\t\t\"GlossList\": {\n",
    "                \"GlossEntry\": {\n",
    "                    \"ID\": \"SGML\",\n",
    "\t\t\t\t\t\"SortAs\": \"SGML\",\n",
    "\t\t\t\t\t\"GlossTerm\": \"Standard Generalized Markup Language\",\n",
    "\t\t\t\t\t\"Acronym\": \"SGML\",\n",
    "\t\t\t\t\t\"Abbrev\": \"ISO 8879:1986\",\n",
    "\t\t\t\t\t\"GlossDef\": {\n",
    "                        \"para\": \"A meta-markup language, used to create markup languages such as DocBook.\",\n",
    "\t\t\t\t\t\t\"GlossSeeAlso\": [\"GML\", \"XML\"]\n",
    "                    },\n",
    "\t\t\t\t\t\"GlossSee\": \"markup\"\n",
    "                }\n",
    "            }\n",
    "        }\n",
    "    }\n",
    "}\n",
    "config_text"
   ]
  },
  {
   "cell_type": "code",
   "execution_count": 35,
   "metadata": {},
   "outputs": [
    {
     "data": {
      "text/plain": [
       "dict_keys(['glossary'])"
      ]
     },
     "execution_count": 35,
     "metadata": {},
     "output_type": "execute_result"
    }
   ],
   "source": [
    "config_text.keys()"
   ]
  },
  {
   "cell_type": "code",
   "execution_count": 38,
   "metadata": {},
   "outputs": [
    {
     "data": {
      "text/plain": [
       "{'title': 'example glossary',\n",
       " 'GlossDiv': {'title': 'S',\n",
       "  'GlossList': {'GlossEntry': {'ID': 'SGML',\n",
       "    'SortAs': 'SGML',\n",
       "    'GlossTerm': 'Standard Generalized Markup Language',\n",
       "    'Acronym': 'SGML',\n",
       "    'Abbrev': 'ISO 8879:1986',\n",
       "    'GlossDef': {'para': 'A meta-markup language, used to create markup languages such as DocBook.',\n",
       "     'GlossSeeAlso': ['GML', 'XML']},\n",
       "    'GlossSee': 'markup'}}}}"
      ]
     },
     "execution_count": 38,
     "metadata": {},
     "output_type": "execute_result"
    }
   ],
   "source": [
    "config_text.get('glossary')"
   ]
  },
  {
   "cell_type": "code",
   "execution_count": 41,
   "metadata": {},
   "outputs": [
    {
     "name": "stdout",
     "output_type": "stream",
     "text": [
      "dict_values(['example glossary', {'title': 'S', 'GlossList': {'GlossEntry': {'ID': 'SGML', 'SortAs': 'SGML', 'GlossTerm': 'Standard Generalized Markup Language', 'Acronym': 'SGML', 'Abbrev': 'ISO 8879:1986', 'GlossDef': {'para': 'A meta-markup language, used to create markup languages such as DocBook.', 'GlossSeeAlso': ['GML', 'XML']}, 'GlossSee': 'markup'}}}])\n"
     ]
    }
   ],
   "source": [
    "print(config_text.get('glossary').values())"
   ]
  },
  {
   "cell_type": "code",
   "execution_count": 43,
   "metadata": {},
   "outputs": [
    {
     "data": {
      "text/plain": [
       "['ArithmeticError',\n",
       " 'AssertionError',\n",
       " 'AttributeError',\n",
       " 'BaseException',\n",
       " 'BaseExceptionGroup',\n",
       " 'BlockingIOError',\n",
       " 'BrokenPipeError',\n",
       " 'BufferError',\n",
       " 'BytesWarning',\n",
       " 'ChildProcessError',\n",
       " 'ConnectionAbortedError',\n",
       " 'ConnectionError',\n",
       " 'ConnectionRefusedError',\n",
       " 'ConnectionResetError',\n",
       " 'DeprecationWarning',\n",
       " 'EOFError',\n",
       " 'Ellipsis',\n",
       " 'EncodingWarning',\n",
       " 'EnvironmentError',\n",
       " 'Exception',\n",
       " 'ExceptionGroup',\n",
       " 'False',\n",
       " 'FileExistsError',\n",
       " 'FileNotFoundError',\n",
       " 'FloatingPointError',\n",
       " 'FutureWarning',\n",
       " 'GeneratorExit',\n",
       " 'IOError',\n",
       " 'ImportError',\n",
       " 'ImportWarning',\n",
       " 'IndentationError',\n",
       " 'IndexError',\n",
       " 'InterruptedError',\n",
       " 'IsADirectoryError',\n",
       " 'KeyError',\n",
       " 'KeyboardInterrupt',\n",
       " 'LookupError',\n",
       " 'MemoryError',\n",
       " 'ModuleNotFoundError',\n",
       " 'NameError',\n",
       " 'None',\n",
       " 'NotADirectoryError',\n",
       " 'NotImplemented',\n",
       " 'NotImplementedError',\n",
       " 'OSError',\n",
       " 'OverflowError',\n",
       " 'PendingDeprecationWarning',\n",
       " 'PermissionError',\n",
       " 'ProcessLookupError',\n",
       " 'RecursionError',\n",
       " 'ReferenceError',\n",
       " 'ResourceWarning',\n",
       " 'RuntimeError',\n",
       " 'RuntimeWarning',\n",
       " 'StopAsyncIteration',\n",
       " 'StopIteration',\n",
       " 'SyntaxError',\n",
       " 'SyntaxWarning',\n",
       " 'SystemError',\n",
       " 'SystemExit',\n",
       " 'TabError',\n",
       " 'TimeoutError',\n",
       " 'True',\n",
       " 'TypeError',\n",
       " 'UnboundLocalError',\n",
       " 'UnicodeDecodeError',\n",
       " 'UnicodeEncodeError',\n",
       " 'UnicodeError',\n",
       " 'UnicodeTranslateError',\n",
       " 'UnicodeWarning',\n",
       " 'UserWarning',\n",
       " 'ValueError',\n",
       " 'Warning',\n",
       " 'WindowsError',\n",
       " 'ZeroDivisionError',\n",
       " '__IPYTHON__',\n",
       " '__build_class__',\n",
       " '__debug__',\n",
       " '__doc__',\n",
       " '__import__',\n",
       " '__loader__',\n",
       " '__name__',\n",
       " '__package__',\n",
       " '__spec__',\n",
       " 'abs',\n",
       " 'aiter',\n",
       " 'all',\n",
       " 'anext',\n",
       " 'any',\n",
       " 'ascii',\n",
       " 'bin',\n",
       " 'bool',\n",
       " 'breakpoint',\n",
       " 'bytearray',\n",
       " 'bytes',\n",
       " 'callable',\n",
       " 'chr',\n",
       " 'classmethod',\n",
       " 'compile',\n",
       " 'complex',\n",
       " 'copyright',\n",
       " 'credits',\n",
       " 'delattr',\n",
       " 'dict',\n",
       " 'dir',\n",
       " 'display',\n",
       " 'divmod',\n",
       " 'enumerate',\n",
       " 'eval',\n",
       " 'exec',\n",
       " 'execfile',\n",
       " 'filter',\n",
       " 'float',\n",
       " 'format',\n",
       " 'frozenset',\n",
       " 'get_ipython',\n",
       " 'getattr',\n",
       " 'globals',\n",
       " 'hasattr',\n",
       " 'hash',\n",
       " 'help',\n",
       " 'hex',\n",
       " 'id',\n",
       " 'input',\n",
       " 'int',\n",
       " 'isinstance',\n",
       " 'issubclass',\n",
       " 'iter',\n",
       " 'len',\n",
       " 'license',\n",
       " 'list',\n",
       " 'locals',\n",
       " 'map',\n",
       " 'max',\n",
       " 'memoryview',\n",
       " 'min',\n",
       " 'next',\n",
       " 'object',\n",
       " 'oct',\n",
       " 'open',\n",
       " 'ord',\n",
       " 'pow',\n",
       " 'print',\n",
       " 'property',\n",
       " 'range',\n",
       " 'repr',\n",
       " 'reversed',\n",
       " 'round',\n",
       " 'runfile',\n",
       " 'set',\n",
       " 'setattr',\n",
       " 'slice',\n",
       " 'sorted',\n",
       " 'staticmethod',\n",
       " 'str',\n",
       " 'sum',\n",
       " 'super',\n",
       " 'tuple',\n",
       " 'type',\n",
       " 'vars',\n",
       " 'zip']"
      ]
     },
     "execution_count": 43,
     "metadata": {},
     "output_type": "execute_result"
    }
   ],
   "source": [
    "dir(__builtin__)"
   ]
  },
  {
   "cell_type": "code",
   "execution_count": 50,
   "metadata": {},
   "outputs": [
    {
     "data": {
      "text/plain": [
       "{'title': 'S',\n",
       " 'GlossList': {'GlossEntry': {'ID': 'SGML',\n",
       "   'SortAs': 'SGML',\n",
       "   'GlossTerm': 'Standard Generalized Markup Language',\n",
       "   'Acronym': 'SGML',\n",
       "   'Abbrev': 'ISO 8879:1986',\n",
       "   'GlossDef': {'para': 'A meta-markup language, used to create markup languages such as DocBook.',\n",
       "    'GlossSeeAlso': ['GML', 'XML']},\n",
       "   'GlossSee': 'markup'}}}"
      ]
     },
     "execution_count": 50,
     "metadata": {},
     "output_type": "execute_result"
    }
   ],
   "source": [
    "list(config_text.get('glossary').values())[1]"
   ]
  },
  {
   "cell_type": "markdown",
   "metadata": {
    "id": "x0tgqbkCPIod"
   },
   "source": [
    "### items()"
   ]
  },
  {
   "cell_type": "code",
   "execution_count": 51,
   "metadata": {
    "colab": {
     "base_uri": "https://localhost:8080/"
    },
    "executionInfo": {
     "elapsed": 428,
     "status": "ok",
     "timestamp": 1672802590761,
     "user": {
      "displayName": "naz nazira",
      "userId": "06694449877078577923"
     },
     "user_tz": -330
    },
    "id": "qIa1Z9PmzXcZ",
    "outputId": "79cc3430-7c81-4e76-fd32-92318e5719cc"
   },
   "outputs": [
    {
     "data": {
      "text/plain": [
       "{'1': 'one', 2: 'two', 3: 'three'}"
      ]
     },
     "execution_count": 51,
     "metadata": {},
     "output_type": "execute_result"
    }
   ],
   "source": [
    "a = {'1':'one',\n",
    "     2: 'two',\n",
    "     3: 'three'}\n",
    "a"
   ]
  },
  {
   "cell_type": "code",
   "execution_count": 52,
   "metadata": {
    "colab": {
     "base_uri": "https://localhost:8080/"
    },
    "executionInfo": {
     "elapsed": 424,
     "status": "ok",
     "timestamp": 1672802608004,
     "user": {
      "displayName": "naz nazira",
      "userId": "06694449877078577923"
     },
     "user_tz": -330
    },
    "id": "erquB5HYxYR4",
    "outputId": "b8564c55-a715-43be-b9cd-2acd2db37ae8"
   },
   "outputs": [
    {
     "data": {
      "text/plain": [
       "dict_items([('1', 'one'), (2, 'two'), (3, 'three')])"
      ]
     },
     "execution_count": 52,
     "metadata": {},
     "output_type": "execute_result"
    }
   ],
   "source": [
    "a.items()"
   ]
  },
  {
   "cell_type": "code",
   "execution_count": 53,
   "metadata": {},
   "outputs": [
    {
     "name": "stdout",
     "output_type": "stream",
     "text": [
      "1 one\n",
      "2 two\n",
      "3 three\n"
     ]
    }
   ],
   "source": [
    "for k,v in a.items():\n",
    "    print(k,v)"
   ]
  },
  {
   "cell_type": "markdown",
   "metadata": {
    "id": "gOO6z317PLXf",
    "jp-MarkdownHeadingCollapsed": true
   },
   "source": [
    "### fromkeys()"
   ]
  },
  {
   "cell_type": "code",
   "execution_count": 55,
   "metadata": {
    "colab": {
     "base_uri": "https://localhost:8080/"
    },
    "executionInfo": {
     "elapsed": 750,
     "status": "ok",
     "timestamp": 1672804436272,
     "user": {
      "displayName": "naz nazira",
      "userId": "06694449877078577923"
     },
     "user_tz": -330
    },
    "id": "QsyZPdE95BH4",
    "outputId": "35b2fc86-9670-412f-dbfa-048624c6a1d8"
   },
   "outputs": [
    {
     "data": {
      "text/plain": [
       "{'Tim': 0, 'Harry': 0, 'Sara': 0, 'David': 0}"
      ]
     },
     "execution_count": 55,
     "metadata": {},
     "output_type": "execute_result"
    }
   ],
   "source": [
    "list_of_names = ['Tim','Harry','Sara','David']\n",
    "some_dict = dict.fromkeys(list_of_names, 0)\n",
    "some_dict"
   ]
  },
  {
   "cell_type": "code",
   "execution_count": 57,
   "metadata": {},
   "outputs": [
    {
     "data": {
      "text/plain": [
       "{'Tim': 0, 'Harry': 0, 'Sara': 88, 'David': 0}"
      ]
     },
     "execution_count": 57,
     "metadata": {},
     "output_type": "execute_result"
    }
   ],
   "source": [
    "some_dict['Sara'] = 88\n",
    "some_dict"
   ]
  },
  {
   "cell_type": "markdown",
   "metadata": {
    "id": "ac7am6D0PQfp"
   },
   "source": [
    "### pop()"
   ]
  },
  {
   "cell_type": "code",
   "execution_count": 58,
   "metadata": {
    "colab": {
     "base_uri": "https://localhost:8080/"
    },
    "executionInfo": {
     "elapsed": 422,
     "status": "ok",
     "timestamp": 1672804904694,
     "user": {
      "displayName": "naz nazira",
      "userId": "06694449877078577923"
     },
     "user_tz": -330
    },
    "id": "SthOIJFexYLg",
    "outputId": "7aa4440f-3f0a-4ffc-f182-b69b236c6a37"
   },
   "outputs": [
    {
     "data": {
      "text/plain": [
       "88"
      ]
     },
     "execution_count": 58,
     "metadata": {},
     "output_type": "execute_result"
    }
   ],
   "source": [
    "some_dict.pop('Sara')"
   ]
  },
  {
   "cell_type": "code",
   "execution_count": 59,
   "metadata": {
    "colab": {
     "base_uri": "https://localhost:8080/"
    },
    "executionInfo": {
     "elapsed": 429,
     "status": "ok",
     "timestamp": 1672804912548,
     "user": {
      "displayName": "naz nazira",
      "userId": "06694449877078577923"
     },
     "user_tz": -330
    },
    "id": "A7VSmCHIB1qR",
    "outputId": "cdd16cfb-d821-4f3f-9da7-a753d0fa6ea4"
   },
   "outputs": [
    {
     "data": {
      "text/plain": [
       "{'Tim': 0, 'Harry': 0, 'David': 0}"
      ]
     },
     "execution_count": 59,
     "metadata": {},
     "output_type": "execute_result"
    }
   ],
   "source": [
    "some_dict"
   ]
  },
  {
   "cell_type": "markdown",
   "metadata": {
    "id": "B1oujgG4PTyb",
    "jp-MarkdownHeadingCollapsed": true
   },
   "source": [
    "### popitem()"
   ]
  },
  {
   "cell_type": "code",
   "execution_count": 60,
   "metadata": {
    "colab": {
     "base_uri": "https://localhost:8080/"
    },
    "id": "_cbmgsi3B5g3",
    "outputId": "74583829-80e4-4b7c-cbba-17a4f50202bf"
   },
   "outputs": [
    {
     "data": {
      "text/plain": [
       "{'Tim': 0, 'Harry': 0}"
      ]
     },
     "execution_count": 60,
     "metadata": {},
     "output_type": "execute_result"
    }
   ],
   "source": [
    "some_dict.popitem() #removes items in LIFO(Last in first out)\n",
    "some_dict"
   ]
  },
  {
   "cell_type": "markdown",
   "metadata": {
    "id": "6E6Le67aPXSc"
   },
   "source": [
    "### update()"
   ]
  },
  {
   "cell_type": "code",
   "execution_count": 62,
   "metadata": {},
   "outputs": [
    {
     "data": {
      "text/plain": [
       "{'Tim': 0, 'Harry': 0, 'Sara': 0, 'David': 0}"
      ]
     },
     "execution_count": 62,
     "metadata": {},
     "output_type": "execute_result"
    }
   ],
   "source": [
    "list_of_names = ['Tim','Harry','Sara','David']\n",
    "some_dict = dict.fromkeys(list_of_names, 0)\n",
    "some_dict"
   ]
  },
  {
   "cell_type": "code",
   "execution_count": 63,
   "metadata": {},
   "outputs": [
    {
     "data": {
      "text/plain": [
       "{'Tim': 0, 'Harry': 70, 'Sara': 0, 'David': 0}"
      ]
     },
     "execution_count": 63,
     "metadata": {},
     "output_type": "execute_result"
    }
   ],
   "source": [
    "some_dict.update({'Harry': 70})\n",
    "some_dict"
   ]
  },
  {
   "cell_type": "code",
   "execution_count": 64,
   "metadata": {},
   "outputs": [
    {
     "data": {
      "text/plain": [
       "{'Tim': 0, 'Harry': 80, 'Sara': 0, 'David': 0}"
      ]
     },
     "execution_count": 64,
     "metadata": {},
     "output_type": "execute_result"
    }
   ],
   "source": [
    "some_dict.update({'Harry': 80})\n",
    "some_dict"
   ]
  },
  {
   "cell_type": "code",
   "execution_count": 65,
   "metadata": {},
   "outputs": [
    {
     "data": {
      "text/plain": [
       "{'Tim': 0, 'Harry': 80, 'Sara': 0, 'David': 0, 'Pam': 60}"
      ]
     },
     "execution_count": 65,
     "metadata": {},
     "output_type": "execute_result"
    }
   ],
   "source": [
    "some_dict.update({'Pam': 60})\n",
    "some_dict"
   ]
  },
  {
   "cell_type": "markdown",
   "metadata": {},
   "source": [
    "### setdefault"
   ]
  },
  {
   "cell_type": "code",
   "execution_count": 66,
   "metadata": {},
   "outputs": [
    {
     "data": {
      "text/plain": [
       "{'Tim': 0, 'Harry': 0, 'Sara': 0, 'David': 0}"
      ]
     },
     "execution_count": 66,
     "metadata": {},
     "output_type": "execute_result"
    }
   ],
   "source": [
    "list_of_names = ['Tim','Harry','Sara','David']\n",
    "some_dict = dict.fromkeys(list_of_names, 0)\n",
    "some_dict"
   ]
  },
  {
   "cell_type": "code",
   "execution_count": 68,
   "metadata": {},
   "outputs": [
    {
     "data": {
      "text/plain": [
       "{'Tim': 0, 'Harry': 0, 'Sara': 0, 'David': 0}"
      ]
     },
     "execution_count": 68,
     "metadata": {},
     "output_type": "execute_result"
    }
   ],
   "source": [
    "some_dict.setdefault('Harry',80)\n",
    "some_dict"
   ]
  },
  {
   "cell_type": "code",
   "execution_count": 69,
   "metadata": {},
   "outputs": [
    {
     "data": {
      "text/plain": [
       "{'Tim': 0, 'Harry': 0, 'Sara': 0, 'David': 0, 'Pam': 60}"
      ]
     },
     "execution_count": 69,
     "metadata": {},
     "output_type": "execute_result"
    }
   ],
   "source": [
    "some_dict.setdefault('Pam', 60)\n",
    "some_dict"
   ]
  },
  {
   "cell_type": "code",
   "execution_count": null,
   "metadata": {},
   "outputs": [],
   "source": []
  },
  {
   "cell_type": "code",
   "execution_count": null,
   "metadata": {},
   "outputs": [],
   "source": []
  },
  {
   "cell_type": "code",
   "execution_count": 61,
   "metadata": {},
   "outputs": [
    {
     "data": {
      "text/plain": [
       "{'person_1': {'name': 'John',\n",
       "  'age': 48,\n",
       "  'height': 5.8,\n",
       "  'weight': 70,\n",
       "  'qualification': 'B.E',\n",
       "  'likes': 'sports',\n",
       "  'dislikes': 'study',\n",
       "  'fav_color': 'black',\n",
       "  'hair_color': 'black'},\n",
       " 'person_2': {'name': 'Sam',\n",
       "  'age': 20,\n",
       "  'height': 6,\n",
       "  'weight': 54,\n",
       "  'qualification': 'High School',\n",
       "  'likes': 'treking',\n",
       "  'dislikes': 'Nothing',\n",
       "  'fav_color': 'green',\n",
       "  'hair_color': 'brown'},\n",
       " 'person_3': {'name': 'Rose',\n",
       "  'age': 25,\n",
       "  'height': 5.6,\n",
       "  'weight': 52,\n",
       "  'qualification': 'Phd',\n",
       "  'likes': 'reading',\n",
       "  'dislikes': 'travelling',\n",
       "  'fav_color': 'red',\n",
       "  'hair_color': 'black'}}"
      ]
     },
     "execution_count": 61,
     "metadata": {},
     "output_type": "execute_result"
    }
   ],
   "source": [
    "person_dict"
   ]
  },
  {
   "cell_type": "code",
   "execution_count": 70,
   "metadata": {
    "colab": {
     "base_uri": "https://localhost:8080/"
    },
    "executionInfo": {
     "elapsed": 488,
     "status": "ok",
     "timestamp": 1672806042842,
     "user": {
      "displayName": "naz nazira",
      "userId": "06694449877078577923"
     },
     "user_tz": -330
    },
    "id": "7R3v6QxzAZxl",
    "outputId": "77c34107-727f-4897-8927-c2e899febec8"
   },
   "outputs": [
    {
     "data": {
      "text/plain": [
       "{'person_1': {'name': 'Ashok'},\n",
       " 'person_2': {'name': 'Sam',\n",
       "  'age': 20,\n",
       "  'height': 6,\n",
       "  'weight': 54,\n",
       "  'qualification': 'High School',\n",
       "  'likes': 'treking',\n",
       "  'dislikes': 'Nothing',\n",
       "  'fav_color': 'green',\n",
       "  'hair_color': 'brown'},\n",
       " 'person_3': {'name': 'Rose',\n",
       "  'age': 25,\n",
       "  'height': 5.6,\n",
       "  'weight': 52,\n",
       "  'qualification': 'Phd',\n",
       "  'likes': 'reading',\n",
       "  'dislikes': 'travelling',\n",
       "  'fav_color': 'red',\n",
       "  'hair_color': 'black'}}"
      ]
     },
     "execution_count": 70,
     "metadata": {},
     "output_type": "execute_result"
    }
   ],
   "source": [
    "person_dict.update({'person_1' : {'name' : 'Ashok'}})\n",
    "person_dict"
   ]
  },
  {
   "cell_type": "code",
   "execution_count": null,
   "metadata": {
    "id": "mkCN-gZfchNw"
   },
   "outputs": [],
   "source": [
    "details_dict = {'name': 'John',\n",
    "                'age' : 35,\n",
    "                'dept' : 'Finance'}"
   ]
  },
  {
   "cell_type": "code",
   "execution_count": null,
   "metadata": {
    "colab": {
     "base_uri": "https://localhost:8080/"
    },
    "executionInfo": {
     "elapsed": 433,
     "status": "ok",
     "timestamp": 1672805673241,
     "user": {
      "displayName": "naz nazira",
      "userId": "06694449877078577923"
     },
     "user_tz": -330
    },
    "id": "3A50snmX_N0I",
    "outputId": "a5f73799-5b8a-41fc-fa8a-751f7e8034d5"
   },
   "outputs": [],
   "source": [
    "details_dict"
   ]
  },
  {
   "cell_type": "code",
   "execution_count": null,
   "metadata": {
    "colab": {
     "base_uri": "https://localhost:8080/"
    },
    "executionInfo": {
     "elapsed": 388,
     "status": "ok",
     "timestamp": 1672805773668,
     "user": {
      "displayName": "naz nazira",
      "userId": "06694449877078577923"
     },
     "user_tz": -330
    },
    "id": "APqiw98n_g2Z",
    "outputId": "9a9454ad-d756-4446-bc91-d05368cb53f5"
   },
   "outputs": [],
   "source": [
    "details_dict['dislikes'] = 'studying'\n",
    "details_dict"
   ]
  },
  {
   "cell_type": "code",
   "execution_count": null,
   "metadata": {
    "colab": {
     "base_uri": "https://localhost:8080/"
    },
    "executionInfo": {
     "elapsed": 1176,
     "status": "ok",
     "timestamp": 1672805965661,
     "user": {
      "displayName": "naz nazira",
      "userId": "06694449877078577923"
     },
     "user_tz": -330
    },
    "id": "QzgIxmm-_PHX",
    "outputId": "701c95dc-1ed5-450e-9a91-022d7915ede5"
   },
   "outputs": [],
   "source": [
    "details_dict.update({'likes' : 'chocholate Icecreame'})\n",
    "details_dict"
   ]
  },
  {
   "cell_type": "code",
   "execution_count": null,
   "metadata": {
    "colab": {
     "base_uri": "https://localhost:8080/"
    },
    "executionInfo": {
     "elapsed": 354,
     "status": "ok",
     "timestamp": 1672805820053,
     "user": {
      "displayName": "naz nazira",
      "userId": "06694449877078577923"
     },
     "user_tz": -330
    },
    "id": "EEqk-pe0_s-d",
    "outputId": "4d837fd8-a1d3-472d-f67b-1bd712ad2c03"
   },
   "outputs": [],
   "source": [
    "details_dict.update({'likes' : 'Biryani'})\n",
    "details_dict"
   ]
  },
  {
   "cell_type": "markdown",
   "metadata": {
    "id": "Vgfvi7_3PbDc"
   },
   "source": [
    "### setdefault()"
   ]
  },
  {
   "cell_type": "code",
   "execution_count": null,
   "metadata": {
    "colab": {
     "base_uri": "https://localhost:8080/"
    },
    "executionInfo": {
     "elapsed": 412,
     "status": "ok",
     "timestamp": 1672806166122,
     "user": {
      "displayName": "naz nazira",
      "userId": "06694449877078577923"
     },
     "user_tz": -330
    },
    "id": "e9w6MYIQBDbu",
    "outputId": "1e5cc3c7-b00a-42f8-8507-c7101be24ce2"
   },
   "outputs": [],
   "source": [
    "help(dict.setdefault)"
   ]
  },
  {
   "cell_type": "code",
   "execution_count": null,
   "metadata": {
    "colab": {
     "base_uri": "https://localhost:8080/"
    },
    "executionInfo": {
     "elapsed": 522,
     "status": "ok",
     "timestamp": 1672806255829,
     "user": {
      "displayName": "naz nazira",
      "userId": "06694449877078577923"
     },
     "user_tz": -330
    },
    "id": "xxt8y-68BT_5",
    "outputId": "c4363f38-fd12-4417-a35e-da050dc3cb79"
   },
   "outputs": [],
   "source": [
    "details_dict.setdefault('sports' , 'cricket')\n",
    "details_dict"
   ]
  },
  {
   "cell_type": "code",
   "execution_count": null,
   "metadata": {
    "colab": {
     "base_uri": "https://localhost:8080/",
     "height": 36
    },
    "executionInfo": {
     "elapsed": 411,
     "status": "ok",
     "timestamp": 1672806283332,
     "user": {
      "displayName": "naz nazira",
      "userId": "06694449877078577923"
     },
     "user_tz": -330
    },
    "id": "xmThdNLSBeFT",
    "outputId": "ee23ce7c-4b28-40b9-c86e-fd0a732c8df7"
   },
   "outputs": [],
   "source": [
    "details_dict.setdefault('name' , 'Jane')"
   ]
  },
  {
   "cell_type": "code",
   "execution_count": null,
   "metadata": {
    "colab": {
     "base_uri": "https://localhost:8080/"
    },
    "executionInfo": {
     "elapsed": 419,
     "status": "ok",
     "timestamp": 1672806296012,
     "user": {
      "displayName": "naz nazira",
      "userId": "06694449877078577923"
     },
     "user_tz": -330
    },
    "id": "aGPm8LaVBl3X",
    "outputId": "39699a2d-7bab-47f4-c73e-53880ac43a8e"
   },
   "outputs": [],
   "source": [
    "details_dict"
   ]
  },
  {
   "cell_type": "code",
   "execution_count": null,
   "metadata": {
    "colab": {
     "base_uri": "https://localhost:8080/"
    },
    "executionInfo": {
     "elapsed": 358,
     "status": "ok",
     "timestamp": 1671773274476,
     "user": {
      "displayName": "naz nazira",
      "userId": "06694449877078577923"
     },
     "user_tz": -330
    },
    "id": "KifPq69YSyZ3",
    "outputId": "d1417382-103c-4798-c3d3-fcde100bfcff"
   },
   "outputs": [],
   "source": [
    "person_dict['person_2'].setdefault(\"sports\",\"chess\")\n",
    "person_dict['person_2']"
   ]
  },
  {
   "cell_type": "code",
   "execution_count": null,
   "metadata": {
    "colab": {
     "base_uri": "https://localhost:8080/"
    },
    "executionInfo": {
     "elapsed": 565,
     "status": "ok",
     "timestamp": 1659193190906,
     "user": {
      "displayName": "naz nazira",
      "userId": "06694449877078577923"
     },
     "user_tz": -330
    },
    "id": "S0kNONe6ngQO",
    "outputId": "85ffac58-8feb-4222-adb8-8546282d2a6c"
   },
   "outputs": [],
   "source": [
    "person_dict['person_2'].setdefault(\"eye_color\",\"black\")\n",
    "person_dict['person_2']"
   ]
  },
  {
   "cell_type": "code",
   "execution_count": null,
   "metadata": {
    "id": "XHJfvLPXFUFU"
   },
   "outputs": [],
   "source": [
    "# Write a Python program to count the number of each character of a given text of a text file\n"
   ]
  },
  {
   "cell_type": "code",
   "execution_count": null,
   "metadata": {
    "id": "p8eR0ruwFUXW"
   },
   "outputs": [],
   "source": [
    "# Write a Python program to find the first appearance of the substring 'not'\n",
    "# and 'poor' from a given string, if 'not' follows the 'poor', replace the\n",
    "# whole 'not'...'poor' substring with 'good'. Return the resulting string\n"
   ]
  },
  {
   "cell_type": "code",
   "execution_count": null,
   "metadata": {
    "id": "QY23X03I6rQh"
   },
   "outputs": [],
   "source": [
    "def load():\n",
    "  pass\n",
    "\n",
    "def process():\n",
    "  pass\n",
    "\n",
    "def unload():\n",
    "  ...\n"
   ]
  },
  {
   "cell_type": "code",
   "execution_count": null,
   "metadata": {
    "id": "k_4qjxkAdHc2"
   },
   "outputs": [],
   "source": [
    "def some_function():\n",
    "  pass\n",
    "\n",
    "some_function()"
   ]
  },
  {
   "cell_type": "code",
   "execution_count": 71,
   "metadata": {},
   "outputs": [],
   "source": [
    "x = [1,2,3]\n",
    "y = x"
   ]
  },
  {
   "cell_type": "code",
   "execution_count": 72,
   "metadata": {},
   "outputs": [
    {
     "data": {
      "text/plain": [
       "([1, 2, 3], [1, 2, 3])"
      ]
     },
     "execution_count": 72,
     "metadata": {},
     "output_type": "execute_result"
    }
   ],
   "source": [
    "x, y"
   ]
  },
  {
   "cell_type": "code",
   "execution_count": 73,
   "metadata": {},
   "outputs": [
    {
     "data": {
      "text/plain": [
       "([100, 2, 3], [100, 2, 3])"
      ]
     },
     "execution_count": 73,
     "metadata": {},
     "output_type": "execute_result"
    }
   ],
   "source": [
    "y[0] = 100\n",
    "x, y"
   ]
  },
  {
   "cell_type": "code",
   "execution_count": 74,
   "metadata": {},
   "outputs": [
    {
     "data": {
      "text/plain": [
       "(2441756068096, 2441756068096)"
      ]
     },
     "execution_count": 74,
     "metadata": {},
     "output_type": "execute_result"
    }
   ],
   "source": [
    "id(x), id(y)"
   ]
  },
  {
   "cell_type": "code",
   "execution_count": 75,
   "metadata": {},
   "outputs": [],
   "source": [
    "x = [1,2,3]\n",
    "y = x.copy()"
   ]
  },
  {
   "cell_type": "code",
   "execution_count": 76,
   "metadata": {},
   "outputs": [
    {
     "data": {
      "text/plain": [
       "(2441756841664, 2441756850944)"
      ]
     },
     "execution_count": 76,
     "metadata": {},
     "output_type": "execute_result"
    }
   ],
   "source": [
    "id(x), id(y)"
   ]
  },
  {
   "cell_type": "code",
   "execution_count": 77,
   "metadata": {},
   "outputs": [
    {
     "data": {
      "text/plain": [
       "([1, 2, 3], [100, 2, 3])"
      ]
     },
     "execution_count": 77,
     "metadata": {},
     "output_type": "execute_result"
    }
   ],
   "source": [
    "y[0] = 100\n",
    "x, y"
   ]
  },
  {
   "cell_type": "code",
   "execution_count": null,
   "metadata": {},
   "outputs": [],
   "source": []
  }
 ],
 "metadata": {
  "colab": {
   "collapsed_sections": [
    "BgH0UIIGFYdz",
    "Y870IYV5CLrY",
    "NzJ1XgJJq898",
    "U-gQvJgBxox6",
    "6UAnxgNfSq_8",
    "rSbSQJHwSwE1",
    "k8vzVPClQlW0",
    "3rbSJNDRekAI",
    "jvitpdZGELcS",
    "8nAsEjgeS0E3",
    "l-O80MYZSmv9",
    "LbFg8_mPwaWF",
    "3bxcCfGJzlaH",
    "iMp3uyR0OzEl",
    "BR4gQCvPfYTe",
    "C-H7FDoIZxIA",
    "2t8QJ0BHZ5R-",
    "PMSBdeh-GwPs",
    "lQx0bB5oV_h6",
    "lgYlQP5GP4la",
    "BRhV_mMF2908",
    "Zq1H1SRz5KJZ",
    "h6f_bk0BdaSc"
   ],
   "provenance": [],
   "toc_visible": true
  },
  "kernelspec": {
   "display_name": "Python 3 (ipykernel)",
   "language": "python",
   "name": "python3"
  },
  "language_info": {
   "codemirror_mode": {
    "name": "ipython",
    "version": 3
   },
   "file_extension": ".py",
   "mimetype": "text/x-python",
   "name": "python",
   "nbconvert_exporter": "python",
   "pygments_lexer": "ipython3",
   "version": "3.12.0"
  }
 },
 "nbformat": 4,
 "nbformat_minor": 4
}
